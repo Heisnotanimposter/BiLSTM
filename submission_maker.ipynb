{
  "nbformat": 4,
  "nbformat_minor": 0,
  "metadata": {
    "colab": {
      "provenance": []
    },
    "kernelspec": {
      "name": "python3",
      "display_name": "Python 3"
    },
    "language_info": {
      "name": "python"
    }
  },
  "cells": [
    {
      "cell_type": "markdown",
      "source": [
        "Explanation\n",
        "\n",
        "\t1.\tauc_brier_ece Function: This function calculates the combined score using AUC, Brier Score, and Expected Calibration Error (ECE).\n",
        "\t2.\tevaluate_submission Function: This function loads the ground truth (answer.csv) and submission (submission.csv) files, computes the evaluation score using auc_brier_ece, and prints the score.\n",
        "\t3.\tmain_evaluation Function: This function specifies the paths for the ground truth and submission files, calls evaluate_submission, and prints the final evaluation score.\n",
        "\t4.\tCall main_evaluation: At the end of the script, main_evaluation is called to execute the evaluation.\n",
        "\n",
        "How to Use\n",
        "\n",
        "\t1.\tTrain the Model: Run the cells containing the training loop (main function).\n",
        "\t2.\tGenerate the Submission File: Run the cells containing the submission creation functions (create_submission function).\n",
        "\t3.\tEvaluate the Submission: Run the cells containing the evaluation code (main_evaluation function)."
      ],
      "metadata": {
        "id": "sEU2Y4wFci0X"
      }
    },
    {
      "cell_type": "code",
      "execution_count": 1,
      "metadata": {
        "id": "k4ByKXNtOWfK",
        "colab": {
          "base_uri": "https://localhost:8080/",
          "height": 1000
        },
        "outputId": "3197e1f5-1842-448f-ef38-0bcfd554d68b"
      },
      "outputs": [
        {
          "output_type": "stream",
          "name": "stdout",
          "text": [
            "CSV Columns: Index(['id', 'path', 'label'], dtype='object')\n",
            "         id                  path label\n",
            "0  RUNQPNJF  ./train/RUNQPNJF.ogg  real\n",
            "1  JFAWUOGJ  ./train/JFAWUOGJ.ogg  fake\n",
            "2  RDKEKEVX  ./train/RDKEKEVX.ogg  real\n",
            "3  QYHJDOFK  ./train/QYHJDOFK.ogg  real\n",
            "4  RSPQNHAO  ./train/RSPQNHAO.ogg  real\n",
            "CSV Columns: Index(['id', 'path'], dtype='object')\n",
            "           id                   path\n",
            "0  TEST_00000  ./test/TEST_00000.ogg\n",
            "1  TEST_00001  ./test/TEST_00001.ogg\n",
            "2  TEST_00002  ./test/TEST_00002.ogg\n",
            "3  TEST_00003  ./test/TEST_00003.ogg\n",
            "4  TEST_00004  ./test/TEST_00004.ogg\n"
          ]
        },
        {
          "output_type": "stream",
          "name": "stderr",
          "text": [
            "\r  0%|          | 0/50000 [00:00<?, ?it/s]"
          ]
        },
        {
          "output_type": "stream",
          "name": "stdout",
          "text": [
            "Processing file: /content/drive/MyDrive/dataset/TeamDeepwave/dataset/open/./train/TQQDZACA.ogg\n"
          ]
        },
        {
          "output_type": "stream",
          "name": "stderr",
          "text": [
            "\r  0%|          | 1/50000 [00:21<296:35:23, 21.35s/it]"
          ]
        },
        {
          "output_type": "stream",
          "name": "stdout",
          "text": [
            "Saved file: /content/drive/MyDrive/dataset/TeamDeepwave/dataset/preprocessed/train/real/TQQDZACA.png\n",
            "Processing file: /content/drive/MyDrive/dataset/TeamDeepwave/dataset/open/./train/NFPFAFHK.ogg\n"
          ]
        },
        {
          "output_type": "stream",
          "name": "stderr",
          "text": [
            "\r  0%|          | 2/50000 [00:22<128:27:56,  9.25s/it]"
          ]
        },
        {
          "output_type": "stream",
          "name": "stdout",
          "text": [
            "Saved file: /content/drive/MyDrive/dataset/TeamDeepwave/dataset/preprocessed/train/fake/NFPFAFHK.png\n",
            "Processing file: /content/drive/MyDrive/dataset/TeamDeepwave/dataset/open/./train/ALOXHEML.ogg\n"
          ]
        },
        {
          "output_type": "stream",
          "name": "stderr",
          "text": [
            "\r  0%|          | 3/50000 [00:23<75:57:28,  5.47s/it] "
          ]
        },
        {
          "output_type": "stream",
          "name": "stdout",
          "text": [
            "Saved file: /content/drive/MyDrive/dataset/TeamDeepwave/dataset/preprocessed/train/real/ALOXHEML.png\n",
            "Processing file: /content/drive/MyDrive/dataset/TeamDeepwave/dataset/open/./train/SAKGCOIB.ogg\n"
          ]
        },
        {
          "output_type": "stream",
          "name": "stderr",
          "text": [
            "\r  0%|          | 4/50000 [00:23<50:22:38,  3.63s/it]"
          ]
        },
        {
          "output_type": "stream",
          "name": "stdout",
          "text": [
            "Saved file: /content/drive/MyDrive/dataset/TeamDeepwave/dataset/preprocessed/train/fake/SAKGCOIB.png\n",
            "Processing file: /content/drive/MyDrive/dataset/TeamDeepwave/dataset/open/./train/RXEGJRXG.ogg\n"
          ]
        },
        {
          "output_type": "stream",
          "name": "stderr",
          "text": [
            "\r  0%|          | 5/50000 [00:24<35:13:41,  2.54s/it]"
          ]
        },
        {
          "output_type": "stream",
          "name": "stdout",
          "text": [
            "Saved file: /content/drive/MyDrive/dataset/TeamDeepwave/dataset/preprocessed/train/fake/RXEGJRXG.png\n",
            "Processing file: /content/drive/MyDrive/dataset/TeamDeepwave/dataset/open/./train/QZURXZAQ.ogg\n"
          ]
        },
        {
          "output_type": "stream",
          "name": "stderr",
          "text": [
            "\r  0%|          | 6/50000 [00:25<26:13:29,  1.89s/it]"
          ]
        },
        {
          "output_type": "stream",
          "name": "stdout",
          "text": [
            "Saved file: /content/drive/MyDrive/dataset/TeamDeepwave/dataset/preprocessed/train/real/QZURXZAQ.png\n",
            "Processing file: /content/drive/MyDrive/dataset/TeamDeepwave/dataset/open/./train/JHRDNBTA.ogg\n"
          ]
        },
        {
          "output_type": "stream",
          "name": "stderr",
          "text": [
            "\r  0%|          | 7/50000 [00:25<21:00:29,  1.51s/it]"
          ]
        },
        {
          "output_type": "stream",
          "name": "stdout",
          "text": [
            "Saved file: /content/drive/MyDrive/dataset/TeamDeepwave/dataset/preprocessed/train/real/JHRDNBTA.png\n",
            "Processing file: /content/drive/MyDrive/dataset/TeamDeepwave/dataset/open/./train/VQKTWFQK.ogg\n"
          ]
        },
        {
          "output_type": "stream",
          "name": "stderr",
          "text": [
            "\r  0%|          | 8/50000 [00:26<17:11:38,  1.24s/it]"
          ]
        },
        {
          "output_type": "stream",
          "name": "stdout",
          "text": [
            "Saved file: /content/drive/MyDrive/dataset/TeamDeepwave/dataset/preprocessed/train/real/VQKTWFQK.png\n",
            "Processing file: /content/drive/MyDrive/dataset/TeamDeepwave/dataset/open/./train/ECRGRNLS.ogg\n"
          ]
        },
        {
          "output_type": "stream",
          "name": "stderr",
          "text": [
            "\r  0%|          | 9/50000 [00:27<15:06:17,  1.09s/it]"
          ]
        },
        {
          "output_type": "stream",
          "name": "stdout",
          "text": [
            "Saved file: /content/drive/MyDrive/dataset/TeamDeepwave/dataset/preprocessed/train/fake/ECRGRNLS.png\n",
            "Processing file: /content/drive/MyDrive/dataset/TeamDeepwave/dataset/open/./train/YEFHXARC.ogg\n"
          ]
        },
        {
          "output_type": "stream",
          "name": "stderr",
          "text": [
            "\r  0%|          | 10/50000 [00:28<13:41:39,  1.01it/s]"
          ]
        },
        {
          "output_type": "stream",
          "name": "stdout",
          "text": [
            "Saved file: /content/drive/MyDrive/dataset/TeamDeepwave/dataset/preprocessed/train/real/YEFHXARC.png\n",
            "Processing file: /content/drive/MyDrive/dataset/TeamDeepwave/dataset/open/./train/NDCXGQXK.ogg\n"
          ]
        },
        {
          "output_type": "stream",
          "name": "stderr",
          "text": [
            "\r  0%|          | 11/50000 [00:28<12:15:32,  1.13it/s]"
          ]
        },
        {
          "output_type": "stream",
          "name": "stdout",
          "text": [
            "Saved file: /content/drive/MyDrive/dataset/TeamDeepwave/dataset/preprocessed/train/fake/NDCXGQXK.png\n",
            "Processing file: /content/drive/MyDrive/dataset/TeamDeepwave/dataset/open/./train/GZIZLJJC.ogg\n"
          ]
        },
        {
          "output_type": "stream",
          "name": "stderr",
          "text": [
            "\r  0%|          | 12/50000 [00:29<13:18:26,  1.04it/s]"
          ]
        },
        {
          "output_type": "stream",
          "name": "stdout",
          "text": [
            "Saved file: /content/drive/MyDrive/dataset/TeamDeepwave/dataset/preprocessed/train/real/GZIZLJJC.png\n",
            "Processing file: /content/drive/MyDrive/dataset/TeamDeepwave/dataset/open/./train/BGJYRYXO.ogg\n"
          ]
        },
        {
          "output_type": "stream",
          "name": "stderr",
          "text": [
            "\r  0%|          | 13/50000 [00:30<11:57:17,  1.16it/s]"
          ]
        },
        {
          "output_type": "stream",
          "name": "stdout",
          "text": [
            "Saved file: /content/drive/MyDrive/dataset/TeamDeepwave/dataset/preprocessed/train/real/BGJYRYXO.png\n",
            "Processing file: /content/drive/MyDrive/dataset/TeamDeepwave/dataset/open/./train/HQZVACVR.ogg\n"
          ]
        },
        {
          "output_type": "stream",
          "name": "stderr",
          "text": [
            "\r  0%|          | 14/50000 [00:31<11:32:54,  1.20it/s]"
          ]
        },
        {
          "output_type": "stream",
          "name": "stdout",
          "text": [
            "Saved file: /content/drive/MyDrive/dataset/TeamDeepwave/dataset/preprocessed/train/real/HQZVACVR.png\n",
            "Processing file: /content/drive/MyDrive/dataset/TeamDeepwave/dataset/open/./train/DMSTLTCG.ogg\n"
          ]
        },
        {
          "output_type": "stream",
          "name": "stderr",
          "text": [
            "\r  0%|          | 15/50000 [00:32<12:00:25,  1.16it/s]"
          ]
        },
        {
          "output_type": "stream",
          "name": "stdout",
          "text": [
            "Saved file: /content/drive/MyDrive/dataset/TeamDeepwave/dataset/preprocessed/train/real/DMSTLTCG.png\n",
            "Processing file: /content/drive/MyDrive/dataset/TeamDeepwave/dataset/open/./train/RGYPBCYI.ogg\n"
          ]
        },
        {
          "output_type": "stream",
          "name": "stderr",
          "text": [
            "\r  0%|          | 16/50000 [00:32<11:30:15,  1.21it/s]"
          ]
        },
        {
          "output_type": "stream",
          "name": "stdout",
          "text": [
            "Saved file: /content/drive/MyDrive/dataset/TeamDeepwave/dataset/preprocessed/train/real/RGYPBCYI.png\n",
            "Processing file: /content/drive/MyDrive/dataset/TeamDeepwave/dataset/open/./train/EEBFOLOB.ogg\n"
          ]
        },
        {
          "output_type": "stream",
          "name": "stderr",
          "text": [
            "\r  0%|          | 17/50000 [00:33<10:44:24,  1.29it/s]"
          ]
        },
        {
          "output_type": "stream",
          "name": "stdout",
          "text": [
            "Saved file: /content/drive/MyDrive/dataset/TeamDeepwave/dataset/preprocessed/train/fake/EEBFOLOB.png\n",
            "Processing file: /content/drive/MyDrive/dataset/TeamDeepwave/dataset/open/./train/MCPNALBW.ogg\n"
          ]
        },
        {
          "output_type": "stream",
          "name": "stderr",
          "text": [
            "\r  0%|          | 18/50000 [00:34<11:20:10,  1.22it/s]"
          ]
        },
        {
          "output_type": "stream",
          "name": "stdout",
          "text": [
            "Saved file: /content/drive/MyDrive/dataset/TeamDeepwave/dataset/preprocessed/train/fake/MCPNALBW.png\n",
            "Processing file: /content/drive/MyDrive/dataset/TeamDeepwave/dataset/open/./train/OQLDDKSS.ogg\n"
          ]
        },
        {
          "output_type": "stream",
          "name": "stderr",
          "text": [
            "\r  0%|          | 19/50000 [00:35<11:30:09,  1.21it/s]"
          ]
        },
        {
          "output_type": "stream",
          "name": "stdout",
          "text": [
            "Saved file: /content/drive/MyDrive/dataset/TeamDeepwave/dataset/preprocessed/train/fake/OQLDDKSS.png\n",
            "Processing file: /content/drive/MyDrive/dataset/TeamDeepwave/dataset/open/./train/UDLUAIJY.ogg\n"
          ]
        },
        {
          "output_type": "stream",
          "name": "stderr",
          "text": [
            "\r  0%|          | 20/50000 [00:36<12:10:20,  1.14it/s]"
          ]
        },
        {
          "output_type": "stream",
          "name": "stdout",
          "text": [
            "Saved file: /content/drive/MyDrive/dataset/TeamDeepwave/dataset/preprocessed/train/fake/UDLUAIJY.png\n",
            "Processing file: /content/drive/MyDrive/dataset/TeamDeepwave/dataset/open/./train/NNNRKLJR.ogg\n"
          ]
        },
        {
          "output_type": "stream",
          "name": "stderr",
          "text": [
            "\r  0%|          | 21/50000 [00:37<12:25:18,  1.12it/s]"
          ]
        },
        {
          "output_type": "stream",
          "name": "stdout",
          "text": [
            "Saved file: /content/drive/MyDrive/dataset/TeamDeepwave/dataset/preprocessed/train/real/NNNRKLJR.png\n",
            "Processing file: /content/drive/MyDrive/dataset/TeamDeepwave/dataset/open/./train/RYOFKKVX.ogg\n"
          ]
        },
        {
          "output_type": "stream",
          "name": "stderr",
          "text": [
            "\r  0%|          | 22/50000 [00:37<11:11:59,  1.24it/s]"
          ]
        },
        {
          "output_type": "stream",
          "name": "stdout",
          "text": [
            "Saved file: /content/drive/MyDrive/dataset/TeamDeepwave/dataset/preprocessed/train/fake/RYOFKKVX.png\n",
            "Processing file: /content/drive/MyDrive/dataset/TeamDeepwave/dataset/open/./train/FXGMLTVT.ogg\n"
          ]
        },
        {
          "output_type": "stream",
          "name": "stderr",
          "text": [
            "\r  0%|          | 23/50000 [00:38<10:50:29,  1.28it/s]"
          ]
        },
        {
          "output_type": "stream",
          "name": "stdout",
          "text": [
            "Saved file: /content/drive/MyDrive/dataset/TeamDeepwave/dataset/preprocessed/train/real/FXGMLTVT.png\n",
            "Processing file: /content/drive/MyDrive/dataset/TeamDeepwave/dataset/open/./train/JACKNQTN.ogg\n"
          ]
        },
        {
          "output_type": "stream",
          "name": "stderr",
          "text": [
            "\r  0%|          | 24/50000 [00:39<10:31:04,  1.32it/s]"
          ]
        },
        {
          "output_type": "stream",
          "name": "stdout",
          "text": [
            "Saved file: /content/drive/MyDrive/dataset/TeamDeepwave/dataset/preprocessed/train/fake/JACKNQTN.png\n",
            "Processing file: /content/drive/MyDrive/dataset/TeamDeepwave/dataset/open/./train/HVBJREOZ.ogg\n"
          ]
        },
        {
          "output_type": "stream",
          "name": "stderr",
          "text": [
            "\r  0%|          | 25/50000 [00:40<11:07:13,  1.25it/s]"
          ]
        },
        {
          "output_type": "stream",
          "name": "stdout",
          "text": [
            "Saved file: /content/drive/MyDrive/dataset/TeamDeepwave/dataset/preprocessed/train/real/HVBJREOZ.png\n",
            "Processing file: /content/drive/MyDrive/dataset/TeamDeepwave/dataset/open/./train/LKYGZMMO.ogg\n"
          ]
        },
        {
          "output_type": "stream",
          "name": "stderr",
          "text": [
            "\r  0%|          | 26/50000 [00:40<10:48:14,  1.28it/s]"
          ]
        },
        {
          "output_type": "stream",
          "name": "stdout",
          "text": [
            "Saved file: /content/drive/MyDrive/dataset/TeamDeepwave/dataset/preprocessed/train/real/LKYGZMMO.png\n",
            "Processing file: /content/drive/MyDrive/dataset/TeamDeepwave/dataset/open/./train/ZCTNFWCK.ogg\n"
          ]
        },
        {
          "output_type": "stream",
          "name": "stderr",
          "text": [
            "\r  0%|          | 27/50000 [00:41<10:20:35,  1.34it/s]"
          ]
        },
        {
          "output_type": "stream",
          "name": "stdout",
          "text": [
            "Saved file: /content/drive/MyDrive/dataset/TeamDeepwave/dataset/preprocessed/train/fake/ZCTNFWCK.png\n",
            "Processing file: /content/drive/MyDrive/dataset/TeamDeepwave/dataset/open/./train/JNKEQKGV.ogg\n"
          ]
        },
        {
          "output_type": "stream",
          "name": "stderr",
          "text": [
            "\r  0%|          | 28/50000 [00:42<10:32:33,  1.32it/s]"
          ]
        },
        {
          "output_type": "stream",
          "name": "stdout",
          "text": [
            "Saved file: /content/drive/MyDrive/dataset/TeamDeepwave/dataset/preprocessed/train/fake/JNKEQKGV.png\n",
            "Processing file: /content/drive/MyDrive/dataset/TeamDeepwave/dataset/open/./train/GXUAQJGB.ogg\n"
          ]
        },
        {
          "output_type": "stream",
          "name": "stderr",
          "text": [
            "\r  0%|          | 29/50000 [00:43<10:33:37,  1.31it/s]"
          ]
        },
        {
          "output_type": "stream",
          "name": "stdout",
          "text": [
            "Saved file: /content/drive/MyDrive/dataset/TeamDeepwave/dataset/preprocessed/train/real/GXUAQJGB.png\n",
            "Processing file: /content/drive/MyDrive/dataset/TeamDeepwave/dataset/open/./train/LHLGZQUM.ogg\n"
          ]
        },
        {
          "output_type": "stream",
          "name": "stderr",
          "text": [
            "\r  0%|          | 30/50000 [00:44<11:01:19,  1.26it/s]"
          ]
        },
        {
          "output_type": "stream",
          "name": "stdout",
          "text": [
            "Saved file: /content/drive/MyDrive/dataset/TeamDeepwave/dataset/preprocessed/train/fake/LHLGZQUM.png\n",
            "Processing file: /content/drive/MyDrive/dataset/TeamDeepwave/dataset/open/./train/GXFKFWHX.ogg\n"
          ]
        },
        {
          "output_type": "stream",
          "name": "stderr",
          "text": [
            "\r  0%|          | 31/50000 [00:44<11:41:54,  1.19it/s]"
          ]
        },
        {
          "output_type": "stream",
          "name": "stdout",
          "text": [
            "Saved file: /content/drive/MyDrive/dataset/TeamDeepwave/dataset/preprocessed/train/real/GXFKFWHX.png\n",
            "Processing file: /content/drive/MyDrive/dataset/TeamDeepwave/dataset/open/./train/LDXBMSEY.ogg\n"
          ]
        },
        {
          "output_type": "stream",
          "name": "stderr",
          "text": [
            "\r  0%|          | 32/50000 [00:45<10:48:31,  1.28it/s]"
          ]
        },
        {
          "output_type": "stream",
          "name": "stdout",
          "text": [
            "Saved file: /content/drive/MyDrive/dataset/TeamDeepwave/dataset/preprocessed/train/real/LDXBMSEY.png\n",
            "Processing file: /content/drive/MyDrive/dataset/TeamDeepwave/dataset/open/./train/BRXZDRST.ogg\n"
          ]
        },
        {
          "output_type": "stream",
          "name": "stderr",
          "text": [
            "\r  0%|          | 33/50000 [00:46<10:29:13,  1.32it/s]"
          ]
        },
        {
          "output_type": "stream",
          "name": "stdout",
          "text": [
            "Saved file: /content/drive/MyDrive/dataset/TeamDeepwave/dataset/preprocessed/train/real/BRXZDRST.png\n",
            "Processing file: /content/drive/MyDrive/dataset/TeamDeepwave/dataset/open/./train/BUZUBZHQ.ogg\n"
          ]
        },
        {
          "output_type": "stream",
          "name": "stderr",
          "text": [
            "\r  0%|          | 34/50000 [00:46<10:13:13,  1.36it/s]"
          ]
        },
        {
          "output_type": "stream",
          "name": "stdout",
          "text": [
            "Saved file: /content/drive/MyDrive/dataset/TeamDeepwave/dataset/preprocessed/train/fake/BUZUBZHQ.png\n",
            "Processing file: /content/drive/MyDrive/dataset/TeamDeepwave/dataset/open/./train/BPQLUZQG.ogg\n"
          ]
        },
        {
          "output_type": "stream",
          "name": "stderr",
          "text": [
            "\r  0%|          | 35/50000 [00:47<10:22:51,  1.34it/s]"
          ]
        },
        {
          "output_type": "stream",
          "name": "stdout",
          "text": [
            "Saved file: /content/drive/MyDrive/dataset/TeamDeepwave/dataset/preprocessed/train/fake/BPQLUZQG.png\n",
            "Processing file: /content/drive/MyDrive/dataset/TeamDeepwave/dataset/open/./train/BLCZNALA.ogg\n"
          ]
        },
        {
          "output_type": "stream",
          "name": "stderr",
          "text": [
            "\r  0%|          | 36/50000 [00:48<10:14:38,  1.35it/s]"
          ]
        },
        {
          "output_type": "stream",
          "name": "stdout",
          "text": [
            "Saved file: /content/drive/MyDrive/dataset/TeamDeepwave/dataset/preprocessed/train/fake/BLCZNALA.png\n",
            "Processing file: /content/drive/MyDrive/dataset/TeamDeepwave/dataset/open/./train/TZDIGQBK.ogg\n"
          ]
        },
        {
          "output_type": "stream",
          "name": "stderr",
          "text": [
            "\r  0%|          | 37/50000 [00:49<12:37:10,  1.10it/s]"
          ]
        },
        {
          "output_type": "stream",
          "name": "stdout",
          "text": [
            "Saved file: /content/drive/MyDrive/dataset/TeamDeepwave/dataset/preprocessed/train/real/TZDIGQBK.png\n",
            "Processing file: /content/drive/MyDrive/dataset/TeamDeepwave/dataset/open/./train/ZGNJMPHR.ogg\n"
          ]
        },
        {
          "output_type": "stream",
          "name": "stderr",
          "text": [
            "\r  0%|          | 38/50000 [00:50<12:33:08,  1.11it/s]"
          ]
        },
        {
          "output_type": "stream",
          "name": "stdout",
          "text": [
            "Saved file: /content/drive/MyDrive/dataset/TeamDeepwave/dataset/preprocessed/train/fake/ZGNJMPHR.png\n",
            "Processing file: /content/drive/MyDrive/dataset/TeamDeepwave/dataset/open/./train/VBEMHFYS.ogg\n"
          ]
        },
        {
          "output_type": "stream",
          "name": "stderr",
          "text": [
            "\r  0%|          | 39/50000 [00:51<11:39:42,  1.19it/s]"
          ]
        },
        {
          "output_type": "stream",
          "name": "stdout",
          "text": [
            "Saved file: /content/drive/MyDrive/dataset/TeamDeepwave/dataset/preprocessed/train/fake/VBEMHFYS.png\n",
            "Processing file: /content/drive/MyDrive/dataset/TeamDeepwave/dataset/open/./train/XMFKDGHV.ogg\n"
          ]
        },
        {
          "output_type": "stream",
          "name": "stderr",
          "text": [
            "\r  0%|          | 40/50000 [00:52<10:49:06,  1.28it/s]"
          ]
        },
        {
          "output_type": "stream",
          "name": "stdout",
          "text": [
            "Saved file: /content/drive/MyDrive/dataset/TeamDeepwave/dataset/preprocessed/train/fake/XMFKDGHV.png\n",
            "Processing file: /content/drive/MyDrive/dataset/TeamDeepwave/dataset/open/./train/LINWGHAP.ogg\n"
          ]
        },
        {
          "output_type": "stream",
          "name": "stderr",
          "text": [
            "\r  0%|          | 41/50000 [00:52<11:01:30,  1.26it/s]"
          ]
        },
        {
          "output_type": "stream",
          "name": "stdout",
          "text": [
            "Saved file: /content/drive/MyDrive/dataset/TeamDeepwave/dataset/preprocessed/train/real/LINWGHAP.png\n",
            "Processing file: /content/drive/MyDrive/dataset/TeamDeepwave/dataset/open/./train/KNIXNTZW.ogg\n"
          ]
        },
        {
          "output_type": "stream",
          "name": "stderr",
          "text": [
            "\r  0%|          | 42/50000 [00:53<10:31:08,  1.32it/s]"
          ]
        },
        {
          "output_type": "stream",
          "name": "stdout",
          "text": [
            "Saved file: /content/drive/MyDrive/dataset/TeamDeepwave/dataset/preprocessed/train/real/KNIXNTZW.png\n",
            "Processing file: /content/drive/MyDrive/dataset/TeamDeepwave/dataset/open/./train/YCLJVCID.ogg\n"
          ]
        },
        {
          "output_type": "stream",
          "name": "stderr",
          "text": [
            "\r  0%|          | 43/50000 [00:54<10:07:36,  1.37it/s]"
          ]
        },
        {
          "output_type": "stream",
          "name": "stdout",
          "text": [
            "Saved file: /content/drive/MyDrive/dataset/TeamDeepwave/dataset/preprocessed/train/real/YCLJVCID.png\n",
            "Processing file: /content/drive/MyDrive/dataset/TeamDeepwave/dataset/open/./train/YXKRGXHK.ogg\n"
          ]
        },
        {
          "output_type": "stream",
          "name": "stderr",
          "text": [
            "\r  0%|          | 44/50000 [00:54<9:53:28,  1.40it/s] "
          ]
        },
        {
          "output_type": "stream",
          "name": "stdout",
          "text": [
            "Saved file: /content/drive/MyDrive/dataset/TeamDeepwave/dataset/preprocessed/train/fake/YXKRGXHK.png\n",
            "Processing file: /content/drive/MyDrive/dataset/TeamDeepwave/dataset/open/./train/TORVOQIS.ogg\n"
          ]
        },
        {
          "output_type": "stream",
          "name": "stderr",
          "text": [
            "\r  0%|          | 45/50000 [00:55<10:27:24,  1.33it/s]"
          ]
        },
        {
          "output_type": "stream",
          "name": "stdout",
          "text": [
            "Saved file: /content/drive/MyDrive/dataset/TeamDeepwave/dataset/preprocessed/train/real/TORVOQIS.png\n",
            "Processing file: /content/drive/MyDrive/dataset/TeamDeepwave/dataset/open/./train/KAOTSWCB.ogg\n"
          ]
        },
        {
          "output_type": "stream",
          "name": "stderr",
          "text": [
            "\r  0%|          | 46/50000 [00:56<10:05:33,  1.37it/s]"
          ]
        },
        {
          "output_type": "stream",
          "name": "stdout",
          "text": [
            "Saved file: /content/drive/MyDrive/dataset/TeamDeepwave/dataset/preprocessed/train/fake/KAOTSWCB.png\n",
            "Processing file: /content/drive/MyDrive/dataset/TeamDeepwave/dataset/open/./train/QNWVENOC.ogg\n"
          ]
        },
        {
          "output_type": "stream",
          "name": "stderr",
          "text": [
            "\r  0%|          | 47/50000 [00:57<9:52:20,  1.41it/s] "
          ]
        },
        {
          "output_type": "stream",
          "name": "stdout",
          "text": [
            "Saved file: /content/drive/MyDrive/dataset/TeamDeepwave/dataset/preprocessed/train/fake/QNWVENOC.png\n",
            "Processing file: /content/drive/MyDrive/dataset/TeamDeepwave/dataset/open/./train/EXOMIDWN.ogg\n"
          ]
        },
        {
          "output_type": "stream",
          "name": "stderr",
          "text": [
            "\r  0%|          | 48/50000 [00:57<9:47:34,  1.42it/s]"
          ]
        },
        {
          "output_type": "stream",
          "name": "stdout",
          "text": [
            "Saved file: /content/drive/MyDrive/dataset/TeamDeepwave/dataset/preprocessed/train/fake/EXOMIDWN.png\n",
            "Processing file: /content/drive/MyDrive/dataset/TeamDeepwave/dataset/open/./train/DPCCQVJP.ogg\n"
          ]
        },
        {
          "output_type": "stream",
          "name": "stderr",
          "text": [
            "\r  0%|          | 49/50000 [00:58<9:29:23,  1.46it/s]"
          ]
        },
        {
          "output_type": "stream",
          "name": "stdout",
          "text": [
            "Saved file: /content/drive/MyDrive/dataset/TeamDeepwave/dataset/preprocessed/train/fake/DPCCQVJP.png\n",
            "Processing file: /content/drive/MyDrive/dataset/TeamDeepwave/dataset/open/./train/MKMCXLAT.ogg\n"
          ]
        },
        {
          "output_type": "stream",
          "name": "stderr",
          "text": [
            "\r  0%|          | 50/50000 [00:58<9:17:45,  1.49it/s]"
          ]
        },
        {
          "output_type": "stream",
          "name": "stdout",
          "text": [
            "Saved file: /content/drive/MyDrive/dataset/TeamDeepwave/dataset/preprocessed/train/real/MKMCXLAT.png\n",
            "Processing file: /content/drive/MyDrive/dataset/TeamDeepwave/dataset/open/./train/IYJFUQUZ.ogg\n"
          ]
        },
        {
          "output_type": "stream",
          "name": "stderr",
          "text": [
            "\r  0%|          | 51/50000 [00:59<9:15:12,  1.50it/s]"
          ]
        },
        {
          "output_type": "stream",
          "name": "stdout",
          "text": [
            "Saved file: /content/drive/MyDrive/dataset/TeamDeepwave/dataset/preprocessed/train/fake/IYJFUQUZ.png\n",
            "Processing file: /content/drive/MyDrive/dataset/TeamDeepwave/dataset/open/./train/GSRBWZHT.ogg\n"
          ]
        },
        {
          "output_type": "stream",
          "name": "stderr",
          "text": [
            "\r  0%|          | 52/50000 [01:00<9:22:57,  1.48it/s]"
          ]
        },
        {
          "output_type": "stream",
          "name": "stdout",
          "text": [
            "Saved file: /content/drive/MyDrive/dataset/TeamDeepwave/dataset/preprocessed/train/fake/GSRBWZHT.png\n",
            "Processing file: /content/drive/MyDrive/dataset/TeamDeepwave/dataset/open/./train/MKLGLPAA.ogg\n"
          ]
        },
        {
          "output_type": "stream",
          "name": "stderr",
          "text": [
            "\r  0%|          | 53/50000 [01:01<10:13:52,  1.36it/s]"
          ]
        },
        {
          "output_type": "stream",
          "name": "stdout",
          "text": [
            "Saved file: /content/drive/MyDrive/dataset/TeamDeepwave/dataset/preprocessed/train/real/MKLGLPAA.png\n",
            "Processing file: /content/drive/MyDrive/dataset/TeamDeepwave/dataset/open/./train/SZBELAXY.ogg\n"
          ]
        },
        {
          "output_type": "stream",
          "name": "stderr",
          "text": [
            "\r  0%|          | 54/50000 [01:02<10:28:50,  1.32it/s]"
          ]
        },
        {
          "output_type": "stream",
          "name": "stdout",
          "text": [
            "Saved file: /content/drive/MyDrive/dataset/TeamDeepwave/dataset/preprocessed/train/real/SZBELAXY.png\n",
            "Processing file: /content/drive/MyDrive/dataset/TeamDeepwave/dataset/open/./train/VEMMQYZU.ogg\n"
          ]
        },
        {
          "output_type": "stream",
          "name": "stderr",
          "text": [
            "\r  0%|          | 55/50000 [01:02<10:14:31,  1.35it/s]"
          ]
        },
        {
          "output_type": "stream",
          "name": "stdout",
          "text": [
            "Saved file: /content/drive/MyDrive/dataset/TeamDeepwave/dataset/preprocessed/train/fake/VEMMQYZU.png\n",
            "Processing file: /content/drive/MyDrive/dataset/TeamDeepwave/dataset/open/./train/JLVCNZRO.ogg\n"
          ]
        },
        {
          "output_type": "stream",
          "name": "stderr",
          "text": [
            "\r  0%|          | 56/50000 [01:03<11:28:30,  1.21it/s]"
          ]
        },
        {
          "output_type": "stream",
          "name": "stdout",
          "text": [
            "Saved file: /content/drive/MyDrive/dataset/TeamDeepwave/dataset/preprocessed/train/real/JLVCNZRO.png\n",
            "Processing file: /content/drive/MyDrive/dataset/TeamDeepwave/dataset/open/./train/IJZXTNRQ.ogg\n"
          ]
        },
        {
          "output_type": "stream",
          "name": "stderr",
          "text": [
            "\r  0%|          | 57/50000 [01:04<11:13:39,  1.24it/s]"
          ]
        },
        {
          "output_type": "stream",
          "name": "stdout",
          "text": [
            "Saved file: /content/drive/MyDrive/dataset/TeamDeepwave/dataset/preprocessed/train/fake/IJZXTNRQ.png\n",
            "Processing file: /content/drive/MyDrive/dataset/TeamDeepwave/dataset/open/./train/PKWVFVER.ogg\n"
          ]
        },
        {
          "output_type": "stream",
          "name": "stderr",
          "text": [
            "\r  0%|          | 58/50000 [01:05<10:28:43,  1.32it/s]"
          ]
        },
        {
          "output_type": "stream",
          "name": "stdout",
          "text": [
            "Saved file: /content/drive/MyDrive/dataset/TeamDeepwave/dataset/preprocessed/train/fake/PKWVFVER.png\n",
            "Processing file: /content/drive/MyDrive/dataset/TeamDeepwave/dataset/open/./train/LDDDDQZG.ogg\n"
          ]
        },
        {
          "output_type": "stream",
          "name": "stderr",
          "text": [
            "\r  0%|          | 59/50000 [01:05<9:53:36,  1.40it/s] "
          ]
        },
        {
          "output_type": "stream",
          "name": "stdout",
          "text": [
            "Saved file: /content/drive/MyDrive/dataset/TeamDeepwave/dataset/preprocessed/train/real/LDDDDQZG.png\n",
            "Processing file: /content/drive/MyDrive/dataset/TeamDeepwave/dataset/open/./train/TDHCDUPN.ogg\n"
          ]
        },
        {
          "output_type": "stream",
          "name": "stderr",
          "text": [
            "\r  0%|          | 60/50000 [01:06<9:21:28,  1.48it/s]"
          ]
        },
        {
          "output_type": "stream",
          "name": "stdout",
          "text": [
            "Saved file: /content/drive/MyDrive/dataset/TeamDeepwave/dataset/preprocessed/train/fake/TDHCDUPN.png\n",
            "Processing file: /content/drive/MyDrive/dataset/TeamDeepwave/dataset/open/./train/UKAECRBG.ogg\n"
          ]
        },
        {
          "output_type": "stream",
          "name": "stderr",
          "text": [
            "\r  0%|          | 61/50000 [01:07<9:26:14,  1.47it/s]"
          ]
        },
        {
          "output_type": "stream",
          "name": "stdout",
          "text": [
            "Saved file: /content/drive/MyDrive/dataset/TeamDeepwave/dataset/preprocessed/train/fake/UKAECRBG.png\n",
            "Processing file: /content/drive/MyDrive/dataset/TeamDeepwave/dataset/open/./train/LDSDUUXC.ogg\n"
          ]
        },
        {
          "output_type": "stream",
          "name": "stderr",
          "text": [
            "\r  0%|          | 62/50000 [01:07<9:16:43,  1.49it/s]"
          ]
        },
        {
          "output_type": "stream",
          "name": "stdout",
          "text": [
            "Saved file: /content/drive/MyDrive/dataset/TeamDeepwave/dataset/preprocessed/train/real/LDSDUUXC.png\n",
            "Processing file: /content/drive/MyDrive/dataset/TeamDeepwave/dataset/open/./train/NARUEVPI.ogg\n"
          ]
        },
        {
          "output_type": "stream",
          "name": "stderr",
          "text": [
            "\r  0%|          | 63/50000 [01:08<9:16:32,  1.50it/s]"
          ]
        },
        {
          "output_type": "stream",
          "name": "stdout",
          "text": [
            "Saved file: /content/drive/MyDrive/dataset/TeamDeepwave/dataset/preprocessed/train/real/NARUEVPI.png\n",
            "Processing file: /content/drive/MyDrive/dataset/TeamDeepwave/dataset/open/./train/UPMFPNDJ.ogg\n"
          ]
        },
        {
          "output_type": "stream",
          "name": "stderr",
          "text": [
            "\r  0%|          | 64/50000 [01:09<9:30:08,  1.46it/s]"
          ]
        },
        {
          "output_type": "stream",
          "name": "stdout",
          "text": [
            "Saved file: /content/drive/MyDrive/dataset/TeamDeepwave/dataset/preprocessed/train/fake/UPMFPNDJ.png\n",
            "Processing file: /content/drive/MyDrive/dataset/TeamDeepwave/dataset/open/./train/NSQBQMNF.ogg\n"
          ]
        },
        {
          "output_type": "stream",
          "name": "stderr",
          "text": [
            "\r  0%|          | 65/50000 [01:09<9:23:40,  1.48it/s]"
          ]
        },
        {
          "output_type": "stream",
          "name": "stdout",
          "text": [
            "Saved file: /content/drive/MyDrive/dataset/TeamDeepwave/dataset/preprocessed/train/real/NSQBQMNF.png\n",
            "Processing file: /content/drive/MyDrive/dataset/TeamDeepwave/dataset/open/./train/CUPOVIDM.ogg\n"
          ]
        },
        {
          "output_type": "stream",
          "name": "stderr",
          "text": [
            "\r  0%|          | 66/50000 [01:10<11:11:24,  1.24it/s]"
          ]
        },
        {
          "output_type": "stream",
          "name": "stdout",
          "text": [
            "Saved file: /content/drive/MyDrive/dataset/TeamDeepwave/dataset/preprocessed/train/fake/CUPOVIDM.png\n",
            "Processing file: /content/drive/MyDrive/dataset/TeamDeepwave/dataset/open/./train/HEBAWTLO.ogg\n"
          ]
        },
        {
          "output_type": "stream",
          "name": "stderr",
          "text": [
            "\r  0%|          | 67/50000 [01:11<10:40:14,  1.30it/s]"
          ]
        },
        {
          "output_type": "stream",
          "name": "stdout",
          "text": [
            "Saved file: /content/drive/MyDrive/dataset/TeamDeepwave/dataset/preprocessed/train/real/HEBAWTLO.png\n",
            "Processing file: /content/drive/MyDrive/dataset/TeamDeepwave/dataset/open/./train/QBBELXAP.ogg\n"
          ]
        },
        {
          "output_type": "stream",
          "name": "stderr",
          "text": [
            "\r  0%|          | 68/50000 [01:12<10:02:44,  1.38it/s]"
          ]
        },
        {
          "output_type": "stream",
          "name": "stdout",
          "text": [
            "Saved file: /content/drive/MyDrive/dataset/TeamDeepwave/dataset/preprocessed/train/fake/QBBELXAP.png\n",
            "Processing file: /content/drive/MyDrive/dataset/TeamDeepwave/dataset/open/./train/ZPYBQTCL.ogg\n"
          ]
        },
        {
          "output_type": "stream",
          "name": "stderr",
          "text": [
            "\r  0%|          | 69/50000 [01:12<9:33:13,  1.45it/s] "
          ]
        },
        {
          "output_type": "stream",
          "name": "stdout",
          "text": [
            "Saved file: /content/drive/MyDrive/dataset/TeamDeepwave/dataset/preprocessed/train/fake/ZPYBQTCL.png\n",
            "Processing file: /content/drive/MyDrive/dataset/TeamDeepwave/dataset/open/./train/OGPSGYQJ.ogg\n"
          ]
        },
        {
          "output_type": "stream",
          "name": "stderr",
          "text": [
            "\r  0%|          | 70/50000 [01:13<9:35:38,  1.45it/s]"
          ]
        },
        {
          "output_type": "stream",
          "name": "stdout",
          "text": [
            "Saved file: /content/drive/MyDrive/dataset/TeamDeepwave/dataset/preprocessed/train/fake/OGPSGYQJ.png\n",
            "Processing file: /content/drive/MyDrive/dataset/TeamDeepwave/dataset/open/./train/PKBLZAUU.ogg\n"
          ]
        },
        {
          "output_type": "stream",
          "name": "stderr",
          "text": [
            "\r  0%|          | 71/50000 [01:14<9:48:30,  1.41it/s]"
          ]
        },
        {
          "output_type": "stream",
          "name": "stdout",
          "text": [
            "Saved file: /content/drive/MyDrive/dataset/TeamDeepwave/dataset/preprocessed/train/fake/PKBLZAUU.png\n",
            "Processing file: /content/drive/MyDrive/dataset/TeamDeepwave/dataset/open/./train/OOAPCZIN.ogg\n"
          ]
        },
        {
          "output_type": "stream",
          "name": "stderr",
          "text": [
            "\r  0%|          | 72/50000 [01:15<10:39:38,  1.30it/s]"
          ]
        },
        {
          "output_type": "stream",
          "name": "stdout",
          "text": [
            "Saved file: /content/drive/MyDrive/dataset/TeamDeepwave/dataset/preprocessed/train/real/OOAPCZIN.png\n",
            "Processing file: /content/drive/MyDrive/dataset/TeamDeepwave/dataset/open/./train/EIPCSPNW.ogg\n"
          ]
        },
        {
          "output_type": "stream",
          "name": "stderr",
          "text": [
            "\r  0%|          | 73/50000 [01:16<12:01:16,  1.15it/s]"
          ]
        },
        {
          "output_type": "stream",
          "name": "stdout",
          "text": [
            "Saved file: /content/drive/MyDrive/dataset/TeamDeepwave/dataset/preprocessed/train/real/EIPCSPNW.png\n",
            "Processing file: /content/drive/MyDrive/dataset/TeamDeepwave/dataset/open/./train/GPQSPJEW.ogg\n"
          ]
        },
        {
          "output_type": "stream",
          "name": "stderr",
          "text": [
            "\r  0%|          | 74/50000 [01:17<12:09:35,  1.14it/s]"
          ]
        },
        {
          "output_type": "stream",
          "name": "stdout",
          "text": [
            "Saved file: /content/drive/MyDrive/dataset/TeamDeepwave/dataset/preprocessed/train/fake/GPQSPJEW.png\n",
            "Processing file: /content/drive/MyDrive/dataset/TeamDeepwave/dataset/open/./train/SZIYPAKT.ogg\n"
          ]
        },
        {
          "output_type": "stream",
          "name": "stderr",
          "text": [
            "\r  0%|          | 75/50000 [01:18<12:32:02,  1.11it/s]"
          ]
        },
        {
          "output_type": "stream",
          "name": "stdout",
          "text": [
            "Saved file: /content/drive/MyDrive/dataset/TeamDeepwave/dataset/preprocessed/train/real/SZIYPAKT.png\n",
            "Processing file: /content/drive/MyDrive/dataset/TeamDeepwave/dataset/open/./train/UYINDMIY.ogg\n"
          ]
        },
        {
          "output_type": "stream",
          "name": "stderr",
          "text": [
            "\r  0%|          | 76/50000 [01:18<11:33:17,  1.20it/s]"
          ]
        },
        {
          "output_type": "stream",
          "name": "stdout",
          "text": [
            "Saved file: /content/drive/MyDrive/dataset/TeamDeepwave/dataset/preprocessed/train/fake/UYINDMIY.png\n",
            "Processing file: /content/drive/MyDrive/dataset/TeamDeepwave/dataset/open/./train/NDVUIITO.ogg\n"
          ]
        },
        {
          "output_type": "stream",
          "name": "stderr",
          "text": [
            "\r  0%|          | 77/50000 [01:19<11:14:33,  1.23it/s]"
          ]
        },
        {
          "output_type": "stream",
          "name": "stdout",
          "text": [
            "Saved file: /content/drive/MyDrive/dataset/TeamDeepwave/dataset/preprocessed/train/fake/NDVUIITO.png\n",
            "Processing file: /content/drive/MyDrive/dataset/TeamDeepwave/dataset/open/./train/JYCDUIFX.ogg\n"
          ]
        },
        {
          "output_type": "stream",
          "name": "stderr",
          "text": [
            "\r  0%|          | 78/50000 [01:20<10:21:48,  1.34it/s]"
          ]
        },
        {
          "output_type": "stream",
          "name": "stdout",
          "text": [
            "Saved file: /content/drive/MyDrive/dataset/TeamDeepwave/dataset/preprocessed/train/fake/JYCDUIFX.png\n",
            "Processing file: /content/drive/MyDrive/dataset/TeamDeepwave/dataset/open/./train/UGBETGSF.ogg\n"
          ]
        },
        {
          "output_type": "stream",
          "name": "stderr",
          "text": [
            "\r  0%|          | 79/50000 [01:20<9:49:01,  1.41it/s] "
          ]
        },
        {
          "output_type": "stream",
          "name": "stdout",
          "text": [
            "Saved file: /content/drive/MyDrive/dataset/TeamDeepwave/dataset/preprocessed/train/real/UGBETGSF.png\n",
            "Processing file: /content/drive/MyDrive/dataset/TeamDeepwave/dataset/open/./train/NRZXZQIE.ogg\n"
          ]
        },
        {
          "output_type": "stream",
          "name": "stderr",
          "text": [
            "\r  0%|          | 80/50000 [01:21<10:03:34,  1.38it/s]"
          ]
        },
        {
          "output_type": "stream",
          "name": "stdout",
          "text": [
            "Saved file: /content/drive/MyDrive/dataset/TeamDeepwave/dataset/preprocessed/train/real/NRZXZQIE.png\n",
            "Processing file: /content/drive/MyDrive/dataset/TeamDeepwave/dataset/open/./train/TLOYYEJY.ogg\n"
          ]
        },
        {
          "output_type": "stream",
          "name": "stderr",
          "text": [
            "\r  0%|          | 81/50000 [01:22<10:09:41,  1.36it/s]"
          ]
        },
        {
          "output_type": "stream",
          "name": "stdout",
          "text": [
            "Saved file: /content/drive/MyDrive/dataset/TeamDeepwave/dataset/preprocessed/train/real/TLOYYEJY.png\n",
            "Processing file: /content/drive/MyDrive/dataset/TeamDeepwave/dataset/open/./train/JDWUJUMF.ogg\n"
          ]
        },
        {
          "output_type": "stream",
          "name": "stderr",
          "text": [
            "\r  0%|          | 82/50000 [01:22<10:11:23,  1.36it/s]"
          ]
        },
        {
          "output_type": "stream",
          "name": "stdout",
          "text": [
            "Saved file: /content/drive/MyDrive/dataset/TeamDeepwave/dataset/preprocessed/train/fake/JDWUJUMF.png\n",
            "Processing file: /content/drive/MyDrive/dataset/TeamDeepwave/dataset/open/./train/GQMFGEFL.ogg\n"
          ]
        },
        {
          "output_type": "stream",
          "name": "stderr",
          "text": [
            "\r  0%|          | 83/50000 [01:23<9:35:29,  1.45it/s] "
          ]
        },
        {
          "output_type": "stream",
          "name": "stdout",
          "text": [
            "Saved file: /content/drive/MyDrive/dataset/TeamDeepwave/dataset/preprocessed/train/fake/GQMFGEFL.png\n",
            "Processing file: /content/drive/MyDrive/dataset/TeamDeepwave/dataset/open/./train/UYCDBVCL.ogg\n"
          ]
        },
        {
          "output_type": "stream",
          "name": "stderr",
          "text": [
            "\r  0%|          | 84/50000 [01:24<9:21:19,  1.48it/s]"
          ]
        },
        {
          "output_type": "stream",
          "name": "stdout",
          "text": [
            "Saved file: /content/drive/MyDrive/dataset/TeamDeepwave/dataset/preprocessed/train/fake/UYCDBVCL.png\n",
            "Processing file: /content/drive/MyDrive/dataset/TeamDeepwave/dataset/open/./train/GEUMWSVL.ogg\n"
          ]
        },
        {
          "output_type": "stream",
          "name": "stderr",
          "text": [
            "\r  0%|          | 85/50000 [01:24<9:38:36,  1.44it/s]"
          ]
        },
        {
          "output_type": "stream",
          "name": "stdout",
          "text": [
            "Saved file: /content/drive/MyDrive/dataset/TeamDeepwave/dataset/preprocessed/train/real/GEUMWSVL.png\n",
            "Processing file: /content/drive/MyDrive/dataset/TeamDeepwave/dataset/open/./train/VCVMKQPK.ogg\n"
          ]
        },
        {
          "output_type": "stream",
          "name": "stderr",
          "text": [
            "\r  0%|          | 86/50000 [01:25<9:35:07,  1.45it/s]"
          ]
        },
        {
          "output_type": "stream",
          "name": "stdout",
          "text": [
            "Saved file: /content/drive/MyDrive/dataset/TeamDeepwave/dataset/preprocessed/train/real/VCVMKQPK.png\n",
            "Processing file: /content/drive/MyDrive/dataset/TeamDeepwave/dataset/open/./train/CFTMFBAV.ogg\n"
          ]
        },
        {
          "output_type": "stream",
          "name": "stderr",
          "text": [
            "\r  0%|          | 87/50000 [01:26<9:23:58,  1.48it/s]"
          ]
        },
        {
          "output_type": "stream",
          "name": "stdout",
          "text": [
            "Saved file: /content/drive/MyDrive/dataset/TeamDeepwave/dataset/preprocessed/train/fake/CFTMFBAV.png\n",
            "Processing file: /content/drive/MyDrive/dataset/TeamDeepwave/dataset/open/./train/CZGNMUYX.ogg\n"
          ]
        },
        {
          "output_type": "stream",
          "name": "stderr",
          "text": [
            "\r  0%|          | 88/50000 [01:26<9:23:25,  1.48it/s]"
          ]
        },
        {
          "output_type": "stream",
          "name": "stdout",
          "text": [
            "Saved file: /content/drive/MyDrive/dataset/TeamDeepwave/dataset/preprocessed/train/real/CZGNMUYX.png\n",
            "Processing file: /content/drive/MyDrive/dataset/TeamDeepwave/dataset/open/./train/UQQGCKPX.ogg\n"
          ]
        },
        {
          "output_type": "stream",
          "name": "stderr",
          "text": [
            "\r  0%|          | 89/50000 [01:27<9:11:37,  1.51it/s]"
          ]
        },
        {
          "output_type": "stream",
          "name": "stdout",
          "text": [
            "Saved file: /content/drive/MyDrive/dataset/TeamDeepwave/dataset/preprocessed/train/fake/UQQGCKPX.png\n",
            "Processing file: /content/drive/MyDrive/dataset/TeamDeepwave/dataset/open/./train/YHOZSHVG.ogg\n"
          ]
        },
        {
          "output_type": "stream",
          "name": "stderr",
          "text": [
            "\r  0%|          | 90/50000 [01:28<8:59:55,  1.54it/s]"
          ]
        },
        {
          "output_type": "stream",
          "name": "stdout",
          "text": [
            "Saved file: /content/drive/MyDrive/dataset/TeamDeepwave/dataset/preprocessed/train/real/YHOZSHVG.png\n",
            "Processing file: /content/drive/MyDrive/dataset/TeamDeepwave/dataset/open/./train/APITRLBF.ogg\n"
          ]
        },
        {
          "output_type": "stream",
          "name": "stderr",
          "text": [
            "\r  0%|          | 91/50000 [01:29<10:24:32,  1.33it/s]"
          ]
        },
        {
          "output_type": "stream",
          "name": "stdout",
          "text": [
            "Saved file: /content/drive/MyDrive/dataset/TeamDeepwave/dataset/preprocessed/train/real/APITRLBF.png\n",
            "Processing file: /content/drive/MyDrive/dataset/TeamDeepwave/dataset/open/./train/IDMPMISN.ogg\n"
          ]
        },
        {
          "output_type": "stream",
          "name": "stderr",
          "text": [
            "\r  0%|          | 92/50000 [01:30<10:46:03,  1.29it/s]"
          ]
        },
        {
          "output_type": "stream",
          "name": "stdout",
          "text": [
            "Saved file: /content/drive/MyDrive/dataset/TeamDeepwave/dataset/preprocessed/train/real/IDMPMISN.png\n",
            "Processing file: /content/drive/MyDrive/dataset/TeamDeepwave/dataset/open/./train/DEGRBCFU.ogg\n"
          ]
        },
        {
          "output_type": "stream",
          "name": "stderr",
          "text": [
            "\r  0%|          | 93/50000 [01:30<11:21:45,  1.22it/s]"
          ]
        },
        {
          "output_type": "stream",
          "name": "stdout",
          "text": [
            "Saved file: /content/drive/MyDrive/dataset/TeamDeepwave/dataset/preprocessed/train/fake/DEGRBCFU.png\n",
            "Processing file: /content/drive/MyDrive/dataset/TeamDeepwave/dataset/open/./train/WATNTZPN.ogg\n"
          ]
        },
        {
          "output_type": "stream",
          "name": "stderr",
          "text": [
            "\r  0%|          | 94/50000 [01:31<11:38:07,  1.19it/s]"
          ]
        },
        {
          "output_type": "stream",
          "name": "stdout",
          "text": [
            "Saved file: /content/drive/MyDrive/dataset/TeamDeepwave/dataset/preprocessed/train/real/WATNTZPN.png\n",
            "Processing file: /content/drive/MyDrive/dataset/TeamDeepwave/dataset/open/./train/UQIMNGWW.ogg\n"
          ]
        },
        {
          "output_type": "stream",
          "name": "stderr",
          "text": [
            "\r  0%|          | 95/50000 [01:32<11:06:34,  1.25it/s]"
          ]
        },
        {
          "output_type": "stream",
          "name": "stdout",
          "text": [
            "Saved file: /content/drive/MyDrive/dataset/TeamDeepwave/dataset/preprocessed/train/real/UQIMNGWW.png\n",
            "Processing file: /content/drive/MyDrive/dataset/TeamDeepwave/dataset/open/./train/BYPVDVCD.ogg\n"
          ]
        },
        {
          "output_type": "stream",
          "name": "stderr",
          "text": [
            "\r  0%|          | 96/50000 [01:33<10:59:36,  1.26it/s]"
          ]
        },
        {
          "output_type": "stream",
          "name": "stdout",
          "text": [
            "Saved file: /content/drive/MyDrive/dataset/TeamDeepwave/dataset/preprocessed/train/fake/BYPVDVCD.png\n",
            "Processing file: /content/drive/MyDrive/dataset/TeamDeepwave/dataset/open/./train/YQTRZHJN.ogg\n"
          ]
        },
        {
          "output_type": "stream",
          "name": "stderr",
          "text": [
            "\r  0%|          | 97/50000 [01:33<10:14:44,  1.35it/s]"
          ]
        },
        {
          "output_type": "stream",
          "name": "stdout",
          "text": [
            "Saved file: /content/drive/MyDrive/dataset/TeamDeepwave/dataset/preprocessed/train/real/YQTRZHJN.png\n",
            "Processing file: /content/drive/MyDrive/dataset/TeamDeepwave/dataset/open/./train/TFPKKLBA.ogg\n"
          ]
        },
        {
          "output_type": "stream",
          "name": "stderr",
          "text": [
            "\r  0%|          | 98/50000 [01:34<10:20:29,  1.34it/s]"
          ]
        },
        {
          "output_type": "stream",
          "name": "stdout",
          "text": [
            "Saved file: /content/drive/MyDrive/dataset/TeamDeepwave/dataset/preprocessed/train/real/TFPKKLBA.png\n",
            "Processing file: /content/drive/MyDrive/dataset/TeamDeepwave/dataset/open/./train/XFBIOBEH.ogg\n"
          ]
        },
        {
          "output_type": "stream",
          "name": "stderr",
          "text": [
            "\r  0%|          | 99/50000 [01:35<10:15:21,  1.35it/s]"
          ]
        },
        {
          "output_type": "stream",
          "name": "stdout",
          "text": [
            "Saved file: /content/drive/MyDrive/dataset/TeamDeepwave/dataset/preprocessed/train/fake/XFBIOBEH.png\n",
            "Processing file: /content/drive/MyDrive/dataset/TeamDeepwave/dataset/open/./train/XEGRYVBC.ogg\n"
          ]
        },
        {
          "output_type": "stream",
          "name": "stderr",
          "text": [
            "\r  0%|          | 100/50000 [01:36<10:14:40,  1.35it/s]"
          ]
        },
        {
          "output_type": "stream",
          "name": "stdout",
          "text": [
            "Saved file: /content/drive/MyDrive/dataset/TeamDeepwave/dataset/preprocessed/train/fake/XEGRYVBC.png\n",
            "Processing file: /content/drive/MyDrive/dataset/TeamDeepwave/dataset/open/./train/NAKMXFHI.ogg\n"
          ]
        },
        {
          "output_type": "stream",
          "name": "stderr",
          "text": [
            "\r  0%|          | 101/50000 [01:36<9:51:53,  1.41it/s] "
          ]
        },
        {
          "output_type": "stream",
          "name": "stdout",
          "text": [
            "Saved file: /content/drive/MyDrive/dataset/TeamDeepwave/dataset/preprocessed/train/real/NAKMXFHI.png\n",
            "Processing file: /content/drive/MyDrive/dataset/TeamDeepwave/dataset/open/./train/RQVBUOFM.ogg\n"
          ]
        },
        {
          "output_type": "stream",
          "name": "stderr",
          "text": [
            "\r  0%|          | 102/50000 [01:37<9:48:25,  1.41it/s]"
          ]
        },
        {
          "output_type": "stream",
          "name": "stdout",
          "text": [
            "Saved file: /content/drive/MyDrive/dataset/TeamDeepwave/dataset/preprocessed/train/real/RQVBUOFM.png\n",
            "Processing file: /content/drive/MyDrive/dataset/TeamDeepwave/dataset/open/./train/LJSBNLVE.ogg\n"
          ]
        },
        {
          "output_type": "stream",
          "name": "stderr",
          "text": [
            "\r  0%|          | 103/50000 [01:38<12:28:30,  1.11it/s]"
          ]
        },
        {
          "output_type": "stream",
          "name": "stdout",
          "text": [
            "Saved file: /content/drive/MyDrive/dataset/TeamDeepwave/dataset/preprocessed/train/real/LJSBNLVE.png\n",
            "Processing file: /content/drive/MyDrive/dataset/TeamDeepwave/dataset/open/./train/CVUYHALN.ogg\n"
          ]
        },
        {
          "output_type": "stream",
          "name": "stderr",
          "text": [
            "\r  0%|          | 104/50000 [01:39<12:10:45,  1.14it/s]"
          ]
        },
        {
          "output_type": "stream",
          "name": "stdout",
          "text": [
            "Saved file: /content/drive/MyDrive/dataset/TeamDeepwave/dataset/preprocessed/train/real/CVUYHALN.png\n",
            "Processing file: /content/drive/MyDrive/dataset/TeamDeepwave/dataset/open/./train/PNREVTCK.ogg\n"
          ]
        },
        {
          "output_type": "stream",
          "name": "stderr",
          "text": [
            "\r  0%|          | 105/50000 [01:40<11:19:09,  1.22it/s]"
          ]
        },
        {
          "output_type": "stream",
          "name": "stdout",
          "text": [
            "Saved file: /content/drive/MyDrive/dataset/TeamDeepwave/dataset/preprocessed/train/real/PNREVTCK.png\n",
            "Processing file: /content/drive/MyDrive/dataset/TeamDeepwave/dataset/open/./train/PTHSLBUS.ogg\n"
          ]
        },
        {
          "output_type": "stream",
          "name": "stderr",
          "text": [
            "\r  0%|          | 106/50000 [01:41<10:59:19,  1.26it/s]"
          ]
        },
        {
          "output_type": "stream",
          "name": "stdout",
          "text": [
            "Saved file: /content/drive/MyDrive/dataset/TeamDeepwave/dataset/preprocessed/train/real/PTHSLBUS.png\n",
            "Processing file: /content/drive/MyDrive/dataset/TeamDeepwave/dataset/open/./train/XHCNYLWM.ogg\n"
          ]
        },
        {
          "output_type": "stream",
          "name": "stderr",
          "text": [
            "\r  0%|          | 107/50000 [01:41<10:10:14,  1.36it/s]"
          ]
        },
        {
          "output_type": "stream",
          "name": "stdout",
          "text": [
            "Saved file: /content/drive/MyDrive/dataset/TeamDeepwave/dataset/preprocessed/train/real/XHCNYLWM.png\n",
            "Processing file: /content/drive/MyDrive/dataset/TeamDeepwave/dataset/open/./train/SBVWOVNG.ogg\n"
          ]
        },
        {
          "output_type": "stream",
          "name": "stderr",
          "text": [
            "\r  0%|          | 108/50000 [01:42<9:45:30,  1.42it/s] "
          ]
        },
        {
          "output_type": "stream",
          "name": "stdout",
          "text": [
            "Saved file: /content/drive/MyDrive/dataset/TeamDeepwave/dataset/preprocessed/train/fake/SBVWOVNG.png\n",
            "Processing file: /content/drive/MyDrive/dataset/TeamDeepwave/dataset/open/./train/TYMVCDOP.ogg\n"
          ]
        },
        {
          "output_type": "stream",
          "name": "stderr",
          "text": [
            "\r  0%|          | 109/50000 [01:44<16:21:34,  1.18s/it]"
          ]
        },
        {
          "output_type": "stream",
          "name": "stdout",
          "text": [
            "Saved file: /content/drive/MyDrive/dataset/TeamDeepwave/dataset/preprocessed/train/real/TYMVCDOP.png\n",
            "Processing file: /content/drive/MyDrive/dataset/TeamDeepwave/dataset/open/./train/YNBDZHXX.ogg\n"
          ]
        },
        {
          "output_type": "stream",
          "name": "stderr",
          "text": [
            "\r  0%|          | 110/50000 [01:46<19:04:17,  1.38s/it]"
          ]
        },
        {
          "output_type": "stream",
          "name": "stdout",
          "text": [
            "Saved file: /content/drive/MyDrive/dataset/TeamDeepwave/dataset/preprocessed/train/fake/YNBDZHXX.png\n",
            "Processing file: /content/drive/MyDrive/dataset/TeamDeepwave/dataset/open/./train/OYCBIWRJ.ogg\n"
          ]
        },
        {
          "output_type": "stream",
          "name": "stderr",
          "text": [
            "\r  0%|          | 111/50000 [01:47<16:41:37,  1.20s/it]"
          ]
        },
        {
          "output_type": "stream",
          "name": "stdout",
          "text": [
            "Saved file: /content/drive/MyDrive/dataset/TeamDeepwave/dataset/preprocessed/train/real/OYCBIWRJ.png\n",
            "Processing file: /content/drive/MyDrive/dataset/TeamDeepwave/dataset/open/./train/LBCHYOUM.ogg\n"
          ]
        },
        {
          "output_type": "stream",
          "name": "stderr",
          "text": [
            "\r  0%|          | 112/50000 [01:48<14:55:24,  1.08s/it]"
          ]
        },
        {
          "output_type": "stream",
          "name": "stdout",
          "text": [
            "Saved file: /content/drive/MyDrive/dataset/TeamDeepwave/dataset/preprocessed/train/fake/LBCHYOUM.png\n",
            "Processing file: /content/drive/MyDrive/dataset/TeamDeepwave/dataset/open/./train/KROSPPRS.ogg\n"
          ]
        },
        {
          "output_type": "stream",
          "name": "stderr",
          "text": [
            "\r  0%|          | 113/50000 [01:48<13:15:11,  1.05it/s]"
          ]
        },
        {
          "output_type": "stream",
          "name": "stdout",
          "text": [
            "Saved file: /content/drive/MyDrive/dataset/TeamDeepwave/dataset/preprocessed/train/fake/KROSPPRS.png\n",
            "Processing file: /content/drive/MyDrive/dataset/TeamDeepwave/dataset/open/./train/TIKCNARB.ogg\n"
          ]
        },
        {
          "output_type": "stream",
          "name": "stderr",
          "text": [
            "\r  0%|          | 114/50000 [01:49<12:15:59,  1.13it/s]"
          ]
        },
        {
          "output_type": "stream",
          "name": "stdout",
          "text": [
            "Saved file: /content/drive/MyDrive/dataset/TeamDeepwave/dataset/preprocessed/train/real/TIKCNARB.png\n",
            "Processing file: /content/drive/MyDrive/dataset/TeamDeepwave/dataset/open/./train/POQPFAEJ.ogg\n"
          ]
        },
        {
          "output_type": "stream",
          "name": "stderr",
          "text": [
            "\r  0%|          | 115/50000 [01:50<11:07:12,  1.25it/s]"
          ]
        },
        {
          "output_type": "stream",
          "name": "stdout",
          "text": [
            "Saved file: /content/drive/MyDrive/dataset/TeamDeepwave/dataset/preprocessed/train/real/POQPFAEJ.png\n",
            "Processing file: /content/drive/MyDrive/dataset/TeamDeepwave/dataset/open/./train/IDLMIBMZ.ogg\n"
          ]
        },
        {
          "output_type": "stream",
          "name": "stderr",
          "text": [
            "\r  0%|          | 116/50000 [01:51<12:00:31,  1.15it/s]"
          ]
        },
        {
          "output_type": "stream",
          "name": "stdout",
          "text": [
            "Saved file: /content/drive/MyDrive/dataset/TeamDeepwave/dataset/preprocessed/train/real/IDLMIBMZ.png\n",
            "Processing file: /content/drive/MyDrive/dataset/TeamDeepwave/dataset/open/./train/OJQWGAWW.ogg\n"
          ]
        },
        {
          "output_type": "stream",
          "name": "stderr",
          "text": [
            "\r  0%|          | 117/50000 [01:51<12:03:06,  1.15it/s]"
          ]
        },
        {
          "output_type": "stream",
          "name": "stdout",
          "text": [
            "Saved file: /content/drive/MyDrive/dataset/TeamDeepwave/dataset/preprocessed/train/real/OJQWGAWW.png\n",
            "Processing file: /content/drive/MyDrive/dataset/TeamDeepwave/dataset/open/./train/JTSDWMSR.ogg\n"
          ]
        },
        {
          "output_type": "stream",
          "name": "stderr",
          "text": [
            "\r  0%|          | 118/50000 [01:52<12:06:07,  1.14it/s]"
          ]
        },
        {
          "output_type": "stream",
          "name": "stdout",
          "text": [
            "Saved file: /content/drive/MyDrive/dataset/TeamDeepwave/dataset/preprocessed/train/real/JTSDWMSR.png\n",
            "Processing file: /content/drive/MyDrive/dataset/TeamDeepwave/dataset/open/./train/UAHMVFHV.ogg\n"
          ]
        },
        {
          "output_type": "stream",
          "name": "stderr",
          "text": [
            "\r  0%|          | 119/50000 [01:53<12:32:06,  1.11it/s]"
          ]
        },
        {
          "output_type": "stream",
          "name": "stdout",
          "text": [
            "Saved file: /content/drive/MyDrive/dataset/TeamDeepwave/dataset/preprocessed/train/real/UAHMVFHV.png\n",
            "Processing file: /content/drive/MyDrive/dataset/TeamDeepwave/dataset/open/./train/INMXOUCO.ogg\n"
          ]
        },
        {
          "output_type": "stream",
          "name": "stderr",
          "text": [
            "\r  0%|          | 120/50000 [01:54<12:06:40,  1.14it/s]"
          ]
        },
        {
          "output_type": "stream",
          "name": "stdout",
          "text": [
            "Saved file: /content/drive/MyDrive/dataset/TeamDeepwave/dataset/preprocessed/train/real/INMXOUCO.png\n",
            "Processing file: /content/drive/MyDrive/dataset/TeamDeepwave/dataset/open/./train/QYFQNZRI.ogg\n"
          ]
        },
        {
          "output_type": "stream",
          "name": "stderr",
          "text": [
            "\r  0%|          | 121/50000 [01:55<11:10:36,  1.24it/s]"
          ]
        },
        {
          "output_type": "stream",
          "name": "stdout",
          "text": [
            "Saved file: /content/drive/MyDrive/dataset/TeamDeepwave/dataset/preprocessed/train/real/QYFQNZRI.png\n",
            "Processing file: /content/drive/MyDrive/dataset/TeamDeepwave/dataset/open/./train/KZRZSDCX.ogg\n"
          ]
        },
        {
          "output_type": "stream",
          "name": "stderr",
          "text": [
            "\r  0%|          | 122/50000 [01:55<10:20:01,  1.34it/s]"
          ]
        },
        {
          "output_type": "stream",
          "name": "stdout",
          "text": [
            "Saved file: /content/drive/MyDrive/dataset/TeamDeepwave/dataset/preprocessed/train/fake/KZRZSDCX.png\n",
            "Processing file: /content/drive/MyDrive/dataset/TeamDeepwave/dataset/open/./train/EUEHRCGA.ogg\n"
          ]
        },
        {
          "output_type": "stream",
          "name": "stderr",
          "text": [
            "\r  0%|          | 123/50000 [01:56<9:46:32,  1.42it/s] "
          ]
        },
        {
          "output_type": "stream",
          "name": "stdout",
          "text": [
            "Saved file: /content/drive/MyDrive/dataset/TeamDeepwave/dataset/preprocessed/train/fake/EUEHRCGA.png\n",
            "Processing file: /content/drive/MyDrive/dataset/TeamDeepwave/dataset/open/./train/FIUMTZWK.ogg\n"
          ]
        },
        {
          "output_type": "stream",
          "name": "stderr",
          "text": [
            "\r  0%|          | 124/50000 [01:57<10:33:19,  1.31it/s]"
          ]
        },
        {
          "output_type": "stream",
          "name": "stdout",
          "text": [
            "Saved file: /content/drive/MyDrive/dataset/TeamDeepwave/dataset/preprocessed/train/real/FIUMTZWK.png\n",
            "Processing file: /content/drive/MyDrive/dataset/TeamDeepwave/dataset/open/./train/ZWYRFWQO.ogg\n"
          ]
        },
        {
          "output_type": "stream",
          "name": "stderr",
          "text": [
            "\r  0%|          | 125/50000 [01:58<10:46:03,  1.29it/s]"
          ]
        },
        {
          "output_type": "stream",
          "name": "stdout",
          "text": [
            "Saved file: /content/drive/MyDrive/dataset/TeamDeepwave/dataset/preprocessed/train/fake/ZWYRFWQO.png\n",
            "Processing file: /content/drive/MyDrive/dataset/TeamDeepwave/dataset/open/./train/HEPKRBDZ.ogg\n"
          ]
        },
        {
          "output_type": "stream",
          "name": "stderr",
          "text": [
            "\r  0%|          | 126/50000 [01:59<11:33:17,  1.20it/s]"
          ]
        },
        {
          "output_type": "stream",
          "name": "stdout",
          "text": [
            "Saved file: /content/drive/MyDrive/dataset/TeamDeepwave/dataset/preprocessed/train/real/HEPKRBDZ.png\n",
            "Processing file: /content/drive/MyDrive/dataset/TeamDeepwave/dataset/open/./train/VHYFSFIY.ogg\n"
          ]
        },
        {
          "output_type": "stream",
          "name": "stderr",
          "text": [
            "\r  0%|          | 127/50000 [02:00<11:47:03,  1.18it/s]"
          ]
        },
        {
          "output_type": "stream",
          "name": "stdout",
          "text": [
            "Saved file: /content/drive/MyDrive/dataset/TeamDeepwave/dataset/preprocessed/train/real/VHYFSFIY.png\n",
            "Processing file: /content/drive/MyDrive/dataset/TeamDeepwave/dataset/open/./train/VYMBDQLJ.ogg\n"
          ]
        },
        {
          "output_type": "stream",
          "name": "stderr",
          "text": [
            "\r  0%|          | 128/50000 [02:00<11:22:07,  1.22it/s]"
          ]
        },
        {
          "output_type": "stream",
          "name": "stdout",
          "text": [
            "Saved file: /content/drive/MyDrive/dataset/TeamDeepwave/dataset/preprocessed/train/real/VYMBDQLJ.png\n",
            "Processing file: /content/drive/MyDrive/dataset/TeamDeepwave/dataset/open/./train/KNPHATBW.ogg\n"
          ]
        },
        {
          "output_type": "stream",
          "name": "stderr",
          "text": [
            "\r  0%|          | 129/50000 [02:01<10:14:08,  1.35it/s]"
          ]
        },
        {
          "output_type": "stream",
          "name": "stdout",
          "text": [
            "Saved file: /content/drive/MyDrive/dataset/TeamDeepwave/dataset/preprocessed/train/fake/KNPHATBW.png\n",
            "Processing file: /content/drive/MyDrive/dataset/TeamDeepwave/dataset/open/./train/VXTXSJUM.ogg\n"
          ]
        },
        {
          "output_type": "stream",
          "name": "stderr",
          "text": [
            "\r  0%|          | 130/50000 [02:01<9:39:18,  1.43it/s] "
          ]
        },
        {
          "output_type": "stream",
          "name": "stdout",
          "text": [
            "Saved file: /content/drive/MyDrive/dataset/TeamDeepwave/dataset/preprocessed/train/fake/VXTXSJUM.png\n",
            "Processing file: /content/drive/MyDrive/dataset/TeamDeepwave/dataset/open/./train/URMBQKFK.ogg\n"
          ]
        },
        {
          "output_type": "stream",
          "name": "stderr",
          "text": [
            "\r  0%|          | 131/50000 [02:02<9:23:49,  1.47it/s]"
          ]
        },
        {
          "output_type": "stream",
          "name": "stdout",
          "text": [
            "Saved file: /content/drive/MyDrive/dataset/TeamDeepwave/dataset/preprocessed/train/fake/URMBQKFK.png\n",
            "Processing file: /content/drive/MyDrive/dataset/TeamDeepwave/dataset/open/./train/VAKAEMHM.ogg\n"
          ]
        },
        {
          "output_type": "stream",
          "name": "stderr",
          "text": [
            "\r  0%|          | 132/50000 [02:03<9:29:53,  1.46it/s]"
          ]
        },
        {
          "output_type": "stream",
          "name": "stdout",
          "text": [
            "Saved file: /content/drive/MyDrive/dataset/TeamDeepwave/dataset/preprocessed/train/real/VAKAEMHM.png\n",
            "Processing file: /content/drive/MyDrive/dataset/TeamDeepwave/dataset/open/./train/TZYYXIID.ogg\n"
          ]
        },
        {
          "output_type": "stream",
          "name": "stderr",
          "text": [
            "\r  0%|          | 133/50000 [02:04<10:02:40,  1.38it/s]"
          ]
        },
        {
          "output_type": "stream",
          "name": "stdout",
          "text": [
            "Saved file: /content/drive/MyDrive/dataset/TeamDeepwave/dataset/preprocessed/train/real/TZYYXIID.png\n",
            "Processing file: /content/drive/MyDrive/dataset/TeamDeepwave/dataset/open/./train/XFPMOCVA.ogg\n"
          ]
        },
        {
          "output_type": "stream",
          "name": "stderr",
          "text": [
            "\r  0%|          | 134/50000 [02:04<9:56:48,  1.39it/s] "
          ]
        },
        {
          "output_type": "stream",
          "name": "stdout",
          "text": [
            "Saved file: /content/drive/MyDrive/dataset/TeamDeepwave/dataset/preprocessed/train/real/XFPMOCVA.png\n",
            "Processing file: /content/drive/MyDrive/dataset/TeamDeepwave/dataset/open/./train/YPKMZQJC.ogg\n"
          ]
        },
        {
          "output_type": "stream",
          "name": "stderr",
          "text": [
            "\r  0%|          | 135/50000 [02:05<10:05:11,  1.37it/s]"
          ]
        },
        {
          "output_type": "stream",
          "name": "stdout",
          "text": [
            "Saved file: /content/drive/MyDrive/dataset/TeamDeepwave/dataset/preprocessed/train/fake/YPKMZQJC.png\n",
            "Processing file: /content/drive/MyDrive/dataset/TeamDeepwave/dataset/open/./train/FTKRXCWQ.ogg\n"
          ]
        },
        {
          "output_type": "stream",
          "name": "stderr",
          "text": [
            "\r  0%|          | 136/50000 [02:06<9:21:17,  1.48it/s] "
          ]
        },
        {
          "output_type": "stream",
          "name": "stdout",
          "text": [
            "Saved file: /content/drive/MyDrive/dataset/TeamDeepwave/dataset/preprocessed/train/fake/FTKRXCWQ.png\n",
            "Processing file: /content/drive/MyDrive/dataset/TeamDeepwave/dataset/open/./train/OFNGGCOS.ogg\n"
          ]
        },
        {
          "output_type": "stream",
          "name": "stderr",
          "text": [
            "\r  0%|          | 137/50000 [02:06<9:54:52,  1.40it/s]"
          ]
        },
        {
          "output_type": "stream",
          "name": "stdout",
          "text": [
            "Saved file: /content/drive/MyDrive/dataset/TeamDeepwave/dataset/preprocessed/train/real/OFNGGCOS.png\n",
            "Processing file: /content/drive/MyDrive/dataset/TeamDeepwave/dataset/open/./train/XDMKGOYO.ogg\n"
          ]
        },
        {
          "output_type": "stream",
          "name": "stderr",
          "text": [
            "\r  0%|          | 138/50000 [02:07<9:27:11,  1.47it/s]"
          ]
        },
        {
          "output_type": "stream",
          "name": "stdout",
          "text": [
            "Saved file: /content/drive/MyDrive/dataset/TeamDeepwave/dataset/preprocessed/train/fake/XDMKGOYO.png\n",
            "Processing file: /content/drive/MyDrive/dataset/TeamDeepwave/dataset/open/./train/EVCGKCWW.ogg\n"
          ]
        },
        {
          "output_type": "stream",
          "name": "stderr",
          "text": [
            "\r  0%|          | 139/50000 [02:08<9:35:14,  1.44it/s]"
          ]
        },
        {
          "output_type": "stream",
          "name": "stdout",
          "text": [
            "Saved file: /content/drive/MyDrive/dataset/TeamDeepwave/dataset/preprocessed/train/real/EVCGKCWW.png\n",
            "Processing file: /content/drive/MyDrive/dataset/TeamDeepwave/dataset/open/./train/SBCSUYEQ.ogg\n"
          ]
        },
        {
          "output_type": "stream",
          "name": "stderr",
          "text": [
            "\r  0%|          | 140/50000 [02:08<9:19:53,  1.48it/s]"
          ]
        },
        {
          "output_type": "stream",
          "name": "stdout",
          "text": [
            "Saved file: /content/drive/MyDrive/dataset/TeamDeepwave/dataset/preprocessed/train/fake/SBCSUYEQ.png\n",
            "Processing file: /content/drive/MyDrive/dataset/TeamDeepwave/dataset/open/./train/HIMHRLQX.ogg\n"
          ]
        },
        {
          "output_type": "stream",
          "name": "stderr",
          "text": [
            "\r  0%|          | 141/50000 [02:09<9:44:22,  1.42it/s]"
          ]
        },
        {
          "output_type": "stream",
          "name": "stdout",
          "text": [
            "Saved file: /content/drive/MyDrive/dataset/TeamDeepwave/dataset/preprocessed/train/real/HIMHRLQX.png\n",
            "Processing file: /content/drive/MyDrive/dataset/TeamDeepwave/dataset/open/./train/UJZRGZSE.ogg\n"
          ]
        },
        {
          "output_type": "stream",
          "name": "stderr",
          "text": [
            "\r  0%|          | 142/50000 [02:10<9:36:57,  1.44it/s]"
          ]
        },
        {
          "output_type": "stream",
          "name": "stdout",
          "text": [
            "Saved file: /content/drive/MyDrive/dataset/TeamDeepwave/dataset/preprocessed/train/fake/UJZRGZSE.png\n",
            "Processing file: /content/drive/MyDrive/dataset/TeamDeepwave/dataset/open/./train/LJOIXIMZ.ogg\n"
          ]
        },
        {
          "output_type": "stream",
          "name": "stderr",
          "text": [
            "\r  0%|          | 143/50000 [02:11<10:02:03,  1.38it/s]"
          ]
        },
        {
          "output_type": "stream",
          "name": "stdout",
          "text": [
            "Saved file: /content/drive/MyDrive/dataset/TeamDeepwave/dataset/preprocessed/train/fake/LJOIXIMZ.png\n",
            "Processing file: /content/drive/MyDrive/dataset/TeamDeepwave/dataset/open/./train/RMHTJSZY.ogg\n"
          ]
        },
        {
          "output_type": "stream",
          "name": "stderr",
          "text": [
            "\r  0%|          | 144/50000 [02:11<10:09:24,  1.36it/s]"
          ]
        },
        {
          "output_type": "stream",
          "name": "stdout",
          "text": [
            "Saved file: /content/drive/MyDrive/dataset/TeamDeepwave/dataset/preprocessed/train/real/RMHTJSZY.png\n",
            "Processing file: /content/drive/MyDrive/dataset/TeamDeepwave/dataset/open/./train/PXDPYPAE.ogg\n"
          ]
        },
        {
          "output_type": "stream",
          "name": "stderr",
          "text": [
            "\r  0%|          | 145/50000 [02:12<10:00:58,  1.38it/s]"
          ]
        },
        {
          "output_type": "stream",
          "name": "stdout",
          "text": [
            "Saved file: /content/drive/MyDrive/dataset/TeamDeepwave/dataset/preprocessed/train/fake/PXDPYPAE.png\n",
            "Processing file: /content/drive/MyDrive/dataset/TeamDeepwave/dataset/open/./train/TTSEZTKG.ogg\n"
          ]
        },
        {
          "output_type": "stream",
          "name": "stderr",
          "text": [
            "\r  0%|          | 146/50000 [02:13<11:07:51,  1.24it/s]"
          ]
        },
        {
          "output_type": "stream",
          "name": "stdout",
          "text": [
            "Saved file: /content/drive/MyDrive/dataset/TeamDeepwave/dataset/preprocessed/train/real/TTSEZTKG.png\n",
            "Processing file: /content/drive/MyDrive/dataset/TeamDeepwave/dataset/open/./train/JMQDJAHT.ogg\n"
          ]
        },
        {
          "output_type": "stream",
          "name": "stderr",
          "text": [
            "\r  0%|          | 147/50000 [02:14<11:10:03,  1.24it/s]"
          ]
        },
        {
          "output_type": "stream",
          "name": "stdout",
          "text": [
            "Saved file: /content/drive/MyDrive/dataset/TeamDeepwave/dataset/preprocessed/train/real/JMQDJAHT.png\n",
            "Processing file: /content/drive/MyDrive/dataset/TeamDeepwave/dataset/open/./train/SJMUZARG.ogg\n"
          ]
        },
        {
          "output_type": "stream",
          "name": "stderr",
          "text": [
            "\r  0%|          | 148/50000 [02:15<11:03:40,  1.25it/s]"
          ]
        },
        {
          "output_type": "stream",
          "name": "stdout",
          "text": [
            "Saved file: /content/drive/MyDrive/dataset/TeamDeepwave/dataset/preprocessed/train/real/SJMUZARG.png\n",
            "Processing file: /content/drive/MyDrive/dataset/TeamDeepwave/dataset/open/./train/ZZJSHPKT.ogg\n"
          ]
        },
        {
          "output_type": "stream",
          "name": "stderr",
          "text": [
            "\r  0%|          | 149/50000 [02:15<10:25:37,  1.33it/s]"
          ]
        },
        {
          "output_type": "stream",
          "name": "stdout",
          "text": [
            "Saved file: /content/drive/MyDrive/dataset/TeamDeepwave/dataset/preprocessed/train/fake/ZZJSHPKT.png\n",
            "Processing file: /content/drive/MyDrive/dataset/TeamDeepwave/dataset/open/./train/DVRISQJU.ogg\n"
          ]
        },
        {
          "output_type": "stream",
          "name": "stderr",
          "text": [
            "\r  0%|          | 150/50000 [02:16<12:17:46,  1.13it/s]"
          ]
        },
        {
          "output_type": "stream",
          "name": "stdout",
          "text": [
            "Saved file: /content/drive/MyDrive/dataset/TeamDeepwave/dataset/preprocessed/train/fake/DVRISQJU.png\n",
            "Processing file: /content/drive/MyDrive/dataset/TeamDeepwave/dataset/open/./train/JXLOGKRF.ogg\n"
          ]
        },
        {
          "output_type": "stream",
          "name": "stderr",
          "text": [
            "\r  0%|          | 151/50000 [02:17<12:02:35,  1.15it/s]"
          ]
        },
        {
          "output_type": "stream",
          "name": "stdout",
          "text": [
            "Saved file: /content/drive/MyDrive/dataset/TeamDeepwave/dataset/preprocessed/train/real/JXLOGKRF.png\n",
            "Processing file: /content/drive/MyDrive/dataset/TeamDeepwave/dataset/open/./train/MZGQMCMX.ogg\n"
          ]
        },
        {
          "output_type": "stream",
          "name": "stderr",
          "text": [
            "\r  0%|          | 152/50000 [02:18<11:19:27,  1.22it/s]"
          ]
        },
        {
          "output_type": "stream",
          "name": "stdout",
          "text": [
            "Saved file: /content/drive/MyDrive/dataset/TeamDeepwave/dataset/preprocessed/train/real/MZGQMCMX.png\n",
            "Processing file: /content/drive/MyDrive/dataset/TeamDeepwave/dataset/open/./train/OSRVMNWL.ogg\n"
          ]
        },
        {
          "output_type": "stream",
          "name": "stderr",
          "text": [
            "\r  0%|          | 153/50000 [02:19<11:07:41,  1.24it/s]"
          ]
        },
        {
          "output_type": "stream",
          "name": "stdout",
          "text": [
            "Saved file: /content/drive/MyDrive/dataset/TeamDeepwave/dataset/preprocessed/train/real/OSRVMNWL.png\n",
            "Processing file: /content/drive/MyDrive/dataset/TeamDeepwave/dataset/open/./train/KBWPAVHE.ogg\n"
          ]
        },
        {
          "output_type": "stream",
          "name": "stderr",
          "text": [
            "\r  0%|          | 154/50000 [02:19<10:30:09,  1.32it/s]"
          ]
        },
        {
          "output_type": "stream",
          "name": "stdout",
          "text": [
            "Saved file: /content/drive/MyDrive/dataset/TeamDeepwave/dataset/preprocessed/train/fake/KBWPAVHE.png\n",
            "Processing file: /content/drive/MyDrive/dataset/TeamDeepwave/dataset/open/./train/IKYISPCZ.ogg\n"
          ]
        },
        {
          "output_type": "stream",
          "name": "stderr",
          "text": [
            "\r  0%|          | 155/50000 [02:20<10:11:37,  1.36it/s]"
          ]
        },
        {
          "output_type": "stream",
          "name": "stdout",
          "text": [
            "Saved file: /content/drive/MyDrive/dataset/TeamDeepwave/dataset/preprocessed/train/real/IKYISPCZ.png\n",
            "Processing file: /content/drive/MyDrive/dataset/TeamDeepwave/dataset/open/./train/BDSLERTJ.ogg\n"
          ]
        },
        {
          "output_type": "stream",
          "name": "stderr",
          "text": [
            "\r  0%|          | 156/50000 [02:21<9:30:07,  1.46it/s] "
          ]
        },
        {
          "output_type": "stream",
          "name": "stdout",
          "text": [
            "Saved file: /content/drive/MyDrive/dataset/TeamDeepwave/dataset/preprocessed/train/fake/BDSLERTJ.png\n",
            "Processing file: /content/drive/MyDrive/dataset/TeamDeepwave/dataset/open/./train/YULTDACC.ogg\n"
          ]
        },
        {
          "output_type": "stream",
          "name": "stderr",
          "text": [
            "\r  0%|          | 157/50000 [02:21<9:29:26,  1.46it/s]"
          ]
        },
        {
          "output_type": "stream",
          "name": "stdout",
          "text": [
            "Saved file: /content/drive/MyDrive/dataset/TeamDeepwave/dataset/preprocessed/train/fake/YULTDACC.png\n",
            "Processing file: /content/drive/MyDrive/dataset/TeamDeepwave/dataset/open/./train/EGBWMFIZ.ogg\n"
          ]
        },
        {
          "output_type": "stream",
          "name": "stderr",
          "text": [
            "\r  0%|          | 158/50000 [02:22<9:02:31,  1.53it/s]"
          ]
        },
        {
          "output_type": "stream",
          "name": "stdout",
          "text": [
            "Saved file: /content/drive/MyDrive/dataset/TeamDeepwave/dataset/preprocessed/train/fake/EGBWMFIZ.png\n",
            "Processing file: /content/drive/MyDrive/dataset/TeamDeepwave/dataset/open/./train/KPHISJXK.ogg\n"
          ]
        },
        {
          "output_type": "stream",
          "name": "stderr",
          "text": [
            "\r  0%|          | 159/50000 [02:23<9:30:29,  1.46it/s]"
          ]
        },
        {
          "output_type": "stream",
          "name": "stdout",
          "text": [
            "Saved file: /content/drive/MyDrive/dataset/TeamDeepwave/dataset/preprocessed/train/real/KPHISJXK.png\n",
            "Processing file: /content/drive/MyDrive/dataset/TeamDeepwave/dataset/open/./train/OKPFCUZJ.ogg\n"
          ]
        },
        {
          "output_type": "stream",
          "name": "stderr",
          "text": [
            "\r  0%|          | 160/50000 [02:23<9:27:39,  1.46it/s]"
          ]
        },
        {
          "output_type": "stream",
          "name": "stdout",
          "text": [
            "Saved file: /content/drive/MyDrive/dataset/TeamDeepwave/dataset/preprocessed/train/real/OKPFCUZJ.png\n",
            "Processing file: /content/drive/MyDrive/dataset/TeamDeepwave/dataset/open/./train/WVPLTQBF.ogg\n"
          ]
        },
        {
          "output_type": "stream",
          "name": "stderr",
          "text": [
            "\r  0%|          | 161/50000 [02:24<9:13:42,  1.50it/s]"
          ]
        },
        {
          "output_type": "stream",
          "name": "stdout",
          "text": [
            "Saved file: /content/drive/MyDrive/dataset/TeamDeepwave/dataset/preprocessed/train/real/WVPLTQBF.png\n",
            "Processing file: /content/drive/MyDrive/dataset/TeamDeepwave/dataset/open/./train/ZRAXCVNL.ogg\n"
          ]
        },
        {
          "output_type": "stream",
          "name": "stderr",
          "text": [
            "\r  0%|          | 162/50000 [02:25<10:02:17,  1.38it/s]"
          ]
        },
        {
          "output_type": "stream",
          "name": "stdout",
          "text": [
            "Saved file: /content/drive/MyDrive/dataset/TeamDeepwave/dataset/preprocessed/train/fake/ZRAXCVNL.png\n",
            "Processing file: /content/drive/MyDrive/dataset/TeamDeepwave/dataset/open/./train/DQEOIKIC.ogg\n"
          ]
        },
        {
          "output_type": "stream",
          "name": "stderr",
          "text": [
            "\r  0%|          | 163/50000 [02:26<10:25:58,  1.33it/s]"
          ]
        },
        {
          "output_type": "stream",
          "name": "stdout",
          "text": [
            "Saved file: /content/drive/MyDrive/dataset/TeamDeepwave/dataset/preprocessed/train/fake/DQEOIKIC.png\n",
            "Processing file: /content/drive/MyDrive/dataset/TeamDeepwave/dataset/open/./train/MNHILQOL.ogg\n"
          ]
        },
        {
          "output_type": "stream",
          "name": "stderr",
          "text": [
            "\r  0%|          | 164/50000 [02:27<10:50:08,  1.28it/s]"
          ]
        },
        {
          "output_type": "stream",
          "name": "stdout",
          "text": [
            "Saved file: /content/drive/MyDrive/dataset/TeamDeepwave/dataset/preprocessed/train/real/MNHILQOL.png\n",
            "Processing file: /content/drive/MyDrive/dataset/TeamDeepwave/dataset/open/./train/HASLUUHP.ogg\n"
          ]
        },
        {
          "output_type": "stream",
          "name": "stderr",
          "text": [
            "\r  0%|          | 165/50000 [02:27<11:32:17,  1.20it/s]"
          ]
        },
        {
          "output_type": "stream",
          "name": "stdout",
          "text": [
            "Saved file: /content/drive/MyDrive/dataset/TeamDeepwave/dataset/preprocessed/train/fake/HASLUUHP.png\n",
            "Processing file: /content/drive/MyDrive/dataset/TeamDeepwave/dataset/open/./train/LDHOICPH.ogg\n"
          ]
        },
        {
          "output_type": "stream",
          "name": "stderr",
          "text": [
            "\r  0%|          | 166/50000 [02:28<10:56:45,  1.26it/s]"
          ]
        },
        {
          "output_type": "stream",
          "name": "stdout",
          "text": [
            "Saved file: /content/drive/MyDrive/dataset/TeamDeepwave/dataset/preprocessed/train/real/LDHOICPH.png\n",
            "Processing file: /content/drive/MyDrive/dataset/TeamDeepwave/dataset/open/./train/YNHWPNAF.ogg\n"
          ]
        },
        {
          "output_type": "stream",
          "name": "stderr",
          "text": [
            "\r  0%|          | 167/50000 [02:29<10:00:04,  1.38it/s]"
          ]
        },
        {
          "output_type": "stream",
          "name": "stdout",
          "text": [
            "Saved file: /content/drive/MyDrive/dataset/TeamDeepwave/dataset/preprocessed/train/real/YNHWPNAF.png\n",
            "Processing file: /content/drive/MyDrive/dataset/TeamDeepwave/dataset/open/./train/TOHUVFZV.ogg\n"
          ]
        },
        {
          "output_type": "stream",
          "name": "stderr",
          "text": [
            "\r  0%|          | 168/50000 [02:29<9:41:01,  1.43it/s] "
          ]
        },
        {
          "output_type": "stream",
          "name": "stdout",
          "text": [
            "Saved file: /content/drive/MyDrive/dataset/TeamDeepwave/dataset/preprocessed/train/real/TOHUVFZV.png\n",
            "Processing file: /content/drive/MyDrive/dataset/TeamDeepwave/dataset/open/./train/TAYGYOSV.ogg\n"
          ]
        },
        {
          "output_type": "stream",
          "name": "stderr",
          "text": [
            "\r  0%|          | 169/50000 [02:30<9:42:00,  1.43it/s]"
          ]
        },
        {
          "output_type": "stream",
          "name": "stdout",
          "text": [
            "Saved file: /content/drive/MyDrive/dataset/TeamDeepwave/dataset/preprocessed/train/real/TAYGYOSV.png\n",
            "Processing file: /content/drive/MyDrive/dataset/TeamDeepwave/dataset/open/./train/EYNRPRJJ.ogg\n"
          ]
        },
        {
          "output_type": "stream",
          "name": "stderr",
          "text": [
            "\r  0%|          | 170/50000 [02:31<9:45:56,  1.42it/s]"
          ]
        },
        {
          "output_type": "stream",
          "name": "stdout",
          "text": [
            "Saved file: /content/drive/MyDrive/dataset/TeamDeepwave/dataset/preprocessed/train/real/EYNRPRJJ.png\n",
            "Processing file: /content/drive/MyDrive/dataset/TeamDeepwave/dataset/open/./train/LYIFEQOL.ogg\n"
          ]
        },
        {
          "output_type": "stream",
          "name": "stderr",
          "text": [
            "\r  0%|          | 171/50000 [02:32<9:46:00,  1.42it/s]"
          ]
        },
        {
          "output_type": "stream",
          "name": "stdout",
          "text": [
            "Saved file: /content/drive/MyDrive/dataset/TeamDeepwave/dataset/preprocessed/train/real/LYIFEQOL.png\n",
            "Processing file: /content/drive/MyDrive/dataset/TeamDeepwave/dataset/open/./train/WWBFXNPB.ogg\n"
          ]
        },
        {
          "output_type": "stream",
          "name": "stderr",
          "text": [
            "\r  0%|          | 172/50000 [02:32<9:21:38,  1.48it/s]"
          ]
        },
        {
          "output_type": "stream",
          "name": "stdout",
          "text": [
            "Saved file: /content/drive/MyDrive/dataset/TeamDeepwave/dataset/preprocessed/train/real/WWBFXNPB.png\n",
            "Processing file: /content/drive/MyDrive/dataset/TeamDeepwave/dataset/open/./train/ZEPIDZUY.ogg\n"
          ]
        },
        {
          "output_type": "stream",
          "name": "stderr",
          "text": [
            "\r  0%|          | 173/50000 [02:33<9:46:59,  1.41it/s]"
          ]
        },
        {
          "output_type": "stream",
          "name": "stdout",
          "text": [
            "Saved file: /content/drive/MyDrive/dataset/TeamDeepwave/dataset/preprocessed/train/real/ZEPIDZUY.png\n",
            "Processing file: /content/drive/MyDrive/dataset/TeamDeepwave/dataset/open/./train/ADPKWOHB.ogg\n"
          ]
        },
        {
          "output_type": "stream",
          "name": "stderr",
          "text": [
            "\r  0%|          | 174/50000 [02:34<9:39:31,  1.43it/s]"
          ]
        },
        {
          "output_type": "stream",
          "name": "stdout",
          "text": [
            "Saved file: /content/drive/MyDrive/dataset/TeamDeepwave/dataset/preprocessed/train/fake/ADPKWOHB.png\n",
            "Processing file: /content/drive/MyDrive/dataset/TeamDeepwave/dataset/open/./train/PIQRNKDB.ogg\n"
          ]
        },
        {
          "output_type": "stream",
          "name": "stderr",
          "text": [
            "\r  0%|          | 175/50000 [02:34<10:01:21,  1.38it/s]"
          ]
        },
        {
          "output_type": "stream",
          "name": "stdout",
          "text": [
            "Saved file: /content/drive/MyDrive/dataset/TeamDeepwave/dataset/preprocessed/train/fake/PIQRNKDB.png\n",
            "Processing file: /content/drive/MyDrive/dataset/TeamDeepwave/dataset/open/./train/MSFCQSUX.ogg\n"
          ]
        },
        {
          "output_type": "stream",
          "name": "stderr",
          "text": [
            "\r  0%|          | 176/50000 [02:35<9:51:05,  1.40it/s] "
          ]
        },
        {
          "output_type": "stream",
          "name": "stdout",
          "text": [
            "Saved file: /content/drive/MyDrive/dataset/TeamDeepwave/dataset/preprocessed/train/real/MSFCQSUX.png\n",
            "Processing file: /content/drive/MyDrive/dataset/TeamDeepwave/dataset/open/./train/ZLURERRO.ogg\n"
          ]
        },
        {
          "output_type": "stream",
          "name": "stderr",
          "text": [
            "\r  0%|          | 177/50000 [02:36<9:20:25,  1.48it/s]"
          ]
        },
        {
          "output_type": "stream",
          "name": "stdout",
          "text": [
            "Saved file: /content/drive/MyDrive/dataset/TeamDeepwave/dataset/preprocessed/train/fake/ZLURERRO.png\n",
            "Processing file: /content/drive/MyDrive/dataset/TeamDeepwave/dataset/open/./train/RVGGHNTC.ogg\n"
          ]
        },
        {
          "output_type": "stream",
          "name": "stderr",
          "text": [
            "\r  0%|          | 178/50000 [02:36<9:29:22,  1.46it/s]"
          ]
        },
        {
          "output_type": "stream",
          "name": "stdout",
          "text": [
            "Saved file: /content/drive/MyDrive/dataset/TeamDeepwave/dataset/preprocessed/train/real/RVGGHNTC.png\n",
            "Processing file: /content/drive/MyDrive/dataset/TeamDeepwave/dataset/open/./train/TUQLWEBP.ogg\n"
          ]
        },
        {
          "output_type": "stream",
          "name": "stderr",
          "text": [
            "\r  0%|          | 179/50000 [02:37<9:25:17,  1.47it/s]"
          ]
        },
        {
          "output_type": "stream",
          "name": "stdout",
          "text": [
            "Saved file: /content/drive/MyDrive/dataset/TeamDeepwave/dataset/preprocessed/train/real/TUQLWEBP.png\n",
            "Processing file: /content/drive/MyDrive/dataset/TeamDeepwave/dataset/open/./train/FKJZUIZX.ogg\n"
          ]
        },
        {
          "output_type": "stream",
          "name": "stderr",
          "text": [
            "\r  0%|          | 180/50000 [02:38<9:21:27,  1.48it/s]"
          ]
        },
        {
          "output_type": "stream",
          "name": "stdout",
          "text": [
            "Saved file: /content/drive/MyDrive/dataset/TeamDeepwave/dataset/preprocessed/train/real/FKJZUIZX.png\n",
            "Processing file: /content/drive/MyDrive/dataset/TeamDeepwave/dataset/open/./train/GKEXUDSS.ogg\n"
          ]
        },
        {
          "output_type": "stream",
          "name": "stderr",
          "text": [
            "\r  0%|          | 181/50000 [02:39<10:18:44,  1.34it/s]"
          ]
        },
        {
          "output_type": "stream",
          "name": "stdout",
          "text": [
            "Saved file: /content/drive/MyDrive/dataset/TeamDeepwave/dataset/preprocessed/train/real/GKEXUDSS.png\n",
            "Processing file: /content/drive/MyDrive/dataset/TeamDeepwave/dataset/open/./train/WIUOYEXE.ogg\n"
          ]
        },
        {
          "output_type": "stream",
          "name": "stderr",
          "text": [
            "\r  0%|          | 182/50000 [02:39<10:30:24,  1.32it/s]"
          ]
        },
        {
          "output_type": "stream",
          "name": "stdout",
          "text": [
            "Saved file: /content/drive/MyDrive/dataset/TeamDeepwave/dataset/preprocessed/train/real/WIUOYEXE.png\n",
            "Processing file: /content/drive/MyDrive/dataset/TeamDeepwave/dataset/open/./train/IHYPOJPQ.ogg\n"
          ]
        },
        {
          "output_type": "stream",
          "name": "stderr",
          "text": [
            "\r  0%|          | 183/50000 [02:40<11:48:47,  1.17it/s]"
          ]
        },
        {
          "output_type": "stream",
          "name": "stdout",
          "text": [
            "Saved file: /content/drive/MyDrive/dataset/TeamDeepwave/dataset/preprocessed/train/real/IHYPOJPQ.png\n",
            "Processing file: /content/drive/MyDrive/dataset/TeamDeepwave/dataset/open/./train/VHYNXQOK.ogg\n"
          ]
        },
        {
          "output_type": "stream",
          "name": "stderr",
          "text": [
            "\r  0%|          | 184/50000 [02:41<11:54:02,  1.16it/s]"
          ]
        },
        {
          "output_type": "stream",
          "name": "stdout",
          "text": [
            "Saved file: /content/drive/MyDrive/dataset/TeamDeepwave/dataset/preprocessed/train/fake/VHYNXQOK.png\n",
            "Processing file: /content/drive/MyDrive/dataset/TeamDeepwave/dataset/open/./train/CUJVTWOE.ogg\n"
          ]
        },
        {
          "output_type": "stream",
          "name": "stderr",
          "text": [
            "\r  0%|          | 185/50000 [02:42<11:15:34,  1.23it/s]"
          ]
        },
        {
          "output_type": "stream",
          "name": "stdout",
          "text": [
            "Saved file: /content/drive/MyDrive/dataset/TeamDeepwave/dataset/preprocessed/train/fake/CUJVTWOE.png\n",
            "Processing file: /content/drive/MyDrive/dataset/TeamDeepwave/dataset/open/./train/JTDGXCQT.ogg\n"
          ]
        },
        {
          "output_type": "stream",
          "name": "stderr",
          "text": [
            "\r  0%|          | 186/50000 [02:43<10:47:00,  1.28it/s]"
          ]
        },
        {
          "output_type": "stream",
          "name": "stdout",
          "text": [
            "Saved file: /content/drive/MyDrive/dataset/TeamDeepwave/dataset/preprocessed/train/fake/JTDGXCQT.png\n",
            "Processing file: /content/drive/MyDrive/dataset/TeamDeepwave/dataset/open/./train/OXTENFWR.ogg\n"
          ]
        },
        {
          "output_type": "stream",
          "name": "stderr",
          "text": [
            "\r  0%|          | 187/50000 [02:43<10:11:23,  1.36it/s]"
          ]
        },
        {
          "output_type": "stream",
          "name": "stdout",
          "text": [
            "Saved file: /content/drive/MyDrive/dataset/TeamDeepwave/dataset/preprocessed/train/fake/OXTENFWR.png\n",
            "Processing file: /content/drive/MyDrive/dataset/TeamDeepwave/dataset/open/./train/TWZWWBWC.ogg\n"
          ]
        },
        {
          "output_type": "stream",
          "name": "stderr",
          "text": [
            "\r  0%|          | 188/50000 [02:44<9:46:02,  1.42it/s] "
          ]
        },
        {
          "output_type": "stream",
          "name": "stdout",
          "text": [
            "Saved file: /content/drive/MyDrive/dataset/TeamDeepwave/dataset/preprocessed/train/fake/TWZWWBWC.png\n",
            "Processing file: /content/drive/MyDrive/dataset/TeamDeepwave/dataset/open/./train/EWTZRCWT.ogg\n"
          ]
        },
        {
          "output_type": "stream",
          "name": "stderr",
          "text": [
            "\r  0%|          | 189/50000 [02:45<9:48:30,  1.41it/s]"
          ]
        },
        {
          "output_type": "stream",
          "name": "stdout",
          "text": [
            "Saved file: /content/drive/MyDrive/dataset/TeamDeepwave/dataset/preprocessed/train/real/EWTZRCWT.png\n",
            "Processing file: /content/drive/MyDrive/dataset/TeamDeepwave/dataset/open/./train/LJBADSAZ.ogg\n"
          ]
        },
        {
          "output_type": "stream",
          "name": "stderr",
          "text": [
            "\r  0%|          | 190/50000 [02:45<9:45:03,  1.42it/s]"
          ]
        },
        {
          "output_type": "stream",
          "name": "stdout",
          "text": [
            "Saved file: /content/drive/MyDrive/dataset/TeamDeepwave/dataset/preprocessed/train/fake/LJBADSAZ.png\n",
            "Processing file: /content/drive/MyDrive/dataset/TeamDeepwave/dataset/open/./train/YNRLPVYC.ogg\n"
          ]
        },
        {
          "output_type": "stream",
          "name": "stderr",
          "text": [
            "\r  0%|          | 191/50000 [02:46<9:12:49,  1.50it/s]"
          ]
        },
        {
          "output_type": "stream",
          "name": "stdout",
          "text": [
            "Saved file: /content/drive/MyDrive/dataset/TeamDeepwave/dataset/preprocessed/train/fake/YNRLPVYC.png\n",
            "Processing file: /content/drive/MyDrive/dataset/TeamDeepwave/dataset/open/./train/AADDNUMU.ogg\n"
          ]
        },
        {
          "output_type": "stream",
          "name": "stderr",
          "text": [
            "\r  0%|          | 192/50000 [02:47<9:15:06,  1.50it/s]"
          ]
        },
        {
          "output_type": "stream",
          "name": "stdout",
          "text": [
            "Saved file: /content/drive/MyDrive/dataset/TeamDeepwave/dataset/preprocessed/train/real/AADDNUMU.png\n",
            "Processing file: /content/drive/MyDrive/dataset/TeamDeepwave/dataset/open/./train/ERRVHBFE.ogg\n"
          ]
        },
        {
          "output_type": "stream",
          "name": "stderr",
          "text": [
            "\r  0%|          | 193/50000 [02:47<9:24:55,  1.47it/s]"
          ]
        },
        {
          "output_type": "stream",
          "name": "stdout",
          "text": [
            "Saved file: /content/drive/MyDrive/dataset/TeamDeepwave/dataset/preprocessed/train/real/ERRVHBFE.png\n",
            "Processing file: /content/drive/MyDrive/dataset/TeamDeepwave/dataset/open/./train/NCSJMMWD.ogg\n"
          ]
        },
        {
          "output_type": "stream",
          "name": "stderr",
          "text": [
            "\r  0%|          | 194/50000 [02:48<9:24:03,  1.47it/s]"
          ]
        },
        {
          "output_type": "stream",
          "name": "stdout",
          "text": [
            "Saved file: /content/drive/MyDrive/dataset/TeamDeepwave/dataset/preprocessed/train/fake/NCSJMMWD.png\n",
            "Processing file: /content/drive/MyDrive/dataset/TeamDeepwave/dataset/open/./train/ANBREUQU.ogg\n"
          ]
        },
        {
          "output_type": "stream",
          "name": "stderr",
          "text": [
            "\r  0%|          | 195/50000 [02:49<9:07:10,  1.52it/s]"
          ]
        },
        {
          "output_type": "stream",
          "name": "stdout",
          "text": [
            "Saved file: /content/drive/MyDrive/dataset/TeamDeepwave/dataset/preprocessed/train/real/ANBREUQU.png\n",
            "Processing file: /content/drive/MyDrive/dataset/TeamDeepwave/dataset/open/./train/UJDANVNO.ogg\n"
          ]
        },
        {
          "output_type": "stream",
          "name": "stderr",
          "text": [
            "\r  0%|          | 196/50000 [02:49<9:14:05,  1.50it/s]"
          ]
        },
        {
          "output_type": "stream",
          "name": "stdout",
          "text": [
            "Saved file: /content/drive/MyDrive/dataset/TeamDeepwave/dataset/preprocessed/train/fake/UJDANVNO.png\n",
            "Processing file: /content/drive/MyDrive/dataset/TeamDeepwave/dataset/open/./train/RMDVTSTJ.ogg\n"
          ]
        },
        {
          "output_type": "stream",
          "name": "stderr",
          "text": [
            "\r  0%|          | 197/50000 [02:50<9:00:02,  1.54it/s]"
          ]
        },
        {
          "output_type": "stream",
          "name": "stdout",
          "text": [
            "Saved file: /content/drive/MyDrive/dataset/TeamDeepwave/dataset/preprocessed/train/real/RMDVTSTJ.png\n",
            "Processing file: /content/drive/MyDrive/dataset/TeamDeepwave/dataset/open/./train/NVKQZQNK.ogg\n"
          ]
        },
        {
          "output_type": "stream",
          "name": "stderr",
          "text": [
            "\r  0%|          | 198/50000 [02:51<8:41:20,  1.59it/s]"
          ]
        },
        {
          "output_type": "stream",
          "name": "stdout",
          "text": [
            "Saved file: /content/drive/MyDrive/dataset/TeamDeepwave/dataset/preprocessed/train/real/NVKQZQNK.png\n",
            "Processing file: /content/drive/MyDrive/dataset/TeamDeepwave/dataset/open/./train/JEJDWXRL.ogg\n"
          ]
        },
        {
          "output_type": "stream",
          "name": "stderr",
          "text": [
            "\r  0%|          | 199/50000 [02:51<8:46:05,  1.58it/s]"
          ]
        },
        {
          "output_type": "stream",
          "name": "stdout",
          "text": [
            "Saved file: /content/drive/MyDrive/dataset/TeamDeepwave/dataset/preprocessed/train/real/JEJDWXRL.png\n",
            "Processing file: /content/drive/MyDrive/dataset/TeamDeepwave/dataset/open/./train/XJDNGAOY.ogg\n"
          ]
        },
        {
          "output_type": "stream",
          "name": "stderr",
          "text": [
            "\r  0%|          | 200/50000 [02:52<9:40:13,  1.43it/s]"
          ]
        },
        {
          "output_type": "stream",
          "name": "stdout",
          "text": [
            "Saved file: /content/drive/MyDrive/dataset/TeamDeepwave/dataset/preprocessed/train/real/XJDNGAOY.png\n",
            "Processing file: /content/drive/MyDrive/dataset/TeamDeepwave/dataset/open/./train/NPCUKZNY.ogg\n"
          ]
        },
        {
          "output_type": "stream",
          "name": "stderr",
          "text": [
            "\r  0%|          | 201/50000 [02:53<10:57:54,  1.26it/s]"
          ]
        },
        {
          "output_type": "stream",
          "name": "stdout",
          "text": [
            "Saved file: /content/drive/MyDrive/dataset/TeamDeepwave/dataset/preprocessed/train/real/NPCUKZNY.png\n",
            "Processing file: /content/drive/MyDrive/dataset/TeamDeepwave/dataset/open/./train/QKUSOIXV.ogg\n"
          ]
        },
        {
          "output_type": "stream",
          "name": "stderr",
          "text": [
            "\r  0%|          | 202/50000 [02:54<11:00:20,  1.26it/s]"
          ]
        },
        {
          "output_type": "stream",
          "name": "stdout",
          "text": [
            "Saved file: /content/drive/MyDrive/dataset/TeamDeepwave/dataset/preprocessed/train/real/QKUSOIXV.png\n",
            "Processing file: /content/drive/MyDrive/dataset/TeamDeepwave/dataset/open/./train/OKOFCBSP.ogg\n"
          ]
        },
        {
          "output_type": "stream",
          "name": "stderr",
          "text": [
            "\r  0%|          | 203/50000 [02:55<11:53:22,  1.16it/s]"
          ]
        },
        {
          "output_type": "stream",
          "name": "stdout",
          "text": [
            "Saved file: /content/drive/MyDrive/dataset/TeamDeepwave/dataset/preprocessed/train/fake/OKOFCBSP.png\n",
            "Processing file: /content/drive/MyDrive/dataset/TeamDeepwave/dataset/open/./train/RANSMTDV.ogg\n"
          ]
        },
        {
          "output_type": "stream",
          "name": "stderr",
          "text": [
            "\r  0%|          | 204/50000 [02:56<11:23:08,  1.21it/s]"
          ]
        },
        {
          "output_type": "stream",
          "name": "stdout",
          "text": [
            "Saved file: /content/drive/MyDrive/dataset/TeamDeepwave/dataset/preprocessed/train/fake/RANSMTDV.png\n",
            "Processing file: /content/drive/MyDrive/dataset/TeamDeepwave/dataset/open/./train/QIEZFNBY.ogg\n"
          ]
        },
        {
          "output_type": "stream",
          "name": "stderr",
          "text": [
            "\r  0%|          | 205/50000 [02:56<10:28:00,  1.32it/s]"
          ]
        },
        {
          "output_type": "stream",
          "name": "stdout",
          "text": [
            "Saved file: /content/drive/MyDrive/dataset/TeamDeepwave/dataset/preprocessed/train/fake/QIEZFNBY.png\n",
            "Processing file: /content/drive/MyDrive/dataset/TeamDeepwave/dataset/open/./train/UYUSYWCR.ogg\n"
          ]
        },
        {
          "output_type": "stream",
          "name": "stderr",
          "text": [
            "\r  0%|          | 206/50000 [02:57<9:58:49,  1.39it/s] "
          ]
        },
        {
          "output_type": "stream",
          "name": "stdout",
          "text": [
            "Saved file: /content/drive/MyDrive/dataset/TeamDeepwave/dataset/preprocessed/train/real/UYUSYWCR.png\n",
            "Processing file: /content/drive/MyDrive/dataset/TeamDeepwave/dataset/open/./train/JIEQUHZO.ogg\n"
          ]
        },
        {
          "output_type": "stream",
          "name": "stderr",
          "text": [
            "\r  0%|          | 207/50000 [02:58<10:41:37,  1.29it/s]"
          ]
        },
        {
          "output_type": "stream",
          "name": "stdout",
          "text": [
            "Saved file: /content/drive/MyDrive/dataset/TeamDeepwave/dataset/preprocessed/train/real/JIEQUHZO.png\n",
            "Processing file: /content/drive/MyDrive/dataset/TeamDeepwave/dataset/open/./train/JINGPGCW.ogg\n"
          ]
        },
        {
          "output_type": "stream",
          "name": "stderr",
          "text": [
            "\r  0%|          | 208/50000 [02:58<10:15:47,  1.35it/s]"
          ]
        },
        {
          "output_type": "stream",
          "name": "stdout",
          "text": [
            "Saved file: /content/drive/MyDrive/dataset/TeamDeepwave/dataset/preprocessed/train/real/JINGPGCW.png\n",
            "Processing file: /content/drive/MyDrive/dataset/TeamDeepwave/dataset/open/./train/EXPMKKAB.ogg\n"
          ]
        },
        {
          "output_type": "stream",
          "name": "stderr",
          "text": [
            "\r  0%|          | 209/50000 [03:00<13:21:47,  1.04it/s]"
          ]
        },
        {
          "output_type": "stream",
          "name": "stdout",
          "text": [
            "Saved file: /content/drive/MyDrive/dataset/TeamDeepwave/dataset/preprocessed/train/fake/EXPMKKAB.png\n",
            "Processing file: /content/drive/MyDrive/dataset/TeamDeepwave/dataset/open/./train/CXVENBEG.ogg\n"
          ]
        },
        {
          "output_type": "stream",
          "name": "stderr",
          "text": [
            "\r  0%|          | 210/50000 [03:01<12:25:09,  1.11it/s]"
          ]
        },
        {
          "output_type": "stream",
          "name": "stdout",
          "text": [
            "Saved file: /content/drive/MyDrive/dataset/TeamDeepwave/dataset/preprocessed/train/fake/CXVENBEG.png\n",
            "Processing file: /content/drive/MyDrive/dataset/TeamDeepwave/dataset/open/./train/XUSECRFL.ogg\n"
          ]
        },
        {
          "output_type": "stream",
          "name": "stderr",
          "text": [
            "\r  0%|          | 211/50000 [03:01<12:07:13,  1.14it/s]"
          ]
        },
        {
          "output_type": "stream",
          "name": "stdout",
          "text": [
            "Saved file: /content/drive/MyDrive/dataset/TeamDeepwave/dataset/preprocessed/train/real/XUSECRFL.png\n",
            "Processing file: /content/drive/MyDrive/dataset/TeamDeepwave/dataset/open/./train/TTDWJEVM.ogg\n"
          ]
        },
        {
          "output_type": "stream",
          "name": "stderr",
          "text": [
            "\r  0%|          | 212/50000 [03:02<11:22:33,  1.22it/s]"
          ]
        },
        {
          "output_type": "stream",
          "name": "stdout",
          "text": [
            "Saved file: /content/drive/MyDrive/dataset/TeamDeepwave/dataset/preprocessed/train/real/TTDWJEVM.png\n",
            "Processing file: /content/drive/MyDrive/dataset/TeamDeepwave/dataset/open/./train/TQYEZQRK.ogg\n"
          ]
        },
        {
          "output_type": "stream",
          "name": "stderr",
          "text": [
            "\r  0%|          | 213/50000 [03:03<12:09:43,  1.14it/s]"
          ]
        },
        {
          "output_type": "stream",
          "name": "stdout",
          "text": [
            "Saved file: /content/drive/MyDrive/dataset/TeamDeepwave/dataset/preprocessed/train/real/TQYEZQRK.png\n",
            "Processing file: /content/drive/MyDrive/dataset/TeamDeepwave/dataset/open/./train/MWVHLDUJ.ogg\n"
          ]
        },
        {
          "output_type": "stream",
          "name": "stderr",
          "text": [
            "\r  0%|          | 214/50000 [03:04<12:23:16,  1.12it/s]"
          ]
        },
        {
          "output_type": "stream",
          "name": "stdout",
          "text": [
            "Saved file: /content/drive/MyDrive/dataset/TeamDeepwave/dataset/preprocessed/train/real/MWVHLDUJ.png\n",
            "Processing file: /content/drive/MyDrive/dataset/TeamDeepwave/dataset/open/./train/MNCYUQPT.ogg\n"
          ]
        },
        {
          "output_type": "stream",
          "name": "stderr",
          "text": [
            "\r  0%|          | 215/50000 [03:05<11:35:27,  1.19it/s]"
          ]
        },
        {
          "output_type": "stream",
          "name": "stdout",
          "text": [
            "Saved file: /content/drive/MyDrive/dataset/TeamDeepwave/dataset/preprocessed/train/fake/MNCYUQPT.png\n",
            "Processing file: /content/drive/MyDrive/dataset/TeamDeepwave/dataset/open/./train/TTOKXJXQ.ogg\n"
          ]
        },
        {
          "output_type": "stream",
          "name": "stderr",
          "text": [
            "\r  0%|          | 216/50000 [03:06<12:21:19,  1.12it/s]"
          ]
        },
        {
          "output_type": "stream",
          "name": "stdout",
          "text": [
            "Saved file: /content/drive/MyDrive/dataset/TeamDeepwave/dataset/preprocessed/train/real/TTOKXJXQ.png\n",
            "Processing file: /content/drive/MyDrive/dataset/TeamDeepwave/dataset/open/./train/HBXPCSQF.ogg\n"
          ]
        },
        {
          "output_type": "stream",
          "name": "stderr",
          "text": [
            "\r  0%|          | 217/50000 [03:07<12:38:42,  1.09it/s]"
          ]
        },
        {
          "output_type": "stream",
          "name": "stdout",
          "text": [
            "Saved file: /content/drive/MyDrive/dataset/TeamDeepwave/dataset/preprocessed/train/real/HBXPCSQF.png\n",
            "Processing file: /content/drive/MyDrive/dataset/TeamDeepwave/dataset/open/./train/HCLHPNPZ.ogg\n"
          ]
        },
        {
          "output_type": "stream",
          "name": "stderr",
          "text": [
            "\r  0%|          | 218/50000 [03:08<13:19:02,  1.04it/s]"
          ]
        },
        {
          "output_type": "stream",
          "name": "stdout",
          "text": [
            "Saved file: /content/drive/MyDrive/dataset/TeamDeepwave/dataset/preprocessed/train/real/HCLHPNPZ.png\n",
            "Processing file: /content/drive/MyDrive/dataset/TeamDeepwave/dataset/open/./train/VGYGHYTH.ogg\n"
          ]
        },
        {
          "output_type": "stream",
          "name": "stderr",
          "text": [
            "\r  0%|          | 219/50000 [03:09<13:38:31,  1.01it/s]"
          ]
        },
        {
          "output_type": "stream",
          "name": "stdout",
          "text": [
            "Saved file: /content/drive/MyDrive/dataset/TeamDeepwave/dataset/preprocessed/train/real/VGYGHYTH.png\n",
            "Processing file: /content/drive/MyDrive/dataset/TeamDeepwave/dataset/open/./train/JWGZSJAF.ogg\n"
          ]
        },
        {
          "output_type": "stream",
          "name": "stderr",
          "text": [
            "\r  0%|          | 220/50000 [03:10<13:06:06,  1.06it/s]"
          ]
        },
        {
          "output_type": "stream",
          "name": "stdout",
          "text": [
            "Saved file: /content/drive/MyDrive/dataset/TeamDeepwave/dataset/preprocessed/train/real/JWGZSJAF.png\n",
            "Processing file: /content/drive/MyDrive/dataset/TeamDeepwave/dataset/open/./train/OGICJHOO.ogg\n"
          ]
        },
        {
          "output_type": "stream",
          "name": "stderr",
          "text": [
            "\r  0%|          | 221/50000 [03:10<12:05:12,  1.14it/s]"
          ]
        },
        {
          "output_type": "stream",
          "name": "stdout",
          "text": [
            "Saved file: /content/drive/MyDrive/dataset/TeamDeepwave/dataset/preprocessed/train/fake/OGICJHOO.png\n",
            "Processing file: /content/drive/MyDrive/dataset/TeamDeepwave/dataset/open/./train/FZFXMSEF.ogg\n"
          ]
        },
        {
          "output_type": "stream",
          "name": "stderr",
          "text": [
            "\r  0%|          | 222/50000 [03:11<11:43:02,  1.18it/s]"
          ]
        },
        {
          "output_type": "stream",
          "name": "stdout",
          "text": [
            "Saved file: /content/drive/MyDrive/dataset/TeamDeepwave/dataset/preprocessed/train/real/FZFXMSEF.png\n",
            "Processing file: /content/drive/MyDrive/dataset/TeamDeepwave/dataset/open/./train/QQBSQYZX.ogg\n"
          ]
        },
        {
          "output_type": "stream",
          "name": "stderr",
          "text": [
            "\r  0%|          | 223/50000 [03:12<10:54:32,  1.27it/s]"
          ]
        },
        {
          "output_type": "stream",
          "name": "stdout",
          "text": [
            "Saved file: /content/drive/MyDrive/dataset/TeamDeepwave/dataset/preprocessed/train/real/QQBSQYZX.png\n",
            "Processing file: /content/drive/MyDrive/dataset/TeamDeepwave/dataset/open/./train/AZQEHAKB.ogg\n"
          ]
        },
        {
          "output_type": "stream",
          "name": "stderr",
          "text": [
            "\r  0%|          | 224/50000 [03:13<10:31:34,  1.31it/s]"
          ]
        },
        {
          "output_type": "stream",
          "name": "stdout",
          "text": [
            "Saved file: /content/drive/MyDrive/dataset/TeamDeepwave/dataset/preprocessed/train/real/AZQEHAKB.png\n",
            "Processing file: /content/drive/MyDrive/dataset/TeamDeepwave/dataset/open/./train/CMLGCBON.ogg\n"
          ]
        },
        {
          "output_type": "stream",
          "name": "stderr",
          "text": [
            "\r  0%|          | 225/50000 [03:13<10:22:09,  1.33it/s]"
          ]
        },
        {
          "output_type": "stream",
          "name": "stdout",
          "text": [
            "Saved file: /content/drive/MyDrive/dataset/TeamDeepwave/dataset/preprocessed/train/real/CMLGCBON.png\n",
            "Processing file: /content/drive/MyDrive/dataset/TeamDeepwave/dataset/open/./train/OFYMRWSA.ogg\n"
          ]
        },
        {
          "output_type": "stream",
          "name": "stderr",
          "text": [
            "\r  0%|          | 226/50000 [03:14<9:53:38,  1.40it/s] "
          ]
        },
        {
          "output_type": "stream",
          "name": "stdout",
          "text": [
            "Saved file: /content/drive/MyDrive/dataset/TeamDeepwave/dataset/preprocessed/train/real/OFYMRWSA.png\n",
            "Processing file: /content/drive/MyDrive/dataset/TeamDeepwave/dataset/open/./train/MAIFADKD.ogg\n"
          ]
        },
        {
          "output_type": "stream",
          "name": "stderr",
          "text": [
            "\r  0%|          | 227/50000 [03:15<10:03:15,  1.38it/s]"
          ]
        },
        {
          "output_type": "stream",
          "name": "stdout",
          "text": [
            "Saved file: /content/drive/MyDrive/dataset/TeamDeepwave/dataset/preprocessed/train/real/MAIFADKD.png\n",
            "Processing file: /content/drive/MyDrive/dataset/TeamDeepwave/dataset/open/./train/WZZAWXPD.ogg\n"
          ]
        },
        {
          "output_type": "stream",
          "name": "stderr",
          "text": [
            "\r  0%|          | 228/50000 [03:15<9:53:44,  1.40it/s] "
          ]
        },
        {
          "output_type": "stream",
          "name": "stdout",
          "text": [
            "Saved file: /content/drive/MyDrive/dataset/TeamDeepwave/dataset/preprocessed/train/real/WZZAWXPD.png\n",
            "Processing file: /content/drive/MyDrive/dataset/TeamDeepwave/dataset/open/./train/VFETVWYP.ogg\n"
          ]
        },
        {
          "output_type": "stream",
          "name": "stderr",
          "text": [
            "\r  0%|          | 229/50000 [03:16<9:47:02,  1.41it/s]"
          ]
        },
        {
          "output_type": "stream",
          "name": "stdout",
          "text": [
            "Saved file: /content/drive/MyDrive/dataset/TeamDeepwave/dataset/preprocessed/train/fake/VFETVWYP.png\n",
            "Processing file: /content/drive/MyDrive/dataset/TeamDeepwave/dataset/open/./train/SADDEKZQ.ogg\n"
          ]
        },
        {
          "output_type": "stream",
          "name": "stderr",
          "text": [
            "\r  0%|          | 230/50000 [03:17<10:05:28,  1.37it/s]"
          ]
        },
        {
          "output_type": "stream",
          "name": "stdout",
          "text": [
            "Saved file: /content/drive/MyDrive/dataset/TeamDeepwave/dataset/preprocessed/train/real/SADDEKZQ.png\n",
            "Processing file: /content/drive/MyDrive/dataset/TeamDeepwave/dataset/open/./train/YMOPNUXI.ogg\n"
          ]
        },
        {
          "output_type": "stream",
          "name": "stderr",
          "text": [
            "\r  0%|          | 231/50000 [03:18<10:14:28,  1.35it/s]"
          ]
        },
        {
          "output_type": "stream",
          "name": "stdout",
          "text": [
            "Saved file: /content/drive/MyDrive/dataset/TeamDeepwave/dataset/preprocessed/train/real/YMOPNUXI.png\n",
            "Processing file: /content/drive/MyDrive/dataset/TeamDeepwave/dataset/open/./train/DHKFQTIS.ogg\n"
          ]
        },
        {
          "output_type": "stream",
          "name": "stderr",
          "text": [
            "\r  0%|          | 232/50000 [03:18<9:42:53,  1.42it/s] "
          ]
        },
        {
          "output_type": "stream",
          "name": "stdout",
          "text": [
            "Saved file: /content/drive/MyDrive/dataset/TeamDeepwave/dataset/preprocessed/train/fake/DHKFQTIS.png\n",
            "Processing file: /content/drive/MyDrive/dataset/TeamDeepwave/dataset/open/./train/HSGMJXIJ.ogg\n"
          ]
        },
        {
          "output_type": "stream",
          "name": "stderr",
          "text": [
            "\r  0%|          | 233/50000 [03:19<8:58:02,  1.54it/s]"
          ]
        },
        {
          "output_type": "stream",
          "name": "stdout",
          "text": [
            "Saved file: /content/drive/MyDrive/dataset/TeamDeepwave/dataset/preprocessed/train/fake/HSGMJXIJ.png\n",
            "Processing file: /content/drive/MyDrive/dataset/TeamDeepwave/dataset/open/./train/TNSLHEZW.ogg\n"
          ]
        },
        {
          "output_type": "stream",
          "name": "stderr",
          "text": [
            "\r  0%|          | 234/50000 [03:20<9:34:51,  1.44it/s]"
          ]
        },
        {
          "output_type": "stream",
          "name": "stdout",
          "text": [
            "Saved file: /content/drive/MyDrive/dataset/TeamDeepwave/dataset/preprocessed/train/fake/TNSLHEZW.png\n",
            "Processing file: /content/drive/MyDrive/dataset/TeamDeepwave/dataset/open/./train/KKRUKHKW.ogg\n"
          ]
        },
        {
          "output_type": "stream",
          "name": "stderr",
          "text": [
            "\r  0%|          | 235/50000 [03:21<11:02:55,  1.25it/s]"
          ]
        },
        {
          "output_type": "stream",
          "name": "stdout",
          "text": [
            "Saved file: /content/drive/MyDrive/dataset/TeamDeepwave/dataset/preprocessed/train/real/KKRUKHKW.png\n",
            "Processing file: /content/drive/MyDrive/dataset/TeamDeepwave/dataset/open/./train/SRGCVPWG.ogg\n"
          ]
        },
        {
          "output_type": "stream",
          "name": "stderr",
          "text": [
            "\r  0%|          | 236/50000 [03:22<11:45:18,  1.18it/s]"
          ]
        },
        {
          "output_type": "stream",
          "name": "stdout",
          "text": [
            "Saved file: /content/drive/MyDrive/dataset/TeamDeepwave/dataset/preprocessed/train/fake/SRGCVPWG.png\n",
            "Processing file: /content/drive/MyDrive/dataset/TeamDeepwave/dataset/open/./train/MITAYWCI.ogg\n"
          ]
        },
        {
          "output_type": "stream",
          "name": "stderr",
          "text": [
            "\r  0%|          | 237/50000 [03:22<11:30:56,  1.20it/s]"
          ]
        },
        {
          "output_type": "stream",
          "name": "stdout",
          "text": [
            "Saved file: /content/drive/MyDrive/dataset/TeamDeepwave/dataset/preprocessed/train/real/MITAYWCI.png\n",
            "Processing file: /content/drive/MyDrive/dataset/TeamDeepwave/dataset/open/./train/PIJIBLRP.ogg\n"
          ]
        },
        {
          "output_type": "stream",
          "name": "stderr",
          "text": [
            "\r  0%|          | 238/50000 [03:23<11:06:02,  1.25it/s]"
          ]
        },
        {
          "output_type": "stream",
          "name": "stdout",
          "text": [
            "Saved file: /content/drive/MyDrive/dataset/TeamDeepwave/dataset/preprocessed/train/fake/PIJIBLRP.png\n",
            "Processing file: /content/drive/MyDrive/dataset/TeamDeepwave/dataset/open/./train/QLFCDQUP.ogg\n"
          ]
        },
        {
          "output_type": "stream",
          "name": "stderr",
          "text": [
            "\r  0%|          | 239/50000 [03:24<10:37:48,  1.30it/s]"
          ]
        },
        {
          "output_type": "stream",
          "name": "stdout",
          "text": [
            "Saved file: /content/drive/MyDrive/dataset/TeamDeepwave/dataset/preprocessed/train/fake/QLFCDQUP.png\n",
            "Processing file: /content/drive/MyDrive/dataset/TeamDeepwave/dataset/open/./train/JMKPMAEP.ogg\n"
          ]
        },
        {
          "output_type": "stream",
          "name": "stderr",
          "text": [
            "\r  0%|          | 240/50000 [03:24<10:12:43,  1.35it/s]"
          ]
        },
        {
          "output_type": "stream",
          "name": "stdout",
          "text": [
            "Saved file: /content/drive/MyDrive/dataset/TeamDeepwave/dataset/preprocessed/train/fake/JMKPMAEP.png\n",
            "Processing file: /content/drive/MyDrive/dataset/TeamDeepwave/dataset/open/./train/SLPKNBTQ.ogg\n"
          ]
        },
        {
          "output_type": "stream",
          "name": "stderr",
          "text": [
            "\r  0%|          | 241/50000 [03:25<10:59:47,  1.26it/s]"
          ]
        },
        {
          "output_type": "stream",
          "name": "stdout",
          "text": [
            "Saved file: /content/drive/MyDrive/dataset/TeamDeepwave/dataset/preprocessed/train/fake/SLPKNBTQ.png\n",
            "Processing file: /content/drive/MyDrive/dataset/TeamDeepwave/dataset/open/./train/LDSDTVAJ.ogg\n"
          ]
        },
        {
          "output_type": "stream",
          "name": "stderr",
          "text": [
            "\r  0%|          | 242/50000 [03:26<10:34:53,  1.31it/s]"
          ]
        },
        {
          "output_type": "stream",
          "name": "stdout",
          "text": [
            "Saved file: /content/drive/MyDrive/dataset/TeamDeepwave/dataset/preprocessed/train/fake/LDSDTVAJ.png\n",
            "Processing file: /content/drive/MyDrive/dataset/TeamDeepwave/dataset/open/./train/LMLWHTDG.ogg\n"
          ]
        },
        {
          "output_type": "stream",
          "name": "stderr",
          "text": [
            "\r  0%|          | 243/50000 [03:27<10:45:43,  1.28it/s]"
          ]
        },
        {
          "output_type": "stream",
          "name": "stdout",
          "text": [
            "Saved file: /content/drive/MyDrive/dataset/TeamDeepwave/dataset/preprocessed/train/real/LMLWHTDG.png\n",
            "Processing file: /content/drive/MyDrive/dataset/TeamDeepwave/dataset/open/./train/UKNDZTPB.ogg\n"
          ]
        },
        {
          "output_type": "stream",
          "name": "stderr",
          "text": [
            "\r  0%|          | 244/50000 [03:28<12:02:16,  1.15it/s]"
          ]
        },
        {
          "output_type": "stream",
          "name": "stdout",
          "text": [
            "Saved file: /content/drive/MyDrive/dataset/TeamDeepwave/dataset/preprocessed/train/fake/UKNDZTPB.png\n",
            "Processing file: /content/drive/MyDrive/dataset/TeamDeepwave/dataset/open/./train/DJXHZTMQ.ogg\n"
          ]
        },
        {
          "output_type": "stream",
          "name": "stderr",
          "text": [
            "\r  0%|          | 245/50000 [03:29<13:08:35,  1.05it/s]"
          ]
        },
        {
          "output_type": "stream",
          "name": "stdout",
          "text": [
            "Saved file: /content/drive/MyDrive/dataset/TeamDeepwave/dataset/preprocessed/train/fake/DJXHZTMQ.png\n",
            "Processing file: /content/drive/MyDrive/dataset/TeamDeepwave/dataset/open/./train/DXHXWDBE.ogg\n"
          ]
        },
        {
          "output_type": "stream",
          "name": "stderr",
          "text": [
            "\r  0%|          | 246/50000 [03:31<15:35:55,  1.13s/it]"
          ]
        },
        {
          "output_type": "stream",
          "name": "stdout",
          "text": [
            "Saved file: /content/drive/MyDrive/dataset/TeamDeepwave/dataset/preprocessed/train/fake/DXHXWDBE.png\n",
            "Processing file: /content/drive/MyDrive/dataset/TeamDeepwave/dataset/open/./train/MIJBNPNX.ogg\n"
          ]
        },
        {
          "output_type": "stream",
          "name": "stderr",
          "text": [
            "\r  0%|          | 247/50000 [03:32<15:22:44,  1.11s/it]"
          ]
        },
        {
          "output_type": "stream",
          "name": "stdout",
          "text": [
            "Saved file: /content/drive/MyDrive/dataset/TeamDeepwave/dataset/preprocessed/train/fake/MIJBNPNX.png\n",
            "Processing file: /content/drive/MyDrive/dataset/TeamDeepwave/dataset/open/./train/FZQWBMMH.ogg\n"
          ]
        },
        {
          "output_type": "stream",
          "name": "stderr",
          "text": [
            "\r  0%|          | 248/50000 [03:32<13:33:25,  1.02it/s]"
          ]
        },
        {
          "output_type": "stream",
          "name": "stdout",
          "text": [
            "Saved file: /content/drive/MyDrive/dataset/TeamDeepwave/dataset/preprocessed/train/real/FZQWBMMH.png\n",
            "Processing file: /content/drive/MyDrive/dataset/TeamDeepwave/dataset/open/./train/OJOFYYJI.ogg\n"
          ]
        },
        {
          "output_type": "stream",
          "name": "stderr",
          "text": [
            "\r  0%|          | 249/50000 [03:33<13:51:59,  1.00s/it]"
          ]
        },
        {
          "output_type": "stream",
          "name": "stdout",
          "text": [
            "Saved file: /content/drive/MyDrive/dataset/TeamDeepwave/dataset/preprocessed/train/real/OJOFYYJI.png\n",
            "Processing file: /content/drive/MyDrive/dataset/TeamDeepwave/dataset/open/./train/DBYLRTPB.ogg\n"
          ]
        },
        {
          "output_type": "stream",
          "name": "stderr",
          "text": [
            "\r  0%|          | 250/50000 [03:35<17:07:15,  1.24s/it]"
          ]
        },
        {
          "output_type": "stream",
          "name": "stdout",
          "text": [
            "Saved file: /content/drive/MyDrive/dataset/TeamDeepwave/dataset/preprocessed/train/real/DBYLRTPB.png\n",
            "Processing file: /content/drive/MyDrive/dataset/TeamDeepwave/dataset/open/./train/OUAHZPDF.ogg\n"
          ]
        },
        {
          "output_type": "stream",
          "name": "stderr",
          "text": [
            "\r  1%|          | 251/50000 [03:37<19:25:21,  1.41s/it]"
          ]
        },
        {
          "output_type": "stream",
          "name": "stdout",
          "text": [
            "Saved file: /content/drive/MyDrive/dataset/TeamDeepwave/dataset/preprocessed/train/real/OUAHZPDF.png\n",
            "Processing file: /content/drive/MyDrive/dataset/TeamDeepwave/dataset/open/./train/TKTGFRFT.ogg\n"
          ]
        },
        {
          "output_type": "stream",
          "name": "stderr",
          "text": [
            "\r  1%|          | 252/50000 [03:38<19:01:28,  1.38s/it]"
          ]
        },
        {
          "output_type": "stream",
          "name": "stdout",
          "text": [
            "Saved file: /content/drive/MyDrive/dataset/TeamDeepwave/dataset/preprocessed/train/fake/TKTGFRFT.png\n",
            "Processing file: /content/drive/MyDrive/dataset/TeamDeepwave/dataset/open/./train/LJJVEIVB.ogg\n"
          ]
        },
        {
          "output_type": "stream",
          "name": "stderr",
          "text": [
            "\r  1%|          | 253/50000 [03:39<17:57:36,  1.30s/it]"
          ]
        },
        {
          "output_type": "stream",
          "name": "stdout",
          "text": [
            "Saved file: /content/drive/MyDrive/dataset/TeamDeepwave/dataset/preprocessed/train/real/LJJVEIVB.png\n",
            "Processing file: /content/drive/MyDrive/dataset/TeamDeepwave/dataset/open/./train/DFIYSZGA.ogg\n"
          ]
        },
        {
          "output_type": "stream",
          "name": "stderr",
          "text": [
            "\r  1%|          | 254/50000 [03:40<15:10:12,  1.10s/it]"
          ]
        },
        {
          "output_type": "stream",
          "name": "stdout",
          "text": [
            "Saved file: /content/drive/MyDrive/dataset/TeamDeepwave/dataset/preprocessed/train/fake/DFIYSZGA.png\n",
            "Processing file: /content/drive/MyDrive/dataset/TeamDeepwave/dataset/open/./train/HWRQHXNM.ogg\n"
          ]
        },
        {
          "output_type": "stream",
          "name": "stderr",
          "text": [
            "\r  1%|          | 255/50000 [03:41<13:27:25,  1.03it/s]"
          ]
        },
        {
          "output_type": "stream",
          "name": "stdout",
          "text": [
            "Saved file: /content/drive/MyDrive/dataset/TeamDeepwave/dataset/preprocessed/train/real/HWRQHXNM.png\n",
            "Processing file: /content/drive/MyDrive/dataset/TeamDeepwave/dataset/open/./train/EORXCLEA.ogg\n"
          ]
        },
        {
          "output_type": "stream",
          "name": "stderr",
          "text": [
            "\r  1%|          | 256/50000 [03:41<11:51:56,  1.16it/s]"
          ]
        },
        {
          "output_type": "stream",
          "name": "stdout",
          "text": [
            "Saved file: /content/drive/MyDrive/dataset/TeamDeepwave/dataset/preprocessed/train/fake/EORXCLEA.png\n",
            "Processing file: /content/drive/MyDrive/dataset/TeamDeepwave/dataset/open/./train/ZMWYRDWZ.ogg\n"
          ]
        },
        {
          "output_type": "stream",
          "name": "stderr",
          "text": [
            "\r  1%|          | 257/50000 [03:42<11:11:15,  1.24it/s]"
          ]
        },
        {
          "output_type": "stream",
          "name": "stdout",
          "text": [
            "Saved file: /content/drive/MyDrive/dataset/TeamDeepwave/dataset/preprocessed/train/fake/ZMWYRDWZ.png\n",
            "Processing file: /content/drive/MyDrive/dataset/TeamDeepwave/dataset/open/./train/BIIITSUR.ogg\n"
          ]
        },
        {
          "output_type": "stream",
          "name": "stderr",
          "text": [
            "\r  1%|          | 258/50000 [03:43<10:47:14,  1.28it/s]"
          ]
        },
        {
          "output_type": "stream",
          "name": "stdout",
          "text": [
            "Saved file: /content/drive/MyDrive/dataset/TeamDeepwave/dataset/preprocessed/train/real/BIIITSUR.png\n",
            "Processing file: /content/drive/MyDrive/dataset/TeamDeepwave/dataset/open/./train/NHNRBHWF.ogg\n"
          ]
        },
        {
          "output_type": "stream",
          "name": "stderr",
          "text": [
            "\r  1%|          | 259/50000 [03:44<11:14:43,  1.23it/s]"
          ]
        },
        {
          "output_type": "stream",
          "name": "stdout",
          "text": [
            "Saved file: /content/drive/MyDrive/dataset/TeamDeepwave/dataset/preprocessed/train/real/NHNRBHWF.png\n",
            "Processing file: /content/drive/MyDrive/dataset/TeamDeepwave/dataset/open/./train/ZSKKQOBP.ogg\n"
          ]
        },
        {
          "output_type": "stream",
          "name": "stderr",
          "text": [
            "\r  1%|          | 260/50000 [03:44<10:27:27,  1.32it/s]"
          ]
        },
        {
          "output_type": "stream",
          "name": "stdout",
          "text": [
            "Saved file: /content/drive/MyDrive/dataset/TeamDeepwave/dataset/preprocessed/train/fake/ZSKKQOBP.png\n",
            "Processing file: /content/drive/MyDrive/dataset/TeamDeepwave/dataset/open/./train/BGGBJYJG.ogg\n"
          ]
        },
        {
          "output_type": "stream",
          "name": "stderr",
          "text": [
            "\r  1%|          | 261/50000 [03:45<10:22:11,  1.33it/s]"
          ]
        },
        {
          "output_type": "stream",
          "name": "stdout",
          "text": [
            "Saved file: /content/drive/MyDrive/dataset/TeamDeepwave/dataset/preprocessed/train/real/BGGBJYJG.png\n",
            "Processing file: /content/drive/MyDrive/dataset/TeamDeepwave/dataset/open/./train/NQVLOKOW.ogg\n"
          ]
        },
        {
          "output_type": "stream",
          "name": "stderr",
          "text": [
            "\r  1%|          | 262/50000 [03:46<10:08:28,  1.36it/s]"
          ]
        },
        {
          "output_type": "stream",
          "name": "stdout",
          "text": [
            "Saved file: /content/drive/MyDrive/dataset/TeamDeepwave/dataset/preprocessed/train/real/NQVLOKOW.png\n",
            "Processing file: /content/drive/MyDrive/dataset/TeamDeepwave/dataset/open/./train/WBGYLPND.ogg\n"
          ]
        },
        {
          "output_type": "stream",
          "name": "stderr",
          "text": [
            "\r  1%|          | 263/50000 [03:46<9:32:22,  1.45it/s] "
          ]
        },
        {
          "output_type": "stream",
          "name": "stdout",
          "text": [
            "Saved file: /content/drive/MyDrive/dataset/TeamDeepwave/dataset/preprocessed/train/real/WBGYLPND.png\n",
            "Processing file: /content/drive/MyDrive/dataset/TeamDeepwave/dataset/open/./train/BULVIISG.ogg\n"
          ]
        },
        {
          "output_type": "stream",
          "name": "stderr",
          "text": [
            "\r  1%|          | 264/50000 [03:47<9:57:35,  1.39it/s]"
          ]
        },
        {
          "output_type": "stream",
          "name": "stdout",
          "text": [
            "Saved file: /content/drive/MyDrive/dataset/TeamDeepwave/dataset/preprocessed/train/real/BULVIISG.png\n",
            "Processing file: /content/drive/MyDrive/dataset/TeamDeepwave/dataset/open/./train/OIDYKQRA.ogg\n"
          ]
        },
        {
          "output_type": "stream",
          "name": "stderr",
          "text": [
            "\r  1%|          | 265/50000 [03:48<9:35:46,  1.44it/s]"
          ]
        },
        {
          "output_type": "stream",
          "name": "stdout",
          "text": [
            "Saved file: /content/drive/MyDrive/dataset/TeamDeepwave/dataset/preprocessed/train/fake/OIDYKQRA.png\n",
            "Processing file: /content/drive/MyDrive/dataset/TeamDeepwave/dataset/open/./train/OGJCUFRZ.ogg\n"
          ]
        },
        {
          "output_type": "stream",
          "name": "stderr",
          "text": [
            "\r  1%|          | 266/50000 [03:48<9:43:32,  1.42it/s]"
          ]
        },
        {
          "output_type": "stream",
          "name": "stdout",
          "text": [
            "Saved file: /content/drive/MyDrive/dataset/TeamDeepwave/dataset/preprocessed/train/fake/OGJCUFRZ.png\n",
            "Processing file: /content/drive/MyDrive/dataset/TeamDeepwave/dataset/open/./train/DQFIGNMB.ogg\n"
          ]
        },
        {
          "output_type": "stream",
          "name": "stderr",
          "text": [
            "\r  1%|          | 267/50000 [03:50<12:48:08,  1.08it/s]"
          ]
        },
        {
          "output_type": "stream",
          "name": "stdout",
          "text": [
            "Saved file: /content/drive/MyDrive/dataset/TeamDeepwave/dataset/preprocessed/train/fake/DQFIGNMB.png\n",
            "Processing file: /content/drive/MyDrive/dataset/TeamDeepwave/dataset/open/./train/IOLJXTFJ.ogg\n"
          ]
        },
        {
          "output_type": "stream",
          "name": "stderr",
          "text": [
            "\r  1%|          | 268/50000 [03:52<15:45:34,  1.14s/it]"
          ]
        },
        {
          "output_type": "stream",
          "name": "stdout",
          "text": [
            "Saved file: /content/drive/MyDrive/dataset/TeamDeepwave/dataset/preprocessed/train/fake/IOLJXTFJ.png\n",
            "Processing file: /content/drive/MyDrive/dataset/TeamDeepwave/dataset/open/./train/TUBISPQB.ogg\n"
          ]
        },
        {
          "output_type": "stream",
          "name": "stderr",
          "text": [
            "\r  1%|          | 269/50000 [03:53<17:58:09,  1.30s/it]"
          ]
        },
        {
          "output_type": "stream",
          "name": "stdout",
          "text": [
            "Saved file: /content/drive/MyDrive/dataset/TeamDeepwave/dataset/preprocessed/train/fake/TUBISPQB.png\n",
            "Processing file: /content/drive/MyDrive/dataset/TeamDeepwave/dataset/open/./train/EPINMCEZ.ogg\n"
          ]
        },
        {
          "output_type": "stream",
          "name": "stderr",
          "text": [
            "\r  1%|          | 270/50000 [03:54<16:38:59,  1.21s/it]"
          ]
        },
        {
          "output_type": "stream",
          "name": "stdout",
          "text": [
            "Saved file: /content/drive/MyDrive/dataset/TeamDeepwave/dataset/preprocessed/train/fake/EPINMCEZ.png\n",
            "Processing file: /content/drive/MyDrive/dataset/TeamDeepwave/dataset/open/./train/GRWATNWN.ogg\n"
          ]
        },
        {
          "output_type": "stream",
          "name": "stderr",
          "text": [
            "\r  1%|          | 271/50000 [03:55<16:15:51,  1.18s/it]"
          ]
        },
        {
          "output_type": "stream",
          "name": "stdout",
          "text": [
            "Saved file: /content/drive/MyDrive/dataset/TeamDeepwave/dataset/preprocessed/train/real/GRWATNWN.png\n",
            "Processing file: /content/drive/MyDrive/dataset/TeamDeepwave/dataset/open/./train/NNCERNID.ogg\n"
          ]
        },
        {
          "output_type": "stream",
          "name": "stderr",
          "text": [
            "\r  1%|          | 272/50000 [03:56<14:54:17,  1.08s/it]"
          ]
        },
        {
          "output_type": "stream",
          "name": "stdout",
          "text": [
            "Saved file: /content/drive/MyDrive/dataset/TeamDeepwave/dataset/preprocessed/train/real/NNCERNID.png\n",
            "Processing file: /content/drive/MyDrive/dataset/TeamDeepwave/dataset/open/./train/TJNEWGKM.ogg\n"
          ]
        },
        {
          "output_type": "stream",
          "name": "stderr",
          "text": [
            "\r  1%|          | 273/50000 [03:57<14:25:36,  1.04s/it]"
          ]
        },
        {
          "output_type": "stream",
          "name": "stdout",
          "text": [
            "Saved file: /content/drive/MyDrive/dataset/TeamDeepwave/dataset/preprocessed/train/fake/TJNEWGKM.png\n",
            "Processing file: /content/drive/MyDrive/dataset/TeamDeepwave/dataset/open/./train/JTWUJWQG.ogg\n"
          ]
        },
        {
          "output_type": "stream",
          "name": "stderr",
          "text": [
            "\r  1%|          | 274/50000 [03:58<13:38:27,  1.01it/s]"
          ]
        },
        {
          "output_type": "stream",
          "name": "stdout",
          "text": [
            "Saved file: /content/drive/MyDrive/dataset/TeamDeepwave/dataset/preprocessed/train/real/JTWUJWQG.png\n",
            "Processing file: /content/drive/MyDrive/dataset/TeamDeepwave/dataset/open/./train/CAZNXIIQ.ogg\n"
          ]
        },
        {
          "output_type": "stream",
          "name": "stderr",
          "text": [
            "\r  1%|          | 275/50000 [03:59<12:34:37,  1.10it/s]"
          ]
        },
        {
          "output_type": "stream",
          "name": "stdout",
          "text": [
            "Saved file: /content/drive/MyDrive/dataset/TeamDeepwave/dataset/preprocessed/train/real/CAZNXIIQ.png\n",
            "Processing file: /content/drive/MyDrive/dataset/TeamDeepwave/dataset/open/./train/RUFLMSJI.ogg\n"
          ]
        },
        {
          "output_type": "stream",
          "name": "stderr",
          "text": [
            "\r  1%|          | 276/50000 [03:59<11:35:09,  1.19it/s]"
          ]
        },
        {
          "output_type": "stream",
          "name": "stdout",
          "text": [
            "Saved file: /content/drive/MyDrive/dataset/TeamDeepwave/dataset/preprocessed/train/fake/RUFLMSJI.png\n",
            "Processing file: /content/drive/MyDrive/dataset/TeamDeepwave/dataset/open/./train/GZDRQQJV.ogg\n"
          ]
        },
        {
          "output_type": "stream",
          "name": "stderr",
          "text": [
            "\r  1%|          | 277/50000 [04:00<10:41:15,  1.29it/s]"
          ]
        },
        {
          "output_type": "stream",
          "name": "stdout",
          "text": [
            "Saved file: /content/drive/MyDrive/dataset/TeamDeepwave/dataset/preprocessed/train/real/GZDRQQJV.png\n",
            "Processing file: /content/drive/MyDrive/dataset/TeamDeepwave/dataset/open/./train/EROMWEIO.ogg\n"
          ]
        },
        {
          "output_type": "stream",
          "name": "stderr",
          "text": [
            "\r  1%|          | 278/50000 [04:01<11:10:47,  1.24it/s]"
          ]
        },
        {
          "output_type": "stream",
          "name": "stdout",
          "text": [
            "Saved file: /content/drive/MyDrive/dataset/TeamDeepwave/dataset/preprocessed/train/real/EROMWEIO.png\n",
            "Processing file: /content/drive/MyDrive/dataset/TeamDeepwave/dataset/open/./train/QIZAGSVF.ogg\n"
          ]
        },
        {
          "output_type": "stream",
          "name": "stderr",
          "text": [
            "\r  1%|          | 279/50000 [04:02<10:46:42,  1.28it/s]"
          ]
        },
        {
          "output_type": "stream",
          "name": "stdout",
          "text": [
            "Saved file: /content/drive/MyDrive/dataset/TeamDeepwave/dataset/preprocessed/train/fake/QIZAGSVF.png\n",
            "Processing file: /content/drive/MyDrive/dataset/TeamDeepwave/dataset/open/./train/ARYOLZMX.ogg\n"
          ]
        },
        {
          "output_type": "stream",
          "name": "stderr",
          "text": [
            "\r  1%|          | 280/50000 [04:02<10:27:32,  1.32it/s]"
          ]
        },
        {
          "output_type": "stream",
          "name": "stdout",
          "text": [
            "Saved file: /content/drive/MyDrive/dataset/TeamDeepwave/dataset/preprocessed/train/real/ARYOLZMX.png\n",
            "Processing file: /content/drive/MyDrive/dataset/TeamDeepwave/dataset/open/./train/YWJFRYCK.ogg\n"
          ]
        },
        {
          "output_type": "stream",
          "name": "stderr",
          "text": [
            "\r  1%|          | 281/50000 [04:03<10:07:15,  1.36it/s]"
          ]
        },
        {
          "output_type": "stream",
          "name": "stdout",
          "text": [
            "Saved file: /content/drive/MyDrive/dataset/TeamDeepwave/dataset/preprocessed/train/fake/YWJFRYCK.png\n",
            "Processing file: /content/drive/MyDrive/dataset/TeamDeepwave/dataset/open/./train/TLVAMLGJ.ogg\n"
          ]
        },
        {
          "output_type": "stream",
          "name": "stderr",
          "text": [
            "\r  1%|          | 282/50000 [04:05<14:58:03,  1.08s/it]"
          ]
        },
        {
          "output_type": "stream",
          "name": "stdout",
          "text": [
            "Saved file: /content/drive/MyDrive/dataset/TeamDeepwave/dataset/preprocessed/train/fake/TLVAMLGJ.png\n",
            "Processing file: /content/drive/MyDrive/dataset/TeamDeepwave/dataset/open/./train/IZZZPDAM.ogg\n"
          ]
        },
        {
          "output_type": "stream",
          "name": "stderr",
          "text": [
            "\r  1%|          | 283/50000 [04:06<14:23:32,  1.04s/it]"
          ]
        },
        {
          "output_type": "stream",
          "name": "stdout",
          "text": [
            "Saved file: /content/drive/MyDrive/dataset/TeamDeepwave/dataset/preprocessed/train/real/IZZZPDAM.png\n",
            "Processing file: /content/drive/MyDrive/dataset/TeamDeepwave/dataset/open/./train/THRXMRCF.ogg\n"
          ]
        },
        {
          "output_type": "stream",
          "name": "stderr",
          "text": [
            "\r  1%|          | 284/50000 [04:07<13:59:10,  1.01s/it]"
          ]
        },
        {
          "output_type": "stream",
          "name": "stdout",
          "text": [
            "Saved file: /content/drive/MyDrive/dataset/TeamDeepwave/dataset/preprocessed/train/real/THRXMRCF.png\n",
            "Processing file: /content/drive/MyDrive/dataset/TeamDeepwave/dataset/open/./train/THOVYRAW.ogg\n"
          ]
        },
        {
          "output_type": "stream",
          "name": "stderr",
          "text": [
            "\r  1%|          | 285/50000 [04:07<12:37:04,  1.09it/s]"
          ]
        },
        {
          "output_type": "stream",
          "name": "stdout",
          "text": [
            "Saved file: /content/drive/MyDrive/dataset/TeamDeepwave/dataset/preprocessed/train/real/THOVYRAW.png\n",
            "Processing file: /content/drive/MyDrive/dataset/TeamDeepwave/dataset/open/./train/HYYVNLCQ.ogg\n"
          ]
        },
        {
          "output_type": "stream",
          "name": "stderr",
          "text": [
            "\r  1%|          | 286/50000 [04:08<11:24:07,  1.21it/s]"
          ]
        },
        {
          "output_type": "stream",
          "name": "stdout",
          "text": [
            "Saved file: /content/drive/MyDrive/dataset/TeamDeepwave/dataset/preprocessed/train/fake/HYYVNLCQ.png\n",
            "Processing file: /content/drive/MyDrive/dataset/TeamDeepwave/dataset/open/./train/THOOJIBL.ogg\n"
          ]
        },
        {
          "output_type": "stream",
          "name": "stderr",
          "text": [
            "\r  1%|          | 287/50000 [04:09<11:36:15,  1.19it/s]"
          ]
        },
        {
          "output_type": "stream",
          "name": "stdout",
          "text": [
            "Saved file: /content/drive/MyDrive/dataset/TeamDeepwave/dataset/preprocessed/train/fake/THOOJIBL.png\n",
            "Processing file: /content/drive/MyDrive/dataset/TeamDeepwave/dataset/open/./train/IUQTQERW.ogg\n"
          ]
        },
        {
          "output_type": "stream",
          "name": "stderr",
          "text": [
            "\r  1%|          | 288/50000 [04:10<10:41:02,  1.29it/s]"
          ]
        },
        {
          "output_type": "stream",
          "name": "stdout",
          "text": [
            "Saved file: /content/drive/MyDrive/dataset/TeamDeepwave/dataset/preprocessed/train/real/IUQTQERW.png\n",
            "Processing file: /content/drive/MyDrive/dataset/TeamDeepwave/dataset/open/./train/MOFPMTID.ogg\n"
          ]
        },
        {
          "output_type": "stream",
          "name": "stderr",
          "text": [
            "\r  1%|          | 289/50000 [04:10<10:17:43,  1.34it/s]"
          ]
        },
        {
          "output_type": "stream",
          "name": "stdout",
          "text": [
            "Saved file: /content/drive/MyDrive/dataset/TeamDeepwave/dataset/preprocessed/train/fake/MOFPMTID.png\n",
            "Processing file: /content/drive/MyDrive/dataset/TeamDeepwave/dataset/open/./train/OXVEEPLX.ogg\n"
          ]
        },
        {
          "output_type": "stream",
          "name": "stderr",
          "text": [
            "\r  1%|          | 290/50000 [04:11<9:59:08,  1.38it/s] "
          ]
        },
        {
          "output_type": "stream",
          "name": "stdout",
          "text": [
            "Saved file: /content/drive/MyDrive/dataset/TeamDeepwave/dataset/preprocessed/train/real/OXVEEPLX.png\n",
            "Processing file: /content/drive/MyDrive/dataset/TeamDeepwave/dataset/open/./train/WDWMXMBH.ogg\n"
          ]
        },
        {
          "output_type": "stream",
          "name": "stderr",
          "text": [
            "\r  1%|          | 291/50000 [04:12<10:41:19,  1.29it/s]"
          ]
        },
        {
          "output_type": "stream",
          "name": "stdout",
          "text": [
            "Saved file: /content/drive/MyDrive/dataset/TeamDeepwave/dataset/preprocessed/train/real/WDWMXMBH.png\n",
            "Processing file: /content/drive/MyDrive/dataset/TeamDeepwave/dataset/open/./train/RDAFRPZP.ogg\n"
          ]
        },
        {
          "output_type": "stream",
          "name": "stderr",
          "text": [
            "\r  1%|          | 292/50000 [04:12<10:09:10,  1.36it/s]"
          ]
        },
        {
          "output_type": "stream",
          "name": "stdout",
          "text": [
            "Saved file: /content/drive/MyDrive/dataset/TeamDeepwave/dataset/preprocessed/train/real/RDAFRPZP.png\n",
            "Processing file: /content/drive/MyDrive/dataset/TeamDeepwave/dataset/open/./train/NIJPQVET.ogg\n"
          ]
        },
        {
          "output_type": "stream",
          "name": "stderr",
          "text": [
            "\r  1%|          | 293/50000 [04:13<9:44:20,  1.42it/s] "
          ]
        },
        {
          "output_type": "stream",
          "name": "stdout",
          "text": [
            "Saved file: /content/drive/MyDrive/dataset/TeamDeepwave/dataset/preprocessed/train/real/NIJPQVET.png\n",
            "Processing file: /content/drive/MyDrive/dataset/TeamDeepwave/dataset/open/./train/XQHAUMHJ.ogg\n"
          ]
        },
        {
          "output_type": "stream",
          "name": "stderr",
          "text": [
            "\r  1%|          | 294/50000 [04:14<10:24:40,  1.33it/s]"
          ]
        },
        {
          "output_type": "stream",
          "name": "stdout",
          "text": [
            "Saved file: /content/drive/MyDrive/dataset/TeamDeepwave/dataset/preprocessed/train/real/XQHAUMHJ.png\n",
            "Processing file: /content/drive/MyDrive/dataset/TeamDeepwave/dataset/open/./train/TDVQFHAS.ogg\n"
          ]
        },
        {
          "output_type": "stream",
          "name": "stderr",
          "text": [
            "\r  1%|          | 295/50000 [04:15<9:50:10,  1.40it/s] "
          ]
        },
        {
          "output_type": "stream",
          "name": "stdout",
          "text": [
            "Saved file: /content/drive/MyDrive/dataset/TeamDeepwave/dataset/preprocessed/train/fake/TDVQFHAS.png\n",
            "Processing file: /content/drive/MyDrive/dataset/TeamDeepwave/dataset/open/./train/SZHYVHWR.ogg\n"
          ]
        },
        {
          "output_type": "stream",
          "name": "stderr",
          "text": [
            "\r  1%|          | 296/50000 [04:15<10:18:41,  1.34it/s]"
          ]
        },
        {
          "output_type": "stream",
          "name": "stdout",
          "text": [
            "Saved file: /content/drive/MyDrive/dataset/TeamDeepwave/dataset/preprocessed/train/fake/SZHYVHWR.png\n",
            "Processing file: /content/drive/MyDrive/dataset/TeamDeepwave/dataset/open/./train/CXWWRGST.ogg\n"
          ]
        },
        {
          "output_type": "stream",
          "name": "stderr",
          "text": [
            "\r  1%|          | 297/50000 [04:16<11:24:10,  1.21it/s]"
          ]
        },
        {
          "output_type": "stream",
          "name": "stdout",
          "text": [
            "Saved file: /content/drive/MyDrive/dataset/TeamDeepwave/dataset/preprocessed/train/real/CXWWRGST.png\n",
            "Processing file: /content/drive/MyDrive/dataset/TeamDeepwave/dataset/open/./train/IFYTOPKX.ogg\n"
          ]
        },
        {
          "output_type": "stream",
          "name": "stderr",
          "text": [
            "\r  1%|          | 298/50000 [04:18<12:53:00,  1.07it/s]"
          ]
        },
        {
          "output_type": "stream",
          "name": "stdout",
          "text": [
            "Saved file: /content/drive/MyDrive/dataset/TeamDeepwave/dataset/preprocessed/train/real/IFYTOPKX.png\n",
            "Processing file: /content/drive/MyDrive/dataset/TeamDeepwave/dataset/open/./train/LRTGXASJ.ogg\n"
          ]
        },
        {
          "output_type": "stream",
          "name": "stderr",
          "text": [
            "\r  1%|          | 299/50000 [04:19<13:49:16,  1.00s/it]"
          ]
        },
        {
          "output_type": "stream",
          "name": "stdout",
          "text": [
            "Saved file: /content/drive/MyDrive/dataset/TeamDeepwave/dataset/preprocessed/train/real/LRTGXASJ.png\n",
            "Processing file: /content/drive/MyDrive/dataset/TeamDeepwave/dataset/open/./train/YDDXBNVE.ogg\n"
          ]
        },
        {
          "output_type": "stream",
          "name": "stderr",
          "text": [
            "\r  1%|          | 300/50000 [04:20<13:29:22,  1.02it/s]"
          ]
        },
        {
          "output_type": "stream",
          "name": "stdout",
          "text": [
            "Saved file: /content/drive/MyDrive/dataset/TeamDeepwave/dataset/preprocessed/train/real/YDDXBNVE.png\n",
            "Processing file: /content/drive/MyDrive/dataset/TeamDeepwave/dataset/open/./train/MMPAYYRC.ogg\n"
          ]
        },
        {
          "output_type": "stream",
          "name": "stderr",
          "text": [
            "\r  1%|          | 301/50000 [04:21<13:58:43,  1.01s/it]"
          ]
        },
        {
          "output_type": "stream",
          "name": "stdout",
          "text": [
            "Saved file: /content/drive/MyDrive/dataset/TeamDeepwave/dataset/preprocessed/train/fake/MMPAYYRC.png\n",
            "Processing file: /content/drive/MyDrive/dataset/TeamDeepwave/dataset/open/./train/AXEYNYLP.ogg\n"
          ]
        },
        {
          "output_type": "stream",
          "name": "stderr",
          "text": [
            "\r  1%|          | 302/50000 [04:22<12:55:11,  1.07it/s]"
          ]
        },
        {
          "output_type": "stream",
          "name": "stdout",
          "text": [
            "Saved file: /content/drive/MyDrive/dataset/TeamDeepwave/dataset/preprocessed/train/fake/AXEYNYLP.png\n",
            "Processing file: /content/drive/MyDrive/dataset/TeamDeepwave/dataset/open/./train/LVBVXQDL.ogg\n"
          ]
        },
        {
          "output_type": "stream",
          "name": "stderr",
          "text": [
            "\r  1%|          | 303/50000 [04:22<12:09:05,  1.14it/s]"
          ]
        },
        {
          "output_type": "stream",
          "name": "stdout",
          "text": [
            "Saved file: /content/drive/MyDrive/dataset/TeamDeepwave/dataset/preprocessed/train/fake/LVBVXQDL.png\n",
            "Processing file: /content/drive/MyDrive/dataset/TeamDeepwave/dataset/open/./train/DTHDJYJD.ogg\n"
          ]
        },
        {
          "output_type": "stream",
          "name": "stderr",
          "text": [
            "\r  1%|          | 304/50000 [04:23<11:08:21,  1.24it/s]"
          ]
        },
        {
          "output_type": "stream",
          "name": "stdout",
          "text": [
            "Saved file: /content/drive/MyDrive/dataset/TeamDeepwave/dataset/preprocessed/train/fake/DTHDJYJD.png\n",
            "Processing file: /content/drive/MyDrive/dataset/TeamDeepwave/dataset/open/./train/IEPHLGRR.ogg\n"
          ]
        },
        {
          "output_type": "stream",
          "name": "stderr",
          "text": [
            "\r  1%|          | 305/50000 [04:24<10:29:00,  1.32it/s]"
          ]
        },
        {
          "output_type": "stream",
          "name": "stdout",
          "text": [
            "Saved file: /content/drive/MyDrive/dataset/TeamDeepwave/dataset/preprocessed/train/real/IEPHLGRR.png\n",
            "Processing file: /content/drive/MyDrive/dataset/TeamDeepwave/dataset/open/./train/VBFVYFKS.ogg\n"
          ]
        },
        {
          "output_type": "stream",
          "name": "stderr",
          "text": [
            "\r  1%|          | 306/50000 [04:24<10:02:10,  1.38it/s]"
          ]
        },
        {
          "output_type": "stream",
          "name": "stdout",
          "text": [
            "Saved file: /content/drive/MyDrive/dataset/TeamDeepwave/dataset/preprocessed/train/fake/VBFVYFKS.png\n",
            "Processing file: /content/drive/MyDrive/dataset/TeamDeepwave/dataset/open/./train/QAUTUUII.ogg\n"
          ]
        },
        {
          "output_type": "stream",
          "name": "stderr",
          "text": [
            "\r  1%|          | 307/50000 [04:25<9:42:06,  1.42it/s] "
          ]
        },
        {
          "output_type": "stream",
          "name": "stdout",
          "text": [
            "Saved file: /content/drive/MyDrive/dataset/TeamDeepwave/dataset/preprocessed/train/fake/QAUTUUII.png\n",
            "Processing file: /content/drive/MyDrive/dataset/TeamDeepwave/dataset/open/./train/KSMISHLF.ogg\n"
          ]
        },
        {
          "output_type": "stream",
          "name": "stderr",
          "text": [
            "\r  1%|          | 308/50000 [04:26<9:32:57,  1.45it/s]"
          ]
        },
        {
          "output_type": "stream",
          "name": "stdout",
          "text": [
            "Saved file: /content/drive/MyDrive/dataset/TeamDeepwave/dataset/preprocessed/train/real/KSMISHLF.png\n",
            "Processing file: /content/drive/MyDrive/dataset/TeamDeepwave/dataset/open/./train/BEMYNWJW.ogg\n"
          ]
        },
        {
          "output_type": "stream",
          "name": "stderr",
          "text": [
            "\r  1%|          | 309/50000 [04:26<9:19:28,  1.48it/s]"
          ]
        },
        {
          "output_type": "stream",
          "name": "stdout",
          "text": [
            "Saved file: /content/drive/MyDrive/dataset/TeamDeepwave/dataset/preprocessed/train/real/BEMYNWJW.png\n",
            "Processing file: /content/drive/MyDrive/dataset/TeamDeepwave/dataset/open/./train/TPNDEALW.ogg\n"
          ]
        },
        {
          "output_type": "stream",
          "name": "stderr",
          "text": [
            "\r  1%|          | 310/50000 [04:27<9:06:33,  1.52it/s]"
          ]
        },
        {
          "output_type": "stream",
          "name": "stdout",
          "text": [
            "Saved file: /content/drive/MyDrive/dataset/TeamDeepwave/dataset/preprocessed/train/fake/TPNDEALW.png\n",
            "Processing file: /content/drive/MyDrive/dataset/TeamDeepwave/dataset/open/./train/FQKZTNFX.ogg\n"
          ]
        },
        {
          "output_type": "stream",
          "name": "stderr",
          "text": [
            "\r  1%|          | 311/50000 [04:27<9:03:45,  1.52it/s]"
          ]
        },
        {
          "output_type": "stream",
          "name": "stdout",
          "text": [
            "Saved file: /content/drive/MyDrive/dataset/TeamDeepwave/dataset/preprocessed/train/fake/FQKZTNFX.png\n",
            "Processing file: /content/drive/MyDrive/dataset/TeamDeepwave/dataset/open/./train/BMEIDEKC.ogg\n"
          ]
        },
        {
          "output_type": "stream",
          "name": "stderr",
          "text": [
            "\r  1%|          | 312/50000 [04:28<8:56:14,  1.54it/s]"
          ]
        },
        {
          "output_type": "stream",
          "name": "stdout",
          "text": [
            "Saved file: /content/drive/MyDrive/dataset/TeamDeepwave/dataset/preprocessed/train/fake/BMEIDEKC.png\n",
            "Processing file: /content/drive/MyDrive/dataset/TeamDeepwave/dataset/open/./train/YKVVPTVC.ogg\n"
          ]
        },
        {
          "output_type": "stream",
          "name": "stderr",
          "text": [
            "\r  1%|          | 313/50000 [04:29<8:58:55,  1.54it/s]"
          ]
        },
        {
          "output_type": "stream",
          "name": "stdout",
          "text": [
            "Saved file: /content/drive/MyDrive/dataset/TeamDeepwave/dataset/preprocessed/train/fake/YKVVPTVC.png\n",
            "Processing file: /content/drive/MyDrive/dataset/TeamDeepwave/dataset/open/./train/PFURDKHS.ogg\n"
          ]
        },
        {
          "output_type": "stream",
          "name": "stderr",
          "text": [
            "\r  1%|          | 314/50000 [04:29<9:11:13,  1.50it/s]"
          ]
        },
        {
          "output_type": "stream",
          "name": "stdout",
          "text": [
            "Saved file: /content/drive/MyDrive/dataset/TeamDeepwave/dataset/preprocessed/train/real/PFURDKHS.png\n",
            "Processing file: /content/drive/MyDrive/dataset/TeamDeepwave/dataset/open/./train/QPUZQRRW.ogg\n"
          ]
        },
        {
          "output_type": "stream",
          "name": "stderr",
          "text": [
            "\r  1%|          | 315/50000 [04:30<8:41:56,  1.59it/s]"
          ]
        },
        {
          "output_type": "stream",
          "name": "stdout",
          "text": [
            "Saved file: /content/drive/MyDrive/dataset/TeamDeepwave/dataset/preprocessed/train/fake/QPUZQRRW.png\n",
            "Processing file: /content/drive/MyDrive/dataset/TeamDeepwave/dataset/open/./train/KTSSWHSQ.ogg\n"
          ]
        },
        {
          "output_type": "stream",
          "name": "stderr",
          "text": [
            "\r  1%|          | 316/50000 [04:31<8:47:46,  1.57it/s]"
          ]
        },
        {
          "output_type": "stream",
          "name": "stdout",
          "text": [
            "Saved file: /content/drive/MyDrive/dataset/TeamDeepwave/dataset/preprocessed/train/fake/KTSSWHSQ.png\n",
            "Processing file: /content/drive/MyDrive/dataset/TeamDeepwave/dataset/open/./train/JORGXDXP.ogg\n"
          ]
        },
        {
          "output_type": "stream",
          "name": "stderr",
          "text": [
            "\r  1%|          | 317/50000 [04:31<9:31:54,  1.45it/s]"
          ]
        },
        {
          "output_type": "stream",
          "name": "stdout",
          "text": [
            "Saved file: /content/drive/MyDrive/dataset/TeamDeepwave/dataset/preprocessed/train/fake/JORGXDXP.png\n",
            "Processing file: /content/drive/MyDrive/dataset/TeamDeepwave/dataset/open/./train/JKPIDHNJ.ogg\n"
          ]
        },
        {
          "output_type": "stream",
          "name": "stderr",
          "text": [
            "\r  1%|          | 318/50000 [04:32<10:02:59,  1.37it/s]"
          ]
        },
        {
          "output_type": "stream",
          "name": "stdout",
          "text": [
            "Saved file: /content/drive/MyDrive/dataset/TeamDeepwave/dataset/preprocessed/train/fake/JKPIDHNJ.png\n",
            "Processing file: /content/drive/MyDrive/dataset/TeamDeepwave/dataset/open/./train/GKFPGUXM.ogg\n"
          ]
        },
        {
          "output_type": "stream",
          "name": "stderr",
          "text": [
            "\r  1%|          | 319/50000 [04:33<10:55:15,  1.26it/s]"
          ]
        },
        {
          "output_type": "stream",
          "name": "stdout",
          "text": [
            "Saved file: /content/drive/MyDrive/dataset/TeamDeepwave/dataset/preprocessed/train/real/GKFPGUXM.png\n",
            "Processing file: /content/drive/MyDrive/dataset/TeamDeepwave/dataset/open/./train/NQTPUCOK.ogg\n"
          ]
        },
        {
          "output_type": "stream",
          "name": "stderr",
          "text": [
            "\r  1%|          | 320/50000 [04:34<10:56:48,  1.26it/s]"
          ]
        },
        {
          "output_type": "stream",
          "name": "stdout",
          "text": [
            "Saved file: /content/drive/MyDrive/dataset/TeamDeepwave/dataset/preprocessed/train/fake/NQTPUCOK.png\n",
            "Processing file: /content/drive/MyDrive/dataset/TeamDeepwave/dataset/open/./train/SPUPNUSP.ogg\n"
          ]
        },
        {
          "output_type": "stream",
          "name": "stderr",
          "text": [
            "\r  1%|          | 321/50000 [04:35<11:53:06,  1.16it/s]"
          ]
        },
        {
          "output_type": "stream",
          "name": "stdout",
          "text": [
            "Saved file: /content/drive/MyDrive/dataset/TeamDeepwave/dataset/preprocessed/train/real/SPUPNUSP.png\n",
            "Processing file: /content/drive/MyDrive/dataset/TeamDeepwave/dataset/open/./train/UGUWXARH.ogg\n"
          ]
        },
        {
          "output_type": "stream",
          "name": "stderr",
          "text": [
            "\r  1%|          | 322/50000 [04:36<12:35:07,  1.10it/s]"
          ]
        },
        {
          "output_type": "stream",
          "name": "stdout",
          "text": [
            "Saved file: /content/drive/MyDrive/dataset/TeamDeepwave/dataset/preprocessed/train/real/UGUWXARH.png\n",
            "Processing file: /content/drive/MyDrive/dataset/TeamDeepwave/dataset/open/./train/ZRVHCDBV.ogg\n"
          ]
        },
        {
          "output_type": "stream",
          "name": "stderr",
          "text": [
            "\r  1%|          | 323/50000 [04:37<11:22:40,  1.21it/s]"
          ]
        },
        {
          "output_type": "stream",
          "name": "stdout",
          "text": [
            "Saved file: /content/drive/MyDrive/dataset/TeamDeepwave/dataset/preprocessed/train/fake/ZRVHCDBV.png\n",
            "Processing file: /content/drive/MyDrive/dataset/TeamDeepwave/dataset/open/./train/AXCVILSV.ogg\n"
          ]
        },
        {
          "output_type": "stream",
          "name": "stderr",
          "text": [
            "\r  1%|          | 324/50000 [04:37<10:51:07,  1.27it/s]"
          ]
        },
        {
          "output_type": "stream",
          "name": "stdout",
          "text": [
            "Saved file: /content/drive/MyDrive/dataset/TeamDeepwave/dataset/preprocessed/train/fake/AXCVILSV.png\n",
            "Processing file: /content/drive/MyDrive/dataset/TeamDeepwave/dataset/open/./train/UAGNETJD.ogg\n"
          ]
        },
        {
          "output_type": "stream",
          "name": "stderr",
          "text": [
            "\r  1%|          | 325/50000 [04:38<11:01:48,  1.25it/s]"
          ]
        },
        {
          "output_type": "stream",
          "name": "stdout",
          "text": [
            "Saved file: /content/drive/MyDrive/dataset/TeamDeepwave/dataset/preprocessed/train/fake/UAGNETJD.png\n",
            "Processing file: /content/drive/MyDrive/dataset/TeamDeepwave/dataset/open/./train/ERXNKFKD.ogg\n"
          ]
        },
        {
          "output_type": "stream",
          "name": "stderr",
          "text": [
            "\r  1%|          | 326/50000 [04:39<10:09:44,  1.36it/s]"
          ]
        },
        {
          "output_type": "stream",
          "name": "stdout",
          "text": [
            "Saved file: /content/drive/MyDrive/dataset/TeamDeepwave/dataset/preprocessed/train/fake/ERXNKFKD.png\n",
            "Processing file: /content/drive/MyDrive/dataset/TeamDeepwave/dataset/open/./train/YWPALGJB.ogg\n"
          ]
        },
        {
          "output_type": "stream",
          "name": "stderr",
          "text": [
            "\r  1%|          | 327/50000 [04:39<9:35:57,  1.44it/s] "
          ]
        },
        {
          "output_type": "stream",
          "name": "stdout",
          "text": [
            "Saved file: /content/drive/MyDrive/dataset/TeamDeepwave/dataset/preprocessed/train/fake/YWPALGJB.png\n",
            "Processing file: /content/drive/MyDrive/dataset/TeamDeepwave/dataset/open/./train/TQYTSGCI.ogg\n"
          ]
        },
        {
          "output_type": "stream",
          "name": "stderr",
          "text": [
            "\r  1%|          | 328/50000 [04:40<9:06:23,  1.52it/s]"
          ]
        },
        {
          "output_type": "stream",
          "name": "stdout",
          "text": [
            "Saved file: /content/drive/MyDrive/dataset/TeamDeepwave/dataset/preprocessed/train/fake/TQYTSGCI.png\n",
            "Processing file: /content/drive/MyDrive/dataset/TeamDeepwave/dataset/open/./train/LRSLTQAF.ogg\n"
          ]
        },
        {
          "output_type": "stream",
          "name": "stderr",
          "text": [
            "\r  1%|          | 329/50000 [04:41<9:00:56,  1.53it/s]"
          ]
        },
        {
          "output_type": "stream",
          "name": "stdout",
          "text": [
            "Saved file: /content/drive/MyDrive/dataset/TeamDeepwave/dataset/preprocessed/train/real/LRSLTQAF.png\n",
            "Processing file: /content/drive/MyDrive/dataset/TeamDeepwave/dataset/open/./train/AVHQSNKY.ogg\n"
          ]
        },
        {
          "output_type": "stream",
          "name": "stderr",
          "text": [
            "\r  1%|          | 330/50000 [04:41<8:52:48,  1.55it/s]"
          ]
        },
        {
          "output_type": "stream",
          "name": "stdout",
          "text": [
            "Saved file: /content/drive/MyDrive/dataset/TeamDeepwave/dataset/preprocessed/train/real/AVHQSNKY.png\n",
            "Processing file: /content/drive/MyDrive/dataset/TeamDeepwave/dataset/open/./train/QUURPEDI.ogg\n"
          ]
        },
        {
          "output_type": "stream",
          "name": "stderr",
          "text": [
            "\r  1%|          | 331/50000 [04:42<8:57:29,  1.54it/s]"
          ]
        },
        {
          "output_type": "stream",
          "name": "stdout",
          "text": [
            "Saved file: /content/drive/MyDrive/dataset/TeamDeepwave/dataset/preprocessed/train/fake/QUURPEDI.png\n",
            "Processing file: /content/drive/MyDrive/dataset/TeamDeepwave/dataset/open/./train/BISEOCON.ogg\n"
          ]
        },
        {
          "output_type": "stream",
          "name": "stderr",
          "text": [
            "\r  1%|          | 332/50000 [04:43<9:48:44,  1.41it/s]"
          ]
        },
        {
          "output_type": "stream",
          "name": "stdout",
          "text": [
            "Saved file: /content/drive/MyDrive/dataset/TeamDeepwave/dataset/preprocessed/train/real/BISEOCON.png\n",
            "Processing file: /content/drive/MyDrive/dataset/TeamDeepwave/dataset/open/./train/JBPQTGDK.ogg\n"
          ]
        },
        {
          "output_type": "stream",
          "name": "stderr",
          "text": [
            "\r  1%|          | 333/50000 [04:43<9:28:56,  1.45it/s]"
          ]
        },
        {
          "output_type": "stream",
          "name": "stdout",
          "text": [
            "Saved file: /content/drive/MyDrive/dataset/TeamDeepwave/dataset/preprocessed/train/real/JBPQTGDK.png\n",
            "Processing file: /content/drive/MyDrive/dataset/TeamDeepwave/dataset/open/./train/MPSLYTQE.ogg\n"
          ]
        },
        {
          "output_type": "stream",
          "name": "stderr",
          "text": [
            "\r  1%|          | 334/50000 [04:44<9:18:25,  1.48it/s]"
          ]
        },
        {
          "output_type": "stream",
          "name": "stdout",
          "text": [
            "Saved file: /content/drive/MyDrive/dataset/TeamDeepwave/dataset/preprocessed/train/fake/MPSLYTQE.png\n",
            "Processing file: /content/drive/MyDrive/dataset/TeamDeepwave/dataset/open/./train/RBFJROFZ.ogg\n"
          ]
        },
        {
          "output_type": "stream",
          "name": "stderr",
          "text": [
            "\r  1%|          | 335/50000 [04:45<9:41:15,  1.42it/s]"
          ]
        },
        {
          "output_type": "stream",
          "name": "stdout",
          "text": [
            "Saved file: /content/drive/MyDrive/dataset/TeamDeepwave/dataset/preprocessed/train/fake/RBFJROFZ.png\n",
            "Processing file: /content/drive/MyDrive/dataset/TeamDeepwave/dataset/open/./train/SLVHDKIM.ogg\n"
          ]
        },
        {
          "output_type": "stream",
          "name": "stderr",
          "text": [
            "\r  1%|          | 336/50000 [04:45<9:21:41,  1.47it/s]"
          ]
        },
        {
          "output_type": "stream",
          "name": "stdout",
          "text": [
            "Saved file: /content/drive/MyDrive/dataset/TeamDeepwave/dataset/preprocessed/train/fake/SLVHDKIM.png\n",
            "Processing file: /content/drive/MyDrive/dataset/TeamDeepwave/dataset/open/./train/YQXKXHNG.ogg\n"
          ]
        },
        {
          "output_type": "stream",
          "name": "stderr",
          "text": [
            "\r  1%|          | 337/50000 [04:46<9:40:28,  1.43it/s]"
          ]
        },
        {
          "output_type": "stream",
          "name": "stdout",
          "text": [
            "Saved file: /content/drive/MyDrive/dataset/TeamDeepwave/dataset/preprocessed/train/real/YQXKXHNG.png\n",
            "Processing file: /content/drive/MyDrive/dataset/TeamDeepwave/dataset/open/./train/QTYFXCCU.ogg\n"
          ]
        },
        {
          "output_type": "stream",
          "name": "stderr",
          "text": [
            "\r  1%|          | 338/50000 [04:47<10:03:04,  1.37it/s]"
          ]
        },
        {
          "output_type": "stream",
          "name": "stdout",
          "text": [
            "Saved file: /content/drive/MyDrive/dataset/TeamDeepwave/dataset/preprocessed/train/fake/QTYFXCCU.png\n",
            "Processing file: /content/drive/MyDrive/dataset/TeamDeepwave/dataset/open/./train/MOSNCABF.ogg\n"
          ]
        },
        {
          "output_type": "stream",
          "name": "stderr",
          "text": [
            "\r  1%|          | 339/50000 [04:48<10:48:02,  1.28it/s]"
          ]
        },
        {
          "output_type": "stream",
          "name": "stdout",
          "text": [
            "Saved file: /content/drive/MyDrive/dataset/TeamDeepwave/dataset/preprocessed/train/fake/MOSNCABF.png\n",
            "Processing file: /content/drive/MyDrive/dataset/TeamDeepwave/dataset/open/./train/OWPOHSUX.ogg\n"
          ]
        },
        {
          "output_type": "stream",
          "name": "stderr",
          "text": [
            "\r  1%|          | 340/50000 [04:49<10:57:34,  1.26it/s]"
          ]
        },
        {
          "output_type": "stream",
          "name": "stdout",
          "text": [
            "Saved file: /content/drive/MyDrive/dataset/TeamDeepwave/dataset/preprocessed/train/real/OWPOHSUX.png\n",
            "Processing file: /content/drive/MyDrive/dataset/TeamDeepwave/dataset/open/./train/YBGCHHGM.ogg\n"
          ]
        },
        {
          "output_type": "stream",
          "name": "stderr",
          "text": [
            "\r  1%|          | 341/50000 [04:49<10:41:03,  1.29it/s]"
          ]
        },
        {
          "output_type": "stream",
          "name": "stdout",
          "text": [
            "Saved file: /content/drive/MyDrive/dataset/TeamDeepwave/dataset/preprocessed/train/fake/YBGCHHGM.png\n",
            "Processing file: /content/drive/MyDrive/dataset/TeamDeepwave/dataset/open/./train/BHTFSLVZ.ogg\n"
          ]
        },
        {
          "output_type": "stream",
          "name": "stderr",
          "text": [
            "\r  1%|          | 342/50000 [04:50<10:47:02,  1.28it/s]"
          ]
        },
        {
          "output_type": "stream",
          "name": "stdout",
          "text": [
            "Saved file: /content/drive/MyDrive/dataset/TeamDeepwave/dataset/preprocessed/train/fake/BHTFSLVZ.png\n",
            "Processing file: /content/drive/MyDrive/dataset/TeamDeepwave/dataset/open/./train/UZSJUBCH.ogg\n"
          ]
        },
        {
          "output_type": "stream",
          "name": "stderr",
          "text": [
            "\r  1%|          | 343/50000 [04:51<9:53:46,  1.39it/s] "
          ]
        },
        {
          "output_type": "stream",
          "name": "stdout",
          "text": [
            "Saved file: /content/drive/MyDrive/dataset/TeamDeepwave/dataset/preprocessed/train/fake/UZSJUBCH.png\n",
            "Processing file: /content/drive/MyDrive/dataset/TeamDeepwave/dataset/open/./train/NKIMDAUG.ogg\n"
          ]
        },
        {
          "output_type": "stream",
          "name": "stderr",
          "text": [
            "\r  1%|          | 344/50000 [04:51<9:31:56,  1.45it/s]"
          ]
        },
        {
          "output_type": "stream",
          "name": "stdout",
          "text": [
            "Saved file: /content/drive/MyDrive/dataset/TeamDeepwave/dataset/preprocessed/train/fake/NKIMDAUG.png\n",
            "Processing file: /content/drive/MyDrive/dataset/TeamDeepwave/dataset/open/./train/SOCGQWSR.ogg\n"
          ]
        },
        {
          "output_type": "stream",
          "name": "stderr",
          "text": [
            "\r  1%|          | 345/50000 [04:52<9:24:44,  1.47it/s]"
          ]
        },
        {
          "output_type": "stream",
          "name": "stdout",
          "text": [
            "Saved file: /content/drive/MyDrive/dataset/TeamDeepwave/dataset/preprocessed/train/real/SOCGQWSR.png\n",
            "Processing file: /content/drive/MyDrive/dataset/TeamDeepwave/dataset/open/./train/HMBGBSNN.ogg\n"
          ]
        },
        {
          "output_type": "stream",
          "name": "stderr",
          "text": [
            "\r  1%|          | 346/50000 [04:53<9:00:25,  1.53it/s]"
          ]
        },
        {
          "output_type": "stream",
          "name": "stdout",
          "text": [
            "Saved file: /content/drive/MyDrive/dataset/TeamDeepwave/dataset/preprocessed/train/fake/HMBGBSNN.png\n",
            "Processing file: /content/drive/MyDrive/dataset/TeamDeepwave/dataset/open/./train/TCVEHTIE.ogg\n"
          ]
        },
        {
          "output_type": "stream",
          "name": "stderr",
          "text": [
            "\r  1%|          | 347/50000 [04:53<9:21:48,  1.47it/s]"
          ]
        },
        {
          "output_type": "stream",
          "name": "stdout",
          "text": [
            "Saved file: /content/drive/MyDrive/dataset/TeamDeepwave/dataset/preprocessed/train/real/TCVEHTIE.png\n",
            "Processing file: /content/drive/MyDrive/dataset/TeamDeepwave/dataset/open/./train/KSSMCDQF.ogg\n"
          ]
        },
        {
          "output_type": "stream",
          "name": "stderr",
          "text": [
            "\r  1%|          | 348/50000 [04:54<9:31:17,  1.45it/s]"
          ]
        },
        {
          "output_type": "stream",
          "name": "stdout",
          "text": [
            "Saved file: /content/drive/MyDrive/dataset/TeamDeepwave/dataset/preprocessed/train/fake/KSSMCDQF.png\n",
            "Processing file: /content/drive/MyDrive/dataset/TeamDeepwave/dataset/open/./train/MXSIHUZB.ogg\n"
          ]
        },
        {
          "output_type": "stream",
          "name": "stderr",
          "text": [
            "\r  1%|          | 349/50000 [04:55<9:58:43,  1.38it/s]"
          ]
        },
        {
          "output_type": "stream",
          "name": "stdout",
          "text": [
            "Saved file: /content/drive/MyDrive/dataset/TeamDeepwave/dataset/preprocessed/train/fake/MXSIHUZB.png\n",
            "Processing file: /content/drive/MyDrive/dataset/TeamDeepwave/dataset/open/./train/BZTWQPGW.ogg\n"
          ]
        },
        {
          "output_type": "stream",
          "name": "stderr",
          "text": [
            "\r  1%|          | 350/50000 [04:56<9:44:37,  1.42it/s]"
          ]
        },
        {
          "output_type": "stream",
          "name": "stdout",
          "text": [
            "Saved file: /content/drive/MyDrive/dataset/TeamDeepwave/dataset/preprocessed/train/fake/BZTWQPGW.png\n",
            "Processing file: /content/drive/MyDrive/dataset/TeamDeepwave/dataset/open/./train/CVXGTODI.ogg\n"
          ]
        },
        {
          "output_type": "stream",
          "name": "stderr",
          "text": [
            "\r  1%|          | 351/50000 [04:56<9:46:01,  1.41it/s]"
          ]
        },
        {
          "output_type": "stream",
          "name": "stdout",
          "text": [
            "Saved file: /content/drive/MyDrive/dataset/TeamDeepwave/dataset/preprocessed/train/real/CVXGTODI.png\n",
            "Processing file: /content/drive/MyDrive/dataset/TeamDeepwave/dataset/open/./train/UXQUUIEE.ogg\n"
          ]
        },
        {
          "output_type": "stream",
          "name": "stderr",
          "text": [
            "\r  1%|          | 352/50000 [04:57<9:56:23,  1.39it/s]"
          ]
        },
        {
          "output_type": "stream",
          "name": "stdout",
          "text": [
            "Saved file: /content/drive/MyDrive/dataset/TeamDeepwave/dataset/preprocessed/train/real/UXQUUIEE.png\n",
            "Processing file: /content/drive/MyDrive/dataset/TeamDeepwave/dataset/open/./train/ISZOQZUE.ogg\n"
          ]
        },
        {
          "output_type": "stream",
          "name": "stderr",
          "text": [
            "\r  1%|          | 353/50000 [04:58<9:35:04,  1.44it/s]"
          ]
        },
        {
          "output_type": "stream",
          "name": "stdout",
          "text": [
            "Saved file: /content/drive/MyDrive/dataset/TeamDeepwave/dataset/preprocessed/train/fake/ISZOQZUE.png\n",
            "Processing file: /content/drive/MyDrive/dataset/TeamDeepwave/dataset/open/./train/KJFDEYNI.ogg\n"
          ]
        },
        {
          "output_type": "stream",
          "name": "stderr",
          "text": [
            "\r  1%|          | 354/50000 [04:58<9:08:56,  1.51it/s]"
          ]
        },
        {
          "output_type": "stream",
          "name": "stdout",
          "text": [
            "Saved file: /content/drive/MyDrive/dataset/TeamDeepwave/dataset/preprocessed/train/fake/KJFDEYNI.png\n",
            "Processing file: /content/drive/MyDrive/dataset/TeamDeepwave/dataset/open/./train/FPVPGJZW.ogg\n"
          ]
        },
        {
          "output_type": "stream",
          "name": "stderr",
          "text": [
            "\r  1%|          | 355/50000 [04:59<9:06:45,  1.51it/s]"
          ]
        },
        {
          "output_type": "stream",
          "name": "stdout",
          "text": [
            "Saved file: /content/drive/MyDrive/dataset/TeamDeepwave/dataset/preprocessed/train/fake/FPVPGJZW.png\n",
            "Processing file: /content/drive/MyDrive/dataset/TeamDeepwave/dataset/open/./train/HDOFDWKA.ogg\n"
          ]
        },
        {
          "output_type": "stream",
          "name": "stderr",
          "text": [
            "\r  1%|          | 356/50000 [05:00<9:49:26,  1.40it/s]"
          ]
        },
        {
          "output_type": "stream",
          "name": "stdout",
          "text": [
            "Saved file: /content/drive/MyDrive/dataset/TeamDeepwave/dataset/preprocessed/train/real/HDOFDWKA.png\n",
            "Processing file: /content/drive/MyDrive/dataset/TeamDeepwave/dataset/open/./train/PAVRGZGT.ogg\n"
          ]
        },
        {
          "output_type": "stream",
          "name": "stderr",
          "text": [
            "\r  1%|          | 357/50000 [05:01<10:21:27,  1.33it/s]"
          ]
        },
        {
          "output_type": "stream",
          "name": "stdout",
          "text": [
            "Saved file: /content/drive/MyDrive/dataset/TeamDeepwave/dataset/preprocessed/train/real/PAVRGZGT.png\n",
            "Processing file: /content/drive/MyDrive/dataset/TeamDeepwave/dataset/open/./train/CCIXXRGA.ogg\n"
          ]
        },
        {
          "output_type": "stream",
          "name": "stderr",
          "text": [
            "\r  1%|          | 358/50000 [05:01<10:49:09,  1.27it/s]"
          ]
        },
        {
          "output_type": "stream",
          "name": "stdout",
          "text": [
            "Saved file: /content/drive/MyDrive/dataset/TeamDeepwave/dataset/preprocessed/train/real/CCIXXRGA.png\n",
            "Processing file: /content/drive/MyDrive/dataset/TeamDeepwave/dataset/open/./train/PIDSIUVO.ogg\n"
          ]
        },
        {
          "output_type": "stream",
          "name": "stderr",
          "text": [
            "\r  1%|          | 359/50000 [05:02<11:12:34,  1.23it/s]"
          ]
        },
        {
          "output_type": "stream",
          "name": "stdout",
          "text": [
            "Saved file: /content/drive/MyDrive/dataset/TeamDeepwave/dataset/preprocessed/train/real/PIDSIUVO.png\n",
            "Processing file: /content/drive/MyDrive/dataset/TeamDeepwave/dataset/open/./train/RJCMXDPK.ogg\n"
          ]
        },
        {
          "output_type": "stream",
          "name": "stderr",
          "text": [
            "\r  1%|          | 360/50000 [05:03<11:44:50,  1.17it/s]"
          ]
        },
        {
          "output_type": "stream",
          "name": "stdout",
          "text": [
            "Saved file: /content/drive/MyDrive/dataset/TeamDeepwave/dataset/preprocessed/train/fake/RJCMXDPK.png\n",
            "Processing file: /content/drive/MyDrive/dataset/TeamDeepwave/dataset/open/./train/OFZZLFUA.ogg\n"
          ]
        },
        {
          "output_type": "stream",
          "name": "stderr",
          "text": [
            "\r  1%|          | 361/50000 [05:04<11:43:45,  1.18it/s]"
          ]
        },
        {
          "output_type": "stream",
          "name": "stdout",
          "text": [
            "Saved file: /content/drive/MyDrive/dataset/TeamDeepwave/dataset/preprocessed/train/real/OFZZLFUA.png\n",
            "Processing file: /content/drive/MyDrive/dataset/TeamDeepwave/dataset/open/./train/BZTSWCPV.ogg\n"
          ]
        },
        {
          "output_type": "stream",
          "name": "stderr",
          "text": [
            "\r  1%|          | 362/50000 [05:05<10:57:14,  1.26it/s]"
          ]
        },
        {
          "output_type": "stream",
          "name": "stdout",
          "text": [
            "Saved file: /content/drive/MyDrive/dataset/TeamDeepwave/dataset/preprocessed/train/real/BZTSWCPV.png\n",
            "Processing file: /content/drive/MyDrive/dataset/TeamDeepwave/dataset/open/./train/ZVJQPIRT.ogg\n"
          ]
        },
        {
          "output_type": "stream",
          "name": "stderr",
          "text": [
            "\r  1%|          | 363/50000 [05:05<10:16:59,  1.34it/s]"
          ]
        },
        {
          "output_type": "stream",
          "name": "stdout",
          "text": [
            "Saved file: /content/drive/MyDrive/dataset/TeamDeepwave/dataset/preprocessed/train/real/ZVJQPIRT.png\n",
            "Processing file: /content/drive/MyDrive/dataset/TeamDeepwave/dataset/open/./train/GYZVFXVV.ogg\n"
          ]
        },
        {
          "output_type": "stream",
          "name": "stderr",
          "text": [
            "\r  1%|          | 364/50000 [05:06<10:37:18,  1.30it/s]"
          ]
        },
        {
          "output_type": "stream",
          "name": "stdout",
          "text": [
            "Saved file: /content/drive/MyDrive/dataset/TeamDeepwave/dataset/preprocessed/train/real/GYZVFXVV.png\n",
            "Processing file: /content/drive/MyDrive/dataset/TeamDeepwave/dataset/open/./train/UPAYFIVK.ogg\n"
          ]
        },
        {
          "output_type": "stream",
          "name": "stderr",
          "text": [
            "\r  1%|          | 365/50000 [05:07<10:08:51,  1.36it/s]"
          ]
        },
        {
          "output_type": "stream",
          "name": "stdout",
          "text": [
            "Saved file: /content/drive/MyDrive/dataset/TeamDeepwave/dataset/preprocessed/train/fake/UPAYFIVK.png\n",
            "Processing file: /content/drive/MyDrive/dataset/TeamDeepwave/dataset/open/./train/FWNDSTYA.ogg\n"
          ]
        },
        {
          "output_type": "stream",
          "name": "stderr",
          "text": [
            "\r  1%|          | 366/50000 [05:07<9:25:17,  1.46it/s] "
          ]
        },
        {
          "output_type": "stream",
          "name": "stdout",
          "text": [
            "Saved file: /content/drive/MyDrive/dataset/TeamDeepwave/dataset/preprocessed/train/fake/FWNDSTYA.png\n",
            "Processing file: /content/drive/MyDrive/dataset/TeamDeepwave/dataset/open/./train/OPOCKWSJ.ogg\n"
          ]
        },
        {
          "output_type": "stream",
          "name": "stderr",
          "text": [
            "\r  1%|          | 367/50000 [05:08<9:34:06,  1.44it/s]"
          ]
        },
        {
          "output_type": "stream",
          "name": "stdout",
          "text": [
            "Saved file: /content/drive/MyDrive/dataset/TeamDeepwave/dataset/preprocessed/train/fake/OPOCKWSJ.png\n",
            "Processing file: /content/drive/MyDrive/dataset/TeamDeepwave/dataset/open/./train/RVAAONZU.ogg\n"
          ]
        },
        {
          "output_type": "stream",
          "name": "stderr",
          "text": [
            "\r  1%|          | 368/50000 [05:09<10:10:57,  1.35it/s]"
          ]
        },
        {
          "output_type": "stream",
          "name": "stdout",
          "text": [
            "Saved file: /content/drive/MyDrive/dataset/TeamDeepwave/dataset/preprocessed/train/fake/RVAAONZU.png\n",
            "Processing file: /content/drive/MyDrive/dataset/TeamDeepwave/dataset/open/./train/BSPRJNIO.ogg\n"
          ]
        },
        {
          "output_type": "stream",
          "name": "stderr",
          "text": [
            "\r  1%|          | 369/50000 [05:10<10:26:52,  1.32it/s]"
          ]
        },
        {
          "output_type": "stream",
          "name": "stdout",
          "text": [
            "Saved file: /content/drive/MyDrive/dataset/TeamDeepwave/dataset/preprocessed/train/real/BSPRJNIO.png\n",
            "Processing file: /content/drive/MyDrive/dataset/TeamDeepwave/dataset/open/./train/EJKKSSZV.ogg\n"
          ]
        },
        {
          "output_type": "stream",
          "name": "stderr",
          "text": [
            "\r  1%|          | 370/50000 [05:10<9:37:13,  1.43it/s] "
          ]
        },
        {
          "output_type": "stream",
          "name": "stdout",
          "text": [
            "Saved file: /content/drive/MyDrive/dataset/TeamDeepwave/dataset/preprocessed/train/fake/EJKKSSZV.png\n",
            "Processing file: /content/drive/MyDrive/dataset/TeamDeepwave/dataset/open/./train/RNZKVVSU.ogg\n"
          ]
        },
        {
          "output_type": "stream",
          "name": "stderr",
          "text": [
            "\r  1%|          | 371/50000 [05:11<9:27:22,  1.46it/s]"
          ]
        },
        {
          "output_type": "stream",
          "name": "stdout",
          "text": [
            "Saved file: /content/drive/MyDrive/dataset/TeamDeepwave/dataset/preprocessed/train/real/RNZKVVSU.png\n",
            "Processing file: /content/drive/MyDrive/dataset/TeamDeepwave/dataset/open/./train/QIFUQBUC.ogg\n"
          ]
        },
        {
          "output_type": "stream",
          "name": "stderr",
          "text": [
            "\r  1%|          | 372/50000 [05:13<14:24:04,  1.04s/it]"
          ]
        },
        {
          "output_type": "stream",
          "name": "stdout",
          "text": [
            "Saved file: /content/drive/MyDrive/dataset/TeamDeepwave/dataset/preprocessed/train/fake/QIFUQBUC.png\n",
            "Processing file: /content/drive/MyDrive/dataset/TeamDeepwave/dataset/open/./train/COEDGGXS.ogg\n"
          ]
        },
        {
          "output_type": "stream",
          "name": "stderr",
          "text": [
            "\r  1%|          | 373/50000 [05:14<12:47:16,  1.08it/s]"
          ]
        },
        {
          "output_type": "stream",
          "name": "stdout",
          "text": [
            "Saved file: /content/drive/MyDrive/dataset/TeamDeepwave/dataset/preprocessed/train/real/COEDGGXS.png\n",
            "Processing file: /content/drive/MyDrive/dataset/TeamDeepwave/dataset/open/./train/NIUZTRSJ.ogg\n"
          ]
        },
        {
          "output_type": "stream",
          "name": "stderr",
          "text": [
            "\r  1%|          | 374/50000 [05:14<12:18:40,  1.12it/s]"
          ]
        },
        {
          "output_type": "stream",
          "name": "stdout",
          "text": [
            "Saved file: /content/drive/MyDrive/dataset/TeamDeepwave/dataset/preprocessed/train/fake/NIUZTRSJ.png\n",
            "Processing file: /content/drive/MyDrive/dataset/TeamDeepwave/dataset/open/./train/NIZOUIXV.ogg\n"
          ]
        },
        {
          "output_type": "stream",
          "name": "stderr",
          "text": [
            "\r  1%|          | 375/50000 [05:15<11:55:24,  1.16it/s]"
          ]
        },
        {
          "output_type": "stream",
          "name": "stdout",
          "text": [
            "Saved file: /content/drive/MyDrive/dataset/TeamDeepwave/dataset/preprocessed/train/real/NIZOUIXV.png\n",
            "Processing file: /content/drive/MyDrive/dataset/TeamDeepwave/dataset/open/./train/UKRGEPPO.ogg\n"
          ]
        },
        {
          "output_type": "stream",
          "name": "stderr",
          "text": [
            "\r  1%|          | 376/50000 [05:16<11:49:41,  1.17it/s]"
          ]
        },
        {
          "output_type": "stream",
          "name": "stdout",
          "text": [
            "Saved file: /content/drive/MyDrive/dataset/TeamDeepwave/dataset/preprocessed/train/fake/UKRGEPPO.png\n",
            "Processing file: /content/drive/MyDrive/dataset/TeamDeepwave/dataset/open/./train/GUEBLWWX.ogg\n"
          ]
        },
        {
          "output_type": "stream",
          "name": "stderr",
          "text": [
            "\r  1%|          | 377/50000 [05:17<11:52:08,  1.16it/s]"
          ]
        },
        {
          "output_type": "stream",
          "name": "stdout",
          "text": [
            "Saved file: /content/drive/MyDrive/dataset/TeamDeepwave/dataset/preprocessed/train/real/GUEBLWWX.png\n",
            "Processing file: /content/drive/MyDrive/dataset/TeamDeepwave/dataset/open/./train/KLPTDXHD.ogg\n"
          ]
        },
        {
          "output_type": "stream",
          "name": "stderr",
          "text": [
            "\r  1%|          | 378/50000 [05:18<11:40:11,  1.18it/s]"
          ]
        },
        {
          "output_type": "stream",
          "name": "stdout",
          "text": [
            "Saved file: /content/drive/MyDrive/dataset/TeamDeepwave/dataset/preprocessed/train/real/KLPTDXHD.png\n",
            "Processing file: /content/drive/MyDrive/dataset/TeamDeepwave/dataset/open/./train/ZXZRXDCK.ogg\n"
          ]
        },
        {
          "output_type": "stream",
          "name": "stderr",
          "text": [
            "\r  1%|          | 379/50000 [05:18<10:36:14,  1.30it/s]"
          ]
        },
        {
          "output_type": "stream",
          "name": "stdout",
          "text": [
            "Saved file: /content/drive/MyDrive/dataset/TeamDeepwave/dataset/preprocessed/train/fake/ZXZRXDCK.png\n",
            "Processing file: /content/drive/MyDrive/dataset/TeamDeepwave/dataset/open/./train/UJDPGCIC.ogg\n"
          ]
        },
        {
          "output_type": "stream",
          "name": "stderr",
          "text": [
            "\r  1%|          | 380/50000 [05:19<10:08:21,  1.36it/s]"
          ]
        },
        {
          "output_type": "stream",
          "name": "stdout",
          "text": [
            "Saved file: /content/drive/MyDrive/dataset/TeamDeepwave/dataset/preprocessed/train/fake/UJDPGCIC.png\n",
            "Processing file: /content/drive/MyDrive/dataset/TeamDeepwave/dataset/open/./train/GFSLZDGH.ogg\n"
          ]
        },
        {
          "output_type": "stream",
          "name": "stderr",
          "text": [
            "\r  1%|          | 381/50000 [05:20<10:19:39,  1.33it/s]"
          ]
        },
        {
          "output_type": "stream",
          "name": "stdout",
          "text": [
            "Saved file: /content/drive/MyDrive/dataset/TeamDeepwave/dataset/preprocessed/train/fake/GFSLZDGH.png\n",
            "Processing file: /content/drive/MyDrive/dataset/TeamDeepwave/dataset/open/./train/GCASMRIJ.ogg\n"
          ]
        },
        {
          "output_type": "stream",
          "name": "stderr",
          "text": [
            "\r  1%|          | 382/50000 [05:21<10:37:55,  1.30it/s]"
          ]
        },
        {
          "output_type": "stream",
          "name": "stdout",
          "text": [
            "Saved file: /content/drive/MyDrive/dataset/TeamDeepwave/dataset/preprocessed/train/fake/GCASMRIJ.png\n",
            "Processing file: /content/drive/MyDrive/dataset/TeamDeepwave/dataset/open/./train/GYGMYEBP.ogg\n"
          ]
        },
        {
          "output_type": "stream",
          "name": "stderr",
          "text": [
            "\r  1%|          | 383/50000 [05:21<10:10:06,  1.36it/s]"
          ]
        },
        {
          "output_type": "stream",
          "name": "stdout",
          "text": [
            "Saved file: /content/drive/MyDrive/dataset/TeamDeepwave/dataset/preprocessed/train/real/GYGMYEBP.png\n",
            "Processing file: /content/drive/MyDrive/dataset/TeamDeepwave/dataset/open/./train/SFALTCGE.ogg\n"
          ]
        },
        {
          "output_type": "stream",
          "name": "stderr",
          "text": [
            "\r  1%|          | 384/50000 [05:22<10:01:56,  1.37it/s]"
          ]
        },
        {
          "output_type": "stream",
          "name": "stdout",
          "text": [
            "Saved file: /content/drive/MyDrive/dataset/TeamDeepwave/dataset/preprocessed/train/fake/SFALTCGE.png\n",
            "Processing file: /content/drive/MyDrive/dataset/TeamDeepwave/dataset/open/./train/WDIAVRPI.ogg\n"
          ]
        },
        {
          "output_type": "stream",
          "name": "stderr",
          "text": [
            "\r  1%|          | 385/50000 [05:23<10:22:21,  1.33it/s]"
          ]
        },
        {
          "output_type": "stream",
          "name": "stdout",
          "text": [
            "Saved file: /content/drive/MyDrive/dataset/TeamDeepwave/dataset/preprocessed/train/fake/WDIAVRPI.png\n",
            "Processing file: /content/drive/MyDrive/dataset/TeamDeepwave/dataset/open/./train/SZWLHUNU.ogg\n"
          ]
        },
        {
          "output_type": "stream",
          "name": "stderr",
          "text": [
            "\r  1%|          | 386/50000 [05:24<11:00:20,  1.25it/s]"
          ]
        },
        {
          "output_type": "stream",
          "name": "stdout",
          "text": [
            "Saved file: /content/drive/MyDrive/dataset/TeamDeepwave/dataset/preprocessed/train/real/SZWLHUNU.png\n",
            "Processing file: /content/drive/MyDrive/dataset/TeamDeepwave/dataset/open/./train/ECAYMVBS.ogg\n"
          ]
        },
        {
          "output_type": "stream",
          "name": "stderr",
          "text": [
            "\r  1%|          | 387/50000 [05:24<10:53:29,  1.27it/s]"
          ]
        },
        {
          "output_type": "stream",
          "name": "stdout",
          "text": [
            "Saved file: /content/drive/MyDrive/dataset/TeamDeepwave/dataset/preprocessed/train/fake/ECAYMVBS.png\n",
            "Processing file: /content/drive/MyDrive/dataset/TeamDeepwave/dataset/open/./train/JNYEHXVN.ogg\n"
          ]
        },
        {
          "output_type": "stream",
          "name": "stderr",
          "text": [
            "\r  1%|          | 388/50000 [05:25<11:10:44,  1.23it/s]"
          ]
        },
        {
          "output_type": "stream",
          "name": "stdout",
          "text": [
            "Saved file: /content/drive/MyDrive/dataset/TeamDeepwave/dataset/preprocessed/train/fake/JNYEHXVN.png\n",
            "Processing file: /content/drive/MyDrive/dataset/TeamDeepwave/dataset/open/./train/LTIDHWHC.ogg\n"
          ]
        },
        {
          "output_type": "stream",
          "name": "stderr",
          "text": [
            "\r  1%|          | 389/50000 [05:26<10:31:23,  1.31it/s]"
          ]
        },
        {
          "output_type": "stream",
          "name": "stdout",
          "text": [
            "Saved file: /content/drive/MyDrive/dataset/TeamDeepwave/dataset/preprocessed/train/fake/LTIDHWHC.png\n",
            "Processing file: /content/drive/MyDrive/dataset/TeamDeepwave/dataset/open/./train/EQCXOPTZ.ogg\n"
          ]
        },
        {
          "output_type": "stream",
          "name": "stderr",
          "text": [
            "\r  1%|          | 390/50000 [05:27<10:21:50,  1.33it/s]"
          ]
        },
        {
          "output_type": "stream",
          "name": "stdout",
          "text": [
            "Saved file: /content/drive/MyDrive/dataset/TeamDeepwave/dataset/preprocessed/train/real/EQCXOPTZ.png\n",
            "Processing file: /content/drive/MyDrive/dataset/TeamDeepwave/dataset/open/./train/GMCNYVGC.ogg\n"
          ]
        },
        {
          "output_type": "stream",
          "name": "stderr",
          "text": [
            "\r  1%|          | 391/50000 [05:27<9:57:58,  1.38it/s] "
          ]
        },
        {
          "output_type": "stream",
          "name": "stdout",
          "text": [
            "Saved file: /content/drive/MyDrive/dataset/TeamDeepwave/dataset/preprocessed/train/fake/GMCNYVGC.png\n",
            "Processing file: /content/drive/MyDrive/dataset/TeamDeepwave/dataset/open/./train/SHKMYSVV.ogg\n"
          ]
        },
        {
          "output_type": "stream",
          "name": "stderr",
          "text": [
            "\r  1%|          | 392/50000 [05:28<10:05:33,  1.37it/s]"
          ]
        },
        {
          "output_type": "stream",
          "name": "stdout",
          "text": [
            "Saved file: /content/drive/MyDrive/dataset/TeamDeepwave/dataset/preprocessed/train/fake/SHKMYSVV.png\n",
            "Processing file: /content/drive/MyDrive/dataset/TeamDeepwave/dataset/open/./train/AYGYRQHM.ogg\n"
          ]
        },
        {
          "output_type": "stream",
          "name": "stderr",
          "text": [
            "\r  1%|          | 393/50000 [05:29<11:21:35,  1.21it/s]"
          ]
        },
        {
          "output_type": "stream",
          "name": "stdout",
          "text": [
            "Saved file: /content/drive/MyDrive/dataset/TeamDeepwave/dataset/preprocessed/train/real/AYGYRQHM.png\n",
            "Processing file: /content/drive/MyDrive/dataset/TeamDeepwave/dataset/open/./train/IAHNLLHS.ogg\n"
          ]
        },
        {
          "output_type": "stream",
          "name": "stderr",
          "text": [
            "\r  1%|          | 394/50000 [05:30<11:03:03,  1.25it/s]"
          ]
        },
        {
          "output_type": "stream",
          "name": "stdout",
          "text": [
            "Saved file: /content/drive/MyDrive/dataset/TeamDeepwave/dataset/preprocessed/train/fake/IAHNLLHS.png\n",
            "Processing file: /content/drive/MyDrive/dataset/TeamDeepwave/dataset/open/./train/SFYXLQGG.ogg\n"
          ]
        },
        {
          "output_type": "stream",
          "name": "stderr",
          "text": [
            "\r  1%|          | 395/50000 [05:31<11:36:14,  1.19it/s]"
          ]
        },
        {
          "output_type": "stream",
          "name": "stdout",
          "text": [
            "Saved file: /content/drive/MyDrive/dataset/TeamDeepwave/dataset/preprocessed/train/fake/SFYXLQGG.png\n",
            "Processing file: /content/drive/MyDrive/dataset/TeamDeepwave/dataset/open/./train/WCHTNYIB.ogg\n"
          ]
        },
        {
          "output_type": "stream",
          "name": "stderr",
          "text": [
            "\r  1%|          | 396/50000 [05:32<11:10:33,  1.23it/s]"
          ]
        },
        {
          "output_type": "stream",
          "name": "stdout",
          "text": [
            "Saved file: /content/drive/MyDrive/dataset/TeamDeepwave/dataset/preprocessed/train/real/WCHTNYIB.png\n",
            "Processing file: /content/drive/MyDrive/dataset/TeamDeepwave/dataset/open/./train/ONTNJRRB.ogg\n"
          ]
        },
        {
          "output_type": "stream",
          "name": "stderr",
          "text": [
            "\r  1%|          | 397/50000 [05:32<11:00:42,  1.25it/s]"
          ]
        },
        {
          "output_type": "stream",
          "name": "stdout",
          "text": [
            "Saved file: /content/drive/MyDrive/dataset/TeamDeepwave/dataset/preprocessed/train/real/ONTNJRRB.png\n",
            "Processing file: /content/drive/MyDrive/dataset/TeamDeepwave/dataset/open/./train/ZTPRZSNL.ogg\n"
          ]
        },
        {
          "output_type": "stream",
          "name": "stderr",
          "text": [
            "\r  1%|          | 398/50000 [05:33<10:16:40,  1.34it/s]"
          ]
        },
        {
          "output_type": "stream",
          "name": "stdout",
          "text": [
            "Saved file: /content/drive/MyDrive/dataset/TeamDeepwave/dataset/preprocessed/train/fake/ZTPRZSNL.png\n",
            "Processing file: /content/drive/MyDrive/dataset/TeamDeepwave/dataset/open/./train/OVCZVIHM.ogg\n"
          ]
        },
        {
          "output_type": "stream",
          "name": "stderr",
          "text": [
            "\r  1%|          | 399/50000 [05:34<9:54:39,  1.39it/s] "
          ]
        },
        {
          "output_type": "stream",
          "name": "stdout",
          "text": [
            "Saved file: /content/drive/MyDrive/dataset/TeamDeepwave/dataset/preprocessed/train/real/OVCZVIHM.png\n",
            "Processing file: /content/drive/MyDrive/dataset/TeamDeepwave/dataset/open/./train/FPIDGQZP.ogg\n"
          ]
        },
        {
          "output_type": "stream",
          "name": "stderr",
          "text": [
            "\r  1%|          | 400/50000 [05:34<9:25:56,  1.46it/s]"
          ]
        },
        {
          "output_type": "stream",
          "name": "stdout",
          "text": [
            "Saved file: /content/drive/MyDrive/dataset/TeamDeepwave/dataset/preprocessed/train/fake/FPIDGQZP.png\n",
            "Processing file: /content/drive/MyDrive/dataset/TeamDeepwave/dataset/open/./train/VVUWFDLO.ogg\n"
          ]
        },
        {
          "output_type": "stream",
          "name": "stderr",
          "text": [
            "\r  1%|          | 401/50000 [05:35<9:05:05,  1.52it/s]"
          ]
        },
        {
          "output_type": "stream",
          "name": "stdout",
          "text": [
            "Saved file: /content/drive/MyDrive/dataset/TeamDeepwave/dataset/preprocessed/train/fake/VVUWFDLO.png\n",
            "Processing file: /content/drive/MyDrive/dataset/TeamDeepwave/dataset/open/./train/ZZXETYQL.ogg\n"
          ]
        },
        {
          "output_type": "stream",
          "name": "stderr",
          "text": [
            "\r  1%|          | 402/50000 [05:35<8:48:14,  1.56it/s]"
          ]
        },
        {
          "output_type": "stream",
          "name": "stdout",
          "text": [
            "Saved file: /content/drive/MyDrive/dataset/TeamDeepwave/dataset/preprocessed/train/fake/ZZXETYQL.png\n",
            "Processing file: /content/drive/MyDrive/dataset/TeamDeepwave/dataset/open/./train/QDOKVNFA.ogg\n"
          ]
        },
        {
          "output_type": "stream",
          "name": "stderr",
          "text": [
            "\r  1%|          | 403/50000 [05:36<9:10:23,  1.50it/s]"
          ]
        },
        {
          "output_type": "stream",
          "name": "stdout",
          "text": [
            "Saved file: /content/drive/MyDrive/dataset/TeamDeepwave/dataset/preprocessed/train/fake/QDOKVNFA.png\n",
            "Processing file: /content/drive/MyDrive/dataset/TeamDeepwave/dataset/open/./train/MMKZHDEF.ogg\n"
          ]
        },
        {
          "output_type": "stream",
          "name": "stderr",
          "text": [
            "\r  1%|          | 404/50000 [05:37<10:10:52,  1.35it/s]"
          ]
        },
        {
          "output_type": "stream",
          "name": "stdout",
          "text": [
            "Saved file: /content/drive/MyDrive/dataset/TeamDeepwave/dataset/preprocessed/train/real/MMKZHDEF.png\n",
            "Processing file: /content/drive/MyDrive/dataset/TeamDeepwave/dataset/open/./train/USWYXPUP.ogg\n"
          ]
        },
        {
          "output_type": "stream",
          "name": "stderr",
          "text": [
            "\r  1%|          | 405/50000 [05:38<10:02:18,  1.37it/s]"
          ]
        },
        {
          "output_type": "stream",
          "name": "stdout",
          "text": [
            "Saved file: /content/drive/MyDrive/dataset/TeamDeepwave/dataset/preprocessed/train/real/USWYXPUP.png\n",
            "Processing file: /content/drive/MyDrive/dataset/TeamDeepwave/dataset/open/./train/AMFVVMBM.ogg\n"
          ]
        },
        {
          "output_type": "stream",
          "name": "stderr",
          "text": [
            "\r  1%|          | 406/50000 [05:38<9:46:23,  1.41it/s] "
          ]
        },
        {
          "output_type": "stream",
          "name": "stdout",
          "text": [
            "Saved file: /content/drive/MyDrive/dataset/TeamDeepwave/dataset/preprocessed/train/fake/AMFVVMBM.png\n",
            "Processing file: /content/drive/MyDrive/dataset/TeamDeepwave/dataset/open/./train/ARRAWLXI.ogg\n"
          ]
        },
        {
          "output_type": "stream",
          "name": "stderr",
          "text": [
            "\r  1%|          | 407/50000 [05:39<9:50:59,  1.40it/s]"
          ]
        },
        {
          "output_type": "stream",
          "name": "stdout",
          "text": [
            "Saved file: /content/drive/MyDrive/dataset/TeamDeepwave/dataset/preprocessed/train/fake/ARRAWLXI.png\n",
            "Processing file: /content/drive/MyDrive/dataset/TeamDeepwave/dataset/open/./train/GPAOZNYV.ogg\n"
          ]
        },
        {
          "output_type": "stream",
          "name": "stderr",
          "text": [
            "\r  1%|          | 408/50000 [05:40<9:33:50,  1.44it/s]"
          ]
        },
        {
          "output_type": "stream",
          "name": "stdout",
          "text": [
            "Saved file: /content/drive/MyDrive/dataset/TeamDeepwave/dataset/preprocessed/train/fake/GPAOZNYV.png\n",
            "Processing file: /content/drive/MyDrive/dataset/TeamDeepwave/dataset/open/./train/COFEFPXM.ogg\n"
          ]
        },
        {
          "output_type": "stream",
          "name": "stderr",
          "text": [
            "\r  1%|          | 409/50000 [05:41<9:54:52,  1.39it/s]"
          ]
        },
        {
          "output_type": "stream",
          "name": "stdout",
          "text": [
            "Saved file: /content/drive/MyDrive/dataset/TeamDeepwave/dataset/preprocessed/train/real/COFEFPXM.png\n",
            "Processing file: /content/drive/MyDrive/dataset/TeamDeepwave/dataset/open/./train/VENYTWXR.ogg\n"
          ]
        },
        {
          "output_type": "stream",
          "name": "stderr",
          "text": [
            "\r  1%|          | 410/50000 [05:41<9:31:46,  1.45it/s]"
          ]
        },
        {
          "output_type": "stream",
          "name": "stdout",
          "text": [
            "Saved file: /content/drive/MyDrive/dataset/TeamDeepwave/dataset/preprocessed/train/fake/VENYTWXR.png\n",
            "Processing file: /content/drive/MyDrive/dataset/TeamDeepwave/dataset/open/./train/CMHRHECR.ogg\n"
          ]
        },
        {
          "output_type": "stream",
          "name": "stderr",
          "text": [
            "\r  1%|          | 411/50000 [05:42<10:05:35,  1.36it/s]"
          ]
        },
        {
          "output_type": "stream",
          "name": "stdout",
          "text": [
            "Saved file: /content/drive/MyDrive/dataset/TeamDeepwave/dataset/preprocessed/train/fake/CMHRHECR.png\n",
            "Processing file: /content/drive/MyDrive/dataset/TeamDeepwave/dataset/open/./train/URQLMFZD.ogg\n"
          ]
        },
        {
          "output_type": "stream",
          "name": "stderr",
          "text": [
            "\r  1%|          | 412/50000 [05:43<11:19:24,  1.22it/s]"
          ]
        },
        {
          "output_type": "stream",
          "name": "stdout",
          "text": [
            "Saved file: /content/drive/MyDrive/dataset/TeamDeepwave/dataset/preprocessed/train/real/URQLMFZD.png\n",
            "Processing file: /content/drive/MyDrive/dataset/TeamDeepwave/dataset/open/./train/VFDCKIPC.ogg\n"
          ]
        },
        {
          "output_type": "stream",
          "name": "stderr",
          "text": [
            "\r  1%|          | 413/50000 [05:44<11:45:00,  1.17it/s]"
          ]
        },
        {
          "output_type": "stream",
          "name": "stdout",
          "text": [
            "Saved file: /content/drive/MyDrive/dataset/TeamDeepwave/dataset/preprocessed/train/real/VFDCKIPC.png\n",
            "Processing file: /content/drive/MyDrive/dataset/TeamDeepwave/dataset/open/./train/YDCQKJQF.ogg\n"
          ]
        },
        {
          "output_type": "stream",
          "name": "stderr",
          "text": [
            "\r  1%|          | 414/50000 [05:45<11:54:11,  1.16it/s]"
          ]
        },
        {
          "output_type": "stream",
          "name": "stdout",
          "text": [
            "Saved file: /content/drive/MyDrive/dataset/TeamDeepwave/dataset/preprocessed/train/fake/YDCQKJQF.png\n",
            "Processing file: /content/drive/MyDrive/dataset/TeamDeepwave/dataset/open/./train/MHHWLBBK.ogg\n"
          ]
        },
        {
          "output_type": "stream",
          "name": "stderr",
          "text": [
            "\r  1%|          | 415/50000 [05:46<11:03:45,  1.25it/s]"
          ]
        },
        {
          "output_type": "stream",
          "name": "stdout",
          "text": [
            "Saved file: /content/drive/MyDrive/dataset/TeamDeepwave/dataset/preprocessed/train/fake/MHHWLBBK.png\n",
            "Processing file: /content/drive/MyDrive/dataset/TeamDeepwave/dataset/open/./train/ULUBQKSV.ogg\n"
          ]
        },
        {
          "output_type": "stream",
          "name": "stderr",
          "text": [
            "\r  1%|          | 416/50000 [05:46<10:24:53,  1.32it/s]"
          ]
        },
        {
          "output_type": "stream",
          "name": "stdout",
          "text": [
            "Saved file: /content/drive/MyDrive/dataset/TeamDeepwave/dataset/preprocessed/train/fake/ULUBQKSV.png\n",
            "Processing file: /content/drive/MyDrive/dataset/TeamDeepwave/dataset/open/./train/LNQPNHPT.ogg\n"
          ]
        },
        {
          "output_type": "stream",
          "name": "stderr",
          "text": [
            "\r  1%|          | 417/50000 [05:47<10:06:18,  1.36it/s]"
          ]
        },
        {
          "output_type": "stream",
          "name": "stdout",
          "text": [
            "Saved file: /content/drive/MyDrive/dataset/TeamDeepwave/dataset/preprocessed/train/real/LNQPNHPT.png\n",
            "Processing file: /content/drive/MyDrive/dataset/TeamDeepwave/dataset/open/./train/XRCHYEJP.ogg\n"
          ]
        },
        {
          "output_type": "stream",
          "name": "stderr",
          "text": [
            "\r  1%|          | 418/50000 [05:48<9:52:51,  1.39it/s] "
          ]
        },
        {
          "output_type": "stream",
          "name": "stdout",
          "text": [
            "Saved file: /content/drive/MyDrive/dataset/TeamDeepwave/dataset/preprocessed/train/fake/XRCHYEJP.png\n",
            "Processing file: /content/drive/MyDrive/dataset/TeamDeepwave/dataset/open/./train/IFQXGHYN.ogg\n"
          ]
        },
        {
          "output_type": "stream",
          "name": "stderr",
          "text": [
            "\r  1%|          | 419/50000 [05:48<9:22:25,  1.47it/s]"
          ]
        },
        {
          "output_type": "stream",
          "name": "stdout",
          "text": [
            "Saved file: /content/drive/MyDrive/dataset/TeamDeepwave/dataset/preprocessed/train/real/IFQXGHYN.png\n",
            "Processing file: /content/drive/MyDrive/dataset/TeamDeepwave/dataset/open/./train/EIXNNLZA.ogg\n"
          ]
        },
        {
          "output_type": "stream",
          "name": "stderr",
          "text": [
            "\r  1%|          | 420/50000 [05:49<9:25:19,  1.46it/s]"
          ]
        },
        {
          "output_type": "stream",
          "name": "stdout",
          "text": [
            "Saved file: /content/drive/MyDrive/dataset/TeamDeepwave/dataset/preprocessed/train/real/EIXNNLZA.png\n",
            "Processing file: /content/drive/MyDrive/dataset/TeamDeepwave/dataset/open/./train/KYYVCRHN.ogg\n"
          ]
        },
        {
          "output_type": "stream",
          "name": "stderr",
          "text": [
            "\r  1%|          | 421/50000 [05:49<9:19:05,  1.48it/s]"
          ]
        },
        {
          "output_type": "stream",
          "name": "stdout",
          "text": [
            "Saved file: /content/drive/MyDrive/dataset/TeamDeepwave/dataset/preprocessed/train/fake/KYYVCRHN.png\n",
            "Processing file: /content/drive/MyDrive/dataset/TeamDeepwave/dataset/open/./train/YAVFOPNA.ogg\n"
          ]
        },
        {
          "output_type": "stream",
          "name": "stderr",
          "text": [
            "\r  1%|          | 422/50000 [05:50<9:20:06,  1.48it/s]"
          ]
        },
        {
          "output_type": "stream",
          "name": "stdout",
          "text": [
            "Saved file: /content/drive/MyDrive/dataset/TeamDeepwave/dataset/preprocessed/train/real/YAVFOPNA.png\n",
            "Processing file: /content/drive/MyDrive/dataset/TeamDeepwave/dataset/open/./train/QQBUBOZS.ogg\n"
          ]
        },
        {
          "output_type": "stream",
          "name": "stderr",
          "text": [
            "\r  1%|          | 423/50000 [05:51<9:03:08,  1.52it/s]"
          ]
        },
        {
          "output_type": "stream",
          "name": "stdout",
          "text": [
            "Saved file: /content/drive/MyDrive/dataset/TeamDeepwave/dataset/preprocessed/train/fake/QQBUBOZS.png\n",
            "Processing file: /content/drive/MyDrive/dataset/TeamDeepwave/dataset/open/./train/RYPDBHMH.ogg\n"
          ]
        },
        {
          "output_type": "stream",
          "name": "stderr",
          "text": [
            "\r  1%|          | 424/50000 [05:52<9:24:38,  1.46it/s]"
          ]
        },
        {
          "output_type": "stream",
          "name": "stdout",
          "text": [
            "Saved file: /content/drive/MyDrive/dataset/TeamDeepwave/dataset/preprocessed/train/real/RYPDBHMH.png\n",
            "Processing file: /content/drive/MyDrive/dataset/TeamDeepwave/dataset/open/./train/WQZEHRVF.ogg\n"
          ]
        },
        {
          "output_type": "stream",
          "name": "stderr",
          "text": [
            "\r  1%|          | 425/50000 [05:52<9:40:10,  1.42it/s]"
          ]
        },
        {
          "output_type": "stream",
          "name": "stdout",
          "text": [
            "Saved file: /content/drive/MyDrive/dataset/TeamDeepwave/dataset/preprocessed/train/real/WQZEHRVF.png\n",
            "Processing file: /content/drive/MyDrive/dataset/TeamDeepwave/dataset/open/./train/OVEOVYCA.ogg\n"
          ]
        },
        {
          "output_type": "stream",
          "name": "stderr",
          "text": [
            "\r  1%|          | 426/50000 [05:53<9:30:09,  1.45it/s]"
          ]
        },
        {
          "output_type": "stream",
          "name": "stdout",
          "text": [
            "Saved file: /content/drive/MyDrive/dataset/TeamDeepwave/dataset/preprocessed/train/fake/OVEOVYCA.png\n",
            "Processing file: /content/drive/MyDrive/dataset/TeamDeepwave/dataset/open/./train/HFCDSGNZ.ogg\n"
          ]
        },
        {
          "output_type": "stream",
          "name": "stderr",
          "text": [
            "\r  1%|          | 427/50000 [05:54<9:41:49,  1.42it/s]"
          ]
        },
        {
          "output_type": "stream",
          "name": "stdout",
          "text": [
            "Saved file: /content/drive/MyDrive/dataset/TeamDeepwave/dataset/preprocessed/train/fake/HFCDSGNZ.png\n",
            "Processing file: /content/drive/MyDrive/dataset/TeamDeepwave/dataset/open/./train/NVDHWGNZ.ogg\n"
          ]
        },
        {
          "output_type": "stream",
          "name": "stderr",
          "text": [
            "\r  1%|          | 428/50000 [05:54<9:35:10,  1.44it/s]"
          ]
        },
        {
          "output_type": "stream",
          "name": "stdout",
          "text": [
            "Saved file: /content/drive/MyDrive/dataset/TeamDeepwave/dataset/preprocessed/train/fake/NVDHWGNZ.png\n",
            "Processing file: /content/drive/MyDrive/dataset/TeamDeepwave/dataset/open/./train/EJTRNAMI.ogg\n"
          ]
        },
        {
          "output_type": "stream",
          "name": "stderr",
          "text": [
            "\r  1%|          | 429/50000 [05:55<9:08:10,  1.51it/s]"
          ]
        },
        {
          "output_type": "stream",
          "name": "stdout",
          "text": [
            "Saved file: /content/drive/MyDrive/dataset/TeamDeepwave/dataset/preprocessed/train/fake/EJTRNAMI.png\n",
            "Processing file: /content/drive/MyDrive/dataset/TeamDeepwave/dataset/open/./train/MOBLJESZ.ogg\n"
          ]
        },
        {
          "output_type": "stream",
          "name": "stderr",
          "text": [
            "\r  1%|          | 430/50000 [05:56<9:35:00,  1.44it/s]"
          ]
        },
        {
          "output_type": "stream",
          "name": "stdout",
          "text": [
            "Saved file: /content/drive/MyDrive/dataset/TeamDeepwave/dataset/preprocessed/train/fake/MOBLJESZ.png\n",
            "Processing file: /content/drive/MyDrive/dataset/TeamDeepwave/dataset/open/./train/WHVZTRJN.ogg\n"
          ]
        },
        {
          "output_type": "stream",
          "name": "stderr",
          "text": [
            "\r  1%|          | 431/50000 [05:57<10:11:02,  1.35it/s]"
          ]
        },
        {
          "output_type": "stream",
          "name": "stdout",
          "text": [
            "Saved file: /content/drive/MyDrive/dataset/TeamDeepwave/dataset/preprocessed/train/fake/WHVZTRJN.png\n",
            "Processing file: /content/drive/MyDrive/dataset/TeamDeepwave/dataset/open/./train/LZGDDLBZ.ogg\n"
          ]
        },
        {
          "output_type": "stream",
          "name": "stderr",
          "text": [
            "\r  1%|          | 432/50000 [05:57<10:21:52,  1.33it/s]"
          ]
        },
        {
          "output_type": "stream",
          "name": "stdout",
          "text": [
            "Saved file: /content/drive/MyDrive/dataset/TeamDeepwave/dataset/preprocessed/train/fake/LZGDDLBZ.png\n",
            "Processing file: /content/drive/MyDrive/dataset/TeamDeepwave/dataset/open/./train/HIUQDGDL.ogg\n"
          ]
        },
        {
          "output_type": "stream",
          "name": "stderr",
          "text": [
            "\r  1%|          | 433/50000 [05:58<11:06:11,  1.24it/s]"
          ]
        },
        {
          "output_type": "stream",
          "name": "stdout",
          "text": [
            "Saved file: /content/drive/MyDrive/dataset/TeamDeepwave/dataset/preprocessed/train/fake/HIUQDGDL.png\n",
            "Processing file: /content/drive/MyDrive/dataset/TeamDeepwave/dataset/open/./train/TYJMTQCD.ogg\n"
          ]
        },
        {
          "output_type": "stream",
          "name": "stderr",
          "text": [
            "\r  1%|          | 434/50000 [05:59<10:53:36,  1.26it/s]"
          ]
        },
        {
          "output_type": "stream",
          "name": "stdout",
          "text": [
            "Saved file: /content/drive/MyDrive/dataset/TeamDeepwave/dataset/preprocessed/train/real/TYJMTQCD.png\n",
            "Processing file: /content/drive/MyDrive/dataset/TeamDeepwave/dataset/open/./train/OHQJQMMD.ogg\n"
          ]
        },
        {
          "output_type": "stream",
          "name": "stderr",
          "text": [
            "\r  1%|          | 435/50000 [06:00<10:25:45,  1.32it/s]"
          ]
        },
        {
          "output_type": "stream",
          "name": "stdout",
          "text": [
            "Saved file: /content/drive/MyDrive/dataset/TeamDeepwave/dataset/preprocessed/train/fake/OHQJQMMD.png\n",
            "Processing file: /content/drive/MyDrive/dataset/TeamDeepwave/dataset/open/./train/CGJPTDTP.ogg\n"
          ]
        },
        {
          "output_type": "stream",
          "name": "stderr",
          "text": [
            "\r  1%|          | 436/50000 [06:00<10:29:05,  1.31it/s]"
          ]
        },
        {
          "output_type": "stream",
          "name": "stdout",
          "text": [
            "Saved file: /content/drive/MyDrive/dataset/TeamDeepwave/dataset/preprocessed/train/fake/CGJPTDTP.png\n",
            "Processing file: /content/drive/MyDrive/dataset/TeamDeepwave/dataset/open/./train/CHDYRUYL.ogg\n"
          ]
        },
        {
          "output_type": "stream",
          "name": "stderr",
          "text": [
            "\r  1%|          | 437/50000 [06:01<9:42:58,  1.42it/s] "
          ]
        },
        {
          "output_type": "stream",
          "name": "stdout",
          "text": [
            "Saved file: /content/drive/MyDrive/dataset/TeamDeepwave/dataset/preprocessed/train/fake/CHDYRUYL.png\n",
            "Processing file: /content/drive/MyDrive/dataset/TeamDeepwave/dataset/open/./train/GDSVEUUQ.ogg\n"
          ]
        },
        {
          "output_type": "stream",
          "name": "stderr",
          "text": [
            "\r  1%|          | 438/50000 [06:02<9:41:18,  1.42it/s]"
          ]
        },
        {
          "output_type": "stream",
          "name": "stdout",
          "text": [
            "Saved file: /content/drive/MyDrive/dataset/TeamDeepwave/dataset/preprocessed/train/real/GDSVEUUQ.png\n",
            "Processing file: /content/drive/MyDrive/dataset/TeamDeepwave/dataset/open/./train/AYZTYXLV.ogg\n"
          ]
        },
        {
          "output_type": "stream",
          "name": "stderr",
          "text": [
            "\r  1%|          | 439/50000 [06:02<9:18:55,  1.48it/s]"
          ]
        },
        {
          "output_type": "stream",
          "name": "stdout",
          "text": [
            "Saved file: /content/drive/MyDrive/dataset/TeamDeepwave/dataset/preprocessed/train/fake/AYZTYXLV.png\n",
            "Processing file: /content/drive/MyDrive/dataset/TeamDeepwave/dataset/open/./train/AYHYSNKX.ogg\n"
          ]
        },
        {
          "output_type": "stream",
          "name": "stderr",
          "text": [
            "\r  1%|          | 440/50000 [06:03<8:59:23,  1.53it/s]"
          ]
        },
        {
          "output_type": "stream",
          "name": "stdout",
          "text": [
            "Saved file: /content/drive/MyDrive/dataset/TeamDeepwave/dataset/preprocessed/train/fake/AYHYSNKX.png\n",
            "Processing file: /content/drive/MyDrive/dataset/TeamDeepwave/dataset/open/./train/ZICHBYZA.ogg\n"
          ]
        },
        {
          "output_type": "stream",
          "name": "stderr",
          "text": [
            "\r  1%|          | 441/50000 [06:04<8:51:13,  1.55it/s]"
          ]
        },
        {
          "output_type": "stream",
          "name": "stdout",
          "text": [
            "Saved file: /content/drive/MyDrive/dataset/TeamDeepwave/dataset/preprocessed/train/fake/ZICHBYZA.png\n",
            "Processing file: /content/drive/MyDrive/dataset/TeamDeepwave/dataset/open/./train/CEQEFZWY.ogg\n"
          ]
        },
        {
          "output_type": "stream",
          "name": "stderr",
          "text": [
            "\r  1%|          | 442/50000 [06:04<8:46:47,  1.57it/s]"
          ]
        },
        {
          "output_type": "stream",
          "name": "stdout",
          "text": [
            "Saved file: /content/drive/MyDrive/dataset/TeamDeepwave/dataset/preprocessed/train/real/CEQEFZWY.png\n",
            "Processing file: /content/drive/MyDrive/dataset/TeamDeepwave/dataset/open/./train/FAVTIKIE.ogg\n"
          ]
        },
        {
          "output_type": "stream",
          "name": "stderr",
          "text": [
            "\r  1%|          | 443/50000 [06:05<10:15:11,  1.34it/s]"
          ]
        },
        {
          "output_type": "stream",
          "name": "stdout",
          "text": [
            "Saved file: /content/drive/MyDrive/dataset/TeamDeepwave/dataset/preprocessed/train/real/FAVTIKIE.png\n",
            "Processing file: /content/drive/MyDrive/dataset/TeamDeepwave/dataset/open/./train/SQLQCHBZ.ogg\n"
          ]
        },
        {
          "output_type": "stream",
          "name": "stderr",
          "text": [
            "\r  1%|          | 444/50000 [06:06<9:56:52,  1.38it/s] "
          ]
        },
        {
          "output_type": "stream",
          "name": "stdout",
          "text": [
            "Saved file: /content/drive/MyDrive/dataset/TeamDeepwave/dataset/preprocessed/train/fake/SQLQCHBZ.png\n",
            "Processing file: /content/drive/MyDrive/dataset/TeamDeepwave/dataset/open/./train/XTWNWRCF.ogg\n"
          ]
        },
        {
          "output_type": "stream",
          "name": "stderr",
          "text": [
            "\r  1%|          | 445/50000 [06:07<9:41:42,  1.42it/s]"
          ]
        },
        {
          "output_type": "stream",
          "name": "stdout",
          "text": [
            "Saved file: /content/drive/MyDrive/dataset/TeamDeepwave/dataset/preprocessed/train/fake/XTWNWRCF.png\n",
            "Processing file: /content/drive/MyDrive/dataset/TeamDeepwave/dataset/open/./train/ABOHAMXE.ogg\n"
          ]
        },
        {
          "output_type": "stream",
          "name": "stderr",
          "text": [
            "\r  1%|          | 446/50000 [06:07<9:30:29,  1.45it/s]"
          ]
        },
        {
          "output_type": "stream",
          "name": "stdout",
          "text": [
            "Saved file: /content/drive/MyDrive/dataset/TeamDeepwave/dataset/preprocessed/train/real/ABOHAMXE.png\n",
            "Processing file: /content/drive/MyDrive/dataset/TeamDeepwave/dataset/open/./train/HCGHULDT.ogg\n"
          ]
        },
        {
          "output_type": "stream",
          "name": "stderr",
          "text": [
            "\r  1%|          | 447/50000 [06:08<9:29:07,  1.45it/s]"
          ]
        },
        {
          "output_type": "stream",
          "name": "stdout",
          "text": [
            "Saved file: /content/drive/MyDrive/dataset/TeamDeepwave/dataset/preprocessed/train/real/HCGHULDT.png\n",
            "Processing file: /content/drive/MyDrive/dataset/TeamDeepwave/dataset/open/./train/BKNSVXNT.ogg\n"
          ]
        },
        {
          "output_type": "stream",
          "name": "stderr",
          "text": [
            "\r  1%|          | 448/50000 [06:09<9:38:44,  1.43it/s]"
          ]
        },
        {
          "output_type": "stream",
          "name": "stdout",
          "text": [
            "Saved file: /content/drive/MyDrive/dataset/TeamDeepwave/dataset/preprocessed/train/real/BKNSVXNT.png\n",
            "Processing file: /content/drive/MyDrive/dataset/TeamDeepwave/dataset/open/./train/JXEHZCNB.ogg\n"
          ]
        },
        {
          "output_type": "stream",
          "name": "stderr",
          "text": [
            "\r  1%|          | 449/50000 [06:10<10:42:16,  1.29it/s]"
          ]
        },
        {
          "output_type": "stream",
          "name": "stdout",
          "text": [
            "Saved file: /content/drive/MyDrive/dataset/TeamDeepwave/dataset/preprocessed/train/real/JXEHZCNB.png\n",
            "Processing file: /content/drive/MyDrive/dataset/TeamDeepwave/dataset/open/./train/OQLIETRD.ogg\n"
          ]
        },
        {
          "output_type": "stream",
          "name": "stderr",
          "text": [
            "\r  1%|          | 450/50000 [06:10<10:45:23,  1.28it/s]"
          ]
        },
        {
          "output_type": "stream",
          "name": "stdout",
          "text": [
            "Saved file: /content/drive/MyDrive/dataset/TeamDeepwave/dataset/preprocessed/train/fake/OQLIETRD.png\n",
            "Processing file: /content/drive/MyDrive/dataset/TeamDeepwave/dataset/open/./train/SXVSQCIX.ogg\n"
          ]
        },
        {
          "output_type": "stream",
          "name": "stderr",
          "text": [
            "\r  1%|          | 451/50000 [06:11<11:53:11,  1.16it/s]"
          ]
        },
        {
          "output_type": "stream",
          "name": "stdout",
          "text": [
            "Saved file: /content/drive/MyDrive/dataset/TeamDeepwave/dataset/preprocessed/train/real/SXVSQCIX.png\n",
            "Processing file: /content/drive/MyDrive/dataset/TeamDeepwave/dataset/open/./train/NCJCUAQW.ogg\n"
          ]
        },
        {
          "output_type": "stream",
          "name": "stderr",
          "text": [
            "\r  1%|          | 452/50000 [06:12<11:27:05,  1.20it/s]"
          ]
        },
        {
          "output_type": "stream",
          "name": "stdout",
          "text": [
            "Saved file: /content/drive/MyDrive/dataset/TeamDeepwave/dataset/preprocessed/train/fake/NCJCUAQW.png\n",
            "Processing file: /content/drive/MyDrive/dataset/TeamDeepwave/dataset/open/./train/HMIYDCUX.ogg\n"
          ]
        },
        {
          "output_type": "stream",
          "name": "stderr",
          "text": [
            "\r  1%|          | 453/50000 [06:13<10:30:03,  1.31it/s]"
          ]
        },
        {
          "output_type": "stream",
          "name": "stdout",
          "text": [
            "Saved file: /content/drive/MyDrive/dataset/TeamDeepwave/dataset/preprocessed/train/real/HMIYDCUX.png\n",
            "Processing file: /content/drive/MyDrive/dataset/TeamDeepwave/dataset/open/./train/PKXUMILI.ogg\n"
          ]
        },
        {
          "output_type": "stream",
          "name": "stderr",
          "text": [
            "\r  1%|          | 454/50000 [06:14<10:37:22,  1.30it/s]"
          ]
        },
        {
          "output_type": "stream",
          "name": "stdout",
          "text": [
            "Saved file: /content/drive/MyDrive/dataset/TeamDeepwave/dataset/preprocessed/train/real/PKXUMILI.png\n",
            "Processing file: /content/drive/MyDrive/dataset/TeamDeepwave/dataset/open/./train/HWQTVIBN.ogg\n"
          ]
        },
        {
          "output_type": "stream",
          "name": "stderr",
          "text": [
            "\r  1%|          | 455/50000 [06:14<10:38:06,  1.29it/s]"
          ]
        },
        {
          "output_type": "stream",
          "name": "stdout",
          "text": [
            "Saved file: /content/drive/MyDrive/dataset/TeamDeepwave/dataset/preprocessed/train/real/HWQTVIBN.png\n",
            "Processing file: /content/drive/MyDrive/dataset/TeamDeepwave/dataset/open/./train/CRVBASRY.ogg\n"
          ]
        },
        {
          "output_type": "stream",
          "name": "stderr",
          "text": [
            "\r  1%|          | 456/50000 [06:15<10:17:34,  1.34it/s]"
          ]
        },
        {
          "output_type": "stream",
          "name": "stdout",
          "text": [
            "Saved file: /content/drive/MyDrive/dataset/TeamDeepwave/dataset/preprocessed/train/real/CRVBASRY.png\n",
            "Processing file: /content/drive/MyDrive/dataset/TeamDeepwave/dataset/open/./train/YJHNLUQI.ogg\n"
          ]
        },
        {
          "output_type": "stream",
          "name": "stderr",
          "text": [
            "\r  1%|          | 457/50000 [06:16<10:09:03,  1.36it/s]"
          ]
        },
        {
          "output_type": "stream",
          "name": "stdout",
          "text": [
            "Saved file: /content/drive/MyDrive/dataset/TeamDeepwave/dataset/preprocessed/train/real/YJHNLUQI.png\n",
            "Processing file: /content/drive/MyDrive/dataset/TeamDeepwave/dataset/open/./train/ZWXUWMTB.ogg\n"
          ]
        },
        {
          "output_type": "stream",
          "name": "stderr",
          "text": [
            "\r  1%|          | 458/50000 [06:16<9:29:25,  1.45it/s] "
          ]
        },
        {
          "output_type": "stream",
          "name": "stdout",
          "text": [
            "Saved file: /content/drive/MyDrive/dataset/TeamDeepwave/dataset/preprocessed/train/fake/ZWXUWMTB.png\n",
            "Processing file: /content/drive/MyDrive/dataset/TeamDeepwave/dataset/open/./train/ITOHHPUN.ogg\n"
          ]
        },
        {
          "output_type": "stream",
          "name": "stderr",
          "text": [
            "\r  1%|          | 459/50000 [06:17<9:31:19,  1.45it/s]"
          ]
        },
        {
          "output_type": "stream",
          "name": "stdout",
          "text": [
            "Saved file: /content/drive/MyDrive/dataset/TeamDeepwave/dataset/preprocessed/train/fake/ITOHHPUN.png\n",
            "Processing file: /content/drive/MyDrive/dataset/TeamDeepwave/dataset/open/./train/JGKDTXZX.ogg\n"
          ]
        },
        {
          "output_type": "stream",
          "name": "stderr",
          "text": [
            "\r  1%|          | 460/50000 [06:18<9:07:47,  1.51it/s]"
          ]
        },
        {
          "output_type": "stream",
          "name": "stdout",
          "text": [
            "Saved file: /content/drive/MyDrive/dataset/TeamDeepwave/dataset/preprocessed/train/fake/JGKDTXZX.png\n",
            "Processing file: /content/drive/MyDrive/dataset/TeamDeepwave/dataset/open/./train/KHTQICLU.ogg\n"
          ]
        },
        {
          "output_type": "stream",
          "name": "stderr",
          "text": [
            "\r  1%|          | 461/50000 [06:18<9:15:05,  1.49it/s]"
          ]
        },
        {
          "output_type": "stream",
          "name": "stdout",
          "text": [
            "Saved file: /content/drive/MyDrive/dataset/TeamDeepwave/dataset/preprocessed/train/real/KHTQICLU.png\n",
            "Processing file: /content/drive/MyDrive/dataset/TeamDeepwave/dataset/open/./train/QDTTPKYH.ogg\n"
          ]
        },
        {
          "output_type": "stream",
          "name": "stderr",
          "text": [
            "\r  1%|          | 462/50000 [06:19<9:25:31,  1.46it/s]"
          ]
        },
        {
          "output_type": "stream",
          "name": "stdout",
          "text": [
            "Saved file: /content/drive/MyDrive/dataset/TeamDeepwave/dataset/preprocessed/train/fake/QDTTPKYH.png\n",
            "Processing file: /content/drive/MyDrive/dataset/TeamDeepwave/dataset/open/./train/XRHLBJQP.ogg\n"
          ]
        },
        {
          "output_type": "stream",
          "name": "stderr",
          "text": [
            "\r  1%|          | 463/50000 [06:20<9:45:14,  1.41it/s]"
          ]
        },
        {
          "output_type": "stream",
          "name": "stdout",
          "text": [
            "Saved file: /content/drive/MyDrive/dataset/TeamDeepwave/dataset/preprocessed/train/real/XRHLBJQP.png\n",
            "Processing file: /content/drive/MyDrive/dataset/TeamDeepwave/dataset/open/./train/XIRKIZTL.ogg\n"
          ]
        },
        {
          "output_type": "stream",
          "name": "stderr",
          "text": [
            "\r  1%|          | 464/50000 [06:20<9:13:57,  1.49it/s]"
          ]
        },
        {
          "output_type": "stream",
          "name": "stdout",
          "text": [
            "Saved file: /content/drive/MyDrive/dataset/TeamDeepwave/dataset/preprocessed/train/fake/XIRKIZTL.png\n",
            "Processing file: /content/drive/MyDrive/dataset/TeamDeepwave/dataset/open/./train/MIMPCDOY.ogg\n"
          ]
        },
        {
          "output_type": "stream",
          "name": "stderr",
          "text": [
            "\r  1%|          | 465/50000 [06:21<9:32:27,  1.44it/s]"
          ]
        },
        {
          "output_type": "stream",
          "name": "stdout",
          "text": [
            "Saved file: /content/drive/MyDrive/dataset/TeamDeepwave/dataset/preprocessed/train/real/MIMPCDOY.png\n",
            "Processing file: /content/drive/MyDrive/dataset/TeamDeepwave/dataset/open/./train/SKJWWHIJ.ogg\n"
          ]
        },
        {
          "output_type": "stream",
          "name": "stderr",
          "text": [
            "\r  1%|          | 466/50000 [06:22<9:28:58,  1.45it/s]"
          ]
        },
        {
          "output_type": "stream",
          "name": "stdout",
          "text": [
            "Saved file: /content/drive/MyDrive/dataset/TeamDeepwave/dataset/preprocessed/train/fake/SKJWWHIJ.png\n",
            "Processing file: /content/drive/MyDrive/dataset/TeamDeepwave/dataset/open/./train/RDQJSNFI.ogg\n"
          ]
        },
        {
          "output_type": "stream",
          "name": "stderr",
          "text": [
            "\r  1%|          | 467/50000 [06:22<9:20:43,  1.47it/s]"
          ]
        },
        {
          "output_type": "stream",
          "name": "stdout",
          "text": [
            "Saved file: /content/drive/MyDrive/dataset/TeamDeepwave/dataset/preprocessed/train/fake/RDQJSNFI.png\n",
            "Processing file: /content/drive/MyDrive/dataset/TeamDeepwave/dataset/open/./train/SPGUTVJR.ogg\n"
          ]
        },
        {
          "output_type": "stream",
          "name": "stderr",
          "text": [
            "\r  1%|          | 468/50000 [06:23<10:30:57,  1.31it/s]"
          ]
        },
        {
          "output_type": "stream",
          "name": "stdout",
          "text": [
            "Saved file: /content/drive/MyDrive/dataset/TeamDeepwave/dataset/preprocessed/train/real/SPGUTVJR.png\n",
            "Processing file: /content/drive/MyDrive/dataset/TeamDeepwave/dataset/open/./train/PDTEEPXF.ogg\n"
          ]
        },
        {
          "output_type": "stream",
          "name": "stderr",
          "text": [
            "\r  1%|          | 469/50000 [06:24<10:48:56,  1.27it/s]"
          ]
        },
        {
          "output_type": "stream",
          "name": "stdout",
          "text": [
            "Saved file: /content/drive/MyDrive/dataset/TeamDeepwave/dataset/preprocessed/train/fake/PDTEEPXF.png\n",
            "Processing file: /content/drive/MyDrive/dataset/TeamDeepwave/dataset/open/./train/HSRKAVWO.ogg\n"
          ]
        },
        {
          "output_type": "stream",
          "name": "stderr",
          "text": [
            "\r  1%|          | 470/50000 [06:25<11:35:30,  1.19it/s]"
          ]
        },
        {
          "output_type": "stream",
          "name": "stdout",
          "text": [
            "Saved file: /content/drive/MyDrive/dataset/TeamDeepwave/dataset/preprocessed/train/real/HSRKAVWO.png\n",
            "Processing file: /content/drive/MyDrive/dataset/TeamDeepwave/dataset/open/./train/LTKBVWJQ.ogg\n"
          ]
        },
        {
          "output_type": "stream",
          "name": "stderr",
          "text": [
            "\r  1%|          | 471/50000 [06:26<11:47:01,  1.17it/s]"
          ]
        },
        {
          "output_type": "stream",
          "name": "stdout",
          "text": [
            "Saved file: /content/drive/MyDrive/dataset/TeamDeepwave/dataset/preprocessed/train/real/LTKBVWJQ.png\n",
            "Processing file: /content/drive/MyDrive/dataset/TeamDeepwave/dataset/open/./train/GQKMFRAN.ogg\n"
          ]
        },
        {
          "output_type": "stream",
          "name": "stderr",
          "text": [
            "\r  1%|          | 472/50000 [06:27<10:33:22,  1.30it/s]"
          ]
        },
        {
          "output_type": "stream",
          "name": "stdout",
          "text": [
            "Saved file: /content/drive/MyDrive/dataset/TeamDeepwave/dataset/preprocessed/train/fake/GQKMFRAN.png\n",
            "Processing file: /content/drive/MyDrive/dataset/TeamDeepwave/dataset/open/./train/BHBMKVEK.ogg\n"
          ]
        },
        {
          "output_type": "stream",
          "name": "stderr",
          "text": [
            "\r  1%|          | 473/50000 [06:27<10:26:18,  1.32it/s]"
          ]
        },
        {
          "output_type": "stream",
          "name": "stdout",
          "text": [
            "Saved file: /content/drive/MyDrive/dataset/TeamDeepwave/dataset/preprocessed/train/fake/BHBMKVEK.png\n",
            "Processing file: /content/drive/MyDrive/dataset/TeamDeepwave/dataset/open/./train/ZPDRGGPD.ogg\n"
          ]
        },
        {
          "output_type": "stream",
          "name": "stderr",
          "text": [
            "\r  1%|          | 474/50000 [06:28<9:46:53,  1.41it/s] "
          ]
        },
        {
          "output_type": "stream",
          "name": "stdout",
          "text": [
            "Saved file: /content/drive/MyDrive/dataset/TeamDeepwave/dataset/preprocessed/train/fake/ZPDRGGPD.png\n",
            "Processing file: /content/drive/MyDrive/dataset/TeamDeepwave/dataset/open/./train/ZNSVRYIV.ogg\n"
          ]
        },
        {
          "output_type": "stream",
          "name": "stderr",
          "text": [
            "\r  1%|          | 475/50000 [06:29<10:08:34,  1.36it/s]"
          ]
        },
        {
          "output_type": "stream",
          "name": "stdout",
          "text": [
            "Saved file: /content/drive/MyDrive/dataset/TeamDeepwave/dataset/preprocessed/train/real/ZNSVRYIV.png\n",
            "Processing file: /content/drive/MyDrive/dataset/TeamDeepwave/dataset/open/./train/OJLSDLMD.ogg\n"
          ]
        },
        {
          "output_type": "stream",
          "name": "stderr",
          "text": [
            "\r  1%|          | 476/50000 [06:29<9:49:27,  1.40it/s] "
          ]
        },
        {
          "output_type": "stream",
          "name": "stdout",
          "text": [
            "Saved file: /content/drive/MyDrive/dataset/TeamDeepwave/dataset/preprocessed/train/real/OJLSDLMD.png\n",
            "Processing file: /content/drive/MyDrive/dataset/TeamDeepwave/dataset/open/./train/BUFSQDBL.ogg\n"
          ]
        },
        {
          "output_type": "stream",
          "name": "stderr",
          "text": [
            "\r  1%|          | 477/50000 [06:30<9:39:13,  1.42it/s]"
          ]
        },
        {
          "output_type": "stream",
          "name": "stdout",
          "text": [
            "Saved file: /content/drive/MyDrive/dataset/TeamDeepwave/dataset/preprocessed/train/fake/BUFSQDBL.png\n",
            "Processing file: /content/drive/MyDrive/dataset/TeamDeepwave/dataset/open/./train/ENZBBQQM.ogg\n"
          ]
        },
        {
          "output_type": "stream",
          "name": "stderr",
          "text": [
            "\r  1%|          | 478/50000 [06:31<9:42:29,  1.42it/s]"
          ]
        },
        {
          "output_type": "stream",
          "name": "stdout",
          "text": [
            "Saved file: /content/drive/MyDrive/dataset/TeamDeepwave/dataset/preprocessed/train/real/ENZBBQQM.png\n",
            "Processing file: /content/drive/MyDrive/dataset/TeamDeepwave/dataset/open/./train/RGNQQBRJ.ogg\n"
          ]
        },
        {
          "output_type": "stream",
          "name": "stderr",
          "text": [
            "\r  1%|          | 479/50000 [06:31<9:17:28,  1.48it/s]"
          ]
        },
        {
          "output_type": "stream",
          "name": "stdout",
          "text": [
            "Saved file: /content/drive/MyDrive/dataset/TeamDeepwave/dataset/preprocessed/train/real/RGNQQBRJ.png\n",
            "Processing file: /content/drive/MyDrive/dataset/TeamDeepwave/dataset/open/./train/QZYDBWGB.ogg\n"
          ]
        },
        {
          "output_type": "stream",
          "name": "stderr",
          "text": [
            "\r  1%|          | 480/50000 [06:32<9:24:35,  1.46it/s]"
          ]
        },
        {
          "output_type": "stream",
          "name": "stdout",
          "text": [
            "Saved file: /content/drive/MyDrive/dataset/TeamDeepwave/dataset/preprocessed/train/real/QZYDBWGB.png\n",
            "Processing file: /content/drive/MyDrive/dataset/TeamDeepwave/dataset/open/./train/ULCIIAUW.ogg\n"
          ]
        },
        {
          "output_type": "stream",
          "name": "stderr",
          "text": [
            "\r  1%|          | 481/50000 [06:33<8:53:42,  1.55it/s]"
          ]
        },
        {
          "output_type": "stream",
          "name": "stdout",
          "text": [
            "Saved file: /content/drive/MyDrive/dataset/TeamDeepwave/dataset/preprocessed/train/fake/ULCIIAUW.png\n",
            "Processing file: /content/drive/MyDrive/dataset/TeamDeepwave/dataset/open/./train/FBKNWLHT.ogg\n"
          ]
        },
        {
          "output_type": "stream",
          "name": "stderr",
          "text": [
            "\r  1%|          | 482/50000 [06:33<8:55:15,  1.54it/s]"
          ]
        },
        {
          "output_type": "stream",
          "name": "stdout",
          "text": [
            "Saved file: /content/drive/MyDrive/dataset/TeamDeepwave/dataset/preprocessed/train/fake/FBKNWLHT.png\n",
            "Processing file: /content/drive/MyDrive/dataset/TeamDeepwave/dataset/open/./train/GPKRHDNK.ogg\n"
          ]
        },
        {
          "output_type": "stream",
          "name": "stderr",
          "text": [
            "\r  1%|          | 483/50000 [06:34<8:48:20,  1.56it/s]"
          ]
        },
        {
          "output_type": "stream",
          "name": "stdout",
          "text": [
            "Saved file: /content/drive/MyDrive/dataset/TeamDeepwave/dataset/preprocessed/train/fake/GPKRHDNK.png\n",
            "Processing file: /content/drive/MyDrive/dataset/TeamDeepwave/dataset/open/./train/ZOYQCRKT.ogg\n"
          ]
        },
        {
          "output_type": "stream",
          "name": "stderr",
          "text": [
            "\r  1%|          | 484/50000 [06:36<15:47:01,  1.15s/it]"
          ]
        },
        {
          "output_type": "stream",
          "name": "stdout",
          "text": [
            "Saved file: /content/drive/MyDrive/dataset/TeamDeepwave/dataset/preprocessed/train/real/ZOYQCRKT.png\n",
            "Processing file: /content/drive/MyDrive/dataset/TeamDeepwave/dataset/open/./train/BTEGICCT.ogg\n"
          ]
        },
        {
          "output_type": "stream",
          "name": "stderr",
          "text": [
            "\r  1%|          | 485/50000 [06:37<15:20:35,  1.12s/it]"
          ]
        },
        {
          "output_type": "stream",
          "name": "stdout",
          "text": [
            "Saved file: /content/drive/MyDrive/dataset/TeamDeepwave/dataset/preprocessed/train/real/BTEGICCT.png\n",
            "Processing file: /content/drive/MyDrive/dataset/TeamDeepwave/dataset/open/./train/CNRRTWPP.ogg\n"
          ]
        },
        {
          "output_type": "stream",
          "name": "stderr",
          "text": [
            "\r  1%|          | 486/50000 [06:38<14:41:20,  1.07s/it]"
          ]
        },
        {
          "output_type": "stream",
          "name": "stdout",
          "text": [
            "Saved file: /content/drive/MyDrive/dataset/TeamDeepwave/dataset/preprocessed/train/real/CNRRTWPP.png\n",
            "Processing file: /content/drive/MyDrive/dataset/TeamDeepwave/dataset/open/./train/SJQMXXOW.ogg\n"
          ]
        },
        {
          "output_type": "stream",
          "name": "stderr",
          "text": [
            "\r  1%|          | 487/50000 [06:39<13:33:44,  1.01it/s]"
          ]
        },
        {
          "output_type": "stream",
          "name": "stdout",
          "text": [
            "Saved file: /content/drive/MyDrive/dataset/TeamDeepwave/dataset/preprocessed/train/fake/SJQMXXOW.png\n",
            "Processing file: /content/drive/MyDrive/dataset/TeamDeepwave/dataset/open/./train/MBPNXFGJ.ogg\n"
          ]
        },
        {
          "output_type": "stream",
          "name": "stderr",
          "text": [
            "\r  1%|          | 488/50000 [06:40<12:36:44,  1.09it/s]"
          ]
        },
        {
          "output_type": "stream",
          "name": "stdout",
          "text": [
            "Saved file: /content/drive/MyDrive/dataset/TeamDeepwave/dataset/preprocessed/train/real/MBPNXFGJ.png\n",
            "Processing file: /content/drive/MyDrive/dataset/TeamDeepwave/dataset/open/./train/TWDGKXRY.ogg\n"
          ]
        },
        {
          "output_type": "stream",
          "name": "stderr",
          "text": [
            "\r  1%|          | 489/50000 [06:40<11:18:35,  1.22it/s]"
          ]
        },
        {
          "output_type": "stream",
          "name": "stdout",
          "text": [
            "Saved file: /content/drive/MyDrive/dataset/TeamDeepwave/dataset/preprocessed/train/fake/TWDGKXRY.png\n",
            "Processing file: /content/drive/MyDrive/dataset/TeamDeepwave/dataset/open/./train/EDUJLLAX.ogg\n"
          ]
        },
        {
          "output_type": "stream",
          "name": "stderr",
          "text": [
            "\r  1%|          | 490/50000 [06:41<10:44:24,  1.28it/s]"
          ]
        },
        {
          "output_type": "stream",
          "name": "stdout",
          "text": [
            "Saved file: /content/drive/MyDrive/dataset/TeamDeepwave/dataset/preprocessed/train/fake/EDUJLLAX.png\n",
            "Processing file: /content/drive/MyDrive/dataset/TeamDeepwave/dataset/open/./train/QIWTXPFL.ogg\n"
          ]
        },
        {
          "output_type": "stream",
          "name": "stderr",
          "text": [
            "\r  1%|          | 491/50000 [06:42<10:25:27,  1.32it/s]"
          ]
        },
        {
          "output_type": "stream",
          "name": "stdout",
          "text": [
            "Saved file: /content/drive/MyDrive/dataset/TeamDeepwave/dataset/preprocessed/train/real/QIWTXPFL.png\n",
            "Processing file: /content/drive/MyDrive/dataset/TeamDeepwave/dataset/open/./train/AHWMRDHV.ogg\n"
          ]
        },
        {
          "output_type": "stream",
          "name": "stderr",
          "text": [
            "\r  1%|          | 492/50000 [06:43<10:27:13,  1.32it/s]"
          ]
        },
        {
          "output_type": "stream",
          "name": "stdout",
          "text": [
            "Saved file: /content/drive/MyDrive/dataset/TeamDeepwave/dataset/preprocessed/train/fake/AHWMRDHV.png\n",
            "Processing file: /content/drive/MyDrive/dataset/TeamDeepwave/dataset/open/./train/LLQETQEN.ogg\n"
          ]
        },
        {
          "output_type": "stream",
          "name": "stderr",
          "text": [
            "\r  1%|          | 493/50000 [06:43<9:56:07,  1.38it/s] "
          ]
        },
        {
          "output_type": "stream",
          "name": "stdout",
          "text": [
            "Saved file: /content/drive/MyDrive/dataset/TeamDeepwave/dataset/preprocessed/train/fake/LLQETQEN.png\n",
            "Processing file: /content/drive/MyDrive/dataset/TeamDeepwave/dataset/open/./train/GLZRQZYN.ogg\n"
          ]
        },
        {
          "output_type": "stream",
          "name": "stderr",
          "text": [
            "\r  1%|          | 494/50000 [06:44<9:49:40,  1.40it/s]"
          ]
        },
        {
          "output_type": "stream",
          "name": "stdout",
          "text": [
            "Saved file: /content/drive/MyDrive/dataset/TeamDeepwave/dataset/preprocessed/train/real/GLZRQZYN.png\n",
            "Processing file: /content/drive/MyDrive/dataset/TeamDeepwave/dataset/open/./train/SMLSCBON.ogg\n"
          ]
        },
        {
          "output_type": "stream",
          "name": "stderr",
          "text": [
            "\r  1%|          | 495/50000 [06:45<9:37:59,  1.43it/s]"
          ]
        },
        {
          "output_type": "stream",
          "name": "stdout",
          "text": [
            "Saved file: /content/drive/MyDrive/dataset/TeamDeepwave/dataset/preprocessed/train/real/SMLSCBON.png\n",
            "Processing file: /content/drive/MyDrive/dataset/TeamDeepwave/dataset/open/./train/SHYIEDAI.ogg\n"
          ]
        },
        {
          "output_type": "stream",
          "name": "stderr",
          "text": [
            "\r  1%|          | 496/50000 [06:45<9:39:38,  1.42it/s]"
          ]
        },
        {
          "output_type": "stream",
          "name": "stdout",
          "text": [
            "Saved file: /content/drive/MyDrive/dataset/TeamDeepwave/dataset/preprocessed/train/fake/SHYIEDAI.png\n",
            "Processing file: /content/drive/MyDrive/dataset/TeamDeepwave/dataset/open/./train/GMBHVORN.ogg\n"
          ]
        },
        {
          "output_type": "stream",
          "name": "stderr",
          "text": [
            "\r  1%|          | 497/50000 [06:46<9:16:19,  1.48it/s]"
          ]
        },
        {
          "output_type": "stream",
          "name": "stdout",
          "text": [
            "Saved file: /content/drive/MyDrive/dataset/TeamDeepwave/dataset/preprocessed/train/real/GMBHVORN.png\n",
            "Processing file: /content/drive/MyDrive/dataset/TeamDeepwave/dataset/open/./train/MCDPTKOT.ogg\n"
          ]
        },
        {
          "output_type": "stream",
          "name": "stderr",
          "text": [
            "\r  1%|          | 498/50000 [06:46<8:47:56,  1.56it/s]"
          ]
        },
        {
          "output_type": "stream",
          "name": "stdout",
          "text": [
            "Saved file: /content/drive/MyDrive/dataset/TeamDeepwave/dataset/preprocessed/train/fake/MCDPTKOT.png\n",
            "Processing file: /content/drive/MyDrive/dataset/TeamDeepwave/dataset/open/./train/MKYHWMYP.ogg\n"
          ]
        },
        {
          "output_type": "stream",
          "name": "stderr",
          "text": [
            "\r  1%|          | 499/50000 [06:47<8:46:24,  1.57it/s]"
          ]
        },
        {
          "output_type": "stream",
          "name": "stdout",
          "text": [
            "Saved file: /content/drive/MyDrive/dataset/TeamDeepwave/dataset/preprocessed/train/real/MKYHWMYP.png\n",
            "Processing file: /content/drive/MyDrive/dataset/TeamDeepwave/dataset/open/./train/STXTUDKF.ogg\n"
          ]
        },
        {
          "output_type": "stream",
          "name": "stderr",
          "text": [
            "\r  1%|          | 500/50000 [06:48<8:54:59,  1.54it/s]"
          ]
        },
        {
          "output_type": "stream",
          "name": "stdout",
          "text": [
            "Saved file: /content/drive/MyDrive/dataset/TeamDeepwave/dataset/preprocessed/train/real/STXTUDKF.png\n",
            "Processing file: /content/drive/MyDrive/dataset/TeamDeepwave/dataset/open/./train/FQREFXWZ.ogg\n"
          ]
        },
        {
          "output_type": "stream",
          "name": "stderr",
          "text": [
            "\r  1%|          | 501/50000 [06:48<9:05:35,  1.51it/s]"
          ]
        },
        {
          "output_type": "stream",
          "name": "stdout",
          "text": [
            "Saved file: /content/drive/MyDrive/dataset/TeamDeepwave/dataset/preprocessed/train/real/FQREFXWZ.png\n",
            "Processing file: /content/drive/MyDrive/dataset/TeamDeepwave/dataset/open/./train/GXOPWKLI.ogg\n"
          ]
        },
        {
          "output_type": "stream",
          "name": "stderr",
          "text": [
            "\r  1%|          | 502/50000 [06:49<8:58:04,  1.53it/s]"
          ]
        },
        {
          "output_type": "stream",
          "name": "stdout",
          "text": [
            "Saved file: /content/drive/MyDrive/dataset/TeamDeepwave/dataset/preprocessed/train/fake/GXOPWKLI.png\n",
            "Processing file: /content/drive/MyDrive/dataset/TeamDeepwave/dataset/open/./train/KTIUSUXW.ogg\n"
          ]
        },
        {
          "output_type": "stream",
          "name": "stderr",
          "text": [
            "\r  1%|          | 503/50000 [06:50<9:24:47,  1.46it/s]"
          ]
        },
        {
          "output_type": "stream",
          "name": "stdout",
          "text": [
            "Saved file: /content/drive/MyDrive/dataset/TeamDeepwave/dataset/preprocessed/train/real/KTIUSUXW.png\n",
            "Processing file: /content/drive/MyDrive/dataset/TeamDeepwave/dataset/open/./train/SOZEQAQB.ogg\n"
          ]
        },
        {
          "output_type": "stream",
          "name": "stderr",
          "text": [
            "\r  1%|          | 504/50000 [06:51<9:28:44,  1.45it/s]"
          ]
        },
        {
          "output_type": "stream",
          "name": "stdout",
          "text": [
            "Saved file: /content/drive/MyDrive/dataset/TeamDeepwave/dataset/preprocessed/train/fake/SOZEQAQB.png\n",
            "Processing file: /content/drive/MyDrive/dataset/TeamDeepwave/dataset/open/./train/AFYNCSIZ.ogg\n"
          ]
        },
        {
          "output_type": "stream",
          "name": "stderr",
          "text": [
            "\r  1%|          | 505/50000 [06:52<11:07:51,  1.24it/s]"
          ]
        },
        {
          "output_type": "stream",
          "name": "stdout",
          "text": [
            "Saved file: /content/drive/MyDrive/dataset/TeamDeepwave/dataset/preprocessed/train/real/AFYNCSIZ.png\n",
            "Processing file: /content/drive/MyDrive/dataset/TeamDeepwave/dataset/open/./train/FZRIQUCU.ogg\n"
          ]
        },
        {
          "output_type": "stream",
          "name": "stderr",
          "text": [
            "\r  1%|          | 506/50000 [06:53<11:56:31,  1.15it/s]"
          ]
        },
        {
          "output_type": "stream",
          "name": "stdout",
          "text": [
            "Saved file: /content/drive/MyDrive/dataset/TeamDeepwave/dataset/preprocessed/train/real/FZRIQUCU.png\n",
            "Processing file: /content/drive/MyDrive/dataset/TeamDeepwave/dataset/open/./train/KTMQBMYY.ogg\n"
          ]
        },
        {
          "output_type": "stream",
          "name": "stderr",
          "text": [
            "\r  1%|          | 507/50000 [06:53<11:29:18,  1.20it/s]"
          ]
        },
        {
          "output_type": "stream",
          "name": "stdout",
          "text": [
            "Saved file: /content/drive/MyDrive/dataset/TeamDeepwave/dataset/preprocessed/train/real/KTMQBMYY.png\n",
            "Processing file: /content/drive/MyDrive/dataset/TeamDeepwave/dataset/open/./train/HLIJDXHJ.ogg\n"
          ]
        },
        {
          "output_type": "stream",
          "name": "stderr",
          "text": [
            "\r  1%|          | 508/50000 [06:54<10:41:52,  1.29it/s]"
          ]
        },
        {
          "output_type": "stream",
          "name": "stdout",
          "text": [
            "Saved file: /content/drive/MyDrive/dataset/TeamDeepwave/dataset/preprocessed/train/fake/HLIJDXHJ.png\n",
            "Processing file: /content/drive/MyDrive/dataset/TeamDeepwave/dataset/open/./train/HFVAZFGB.ogg\n"
          ]
        },
        {
          "output_type": "stream",
          "name": "stderr",
          "text": [
            "\r  1%|          | 509/50000 [06:55<10:30:27,  1.31it/s]"
          ]
        },
        {
          "output_type": "stream",
          "name": "stdout",
          "text": [
            "Saved file: /content/drive/MyDrive/dataset/TeamDeepwave/dataset/preprocessed/train/real/HFVAZFGB.png\n",
            "Processing file: /content/drive/MyDrive/dataset/TeamDeepwave/dataset/open/./train/LOVMUJBR.ogg\n"
          ]
        },
        {
          "output_type": "stream",
          "name": "stderr",
          "text": [
            "\r  1%|          | 510/50000 [06:55<10:02:33,  1.37it/s]"
          ]
        },
        {
          "output_type": "stream",
          "name": "stdout",
          "text": [
            "Saved file: /content/drive/MyDrive/dataset/TeamDeepwave/dataset/preprocessed/train/real/LOVMUJBR.png\n",
            "Processing file: /content/drive/MyDrive/dataset/TeamDeepwave/dataset/open/./train/IMFKNRXJ.ogg\n"
          ]
        },
        {
          "output_type": "stream",
          "name": "stderr",
          "text": [
            "\r  1%|          | 511/50000 [06:56<9:43:43,  1.41it/s] "
          ]
        },
        {
          "output_type": "stream",
          "name": "stdout",
          "text": [
            "Saved file: /content/drive/MyDrive/dataset/TeamDeepwave/dataset/preprocessed/train/fake/IMFKNRXJ.png\n",
            "Processing file: /content/drive/MyDrive/dataset/TeamDeepwave/dataset/open/./train/AXAJFOFU.ogg\n"
          ]
        },
        {
          "output_type": "stream",
          "name": "stderr",
          "text": [
            "\r  1%|          | 512/50000 [06:57<9:43:46,  1.41it/s]"
          ]
        },
        {
          "output_type": "stream",
          "name": "stdout",
          "text": [
            "Saved file: /content/drive/MyDrive/dataset/TeamDeepwave/dataset/preprocessed/train/real/AXAJFOFU.png\n",
            "Processing file: /content/drive/MyDrive/dataset/TeamDeepwave/dataset/open/./train/HAXCWEBL.ogg\n"
          ]
        },
        {
          "output_type": "stream",
          "name": "stderr",
          "text": [
            "\r  1%|          | 513/50000 [06:58<9:40:10,  1.42it/s]"
          ]
        },
        {
          "output_type": "stream",
          "name": "stdout",
          "text": [
            "Saved file: /content/drive/MyDrive/dataset/TeamDeepwave/dataset/preprocessed/train/fake/HAXCWEBL.png\n",
            "Processing file: /content/drive/MyDrive/dataset/TeamDeepwave/dataset/open/./train/CSUSDBDW.ogg\n"
          ]
        },
        {
          "output_type": "stream",
          "name": "stderr",
          "text": [
            "\r  1%|          | 514/50000 [06:58<9:37:25,  1.43it/s]"
          ]
        },
        {
          "output_type": "stream",
          "name": "stdout",
          "text": [
            "Saved file: /content/drive/MyDrive/dataset/TeamDeepwave/dataset/preprocessed/train/real/CSUSDBDW.png\n",
            "Processing file: /content/drive/MyDrive/dataset/TeamDeepwave/dataset/open/./train/AZNUADPH.ogg\n"
          ]
        },
        {
          "output_type": "stream",
          "name": "stderr",
          "text": [
            "\r  1%|          | 515/50000 [06:59<9:03:36,  1.52it/s]"
          ]
        },
        {
          "output_type": "stream",
          "name": "stdout",
          "text": [
            "Saved file: /content/drive/MyDrive/dataset/TeamDeepwave/dataset/preprocessed/train/fake/AZNUADPH.png\n",
            "Processing file: /content/drive/MyDrive/dataset/TeamDeepwave/dataset/open/./train/VZXFGHKP.ogg\n"
          ]
        },
        {
          "output_type": "stream",
          "name": "stderr",
          "text": [
            "\r  1%|          | 516/50000 [06:59<8:47:35,  1.56it/s]"
          ]
        },
        {
          "output_type": "stream",
          "name": "stdout",
          "text": [
            "Saved file: /content/drive/MyDrive/dataset/TeamDeepwave/dataset/preprocessed/train/real/VZXFGHKP.png\n",
            "Processing file: /content/drive/MyDrive/dataset/TeamDeepwave/dataset/open/./train/FFBCXJAN.ogg\n"
          ]
        },
        {
          "output_type": "stream",
          "name": "stderr",
          "text": [
            "\r  1%|          | 517/50000 [07:00<8:54:23,  1.54it/s]"
          ]
        },
        {
          "output_type": "stream",
          "name": "stdout",
          "text": [
            "Saved file: /content/drive/MyDrive/dataset/TeamDeepwave/dataset/preprocessed/train/fake/FFBCXJAN.png\n",
            "Processing file: /content/drive/MyDrive/dataset/TeamDeepwave/dataset/open/./train/ZVACNNAR.ogg\n"
          ]
        },
        {
          "output_type": "stream",
          "name": "stderr",
          "text": [
            "\r  1%|          | 518/50000 [07:01<8:50:43,  1.55it/s]"
          ]
        },
        {
          "output_type": "stream",
          "name": "stdout",
          "text": [
            "Saved file: /content/drive/MyDrive/dataset/TeamDeepwave/dataset/preprocessed/train/real/ZVACNNAR.png\n",
            "Processing file: /content/drive/MyDrive/dataset/TeamDeepwave/dataset/open/./train/DIAHABWP.ogg\n"
          ]
        },
        {
          "output_type": "stream",
          "name": "stderr",
          "text": [
            "\r  1%|          | 519/50000 [07:01<8:52:43,  1.55it/s]"
          ]
        },
        {
          "output_type": "stream",
          "name": "stdout",
          "text": [
            "Saved file: /content/drive/MyDrive/dataset/TeamDeepwave/dataset/preprocessed/train/fake/DIAHABWP.png\n",
            "Processing file: /content/drive/MyDrive/dataset/TeamDeepwave/dataset/open/./train/USAMTGDX.ogg\n"
          ]
        },
        {
          "output_type": "stream",
          "name": "stderr",
          "text": [
            "\r  1%|          | 520/50000 [07:02<9:22:08,  1.47it/s]"
          ]
        },
        {
          "output_type": "stream",
          "name": "stdout",
          "text": [
            "Saved file: /content/drive/MyDrive/dataset/TeamDeepwave/dataset/preprocessed/train/real/USAMTGDX.png\n",
            "Processing file: /content/drive/MyDrive/dataset/TeamDeepwave/dataset/open/./train/SRSXAQKQ.ogg\n"
          ]
        },
        {
          "output_type": "stream",
          "name": "stderr",
          "text": [
            "\r  1%|          | 521/50000 [07:03<9:31:37,  1.44it/s]"
          ]
        },
        {
          "output_type": "stream",
          "name": "stdout",
          "text": [
            "Saved file: /content/drive/MyDrive/dataset/TeamDeepwave/dataset/preprocessed/train/real/SRSXAQKQ.png\n",
            "Processing file: /content/drive/MyDrive/dataset/TeamDeepwave/dataset/open/./train/AWBTWGAX.ogg\n"
          ]
        },
        {
          "output_type": "stream",
          "name": "stderr",
          "text": [
            "\r  1%|          | 522/50000 [07:04<10:34:37,  1.30it/s]"
          ]
        },
        {
          "output_type": "stream",
          "name": "stdout",
          "text": [
            "Saved file: /content/drive/MyDrive/dataset/TeamDeepwave/dataset/preprocessed/train/fake/AWBTWGAX.png\n",
            "Processing file: /content/drive/MyDrive/dataset/TeamDeepwave/dataset/open/./train/XXOEBOXB.ogg\n"
          ]
        },
        {
          "output_type": "stream",
          "name": "stderr",
          "text": [
            "\r  1%|          | 523/50000 [07:05<11:09:04,  1.23it/s]"
          ]
        },
        {
          "output_type": "stream",
          "name": "stdout",
          "text": [
            "Saved file: /content/drive/MyDrive/dataset/TeamDeepwave/dataset/preprocessed/train/real/XXOEBOXB.png\n",
            "Processing file: /content/drive/MyDrive/dataset/TeamDeepwave/dataset/open/./train/TANPYRXZ.ogg\n"
          ]
        },
        {
          "output_type": "stream",
          "name": "stderr",
          "text": [
            "\r  1%|          | 524/50000 [07:05<10:54:28,  1.26it/s]"
          ]
        },
        {
          "output_type": "stream",
          "name": "stdout",
          "text": [
            "Saved file: /content/drive/MyDrive/dataset/TeamDeepwave/dataset/preprocessed/train/fake/TANPYRXZ.png\n",
            "Processing file: /content/drive/MyDrive/dataset/TeamDeepwave/dataset/open/./train/DGDDTLZO.ogg\n"
          ]
        },
        {
          "output_type": "stream",
          "name": "stderr",
          "text": [
            "\r  1%|          | 525/50000 [07:06<11:21:22,  1.21it/s]"
          ]
        },
        {
          "output_type": "stream",
          "name": "stdout",
          "text": [
            "Saved file: /content/drive/MyDrive/dataset/TeamDeepwave/dataset/preprocessed/train/fake/DGDDTLZO.png\n",
            "Processing file: /content/drive/MyDrive/dataset/TeamDeepwave/dataset/open/./train/ABJOLJDE.ogg\n"
          ]
        },
        {
          "output_type": "stream",
          "name": "stderr",
          "text": [
            "\r  1%|          | 526/50000 [07:07<11:08:45,  1.23it/s]"
          ]
        },
        {
          "output_type": "stream",
          "name": "stdout",
          "text": [
            "Saved file: /content/drive/MyDrive/dataset/TeamDeepwave/dataset/preprocessed/train/real/ABJOLJDE.png\n",
            "Processing file: /content/drive/MyDrive/dataset/TeamDeepwave/dataset/open/./train/NGWBHPJU.ogg\n"
          ]
        },
        {
          "output_type": "stream",
          "name": "stderr",
          "text": [
            "\r  1%|          | 527/50000 [07:08<10:18:33,  1.33it/s]"
          ]
        },
        {
          "output_type": "stream",
          "name": "stdout",
          "text": [
            "Saved file: /content/drive/MyDrive/dataset/TeamDeepwave/dataset/preprocessed/train/real/NGWBHPJU.png\n",
            "Processing file: /content/drive/MyDrive/dataset/TeamDeepwave/dataset/open/./train/HYXZZNYL.ogg\n"
          ]
        },
        {
          "output_type": "stream",
          "name": "stderr",
          "text": [
            "\r  1%|          | 528/50000 [07:08<9:51:57,  1.39it/s] "
          ]
        },
        {
          "output_type": "stream",
          "name": "stdout",
          "text": [
            "Saved file: /content/drive/MyDrive/dataset/TeamDeepwave/dataset/preprocessed/train/fake/HYXZZNYL.png\n",
            "Processing file: /content/drive/MyDrive/dataset/TeamDeepwave/dataset/open/./train/XTEWLNEB.ogg\n"
          ]
        },
        {
          "output_type": "stream",
          "name": "stderr",
          "text": [
            "\r  1%|          | 529/50000 [07:09<9:28:11,  1.45it/s]"
          ]
        },
        {
          "output_type": "stream",
          "name": "stdout",
          "text": [
            "Saved file: /content/drive/MyDrive/dataset/TeamDeepwave/dataset/preprocessed/train/real/XTEWLNEB.png\n",
            "Processing file: /content/drive/MyDrive/dataset/TeamDeepwave/dataset/open/./train/OQRWSGKQ.ogg\n"
          ]
        },
        {
          "output_type": "stream",
          "name": "stderr",
          "text": [
            "\r  1%|          | 530/50000 [07:10<8:55:05,  1.54it/s]"
          ]
        },
        {
          "output_type": "stream",
          "name": "stdout",
          "text": [
            "Saved file: /content/drive/MyDrive/dataset/TeamDeepwave/dataset/preprocessed/train/fake/OQRWSGKQ.png\n",
            "Processing file: /content/drive/MyDrive/dataset/TeamDeepwave/dataset/open/./train/NLJWXYSA.ogg\n"
          ]
        },
        {
          "output_type": "stream",
          "name": "stderr",
          "text": [
            "\r  1%|          | 531/50000 [07:10<8:57:26,  1.53it/s]"
          ]
        },
        {
          "output_type": "stream",
          "name": "stdout",
          "text": [
            "Saved file: /content/drive/MyDrive/dataset/TeamDeepwave/dataset/preprocessed/train/fake/NLJWXYSA.png\n",
            "Processing file: /content/drive/MyDrive/dataset/TeamDeepwave/dataset/open/./train/DPDDMOTR.ogg\n"
          ]
        },
        {
          "output_type": "stream",
          "name": "stderr",
          "text": [
            "\r  1%|          | 532/50000 [07:11<9:19:05,  1.47it/s]"
          ]
        },
        {
          "output_type": "stream",
          "name": "stdout",
          "text": [
            "Saved file: /content/drive/MyDrive/dataset/TeamDeepwave/dataset/preprocessed/train/real/DPDDMOTR.png\n",
            "Processing file: /content/drive/MyDrive/dataset/TeamDeepwave/dataset/open/./train/VSWRBCFB.ogg\n"
          ]
        },
        {
          "output_type": "stream",
          "name": "stderr",
          "text": [
            "\r  1%|          | 533/50000 [07:11<8:57:34,  1.53it/s]"
          ]
        },
        {
          "output_type": "stream",
          "name": "stdout",
          "text": [
            "Saved file: /content/drive/MyDrive/dataset/TeamDeepwave/dataset/preprocessed/train/real/VSWRBCFB.png\n",
            "Processing file: /content/drive/MyDrive/dataset/TeamDeepwave/dataset/open/./train/ASHMBXGX.ogg\n"
          ]
        },
        {
          "output_type": "stream",
          "name": "stderr",
          "text": [
            "\r  1%|          | 534/50000 [07:12<9:14:01,  1.49it/s]"
          ]
        },
        {
          "output_type": "stream",
          "name": "stdout",
          "text": [
            "Saved file: /content/drive/MyDrive/dataset/TeamDeepwave/dataset/preprocessed/train/real/ASHMBXGX.png\n",
            "Processing file: /content/drive/MyDrive/dataset/TeamDeepwave/dataset/open/./train/NFLVFPAI.ogg\n"
          ]
        },
        {
          "output_type": "stream",
          "name": "stderr",
          "text": [
            "\r  1%|          | 535/50000 [07:13<9:18:54,  1.48it/s]"
          ]
        },
        {
          "output_type": "stream",
          "name": "stdout",
          "text": [
            "Saved file: /content/drive/MyDrive/dataset/TeamDeepwave/dataset/preprocessed/train/fake/NFLVFPAI.png\n",
            "Processing file: /content/drive/MyDrive/dataset/TeamDeepwave/dataset/open/./train/DLELAGSB.ogg\n"
          ]
        },
        {
          "output_type": "stream",
          "name": "stderr",
          "text": [
            "\r  1%|          | 536/50000 [07:13<8:50:16,  1.55it/s]"
          ]
        },
        {
          "output_type": "stream",
          "name": "stdout",
          "text": [
            "Saved file: /content/drive/MyDrive/dataset/TeamDeepwave/dataset/preprocessed/train/fake/DLELAGSB.png\n",
            "Processing file: /content/drive/MyDrive/dataset/TeamDeepwave/dataset/open/./train/DIOWQXMJ.ogg\n"
          ]
        },
        {
          "output_type": "stream",
          "name": "stderr",
          "text": [
            "\r  1%|          | 537/50000 [07:14<9:16:38,  1.48it/s]"
          ]
        },
        {
          "output_type": "stream",
          "name": "stdout",
          "text": [
            "Saved file: /content/drive/MyDrive/dataset/TeamDeepwave/dataset/preprocessed/train/fake/DIOWQXMJ.png\n",
            "Processing file: /content/drive/MyDrive/dataset/TeamDeepwave/dataset/open/./train/RPDELZSI.ogg\n"
          ]
        },
        {
          "output_type": "stream",
          "name": "stderr",
          "text": [
            "\r  1%|          | 538/50000 [07:15<9:18:36,  1.48it/s]"
          ]
        },
        {
          "output_type": "stream",
          "name": "stdout",
          "text": [
            "Saved file: /content/drive/MyDrive/dataset/TeamDeepwave/dataset/preprocessed/train/fake/RPDELZSI.png\n",
            "Processing file: /content/drive/MyDrive/dataset/TeamDeepwave/dataset/open/./train/QGBWFXHR.ogg\n"
          ]
        },
        {
          "output_type": "stream",
          "name": "stderr",
          "text": [
            "\r  1%|          | 539/50000 [07:16<9:12:46,  1.49it/s]"
          ]
        },
        {
          "output_type": "stream",
          "name": "stdout",
          "text": [
            "Saved file: /content/drive/MyDrive/dataset/TeamDeepwave/dataset/preprocessed/train/fake/QGBWFXHR.png\n",
            "Processing file: /content/drive/MyDrive/dataset/TeamDeepwave/dataset/open/./train/TMIYUEFA.ogg\n"
          ]
        },
        {
          "output_type": "stream",
          "name": "stderr",
          "text": [
            "\r  1%|          | 540/50000 [07:16<9:28:00,  1.45it/s]"
          ]
        },
        {
          "output_type": "stream",
          "name": "stdout",
          "text": [
            "Saved file: /content/drive/MyDrive/dataset/TeamDeepwave/dataset/preprocessed/train/real/TMIYUEFA.png\n",
            "Processing file: /content/drive/MyDrive/dataset/TeamDeepwave/dataset/open/./train/PPXLOWRV.ogg\n"
          ]
        },
        {
          "output_type": "stream",
          "name": "stderr",
          "text": [
            "\r  1%|          | 541/50000 [07:17<9:43:08,  1.41it/s]"
          ]
        },
        {
          "output_type": "stream",
          "name": "stdout",
          "text": [
            "Saved file: /content/drive/MyDrive/dataset/TeamDeepwave/dataset/preprocessed/train/fake/PPXLOWRV.png\n",
            "Processing file: /content/drive/MyDrive/dataset/TeamDeepwave/dataset/open/./train/ZTXDZOMH.ogg\n"
          ]
        },
        {
          "output_type": "stream",
          "name": "stderr",
          "text": [
            "\r  1%|          | 542/50000 [07:18<10:15:47,  1.34it/s]"
          ]
        },
        {
          "output_type": "stream",
          "name": "stdout",
          "text": [
            "Saved file: /content/drive/MyDrive/dataset/TeamDeepwave/dataset/preprocessed/train/fake/ZTXDZOMH.png\n",
            "Processing file: /content/drive/MyDrive/dataset/TeamDeepwave/dataset/open/./train/WUUNFSCB.ogg\n"
          ]
        },
        {
          "output_type": "stream",
          "name": "stderr",
          "text": [
            "\r  1%|          | 543/50000 [07:19<10:36:43,  1.29it/s]"
          ]
        },
        {
          "output_type": "stream",
          "name": "stdout",
          "text": [
            "Saved file: /content/drive/MyDrive/dataset/TeamDeepwave/dataset/preprocessed/train/real/WUUNFSCB.png\n",
            "Processing file: /content/drive/MyDrive/dataset/TeamDeepwave/dataset/open/./train/ZLGIFDQI.ogg\n"
          ]
        },
        {
          "output_type": "stream",
          "name": "stderr",
          "text": [
            "\r  1%|          | 544/50000 [07:20<10:54:38,  1.26it/s]"
          ]
        },
        {
          "output_type": "stream",
          "name": "stdout",
          "text": [
            "Saved file: /content/drive/MyDrive/dataset/TeamDeepwave/dataset/preprocessed/train/real/ZLGIFDQI.png\n",
            "Processing file: /content/drive/MyDrive/dataset/TeamDeepwave/dataset/open/./train/BPUHANSI.ogg\n"
          ]
        },
        {
          "output_type": "stream",
          "name": "stderr",
          "text": [
            "\r  1%|          | 545/50000 [07:20<11:22:08,  1.21it/s]"
          ]
        },
        {
          "output_type": "stream",
          "name": "stdout",
          "text": [
            "Saved file: /content/drive/MyDrive/dataset/TeamDeepwave/dataset/preprocessed/train/fake/BPUHANSI.png\n",
            "Processing file: /content/drive/MyDrive/dataset/TeamDeepwave/dataset/open/./train/NLNTXZDC.ogg\n"
          ]
        },
        {
          "output_type": "stream",
          "name": "stderr",
          "text": [
            "\r  1%|          | 546/50000 [07:21<10:50:34,  1.27it/s]"
          ]
        },
        {
          "output_type": "stream",
          "name": "stdout",
          "text": [
            "Saved file: /content/drive/MyDrive/dataset/TeamDeepwave/dataset/preprocessed/train/fake/NLNTXZDC.png\n",
            "Processing file: /content/drive/MyDrive/dataset/TeamDeepwave/dataset/open/./train/MAADOFPP.ogg\n"
          ]
        },
        {
          "output_type": "stream",
          "name": "stderr",
          "text": [
            "\r  1%|          | 547/50000 [07:22<10:12:44,  1.35it/s]"
          ]
        },
        {
          "output_type": "stream",
          "name": "stdout",
          "text": [
            "Saved file: /content/drive/MyDrive/dataset/TeamDeepwave/dataset/preprocessed/train/fake/MAADOFPP.png\n",
            "Processing file: /content/drive/MyDrive/dataset/TeamDeepwave/dataset/open/./train/SPNBEUCP.ogg\n"
          ]
        },
        {
          "output_type": "stream",
          "name": "stderr",
          "text": [
            "\r  1%|          | 548/50000 [07:22<9:37:04,  1.43it/s] "
          ]
        },
        {
          "output_type": "stream",
          "name": "stdout",
          "text": [
            "Saved file: /content/drive/MyDrive/dataset/TeamDeepwave/dataset/preprocessed/train/fake/SPNBEUCP.png\n",
            "Processing file: /content/drive/MyDrive/dataset/TeamDeepwave/dataset/open/./train/HAXVJPAZ.ogg\n"
          ]
        },
        {
          "output_type": "stream",
          "name": "stderr",
          "text": [
            "\r  1%|          | 549/50000 [07:23<9:41:26,  1.42it/s]"
          ]
        },
        {
          "output_type": "stream",
          "name": "stdout",
          "text": [
            "Saved file: /content/drive/MyDrive/dataset/TeamDeepwave/dataset/preprocessed/train/fake/HAXVJPAZ.png\n",
            "Processing file: /content/drive/MyDrive/dataset/TeamDeepwave/dataset/open/./train/WWYMUEYI.ogg\n"
          ]
        },
        {
          "output_type": "stream",
          "name": "stderr",
          "text": [
            "\r  1%|          | 550/50000 [07:24<9:37:15,  1.43it/s]"
          ]
        },
        {
          "output_type": "stream",
          "name": "stdout",
          "text": [
            "Saved file: /content/drive/MyDrive/dataset/TeamDeepwave/dataset/preprocessed/train/fake/WWYMUEYI.png\n",
            "Processing file: /content/drive/MyDrive/dataset/TeamDeepwave/dataset/open/./train/LLEJHJQG.ogg\n"
          ]
        },
        {
          "output_type": "stream",
          "name": "stderr",
          "text": [
            "\r  1%|          | 551/50000 [07:24<9:11:23,  1.49it/s]"
          ]
        },
        {
          "output_type": "stream",
          "name": "stdout",
          "text": [
            "Saved file: /content/drive/MyDrive/dataset/TeamDeepwave/dataset/preprocessed/train/fake/LLEJHJQG.png\n",
            "Processing file: /content/drive/MyDrive/dataset/TeamDeepwave/dataset/open/./train/IYZLUFNR.ogg\n"
          ]
        },
        {
          "output_type": "stream",
          "name": "stderr",
          "text": [
            "\r  1%|          | 552/50000 [07:25<9:17:20,  1.48it/s]"
          ]
        },
        {
          "output_type": "stream",
          "name": "stdout",
          "text": [
            "Saved file: /content/drive/MyDrive/dataset/TeamDeepwave/dataset/preprocessed/train/real/IYZLUFNR.png\n",
            "Processing file: /content/drive/MyDrive/dataset/TeamDeepwave/dataset/open/./train/QBHRXJCG.ogg\n"
          ]
        },
        {
          "output_type": "stream",
          "name": "stderr",
          "text": [
            "\r  1%|          | 553/50000 [07:26<9:15:42,  1.48it/s]"
          ]
        },
        {
          "output_type": "stream",
          "name": "stdout",
          "text": [
            "Saved file: /content/drive/MyDrive/dataset/TeamDeepwave/dataset/preprocessed/train/real/QBHRXJCG.png\n",
            "Processing file: /content/drive/MyDrive/dataset/TeamDeepwave/dataset/open/./train/WFJYTZEH.ogg\n"
          ]
        },
        {
          "output_type": "stream",
          "name": "stderr",
          "text": [
            "\r  1%|          | 554/50000 [07:26<9:00:09,  1.53it/s]"
          ]
        },
        {
          "output_type": "stream",
          "name": "stdout",
          "text": [
            "Saved file: /content/drive/MyDrive/dataset/TeamDeepwave/dataset/preprocessed/train/fake/WFJYTZEH.png\n",
            "Processing file: /content/drive/MyDrive/dataset/TeamDeepwave/dataset/open/./train/LXIOTYEX.ogg\n"
          ]
        },
        {
          "output_type": "stream",
          "name": "stderr",
          "text": [
            "\r  1%|          | 555/50000 [07:27<8:44:06,  1.57it/s]"
          ]
        },
        {
          "output_type": "stream",
          "name": "stdout",
          "text": [
            "Saved file: /content/drive/MyDrive/dataset/TeamDeepwave/dataset/preprocessed/train/fake/LXIOTYEX.png\n",
            "Processing file: /content/drive/MyDrive/dataset/TeamDeepwave/dataset/open/./train/RQFKPIVG.ogg\n"
          ]
        },
        {
          "output_type": "stream",
          "name": "stderr",
          "text": [
            "\r  1%|          | 556/50000 [07:28<8:51:43,  1.55it/s]"
          ]
        },
        {
          "output_type": "stream",
          "name": "stdout",
          "text": [
            "Saved file: /content/drive/MyDrive/dataset/TeamDeepwave/dataset/preprocessed/train/real/RQFKPIVG.png\n",
            "Processing file: /content/drive/MyDrive/dataset/TeamDeepwave/dataset/open/./train/GOSGIMHF.ogg\n"
          ]
        },
        {
          "output_type": "stream",
          "name": "stderr",
          "text": [
            "\r  1%|          | 557/50000 [07:28<9:22:56,  1.46it/s]"
          ]
        },
        {
          "output_type": "stream",
          "name": "stdout",
          "text": [
            "Saved file: /content/drive/MyDrive/dataset/TeamDeepwave/dataset/preprocessed/train/real/GOSGIMHF.png\n",
            "Processing file: /content/drive/MyDrive/dataset/TeamDeepwave/dataset/open/./train/NWLMDTZJ.ogg\n"
          ]
        },
        {
          "output_type": "stream",
          "name": "stderr",
          "text": [
            "\r  1%|          | 558/50000 [07:29<9:19:08,  1.47it/s]"
          ]
        },
        {
          "output_type": "stream",
          "name": "stdout",
          "text": [
            "Saved file: /content/drive/MyDrive/dataset/TeamDeepwave/dataset/preprocessed/train/fake/NWLMDTZJ.png\n",
            "Processing file: /content/drive/MyDrive/dataset/TeamDeepwave/dataset/open/./train/NXTWRIJY.ogg\n"
          ]
        },
        {
          "output_type": "stream",
          "name": "stderr",
          "text": [
            "\r  1%|          | 559/50000 [07:30<9:34:39,  1.43it/s]"
          ]
        },
        {
          "output_type": "stream",
          "name": "stdout",
          "text": [
            "Saved file: /content/drive/MyDrive/dataset/TeamDeepwave/dataset/preprocessed/train/real/NXTWRIJY.png\n",
            "Processing file: /content/drive/MyDrive/dataset/TeamDeepwave/dataset/open/./train/PCCOGMHM.ogg\n"
          ]
        },
        {
          "output_type": "stream",
          "name": "stderr",
          "text": [
            "\r  1%|          | 560/50000 [07:31<9:34:47,  1.43it/s]"
          ]
        },
        {
          "output_type": "stream",
          "name": "stdout",
          "text": [
            "Saved file: /content/drive/MyDrive/dataset/TeamDeepwave/dataset/preprocessed/train/real/PCCOGMHM.png\n",
            "Processing file: /content/drive/MyDrive/dataset/TeamDeepwave/dataset/open/./train/JTJEWLIE.ogg\n"
          ]
        },
        {
          "output_type": "stream",
          "name": "stderr",
          "text": [
            "\r  1%|          | 561/50000 [07:31<10:42:59,  1.28it/s]"
          ]
        },
        {
          "output_type": "stream",
          "name": "stdout",
          "text": [
            "Saved file: /content/drive/MyDrive/dataset/TeamDeepwave/dataset/preprocessed/train/fake/JTJEWLIE.png\n",
            "Processing file: /content/drive/MyDrive/dataset/TeamDeepwave/dataset/open/./train/CJJSVWMU.ogg\n"
          ]
        },
        {
          "output_type": "stream",
          "name": "stderr",
          "text": [
            "\r  1%|          | 562/50000 [07:32<11:17:27,  1.22it/s]"
          ]
        },
        {
          "output_type": "stream",
          "name": "stdout",
          "text": [
            "Saved file: /content/drive/MyDrive/dataset/TeamDeepwave/dataset/preprocessed/train/real/CJJSVWMU.png\n",
            "Processing file: /content/drive/MyDrive/dataset/TeamDeepwave/dataset/open/./train/ETZYXMYC.ogg\n"
          ]
        },
        {
          "output_type": "stream",
          "name": "stderr",
          "text": [
            "\r  1%|          | 563/50000 [07:33<11:35:29,  1.18it/s]"
          ]
        },
        {
          "output_type": "stream",
          "name": "stdout",
          "text": [
            "Saved file: /content/drive/MyDrive/dataset/TeamDeepwave/dataset/preprocessed/train/real/ETZYXMYC.png\n",
            "Processing file: /content/drive/MyDrive/dataset/TeamDeepwave/dataset/open/./train/IHZCUJQR.ogg\n"
          ]
        },
        {
          "output_type": "stream",
          "name": "stderr",
          "text": [
            "\r  1%|          | 564/50000 [07:34<11:46:51,  1.17it/s]"
          ]
        },
        {
          "output_type": "stream",
          "name": "stdout",
          "text": [
            "Saved file: /content/drive/MyDrive/dataset/TeamDeepwave/dataset/preprocessed/train/fake/IHZCUJQR.png\n",
            "Processing file: /content/drive/MyDrive/dataset/TeamDeepwave/dataset/open/./train/MMRKCFTY.ogg\n"
          ]
        },
        {
          "output_type": "stream",
          "name": "stderr",
          "text": [
            "\r  1%|          | 565/50000 [07:35<10:46:49,  1.27it/s]"
          ]
        },
        {
          "output_type": "stream",
          "name": "stdout",
          "text": [
            "Saved file: /content/drive/MyDrive/dataset/TeamDeepwave/dataset/preprocessed/train/fake/MMRKCFTY.png\n",
            "Processing file: /content/drive/MyDrive/dataset/TeamDeepwave/dataset/open/./train/QVNKZVYB.ogg\n"
          ]
        },
        {
          "output_type": "stream",
          "name": "stderr",
          "text": [
            "\r  1%|          | 566/50000 [07:35<10:22:25,  1.32it/s]"
          ]
        },
        {
          "output_type": "stream",
          "name": "stdout",
          "text": [
            "Saved file: /content/drive/MyDrive/dataset/TeamDeepwave/dataset/preprocessed/train/fake/QVNKZVYB.png\n",
            "Processing file: /content/drive/MyDrive/dataset/TeamDeepwave/dataset/open/./train/DCILQOUS.ogg\n"
          ]
        },
        {
          "output_type": "stream",
          "name": "stderr",
          "text": [
            "\r  1%|          | 567/50000 [07:36<9:41:04,  1.42it/s] "
          ]
        },
        {
          "output_type": "stream",
          "name": "stdout",
          "text": [
            "Saved file: /content/drive/MyDrive/dataset/TeamDeepwave/dataset/preprocessed/train/real/DCILQOUS.png\n",
            "Processing file: /content/drive/MyDrive/dataset/TeamDeepwave/dataset/open/./train/VUYUALYM.ogg\n"
          ]
        },
        {
          "output_type": "stream",
          "name": "stderr",
          "text": [
            "\r  1%|          | 568/50000 [07:37<9:29:48,  1.45it/s]"
          ]
        },
        {
          "output_type": "stream",
          "name": "stdout",
          "text": [
            "Saved file: /content/drive/MyDrive/dataset/TeamDeepwave/dataset/preprocessed/train/real/VUYUALYM.png\n",
            "Processing file: /content/drive/MyDrive/dataset/TeamDeepwave/dataset/open/./train/SNFTIVWF.ogg\n"
          ]
        },
        {
          "output_type": "stream",
          "name": "stderr",
          "text": [
            "\r  1%|          | 569/50000 [07:37<9:30:52,  1.44it/s]"
          ]
        },
        {
          "output_type": "stream",
          "name": "stdout",
          "text": [
            "Saved file: /content/drive/MyDrive/dataset/TeamDeepwave/dataset/preprocessed/train/real/SNFTIVWF.png\n",
            "Processing file: /content/drive/MyDrive/dataset/TeamDeepwave/dataset/open/./train/EFRZOELJ.ogg\n"
          ]
        },
        {
          "output_type": "stream",
          "name": "stderr",
          "text": [
            "\r  1%|          | 570/50000 [07:38<9:28:33,  1.45it/s]"
          ]
        },
        {
          "output_type": "stream",
          "name": "stdout",
          "text": [
            "Saved file: /content/drive/MyDrive/dataset/TeamDeepwave/dataset/preprocessed/train/fake/EFRZOELJ.png\n",
            "Processing file: /content/drive/MyDrive/dataset/TeamDeepwave/dataset/open/./train/AFZGHEGW.ogg\n"
          ]
        },
        {
          "output_type": "stream",
          "name": "stderr",
          "text": [
            "\r  1%|          | 571/50000 [07:39<9:54:26,  1.39it/s]"
          ]
        },
        {
          "output_type": "stream",
          "name": "stdout",
          "text": [
            "Saved file: /content/drive/MyDrive/dataset/TeamDeepwave/dataset/preprocessed/train/fake/AFZGHEGW.png\n",
            "Processing file: /content/drive/MyDrive/dataset/TeamDeepwave/dataset/open/./train/NXWJOKLA.ogg\n"
          ]
        },
        {
          "output_type": "stream",
          "name": "stderr",
          "text": [
            "\r  1%|          | 572/50000 [07:39<9:14:02,  1.49it/s]"
          ]
        },
        {
          "output_type": "stream",
          "name": "stdout",
          "text": [
            "Saved file: /content/drive/MyDrive/dataset/TeamDeepwave/dataset/preprocessed/train/fake/NXWJOKLA.png\n",
            "Processing file: /content/drive/MyDrive/dataset/TeamDeepwave/dataset/open/./train/AFVTCTBV.ogg\n"
          ]
        },
        {
          "output_type": "stream",
          "name": "stderr",
          "text": [
            "\r  1%|          | 573/50000 [07:40<9:42:43,  1.41it/s]"
          ]
        },
        {
          "output_type": "stream",
          "name": "stdout",
          "text": [
            "Saved file: /content/drive/MyDrive/dataset/TeamDeepwave/dataset/preprocessed/train/fake/AFVTCTBV.png\n",
            "Processing file: /content/drive/MyDrive/dataset/TeamDeepwave/dataset/open/./train/ACCRYQFF.ogg\n"
          ]
        },
        {
          "output_type": "stream",
          "name": "stderr",
          "text": [
            "\r  1%|          | 574/50000 [07:41<9:29:48,  1.45it/s]"
          ]
        },
        {
          "output_type": "stream",
          "name": "stdout",
          "text": [
            "Saved file: /content/drive/MyDrive/dataset/TeamDeepwave/dataset/preprocessed/train/fake/ACCRYQFF.png\n",
            "Processing file: /content/drive/MyDrive/dataset/TeamDeepwave/dataset/open/./train/SXBUDDQZ.ogg\n"
          ]
        },
        {
          "output_type": "stream",
          "name": "stderr",
          "text": [
            "\r  1%|          | 575/50000 [07:41<8:59:12,  1.53it/s]"
          ]
        },
        {
          "output_type": "stream",
          "name": "stdout",
          "text": [
            "Saved file: /content/drive/MyDrive/dataset/TeamDeepwave/dataset/preprocessed/train/fake/SXBUDDQZ.png\n",
            "Processing file: /content/drive/MyDrive/dataset/TeamDeepwave/dataset/open/./train/KRKZSKSR.ogg\n"
          ]
        },
        {
          "output_type": "stream",
          "name": "stderr",
          "text": [
            "\r  1%|          | 576/50000 [07:42<8:53:16,  1.54it/s]"
          ]
        },
        {
          "output_type": "stream",
          "name": "stdout",
          "text": [
            "Saved file: /content/drive/MyDrive/dataset/TeamDeepwave/dataset/preprocessed/train/fake/KRKZSKSR.png\n",
            "Processing file: /content/drive/MyDrive/dataset/TeamDeepwave/dataset/open/./train/KBMZUFPU.ogg\n"
          ]
        },
        {
          "output_type": "stream",
          "name": "stderr",
          "text": [
            "\r  1%|          | 577/50000 [07:43<8:50:11,  1.55it/s]"
          ]
        },
        {
          "output_type": "stream",
          "name": "stdout",
          "text": [
            "Saved file: /content/drive/MyDrive/dataset/TeamDeepwave/dataset/preprocessed/train/fake/KBMZUFPU.png\n",
            "Processing file: /content/drive/MyDrive/dataset/TeamDeepwave/dataset/open/./train/WECWEZJN.ogg\n"
          ]
        },
        {
          "output_type": "stream",
          "name": "stderr",
          "text": [
            "\r  1%|          | 578/50000 [07:43<8:34:42,  1.60it/s]"
          ]
        },
        {
          "output_type": "stream",
          "name": "stdout",
          "text": [
            "Saved file: /content/drive/MyDrive/dataset/TeamDeepwave/dataset/preprocessed/train/fake/WECWEZJN.png\n",
            "Processing file: /content/drive/MyDrive/dataset/TeamDeepwave/dataset/open/./train/BHRXDJNS.ogg\n"
          ]
        },
        {
          "output_type": "stream",
          "name": "stderr",
          "text": [
            "\r  1%|          | 579/50000 [07:44<8:56:44,  1.53it/s]"
          ]
        },
        {
          "output_type": "stream",
          "name": "stdout",
          "text": [
            "Saved file: /content/drive/MyDrive/dataset/TeamDeepwave/dataset/preprocessed/train/real/BHRXDJNS.png\n",
            "Processing file: /content/drive/MyDrive/dataset/TeamDeepwave/dataset/open/./train/YCWRYXSF.ogg\n"
          ]
        },
        {
          "output_type": "stream",
          "name": "stderr",
          "text": [
            "\r  1%|          | 580/50000 [07:45<10:09:46,  1.35it/s]"
          ]
        },
        {
          "output_type": "stream",
          "name": "stdout",
          "text": [
            "Saved file: /content/drive/MyDrive/dataset/TeamDeepwave/dataset/preprocessed/train/real/YCWRYXSF.png\n",
            "Processing file: /content/drive/MyDrive/dataset/TeamDeepwave/dataset/open/./train/NYBEDMOG.ogg\n"
          ]
        },
        {
          "output_type": "stream",
          "name": "stderr",
          "text": [
            "\r  1%|          | 581/50000 [07:46<10:33:58,  1.30it/s]"
          ]
        },
        {
          "output_type": "stream",
          "name": "stdout",
          "text": [
            "Saved file: /content/drive/MyDrive/dataset/TeamDeepwave/dataset/preprocessed/train/fake/NYBEDMOG.png\n",
            "Processing file: /content/drive/MyDrive/dataset/TeamDeepwave/dataset/open/./train/TQOQRMRW.ogg\n"
          ]
        },
        {
          "output_type": "stream",
          "name": "stderr",
          "text": [
            "\r  1%|          | 582/50000 [07:47<11:06:53,  1.24it/s]"
          ]
        },
        {
          "output_type": "stream",
          "name": "stdout",
          "text": [
            "Saved file: /content/drive/MyDrive/dataset/TeamDeepwave/dataset/preprocessed/train/fake/TQOQRMRW.png\n",
            "Processing file: /content/drive/MyDrive/dataset/TeamDeepwave/dataset/open/./train/GAGCWJMI.ogg\n"
          ]
        },
        {
          "output_type": "stream",
          "name": "stderr",
          "text": [
            "\r  1%|          | 583/50000 [07:48<11:13:22,  1.22it/s]"
          ]
        },
        {
          "output_type": "stream",
          "name": "stdout",
          "text": [
            "Saved file: /content/drive/MyDrive/dataset/TeamDeepwave/dataset/preprocessed/train/real/GAGCWJMI.png\n",
            "Processing file: /content/drive/MyDrive/dataset/TeamDeepwave/dataset/open/./train/DAIHTWHF.ogg\n"
          ]
        },
        {
          "output_type": "stream",
          "name": "stderr",
          "text": [
            "\r  1%|          | 584/50000 [07:48<11:03:54,  1.24it/s]"
          ]
        },
        {
          "output_type": "stream",
          "name": "stdout",
          "text": [
            "Saved file: /content/drive/MyDrive/dataset/TeamDeepwave/dataset/preprocessed/train/real/DAIHTWHF.png\n",
            "Processing file: /content/drive/MyDrive/dataset/TeamDeepwave/dataset/open/./train/OVUQGYSK.ogg\n"
          ]
        },
        {
          "output_type": "stream",
          "name": "stderr",
          "text": [
            "\r  1%|          | 585/50000 [07:49<10:26:08,  1.32it/s]"
          ]
        },
        {
          "output_type": "stream",
          "name": "stdout",
          "text": [
            "Saved file: /content/drive/MyDrive/dataset/TeamDeepwave/dataset/preprocessed/train/fake/OVUQGYSK.png\n",
            "Processing file: /content/drive/MyDrive/dataset/TeamDeepwave/dataset/open/./train/DQQPWCUN.ogg\n"
          ]
        },
        {
          "output_type": "stream",
          "name": "stderr",
          "text": [
            "\r  1%|          | 586/50000 [07:50<9:41:22,  1.42it/s] "
          ]
        },
        {
          "output_type": "stream",
          "name": "stdout",
          "text": [
            "Saved file: /content/drive/MyDrive/dataset/TeamDeepwave/dataset/preprocessed/train/real/DQQPWCUN.png\n",
            "Processing file: /content/drive/MyDrive/dataset/TeamDeepwave/dataset/open/./train/XFMLWOTU.ogg\n"
          ]
        },
        {
          "output_type": "stream",
          "name": "stderr",
          "text": [
            "\r  1%|          | 587/50000 [07:50<9:57:36,  1.38it/s]"
          ]
        },
        {
          "output_type": "stream",
          "name": "stdout",
          "text": [
            "Saved file: /content/drive/MyDrive/dataset/TeamDeepwave/dataset/preprocessed/train/fake/XFMLWOTU.png\n",
            "Processing file: /content/drive/MyDrive/dataset/TeamDeepwave/dataset/open/./train/KKSQFVXU.ogg\n"
          ]
        },
        {
          "output_type": "stream",
          "name": "stderr",
          "text": [
            "\r  1%|          | 588/50000 [07:51<10:40:17,  1.29it/s]"
          ]
        },
        {
          "output_type": "stream",
          "name": "stdout",
          "text": [
            "Saved file: /content/drive/MyDrive/dataset/TeamDeepwave/dataset/preprocessed/train/real/KKSQFVXU.png\n",
            "Processing file: /content/drive/MyDrive/dataset/TeamDeepwave/dataset/open/./train/YUZOXOGZ.ogg\n"
          ]
        },
        {
          "output_type": "stream",
          "name": "stderr",
          "text": [
            "\r  1%|          | 589/50000 [07:52<10:59:42,  1.25it/s]"
          ]
        },
        {
          "output_type": "stream",
          "name": "stdout",
          "text": [
            "Saved file: /content/drive/MyDrive/dataset/TeamDeepwave/dataset/preprocessed/train/fake/YUZOXOGZ.png\n",
            "Processing file: /content/drive/MyDrive/dataset/TeamDeepwave/dataset/open/./train/FIHCGXYF.ogg\n"
          ]
        },
        {
          "output_type": "stream",
          "name": "stderr",
          "text": [
            "\r  1%|          | 590/50000 [07:53<11:12:03,  1.23it/s]"
          ]
        },
        {
          "output_type": "stream",
          "name": "stdout",
          "text": [
            "Saved file: /content/drive/MyDrive/dataset/TeamDeepwave/dataset/preprocessed/train/fake/FIHCGXYF.png\n",
            "Processing file: /content/drive/MyDrive/dataset/TeamDeepwave/dataset/open/./train/XSLSZFQB.ogg\n"
          ]
        },
        {
          "output_type": "stream",
          "name": "stderr",
          "text": [
            "\r  1%|          | 591/50000 [07:54<11:10:02,  1.23it/s]"
          ]
        },
        {
          "output_type": "stream",
          "name": "stdout",
          "text": [
            "Saved file: /content/drive/MyDrive/dataset/TeamDeepwave/dataset/preprocessed/train/real/XSLSZFQB.png\n",
            "Processing file: /content/drive/MyDrive/dataset/TeamDeepwave/dataset/open/./train/PSDVCBXL.ogg\n"
          ]
        },
        {
          "output_type": "stream",
          "name": "stderr",
          "text": [
            "\r  1%|          | 592/50000 [07:54<10:42:55,  1.28it/s]"
          ]
        },
        {
          "output_type": "stream",
          "name": "stdout",
          "text": [
            "Saved file: /content/drive/MyDrive/dataset/TeamDeepwave/dataset/preprocessed/train/fake/PSDVCBXL.png\n",
            "Processing file: /content/drive/MyDrive/dataset/TeamDeepwave/dataset/open/./train/DXMAKKNB.ogg\n"
          ]
        },
        {
          "output_type": "stream",
          "name": "stderr",
          "text": [
            "\r  1%|          | 593/50000 [07:55<10:02:36,  1.37it/s]"
          ]
        },
        {
          "output_type": "stream",
          "name": "stdout",
          "text": [
            "Saved file: /content/drive/MyDrive/dataset/TeamDeepwave/dataset/preprocessed/train/real/DXMAKKNB.png\n",
            "Processing file: /content/drive/MyDrive/dataset/TeamDeepwave/dataset/open/./train/LNJMNANA.ogg\n"
          ]
        },
        {
          "output_type": "stream",
          "name": "stderr",
          "text": [
            "\r  1%|          | 594/50000 [07:56<10:06:45,  1.36it/s]"
          ]
        },
        {
          "output_type": "stream",
          "name": "stdout",
          "text": [
            "Saved file: /content/drive/MyDrive/dataset/TeamDeepwave/dataset/preprocessed/train/real/LNJMNANA.png\n",
            "Processing file: /content/drive/MyDrive/dataset/TeamDeepwave/dataset/open/./train/CXBAAWXJ.ogg\n"
          ]
        },
        {
          "output_type": "stream",
          "name": "stderr",
          "text": [
            "\r  1%|          | 595/50000 [07:57<10:11:53,  1.35it/s]"
          ]
        },
        {
          "output_type": "stream",
          "name": "stdout",
          "text": [
            "Saved file: /content/drive/MyDrive/dataset/TeamDeepwave/dataset/preprocessed/train/real/CXBAAWXJ.png\n",
            "Processing file: /content/drive/MyDrive/dataset/TeamDeepwave/dataset/open/./train/KVTISAGG.ogg\n"
          ]
        },
        {
          "output_type": "stream",
          "name": "stderr",
          "text": [
            "\r  1%|          | 596/50000 [07:57<10:02:18,  1.37it/s]"
          ]
        },
        {
          "output_type": "stream",
          "name": "stdout",
          "text": [
            "Saved file: /content/drive/MyDrive/dataset/TeamDeepwave/dataset/preprocessed/train/real/KVTISAGG.png\n",
            "Processing file: /content/drive/MyDrive/dataset/TeamDeepwave/dataset/open/./train/PDSXIDPU.ogg\n"
          ]
        },
        {
          "output_type": "stream",
          "name": "stderr",
          "text": [
            "\r  1%|          | 597/50000 [07:58<9:23:54,  1.46it/s] "
          ]
        },
        {
          "output_type": "stream",
          "name": "stdout",
          "text": [
            "Saved file: /content/drive/MyDrive/dataset/TeamDeepwave/dataset/preprocessed/train/fake/PDSXIDPU.png\n",
            "Processing file: /content/drive/MyDrive/dataset/TeamDeepwave/dataset/open/./train/FNODOPXV.ogg\n"
          ]
        },
        {
          "output_type": "stream",
          "name": "stderr",
          "text": [
            "\r  1%|          | 598/50000 [07:59<9:46:32,  1.40it/s]"
          ]
        },
        {
          "output_type": "stream",
          "name": "stdout",
          "text": [
            "Saved file: /content/drive/MyDrive/dataset/TeamDeepwave/dataset/preprocessed/train/fake/FNODOPXV.png\n",
            "Processing file: /content/drive/MyDrive/dataset/TeamDeepwave/dataset/open/./train/RNEFWPGD.ogg\n"
          ]
        },
        {
          "output_type": "stream",
          "name": "stderr",
          "text": [
            "\r  1%|          | 599/50000 [07:59<10:08:49,  1.35it/s]"
          ]
        },
        {
          "output_type": "stream",
          "name": "stdout",
          "text": [
            "Saved file: /content/drive/MyDrive/dataset/TeamDeepwave/dataset/preprocessed/train/real/RNEFWPGD.png\n",
            "Processing file: /content/drive/MyDrive/dataset/TeamDeepwave/dataset/open/./train/DXMPDYST.ogg\n"
          ]
        },
        {
          "output_type": "stream",
          "name": "stderr",
          "text": [
            "\r  1%|          | 600/50000 [08:00<10:17:46,  1.33it/s]"
          ]
        },
        {
          "output_type": "stream",
          "name": "stdout",
          "text": [
            "Saved file: /content/drive/MyDrive/dataset/TeamDeepwave/dataset/preprocessed/train/fake/DXMPDYST.png\n",
            "Processing file: /content/drive/MyDrive/dataset/TeamDeepwave/dataset/open/./train/GBJZBHBL.ogg\n"
          ]
        },
        {
          "output_type": "stream",
          "name": "stderr",
          "text": [
            "\r  1%|          | 601/50000 [08:01<10:39:37,  1.29it/s]"
          ]
        },
        {
          "output_type": "stream",
          "name": "stdout",
          "text": [
            "Saved file: /content/drive/MyDrive/dataset/TeamDeepwave/dataset/preprocessed/train/real/GBJZBHBL.png\n",
            "Processing file: /content/drive/MyDrive/dataset/TeamDeepwave/dataset/open/./train/KDJNEGGQ.ogg\n"
          ]
        },
        {
          "output_type": "stream",
          "name": "stderr",
          "text": [
            "\r  1%|          | 602/50000 [08:02<10:54:07,  1.26it/s]"
          ]
        },
        {
          "output_type": "stream",
          "name": "stdout",
          "text": [
            "Saved file: /content/drive/MyDrive/dataset/TeamDeepwave/dataset/preprocessed/train/real/KDJNEGGQ.png\n",
            "Processing file: /content/drive/MyDrive/dataset/TeamDeepwave/dataset/open/./train/REMWMMTG.ogg\n"
          ]
        },
        {
          "output_type": "stream",
          "name": "stderr",
          "text": [
            "\r  1%|          | 603/50000 [08:03<10:28:25,  1.31it/s]"
          ]
        },
        {
          "output_type": "stream",
          "name": "stdout",
          "text": [
            "Saved file: /content/drive/MyDrive/dataset/TeamDeepwave/dataset/preprocessed/train/real/REMWMMTG.png\n",
            "Processing file: /content/drive/MyDrive/dataset/TeamDeepwave/dataset/open/./train/YQIDLUOR.ogg\n"
          ]
        },
        {
          "output_type": "stream",
          "name": "stderr",
          "text": [
            "\r  1%|          | 604/50000 [08:03<10:15:26,  1.34it/s]"
          ]
        },
        {
          "output_type": "stream",
          "name": "stdout",
          "text": [
            "Saved file: /content/drive/MyDrive/dataset/TeamDeepwave/dataset/preprocessed/train/fake/YQIDLUOR.png\n",
            "Processing file: /content/drive/MyDrive/dataset/TeamDeepwave/dataset/open/./train/GUEOHZTD.ogg\n"
          ]
        },
        {
          "output_type": "stream",
          "name": "stderr",
          "text": [
            "\r  1%|          | 605/50000 [08:04<9:44:54,  1.41it/s] "
          ]
        },
        {
          "output_type": "stream",
          "name": "stdout",
          "text": [
            "Saved file: /content/drive/MyDrive/dataset/TeamDeepwave/dataset/preprocessed/train/fake/GUEOHZTD.png\n",
            "Processing file: /content/drive/MyDrive/dataset/TeamDeepwave/dataset/open/./train/RRPOHNCQ.ogg\n"
          ]
        },
        {
          "output_type": "stream",
          "name": "stderr",
          "text": [
            "\r  1%|          | 606/50000 [08:05<9:31:49,  1.44it/s]"
          ]
        },
        {
          "output_type": "stream",
          "name": "stdout",
          "text": [
            "Saved file: /content/drive/MyDrive/dataset/TeamDeepwave/dataset/preprocessed/train/real/RRPOHNCQ.png\n",
            "Processing file: /content/drive/MyDrive/dataset/TeamDeepwave/dataset/open/./train/BELFRAUD.ogg\n"
          ]
        },
        {
          "output_type": "stream",
          "name": "stderr",
          "text": [
            "\r  1%|          | 607/50000 [08:05<9:36:54,  1.43it/s]"
          ]
        },
        {
          "output_type": "stream",
          "name": "stdout",
          "text": [
            "Saved file: /content/drive/MyDrive/dataset/TeamDeepwave/dataset/preprocessed/train/real/BELFRAUD.png\n",
            "Processing file: /content/drive/MyDrive/dataset/TeamDeepwave/dataset/open/./train/UTEBPVRC.ogg\n"
          ]
        },
        {
          "output_type": "stream",
          "name": "stderr",
          "text": [
            "\r  1%|          | 608/50000 [08:06<9:27:04,  1.45it/s]"
          ]
        },
        {
          "output_type": "stream",
          "name": "stdout",
          "text": [
            "Saved file: /content/drive/MyDrive/dataset/TeamDeepwave/dataset/preprocessed/train/fake/UTEBPVRC.png\n",
            "Processing file: /content/drive/MyDrive/dataset/TeamDeepwave/dataset/open/./train/YRFTPEDB.ogg\n"
          ]
        },
        {
          "output_type": "stream",
          "name": "stderr",
          "text": [
            "\r  1%|          | 609/50000 [08:07<9:25:31,  1.46it/s]"
          ]
        },
        {
          "output_type": "stream",
          "name": "stdout",
          "text": [
            "Saved file: /content/drive/MyDrive/dataset/TeamDeepwave/dataset/preprocessed/train/real/YRFTPEDB.png\n",
            "Processing file: /content/drive/MyDrive/dataset/TeamDeepwave/dataset/open/./train/CSVJOUHN.ogg\n"
          ]
        },
        {
          "output_type": "stream",
          "name": "stderr",
          "text": [
            "\r  1%|          | 610/50000 [08:07<9:17:07,  1.48it/s]"
          ]
        },
        {
          "output_type": "stream",
          "name": "stdout",
          "text": [
            "Saved file: /content/drive/MyDrive/dataset/TeamDeepwave/dataset/preprocessed/train/real/CSVJOUHN.png\n",
            "Processing file: /content/drive/MyDrive/dataset/TeamDeepwave/dataset/open/./train/EOIYTJKV.ogg\n"
          ]
        },
        {
          "output_type": "stream",
          "name": "stderr",
          "text": [
            "\r  1%|          | 611/50000 [08:08<8:59:14,  1.53it/s]"
          ]
        },
        {
          "output_type": "stream",
          "name": "stdout",
          "text": [
            "Saved file: /content/drive/MyDrive/dataset/TeamDeepwave/dataset/preprocessed/train/fake/EOIYTJKV.png\n",
            "Processing file: /content/drive/MyDrive/dataset/TeamDeepwave/dataset/open/./train/GDKPABLT.ogg\n"
          ]
        },
        {
          "output_type": "stream",
          "name": "stderr",
          "text": [
            "\r  1%|          | 612/50000 [08:08<8:41:54,  1.58it/s]"
          ]
        },
        {
          "output_type": "stream",
          "name": "stdout",
          "text": [
            "Saved file: /content/drive/MyDrive/dataset/TeamDeepwave/dataset/preprocessed/train/fake/GDKPABLT.png\n",
            "Processing file: /content/drive/MyDrive/dataset/TeamDeepwave/dataset/open/./train/GHHCEXKC.ogg\n"
          ]
        },
        {
          "output_type": "stream",
          "name": "stderr",
          "text": [
            "\r  1%|          | 613/50000 [08:09<8:48:37,  1.56it/s]"
          ]
        },
        {
          "output_type": "stream",
          "name": "stdout",
          "text": [
            "Saved file: /content/drive/MyDrive/dataset/TeamDeepwave/dataset/preprocessed/train/fake/GHHCEXKC.png\n",
            "Processing file: /content/drive/MyDrive/dataset/TeamDeepwave/dataset/open/./train/HKQMIKGB.ogg\n"
          ]
        },
        {
          "output_type": "stream",
          "name": "stderr",
          "text": [
            "\r  1%|          | 614/50000 [08:10<8:58:57,  1.53it/s]"
          ]
        },
        {
          "output_type": "stream",
          "name": "stdout",
          "text": [
            "Saved file: /content/drive/MyDrive/dataset/TeamDeepwave/dataset/preprocessed/train/real/HKQMIKGB.png\n",
            "Processing file: /content/drive/MyDrive/dataset/TeamDeepwave/dataset/open/./train/KKGYADBE.ogg\n"
          ]
        },
        {
          "output_type": "stream",
          "name": "stderr",
          "text": [
            "\r  1%|          | 615/50000 [08:10<8:42:49,  1.57it/s]"
          ]
        },
        {
          "output_type": "stream",
          "name": "stdout",
          "text": [
            "Saved file: /content/drive/MyDrive/dataset/TeamDeepwave/dataset/preprocessed/train/real/KKGYADBE.png\n",
            "Processing file: /content/drive/MyDrive/dataset/TeamDeepwave/dataset/open/./train/NRABWYGG.ogg\n"
          ]
        },
        {
          "output_type": "stream",
          "name": "stderr",
          "text": [
            "\r  1%|          | 616/50000 [08:11<8:59:57,  1.52it/s]"
          ]
        },
        {
          "output_type": "stream",
          "name": "stdout",
          "text": [
            "Saved file: /content/drive/MyDrive/dataset/TeamDeepwave/dataset/preprocessed/train/real/NRABWYGG.png\n",
            "Processing file: /content/drive/MyDrive/dataset/TeamDeepwave/dataset/open/./train/VFNILEIH.ogg\n"
          ]
        },
        {
          "output_type": "stream",
          "name": "stderr",
          "text": [
            "\r  1%|          | 617/50000 [08:12<8:42:21,  1.58it/s]"
          ]
        },
        {
          "output_type": "stream",
          "name": "stdout",
          "text": [
            "Saved file: /content/drive/MyDrive/dataset/TeamDeepwave/dataset/preprocessed/train/real/VFNILEIH.png\n",
            "Processing file: /content/drive/MyDrive/dataset/TeamDeepwave/dataset/open/./train/DYIJRHTY.ogg\n"
          ]
        },
        {
          "output_type": "stream",
          "name": "stderr",
          "text": [
            "\r  1%|          | 618/50000 [08:12<9:10:35,  1.49it/s]"
          ]
        },
        {
          "output_type": "stream",
          "name": "stdout",
          "text": [
            "Saved file: /content/drive/MyDrive/dataset/TeamDeepwave/dataset/preprocessed/train/fake/DYIJRHTY.png\n",
            "Processing file: /content/drive/MyDrive/dataset/TeamDeepwave/dataset/open/./train/LYFOHAZW.ogg\n"
          ]
        },
        {
          "output_type": "stream",
          "name": "stderr",
          "text": [
            "\r  1%|          | 619/50000 [08:13<9:42:45,  1.41it/s]"
          ]
        },
        {
          "output_type": "stream",
          "name": "stdout",
          "text": [
            "Saved file: /content/drive/MyDrive/dataset/TeamDeepwave/dataset/preprocessed/train/fake/LYFOHAZW.png\n",
            "Processing file: /content/drive/MyDrive/dataset/TeamDeepwave/dataset/open/./train/BYRQVKLZ.ogg\n"
          ]
        },
        {
          "output_type": "stream",
          "name": "stderr",
          "text": [
            "\r  1%|          | 620/50000 [08:14<10:29:43,  1.31it/s]"
          ]
        },
        {
          "output_type": "stream",
          "name": "stdout",
          "text": [
            "Saved file: /content/drive/MyDrive/dataset/TeamDeepwave/dataset/preprocessed/train/real/BYRQVKLZ.png\n",
            "Processing file: /content/drive/MyDrive/dataset/TeamDeepwave/dataset/open/./train/TLFRFKEV.ogg\n"
          ]
        },
        {
          "output_type": "stream",
          "name": "stderr",
          "text": [
            "\r  1%|          | 621/50000 [08:15<10:47:31,  1.27it/s]"
          ]
        },
        {
          "output_type": "stream",
          "name": "stdout",
          "text": [
            "Saved file: /content/drive/MyDrive/dataset/TeamDeepwave/dataset/preprocessed/train/real/TLFRFKEV.png\n",
            "Processing file: /content/drive/MyDrive/dataset/TeamDeepwave/dataset/open/./train/MJYUTJOM.ogg\n"
          ]
        },
        {
          "output_type": "stream",
          "name": "stderr",
          "text": [
            "\r  1%|          | 622/50000 [08:16<11:11:56,  1.22it/s]"
          ]
        },
        {
          "output_type": "stream",
          "name": "stdout",
          "text": [
            "Saved file: /content/drive/MyDrive/dataset/TeamDeepwave/dataset/preprocessed/train/real/MJYUTJOM.png\n",
            "Processing file: /content/drive/MyDrive/dataset/TeamDeepwave/dataset/open/./train/HVFBJWNI.ogg\n"
          ]
        },
        {
          "output_type": "stream",
          "name": "stderr",
          "text": [
            "\r  1%|          | 623/50000 [08:17<10:32:14,  1.30it/s]"
          ]
        },
        {
          "output_type": "stream",
          "name": "stdout",
          "text": [
            "Saved file: /content/drive/MyDrive/dataset/TeamDeepwave/dataset/preprocessed/train/real/HVFBJWNI.png\n",
            "Processing file: /content/drive/MyDrive/dataset/TeamDeepwave/dataset/open/./train/ZIUFFPOU.ogg\n"
          ]
        },
        {
          "output_type": "stream",
          "name": "stderr",
          "text": [
            "\r  1%|          | 624/50000 [08:19<17:15:22,  1.26s/it]"
          ]
        },
        {
          "output_type": "stream",
          "name": "stdout",
          "text": [
            "Saved file: /content/drive/MyDrive/dataset/TeamDeepwave/dataset/preprocessed/train/fake/ZIUFFPOU.png\n",
            "Processing file: /content/drive/MyDrive/dataset/TeamDeepwave/dataset/open/./train/YMKVQFRF.ogg\n"
          ]
        },
        {
          "output_type": "stream",
          "name": "stderr",
          "text": [
            "\r  1%|▏         | 625/50000 [08:20<15:02:46,  1.10s/it]"
          ]
        },
        {
          "output_type": "stream",
          "name": "stdout",
          "text": [
            "Saved file: /content/drive/MyDrive/dataset/TeamDeepwave/dataset/preprocessed/train/fake/YMKVQFRF.png\n",
            "Processing file: /content/drive/MyDrive/dataset/TeamDeepwave/dataset/open/./train/ZHDPMPKU.ogg\n"
          ]
        },
        {
          "output_type": "stream",
          "name": "stderr",
          "text": [
            "\r  1%|▏         | 626/50000 [08:20<12:52:52,  1.06it/s]"
          ]
        },
        {
          "output_type": "stream",
          "name": "stdout",
          "text": [
            "Saved file: /content/drive/MyDrive/dataset/TeamDeepwave/dataset/preprocessed/train/fake/ZHDPMPKU.png\n",
            "Processing file: /content/drive/MyDrive/dataset/TeamDeepwave/dataset/open/./train/WJURWZYG.ogg\n"
          ]
        },
        {
          "output_type": "stream",
          "name": "stderr",
          "text": [
            "\r  1%|▏         | 627/50000 [08:21<11:36:30,  1.18it/s]"
          ]
        },
        {
          "output_type": "stream",
          "name": "stdout",
          "text": [
            "Saved file: /content/drive/MyDrive/dataset/TeamDeepwave/dataset/preprocessed/train/fake/WJURWZYG.png\n",
            "Processing file: /content/drive/MyDrive/dataset/TeamDeepwave/dataset/open/./train/LVSXMYEC.ogg\n"
          ]
        },
        {
          "output_type": "stream",
          "name": "stderr",
          "text": [
            "\r  1%|▏         | 628/50000 [08:22<10:51:59,  1.26it/s]"
          ]
        },
        {
          "output_type": "stream",
          "name": "stdout",
          "text": [
            "Saved file: /content/drive/MyDrive/dataset/TeamDeepwave/dataset/preprocessed/train/fake/LVSXMYEC.png\n",
            "Processing file: /content/drive/MyDrive/dataset/TeamDeepwave/dataset/open/./train/FEQFIRHA.ogg\n"
          ]
        },
        {
          "output_type": "stream",
          "name": "stderr",
          "text": [
            "\r  1%|▏         | 629/50000 [08:22<10:26:03,  1.31it/s]"
          ]
        },
        {
          "output_type": "stream",
          "name": "stdout",
          "text": [
            "Saved file: /content/drive/MyDrive/dataset/TeamDeepwave/dataset/preprocessed/train/real/FEQFIRHA.png\n",
            "Processing file: /content/drive/MyDrive/dataset/TeamDeepwave/dataset/open/./train/XWCQTVRV.ogg\n"
          ]
        },
        {
          "output_type": "stream",
          "name": "stderr",
          "text": [
            "\r  1%|▏         | 630/50000 [08:23<10:09:09,  1.35it/s]"
          ]
        },
        {
          "output_type": "stream",
          "name": "stdout",
          "text": [
            "Saved file: /content/drive/MyDrive/dataset/TeamDeepwave/dataset/preprocessed/train/real/XWCQTVRV.png\n",
            "Processing file: /content/drive/MyDrive/dataset/TeamDeepwave/dataset/open/./train/IBSGWHLQ.ogg\n"
          ]
        },
        {
          "output_type": "stream",
          "name": "stderr",
          "text": [
            "\r  1%|▏         | 631/50000 [08:24<9:39:19,  1.42it/s] "
          ]
        },
        {
          "output_type": "stream",
          "name": "stdout",
          "text": [
            "Saved file: /content/drive/MyDrive/dataset/TeamDeepwave/dataset/preprocessed/train/fake/IBSGWHLQ.png\n",
            "Processing file: /content/drive/MyDrive/dataset/TeamDeepwave/dataset/open/./train/QPTGVLAN.ogg\n"
          ]
        },
        {
          "output_type": "stream",
          "name": "stderr",
          "text": [
            "\r  1%|▏         | 632/50000 [08:24<9:25:43,  1.45it/s]"
          ]
        },
        {
          "output_type": "stream",
          "name": "stdout",
          "text": [
            "Saved file: /content/drive/MyDrive/dataset/TeamDeepwave/dataset/preprocessed/train/real/QPTGVLAN.png\n",
            "Processing file: /content/drive/MyDrive/dataset/TeamDeepwave/dataset/open/./train/YGZQITAC.ogg\n"
          ]
        },
        {
          "output_type": "stream",
          "name": "stderr",
          "text": [
            "\r  1%|▏         | 633/50000 [08:25<9:29:39,  1.44it/s]"
          ]
        },
        {
          "output_type": "stream",
          "name": "stdout",
          "text": [
            "Saved file: /content/drive/MyDrive/dataset/TeamDeepwave/dataset/preprocessed/train/fake/YGZQITAC.png\n",
            "Processing file: /content/drive/MyDrive/dataset/TeamDeepwave/dataset/open/./train/WBVAHEZU.ogg\n"
          ]
        },
        {
          "output_type": "stream",
          "name": "stderr",
          "text": [
            "\r  1%|▏         | 634/50000 [08:25<9:09:15,  1.50it/s]"
          ]
        },
        {
          "output_type": "stream",
          "name": "stdout",
          "text": [
            "Saved file: /content/drive/MyDrive/dataset/TeamDeepwave/dataset/preprocessed/train/fake/WBVAHEZU.png\n",
            "Processing file: /content/drive/MyDrive/dataset/TeamDeepwave/dataset/open/./train/GCQVLOOZ.ogg\n"
          ]
        },
        {
          "output_type": "stream",
          "name": "stderr",
          "text": [
            "\r  1%|▏         | 635/50000 [08:26<8:56:43,  1.53it/s]"
          ]
        },
        {
          "output_type": "stream",
          "name": "stdout",
          "text": [
            "Saved file: /content/drive/MyDrive/dataset/TeamDeepwave/dataset/preprocessed/train/fake/GCQVLOOZ.png\n",
            "Processing file: /content/drive/MyDrive/dataset/TeamDeepwave/dataset/open/./train/POQEQURS.ogg\n"
          ]
        },
        {
          "output_type": "stream",
          "name": "stderr",
          "text": [
            "\r  1%|▏         | 636/50000 [08:27<10:16:03,  1.34it/s]"
          ]
        },
        {
          "output_type": "stream",
          "name": "stdout",
          "text": [
            "Saved file: /content/drive/MyDrive/dataset/TeamDeepwave/dataset/preprocessed/train/real/POQEQURS.png\n",
            "Processing file: /content/drive/MyDrive/dataset/TeamDeepwave/dataset/open/./train/RUSYAQXN.ogg\n"
          ]
        },
        {
          "output_type": "stream",
          "name": "stderr",
          "text": [
            "\r  1%|▏         | 637/50000 [08:28<10:41:26,  1.28it/s]"
          ]
        },
        {
          "output_type": "stream",
          "name": "stdout",
          "text": [
            "Saved file: /content/drive/MyDrive/dataset/TeamDeepwave/dataset/preprocessed/train/fake/RUSYAQXN.png\n",
            "Processing file: /content/drive/MyDrive/dataset/TeamDeepwave/dataset/open/./train/CEFXDTIH.ogg\n"
          ]
        },
        {
          "output_type": "stream",
          "name": "stderr",
          "text": [
            "\r  1%|▏         | 638/50000 [08:29<10:47:11,  1.27it/s]"
          ]
        },
        {
          "output_type": "stream",
          "name": "stdout",
          "text": [
            "Saved file: /content/drive/MyDrive/dataset/TeamDeepwave/dataset/preprocessed/train/fake/CEFXDTIH.png\n",
            "Processing file: /content/drive/MyDrive/dataset/TeamDeepwave/dataset/open/./train/FCKEMTXJ.ogg\n"
          ]
        },
        {
          "output_type": "stream",
          "name": "stderr",
          "text": [
            "\r  1%|▏         | 639/50000 [08:30<11:11:32,  1.23it/s]"
          ]
        },
        {
          "output_type": "stream",
          "name": "stdout",
          "text": [
            "Saved file: /content/drive/MyDrive/dataset/TeamDeepwave/dataset/preprocessed/train/real/FCKEMTXJ.png\n",
            "Processing file: /content/drive/MyDrive/dataset/TeamDeepwave/dataset/open/./train/PIOOEFCC.ogg\n"
          ]
        },
        {
          "output_type": "stream",
          "name": "stderr",
          "text": [
            "\r  1%|▏         | 640/50000 [08:30<10:58:22,  1.25it/s]"
          ]
        },
        {
          "output_type": "stream",
          "name": "stdout",
          "text": [
            "Saved file: /content/drive/MyDrive/dataset/TeamDeepwave/dataset/preprocessed/train/fake/PIOOEFCC.png\n",
            "Processing file: /content/drive/MyDrive/dataset/TeamDeepwave/dataset/open/./train/SDJCFAVN.ogg\n"
          ]
        },
        {
          "output_type": "stream",
          "name": "stderr",
          "text": [
            "\r  1%|▏         | 641/50000 [08:31<10:33:51,  1.30it/s]"
          ]
        },
        {
          "output_type": "stream",
          "name": "stdout",
          "text": [
            "Saved file: /content/drive/MyDrive/dataset/TeamDeepwave/dataset/preprocessed/train/real/SDJCFAVN.png\n",
            "Processing file: /content/drive/MyDrive/dataset/TeamDeepwave/dataset/open/./train/UWGEAIRS.ogg\n"
          ]
        },
        {
          "output_type": "stream",
          "name": "stderr",
          "text": [
            "\r  1%|▏         | 642/50000 [08:32<10:08:09,  1.35it/s]"
          ]
        },
        {
          "output_type": "stream",
          "name": "stdout",
          "text": [
            "Saved file: /content/drive/MyDrive/dataset/TeamDeepwave/dataset/preprocessed/train/real/UWGEAIRS.png\n",
            "Processing file: /content/drive/MyDrive/dataset/TeamDeepwave/dataset/open/./train/HQHEQNJN.ogg\n"
          ]
        },
        {
          "output_type": "stream",
          "name": "stderr",
          "text": [
            "\r  1%|▏         | 643/50000 [08:32<9:35:06,  1.43it/s] "
          ]
        },
        {
          "output_type": "stream",
          "name": "stdout",
          "text": [
            "Saved file: /content/drive/MyDrive/dataset/TeamDeepwave/dataset/preprocessed/train/fake/HQHEQNJN.png\n",
            "Processing file: /content/drive/MyDrive/dataset/TeamDeepwave/dataset/open/./train/CUWUGHOZ.ogg\n"
          ]
        },
        {
          "output_type": "stream",
          "name": "stderr",
          "text": [
            "\r  1%|▏         | 644/50000 [08:33<9:27:41,  1.45it/s]"
          ]
        },
        {
          "output_type": "stream",
          "name": "stdout",
          "text": [
            "Saved file: /content/drive/MyDrive/dataset/TeamDeepwave/dataset/preprocessed/train/fake/CUWUGHOZ.png\n",
            "Processing file: /content/drive/MyDrive/dataset/TeamDeepwave/dataset/open/./train/APEJZXVS.ogg\n"
          ]
        },
        {
          "output_type": "stream",
          "name": "stderr",
          "text": [
            "\r  1%|▏         | 645/50000 [08:34<8:53:59,  1.54it/s]"
          ]
        },
        {
          "output_type": "stream",
          "name": "stdout",
          "text": [
            "Saved file: /content/drive/MyDrive/dataset/TeamDeepwave/dataset/preprocessed/train/fake/APEJZXVS.png\n",
            "Processing file: /content/drive/MyDrive/dataset/TeamDeepwave/dataset/open/./train/ABYCORVQ.ogg\n"
          ]
        },
        {
          "output_type": "stream",
          "name": "stderr",
          "text": [
            "\r  1%|▏         | 646/50000 [08:34<9:24:33,  1.46it/s]"
          ]
        },
        {
          "output_type": "stream",
          "name": "stdout",
          "text": [
            "Saved file: /content/drive/MyDrive/dataset/TeamDeepwave/dataset/preprocessed/train/fake/ABYCORVQ.png\n",
            "Processing file: /content/drive/MyDrive/dataset/TeamDeepwave/dataset/open/./train/WYIYMGBO.ogg\n"
          ]
        },
        {
          "output_type": "stream",
          "name": "stderr",
          "text": [
            "\r  1%|▏         | 647/50000 [08:35<8:58:12,  1.53it/s]"
          ]
        },
        {
          "output_type": "stream",
          "name": "stdout",
          "text": [
            "Saved file: /content/drive/MyDrive/dataset/TeamDeepwave/dataset/preprocessed/train/real/WYIYMGBO.png\n",
            "Processing file: /content/drive/MyDrive/dataset/TeamDeepwave/dataset/open/./train/SOHUKWWN.ogg\n"
          ]
        },
        {
          "output_type": "stream",
          "name": "stderr",
          "text": [
            "\r  1%|▏         | 648/50000 [08:36<8:57:15,  1.53it/s]"
          ]
        },
        {
          "output_type": "stream",
          "name": "stdout",
          "text": [
            "Saved file: /content/drive/MyDrive/dataset/TeamDeepwave/dataset/preprocessed/train/real/SOHUKWWN.png\n",
            "Processing file: /content/drive/MyDrive/dataset/TeamDeepwave/dataset/open/./train/XWKBYZZJ.ogg\n"
          ]
        },
        {
          "output_type": "stream",
          "name": "stderr",
          "text": [
            "\r  1%|▏         | 649/50000 [08:36<9:35:25,  1.43it/s]"
          ]
        },
        {
          "output_type": "stream",
          "name": "stdout",
          "text": [
            "Saved file: /content/drive/MyDrive/dataset/TeamDeepwave/dataset/preprocessed/train/real/XWKBYZZJ.png\n",
            "Processing file: /content/drive/MyDrive/dataset/TeamDeepwave/dataset/open/./train/KXHNOGCL.ogg\n"
          ]
        },
        {
          "output_type": "stream",
          "name": "stderr",
          "text": [
            "\r  1%|▏         | 650/50000 [08:37<9:35:03,  1.43it/s]"
          ]
        },
        {
          "output_type": "stream",
          "name": "stdout",
          "text": [
            "Saved file: /content/drive/MyDrive/dataset/TeamDeepwave/dataset/preprocessed/train/fake/KXHNOGCL.png\n",
            "Processing file: /content/drive/MyDrive/dataset/TeamDeepwave/dataset/open/./train/TQWOFTKN.ogg\n"
          ]
        },
        {
          "output_type": "stream",
          "name": "stderr",
          "text": [
            "\r  1%|▏         | 651/50000 [08:38<9:00:49,  1.52it/s]"
          ]
        },
        {
          "output_type": "stream",
          "name": "stdout",
          "text": [
            "Saved file: /content/drive/MyDrive/dataset/TeamDeepwave/dataset/preprocessed/train/real/TQWOFTKN.png\n",
            "Processing file: /content/drive/MyDrive/dataset/TeamDeepwave/dataset/open/./train/ODZWQCNX.ogg\n"
          ]
        },
        {
          "output_type": "stream",
          "name": "stderr",
          "text": [
            "\r  1%|▏         | 652/50000 [08:39<9:50:12,  1.39it/s]"
          ]
        },
        {
          "output_type": "stream",
          "name": "stdout",
          "text": [
            "Saved file: /content/drive/MyDrive/dataset/TeamDeepwave/dataset/preprocessed/train/real/ODZWQCNX.png\n",
            "Processing file: /content/drive/MyDrive/dataset/TeamDeepwave/dataset/open/./train/ZPZLHSLR.ogg\n"
          ]
        },
        {
          "output_type": "stream",
          "name": "stderr",
          "text": [
            "\r  1%|▏         | 653/50000 [08:39<9:32:13,  1.44it/s]"
          ]
        },
        {
          "output_type": "stream",
          "name": "stdout",
          "text": [
            "Saved file: /content/drive/MyDrive/dataset/TeamDeepwave/dataset/preprocessed/train/fake/ZPZLHSLR.png\n",
            "Processing file: /content/drive/MyDrive/dataset/TeamDeepwave/dataset/open/./train/AQOHPJYG.ogg\n"
          ]
        },
        {
          "output_type": "stream",
          "name": "stderr",
          "text": [
            "\r  1%|▏         | 654/50000 [08:40<9:02:48,  1.52it/s]"
          ]
        },
        {
          "output_type": "stream",
          "name": "stdout",
          "text": [
            "Saved file: /content/drive/MyDrive/dataset/TeamDeepwave/dataset/preprocessed/train/fake/AQOHPJYG.png\n",
            "Processing file: /content/drive/MyDrive/dataset/TeamDeepwave/dataset/open/./train/ZCZQQERM.ogg\n"
          ]
        },
        {
          "output_type": "stream",
          "name": "stderr",
          "text": [
            "\r  1%|▏         | 655/50000 [08:40<8:56:49,  1.53it/s]"
          ]
        },
        {
          "output_type": "stream",
          "name": "stdout",
          "text": [
            "Saved file: /content/drive/MyDrive/dataset/TeamDeepwave/dataset/preprocessed/train/real/ZCZQQERM.png\n",
            "Processing file: /content/drive/MyDrive/dataset/TeamDeepwave/dataset/open/./train/JOWMFYJS.ogg\n"
          ]
        },
        {
          "output_type": "stream",
          "name": "stderr",
          "text": [
            "\r  1%|▏         | 656/50000 [08:41<9:36:37,  1.43it/s]"
          ]
        },
        {
          "output_type": "stream",
          "name": "stdout",
          "text": [
            "Saved file: /content/drive/MyDrive/dataset/TeamDeepwave/dataset/preprocessed/train/fake/JOWMFYJS.png\n",
            "Processing file: /content/drive/MyDrive/dataset/TeamDeepwave/dataset/open/./train/LISBNJTN.ogg\n"
          ]
        },
        {
          "output_type": "stream",
          "name": "stderr",
          "text": [
            "\r  1%|▏         | 657/50000 [08:42<9:59:06,  1.37it/s]"
          ]
        },
        {
          "output_type": "stream",
          "name": "stdout",
          "text": [
            "Saved file: /content/drive/MyDrive/dataset/TeamDeepwave/dataset/preprocessed/train/fake/LISBNJTN.png\n",
            "Processing file: /content/drive/MyDrive/dataset/TeamDeepwave/dataset/open/./train/XMXEWUJO.ogg\n"
          ]
        },
        {
          "output_type": "stream",
          "name": "stderr",
          "text": [
            "\r  1%|▏         | 658/50000 [08:43<10:14:36,  1.34it/s]"
          ]
        },
        {
          "output_type": "stream",
          "name": "stdout",
          "text": [
            "Saved file: /content/drive/MyDrive/dataset/TeamDeepwave/dataset/preprocessed/train/real/XMXEWUJO.png\n",
            "Processing file: /content/drive/MyDrive/dataset/TeamDeepwave/dataset/open/./train/IYAFEIDW.ogg\n"
          ]
        },
        {
          "output_type": "stream",
          "name": "stderr",
          "text": [
            "\r  1%|▏         | 659/50000 [08:44<10:51:10,  1.26it/s]"
          ]
        },
        {
          "output_type": "stream",
          "name": "stdout",
          "text": [
            "Saved file: /content/drive/MyDrive/dataset/TeamDeepwave/dataset/preprocessed/train/real/IYAFEIDW.png\n",
            "Processing file: /content/drive/MyDrive/dataset/TeamDeepwave/dataset/open/./train/MHRKZWGM.ogg\n"
          ]
        },
        {
          "output_type": "stream",
          "name": "stderr",
          "text": [
            "\r  1%|▏         | 660/50000 [08:44<10:37:46,  1.29it/s]"
          ]
        },
        {
          "output_type": "stream",
          "name": "stdout",
          "text": [
            "Saved file: /content/drive/MyDrive/dataset/TeamDeepwave/dataset/preprocessed/train/real/MHRKZWGM.png\n",
            "Processing file: /content/drive/MyDrive/dataset/TeamDeepwave/dataset/open/./train/HNPOBWKC.ogg\n"
          ]
        },
        {
          "output_type": "stream",
          "name": "stderr",
          "text": [
            "\r  1%|▏         | 661/50000 [08:45<10:40:59,  1.28it/s]"
          ]
        },
        {
          "output_type": "stream",
          "name": "stdout",
          "text": [
            "Saved file: /content/drive/MyDrive/dataset/TeamDeepwave/dataset/preprocessed/train/real/HNPOBWKC.png\n",
            "Processing file: /content/drive/MyDrive/dataset/TeamDeepwave/dataset/open/./train/DVVHKKWL.ogg\n"
          ]
        },
        {
          "output_type": "stream",
          "name": "stderr",
          "text": [
            "\r  1%|▏         | 662/50000 [08:46<10:03:44,  1.36it/s]"
          ]
        },
        {
          "output_type": "stream",
          "name": "stdout",
          "text": [
            "Saved file: /content/drive/MyDrive/dataset/TeamDeepwave/dataset/preprocessed/train/fake/DVVHKKWL.png\n",
            "Processing file: /content/drive/MyDrive/dataset/TeamDeepwave/dataset/open/./train/JRTBFFWA.ogg\n"
          ]
        },
        {
          "output_type": "stream",
          "name": "stderr",
          "text": [
            "\r  1%|▏         | 663/50000 [08:46<9:46:27,  1.40it/s] "
          ]
        },
        {
          "output_type": "stream",
          "name": "stdout",
          "text": [
            "Saved file: /content/drive/MyDrive/dataset/TeamDeepwave/dataset/preprocessed/train/fake/JRTBFFWA.png\n",
            "Processing file: /content/drive/MyDrive/dataset/TeamDeepwave/dataset/open/./train/OZEFBGQO.ogg\n"
          ]
        },
        {
          "output_type": "stream",
          "name": "stderr",
          "text": [
            "\r  1%|▏         | 664/50000 [08:47<9:11:03,  1.49it/s]"
          ]
        },
        {
          "output_type": "stream",
          "name": "stdout",
          "text": [
            "Saved file: /content/drive/MyDrive/dataset/TeamDeepwave/dataset/preprocessed/train/fake/OZEFBGQO.png\n",
            "Processing file: /content/drive/MyDrive/dataset/TeamDeepwave/dataset/open/./train/VPHZHFHE.ogg\n"
          ]
        },
        {
          "output_type": "stream",
          "name": "stderr",
          "text": [
            "\r  1%|▏         | 665/50000 [08:48<9:14:44,  1.48it/s]"
          ]
        },
        {
          "output_type": "stream",
          "name": "stdout",
          "text": [
            "Saved file: /content/drive/MyDrive/dataset/TeamDeepwave/dataset/preprocessed/train/real/VPHZHFHE.png\n",
            "Processing file: /content/drive/MyDrive/dataset/TeamDeepwave/dataset/open/./train/BWCESAVC.ogg\n"
          ]
        },
        {
          "output_type": "stream",
          "name": "stderr",
          "text": [
            "\r  1%|▏         | 666/50000 [08:49<9:40:20,  1.42it/s]"
          ]
        },
        {
          "output_type": "stream",
          "name": "stdout",
          "text": [
            "Saved file: /content/drive/MyDrive/dataset/TeamDeepwave/dataset/preprocessed/train/real/BWCESAVC.png\n",
            "Processing file: /content/drive/MyDrive/dataset/TeamDeepwave/dataset/open/./train/LFDKOMIM.ogg\n"
          ]
        },
        {
          "output_type": "stream",
          "name": "stderr",
          "text": [
            "\r  1%|▏         | 667/50000 [08:49<9:28:47,  1.45it/s]"
          ]
        },
        {
          "output_type": "stream",
          "name": "stdout",
          "text": [
            "Saved file: /content/drive/MyDrive/dataset/TeamDeepwave/dataset/preprocessed/train/fake/LFDKOMIM.png\n",
            "Processing file: /content/drive/MyDrive/dataset/TeamDeepwave/dataset/open/./train/BAPZYTPO.ogg\n"
          ]
        },
        {
          "output_type": "stream",
          "name": "stderr",
          "text": [
            "\r  1%|▏         | 668/50000 [08:50<9:35:30,  1.43it/s]"
          ]
        },
        {
          "output_type": "stream",
          "name": "stdout",
          "text": [
            "Saved file: /content/drive/MyDrive/dataset/TeamDeepwave/dataset/preprocessed/train/real/BAPZYTPO.png\n",
            "Processing file: /content/drive/MyDrive/dataset/TeamDeepwave/dataset/open/./train/NLRREKXM.ogg\n"
          ]
        },
        {
          "output_type": "stream",
          "name": "stderr",
          "text": [
            "\r  1%|▏         | 669/50000 [08:50<9:06:12,  1.51it/s]"
          ]
        },
        {
          "output_type": "stream",
          "name": "stdout",
          "text": [
            "Saved file: /content/drive/MyDrive/dataset/TeamDeepwave/dataset/preprocessed/train/real/NLRREKXM.png\n",
            "Processing file: /content/drive/MyDrive/dataset/TeamDeepwave/dataset/open/./train/OAGFJMEL.ogg\n"
          ]
        },
        {
          "output_type": "stream",
          "name": "stderr",
          "text": [
            "\r  1%|▏         | 670/50000 [08:51<8:55:23,  1.54it/s]"
          ]
        },
        {
          "output_type": "stream",
          "name": "stdout",
          "text": [
            "Saved file: /content/drive/MyDrive/dataset/TeamDeepwave/dataset/preprocessed/train/real/OAGFJMEL.png\n",
            "Processing file: /content/drive/MyDrive/dataset/TeamDeepwave/dataset/open/./train/AUZJNFMO.ogg\n"
          ]
        },
        {
          "output_type": "stream",
          "name": "stderr",
          "text": [
            "\r  1%|▏         | 671/50000 [08:52<9:46:12,  1.40it/s]"
          ]
        },
        {
          "output_type": "stream",
          "name": "stdout",
          "text": [
            "Saved file: /content/drive/MyDrive/dataset/TeamDeepwave/dataset/preprocessed/train/real/AUZJNFMO.png\n",
            "Processing file: /content/drive/MyDrive/dataset/TeamDeepwave/dataset/open/./train/CLMPDQRS.ogg\n"
          ]
        },
        {
          "output_type": "stream",
          "name": "stderr",
          "text": [
            "\r  1%|▏         | 672/50000 [08:53<9:20:48,  1.47it/s]"
          ]
        },
        {
          "output_type": "stream",
          "name": "stdout",
          "text": [
            "Saved file: /content/drive/MyDrive/dataset/TeamDeepwave/dataset/preprocessed/train/real/CLMPDQRS.png\n",
            "Processing file: /content/drive/MyDrive/dataset/TeamDeepwave/dataset/open/./train/DGCIOJYL.ogg\n"
          ]
        },
        {
          "output_type": "stream",
          "name": "stderr",
          "text": [
            "\r  1%|▏         | 673/50000 [08:53<9:36:48,  1.43it/s]"
          ]
        },
        {
          "output_type": "stream",
          "name": "stdout",
          "text": [
            "Saved file: /content/drive/MyDrive/dataset/TeamDeepwave/dataset/preprocessed/train/fake/DGCIOJYL.png\n",
            "Processing file: /content/drive/MyDrive/dataset/TeamDeepwave/dataset/open/./train/YMQAFWKG.ogg\n"
          ]
        },
        {
          "output_type": "stream",
          "name": "stderr",
          "text": [
            "\r  1%|▏         | 674/50000 [08:54<9:34:28,  1.43it/s]"
          ]
        },
        {
          "output_type": "stream",
          "name": "stdout",
          "text": [
            "Saved file: /content/drive/MyDrive/dataset/TeamDeepwave/dataset/preprocessed/train/real/YMQAFWKG.png\n",
            "Processing file: /content/drive/MyDrive/dataset/TeamDeepwave/dataset/open/./train/HCRPYXHE.ogg\n"
          ]
        },
        {
          "output_type": "stream",
          "name": "stderr",
          "text": [
            "\r  1%|▏         | 675/50000 [08:55<10:05:11,  1.36it/s]"
          ]
        },
        {
          "output_type": "stream",
          "name": "stdout",
          "text": [
            "Saved file: /content/drive/MyDrive/dataset/TeamDeepwave/dataset/preprocessed/train/fake/HCRPYXHE.png\n",
            "Processing file: /content/drive/MyDrive/dataset/TeamDeepwave/dataset/open/./train/NJJXDWWM.ogg\n"
          ]
        },
        {
          "output_type": "stream",
          "name": "stderr",
          "text": [
            "\r  1%|▏         | 676/50000 [08:56<10:56:33,  1.25it/s]"
          ]
        },
        {
          "output_type": "stream",
          "name": "stdout",
          "text": [
            "Saved file: /content/drive/MyDrive/dataset/TeamDeepwave/dataset/preprocessed/train/real/NJJXDWWM.png\n",
            "Processing file: /content/drive/MyDrive/dataset/TeamDeepwave/dataset/open/./train/HKTTEUKW.ogg\n"
          ]
        },
        {
          "output_type": "stream",
          "name": "stderr",
          "text": [
            "\r  1%|▏         | 677/50000 [08:57<11:17:28,  1.21it/s]"
          ]
        },
        {
          "output_type": "stream",
          "name": "stdout",
          "text": [
            "Saved file: /content/drive/MyDrive/dataset/TeamDeepwave/dataset/preprocessed/train/real/HKTTEUKW.png\n",
            "Processing file: /content/drive/MyDrive/dataset/TeamDeepwave/dataset/open/./train/YPNKLFHJ.ogg\n"
          ]
        },
        {
          "output_type": "stream",
          "name": "stderr",
          "text": [
            "\r  1%|▏         | 678/50000 [08:58<11:30:48,  1.19it/s]"
          ]
        },
        {
          "output_type": "stream",
          "name": "stdout",
          "text": [
            "Saved file: /content/drive/MyDrive/dataset/TeamDeepwave/dataset/preprocessed/train/fake/YPNKLFHJ.png\n",
            "Processing file: /content/drive/MyDrive/dataset/TeamDeepwave/dataset/open/./train/IGEPOITE.ogg\n"
          ]
        },
        {
          "output_type": "stream",
          "name": "stderr",
          "text": [
            "\r  1%|▏         | 679/50000 [08:58<11:30:41,  1.19it/s]"
          ]
        },
        {
          "output_type": "stream",
          "name": "stdout",
          "text": [
            "Saved file: /content/drive/MyDrive/dataset/TeamDeepwave/dataset/preprocessed/train/fake/IGEPOITE.png\n",
            "Processing file: /content/drive/MyDrive/dataset/TeamDeepwave/dataset/open/./train/QZOSXNAX.ogg\n"
          ]
        },
        {
          "output_type": "stream",
          "name": "stderr",
          "text": [
            "\r  1%|▏         | 680/50000 [08:59<12:27:43,  1.10it/s]"
          ]
        },
        {
          "output_type": "stream",
          "name": "stdout",
          "text": [
            "Saved file: /content/drive/MyDrive/dataset/TeamDeepwave/dataset/preprocessed/train/real/QZOSXNAX.png\n",
            "Processing file: /content/drive/MyDrive/dataset/TeamDeepwave/dataset/open/./train/CQWIAUJM.ogg\n"
          ]
        },
        {
          "output_type": "stream",
          "name": "stderr",
          "text": [
            "\r  1%|▏         | 681/50000 [09:00<12:06:20,  1.13it/s]"
          ]
        },
        {
          "output_type": "stream",
          "name": "stdout",
          "text": [
            "Saved file: /content/drive/MyDrive/dataset/TeamDeepwave/dataset/preprocessed/train/fake/CQWIAUJM.png\n",
            "Processing file: /content/drive/MyDrive/dataset/TeamDeepwave/dataset/open/./train/WJOGKMRO.ogg\n"
          ]
        },
        {
          "output_type": "stream",
          "name": "stderr",
          "text": [
            "\r  1%|▏         | 682/50000 [09:01<12:09:46,  1.13it/s]"
          ]
        },
        {
          "output_type": "stream",
          "name": "stdout",
          "text": [
            "Saved file: /content/drive/MyDrive/dataset/TeamDeepwave/dataset/preprocessed/train/real/WJOGKMRO.png\n",
            "Processing file: /content/drive/MyDrive/dataset/TeamDeepwave/dataset/open/./train/LYFBUJAX.ogg\n"
          ]
        },
        {
          "output_type": "stream",
          "name": "stderr",
          "text": [
            "\r  1%|▏         | 683/50000 [09:02<11:23:41,  1.20it/s]"
          ]
        },
        {
          "output_type": "stream",
          "name": "stdout",
          "text": [
            "Saved file: /content/drive/MyDrive/dataset/TeamDeepwave/dataset/preprocessed/train/fake/LYFBUJAX.png\n",
            "Processing file: /content/drive/MyDrive/dataset/TeamDeepwave/dataset/open/./train/CKOCNOOF.ogg\n"
          ]
        },
        {
          "output_type": "stream",
          "name": "stderr",
          "text": [
            "\r  1%|▏         | 684/50000 [09:02<10:28:51,  1.31it/s]"
          ]
        },
        {
          "output_type": "stream",
          "name": "stdout",
          "text": [
            "Saved file: /content/drive/MyDrive/dataset/TeamDeepwave/dataset/preprocessed/train/fake/CKOCNOOF.png\n",
            "Processing file: /content/drive/MyDrive/dataset/TeamDeepwave/dataset/open/./train/ZYZTCUZS.ogg\n"
          ]
        },
        {
          "output_type": "stream",
          "name": "stderr",
          "text": [
            "\r  1%|▏         | 685/50000 [09:03<10:15:27,  1.34it/s]"
          ]
        },
        {
          "output_type": "stream",
          "name": "stdout",
          "text": [
            "Saved file: /content/drive/MyDrive/dataset/TeamDeepwave/dataset/preprocessed/train/fake/ZYZTCUZS.png\n",
            "Processing file: /content/drive/MyDrive/dataset/TeamDeepwave/dataset/open/./train/QYMROVTV.ogg\n"
          ]
        },
        {
          "output_type": "stream",
          "name": "stderr",
          "text": [
            "\r  1%|▏         | 686/50000 [09:04<10:01:11,  1.37it/s]"
          ]
        },
        {
          "output_type": "stream",
          "name": "stdout",
          "text": [
            "Saved file: /content/drive/MyDrive/dataset/TeamDeepwave/dataset/preprocessed/train/real/QYMROVTV.png\n",
            "Processing file: /content/drive/MyDrive/dataset/TeamDeepwave/dataset/open/./train/VKTWCCXE.ogg\n"
          ]
        },
        {
          "output_type": "stream",
          "name": "stderr",
          "text": [
            "\r  1%|▏         | 687/50000 [09:04<9:31:48,  1.44it/s] "
          ]
        },
        {
          "output_type": "stream",
          "name": "stdout",
          "text": [
            "Saved file: /content/drive/MyDrive/dataset/TeamDeepwave/dataset/preprocessed/train/fake/VKTWCCXE.png\n",
            "Processing file: /content/drive/MyDrive/dataset/TeamDeepwave/dataset/open/./train/ZGAOMKKW.ogg\n"
          ]
        },
        {
          "output_type": "stream",
          "name": "stderr",
          "text": [
            "\r  1%|▏         | 688/50000 [09:05<9:14:11,  1.48it/s]"
          ]
        },
        {
          "output_type": "stream",
          "name": "stdout",
          "text": [
            "Saved file: /content/drive/MyDrive/dataset/TeamDeepwave/dataset/preprocessed/train/real/ZGAOMKKW.png\n",
            "Processing file: /content/drive/MyDrive/dataset/TeamDeepwave/dataset/open/./train/NCOKYYCV.ogg\n"
          ]
        },
        {
          "output_type": "stream",
          "name": "stderr",
          "text": [
            "\r  1%|▏         | 689/50000 [09:06<9:05:38,  1.51it/s]"
          ]
        },
        {
          "output_type": "stream",
          "name": "stdout",
          "text": [
            "Saved file: /content/drive/MyDrive/dataset/TeamDeepwave/dataset/preprocessed/train/real/NCOKYYCV.png\n",
            "Processing file: /content/drive/MyDrive/dataset/TeamDeepwave/dataset/open/./train/BCUNFATS.ogg\n"
          ]
        },
        {
          "output_type": "stream",
          "name": "stderr",
          "text": [
            "\r  1%|▏         | 690/50000 [09:06<9:15:47,  1.48it/s]"
          ]
        },
        {
          "output_type": "stream",
          "name": "stdout",
          "text": [
            "Saved file: /content/drive/MyDrive/dataset/TeamDeepwave/dataset/preprocessed/train/real/BCUNFATS.png\n",
            "Processing file: /content/drive/MyDrive/dataset/TeamDeepwave/dataset/open/./train/XQACDNXN.ogg\n"
          ]
        },
        {
          "output_type": "stream",
          "name": "stderr",
          "text": [
            "\r  1%|▏         | 691/50000 [09:07<8:59:58,  1.52it/s]"
          ]
        },
        {
          "output_type": "stream",
          "name": "stdout",
          "text": [
            "Saved file: /content/drive/MyDrive/dataset/TeamDeepwave/dataset/preprocessed/train/fake/XQACDNXN.png\n",
            "Processing file: /content/drive/MyDrive/dataset/TeamDeepwave/dataset/open/./train/FODGMBIX.ogg\n"
          ]
        },
        {
          "output_type": "stream",
          "name": "stderr",
          "text": [
            "\r  1%|▏         | 692/50000 [09:08<9:00:38,  1.52it/s]"
          ]
        },
        {
          "output_type": "stream",
          "name": "stdout",
          "text": [
            "Saved file: /content/drive/MyDrive/dataset/TeamDeepwave/dataset/preprocessed/train/real/FODGMBIX.png\n",
            "Processing file: /content/drive/MyDrive/dataset/TeamDeepwave/dataset/open/./train/ZFGEUGQV.ogg\n"
          ]
        },
        {
          "output_type": "stream",
          "name": "stderr",
          "text": [
            "\r  1%|▏         | 693/50000 [09:08<9:02:09,  1.52it/s]"
          ]
        },
        {
          "output_type": "stream",
          "name": "stdout",
          "text": [
            "Saved file: /content/drive/MyDrive/dataset/TeamDeepwave/dataset/preprocessed/train/fake/ZFGEUGQV.png\n",
            "Processing file: /content/drive/MyDrive/dataset/TeamDeepwave/dataset/open/./train/PIEJJAJM.ogg\n"
          ]
        },
        {
          "output_type": "stream",
          "name": "stderr",
          "text": [
            "\r  1%|▏         | 694/50000 [09:09<8:49:34,  1.55it/s]"
          ]
        },
        {
          "output_type": "stream",
          "name": "stdout",
          "text": [
            "Saved file: /content/drive/MyDrive/dataset/TeamDeepwave/dataset/preprocessed/train/fake/PIEJJAJM.png\n",
            "Processing file: /content/drive/MyDrive/dataset/TeamDeepwave/dataset/open/./train/BLCYAMNH.ogg\n"
          ]
        },
        {
          "output_type": "stream",
          "name": "stderr",
          "text": [
            "\r  1%|▏         | 695/50000 [09:10<9:25:28,  1.45it/s]"
          ]
        },
        {
          "output_type": "stream",
          "name": "stdout",
          "text": [
            "Saved file: /content/drive/MyDrive/dataset/TeamDeepwave/dataset/preprocessed/train/real/BLCYAMNH.png\n",
            "Processing file: /content/drive/MyDrive/dataset/TeamDeepwave/dataset/open/./train/MWLLVBCD.ogg\n"
          ]
        },
        {
          "output_type": "stream",
          "name": "stderr",
          "text": [
            "\r  1%|▏         | 696/50000 [09:11<10:34:24,  1.30it/s]"
          ]
        },
        {
          "output_type": "stream",
          "name": "stdout",
          "text": [
            "Saved file: /content/drive/MyDrive/dataset/TeamDeepwave/dataset/preprocessed/train/real/MWLLVBCD.png\n",
            "Processing file: /content/drive/MyDrive/dataset/TeamDeepwave/dataset/open/./train/DWPYXGXG.ogg\n"
          ]
        },
        {
          "output_type": "stream",
          "name": "stderr",
          "text": [
            "\r  1%|▏         | 697/50000 [09:12<10:51:06,  1.26it/s]"
          ]
        },
        {
          "output_type": "stream",
          "name": "stdout",
          "text": [
            "Saved file: /content/drive/MyDrive/dataset/TeamDeepwave/dataset/preprocessed/train/fake/DWPYXGXG.png\n",
            "Processing file: /content/drive/MyDrive/dataset/TeamDeepwave/dataset/open/./train/JORAXFXM.ogg\n"
          ]
        },
        {
          "output_type": "stream",
          "name": "stderr",
          "text": [
            "\r  1%|▏         | 698/50000 [09:12<10:42:53,  1.28it/s]"
          ]
        },
        {
          "output_type": "stream",
          "name": "stdout",
          "text": [
            "Saved file: /content/drive/MyDrive/dataset/TeamDeepwave/dataset/preprocessed/train/fake/JORAXFXM.png\n",
            "Processing file: /content/drive/MyDrive/dataset/TeamDeepwave/dataset/open/./train/RPOOJLAH.ogg\n"
          ]
        },
        {
          "output_type": "stream",
          "name": "stderr",
          "text": [
            "\r  1%|▏         | 699/50000 [09:13<11:04:03,  1.24it/s]"
          ]
        },
        {
          "output_type": "stream",
          "name": "stdout",
          "text": [
            "Saved file: /content/drive/MyDrive/dataset/TeamDeepwave/dataset/preprocessed/train/real/RPOOJLAH.png\n",
            "Processing file: /content/drive/MyDrive/dataset/TeamDeepwave/dataset/open/./train/KKMFRRIR.ogg\n"
          ]
        },
        {
          "output_type": "stream",
          "name": "stderr",
          "text": [
            "\r  1%|▏         | 700/50000 [09:14<11:19:50,  1.21it/s]"
          ]
        },
        {
          "output_type": "stream",
          "name": "stdout",
          "text": [
            "Saved file: /content/drive/MyDrive/dataset/TeamDeepwave/dataset/preprocessed/train/fake/KKMFRRIR.png\n",
            "Processing file: /content/drive/MyDrive/dataset/TeamDeepwave/dataset/open/./train/VPLSWYSP.ogg\n"
          ]
        },
        {
          "output_type": "stream",
          "name": "stderr",
          "text": [
            "\r  1%|▏         | 701/50000 [09:15<10:32:35,  1.30it/s]"
          ]
        },
        {
          "output_type": "stream",
          "name": "stdout",
          "text": [
            "Saved file: /content/drive/MyDrive/dataset/TeamDeepwave/dataset/preprocessed/train/real/VPLSWYSP.png\n",
            "Processing file: /content/drive/MyDrive/dataset/TeamDeepwave/dataset/open/./train/DCQQJEAL.ogg\n"
          ]
        },
        {
          "output_type": "stream",
          "name": "stderr",
          "text": [
            "\r  1%|▏         | 702/50000 [09:15<9:53:12,  1.39it/s] "
          ]
        },
        {
          "output_type": "stream",
          "name": "stdout",
          "text": [
            "Saved file: /content/drive/MyDrive/dataset/TeamDeepwave/dataset/preprocessed/train/real/DCQQJEAL.png\n",
            "Processing file: /content/drive/MyDrive/dataset/TeamDeepwave/dataset/open/./train/HVYZQNLD.ogg\n"
          ]
        },
        {
          "output_type": "stream",
          "name": "stderr",
          "text": [
            "\r  1%|▏         | 703/50000 [09:16<9:26:57,  1.45it/s]"
          ]
        },
        {
          "output_type": "stream",
          "name": "stdout",
          "text": [
            "Saved file: /content/drive/MyDrive/dataset/TeamDeepwave/dataset/preprocessed/train/real/HVYZQNLD.png\n",
            "Processing file: /content/drive/MyDrive/dataset/TeamDeepwave/dataset/open/./train/BAVRTRVW.ogg\n"
          ]
        },
        {
          "output_type": "stream",
          "name": "stderr",
          "text": [
            "\r  1%|▏         | 704/50000 [09:17<9:16:04,  1.48it/s]"
          ]
        },
        {
          "output_type": "stream",
          "name": "stdout",
          "text": [
            "Saved file: /content/drive/MyDrive/dataset/TeamDeepwave/dataset/preprocessed/train/fake/BAVRTRVW.png\n",
            "Processing file: /content/drive/MyDrive/dataset/TeamDeepwave/dataset/open/./train/NKKXEZSJ.ogg\n"
          ]
        },
        {
          "output_type": "stream",
          "name": "stderr",
          "text": [
            "\r  1%|▏         | 705/50000 [09:17<8:56:52,  1.53it/s]"
          ]
        },
        {
          "output_type": "stream",
          "name": "stdout",
          "text": [
            "Saved file: /content/drive/MyDrive/dataset/TeamDeepwave/dataset/preprocessed/train/real/NKKXEZSJ.png\n",
            "Processing file: /content/drive/MyDrive/dataset/TeamDeepwave/dataset/open/./train/ZDHMWLGN.ogg\n"
          ]
        },
        {
          "output_type": "stream",
          "name": "stderr",
          "text": [
            "\r  1%|▏         | 706/50000 [09:18<8:44:22,  1.57it/s]"
          ]
        },
        {
          "output_type": "stream",
          "name": "stdout",
          "text": [
            "Saved file: /content/drive/MyDrive/dataset/TeamDeepwave/dataset/preprocessed/train/fake/ZDHMWLGN.png\n",
            "Processing file: /content/drive/MyDrive/dataset/TeamDeepwave/dataset/open/./train/SNZTHSRP.ogg\n"
          ]
        },
        {
          "output_type": "stream",
          "name": "stderr",
          "text": [
            "\r  1%|▏         | 707/50000 [09:19<9:27:45,  1.45it/s]"
          ]
        },
        {
          "output_type": "stream",
          "name": "stdout",
          "text": [
            "Saved file: /content/drive/MyDrive/dataset/TeamDeepwave/dataset/preprocessed/train/real/SNZTHSRP.png\n",
            "Processing file: /content/drive/MyDrive/dataset/TeamDeepwave/dataset/open/./train/BHAHLUIB.ogg\n"
          ]
        },
        {
          "output_type": "stream",
          "name": "stderr",
          "text": [
            "\r  1%|▏         | 708/50000 [09:19<9:30:08,  1.44it/s]"
          ]
        },
        {
          "output_type": "stream",
          "name": "stdout",
          "text": [
            "Saved file: /content/drive/MyDrive/dataset/TeamDeepwave/dataset/preprocessed/train/real/BHAHLUIB.png\n",
            "Processing file: /content/drive/MyDrive/dataset/TeamDeepwave/dataset/open/./train/WVFPQYTZ.ogg\n"
          ]
        },
        {
          "output_type": "stream",
          "name": "stderr",
          "text": [
            "\r  1%|▏         | 709/50000 [09:20<9:31:29,  1.44it/s]"
          ]
        },
        {
          "output_type": "stream",
          "name": "stdout",
          "text": [
            "Saved file: /content/drive/MyDrive/dataset/TeamDeepwave/dataset/preprocessed/train/real/WVFPQYTZ.png\n",
            "Processing file: /content/drive/MyDrive/dataset/TeamDeepwave/dataset/open/./train/IELNMYCJ.ogg\n"
          ]
        },
        {
          "output_type": "stream",
          "name": "stderr",
          "text": [
            "\r  1%|▏         | 710/50000 [09:21<9:44:52,  1.40it/s]"
          ]
        },
        {
          "output_type": "stream",
          "name": "stdout",
          "text": [
            "Saved file: /content/drive/MyDrive/dataset/TeamDeepwave/dataset/preprocessed/train/real/IELNMYCJ.png\n",
            "Processing file: /content/drive/MyDrive/dataset/TeamDeepwave/dataset/open/./train/IYOCRHJM.ogg\n"
          ]
        },
        {
          "output_type": "stream",
          "name": "stderr",
          "text": [
            "\r  1%|▏         | 711/50000 [09:21<9:38:24,  1.42it/s]"
          ]
        },
        {
          "output_type": "stream",
          "name": "stdout",
          "text": [
            "Saved file: /content/drive/MyDrive/dataset/TeamDeepwave/dataset/preprocessed/train/real/IYOCRHJM.png\n",
            "Processing file: /content/drive/MyDrive/dataset/TeamDeepwave/dataset/open/./train/WVBHSTKS.ogg\n"
          ]
        },
        {
          "output_type": "stream",
          "name": "stderr",
          "text": [
            "\r  1%|▏         | 712/50000 [09:22<9:31:43,  1.44it/s]"
          ]
        },
        {
          "output_type": "stream",
          "name": "stdout",
          "text": [
            "Saved file: /content/drive/MyDrive/dataset/TeamDeepwave/dataset/preprocessed/train/real/WVBHSTKS.png\n",
            "Processing file: /content/drive/MyDrive/dataset/TeamDeepwave/dataset/open/./train/IQQBHUTW.ogg\n"
          ]
        },
        {
          "output_type": "stream",
          "name": "stderr",
          "text": [
            "\r  1%|▏         | 713/50000 [09:23<9:07:54,  1.50it/s]"
          ]
        },
        {
          "output_type": "stream",
          "name": "stdout",
          "text": [
            "Saved file: /content/drive/MyDrive/dataset/TeamDeepwave/dataset/preprocessed/train/fake/IQQBHUTW.png\n",
            "Processing file: /content/drive/MyDrive/dataset/TeamDeepwave/dataset/open/./train/TUIGKRVG.ogg\n"
          ]
        },
        {
          "output_type": "stream",
          "name": "stderr",
          "text": [
            "\r  1%|▏         | 714/50000 [09:23<9:21:51,  1.46it/s]"
          ]
        },
        {
          "output_type": "stream",
          "name": "stdout",
          "text": [
            "Saved file: /content/drive/MyDrive/dataset/TeamDeepwave/dataset/preprocessed/train/real/TUIGKRVG.png\n",
            "Processing file: /content/drive/MyDrive/dataset/TeamDeepwave/dataset/open/./train/XUKMYXML.ogg\n"
          ]
        },
        {
          "output_type": "stream",
          "name": "stderr",
          "text": [
            "\r  1%|▏         | 715/50000 [09:24<9:39:17,  1.42it/s]"
          ]
        },
        {
          "output_type": "stream",
          "name": "stdout",
          "text": [
            "Saved file: /content/drive/MyDrive/dataset/TeamDeepwave/dataset/preprocessed/train/real/XUKMYXML.png\n",
            "Processing file: /content/drive/MyDrive/dataset/TeamDeepwave/dataset/open/./train/XQKWSQDU.ogg\n"
          ]
        },
        {
          "output_type": "stream",
          "name": "stderr",
          "text": [
            "\r  1%|▏         | 716/50000 [09:25<9:56:12,  1.38it/s]"
          ]
        },
        {
          "output_type": "stream",
          "name": "stdout",
          "text": [
            "Saved file: /content/drive/MyDrive/dataset/TeamDeepwave/dataset/preprocessed/train/fake/XQKWSQDU.png\n",
            "Processing file: /content/drive/MyDrive/dataset/TeamDeepwave/dataset/open/./train/TDPIMQOT.ogg\n"
          ]
        },
        {
          "output_type": "stream",
          "name": "stderr",
          "text": [
            "\r  1%|▏         | 717/50000 [09:26<10:23:37,  1.32it/s]"
          ]
        },
        {
          "output_type": "stream",
          "name": "stdout",
          "text": [
            "Saved file: /content/drive/MyDrive/dataset/TeamDeepwave/dataset/preprocessed/train/real/TDPIMQOT.png\n",
            "Processing file: /content/drive/MyDrive/dataset/TeamDeepwave/dataset/open/./train/URSRHEVH.ogg\n"
          ]
        },
        {
          "output_type": "stream",
          "name": "stderr",
          "text": [
            "\r  1%|▏         | 718/50000 [09:27<10:58:22,  1.25it/s]"
          ]
        },
        {
          "output_type": "stream",
          "name": "stdout",
          "text": [
            "Saved file: /content/drive/MyDrive/dataset/TeamDeepwave/dataset/preprocessed/train/real/URSRHEVH.png\n",
            "Processing file: /content/drive/MyDrive/dataset/TeamDeepwave/dataset/open/./train/GYEBLSVO.ogg\n"
          ]
        },
        {
          "output_type": "stream",
          "name": "stderr",
          "text": [
            "\r  1%|▏         | 719/50000 [09:27<10:39:42,  1.28it/s]"
          ]
        },
        {
          "output_type": "stream",
          "name": "stdout",
          "text": [
            "Saved file: /content/drive/MyDrive/dataset/TeamDeepwave/dataset/preprocessed/train/fake/GYEBLSVO.png\n",
            "Processing file: /content/drive/MyDrive/dataset/TeamDeepwave/dataset/open/./train/CNICJZFN.ogg\n"
          ]
        },
        {
          "output_type": "stream",
          "name": "stderr",
          "text": [
            "\r  1%|▏         | 720/50000 [09:28<11:07:28,  1.23it/s]"
          ]
        },
        {
          "output_type": "stream",
          "name": "stdout",
          "text": [
            "Saved file: /content/drive/MyDrive/dataset/TeamDeepwave/dataset/preprocessed/train/real/CNICJZFN.png\n",
            "Processing file: /content/drive/MyDrive/dataset/TeamDeepwave/dataset/open/./train/FWCASIYI.ogg\n"
          ]
        },
        {
          "output_type": "stream",
          "name": "stderr",
          "text": [
            "\r  1%|▏         | 721/50000 [09:29<10:16:32,  1.33it/s]"
          ]
        },
        {
          "output_type": "stream",
          "name": "stdout",
          "text": [
            "Saved file: /content/drive/MyDrive/dataset/TeamDeepwave/dataset/preprocessed/train/fake/FWCASIYI.png\n",
            "Processing file: /content/drive/MyDrive/dataset/TeamDeepwave/dataset/open/./train/ISOAVKZR.ogg\n"
          ]
        },
        {
          "output_type": "stream",
          "name": "stderr",
          "text": [
            "\r  1%|▏         | 722/50000 [09:30<10:03:05,  1.36it/s]"
          ]
        },
        {
          "output_type": "stream",
          "name": "stdout",
          "text": [
            "Saved file: /content/drive/MyDrive/dataset/TeamDeepwave/dataset/preprocessed/train/real/ISOAVKZR.png\n",
            "Processing file: /content/drive/MyDrive/dataset/TeamDeepwave/dataset/open/./train/XUJZKFTM.ogg\n"
          ]
        },
        {
          "output_type": "stream",
          "name": "stderr",
          "text": [
            "\r  1%|▏         | 723/50000 [09:30<9:32:23,  1.43it/s] "
          ]
        },
        {
          "output_type": "stream",
          "name": "stdout",
          "text": [
            "Saved file: /content/drive/MyDrive/dataset/TeamDeepwave/dataset/preprocessed/train/fake/XUJZKFTM.png\n",
            "Processing file: /content/drive/MyDrive/dataset/TeamDeepwave/dataset/open/./train/RPTAHRHB.ogg\n"
          ]
        },
        {
          "output_type": "stream",
          "name": "stderr",
          "text": [
            "\r  1%|▏         | 724/50000 [09:31<9:26:31,  1.45it/s]"
          ]
        },
        {
          "output_type": "stream",
          "name": "stdout",
          "text": [
            "Saved file: /content/drive/MyDrive/dataset/TeamDeepwave/dataset/preprocessed/train/fake/RPTAHRHB.png\n",
            "Processing file: /content/drive/MyDrive/dataset/TeamDeepwave/dataset/open/./train/FZRXDKTI.ogg\n"
          ]
        },
        {
          "output_type": "stream",
          "name": "stderr",
          "text": [
            "\r  1%|▏         | 725/50000 [09:32<9:03:37,  1.51it/s]"
          ]
        },
        {
          "output_type": "stream",
          "name": "stdout",
          "text": [
            "Saved file: /content/drive/MyDrive/dataset/TeamDeepwave/dataset/preprocessed/train/real/FZRXDKTI.png\n",
            "Processing file: /content/drive/MyDrive/dataset/TeamDeepwave/dataset/open/./train/SEKMLIUA.ogg\n"
          ]
        },
        {
          "output_type": "stream",
          "name": "stderr",
          "text": [
            "\r  1%|▏         | 726/50000 [09:32<9:07:27,  1.50it/s]"
          ]
        },
        {
          "output_type": "stream",
          "name": "stdout",
          "text": [
            "Saved file: /content/drive/MyDrive/dataset/TeamDeepwave/dataset/preprocessed/train/fake/SEKMLIUA.png\n",
            "Processing file: /content/drive/MyDrive/dataset/TeamDeepwave/dataset/open/./train/NWZDYKYN.ogg\n"
          ]
        },
        {
          "output_type": "stream",
          "name": "stderr",
          "text": [
            "\r  1%|▏         | 727/50000 [09:33<8:48:35,  1.55it/s]"
          ]
        },
        {
          "output_type": "stream",
          "name": "stdout",
          "text": [
            "Saved file: /content/drive/MyDrive/dataset/TeamDeepwave/dataset/preprocessed/train/fake/NWZDYKYN.png\n",
            "Processing file: /content/drive/MyDrive/dataset/TeamDeepwave/dataset/open/./train/DPIUITMU.ogg\n"
          ]
        },
        {
          "output_type": "stream",
          "name": "stderr",
          "text": [
            "\r  1%|▏         | 728/50000 [09:33<8:45:50,  1.56it/s]"
          ]
        },
        {
          "output_type": "stream",
          "name": "stdout",
          "text": [
            "Saved file: /content/drive/MyDrive/dataset/TeamDeepwave/dataset/preprocessed/train/real/DPIUITMU.png\n",
            "Processing file: /content/drive/MyDrive/dataset/TeamDeepwave/dataset/open/./train/FFGDOAXS.ogg\n"
          ]
        },
        {
          "output_type": "stream",
          "name": "stderr",
          "text": [
            "\r  1%|▏         | 729/50000 [09:34<8:52:20,  1.54it/s]"
          ]
        },
        {
          "output_type": "stream",
          "name": "stdout",
          "text": [
            "Saved file: /content/drive/MyDrive/dataset/TeamDeepwave/dataset/preprocessed/train/fake/FFGDOAXS.png\n",
            "Processing file: /content/drive/MyDrive/dataset/TeamDeepwave/dataset/open/./train/AQYVGOYU.ogg\n"
          ]
        },
        {
          "output_type": "stream",
          "name": "stderr",
          "text": [
            "\r  1%|▏         | 730/50000 [09:35<8:46:17,  1.56it/s]"
          ]
        },
        {
          "output_type": "stream",
          "name": "stdout",
          "text": [
            "Saved file: /content/drive/MyDrive/dataset/TeamDeepwave/dataset/preprocessed/train/real/AQYVGOYU.png\n",
            "Processing file: /content/drive/MyDrive/dataset/TeamDeepwave/dataset/open/./train/FVUTZJYY.ogg\n"
          ]
        },
        {
          "output_type": "stream",
          "name": "stderr",
          "text": [
            "\r  1%|▏         | 731/50000 [09:35<8:40:44,  1.58it/s]"
          ]
        },
        {
          "output_type": "stream",
          "name": "stdout",
          "text": [
            "Saved file: /content/drive/MyDrive/dataset/TeamDeepwave/dataset/preprocessed/train/fake/FVUTZJYY.png\n",
            "Processing file: /content/drive/MyDrive/dataset/TeamDeepwave/dataset/open/./train/NIWKQCTI.ogg\n"
          ]
        },
        {
          "output_type": "stream",
          "name": "stderr",
          "text": [
            "\r  1%|▏         | 732/50000 [09:36<9:04:07,  1.51it/s]"
          ]
        },
        {
          "output_type": "stream",
          "name": "stdout",
          "text": [
            "Saved file: /content/drive/MyDrive/dataset/TeamDeepwave/dataset/preprocessed/train/fake/NIWKQCTI.png\n",
            "Processing file: /content/drive/MyDrive/dataset/TeamDeepwave/dataset/open/./train/FTULTHLY.ogg\n"
          ]
        },
        {
          "output_type": "stream",
          "name": "stderr",
          "text": [
            "\r  1%|▏         | 733/50000 [09:37<9:09:54,  1.49it/s]"
          ]
        },
        {
          "output_type": "stream",
          "name": "stdout",
          "text": [
            "Saved file: /content/drive/MyDrive/dataset/TeamDeepwave/dataset/preprocessed/train/fake/FTULTHLY.png\n",
            "Processing file: /content/drive/MyDrive/dataset/TeamDeepwave/dataset/open/./train/ZZZJMLBU.ogg\n"
          ]
        },
        {
          "output_type": "stream",
          "name": "stderr",
          "text": [
            "\r  1%|▏         | 734/50000 [09:37<9:27:54,  1.45it/s]"
          ]
        },
        {
          "output_type": "stream",
          "name": "stdout",
          "text": [
            "Saved file: /content/drive/MyDrive/dataset/TeamDeepwave/dataset/preprocessed/train/real/ZZZJMLBU.png\n",
            "Processing file: /content/drive/MyDrive/dataset/TeamDeepwave/dataset/open/./train/AWEKWKVM.ogg\n"
          ]
        },
        {
          "output_type": "stream",
          "name": "stderr",
          "text": [
            "\r  1%|▏         | 735/50000 [09:38<9:03:24,  1.51it/s]"
          ]
        },
        {
          "output_type": "stream",
          "name": "stdout",
          "text": [
            "Saved file: /content/drive/MyDrive/dataset/TeamDeepwave/dataset/preprocessed/train/fake/AWEKWKVM.png\n",
            "Processing file: /content/drive/MyDrive/dataset/TeamDeepwave/dataset/open/./train/CSONWECG.ogg\n"
          ]
        },
        {
          "output_type": "stream",
          "name": "stderr",
          "text": [
            "\r  1%|▏         | 736/50000 [09:39<9:52:19,  1.39it/s]"
          ]
        },
        {
          "output_type": "stream",
          "name": "stdout",
          "text": [
            "Saved file: /content/drive/MyDrive/dataset/TeamDeepwave/dataset/preprocessed/train/fake/CSONWECG.png\n",
            "Processing file: /content/drive/MyDrive/dataset/TeamDeepwave/dataset/open/./train/IASDVSWD.ogg\n"
          ]
        },
        {
          "output_type": "stream",
          "name": "stderr",
          "text": [
            "\r  1%|▏         | 737/50000 [09:40<10:15:06,  1.33it/s]"
          ]
        },
        {
          "output_type": "stream",
          "name": "stdout",
          "text": [
            "Saved file: /content/drive/MyDrive/dataset/TeamDeepwave/dataset/preprocessed/train/fake/IASDVSWD.png\n",
            "Processing file: /content/drive/MyDrive/dataset/TeamDeepwave/dataset/open/./train/NYNZCQWK.ogg\n"
          ]
        },
        {
          "output_type": "stream",
          "name": "stderr",
          "text": [
            "\r  1%|▏         | 738/50000 [09:41<10:37:15,  1.29it/s]"
          ]
        },
        {
          "output_type": "stream",
          "name": "stdout",
          "text": [
            "Saved file: /content/drive/MyDrive/dataset/TeamDeepwave/dataset/preprocessed/train/fake/NYNZCQWK.png\n",
            "Processing file: /content/drive/MyDrive/dataset/TeamDeepwave/dataset/open/./train/SVIQDGXZ.ogg\n"
          ]
        },
        {
          "output_type": "stream",
          "name": "stderr",
          "text": [
            "\r  1%|▏         | 739/50000 [09:42<11:10:46,  1.22it/s]"
          ]
        },
        {
          "output_type": "stream",
          "name": "stdout",
          "text": [
            "Saved file: /content/drive/MyDrive/dataset/TeamDeepwave/dataset/preprocessed/train/fake/SVIQDGXZ.png\n",
            "Processing file: /content/drive/MyDrive/dataset/TeamDeepwave/dataset/open/./train/QNMMOWDQ.ogg\n"
          ]
        },
        {
          "output_type": "stream",
          "name": "stderr",
          "text": [
            "\r  1%|▏         | 740/50000 [09:42<11:02:29,  1.24it/s]"
          ]
        },
        {
          "output_type": "stream",
          "name": "stdout",
          "text": [
            "Saved file: /content/drive/MyDrive/dataset/TeamDeepwave/dataset/preprocessed/train/real/QNMMOWDQ.png\n",
            "Processing file: /content/drive/MyDrive/dataset/TeamDeepwave/dataset/open/./train/PIEFGXLD.ogg\n"
          ]
        },
        {
          "output_type": "stream",
          "name": "stderr",
          "text": [
            "\r  1%|▏         | 741/50000 [09:43<10:38:54,  1.28it/s]"
          ]
        },
        {
          "output_type": "stream",
          "name": "stdout",
          "text": [
            "Saved file: /content/drive/MyDrive/dataset/TeamDeepwave/dataset/preprocessed/train/real/PIEFGXLD.png\n",
            "Processing file: /content/drive/MyDrive/dataset/TeamDeepwave/dataset/open/./train/OJCPLUHB.ogg\n"
          ]
        },
        {
          "output_type": "stream",
          "name": "stderr",
          "text": [
            "\r  1%|▏         | 742/50000 [09:44<9:52:12,  1.39it/s] "
          ]
        },
        {
          "output_type": "stream",
          "name": "stdout",
          "text": [
            "Saved file: /content/drive/MyDrive/dataset/TeamDeepwave/dataset/preprocessed/train/fake/OJCPLUHB.png\n",
            "Processing file: /content/drive/MyDrive/dataset/TeamDeepwave/dataset/open/./train/RDAXOUKO.ogg\n"
          ]
        },
        {
          "output_type": "stream",
          "name": "stderr",
          "text": [
            "\r  1%|▏         | 743/50000 [09:44<9:26:44,  1.45it/s]"
          ]
        },
        {
          "output_type": "stream",
          "name": "stdout",
          "text": [
            "Saved file: /content/drive/MyDrive/dataset/TeamDeepwave/dataset/preprocessed/train/real/RDAXOUKO.png\n",
            "Processing file: /content/drive/MyDrive/dataset/TeamDeepwave/dataset/open/./train/VASBBHAO.ogg\n"
          ]
        },
        {
          "output_type": "stream",
          "name": "stderr",
          "text": [
            "\r  1%|▏         | 744/50000 [09:45<9:26:11,  1.45it/s]"
          ]
        },
        {
          "output_type": "stream",
          "name": "stdout",
          "text": [
            "Saved file: /content/drive/MyDrive/dataset/TeamDeepwave/dataset/preprocessed/train/real/VASBBHAO.png\n",
            "Processing file: /content/drive/MyDrive/dataset/TeamDeepwave/dataset/open/./train/DRGLGXLM.ogg\n"
          ]
        },
        {
          "output_type": "stream",
          "name": "stderr",
          "text": [
            "\r  1%|▏         | 745/50000 [09:46<9:42:05,  1.41it/s]"
          ]
        },
        {
          "output_type": "stream",
          "name": "stdout",
          "text": [
            "Saved file: /content/drive/MyDrive/dataset/TeamDeepwave/dataset/preprocessed/train/real/DRGLGXLM.png\n",
            "Processing file: /content/drive/MyDrive/dataset/TeamDeepwave/dataset/open/./train/ZOITKLKH.ogg\n"
          ]
        },
        {
          "output_type": "stream",
          "name": "stderr",
          "text": [
            "\r  1%|▏         | 746/50000 [09:46<9:28:38,  1.44it/s]"
          ]
        },
        {
          "output_type": "stream",
          "name": "stdout",
          "text": [
            "Saved file: /content/drive/MyDrive/dataset/TeamDeepwave/dataset/preprocessed/train/real/ZOITKLKH.png\n",
            "Processing file: /content/drive/MyDrive/dataset/TeamDeepwave/dataset/open/./train/AZNFGMDF.ogg\n"
          ]
        },
        {
          "output_type": "stream",
          "name": "stderr",
          "text": [
            "\r  1%|▏         | 747/50000 [09:47<9:47:31,  1.40it/s]"
          ]
        },
        {
          "output_type": "stream",
          "name": "stdout",
          "text": [
            "Saved file: /content/drive/MyDrive/dataset/TeamDeepwave/dataset/preprocessed/train/real/AZNFGMDF.png\n",
            "Processing file: /content/drive/MyDrive/dataset/TeamDeepwave/dataset/open/./train/AEOFNIMF.ogg\n"
          ]
        },
        {
          "output_type": "stream",
          "name": "stderr",
          "text": [
            "\r  1%|▏         | 748/50000 [09:48<9:18:44,  1.47it/s]"
          ]
        },
        {
          "output_type": "stream",
          "name": "stdout",
          "text": [
            "Saved file: /content/drive/MyDrive/dataset/TeamDeepwave/dataset/preprocessed/train/fake/AEOFNIMF.png\n",
            "Processing file: /content/drive/MyDrive/dataset/TeamDeepwave/dataset/open/./train/QRBUERDQ.ogg\n"
          ]
        },
        {
          "output_type": "stream",
          "name": "stderr",
          "text": [
            "\r  1%|▏         | 749/50000 [09:49<9:58:45,  1.37it/s]"
          ]
        },
        {
          "output_type": "stream",
          "name": "stdout",
          "text": [
            "Saved file: /content/drive/MyDrive/dataset/TeamDeepwave/dataset/preprocessed/train/real/QRBUERDQ.png\n",
            "Processing file: /content/drive/MyDrive/dataset/TeamDeepwave/dataset/open/./train/WEMDMJBG.ogg\n"
          ]
        },
        {
          "output_type": "stream",
          "name": "stderr",
          "text": [
            "\r  2%|▏         | 750/50000 [09:49<10:00:31,  1.37it/s]"
          ]
        },
        {
          "output_type": "stream",
          "name": "stdout",
          "text": [
            "Saved file: /content/drive/MyDrive/dataset/TeamDeepwave/dataset/preprocessed/train/real/WEMDMJBG.png\n",
            "Processing file: /content/drive/MyDrive/dataset/TeamDeepwave/dataset/open/./train/SHKBBDVV.ogg\n"
          ]
        },
        {
          "output_type": "stream",
          "name": "stderr",
          "text": [
            "\r  2%|▏         | 751/50000 [09:50<9:37:16,  1.42it/s] "
          ]
        },
        {
          "output_type": "stream",
          "name": "stdout",
          "text": [
            "Saved file: /content/drive/MyDrive/dataset/TeamDeepwave/dataset/preprocessed/train/real/SHKBBDVV.png\n",
            "Processing file: /content/drive/MyDrive/dataset/TeamDeepwave/dataset/open/./train/XXZJZMFY.ogg\n"
          ]
        },
        {
          "output_type": "stream",
          "name": "stderr",
          "text": [
            "\r  2%|▏         | 752/50000 [09:50<9:07:29,  1.50it/s]"
          ]
        },
        {
          "output_type": "stream",
          "name": "stdout",
          "text": [
            "Saved file: /content/drive/MyDrive/dataset/TeamDeepwave/dataset/preprocessed/train/fake/XXZJZMFY.png\n",
            "Processing file: /content/drive/MyDrive/dataset/TeamDeepwave/dataset/open/./train/MYPFJKJD.ogg\n"
          ]
        },
        {
          "output_type": "stream",
          "name": "stderr",
          "text": [
            "\r  2%|▏         | 753/50000 [09:51<9:12:50,  1.48it/s]"
          ]
        },
        {
          "output_type": "stream",
          "name": "stdout",
          "text": [
            "Saved file: /content/drive/MyDrive/dataset/TeamDeepwave/dataset/preprocessed/train/fake/MYPFJKJD.png\n",
            "Processing file: /content/drive/MyDrive/dataset/TeamDeepwave/dataset/open/./train/TNKYQDDC.ogg\n"
          ]
        },
        {
          "output_type": "stream",
          "name": "stderr",
          "text": [
            "\r  2%|▏         | 754/50000 [09:52<9:19:27,  1.47it/s]"
          ]
        },
        {
          "output_type": "stream",
          "name": "stdout",
          "text": [
            "Saved file: /content/drive/MyDrive/dataset/TeamDeepwave/dataset/preprocessed/train/real/TNKYQDDC.png\n",
            "Processing file: /content/drive/MyDrive/dataset/TeamDeepwave/dataset/open/./train/SKKXKPXD.ogg\n"
          ]
        },
        {
          "output_type": "stream",
          "name": "stderr",
          "text": [
            "\r  2%|▏         | 755/50000 [09:53<9:47:15,  1.40it/s]"
          ]
        },
        {
          "output_type": "stream",
          "name": "stdout",
          "text": [
            "Saved file: /content/drive/MyDrive/dataset/TeamDeepwave/dataset/preprocessed/train/fake/SKKXKPXD.png\n",
            "Processing file: /content/drive/MyDrive/dataset/TeamDeepwave/dataset/open/./train/RDFRBCGY.ogg\n"
          ]
        },
        {
          "output_type": "stream",
          "name": "stderr",
          "text": [
            "\r  2%|▏         | 756/50000 [09:54<10:51:52,  1.26it/s]"
          ]
        },
        {
          "output_type": "stream",
          "name": "stdout",
          "text": [
            "Saved file: /content/drive/MyDrive/dataset/TeamDeepwave/dataset/preprocessed/train/real/RDFRBCGY.png\n",
            "Processing file: /content/drive/MyDrive/dataset/TeamDeepwave/dataset/open/./train/AIHWUKPA.ogg\n"
          ]
        },
        {
          "output_type": "stream",
          "name": "stderr",
          "text": [
            "\r  2%|▏         | 757/50000 [09:55<11:28:56,  1.19it/s]"
          ]
        },
        {
          "output_type": "stream",
          "name": "stdout",
          "text": [
            "Saved file: /content/drive/MyDrive/dataset/TeamDeepwave/dataset/preprocessed/train/fake/AIHWUKPA.png\n",
            "Processing file: /content/drive/MyDrive/dataset/TeamDeepwave/dataset/open/./train/SHYJROFP.ogg\n"
          ]
        },
        {
          "output_type": "stream",
          "name": "stderr",
          "text": [
            "\r  2%|▏         | 758/50000 [09:56<11:52:42,  1.15it/s]"
          ]
        },
        {
          "output_type": "stream",
          "name": "stdout",
          "text": [
            "Saved file: /content/drive/MyDrive/dataset/TeamDeepwave/dataset/preprocessed/train/fake/SHYJROFP.png\n",
            "Processing file: /content/drive/MyDrive/dataset/TeamDeepwave/dataset/open/./train/QGFVZNGU.ogg\n"
          ]
        },
        {
          "output_type": "stream",
          "name": "stderr",
          "text": [
            "\r  2%|▏         | 759/50000 [09:56<10:49:44,  1.26it/s]"
          ]
        },
        {
          "output_type": "stream",
          "name": "stdout",
          "text": [
            "Saved file: /content/drive/MyDrive/dataset/TeamDeepwave/dataset/preprocessed/train/fake/QGFVZNGU.png\n",
            "Processing file: /content/drive/MyDrive/dataset/TeamDeepwave/dataset/open/./train/HFNBIKSF.ogg\n"
          ]
        },
        {
          "output_type": "stream",
          "name": "stderr",
          "text": [
            "\r  2%|▏         | 760/50000 [09:57<10:15:58,  1.33it/s]"
          ]
        },
        {
          "output_type": "stream",
          "name": "stdout",
          "text": [
            "Saved file: /content/drive/MyDrive/dataset/TeamDeepwave/dataset/preprocessed/train/real/HFNBIKSF.png\n",
            "Processing file: /content/drive/MyDrive/dataset/TeamDeepwave/dataset/open/./train/EXCVCPNL.ogg\n"
          ]
        },
        {
          "output_type": "stream",
          "name": "stderr",
          "text": [
            "\r  2%|▏         | 761/50000 [09:58<10:26:21,  1.31it/s]"
          ]
        },
        {
          "output_type": "stream",
          "name": "stdout",
          "text": [
            "Saved file: /content/drive/MyDrive/dataset/TeamDeepwave/dataset/preprocessed/train/fake/EXCVCPNL.png\n",
            "Processing file: /content/drive/MyDrive/dataset/TeamDeepwave/dataset/open/./train/WGVRHGKQ.ogg\n"
          ]
        },
        {
          "output_type": "stream",
          "name": "stderr",
          "text": [
            "\r  2%|▏         | 762/50000 [09:58<10:09:40,  1.35it/s]"
          ]
        },
        {
          "output_type": "stream",
          "name": "stdout",
          "text": [
            "Saved file: /content/drive/MyDrive/dataset/TeamDeepwave/dataset/preprocessed/train/real/WGVRHGKQ.png\n",
            "Processing file: /content/drive/MyDrive/dataset/TeamDeepwave/dataset/open/./train/CKWHCVUK.ogg\n"
          ]
        },
        {
          "output_type": "stream",
          "name": "stderr",
          "text": [
            "\r  2%|▏         | 763/50000 [09:59<9:59:41,  1.37it/s] "
          ]
        },
        {
          "output_type": "stream",
          "name": "stdout",
          "text": [
            "Saved file: /content/drive/MyDrive/dataset/TeamDeepwave/dataset/preprocessed/train/real/CKWHCVUK.png\n",
            "Processing file: /content/drive/MyDrive/dataset/TeamDeepwave/dataset/open/./train/JOCZBEYX.ogg\n"
          ]
        },
        {
          "output_type": "stream",
          "name": "stderr",
          "text": [
            "\r  2%|▏         | 764/50000 [10:00<9:32:12,  1.43it/s]"
          ]
        },
        {
          "output_type": "stream",
          "name": "stdout",
          "text": [
            "Saved file: /content/drive/MyDrive/dataset/TeamDeepwave/dataset/preprocessed/train/real/JOCZBEYX.png\n",
            "Processing file: /content/drive/MyDrive/dataset/TeamDeepwave/dataset/open/./train/XFTSZFNT.ogg\n"
          ]
        },
        {
          "output_type": "stream",
          "name": "stderr",
          "text": [
            "\r  2%|▏         | 765/50000 [10:00<9:29:38,  1.44it/s]"
          ]
        },
        {
          "output_type": "stream",
          "name": "stdout",
          "text": [
            "Saved file: /content/drive/MyDrive/dataset/TeamDeepwave/dataset/preprocessed/train/real/XFTSZFNT.png\n",
            "Processing file: /content/drive/MyDrive/dataset/TeamDeepwave/dataset/open/./train/QETYZYUY.ogg\n"
          ]
        },
        {
          "output_type": "stream",
          "name": "stderr",
          "text": [
            "\r  2%|▏         | 766/50000 [10:01<9:37:42,  1.42it/s]"
          ]
        },
        {
          "output_type": "stream",
          "name": "stdout",
          "text": [
            "Saved file: /content/drive/MyDrive/dataset/TeamDeepwave/dataset/preprocessed/train/real/QETYZYUY.png\n",
            "Processing file: /content/drive/MyDrive/dataset/TeamDeepwave/dataset/open/./train/WUAGJUTT.ogg\n"
          ]
        },
        {
          "output_type": "stream",
          "name": "stderr",
          "text": [
            "\r  2%|▏         | 767/50000 [10:02<10:00:26,  1.37it/s]"
          ]
        },
        {
          "output_type": "stream",
          "name": "stdout",
          "text": [
            "Saved file: /content/drive/MyDrive/dataset/TeamDeepwave/dataset/preprocessed/train/real/WUAGJUTT.png\n",
            "Processing file: /content/drive/MyDrive/dataset/TeamDeepwave/dataset/open/./train/WIPBQUIP.ogg\n"
          ]
        },
        {
          "output_type": "stream",
          "name": "stderr",
          "text": [
            "\r  2%|▏         | 768/50000 [10:02<9:52:39,  1.38it/s] "
          ]
        },
        {
          "output_type": "stream",
          "name": "stdout",
          "text": [
            "Saved file: /content/drive/MyDrive/dataset/TeamDeepwave/dataset/preprocessed/train/real/WIPBQUIP.png\n",
            "Processing file: /content/drive/MyDrive/dataset/TeamDeepwave/dataset/open/./train/WCQFTBYH.ogg\n"
          ]
        },
        {
          "output_type": "stream",
          "name": "stderr",
          "text": [
            "\r  2%|▏         | 769/50000 [10:03<9:45:47,  1.40it/s]"
          ]
        },
        {
          "output_type": "stream",
          "name": "stdout",
          "text": [
            "Saved file: /content/drive/MyDrive/dataset/TeamDeepwave/dataset/preprocessed/train/real/WCQFTBYH.png\n",
            "Processing file: /content/drive/MyDrive/dataset/TeamDeepwave/dataset/open/./train/QHYRDKGB.ogg\n"
          ]
        },
        {
          "output_type": "stream",
          "name": "stderr",
          "text": [
            "\r  2%|▏         | 770/50000 [10:04<9:20:54,  1.46it/s]"
          ]
        },
        {
          "output_type": "stream",
          "name": "stdout",
          "text": [
            "Saved file: /content/drive/MyDrive/dataset/TeamDeepwave/dataset/preprocessed/train/real/QHYRDKGB.png\n",
            "Processing file: /content/drive/MyDrive/dataset/TeamDeepwave/dataset/open/./train/ZCHLRTEF.ogg\n"
          ]
        },
        {
          "output_type": "stream",
          "name": "stderr",
          "text": [
            "\r  2%|▏         | 771/50000 [10:04<9:06:10,  1.50it/s]"
          ]
        },
        {
          "output_type": "stream",
          "name": "stdout",
          "text": [
            "Saved file: /content/drive/MyDrive/dataset/TeamDeepwave/dataset/preprocessed/train/fake/ZCHLRTEF.png\n",
            "Processing file: /content/drive/MyDrive/dataset/TeamDeepwave/dataset/open/./train/QAUQZIOM.ogg\n"
          ]
        },
        {
          "output_type": "stream",
          "name": "stderr",
          "text": [
            "\r  2%|▏         | 772/50000 [10:05<9:01:32,  1.52it/s]"
          ]
        },
        {
          "output_type": "stream",
          "name": "stdout",
          "text": [
            "Saved file: /content/drive/MyDrive/dataset/TeamDeepwave/dataset/preprocessed/train/real/QAUQZIOM.png\n",
            "Processing file: /content/drive/MyDrive/dataset/TeamDeepwave/dataset/open/./train/NSCXPHDK.ogg\n"
          ]
        },
        {
          "output_type": "stream",
          "name": "stderr",
          "text": [
            "\r  2%|▏         | 773/50000 [10:06<9:57:40,  1.37it/s]"
          ]
        },
        {
          "output_type": "stream",
          "name": "stdout",
          "text": [
            "Saved file: /content/drive/MyDrive/dataset/TeamDeepwave/dataset/preprocessed/train/real/NSCXPHDK.png\n",
            "Processing file: /content/drive/MyDrive/dataset/TeamDeepwave/dataset/open/./train/OYLDHFON.ogg\n"
          ]
        },
        {
          "output_type": "stream",
          "name": "stderr",
          "text": [
            "\r  2%|▏         | 774/50000 [10:07<10:10:28,  1.34it/s]"
          ]
        },
        {
          "output_type": "stream",
          "name": "stdout",
          "text": [
            "Saved file: /content/drive/MyDrive/dataset/TeamDeepwave/dataset/preprocessed/train/fake/OYLDHFON.png\n",
            "Processing file: /content/drive/MyDrive/dataset/TeamDeepwave/dataset/open/./train/YHJPCPOR.ogg\n"
          ]
        },
        {
          "output_type": "stream",
          "name": "stderr",
          "text": [
            "\r  2%|▏         | 775/50000 [10:08<10:36:31,  1.29it/s]"
          ]
        },
        {
          "output_type": "stream",
          "name": "stdout",
          "text": [
            "Saved file: /content/drive/MyDrive/dataset/TeamDeepwave/dataset/preprocessed/train/real/YHJPCPOR.png\n",
            "Processing file: /content/drive/MyDrive/dataset/TeamDeepwave/dataset/open/./train/KOVKRGIZ.ogg\n"
          ]
        },
        {
          "output_type": "stream",
          "name": "stderr",
          "text": [
            "\r  2%|▏         | 776/50000 [10:09<11:29:31,  1.19it/s]"
          ]
        },
        {
          "output_type": "stream",
          "name": "stdout",
          "text": [
            "Saved file: /content/drive/MyDrive/dataset/TeamDeepwave/dataset/preprocessed/train/real/KOVKRGIZ.png\n",
            "Processing file: /content/drive/MyDrive/dataset/TeamDeepwave/dataset/open/./train/ZXAKZQVC.ogg\n"
          ]
        },
        {
          "output_type": "stream",
          "name": "stderr",
          "text": [
            "\r  2%|▏         | 777/50000 [10:09<11:32:37,  1.18it/s]"
          ]
        },
        {
          "output_type": "stream",
          "name": "stdout",
          "text": [
            "Saved file: /content/drive/MyDrive/dataset/TeamDeepwave/dataset/preprocessed/train/real/ZXAKZQVC.png\n",
            "Processing file: /content/drive/MyDrive/dataset/TeamDeepwave/dataset/open/./train/PFFTXDMX.ogg\n"
          ]
        },
        {
          "output_type": "stream",
          "name": "stderr",
          "text": [
            "\r  2%|▏         | 778/50000 [10:10<11:03:47,  1.24it/s]"
          ]
        },
        {
          "output_type": "stream",
          "name": "stdout",
          "text": [
            "Saved file: /content/drive/MyDrive/dataset/TeamDeepwave/dataset/preprocessed/train/real/PFFTXDMX.png\n",
            "Processing file: /content/drive/MyDrive/dataset/TeamDeepwave/dataset/open/./train/GDKNMHBB.ogg\n"
          ]
        },
        {
          "output_type": "stream",
          "name": "stderr",
          "text": [
            "\r  2%|▏         | 779/50000 [10:11<10:48:40,  1.26it/s]"
          ]
        },
        {
          "output_type": "stream",
          "name": "stdout",
          "text": [
            "Saved file: /content/drive/MyDrive/dataset/TeamDeepwave/dataset/preprocessed/train/real/GDKNMHBB.png\n",
            "Processing file: /content/drive/MyDrive/dataset/TeamDeepwave/dataset/open/./train/FVTSIAUC.ogg\n"
          ]
        },
        {
          "output_type": "stream",
          "name": "stderr",
          "text": [
            "\r  2%|▏         | 780/50000 [10:12<10:13:56,  1.34it/s]"
          ]
        },
        {
          "output_type": "stream",
          "name": "stdout",
          "text": [
            "Saved file: /content/drive/MyDrive/dataset/TeamDeepwave/dataset/preprocessed/train/real/FVTSIAUC.png\n",
            "Processing file: /content/drive/MyDrive/dataset/TeamDeepwave/dataset/open/./train/EAGXYGXB.ogg\n"
          ]
        },
        {
          "output_type": "stream",
          "name": "stderr",
          "text": [
            "\r  2%|▏         | 781/50000 [10:12<9:50:31,  1.39it/s] "
          ]
        },
        {
          "output_type": "stream",
          "name": "stdout",
          "text": [
            "Saved file: /content/drive/MyDrive/dataset/TeamDeepwave/dataset/preprocessed/train/fake/EAGXYGXB.png\n",
            "Processing file: /content/drive/MyDrive/dataset/TeamDeepwave/dataset/open/./train/ZMNUNPUU.ogg\n"
          ]
        },
        {
          "output_type": "stream",
          "name": "stderr",
          "text": [
            "\r  2%|▏         | 782/50000 [10:13<9:58:06,  1.37it/s]"
          ]
        },
        {
          "output_type": "stream",
          "name": "stdout",
          "text": [
            "Saved file: /content/drive/MyDrive/dataset/TeamDeepwave/dataset/preprocessed/train/real/ZMNUNPUU.png\n",
            "Processing file: /content/drive/MyDrive/dataset/TeamDeepwave/dataset/open/./train/XILRUIRM.ogg\n"
          ]
        },
        {
          "output_type": "stream",
          "name": "stderr",
          "text": [
            "\r  2%|▏         | 783/50000 [10:14<9:44:35,  1.40it/s]"
          ]
        },
        {
          "output_type": "stream",
          "name": "stdout",
          "text": [
            "Saved file: /content/drive/MyDrive/dataset/TeamDeepwave/dataset/preprocessed/train/real/XILRUIRM.png\n",
            "Processing file: /content/drive/MyDrive/dataset/TeamDeepwave/dataset/open/./train/YRLFAIMN.ogg\n"
          ]
        },
        {
          "output_type": "stream",
          "name": "stderr",
          "text": [
            "\r  2%|▏         | 784/50000 [10:14<9:09:47,  1.49it/s]"
          ]
        },
        {
          "output_type": "stream",
          "name": "stdout",
          "text": [
            "Saved file: /content/drive/MyDrive/dataset/TeamDeepwave/dataset/preprocessed/train/fake/YRLFAIMN.png\n",
            "Processing file: /content/drive/MyDrive/dataset/TeamDeepwave/dataset/open/./train/IQYQZWDE.ogg\n"
          ]
        },
        {
          "output_type": "stream",
          "name": "stderr",
          "text": [
            "\r  2%|▏         | 785/50000 [10:15<9:24:15,  1.45it/s]"
          ]
        },
        {
          "output_type": "stream",
          "name": "stdout",
          "text": [
            "Saved file: /content/drive/MyDrive/dataset/TeamDeepwave/dataset/preprocessed/train/real/IQYQZWDE.png\n",
            "Processing file: /content/drive/MyDrive/dataset/TeamDeepwave/dataset/open/./train/LPUDNHXN.ogg\n"
          ]
        },
        {
          "output_type": "stream",
          "name": "stderr",
          "text": [
            "\r  2%|▏         | 786/50000 [10:16<9:46:23,  1.40it/s]"
          ]
        },
        {
          "output_type": "stream",
          "name": "stdout",
          "text": [
            "Saved file: /content/drive/MyDrive/dataset/TeamDeepwave/dataset/preprocessed/train/fake/LPUDNHXN.png\n",
            "Processing file: /content/drive/MyDrive/dataset/TeamDeepwave/dataset/open/./train/BOKUVNIQ.ogg\n"
          ]
        },
        {
          "output_type": "stream",
          "name": "stderr",
          "text": [
            "\r  2%|▏         | 787/50000 [10:16<9:29:16,  1.44it/s]"
          ]
        },
        {
          "output_type": "stream",
          "name": "stdout",
          "text": [
            "Saved file: /content/drive/MyDrive/dataset/TeamDeepwave/dataset/preprocessed/train/fake/BOKUVNIQ.png\n",
            "Processing file: /content/drive/MyDrive/dataset/TeamDeepwave/dataset/open/./train/YBTSKDDT.ogg\n"
          ]
        },
        {
          "output_type": "stream",
          "name": "stderr",
          "text": [
            "\r  2%|▏         | 788/50000 [10:17<9:45:28,  1.40it/s]"
          ]
        },
        {
          "output_type": "stream",
          "name": "stdout",
          "text": [
            "Saved file: /content/drive/MyDrive/dataset/TeamDeepwave/dataset/preprocessed/train/fake/YBTSKDDT.png\n",
            "Processing file: /content/drive/MyDrive/dataset/TeamDeepwave/dataset/open/./train/JOUJLXSM.ogg\n"
          ]
        },
        {
          "output_type": "stream",
          "name": "stderr",
          "text": [
            "\r  2%|▏         | 789/50000 [10:18<9:27:21,  1.45it/s]"
          ]
        },
        {
          "output_type": "stream",
          "name": "stdout",
          "text": [
            "Saved file: /content/drive/MyDrive/dataset/TeamDeepwave/dataset/preprocessed/train/real/JOUJLXSM.png\n",
            "Processing file: /content/drive/MyDrive/dataset/TeamDeepwave/dataset/open/./train/EPMOGJWO.ogg\n"
          ]
        },
        {
          "output_type": "stream",
          "name": "stderr",
          "text": [
            "\r  2%|▏         | 790/50000 [10:18<9:15:32,  1.48it/s]"
          ]
        },
        {
          "output_type": "stream",
          "name": "stdout",
          "text": [
            "Saved file: /content/drive/MyDrive/dataset/TeamDeepwave/dataset/preprocessed/train/real/EPMOGJWO.png\n",
            "Processing file: /content/drive/MyDrive/dataset/TeamDeepwave/dataset/open/./train/AKJWOGIJ.ogg\n"
          ]
        },
        {
          "output_type": "stream",
          "name": "stderr",
          "text": [
            "\r  2%|▏         | 791/50000 [10:19<9:34:30,  1.43it/s]"
          ]
        },
        {
          "output_type": "stream",
          "name": "stdout",
          "text": [
            "Saved file: /content/drive/MyDrive/dataset/TeamDeepwave/dataset/preprocessed/train/fake/AKJWOGIJ.png\n",
            "Processing file: /content/drive/MyDrive/dataset/TeamDeepwave/dataset/open/./train/YWUFIBXI.ogg\n"
          ]
        },
        {
          "output_type": "stream",
          "name": "stderr",
          "text": [
            "\r  2%|▏         | 792/50000 [10:20<10:06:41,  1.35it/s]"
          ]
        },
        {
          "output_type": "stream",
          "name": "stdout",
          "text": [
            "Saved file: /content/drive/MyDrive/dataset/TeamDeepwave/dataset/preprocessed/train/real/YWUFIBXI.png\n",
            "Processing file: /content/drive/MyDrive/dataset/TeamDeepwave/dataset/open/./train/IBTLPEFO.ogg\n"
          ]
        },
        {
          "output_type": "stream",
          "name": "stderr",
          "text": [
            "\r  2%|▏         | 793/50000 [10:21<10:41:53,  1.28it/s]"
          ]
        },
        {
          "output_type": "stream",
          "name": "stdout",
          "text": [
            "Saved file: /content/drive/MyDrive/dataset/TeamDeepwave/dataset/preprocessed/train/fake/IBTLPEFO.png\n",
            "Processing file: /content/drive/MyDrive/dataset/TeamDeepwave/dataset/open/./train/STLTSSYN.ogg\n"
          ]
        },
        {
          "output_type": "stream",
          "name": "stderr",
          "text": [
            "\r  2%|▏         | 794/50000 [10:22<11:36:47,  1.18it/s]"
          ]
        },
        {
          "output_type": "stream",
          "name": "stdout",
          "text": [
            "Saved file: /content/drive/MyDrive/dataset/TeamDeepwave/dataset/preprocessed/train/real/STLTSSYN.png\n",
            "Processing file: /content/drive/MyDrive/dataset/TeamDeepwave/dataset/open/./train/PCLBNMZT.ogg\n"
          ]
        },
        {
          "output_type": "stream",
          "name": "stderr",
          "text": [
            "\r  2%|▏         | 795/50000 [10:23<11:58:02,  1.14it/s]"
          ]
        },
        {
          "output_type": "stream",
          "name": "stdout",
          "text": [
            "Saved file: /content/drive/MyDrive/dataset/TeamDeepwave/dataset/preprocessed/train/fake/PCLBNMZT.png\n",
            "Processing file: /content/drive/MyDrive/dataset/TeamDeepwave/dataset/open/./train/XESSQLMK.ogg\n"
          ]
        },
        {
          "output_type": "stream",
          "name": "stderr",
          "text": [
            "\r  2%|▏         | 796/50000 [10:26<20:01:07,  1.46s/it]"
          ]
        },
        {
          "output_type": "stream",
          "name": "stdout",
          "text": [
            "Saved file: /content/drive/MyDrive/dataset/TeamDeepwave/dataset/preprocessed/train/fake/XESSQLMK.png\n",
            "Processing file: /content/drive/MyDrive/dataset/TeamDeepwave/dataset/open/./train/JLUAFWJM.ogg\n"
          ]
        },
        {
          "output_type": "stream",
          "name": "stderr",
          "text": [
            "\r  2%|▏         | 797/50000 [10:26<17:01:42,  1.25s/it]"
          ]
        },
        {
          "output_type": "stream",
          "name": "stdout",
          "text": [
            "Saved file: /content/drive/MyDrive/dataset/TeamDeepwave/dataset/preprocessed/train/real/JLUAFWJM.png\n",
            "Processing file: /content/drive/MyDrive/dataset/TeamDeepwave/dataset/open/./train/MYCWENNH.ogg\n"
          ]
        },
        {
          "output_type": "stream",
          "name": "stderr",
          "text": [
            "\r  2%|▏         | 798/50000 [10:27<14:34:10,  1.07s/it]"
          ]
        },
        {
          "output_type": "stream",
          "name": "stdout",
          "text": [
            "Saved file: /content/drive/MyDrive/dataset/TeamDeepwave/dataset/preprocessed/train/fake/MYCWENNH.png\n",
            "Processing file: /content/drive/MyDrive/dataset/TeamDeepwave/dataset/open/./train/CBZXZDKM.ogg\n"
          ]
        },
        {
          "output_type": "stream",
          "name": "stderr",
          "text": [
            "\r  2%|▏         | 799/50000 [10:28<13:45:19,  1.01s/it]"
          ]
        },
        {
          "output_type": "stream",
          "name": "stdout",
          "text": [
            "Saved file: /content/drive/MyDrive/dataset/TeamDeepwave/dataset/preprocessed/train/real/CBZXZDKM.png\n",
            "Processing file: /content/drive/MyDrive/dataset/TeamDeepwave/dataset/open/./train/IXSSVMFK.ogg\n"
          ]
        },
        {
          "output_type": "stream",
          "name": "stderr",
          "text": [
            "\r  2%|▏         | 800/50000 [10:28<12:01:42,  1.14it/s]"
          ]
        },
        {
          "output_type": "stream",
          "name": "stdout",
          "text": [
            "Saved file: /content/drive/MyDrive/dataset/TeamDeepwave/dataset/preprocessed/train/real/IXSSVMFK.png\n",
            "Processing file: /content/drive/MyDrive/dataset/TeamDeepwave/dataset/open/./train/HOYEKBFJ.ogg\n"
          ]
        },
        {
          "output_type": "stream",
          "name": "stderr",
          "text": [
            "\r  2%|▏         | 801/50000 [10:29<11:08:20,  1.23it/s]"
          ]
        },
        {
          "output_type": "stream",
          "name": "stdout",
          "text": [
            "Saved file: /content/drive/MyDrive/dataset/TeamDeepwave/dataset/preprocessed/train/real/HOYEKBFJ.png\n",
            "Processing file: /content/drive/MyDrive/dataset/TeamDeepwave/dataset/open/./train/JQBHXAEF.ogg\n"
          ]
        },
        {
          "output_type": "stream",
          "name": "stderr",
          "text": [
            "\r  2%|▏         | 802/50000 [10:30<10:57:53,  1.25it/s]"
          ]
        },
        {
          "output_type": "stream",
          "name": "stdout",
          "text": [
            "Saved file: /content/drive/MyDrive/dataset/TeamDeepwave/dataset/preprocessed/train/real/JQBHXAEF.png\n",
            "Processing file: /content/drive/MyDrive/dataset/TeamDeepwave/dataset/open/./train/FIYLIMGD.ogg\n"
          ]
        },
        {
          "output_type": "stream",
          "name": "stderr",
          "text": [
            "\r  2%|▏         | 803/50000 [10:30<9:59:14,  1.37it/s] "
          ]
        },
        {
          "output_type": "stream",
          "name": "stdout",
          "text": [
            "Saved file: /content/drive/MyDrive/dataset/TeamDeepwave/dataset/preprocessed/train/fake/FIYLIMGD.png\n",
            "Processing file: /content/drive/MyDrive/dataset/TeamDeepwave/dataset/open/./train/ZVQCCIUP.ogg\n"
          ]
        },
        {
          "output_type": "stream",
          "name": "stderr",
          "text": [
            "\r  2%|▏         | 804/50000 [10:31<10:05:39,  1.35it/s]"
          ]
        },
        {
          "output_type": "stream",
          "name": "stdout",
          "text": [
            "Saved file: /content/drive/MyDrive/dataset/TeamDeepwave/dataset/preprocessed/train/real/ZVQCCIUP.png\n",
            "Processing file: /content/drive/MyDrive/dataset/TeamDeepwave/dataset/open/./train/VGZJZGWO.ogg\n"
          ]
        },
        {
          "output_type": "stream",
          "name": "stderr",
          "text": [
            "\r  2%|▏         | 805/50000 [10:32<9:41:52,  1.41it/s] "
          ]
        },
        {
          "output_type": "stream",
          "name": "stdout",
          "text": [
            "Saved file: /content/drive/MyDrive/dataset/TeamDeepwave/dataset/preprocessed/train/real/VGZJZGWO.png\n",
            "Processing file: /content/drive/MyDrive/dataset/TeamDeepwave/dataset/open/./train/MHRYXCVZ.ogg\n"
          ]
        },
        {
          "output_type": "stream",
          "name": "stderr",
          "text": [
            "\r  2%|▏         | 806/50000 [10:33<9:35:33,  1.42it/s]"
          ]
        },
        {
          "output_type": "stream",
          "name": "stdout",
          "text": [
            "Saved file: /content/drive/MyDrive/dataset/TeamDeepwave/dataset/preprocessed/train/real/MHRYXCVZ.png\n",
            "Processing file: /content/drive/MyDrive/dataset/TeamDeepwave/dataset/open/./train/WIBBNBUS.ogg\n"
          ]
        },
        {
          "output_type": "stream",
          "name": "stderr",
          "text": [
            "\r  2%|▏         | 807/50000 [10:33<9:14:01,  1.48it/s]"
          ]
        },
        {
          "output_type": "stream",
          "name": "stdout",
          "text": [
            "Saved file: /content/drive/MyDrive/dataset/TeamDeepwave/dataset/preprocessed/train/fake/WIBBNBUS.png\n",
            "Processing file: /content/drive/MyDrive/dataset/TeamDeepwave/dataset/open/./train/ICLOQITU.ogg\n"
          ]
        },
        {
          "output_type": "stream",
          "name": "stderr",
          "text": [
            "\r  2%|▏         | 808/50000 [10:34<9:34:48,  1.43it/s]"
          ]
        },
        {
          "output_type": "stream",
          "name": "stdout",
          "text": [
            "Saved file: /content/drive/MyDrive/dataset/TeamDeepwave/dataset/preprocessed/train/fake/ICLOQITU.png\n",
            "Processing file: /content/drive/MyDrive/dataset/TeamDeepwave/dataset/open/./train/EADBJWSL.ogg\n"
          ]
        },
        {
          "output_type": "stream",
          "name": "stderr",
          "text": [
            "\r  2%|▏         | 809/50000 [10:35<10:15:55,  1.33it/s]"
          ]
        },
        {
          "output_type": "stream",
          "name": "stdout",
          "text": [
            "Saved file: /content/drive/MyDrive/dataset/TeamDeepwave/dataset/preprocessed/train/fake/EADBJWSL.png\n",
            "Processing file: /content/drive/MyDrive/dataset/TeamDeepwave/dataset/open/./train/QDWWXIIO.ogg\n"
          ]
        },
        {
          "output_type": "stream",
          "name": "stderr",
          "text": [
            "\r  2%|▏         | 810/50000 [10:36<10:34:10,  1.29it/s]"
          ]
        },
        {
          "output_type": "stream",
          "name": "stdout",
          "text": [
            "Saved file: /content/drive/MyDrive/dataset/TeamDeepwave/dataset/preprocessed/train/fake/QDWWXIIO.png\n",
            "Processing file: /content/drive/MyDrive/dataset/TeamDeepwave/dataset/open/./train/EBQFJHHX.ogg\n"
          ]
        },
        {
          "output_type": "stream",
          "name": "stderr",
          "text": [
            "\r  2%|▏         | 811/50000 [10:37<11:27:09,  1.19it/s]"
          ]
        },
        {
          "output_type": "stream",
          "name": "stdout",
          "text": [
            "Saved file: /content/drive/MyDrive/dataset/TeamDeepwave/dataset/preprocessed/train/real/EBQFJHHX.png\n",
            "Processing file: /content/drive/MyDrive/dataset/TeamDeepwave/dataset/open/./train/KJDYWTCI.ogg\n"
          ]
        },
        {
          "output_type": "stream",
          "name": "stderr",
          "text": [
            "\r  2%|▏         | 812/50000 [10:37<10:22:09,  1.32it/s]"
          ]
        },
        {
          "output_type": "stream",
          "name": "stdout",
          "text": [
            "Saved file: /content/drive/MyDrive/dataset/TeamDeepwave/dataset/preprocessed/train/fake/KJDYWTCI.png\n",
            "Processing file: /content/drive/MyDrive/dataset/TeamDeepwave/dataset/open/./train/WUXMTZZY.ogg\n"
          ]
        },
        {
          "output_type": "stream",
          "name": "stderr",
          "text": [
            "\r  2%|▏         | 813/50000 [10:38<9:41:00,  1.41it/s] "
          ]
        },
        {
          "output_type": "stream",
          "name": "stdout",
          "text": [
            "Saved file: /content/drive/MyDrive/dataset/TeamDeepwave/dataset/preprocessed/train/fake/WUXMTZZY.png\n",
            "Processing file: /content/drive/MyDrive/dataset/TeamDeepwave/dataset/open/./train/SLGOOTAS.ogg\n"
          ]
        },
        {
          "output_type": "stream",
          "name": "stderr",
          "text": [
            "\r  2%|▏         | 814/50000 [10:38<9:27:12,  1.45it/s]"
          ]
        },
        {
          "output_type": "stream",
          "name": "stdout",
          "text": [
            "Saved file: /content/drive/MyDrive/dataset/TeamDeepwave/dataset/preprocessed/train/fake/SLGOOTAS.png\n",
            "Processing file: /content/drive/MyDrive/dataset/TeamDeepwave/dataset/open/./train/BAYLGVWY.ogg\n"
          ]
        },
        {
          "output_type": "stream",
          "name": "stderr",
          "text": [
            "\r  2%|▏         | 815/50000 [10:39<9:35:02,  1.43it/s]"
          ]
        },
        {
          "output_type": "stream",
          "name": "stdout",
          "text": [
            "Saved file: /content/drive/MyDrive/dataset/TeamDeepwave/dataset/preprocessed/train/fake/BAYLGVWY.png\n",
            "Processing file: /content/drive/MyDrive/dataset/TeamDeepwave/dataset/open/./train/UCWXDEBY.ogg\n"
          ]
        },
        {
          "output_type": "stream",
          "name": "stderr",
          "text": [
            "\r  2%|▏         | 816/50000 [10:40<9:34:16,  1.43it/s]"
          ]
        },
        {
          "output_type": "stream",
          "name": "stdout",
          "text": [
            "Saved file: /content/drive/MyDrive/dataset/TeamDeepwave/dataset/preprocessed/train/fake/UCWXDEBY.png\n",
            "Processing file: /content/drive/MyDrive/dataset/TeamDeepwave/dataset/open/./train/LBIGAFGA.ogg\n"
          ]
        },
        {
          "output_type": "stream",
          "name": "stderr",
          "text": [
            "\r  2%|▏         | 817/50000 [10:41<9:15:58,  1.47it/s]"
          ]
        },
        {
          "output_type": "stream",
          "name": "stdout",
          "text": [
            "Saved file: /content/drive/MyDrive/dataset/TeamDeepwave/dataset/preprocessed/train/fake/LBIGAFGA.png\n",
            "Processing file: /content/drive/MyDrive/dataset/TeamDeepwave/dataset/open/./train/HBRLPFKA.ogg\n"
          ]
        },
        {
          "output_type": "stream",
          "name": "stderr",
          "text": [
            "\r  2%|▏         | 818/50000 [10:41<8:50:20,  1.55it/s]"
          ]
        },
        {
          "output_type": "stream",
          "name": "stdout",
          "text": [
            "Saved file: /content/drive/MyDrive/dataset/TeamDeepwave/dataset/preprocessed/train/fake/HBRLPFKA.png\n",
            "Processing file: /content/drive/MyDrive/dataset/TeamDeepwave/dataset/open/./train/EUDUFQUN.ogg\n"
          ]
        },
        {
          "output_type": "stream",
          "name": "stderr",
          "text": [
            "\r  2%|▏         | 819/50000 [10:42<8:31:31,  1.60it/s]"
          ]
        },
        {
          "output_type": "stream",
          "name": "stdout",
          "text": [
            "Saved file: /content/drive/MyDrive/dataset/TeamDeepwave/dataset/preprocessed/train/fake/EUDUFQUN.png\n",
            "Processing file: /content/drive/MyDrive/dataset/TeamDeepwave/dataset/open/./train/FUDIUZUW.ogg\n"
          ]
        },
        {
          "output_type": "stream",
          "name": "stderr",
          "text": [
            "\r  2%|▏         | 820/50000 [10:42<8:28:45,  1.61it/s]"
          ]
        },
        {
          "output_type": "stream",
          "name": "stdout",
          "text": [
            "Saved file: /content/drive/MyDrive/dataset/TeamDeepwave/dataset/preprocessed/train/fake/FUDIUZUW.png\n",
            "Processing file: /content/drive/MyDrive/dataset/TeamDeepwave/dataset/open/./train/NZIUFDOP.ogg\n"
          ]
        },
        {
          "output_type": "stream",
          "name": "stderr",
          "text": [
            "\r  2%|▏         | 821/50000 [10:43<8:26:07,  1.62it/s]"
          ]
        },
        {
          "output_type": "stream",
          "name": "stdout",
          "text": [
            "Saved file: /content/drive/MyDrive/dataset/TeamDeepwave/dataset/preprocessed/train/fake/NZIUFDOP.png\n",
            "Processing file: /content/drive/MyDrive/dataset/TeamDeepwave/dataset/open/./train/INCKOLXP.ogg\n"
          ]
        },
        {
          "output_type": "stream",
          "name": "stderr",
          "text": [
            "\r  2%|▏         | 822/50000 [10:43<8:23:43,  1.63it/s]"
          ]
        },
        {
          "output_type": "stream",
          "name": "stdout",
          "text": [
            "Saved file: /content/drive/MyDrive/dataset/TeamDeepwave/dataset/preprocessed/train/fake/INCKOLXP.png\n",
            "Processing file: /content/drive/MyDrive/dataset/TeamDeepwave/dataset/open/./train/VVSTUMFY.ogg\n"
          ]
        },
        {
          "output_type": "stream",
          "name": "stderr",
          "text": [
            "\r  2%|▏         | 823/50000 [10:44<8:17:43,  1.65it/s]"
          ]
        },
        {
          "output_type": "stream",
          "name": "stdout",
          "text": [
            "Saved file: /content/drive/MyDrive/dataset/TeamDeepwave/dataset/preprocessed/train/fake/VVSTUMFY.png\n",
            "Processing file: /content/drive/MyDrive/dataset/TeamDeepwave/dataset/open/./train/AUZLGVYE.ogg\n"
          ]
        },
        {
          "output_type": "stream",
          "name": "stderr",
          "text": [
            "\r  2%|▏         | 824/50000 [10:45<8:33:13,  1.60it/s]"
          ]
        },
        {
          "output_type": "stream",
          "name": "stdout",
          "text": [
            "Saved file: /content/drive/MyDrive/dataset/TeamDeepwave/dataset/preprocessed/train/fake/AUZLGVYE.png\n",
            "Processing file: /content/drive/MyDrive/dataset/TeamDeepwave/dataset/open/./train/ATEBWGDA.ogg\n"
          ]
        },
        {
          "output_type": "stream",
          "name": "stderr",
          "text": [
            "\r  2%|▏         | 825/50000 [10:45<8:21:11,  1.64it/s]"
          ]
        },
        {
          "output_type": "stream",
          "name": "stdout",
          "text": [
            "Saved file: /content/drive/MyDrive/dataset/TeamDeepwave/dataset/preprocessed/train/real/ATEBWGDA.png\n",
            "Processing file: /content/drive/MyDrive/dataset/TeamDeepwave/dataset/open/./train/ZANLRGCQ.ogg\n"
          ]
        },
        {
          "output_type": "stream",
          "name": "stderr",
          "text": [
            "\r  2%|▏         | 826/50000 [10:46<8:55:28,  1.53it/s]"
          ]
        },
        {
          "output_type": "stream",
          "name": "stdout",
          "text": [
            "Saved file: /content/drive/MyDrive/dataset/TeamDeepwave/dataset/preprocessed/train/real/ZANLRGCQ.png\n",
            "Processing file: /content/drive/MyDrive/dataset/TeamDeepwave/dataset/open/./train/YOKBGRFL.ogg\n"
          ]
        },
        {
          "output_type": "stream",
          "name": "stderr",
          "text": [
            "\r  2%|▏         | 827/50000 [10:47<11:16:02,  1.21it/s]"
          ]
        },
        {
          "output_type": "stream",
          "name": "stdout",
          "text": [
            "Saved file: /content/drive/MyDrive/dataset/TeamDeepwave/dataset/preprocessed/train/real/YOKBGRFL.png\n",
            "Processing file: /content/drive/MyDrive/dataset/TeamDeepwave/dataset/open/./train/QEYMFUKM.ogg\n"
          ]
        },
        {
          "output_type": "stream",
          "name": "stderr",
          "text": [
            "\r  2%|▏         | 828/50000 [10:48<12:18:39,  1.11it/s]"
          ]
        },
        {
          "output_type": "stream",
          "name": "stdout",
          "text": [
            "Saved file: /content/drive/MyDrive/dataset/TeamDeepwave/dataset/preprocessed/train/real/QEYMFUKM.png\n",
            "Processing file: /content/drive/MyDrive/dataset/TeamDeepwave/dataset/open/./train/WBHGKXPQ.ogg\n"
          ]
        },
        {
          "output_type": "stream",
          "name": "stderr",
          "text": [
            "\r  2%|▏         | 829/50000 [10:49<12:05:28,  1.13it/s]"
          ]
        },
        {
          "output_type": "stream",
          "name": "stdout",
          "text": [
            "Saved file: /content/drive/MyDrive/dataset/TeamDeepwave/dataset/preprocessed/train/real/WBHGKXPQ.png\n",
            "Processing file: /content/drive/MyDrive/dataset/TeamDeepwave/dataset/open/./train/KZPYCELH.ogg\n"
          ]
        },
        {
          "output_type": "stream",
          "name": "stderr",
          "text": [
            "\r  2%|▏         | 830/50000 [10:50<12:37:39,  1.08it/s]"
          ]
        },
        {
          "output_type": "stream",
          "name": "stdout",
          "text": [
            "Saved file: /content/drive/MyDrive/dataset/TeamDeepwave/dataset/preprocessed/train/real/KZPYCELH.png\n",
            "Processing file: /content/drive/MyDrive/dataset/TeamDeepwave/dataset/open/./train/OGRYIFLL.ogg\n"
          ]
        },
        {
          "output_type": "stream",
          "name": "stderr",
          "text": [
            "\r  2%|▏         | 831/50000 [10:51<11:39:38,  1.17it/s]"
          ]
        },
        {
          "output_type": "stream",
          "name": "stdout",
          "text": [
            "Saved file: /content/drive/MyDrive/dataset/TeamDeepwave/dataset/preprocessed/train/real/OGRYIFLL.png\n",
            "Processing file: /content/drive/MyDrive/dataset/TeamDeepwave/dataset/open/./train/NGDUZEHZ.ogg\n"
          ]
        },
        {
          "output_type": "stream",
          "name": "stderr",
          "text": [
            "\r  2%|▏         | 832/50000 [10:52<11:23:35,  1.20it/s]"
          ]
        },
        {
          "output_type": "stream",
          "name": "stdout",
          "text": [
            "Saved file: /content/drive/MyDrive/dataset/TeamDeepwave/dataset/preprocessed/train/real/NGDUZEHZ.png\n",
            "Processing file: /content/drive/MyDrive/dataset/TeamDeepwave/dataset/open/./train/AYHFFEFO.ogg\n"
          ]
        },
        {
          "output_type": "stream",
          "name": "stderr",
          "text": [
            "\r  2%|▏         | 833/50000 [10:52<10:27:13,  1.31it/s]"
          ]
        },
        {
          "output_type": "stream",
          "name": "stdout",
          "text": [
            "Saved file: /content/drive/MyDrive/dataset/TeamDeepwave/dataset/preprocessed/train/fake/AYHFFEFO.png\n",
            "Processing file: /content/drive/MyDrive/dataset/TeamDeepwave/dataset/open/./train/ZMHTLZJS.ogg\n"
          ]
        },
        {
          "output_type": "stream",
          "name": "stderr",
          "text": [
            "\r  2%|▏         | 834/50000 [10:53<9:51:42,  1.38it/s] "
          ]
        },
        {
          "output_type": "stream",
          "name": "stdout",
          "text": [
            "Saved file: /content/drive/MyDrive/dataset/TeamDeepwave/dataset/preprocessed/train/real/ZMHTLZJS.png\n",
            "Processing file: /content/drive/MyDrive/dataset/TeamDeepwave/dataset/open/./train/RWJCFJTR.ogg\n"
          ]
        },
        {
          "output_type": "stream",
          "name": "stderr",
          "text": [
            "\r  2%|▏         | 835/50000 [10:54<9:36:56,  1.42it/s]"
          ]
        },
        {
          "output_type": "stream",
          "name": "stdout",
          "text": [
            "Saved file: /content/drive/MyDrive/dataset/TeamDeepwave/dataset/preprocessed/train/fake/RWJCFJTR.png\n",
            "Processing file: /content/drive/MyDrive/dataset/TeamDeepwave/dataset/open/./train/EPFBFPJT.ogg\n"
          ]
        },
        {
          "output_type": "stream",
          "name": "stderr",
          "text": [
            "\r  2%|▏         | 836/50000 [10:54<9:14:06,  1.48it/s]"
          ]
        },
        {
          "output_type": "stream",
          "name": "stdout",
          "text": [
            "Saved file: /content/drive/MyDrive/dataset/TeamDeepwave/dataset/preprocessed/train/real/EPFBFPJT.png\n",
            "Processing file: /content/drive/MyDrive/dataset/TeamDeepwave/dataset/open/./train/RBXNEYUY.ogg\n"
          ]
        },
        {
          "output_type": "stream",
          "name": "stderr",
          "text": [
            "\r  2%|▏         | 837/50000 [10:55<9:26:44,  1.45it/s]"
          ]
        },
        {
          "output_type": "stream",
          "name": "stdout",
          "text": [
            "Saved file: /content/drive/MyDrive/dataset/TeamDeepwave/dataset/preprocessed/train/real/RBXNEYUY.png\n",
            "Processing file: /content/drive/MyDrive/dataset/TeamDeepwave/dataset/open/./train/OFRMXTUO.ogg\n"
          ]
        },
        {
          "output_type": "stream",
          "name": "stderr",
          "text": [
            "\r  2%|▏         | 838/50000 [10:56<9:18:03,  1.47it/s]"
          ]
        },
        {
          "output_type": "stream",
          "name": "stdout",
          "text": [
            "Saved file: /content/drive/MyDrive/dataset/TeamDeepwave/dataset/preprocessed/train/fake/OFRMXTUO.png\n",
            "Processing file: /content/drive/MyDrive/dataset/TeamDeepwave/dataset/open/./train/KAMLPXCR.ogg\n"
          ]
        },
        {
          "output_type": "stream",
          "name": "stderr",
          "text": [
            "\r  2%|▏         | 839/50000 [10:56<8:54:31,  1.53it/s]"
          ]
        },
        {
          "output_type": "stream",
          "name": "stdout",
          "text": [
            "Saved file: /content/drive/MyDrive/dataset/TeamDeepwave/dataset/preprocessed/train/fake/KAMLPXCR.png\n",
            "Processing file: /content/drive/MyDrive/dataset/TeamDeepwave/dataset/open/./train/GUDBGQRM.ogg\n"
          ]
        },
        {
          "output_type": "stream",
          "name": "stderr",
          "text": [
            "\r  2%|▏         | 840/50000 [10:57<8:45:41,  1.56it/s]"
          ]
        },
        {
          "output_type": "stream",
          "name": "stdout",
          "text": [
            "Saved file: /content/drive/MyDrive/dataset/TeamDeepwave/dataset/preprocessed/train/real/GUDBGQRM.png\n",
            "Processing file: /content/drive/MyDrive/dataset/TeamDeepwave/dataset/open/./train/UKJSVUUG.ogg\n"
          ]
        },
        {
          "output_type": "stream",
          "name": "stderr",
          "text": [
            "\r  2%|▏         | 841/50000 [10:57<8:50:04,  1.55it/s]"
          ]
        },
        {
          "output_type": "stream",
          "name": "stdout",
          "text": [
            "Saved file: /content/drive/MyDrive/dataset/TeamDeepwave/dataset/preprocessed/train/fake/UKJSVUUG.png\n",
            "Processing file: /content/drive/MyDrive/dataset/TeamDeepwave/dataset/open/./train/EEEISYVM.ogg\n"
          ]
        },
        {
          "output_type": "stream",
          "name": "stderr",
          "text": [
            "\r  2%|▏         | 842/50000 [10:58<8:49:17,  1.55it/s]"
          ]
        },
        {
          "output_type": "stream",
          "name": "stdout",
          "text": [
            "Saved file: /content/drive/MyDrive/dataset/TeamDeepwave/dataset/preprocessed/train/fake/EEEISYVM.png\n",
            "Processing file: /content/drive/MyDrive/dataset/TeamDeepwave/dataset/open/./train/IKRLCXYF.ogg\n"
          ]
        },
        {
          "output_type": "stream",
          "name": "stderr",
          "text": [
            "\r  2%|▏         | 843/50000 [10:59<9:05:56,  1.50it/s]"
          ]
        },
        {
          "output_type": "stream",
          "name": "stdout",
          "text": [
            "Saved file: /content/drive/MyDrive/dataset/TeamDeepwave/dataset/preprocessed/train/fake/IKRLCXYF.png\n",
            "Processing file: /content/drive/MyDrive/dataset/TeamDeepwave/dataset/open/./train/ONJKXWAQ.ogg\n"
          ]
        },
        {
          "output_type": "stream",
          "name": "stderr",
          "text": [
            "\r  2%|▏         | 844/50000 [10:59<9:03:41,  1.51it/s]"
          ]
        },
        {
          "output_type": "stream",
          "name": "stdout",
          "text": [
            "Saved file: /content/drive/MyDrive/dataset/TeamDeepwave/dataset/preprocessed/train/real/ONJKXWAQ.png\n",
            "Processing file: /content/drive/MyDrive/dataset/TeamDeepwave/dataset/open/./train/JEYYTFVK.ogg\n"
          ]
        },
        {
          "output_type": "stream",
          "name": "stderr",
          "text": [
            "\r  2%|▏         | 845/50000 [11:00<9:19:01,  1.47it/s]"
          ]
        },
        {
          "output_type": "stream",
          "name": "stdout",
          "text": [
            "Saved file: /content/drive/MyDrive/dataset/TeamDeepwave/dataset/preprocessed/train/fake/JEYYTFVK.png\n",
            "Processing file: /content/drive/MyDrive/dataset/TeamDeepwave/dataset/open/./train/ALYCLILF.ogg\n"
          ]
        },
        {
          "output_type": "stream",
          "name": "stderr",
          "text": [
            "\r  2%|▏         | 846/50000 [11:01<9:41:01,  1.41it/s]"
          ]
        },
        {
          "output_type": "stream",
          "name": "stdout",
          "text": [
            "Saved file: /content/drive/MyDrive/dataset/TeamDeepwave/dataset/preprocessed/train/real/ALYCLILF.png\n",
            "Processing file: /content/drive/MyDrive/dataset/TeamDeepwave/dataset/open/./train/BHRWKIYA.ogg\n"
          ]
        },
        {
          "output_type": "stream",
          "name": "stderr",
          "text": [
            "\r  2%|▏         | 847/50000 [11:02<10:11:26,  1.34it/s]"
          ]
        },
        {
          "output_type": "stream",
          "name": "stdout",
          "text": [
            "Saved file: /content/drive/MyDrive/dataset/TeamDeepwave/dataset/preprocessed/train/real/BHRWKIYA.png\n",
            "Processing file: /content/drive/MyDrive/dataset/TeamDeepwave/dataset/open/./train/CUBRDGDO.ogg\n"
          ]
        },
        {
          "output_type": "stream",
          "name": "stderr",
          "text": [
            "\r  2%|▏         | 848/50000 [11:03<11:21:47,  1.20it/s]"
          ]
        },
        {
          "output_type": "stream",
          "name": "stdout",
          "text": [
            "Saved file: /content/drive/MyDrive/dataset/TeamDeepwave/dataset/preprocessed/train/real/CUBRDGDO.png\n",
            "Processing file: /content/drive/MyDrive/dataset/TeamDeepwave/dataset/open/./train/PHVQKZLL.ogg\n"
          ]
        },
        {
          "output_type": "stream",
          "name": "stderr",
          "text": [
            "\r  2%|▏         | 849/50000 [11:04<11:19:41,  1.21it/s]"
          ]
        },
        {
          "output_type": "stream",
          "name": "stdout",
          "text": [
            "Saved file: /content/drive/MyDrive/dataset/TeamDeepwave/dataset/preprocessed/train/real/PHVQKZLL.png\n",
            "Processing file: /content/drive/MyDrive/dataset/TeamDeepwave/dataset/open/./train/BAYZCJFC.ogg\n"
          ]
        },
        {
          "output_type": "stream",
          "name": "stderr",
          "text": [
            "\r  2%|▏         | 850/50000 [11:04<11:16:15,  1.21it/s]"
          ]
        },
        {
          "output_type": "stream",
          "name": "stdout",
          "text": [
            "Saved file: /content/drive/MyDrive/dataset/TeamDeepwave/dataset/preprocessed/train/fake/BAYZCJFC.png\n",
            "Processing file: /content/drive/MyDrive/dataset/TeamDeepwave/dataset/open/./train/HKEDKUXE.ogg\n"
          ]
        },
        {
          "output_type": "stream",
          "name": "stderr",
          "text": [
            "\r  2%|▏         | 851/50000 [11:05<10:59:33,  1.24it/s]"
          ]
        },
        {
          "output_type": "stream",
          "name": "stdout",
          "text": [
            "Saved file: /content/drive/MyDrive/dataset/TeamDeepwave/dataset/preprocessed/train/real/HKEDKUXE.png\n",
            "Processing file: /content/drive/MyDrive/dataset/TeamDeepwave/dataset/open/./train/FBQSKOMY.ogg\n"
          ]
        },
        {
          "output_type": "stream",
          "name": "stderr",
          "text": [
            "\r  2%|▏         | 852/50000 [11:06<10:25:50,  1.31it/s]"
          ]
        },
        {
          "output_type": "stream",
          "name": "stdout",
          "text": [
            "Saved file: /content/drive/MyDrive/dataset/TeamDeepwave/dataset/preprocessed/train/real/FBQSKOMY.png\n",
            "Processing file: /content/drive/MyDrive/dataset/TeamDeepwave/dataset/open/./train/PQQRTDDK.ogg\n"
          ]
        },
        {
          "output_type": "stream",
          "name": "stderr",
          "text": [
            "\r  2%|▏         | 853/50000 [11:06<9:41:54,  1.41it/s] "
          ]
        },
        {
          "output_type": "stream",
          "name": "stdout",
          "text": [
            "Saved file: /content/drive/MyDrive/dataset/TeamDeepwave/dataset/preprocessed/train/real/PQQRTDDK.png\n",
            "Processing file: /content/drive/MyDrive/dataset/TeamDeepwave/dataset/open/./train/LSBCOHEJ.ogg\n"
          ]
        },
        {
          "output_type": "stream",
          "name": "stderr",
          "text": [
            "\r  2%|▏         | 854/50000 [11:07<9:24:25,  1.45it/s]"
          ]
        },
        {
          "output_type": "stream",
          "name": "stdout",
          "text": [
            "Saved file: /content/drive/MyDrive/dataset/TeamDeepwave/dataset/preprocessed/train/real/LSBCOHEJ.png\n",
            "Processing file: /content/drive/MyDrive/dataset/TeamDeepwave/dataset/open/./train/OBXSBTVV.ogg\n"
          ]
        },
        {
          "output_type": "stream",
          "name": "stderr",
          "text": [
            "\r  2%|▏         | 855/50000 [11:08<9:17:44,  1.47it/s]"
          ]
        },
        {
          "output_type": "stream",
          "name": "stdout",
          "text": [
            "Saved file: /content/drive/MyDrive/dataset/TeamDeepwave/dataset/preprocessed/train/fake/OBXSBTVV.png\n",
            "Processing file: /content/drive/MyDrive/dataset/TeamDeepwave/dataset/open/./train/LLQVTDJN.ogg\n"
          ]
        },
        {
          "output_type": "stream",
          "name": "stderr",
          "text": [
            "\r  2%|▏         | 856/50000 [11:08<9:11:55,  1.48it/s]"
          ]
        },
        {
          "output_type": "stream",
          "name": "stdout",
          "text": [
            "Saved file: /content/drive/MyDrive/dataset/TeamDeepwave/dataset/preprocessed/train/real/LLQVTDJN.png\n",
            "Processing file: /content/drive/MyDrive/dataset/TeamDeepwave/dataset/open/./train/ZIJGVYTL.ogg\n"
          ]
        },
        {
          "output_type": "stream",
          "name": "stderr",
          "text": [
            "\r  2%|▏         | 857/50000 [11:09<9:20:23,  1.46it/s]"
          ]
        },
        {
          "output_type": "stream",
          "name": "stdout",
          "text": [
            "Saved file: /content/drive/MyDrive/dataset/TeamDeepwave/dataset/preprocessed/train/fake/ZIJGVYTL.png\n",
            "Processing file: /content/drive/MyDrive/dataset/TeamDeepwave/dataset/open/./train/KUAGTSQF.ogg\n"
          ]
        },
        {
          "output_type": "stream",
          "name": "stderr",
          "text": [
            "\r  2%|▏         | 858/50000 [11:10<9:34:44,  1.43it/s]"
          ]
        },
        {
          "output_type": "stream",
          "name": "stdout",
          "text": [
            "Saved file: /content/drive/MyDrive/dataset/TeamDeepwave/dataset/preprocessed/train/real/KUAGTSQF.png\n",
            "Processing file: /content/drive/MyDrive/dataset/TeamDeepwave/dataset/open/./train/ITWMVYRS.ogg\n"
          ]
        },
        {
          "output_type": "stream",
          "name": "stderr",
          "text": [
            "\r  2%|▏         | 859/50000 [11:11<9:45:12,  1.40it/s]"
          ]
        },
        {
          "output_type": "stream",
          "name": "stdout",
          "text": [
            "Saved file: /content/drive/MyDrive/dataset/TeamDeepwave/dataset/preprocessed/train/fake/ITWMVYRS.png\n",
            "Processing file: /content/drive/MyDrive/dataset/TeamDeepwave/dataset/open/./train/CVGJPFJR.ogg\n"
          ]
        },
        {
          "output_type": "stream",
          "name": "stderr",
          "text": [
            "\r  2%|▏         | 860/50000 [11:11<9:34:28,  1.43it/s]"
          ]
        },
        {
          "output_type": "stream",
          "name": "stdout",
          "text": [
            "Saved file: /content/drive/MyDrive/dataset/TeamDeepwave/dataset/preprocessed/train/fake/CVGJPFJR.png\n",
            "Processing file: /content/drive/MyDrive/dataset/TeamDeepwave/dataset/open/./train/QEBQYFPC.ogg\n"
          ]
        },
        {
          "output_type": "stream",
          "name": "stderr",
          "text": [
            "\r  2%|▏         | 861/50000 [11:12<9:21:39,  1.46it/s]"
          ]
        },
        {
          "output_type": "stream",
          "name": "stdout",
          "text": [
            "Saved file: /content/drive/MyDrive/dataset/TeamDeepwave/dataset/preprocessed/train/fake/QEBQYFPC.png\n",
            "Processing file: /content/drive/MyDrive/dataset/TeamDeepwave/dataset/open/./train/RJSVXMJH.ogg\n"
          ]
        },
        {
          "output_type": "stream",
          "name": "stderr",
          "text": [
            "\r  2%|▏         | 862/50000 [11:13<9:08:22,  1.49it/s]"
          ]
        },
        {
          "output_type": "stream",
          "name": "stdout",
          "text": [
            "Saved file: /content/drive/MyDrive/dataset/TeamDeepwave/dataset/preprocessed/train/fake/RJSVXMJH.png\n",
            "Processing file: /content/drive/MyDrive/dataset/TeamDeepwave/dataset/open/./train/ZYQCQFCF.ogg\n"
          ]
        },
        {
          "output_type": "stream",
          "name": "stderr",
          "text": [
            "\r  2%|▏         | 863/50000 [11:13<9:03:45,  1.51it/s]"
          ]
        },
        {
          "output_type": "stream",
          "name": "stdout",
          "text": [
            "Saved file: /content/drive/MyDrive/dataset/TeamDeepwave/dataset/preprocessed/train/real/ZYQCQFCF.png\n",
            "Processing file: /content/drive/MyDrive/dataset/TeamDeepwave/dataset/open/./train/ATBQZVZT.ogg\n"
          ]
        },
        {
          "output_type": "stream",
          "name": "stderr",
          "text": [
            "\r  2%|▏         | 864/50000 [11:14<9:10:50,  1.49it/s]"
          ]
        },
        {
          "output_type": "stream",
          "name": "stdout",
          "text": [
            "Saved file: /content/drive/MyDrive/dataset/TeamDeepwave/dataset/preprocessed/train/real/ATBQZVZT.png\n",
            "Processing file: /content/drive/MyDrive/dataset/TeamDeepwave/dataset/open/./train/AHWQXQGQ.ogg\n"
          ]
        },
        {
          "output_type": "stream",
          "name": "stderr",
          "text": [
            "\r  2%|▏         | 865/50000 [11:15<9:39:04,  1.41it/s]"
          ]
        },
        {
          "output_type": "stream",
          "name": "stdout",
          "text": [
            "Saved file: /content/drive/MyDrive/dataset/TeamDeepwave/dataset/preprocessed/train/fake/AHWQXQGQ.png\n",
            "Processing file: /content/drive/MyDrive/dataset/TeamDeepwave/dataset/open/./train/HXTGOCXF.ogg\n"
          ]
        },
        {
          "output_type": "stream",
          "name": "stderr",
          "text": [
            "\r  2%|▏         | 866/50000 [11:16<10:34:10,  1.29it/s]"
          ]
        },
        {
          "output_type": "stream",
          "name": "stdout",
          "text": [
            "Saved file: /content/drive/MyDrive/dataset/TeamDeepwave/dataset/preprocessed/train/fake/HXTGOCXF.png\n",
            "Processing file: /content/drive/MyDrive/dataset/TeamDeepwave/dataset/open/./train/ACWJFMDA.ogg\n"
          ]
        },
        {
          "output_type": "stream",
          "name": "stderr",
          "text": [
            "\r  2%|▏         | 867/50000 [11:17<11:23:54,  1.20it/s]"
          ]
        },
        {
          "output_type": "stream",
          "name": "stdout",
          "text": [
            "Saved file: /content/drive/MyDrive/dataset/TeamDeepwave/dataset/preprocessed/train/real/ACWJFMDA.png\n",
            "Processing file: /content/drive/MyDrive/dataset/TeamDeepwave/dataset/open/./train/HFYHZUDJ.ogg\n"
          ]
        },
        {
          "output_type": "stream",
          "name": "stderr",
          "text": [
            "\r  2%|▏         | 868/50000 [11:17<11:12:28,  1.22it/s]"
          ]
        },
        {
          "output_type": "stream",
          "name": "stdout",
          "text": [
            "Saved file: /content/drive/MyDrive/dataset/TeamDeepwave/dataset/preprocessed/train/real/HFYHZUDJ.png\n",
            "Processing file: /content/drive/MyDrive/dataset/TeamDeepwave/dataset/open/./train/BGDUQUFP.ogg\n"
          ]
        },
        {
          "output_type": "stream",
          "name": "stderr",
          "text": [
            "\r  2%|▏         | 869/50000 [11:18<11:01:06,  1.24it/s]"
          ]
        },
        {
          "output_type": "stream",
          "name": "stdout",
          "text": [
            "Saved file: /content/drive/MyDrive/dataset/TeamDeepwave/dataset/preprocessed/train/fake/BGDUQUFP.png\n",
            "Processing file: /content/drive/MyDrive/dataset/TeamDeepwave/dataset/open/./train/QVAXTHLF.ogg\n"
          ]
        },
        {
          "output_type": "stream",
          "name": "stderr",
          "text": [
            "\r  2%|▏         | 870/50000 [11:19<10:20:21,  1.32it/s]"
          ]
        },
        {
          "output_type": "stream",
          "name": "stdout",
          "text": [
            "Saved file: /content/drive/MyDrive/dataset/TeamDeepwave/dataset/preprocessed/train/real/QVAXTHLF.png\n",
            "Processing file: /content/drive/MyDrive/dataset/TeamDeepwave/dataset/open/./train/LCZJBFQB.ogg\n"
          ]
        },
        {
          "output_type": "stream",
          "name": "stderr",
          "text": [
            "\r  2%|▏         | 871/50000 [11:20<10:08:17,  1.35it/s]"
          ]
        },
        {
          "output_type": "stream",
          "name": "stdout",
          "text": [
            "Saved file: /content/drive/MyDrive/dataset/TeamDeepwave/dataset/preprocessed/train/real/LCZJBFQB.png\n",
            "Processing file: /content/drive/MyDrive/dataset/TeamDeepwave/dataset/open/./train/TOOZZIIL.ogg\n"
          ]
        },
        {
          "output_type": "stream",
          "name": "stderr",
          "text": [
            "\r  2%|▏         | 872/50000 [11:20<9:44:42,  1.40it/s] "
          ]
        },
        {
          "output_type": "stream",
          "name": "stdout",
          "text": [
            "Saved file: /content/drive/MyDrive/dataset/TeamDeepwave/dataset/preprocessed/train/fake/TOOZZIIL.png\n",
            "Processing file: /content/drive/MyDrive/dataset/TeamDeepwave/dataset/open/./train/NIONJQFM.ogg\n"
          ]
        },
        {
          "output_type": "stream",
          "name": "stderr",
          "text": [
            "\r  2%|▏         | 873/50000 [11:21<9:14:45,  1.48it/s]"
          ]
        },
        {
          "output_type": "stream",
          "name": "stdout",
          "text": [
            "Saved file: /content/drive/MyDrive/dataset/TeamDeepwave/dataset/preprocessed/train/fake/NIONJQFM.png\n",
            "Processing file: /content/drive/MyDrive/dataset/TeamDeepwave/dataset/open/./train/WNAARWZJ.ogg\n"
          ]
        },
        {
          "output_type": "stream",
          "name": "stderr",
          "text": [
            "\r  2%|▏         | 874/50000 [11:21<9:10:36,  1.49it/s]"
          ]
        },
        {
          "output_type": "stream",
          "name": "stdout",
          "text": [
            "Saved file: /content/drive/MyDrive/dataset/TeamDeepwave/dataset/preprocessed/train/fake/WNAARWZJ.png\n",
            "Processing file: /content/drive/MyDrive/dataset/TeamDeepwave/dataset/open/./train/RMQGGNJC.ogg\n"
          ]
        },
        {
          "output_type": "stream",
          "name": "stderr",
          "text": [
            "\r  2%|▏         | 875/50000 [11:22<9:08:57,  1.49it/s]"
          ]
        },
        {
          "output_type": "stream",
          "name": "stdout",
          "text": [
            "Saved file: /content/drive/MyDrive/dataset/TeamDeepwave/dataset/preprocessed/train/fake/RMQGGNJC.png\n",
            "Processing file: /content/drive/MyDrive/dataset/TeamDeepwave/dataset/open/./train/TYECGRSK.ogg\n"
          ]
        },
        {
          "output_type": "stream",
          "name": "stderr",
          "text": [
            "\r  2%|▏         | 876/50000 [11:23<9:13:55,  1.48it/s]"
          ]
        },
        {
          "output_type": "stream",
          "name": "stdout",
          "text": [
            "Saved file: /content/drive/MyDrive/dataset/TeamDeepwave/dataset/preprocessed/train/real/TYECGRSK.png\n",
            "Processing file: /content/drive/MyDrive/dataset/TeamDeepwave/dataset/open/./train/QNJDIHLQ.ogg\n"
          ]
        },
        {
          "output_type": "stream",
          "name": "stderr",
          "text": [
            "\r  2%|▏         | 877/50000 [11:24<9:35:24,  1.42it/s]"
          ]
        },
        {
          "output_type": "stream",
          "name": "stdout",
          "text": [
            "Saved file: /content/drive/MyDrive/dataset/TeamDeepwave/dataset/preprocessed/train/real/QNJDIHLQ.png\n",
            "Processing file: /content/drive/MyDrive/dataset/TeamDeepwave/dataset/open/./train/DHZKGHVD.ogg\n"
          ]
        },
        {
          "output_type": "stream",
          "name": "stderr",
          "text": [
            "\r  2%|▏         | 878/50000 [11:25<10:48:10,  1.26it/s]"
          ]
        },
        {
          "output_type": "stream",
          "name": "stdout",
          "text": [
            "Saved file: /content/drive/MyDrive/dataset/TeamDeepwave/dataset/preprocessed/train/real/DHZKGHVD.png\n",
            "Processing file: /content/drive/MyDrive/dataset/TeamDeepwave/dataset/open/./train/XBYFHLUC.ogg\n"
          ]
        },
        {
          "output_type": "stream",
          "name": "stderr",
          "text": [
            "\r  2%|▏         | 879/50000 [11:25<11:06:33,  1.23it/s]"
          ]
        },
        {
          "output_type": "stream",
          "name": "stdout",
          "text": [
            "Saved file: /content/drive/MyDrive/dataset/TeamDeepwave/dataset/preprocessed/train/real/XBYFHLUC.png\n",
            "Processing file: /content/drive/MyDrive/dataset/TeamDeepwave/dataset/open/./train/EZHSCKDF.ogg\n"
          ]
        },
        {
          "output_type": "stream",
          "name": "stderr",
          "text": [
            "\r  2%|▏         | 880/50000 [11:26<11:18:12,  1.21it/s]"
          ]
        },
        {
          "output_type": "stream",
          "name": "stdout",
          "text": [
            "Saved file: /content/drive/MyDrive/dataset/TeamDeepwave/dataset/preprocessed/train/real/EZHSCKDF.png\n",
            "Processing file: /content/drive/MyDrive/dataset/TeamDeepwave/dataset/open/./train/HAJHQQSO.ogg\n"
          ]
        },
        {
          "output_type": "stream",
          "name": "stderr",
          "text": [
            "\r  2%|▏         | 881/50000 [11:27<10:57:56,  1.24it/s]"
          ]
        },
        {
          "output_type": "stream",
          "name": "stdout",
          "text": [
            "Saved file: /content/drive/MyDrive/dataset/TeamDeepwave/dataset/preprocessed/train/fake/HAJHQQSO.png\n",
            "Processing file: /content/drive/MyDrive/dataset/TeamDeepwave/dataset/open/./train/OGMFDFTW.ogg\n"
          ]
        },
        {
          "output_type": "stream",
          "name": "stderr",
          "text": [
            "\r  2%|▏         | 882/50000 [11:28<11:21:19,  1.20it/s]"
          ]
        },
        {
          "output_type": "stream",
          "name": "stdout",
          "text": [
            "Saved file: /content/drive/MyDrive/dataset/TeamDeepwave/dataset/preprocessed/train/fake/OGMFDFTW.png\n",
            "Processing file: /content/drive/MyDrive/dataset/TeamDeepwave/dataset/open/./train/LWXGHIFX.ogg\n"
          ]
        },
        {
          "output_type": "stream",
          "name": "stderr",
          "text": [
            "\r  2%|▏         | 883/50000 [11:29<11:06:51,  1.23it/s]"
          ]
        },
        {
          "output_type": "stream",
          "name": "stdout",
          "text": [
            "Saved file: /content/drive/MyDrive/dataset/TeamDeepwave/dataset/preprocessed/train/fake/LWXGHIFX.png\n",
            "Processing file: /content/drive/MyDrive/dataset/TeamDeepwave/dataset/open/./train/RQPRLQIR.ogg\n"
          ]
        },
        {
          "output_type": "stream",
          "name": "stderr",
          "text": [
            "\r  2%|▏         | 884/50000 [11:30<11:11:48,  1.22it/s]"
          ]
        },
        {
          "output_type": "stream",
          "name": "stdout",
          "text": [
            "Saved file: /content/drive/MyDrive/dataset/TeamDeepwave/dataset/preprocessed/train/real/RQPRLQIR.png\n",
            "Processing file: /content/drive/MyDrive/dataset/TeamDeepwave/dataset/open/./train/VYCSHXGI.ogg\n"
          ]
        },
        {
          "output_type": "stream",
          "name": "stderr",
          "text": [
            "\r  2%|▏         | 885/50000 [11:30<10:59:36,  1.24it/s]"
          ]
        },
        {
          "output_type": "stream",
          "name": "stdout",
          "text": [
            "Saved file: /content/drive/MyDrive/dataset/TeamDeepwave/dataset/preprocessed/train/fake/VYCSHXGI.png\n",
            "Processing file: /content/drive/MyDrive/dataset/TeamDeepwave/dataset/open/./train/UFGJKFVD.ogg\n"
          ]
        },
        {
          "output_type": "stream",
          "name": "stderr",
          "text": [
            "\r  2%|▏         | 886/50000 [11:31<11:23:12,  1.20it/s]"
          ]
        },
        {
          "output_type": "stream",
          "name": "stdout",
          "text": [
            "Saved file: /content/drive/MyDrive/dataset/TeamDeepwave/dataset/preprocessed/train/fake/UFGJKFVD.png\n",
            "Processing file: /content/drive/MyDrive/dataset/TeamDeepwave/dataset/open/./train/WNFDXHHY.ogg\n"
          ]
        },
        {
          "output_type": "stream",
          "name": "stderr",
          "text": [
            "\r  2%|▏         | 887/50000 [11:32<11:29:07,  1.19it/s]"
          ]
        },
        {
          "output_type": "stream",
          "name": "stdout",
          "text": [
            "Saved file: /content/drive/MyDrive/dataset/TeamDeepwave/dataset/preprocessed/train/real/WNFDXHHY.png\n",
            "Processing file: /content/drive/MyDrive/dataset/TeamDeepwave/dataset/open/./train/RVMJIBVU.ogg\n"
          ]
        },
        {
          "output_type": "stream",
          "name": "stderr",
          "text": [
            "\r  2%|▏         | 888/50000 [11:33<10:35:23,  1.29it/s]"
          ]
        },
        {
          "output_type": "stream",
          "name": "stdout",
          "text": [
            "Saved file: /content/drive/MyDrive/dataset/TeamDeepwave/dataset/preprocessed/train/real/RVMJIBVU.png\n",
            "Processing file: /content/drive/MyDrive/dataset/TeamDeepwave/dataset/open/./train/JGBAVVQK.ogg\n"
          ]
        },
        {
          "output_type": "stream",
          "name": "stderr",
          "text": [
            "\r  2%|▏         | 889/50000 [11:34<10:41:32,  1.28it/s]"
          ]
        },
        {
          "output_type": "stream",
          "name": "stdout",
          "text": [
            "Saved file: /content/drive/MyDrive/dataset/TeamDeepwave/dataset/preprocessed/train/real/JGBAVVQK.png\n",
            "Processing file: /content/drive/MyDrive/dataset/TeamDeepwave/dataset/open/./train/WREPRSPA.ogg\n"
          ]
        },
        {
          "output_type": "stream",
          "name": "stderr",
          "text": [
            "\r  2%|▏         | 890/50000 [11:34<9:59:15,  1.37it/s] "
          ]
        },
        {
          "output_type": "stream",
          "name": "stdout",
          "text": [
            "Saved file: /content/drive/MyDrive/dataset/TeamDeepwave/dataset/preprocessed/train/real/WREPRSPA.png\n",
            "Processing file: /content/drive/MyDrive/dataset/TeamDeepwave/dataset/open/./train/WPDVQNTY.ogg\n"
          ]
        },
        {
          "output_type": "stream",
          "name": "stderr",
          "text": [
            "\r  2%|▏         | 891/50000 [11:35<9:39:04,  1.41it/s]"
          ]
        },
        {
          "output_type": "stream",
          "name": "stdout",
          "text": [
            "Saved file: /content/drive/MyDrive/dataset/TeamDeepwave/dataset/preprocessed/train/real/WPDVQNTY.png\n",
            "Processing file: /content/drive/MyDrive/dataset/TeamDeepwave/dataset/open/./train/ECMFSBIL.ogg\n"
          ]
        },
        {
          "output_type": "stream",
          "name": "stderr",
          "text": [
            "\r  2%|▏         | 892/50000 [11:35<9:08:28,  1.49it/s]"
          ]
        },
        {
          "output_type": "stream",
          "name": "stdout",
          "text": [
            "Saved file: /content/drive/MyDrive/dataset/TeamDeepwave/dataset/preprocessed/train/fake/ECMFSBIL.png\n",
            "Processing file: /content/drive/MyDrive/dataset/TeamDeepwave/dataset/open/./train/CXJUEWKP.ogg\n"
          ]
        },
        {
          "output_type": "stream",
          "name": "stderr",
          "text": [
            "\r  2%|▏         | 893/50000 [11:36<8:56:00,  1.53it/s]"
          ]
        },
        {
          "output_type": "stream",
          "name": "stdout",
          "text": [
            "Saved file: /content/drive/MyDrive/dataset/TeamDeepwave/dataset/preprocessed/train/real/CXJUEWKP.png\n",
            "Processing file: /content/drive/MyDrive/dataset/TeamDeepwave/dataset/open/./train/JPAMKITD.ogg\n"
          ]
        },
        {
          "output_type": "stream",
          "name": "stderr",
          "text": [
            "\r  2%|▏         | 894/50000 [11:37<8:28:06,  1.61it/s]"
          ]
        },
        {
          "output_type": "stream",
          "name": "stdout",
          "text": [
            "Saved file: /content/drive/MyDrive/dataset/TeamDeepwave/dataset/preprocessed/train/fake/JPAMKITD.png\n",
            "Processing file: /content/drive/MyDrive/dataset/TeamDeepwave/dataset/open/./train/UONOQMDW.ogg\n"
          ]
        },
        {
          "output_type": "stream",
          "name": "stderr",
          "text": [
            "\r  2%|▏         | 895/50000 [11:37<8:26:10,  1.62it/s]"
          ]
        },
        {
          "output_type": "stream",
          "name": "stdout",
          "text": [
            "Saved file: /content/drive/MyDrive/dataset/TeamDeepwave/dataset/preprocessed/train/fake/UONOQMDW.png\n",
            "Processing file: /content/drive/MyDrive/dataset/TeamDeepwave/dataset/open/./train/QJOWVWHJ.ogg\n"
          ]
        },
        {
          "output_type": "stream",
          "name": "stderr",
          "text": [
            "\r  2%|▏         | 896/50000 [11:38<8:14:02,  1.66it/s]"
          ]
        },
        {
          "output_type": "stream",
          "name": "stdout",
          "text": [
            "Saved file: /content/drive/MyDrive/dataset/TeamDeepwave/dataset/preprocessed/train/fake/QJOWVWHJ.png\n",
            "Processing file: /content/drive/MyDrive/dataset/TeamDeepwave/dataset/open/./train/VTPRFZGZ.ogg\n"
          ]
        },
        {
          "output_type": "stream",
          "name": "stderr",
          "text": [
            "\r  2%|▏         | 897/50000 [11:38<8:36:10,  1.59it/s]"
          ]
        },
        {
          "output_type": "stream",
          "name": "stdout",
          "text": [
            "Saved file: /content/drive/MyDrive/dataset/TeamDeepwave/dataset/preprocessed/train/real/VTPRFZGZ.png\n",
            "Processing file: /content/drive/MyDrive/dataset/TeamDeepwave/dataset/open/./train/KLCXOTJL.ogg\n"
          ]
        },
        {
          "output_type": "stream",
          "name": "stderr",
          "text": [
            "\r  2%|▏         | 898/50000 [11:39<8:59:55,  1.52it/s]"
          ]
        },
        {
          "output_type": "stream",
          "name": "stdout",
          "text": [
            "Saved file: /content/drive/MyDrive/dataset/TeamDeepwave/dataset/preprocessed/train/fake/KLCXOTJL.png\n",
            "Processing file: /content/drive/MyDrive/dataset/TeamDeepwave/dataset/open/./train/OZICALHJ.ogg\n"
          ]
        },
        {
          "output_type": "stream",
          "name": "stderr",
          "text": [
            "\r  2%|▏         | 899/50000 [11:40<8:50:49,  1.54it/s]"
          ]
        },
        {
          "output_type": "stream",
          "name": "stdout",
          "text": [
            "Saved file: /content/drive/MyDrive/dataset/TeamDeepwave/dataset/preprocessed/train/fake/OZICALHJ.png\n",
            "Processing file: /content/drive/MyDrive/dataset/TeamDeepwave/dataset/open/./train/BSAXBRXJ.ogg\n"
          ]
        },
        {
          "output_type": "stream",
          "name": "stderr",
          "text": [
            "\r  2%|▏         | 900/50000 [11:40<8:48:15,  1.55it/s]"
          ]
        },
        {
          "output_type": "stream",
          "name": "stdout",
          "text": [
            "Saved file: /content/drive/MyDrive/dataset/TeamDeepwave/dataset/preprocessed/train/real/BSAXBRXJ.png\n",
            "Processing file: /content/drive/MyDrive/dataset/TeamDeepwave/dataset/open/./train/XHHTSUZQ.ogg\n"
          ]
        },
        {
          "output_type": "stream",
          "name": "stderr",
          "text": [
            "\r  2%|▏         | 901/50000 [11:41<8:55:10,  1.53it/s]"
          ]
        },
        {
          "output_type": "stream",
          "name": "stdout",
          "text": [
            "Saved file: /content/drive/MyDrive/dataset/TeamDeepwave/dataset/preprocessed/train/real/XHHTSUZQ.png\n",
            "Processing file: /content/drive/MyDrive/dataset/TeamDeepwave/dataset/open/./train/XTVWOFZY.ogg\n"
          ]
        },
        {
          "output_type": "stream",
          "name": "stderr",
          "text": [
            "\r  2%|▏         | 902/50000 [11:42<9:19:05,  1.46it/s]"
          ]
        },
        {
          "output_type": "stream",
          "name": "stdout",
          "text": [
            "Saved file: /content/drive/MyDrive/dataset/TeamDeepwave/dataset/preprocessed/train/fake/XTVWOFZY.png\n",
            "Processing file: /content/drive/MyDrive/dataset/TeamDeepwave/dataset/open/./train/ICAIINAP.ogg\n"
          ]
        },
        {
          "output_type": "stream",
          "name": "stderr",
          "text": [
            "\r  2%|▏         | 903/50000 [11:43<9:58:27,  1.37it/s]"
          ]
        },
        {
          "output_type": "stream",
          "name": "stdout",
          "text": [
            "Saved file: /content/drive/MyDrive/dataset/TeamDeepwave/dataset/preprocessed/train/fake/ICAIINAP.png\n",
            "Processing file: /content/drive/MyDrive/dataset/TeamDeepwave/dataset/open/./train/UNNXFEKH.ogg\n"
          ]
        },
        {
          "output_type": "stream",
          "name": "stderr",
          "text": [
            "\r  2%|▏         | 904/50000 [11:43<10:28:28,  1.30it/s]"
          ]
        },
        {
          "output_type": "stream",
          "name": "stdout",
          "text": [
            "Saved file: /content/drive/MyDrive/dataset/TeamDeepwave/dataset/preprocessed/train/fake/UNNXFEKH.png\n",
            "Processing file: /content/drive/MyDrive/dataset/TeamDeepwave/dataset/open/./train/JHIFAQRU.ogg\n"
          ]
        },
        {
          "output_type": "stream",
          "name": "stderr",
          "text": [
            "\r  2%|▏         | 905/50000 [11:44<10:24:33,  1.31it/s]"
          ]
        },
        {
          "output_type": "stream",
          "name": "stdout",
          "text": [
            "Saved file: /content/drive/MyDrive/dataset/TeamDeepwave/dataset/preprocessed/train/fake/JHIFAQRU.png\n",
            "Processing file: /content/drive/MyDrive/dataset/TeamDeepwave/dataset/open/./train/IJWTXLEA.ogg\n"
          ]
        },
        {
          "output_type": "stream",
          "name": "stderr",
          "text": [
            "\r  2%|▏         | 906/50000 [11:45<10:48:41,  1.26it/s]"
          ]
        },
        {
          "output_type": "stream",
          "name": "stdout",
          "text": [
            "Saved file: /content/drive/MyDrive/dataset/TeamDeepwave/dataset/preprocessed/train/real/IJWTXLEA.png\n",
            "Processing file: /content/drive/MyDrive/dataset/TeamDeepwave/dataset/open/./train/YQOGNJDP.ogg\n"
          ]
        },
        {
          "output_type": "stream",
          "name": "stderr",
          "text": [
            "\r  2%|▏         | 907/50000 [11:46<11:21:10,  1.20it/s]"
          ]
        },
        {
          "output_type": "stream",
          "name": "stdout",
          "text": [
            "Saved file: /content/drive/MyDrive/dataset/TeamDeepwave/dataset/preprocessed/train/real/YQOGNJDP.png\n",
            "Processing file: /content/drive/MyDrive/dataset/TeamDeepwave/dataset/open/./train/YDJJLIOP.ogg\n"
          ]
        },
        {
          "output_type": "stream",
          "name": "stderr",
          "text": [
            "\r  2%|▏         | 908/50000 [11:47<10:49:48,  1.26it/s]"
          ]
        },
        {
          "output_type": "stream",
          "name": "stdout",
          "text": [
            "Saved file: /content/drive/MyDrive/dataset/TeamDeepwave/dataset/preprocessed/train/real/YDJJLIOP.png\n",
            "Processing file: /content/drive/MyDrive/dataset/TeamDeepwave/dataset/open/./train/GVICQCXJ.ogg\n"
          ]
        },
        {
          "output_type": "stream",
          "name": "stderr",
          "text": [
            "\r  2%|▏         | 909/50000 [11:48<10:48:15,  1.26it/s]"
          ]
        },
        {
          "output_type": "stream",
          "name": "stdout",
          "text": [
            "Saved file: /content/drive/MyDrive/dataset/TeamDeepwave/dataset/preprocessed/train/real/GVICQCXJ.png\n",
            "Processing file: /content/drive/MyDrive/dataset/TeamDeepwave/dataset/open/./train/LMKJTPBT.ogg\n"
          ]
        },
        {
          "output_type": "stream",
          "name": "stderr",
          "text": [
            "\r  2%|▏         | 910/50000 [11:48<10:00:11,  1.36it/s]"
          ]
        },
        {
          "output_type": "stream",
          "name": "stdout",
          "text": [
            "Saved file: /content/drive/MyDrive/dataset/TeamDeepwave/dataset/preprocessed/train/real/LMKJTPBT.png\n",
            "Processing file: /content/drive/MyDrive/dataset/TeamDeepwave/dataset/open/./train/QSNVMSCZ.ogg\n"
          ]
        },
        {
          "output_type": "stream",
          "name": "stderr",
          "text": [
            "\r  2%|▏         | 911/50000 [11:49<9:24:35,  1.45it/s] "
          ]
        },
        {
          "output_type": "stream",
          "name": "stdout",
          "text": [
            "Saved file: /content/drive/MyDrive/dataset/TeamDeepwave/dataset/preprocessed/train/fake/QSNVMSCZ.png\n",
            "Processing file: /content/drive/MyDrive/dataset/TeamDeepwave/dataset/open/./train/CGXCONGU.ogg\n"
          ]
        },
        {
          "output_type": "stream",
          "name": "stderr",
          "text": [
            "\r  2%|▏         | 912/50000 [11:49<9:28:24,  1.44it/s]"
          ]
        },
        {
          "output_type": "stream",
          "name": "stdout",
          "text": [
            "Saved file: /content/drive/MyDrive/dataset/TeamDeepwave/dataset/preprocessed/train/real/CGXCONGU.png\n",
            "Processing file: /content/drive/MyDrive/dataset/TeamDeepwave/dataset/open/./train/BYUVYJRN.ogg\n"
          ]
        },
        {
          "output_type": "stream",
          "name": "stderr",
          "text": [
            "\r  2%|▏         | 913/50000 [11:50<9:24:33,  1.45it/s]"
          ]
        },
        {
          "output_type": "stream",
          "name": "stdout",
          "text": [
            "Saved file: /content/drive/MyDrive/dataset/TeamDeepwave/dataset/preprocessed/train/fake/BYUVYJRN.png\n",
            "Processing file: /content/drive/MyDrive/dataset/TeamDeepwave/dataset/open/./train/GVCTIRZO.ogg\n"
          ]
        },
        {
          "output_type": "stream",
          "name": "stderr",
          "text": [
            "\r  2%|▏         | 914/50000 [11:51<9:15:16,  1.47it/s]"
          ]
        },
        {
          "output_type": "stream",
          "name": "stdout",
          "text": [
            "Saved file: /content/drive/MyDrive/dataset/TeamDeepwave/dataset/preprocessed/train/fake/GVCTIRZO.png\n",
            "Processing file: /content/drive/MyDrive/dataset/TeamDeepwave/dataset/open/./train/ZTIDTEYP.ogg\n"
          ]
        },
        {
          "output_type": "stream",
          "name": "stderr",
          "text": [
            "\r  2%|▏         | 915/50000 [11:51<8:59:39,  1.52it/s]"
          ]
        },
        {
          "output_type": "stream",
          "name": "stdout",
          "text": [
            "Saved file: /content/drive/MyDrive/dataset/TeamDeepwave/dataset/preprocessed/train/real/ZTIDTEYP.png\n",
            "Processing file: /content/drive/MyDrive/dataset/TeamDeepwave/dataset/open/./train/RHKVAMRY.ogg\n"
          ]
        },
        {
          "output_type": "stream",
          "name": "stderr",
          "text": [
            "\r  2%|▏         | 916/50000 [11:52<9:27:11,  1.44it/s]"
          ]
        },
        {
          "output_type": "stream",
          "name": "stdout",
          "text": [
            "Saved file: /content/drive/MyDrive/dataset/TeamDeepwave/dataset/preprocessed/train/real/RHKVAMRY.png\n",
            "Processing file: /content/drive/MyDrive/dataset/TeamDeepwave/dataset/open/./train/QORRAEJU.ogg\n"
          ]
        },
        {
          "output_type": "stream",
          "name": "stderr",
          "text": [
            "\r  2%|▏         | 917/50000 [11:53<9:45:23,  1.40it/s]"
          ]
        },
        {
          "output_type": "stream",
          "name": "stdout",
          "text": [
            "Saved file: /content/drive/MyDrive/dataset/TeamDeepwave/dataset/preprocessed/train/fake/QORRAEJU.png\n",
            "Processing file: /content/drive/MyDrive/dataset/TeamDeepwave/dataset/open/./train/EOOSJCJP.ogg\n"
          ]
        },
        {
          "output_type": "stream",
          "name": "stderr",
          "text": [
            "\r  2%|▏         | 918/50000 [11:54<9:43:53,  1.40it/s]"
          ]
        },
        {
          "output_type": "stream",
          "name": "stdout",
          "text": [
            "Saved file: /content/drive/MyDrive/dataset/TeamDeepwave/dataset/preprocessed/train/real/EOOSJCJP.png\n",
            "Processing file: /content/drive/MyDrive/dataset/TeamDeepwave/dataset/open/./train/KBYMPGUL.ogg\n"
          ]
        },
        {
          "output_type": "stream",
          "name": "stderr",
          "text": [
            "\r  2%|▏         | 919/50000 [11:54<9:08:13,  1.49it/s]"
          ]
        },
        {
          "output_type": "stream",
          "name": "stdout",
          "text": [
            "Saved file: /content/drive/MyDrive/dataset/TeamDeepwave/dataset/preprocessed/train/fake/KBYMPGUL.png\n",
            "Processing file: /content/drive/MyDrive/dataset/TeamDeepwave/dataset/open/./train/HNTRZRZA.ogg\n"
          ]
        },
        {
          "output_type": "stream",
          "name": "stderr",
          "text": [
            "\r  2%|▏         | 920/50000 [11:55<9:32:28,  1.43it/s]"
          ]
        },
        {
          "output_type": "stream",
          "name": "stdout",
          "text": [
            "Saved file: /content/drive/MyDrive/dataset/TeamDeepwave/dataset/preprocessed/train/fake/HNTRZRZA.png\n",
            "Processing file: /content/drive/MyDrive/dataset/TeamDeepwave/dataset/open/./train/LDNYJFFN.ogg\n"
          ]
        },
        {
          "output_type": "stream",
          "name": "stderr",
          "text": [
            "\r  2%|▏         | 921/50000 [11:56<9:19:36,  1.46it/s]"
          ]
        },
        {
          "output_type": "stream",
          "name": "stdout",
          "text": [
            "Saved file: /content/drive/MyDrive/dataset/TeamDeepwave/dataset/preprocessed/train/real/LDNYJFFN.png\n",
            "Processing file: /content/drive/MyDrive/dataset/TeamDeepwave/dataset/open/./train/QXFRNWZL.ogg\n"
          ]
        },
        {
          "output_type": "stream",
          "name": "stderr",
          "text": [
            "\r  2%|▏         | 922/50000 [11:56<9:30:37,  1.43it/s]"
          ]
        },
        {
          "output_type": "stream",
          "name": "stdout",
          "text": [
            "Saved file: /content/drive/MyDrive/dataset/TeamDeepwave/dataset/preprocessed/train/real/QXFRNWZL.png\n",
            "Processing file: /content/drive/MyDrive/dataset/TeamDeepwave/dataset/open/./train/SDWZPQJN.ogg\n"
          ]
        },
        {
          "output_type": "stream",
          "name": "stderr",
          "text": [
            "\r  2%|▏         | 923/50000 [11:57<10:17:22,  1.32it/s]"
          ]
        },
        {
          "output_type": "stream",
          "name": "stdout",
          "text": [
            "Saved file: /content/drive/MyDrive/dataset/TeamDeepwave/dataset/preprocessed/train/real/SDWZPQJN.png\n",
            "Processing file: /content/drive/MyDrive/dataset/TeamDeepwave/dataset/open/./train/KFSRFNMS.ogg\n"
          ]
        },
        {
          "output_type": "stream",
          "name": "stderr",
          "text": [
            "\r  2%|▏         | 924/50000 [11:58<10:56:01,  1.25it/s]"
          ]
        },
        {
          "output_type": "stream",
          "name": "stdout",
          "text": [
            "Saved file: /content/drive/MyDrive/dataset/TeamDeepwave/dataset/preprocessed/train/real/KFSRFNMS.png\n",
            "Processing file: /content/drive/MyDrive/dataset/TeamDeepwave/dataset/open/./train/VZIBYFHY.ogg\n"
          ]
        },
        {
          "output_type": "stream",
          "name": "stderr",
          "text": [
            "\r  2%|▏         | 925/50000 [11:59<11:39:31,  1.17it/s]"
          ]
        },
        {
          "output_type": "stream",
          "name": "stdout",
          "text": [
            "Saved file: /content/drive/MyDrive/dataset/TeamDeepwave/dataset/preprocessed/train/real/VZIBYFHY.png\n",
            "Processing file: /content/drive/MyDrive/dataset/TeamDeepwave/dataset/open/./train/XESJWGWB.ogg\n"
          ]
        },
        {
          "output_type": "stream",
          "name": "stderr",
          "text": [
            "\r  2%|▏         | 926/50000 [12:00<11:35:14,  1.18it/s]"
          ]
        },
        {
          "output_type": "stream",
          "name": "stdout",
          "text": [
            "Saved file: /content/drive/MyDrive/dataset/TeamDeepwave/dataset/preprocessed/train/real/XESJWGWB.png\n",
            "Processing file: /content/drive/MyDrive/dataset/TeamDeepwave/dataset/open/./train/OXQESKUT.ogg\n"
          ]
        },
        {
          "output_type": "stream",
          "name": "stderr",
          "text": [
            "\r  2%|▏         | 927/50000 [12:01<11:17:05,  1.21it/s]"
          ]
        },
        {
          "output_type": "stream",
          "name": "stdout",
          "text": [
            "Saved file: /content/drive/MyDrive/dataset/TeamDeepwave/dataset/preprocessed/train/real/OXQESKUT.png\n",
            "Processing file: /content/drive/MyDrive/dataset/TeamDeepwave/dataset/open/./train/URAIYALY.ogg\n"
          ]
        },
        {
          "output_type": "stream",
          "name": "stderr",
          "text": [
            "\r  2%|▏         | 928/50000 [12:01<10:22:53,  1.31it/s]"
          ]
        },
        {
          "output_type": "stream",
          "name": "stdout",
          "text": [
            "Saved file: /content/drive/MyDrive/dataset/TeamDeepwave/dataset/preprocessed/train/fake/URAIYALY.png\n",
            "Processing file: /content/drive/MyDrive/dataset/TeamDeepwave/dataset/open/./train/TCMTJLAQ.ogg\n"
          ]
        },
        {
          "output_type": "stream",
          "name": "stderr",
          "text": [
            "\r  2%|▏         | 929/50000 [12:02<10:10:31,  1.34it/s]"
          ]
        },
        {
          "output_type": "stream",
          "name": "stdout",
          "text": [
            "Saved file: /content/drive/MyDrive/dataset/TeamDeepwave/dataset/preprocessed/train/fake/TCMTJLAQ.png\n",
            "Processing file: /content/drive/MyDrive/dataset/TeamDeepwave/dataset/open/./train/FOVXCHYW.ogg\n"
          ]
        },
        {
          "output_type": "stream",
          "name": "stderr",
          "text": [
            "\r  2%|▏         | 930/50000 [12:03<9:35:46,  1.42it/s] "
          ]
        },
        {
          "output_type": "stream",
          "name": "stdout",
          "text": [
            "Saved file: /content/drive/MyDrive/dataset/TeamDeepwave/dataset/preprocessed/train/fake/FOVXCHYW.png\n",
            "Processing file: /content/drive/MyDrive/dataset/TeamDeepwave/dataset/open/./train/WSEYQTKX.ogg\n"
          ]
        },
        {
          "output_type": "stream",
          "name": "stderr",
          "text": [
            "\r  2%|▏         | 931/50000 [12:03<9:25:13,  1.45it/s]"
          ]
        },
        {
          "output_type": "stream",
          "name": "stdout",
          "text": [
            "Saved file: /content/drive/MyDrive/dataset/TeamDeepwave/dataset/preprocessed/train/fake/WSEYQTKX.png\n",
            "Processing file: /content/drive/MyDrive/dataset/TeamDeepwave/dataset/open/./train/DPCTVHBX.ogg\n"
          ]
        },
        {
          "output_type": "stream",
          "name": "stderr",
          "text": [
            "\r  2%|▏         | 932/50000 [12:04<9:02:12,  1.51it/s]"
          ]
        },
        {
          "output_type": "stream",
          "name": "stdout",
          "text": [
            "Saved file: /content/drive/MyDrive/dataset/TeamDeepwave/dataset/preprocessed/train/fake/DPCTVHBX.png\n",
            "Processing file: /content/drive/MyDrive/dataset/TeamDeepwave/dataset/open/./train/SNWCJKFT.ogg\n"
          ]
        },
        {
          "output_type": "stream",
          "name": "stderr",
          "text": [
            "\r  2%|▏         | 933/50000 [12:05<8:54:20,  1.53it/s]"
          ]
        },
        {
          "output_type": "stream",
          "name": "stdout",
          "text": [
            "Saved file: /content/drive/MyDrive/dataset/TeamDeepwave/dataset/preprocessed/train/real/SNWCJKFT.png\n",
            "Processing file: /content/drive/MyDrive/dataset/TeamDeepwave/dataset/open/./train/HFMIMVNB.ogg\n"
          ]
        },
        {
          "output_type": "stream",
          "name": "stderr",
          "text": [
            "\r  2%|▏         | 934/50000 [12:05<9:01:29,  1.51it/s]"
          ]
        },
        {
          "output_type": "stream",
          "name": "stdout",
          "text": [
            "Saved file: /content/drive/MyDrive/dataset/TeamDeepwave/dataset/preprocessed/train/real/HFMIMVNB.png\n",
            "Processing file: /content/drive/MyDrive/dataset/TeamDeepwave/dataset/open/./train/UUFKTUED.ogg\n"
          ]
        },
        {
          "output_type": "stream",
          "name": "stderr",
          "text": [
            "\r  2%|▏         | 935/50000 [12:06<9:10:26,  1.49it/s]"
          ]
        },
        {
          "output_type": "stream",
          "name": "stdout",
          "text": [
            "Saved file: /content/drive/MyDrive/dataset/TeamDeepwave/dataset/preprocessed/train/fake/UUFKTUED.png\n",
            "Processing file: /content/drive/MyDrive/dataset/TeamDeepwave/dataset/open/./train/BMMBIHKB.ogg\n"
          ]
        },
        {
          "output_type": "stream",
          "name": "stderr",
          "text": [
            "\r  2%|▏         | 936/50000 [12:07<8:59:49,  1.51it/s]"
          ]
        },
        {
          "output_type": "stream",
          "name": "stdout",
          "text": [
            "Saved file: /content/drive/MyDrive/dataset/TeamDeepwave/dataset/preprocessed/train/fake/BMMBIHKB.png\n",
            "Processing file: /content/drive/MyDrive/dataset/TeamDeepwave/dataset/open/./train/OEWHVJJT.ogg\n"
          ]
        },
        {
          "output_type": "stream",
          "name": "stderr",
          "text": [
            "\r  2%|▏         | 937/50000 [12:07<9:09:01,  1.49it/s]"
          ]
        },
        {
          "output_type": "stream",
          "name": "stdout",
          "text": [
            "Saved file: /content/drive/MyDrive/dataset/TeamDeepwave/dataset/preprocessed/train/real/OEWHVJJT.png\n",
            "Processing file: /content/drive/MyDrive/dataset/TeamDeepwave/dataset/open/./train/KUZJDCFK.ogg\n"
          ]
        },
        {
          "output_type": "stream",
          "name": "stderr",
          "text": [
            "\r  2%|▏         | 938/50000 [12:08<8:58:11,  1.52it/s]"
          ]
        },
        {
          "output_type": "stream",
          "name": "stdout",
          "text": [
            "Saved file: /content/drive/MyDrive/dataset/TeamDeepwave/dataset/preprocessed/train/real/KUZJDCFK.png\n",
            "Processing file: /content/drive/MyDrive/dataset/TeamDeepwave/dataset/open/./train/GUUZZUCE.ogg\n"
          ]
        },
        {
          "output_type": "stream",
          "name": "stderr",
          "text": [
            "\r  2%|▏         | 939/50000 [12:09<9:09:33,  1.49it/s]"
          ]
        },
        {
          "output_type": "stream",
          "name": "stdout",
          "text": [
            "Saved file: /content/drive/MyDrive/dataset/TeamDeepwave/dataset/preprocessed/train/real/GUUZZUCE.png\n",
            "Processing file: /content/drive/MyDrive/dataset/TeamDeepwave/dataset/open/./train/TITLTNNJ.ogg\n"
          ]
        },
        {
          "output_type": "stream",
          "name": "stderr",
          "text": [
            "\r  2%|▏         | 940/50000 [12:09<9:11:44,  1.48it/s]"
          ]
        },
        {
          "output_type": "stream",
          "name": "stdout",
          "text": [
            "Saved file: /content/drive/MyDrive/dataset/TeamDeepwave/dataset/preprocessed/train/fake/TITLTNNJ.png\n",
            "Processing file: /content/drive/MyDrive/dataset/TeamDeepwave/dataset/open/./train/RSNKOCFV.ogg\n"
          ]
        },
        {
          "output_type": "stream",
          "name": "stderr",
          "text": [
            "\r  2%|▏         | 941/50000 [12:10<9:22:41,  1.45it/s]"
          ]
        },
        {
          "output_type": "stream",
          "name": "stdout",
          "text": [
            "Saved file: /content/drive/MyDrive/dataset/TeamDeepwave/dataset/preprocessed/train/fake/RSNKOCFV.png\n",
            "Processing file: /content/drive/MyDrive/dataset/TeamDeepwave/dataset/open/./train/VEZDSLNS.ogg\n"
          ]
        },
        {
          "output_type": "stream",
          "name": "stderr",
          "text": [
            "\r  2%|▏         | 942/50000 [12:11<10:50:00,  1.26it/s]"
          ]
        },
        {
          "output_type": "stream",
          "name": "stdout",
          "text": [
            "Saved file: /content/drive/MyDrive/dataset/TeamDeepwave/dataset/preprocessed/train/fake/VEZDSLNS.png\n",
            "Processing file: /content/drive/MyDrive/dataset/TeamDeepwave/dataset/open/./train/MRWLDUSA.ogg\n"
          ]
        },
        {
          "output_type": "stream",
          "name": "stderr",
          "text": [
            "\r  2%|▏         | 943/50000 [12:12<11:06:44,  1.23it/s]"
          ]
        },
        {
          "output_type": "stream",
          "name": "stdout",
          "text": [
            "Saved file: /content/drive/MyDrive/dataset/TeamDeepwave/dataset/preprocessed/train/fake/MRWLDUSA.png\n",
            "Processing file: /content/drive/MyDrive/dataset/TeamDeepwave/dataset/open/./train/GOEMDQTW.ogg\n"
          ]
        },
        {
          "output_type": "stream",
          "name": "stderr",
          "text": [
            "\r  2%|▏         | 944/50000 [12:13<12:02:29,  1.13it/s]"
          ]
        },
        {
          "output_type": "stream",
          "name": "stdout",
          "text": [
            "Saved file: /content/drive/MyDrive/dataset/TeamDeepwave/dataset/preprocessed/train/fake/GOEMDQTW.png\n",
            "Processing file: /content/drive/MyDrive/dataset/TeamDeepwave/dataset/open/./train/TSTUUBKN.ogg\n"
          ]
        },
        {
          "output_type": "stream",
          "name": "stderr",
          "text": [
            "\r  2%|▏         | 945/50000 [12:14<11:21:36,  1.20it/s]"
          ]
        },
        {
          "output_type": "stream",
          "name": "stdout",
          "text": [
            "Saved file: /content/drive/MyDrive/dataset/TeamDeepwave/dataset/preprocessed/train/real/TSTUUBKN.png\n",
            "Processing file: /content/drive/MyDrive/dataset/TeamDeepwave/dataset/open/./train/ZQOTUUMM.ogg\n"
          ]
        },
        {
          "output_type": "stream",
          "name": "stderr",
          "text": [
            "\r  2%|▏         | 946/50000 [12:14<10:36:06,  1.29it/s]"
          ]
        },
        {
          "output_type": "stream",
          "name": "stdout",
          "text": [
            "Saved file: /content/drive/MyDrive/dataset/TeamDeepwave/dataset/preprocessed/train/fake/ZQOTUUMM.png\n",
            "Processing file: /content/drive/MyDrive/dataset/TeamDeepwave/dataset/open/./train/XBDMVPDA.ogg\n"
          ]
        },
        {
          "output_type": "stream",
          "name": "stderr",
          "text": [
            "\r  2%|▏         | 947/50000 [12:15<10:06:59,  1.35it/s]"
          ]
        },
        {
          "output_type": "stream",
          "name": "stdout",
          "text": [
            "Saved file: /content/drive/MyDrive/dataset/TeamDeepwave/dataset/preprocessed/train/real/XBDMVPDA.png\n",
            "Processing file: /content/drive/MyDrive/dataset/TeamDeepwave/dataset/open/./train/SWJTNLLD.ogg\n"
          ]
        },
        {
          "output_type": "stream",
          "name": "stderr",
          "text": [
            "\r  2%|▏         | 948/50000 [12:16<9:42:25,  1.40it/s] "
          ]
        },
        {
          "output_type": "stream",
          "name": "stdout",
          "text": [
            "Saved file: /content/drive/MyDrive/dataset/TeamDeepwave/dataset/preprocessed/train/fake/SWJTNLLD.png\n",
            "Processing file: /content/drive/MyDrive/dataset/TeamDeepwave/dataset/open/./train/ZKUKPHRN.ogg\n"
          ]
        },
        {
          "output_type": "stream",
          "name": "stderr",
          "text": [
            "\r  2%|▏         | 949/50000 [12:16<9:24:18,  1.45it/s]"
          ]
        },
        {
          "output_type": "stream",
          "name": "stdout",
          "text": [
            "Saved file: /content/drive/MyDrive/dataset/TeamDeepwave/dataset/preprocessed/train/real/ZKUKPHRN.png\n",
            "Processing file: /content/drive/MyDrive/dataset/TeamDeepwave/dataset/open/./train/KSLCXAKO.ogg\n"
          ]
        },
        {
          "output_type": "stream",
          "name": "stderr",
          "text": [
            "\r  2%|▏         | 950/50000 [12:17<9:07:07,  1.49it/s]"
          ]
        },
        {
          "output_type": "stream",
          "name": "stdout",
          "text": [
            "Saved file: /content/drive/MyDrive/dataset/TeamDeepwave/dataset/preprocessed/train/real/KSLCXAKO.png\n",
            "Processing file: /content/drive/MyDrive/dataset/TeamDeepwave/dataset/open/./train/QUHNVUJX.ogg\n"
          ]
        },
        {
          "output_type": "stream",
          "name": "stderr",
          "text": [
            "\r  2%|▏         | 951/50000 [12:17<8:44:43,  1.56it/s]"
          ]
        },
        {
          "output_type": "stream",
          "name": "stdout",
          "text": [
            "Saved file: /content/drive/MyDrive/dataset/TeamDeepwave/dataset/preprocessed/train/fake/QUHNVUJX.png\n",
            "Processing file: /content/drive/MyDrive/dataset/TeamDeepwave/dataset/open/./train/YJGPTEXU.ogg\n"
          ]
        },
        {
          "output_type": "stream",
          "name": "stderr",
          "text": [
            "\r  2%|▏         | 952/50000 [12:18<8:33:22,  1.59it/s]"
          ]
        },
        {
          "output_type": "stream",
          "name": "stdout",
          "text": [
            "Saved file: /content/drive/MyDrive/dataset/TeamDeepwave/dataset/preprocessed/train/fake/YJGPTEXU.png\n",
            "Processing file: /content/drive/MyDrive/dataset/TeamDeepwave/dataset/open/./train/AZBNFFNG.ogg\n"
          ]
        },
        {
          "output_type": "stream",
          "name": "stderr",
          "text": [
            "\r  2%|▏         | 953/50000 [12:19<8:40:56,  1.57it/s]"
          ]
        },
        {
          "output_type": "stream",
          "name": "stdout",
          "text": [
            "Saved file: /content/drive/MyDrive/dataset/TeamDeepwave/dataset/preprocessed/train/real/AZBNFFNG.png\n",
            "Processing file: /content/drive/MyDrive/dataset/TeamDeepwave/dataset/open/./train/CNFQZPNR.ogg\n"
          ]
        },
        {
          "output_type": "stream",
          "name": "stderr",
          "text": [
            "\r  2%|▏         | 954/50000 [12:19<8:52:08,  1.54it/s]"
          ]
        },
        {
          "output_type": "stream",
          "name": "stdout",
          "text": [
            "Saved file: /content/drive/MyDrive/dataset/TeamDeepwave/dataset/preprocessed/train/real/CNFQZPNR.png\n",
            "Processing file: /content/drive/MyDrive/dataset/TeamDeepwave/dataset/open/./train/YVFOAZSF.ogg\n"
          ]
        },
        {
          "output_type": "stream",
          "name": "stderr",
          "text": [
            "\r  2%|▏         | 955/50000 [12:20<8:51:59,  1.54it/s]"
          ]
        },
        {
          "output_type": "stream",
          "name": "stdout",
          "text": [
            "Saved file: /content/drive/MyDrive/dataset/TeamDeepwave/dataset/preprocessed/train/real/YVFOAZSF.png\n",
            "Processing file: /content/drive/MyDrive/dataset/TeamDeepwave/dataset/open/./train/SSEXUYTS.ogg\n"
          ]
        },
        {
          "output_type": "stream",
          "name": "stderr",
          "text": [
            "\r  2%|▏         | 956/50000 [12:21<9:22:23,  1.45it/s]"
          ]
        },
        {
          "output_type": "stream",
          "name": "stdout",
          "text": [
            "Saved file: /content/drive/MyDrive/dataset/TeamDeepwave/dataset/preprocessed/train/real/SSEXUYTS.png\n",
            "Processing file: /content/drive/MyDrive/dataset/TeamDeepwave/dataset/open/./train/OZSKGRVJ.ogg\n"
          ]
        },
        {
          "output_type": "stream",
          "name": "stderr",
          "text": [
            "\r  2%|▏         | 957/50000 [12:22<9:39:07,  1.41it/s]"
          ]
        },
        {
          "output_type": "stream",
          "name": "stdout",
          "text": [
            "Saved file: /content/drive/MyDrive/dataset/TeamDeepwave/dataset/preprocessed/train/real/OZSKGRVJ.png\n",
            "Processing file: /content/drive/MyDrive/dataset/TeamDeepwave/dataset/open/./train/MHFZJSYH.ogg\n"
          ]
        },
        {
          "output_type": "stream",
          "name": "stderr",
          "text": [
            "\r  2%|▏         | 958/50000 [12:22<9:09:37,  1.49it/s]"
          ]
        },
        {
          "output_type": "stream",
          "name": "stdout",
          "text": [
            "Saved file: /content/drive/MyDrive/dataset/TeamDeepwave/dataset/preprocessed/train/fake/MHFZJSYH.png\n",
            "Processing file: /content/drive/MyDrive/dataset/TeamDeepwave/dataset/open/./train/AHWARRXT.ogg\n"
          ]
        },
        {
          "output_type": "stream",
          "name": "stderr",
          "text": [
            "\r  2%|▏         | 959/50000 [12:23<9:14:04,  1.48it/s]"
          ]
        },
        {
          "output_type": "stream",
          "name": "stdout",
          "text": [
            "Saved file: /content/drive/MyDrive/dataset/TeamDeepwave/dataset/preprocessed/train/real/AHWARRXT.png\n",
            "Processing file: /content/drive/MyDrive/dataset/TeamDeepwave/dataset/open/./train/EXNFUENI.ogg\n"
          ]
        },
        {
          "output_type": "stream",
          "name": "stderr",
          "text": [
            "\r  2%|▏         | 960/50000 [12:23<8:54:25,  1.53it/s]"
          ]
        },
        {
          "output_type": "stream",
          "name": "stdout",
          "text": [
            "Saved file: /content/drive/MyDrive/dataset/TeamDeepwave/dataset/preprocessed/train/fake/EXNFUENI.png\n",
            "Processing file: /content/drive/MyDrive/dataset/TeamDeepwave/dataset/open/./train/WCZTRFFX.ogg\n"
          ]
        },
        {
          "output_type": "stream",
          "name": "stderr",
          "text": [
            "\r  2%|▏         | 961/50000 [12:24<9:40:08,  1.41it/s]"
          ]
        },
        {
          "output_type": "stream",
          "name": "stdout",
          "text": [
            "Saved file: /content/drive/MyDrive/dataset/TeamDeepwave/dataset/preprocessed/train/fake/WCZTRFFX.png\n",
            "Processing file: /content/drive/MyDrive/dataset/TeamDeepwave/dataset/open/./train/VDRTUIYH.ogg\n"
          ]
        },
        {
          "output_type": "stream",
          "name": "stderr",
          "text": [
            "\r  2%|▏         | 962/50000 [12:25<10:34:02,  1.29it/s]"
          ]
        },
        {
          "output_type": "stream",
          "name": "stdout",
          "text": [
            "Saved file: /content/drive/MyDrive/dataset/TeamDeepwave/dataset/preprocessed/train/real/VDRTUIYH.png\n",
            "Processing file: /content/drive/MyDrive/dataset/TeamDeepwave/dataset/open/./train/JDKJSWRH.ogg\n"
          ]
        },
        {
          "output_type": "stream",
          "name": "stderr",
          "text": [
            "\r  2%|▏         | 963/50000 [12:26<11:21:18,  1.20it/s]"
          ]
        },
        {
          "output_type": "stream",
          "name": "stdout",
          "text": [
            "Saved file: /content/drive/MyDrive/dataset/TeamDeepwave/dataset/preprocessed/train/fake/JDKJSWRH.png\n",
            "Processing file: /content/drive/MyDrive/dataset/TeamDeepwave/dataset/open/./train/EGYUJRHD.ogg\n"
          ]
        },
        {
          "output_type": "stream",
          "name": "stderr",
          "text": [
            "\r  2%|▏         | 964/50000 [12:27<11:45:24,  1.16it/s]"
          ]
        },
        {
          "output_type": "stream",
          "name": "stdout",
          "text": [
            "Saved file: /content/drive/MyDrive/dataset/TeamDeepwave/dataset/preprocessed/train/real/EGYUJRHD.png\n",
            "Processing file: /content/drive/MyDrive/dataset/TeamDeepwave/dataset/open/./train/PXSYBOSQ.ogg\n"
          ]
        },
        {
          "output_type": "stream",
          "name": "stderr",
          "text": [
            "\r  2%|▏         | 965/50000 [12:28<11:07:13,  1.22it/s]"
          ]
        },
        {
          "output_type": "stream",
          "name": "stdout",
          "text": [
            "Saved file: /content/drive/MyDrive/dataset/TeamDeepwave/dataset/preprocessed/train/real/PXSYBOSQ.png\n",
            "Processing file: /content/drive/MyDrive/dataset/TeamDeepwave/dataset/open/./train/BCRLSXPG.ogg\n"
          ]
        },
        {
          "output_type": "stream",
          "name": "stderr",
          "text": [
            "\r  2%|▏         | 966/50000 [12:29<10:49:59,  1.26it/s]"
          ]
        },
        {
          "output_type": "stream",
          "name": "stdout",
          "text": [
            "Saved file: /content/drive/MyDrive/dataset/TeamDeepwave/dataset/preprocessed/train/real/BCRLSXPG.png\n",
            "Processing file: /content/drive/MyDrive/dataset/TeamDeepwave/dataset/open/./train/XFCWQGAJ.ogg\n"
          ]
        },
        {
          "output_type": "stream",
          "name": "stderr",
          "text": [
            "\r  2%|▏         | 967/50000 [12:29<10:04:48,  1.35it/s]"
          ]
        },
        {
          "output_type": "stream",
          "name": "stdout",
          "text": [
            "Saved file: /content/drive/MyDrive/dataset/TeamDeepwave/dataset/preprocessed/train/fake/XFCWQGAJ.png\n",
            "Processing file: /content/drive/MyDrive/dataset/TeamDeepwave/dataset/open/./train/EKQHHQZH.ogg\n"
          ]
        },
        {
          "output_type": "stream",
          "name": "stderr",
          "text": [
            "\r  2%|▏         | 968/50000 [12:30<10:04:14,  1.35it/s]"
          ]
        },
        {
          "output_type": "stream",
          "name": "stdout",
          "text": [
            "Saved file: /content/drive/MyDrive/dataset/TeamDeepwave/dataset/preprocessed/train/fake/EKQHHQZH.png\n",
            "Processing file: /content/drive/MyDrive/dataset/TeamDeepwave/dataset/open/./train/QCFOQKAF.ogg\n"
          ]
        },
        {
          "output_type": "stream",
          "name": "stderr",
          "text": [
            "\r  2%|▏         | 969/50000 [12:31<10:32:49,  1.29it/s]"
          ]
        },
        {
          "output_type": "stream",
          "name": "stdout",
          "text": [
            "Saved file: /content/drive/MyDrive/dataset/TeamDeepwave/dataset/preprocessed/train/real/QCFOQKAF.png\n",
            "Processing file: /content/drive/MyDrive/dataset/TeamDeepwave/dataset/open/./train/LACAVOCV.ogg\n"
          ]
        },
        {
          "output_type": "stream",
          "name": "stderr",
          "text": [
            "\r  2%|▏         | 970/50000 [12:32<10:34:11,  1.29it/s]"
          ]
        },
        {
          "output_type": "stream",
          "name": "stdout",
          "text": [
            "Saved file: /content/drive/MyDrive/dataset/TeamDeepwave/dataset/preprocessed/train/fake/LACAVOCV.png\n",
            "Processing file: /content/drive/MyDrive/dataset/TeamDeepwave/dataset/open/./train/OCXFYUUI.ogg\n"
          ]
        },
        {
          "output_type": "stream",
          "name": "stderr",
          "text": [
            "\r  2%|▏         | 971/50000 [12:33<11:30:13,  1.18it/s]"
          ]
        },
        {
          "output_type": "stream",
          "name": "stdout",
          "text": [
            "Saved file: /content/drive/MyDrive/dataset/TeamDeepwave/dataset/preprocessed/train/real/OCXFYUUI.png\n",
            "Processing file: /content/drive/MyDrive/dataset/TeamDeepwave/dataset/open/./train/NFQALNFI.ogg\n"
          ]
        },
        {
          "output_type": "stream",
          "name": "stderr",
          "text": [
            "\r  2%|▏         | 972/50000 [12:33<11:41:36,  1.16it/s]"
          ]
        },
        {
          "output_type": "stream",
          "name": "stdout",
          "text": [
            "Saved file: /content/drive/MyDrive/dataset/TeamDeepwave/dataset/preprocessed/train/real/NFQALNFI.png\n",
            "Processing file: /content/drive/MyDrive/dataset/TeamDeepwave/dataset/open/./train/YWFLPZZW.ogg\n"
          ]
        },
        {
          "output_type": "stream",
          "name": "stderr",
          "text": [
            "\r  2%|▏         | 973/50000 [12:34<11:08:33,  1.22it/s]"
          ]
        },
        {
          "output_type": "stream",
          "name": "stdout",
          "text": [
            "Saved file: /content/drive/MyDrive/dataset/TeamDeepwave/dataset/preprocessed/train/fake/YWFLPZZW.png\n",
            "Processing file: /content/drive/MyDrive/dataset/TeamDeepwave/dataset/open/./train/IMXYHYOX.ogg\n"
          ]
        },
        {
          "output_type": "stream",
          "name": "stderr",
          "text": [
            "\r  2%|▏         | 974/50000 [12:35<10:21:16,  1.32it/s]"
          ]
        },
        {
          "output_type": "stream",
          "name": "stdout",
          "text": [
            "Saved file: /content/drive/MyDrive/dataset/TeamDeepwave/dataset/preprocessed/train/real/IMXYHYOX.png\n",
            "Processing file: /content/drive/MyDrive/dataset/TeamDeepwave/dataset/open/./train/IDIFEMTS.ogg\n"
          ]
        },
        {
          "output_type": "stream",
          "name": "stderr",
          "text": [
            "\r  2%|▏         | 975/50000 [12:35<10:10:47,  1.34it/s]"
          ]
        },
        {
          "output_type": "stream",
          "name": "stdout",
          "text": [
            "Saved file: /content/drive/MyDrive/dataset/TeamDeepwave/dataset/preprocessed/train/fake/IDIFEMTS.png\n",
            "Processing file: /content/drive/MyDrive/dataset/TeamDeepwave/dataset/open/./train/ORZEHRPF.ogg\n"
          ]
        },
        {
          "output_type": "stream",
          "name": "stderr",
          "text": [
            "\r  2%|▏         | 976/50000 [12:36<9:24:49,  1.45it/s] "
          ]
        },
        {
          "output_type": "stream",
          "name": "stdout",
          "text": [
            "Saved file: /content/drive/MyDrive/dataset/TeamDeepwave/dataset/preprocessed/train/real/ORZEHRPF.png\n",
            "Processing file: /content/drive/MyDrive/dataset/TeamDeepwave/dataset/open/./train/PEGUZYMW.ogg\n"
          ]
        },
        {
          "output_type": "stream",
          "name": "stderr",
          "text": [
            "\r  2%|▏         | 977/50000 [12:37<9:02:09,  1.51it/s]"
          ]
        },
        {
          "output_type": "stream",
          "name": "stdout",
          "text": [
            "Saved file: /content/drive/MyDrive/dataset/TeamDeepwave/dataset/preprocessed/train/fake/PEGUZYMW.png\n",
            "Processing file: /content/drive/MyDrive/dataset/TeamDeepwave/dataset/open/./train/HUQOEWTL.ogg\n"
          ]
        },
        {
          "output_type": "stream",
          "name": "stderr",
          "text": [
            "\r  2%|▏         | 978/50000 [12:37<9:17:12,  1.47it/s]"
          ]
        },
        {
          "output_type": "stream",
          "name": "stdout",
          "text": [
            "Saved file: /content/drive/MyDrive/dataset/TeamDeepwave/dataset/preprocessed/train/real/HUQOEWTL.png\n",
            "Processing file: /content/drive/MyDrive/dataset/TeamDeepwave/dataset/open/./train/GJVXKULS.ogg\n"
          ]
        },
        {
          "output_type": "stream",
          "name": "stderr",
          "text": [
            "\r  2%|▏         | 979/50000 [12:38<10:03:02,  1.35it/s]"
          ]
        },
        {
          "output_type": "stream",
          "name": "stdout",
          "text": [
            "Saved file: /content/drive/MyDrive/dataset/TeamDeepwave/dataset/preprocessed/train/real/GJVXKULS.png\n",
            "Processing file: /content/drive/MyDrive/dataset/TeamDeepwave/dataset/open/./train/URDPSMOP.ogg\n"
          ]
        },
        {
          "output_type": "stream",
          "name": "stderr",
          "text": [
            "\r  2%|▏         | 980/50000 [12:39<10:23:35,  1.31it/s]"
          ]
        },
        {
          "output_type": "stream",
          "name": "stdout",
          "text": [
            "Saved file: /content/drive/MyDrive/dataset/TeamDeepwave/dataset/preprocessed/train/real/URDPSMOP.png\n",
            "Processing file: /content/drive/MyDrive/dataset/TeamDeepwave/dataset/open/./train/XQZYRRJK.ogg\n"
          ]
        },
        {
          "output_type": "stream",
          "name": "stderr",
          "text": [
            "\r  2%|▏         | 981/50000 [12:40<11:10:47,  1.22it/s]"
          ]
        },
        {
          "output_type": "stream",
          "name": "stdout",
          "text": [
            "Saved file: /content/drive/MyDrive/dataset/TeamDeepwave/dataset/preprocessed/train/real/XQZYRRJK.png\n",
            "Processing file: /content/drive/MyDrive/dataset/TeamDeepwave/dataset/open/./train/NEJTKBWV.ogg\n"
          ]
        },
        {
          "output_type": "stream",
          "name": "stderr",
          "text": [
            "\r  2%|▏         | 982/50000 [12:41<11:28:28,  1.19it/s]"
          ]
        },
        {
          "output_type": "stream",
          "name": "stdout",
          "text": [
            "Saved file: /content/drive/MyDrive/dataset/TeamDeepwave/dataset/preprocessed/train/real/NEJTKBWV.png\n",
            "Processing file: /content/drive/MyDrive/dataset/TeamDeepwave/dataset/open/./train/YEVRVCAO.ogg\n"
          ]
        },
        {
          "output_type": "stream",
          "name": "stderr",
          "text": [
            "\r  2%|▏         | 983/50000 [12:42<10:48:20,  1.26it/s]"
          ]
        },
        {
          "output_type": "stream",
          "name": "stdout",
          "text": [
            "Saved file: /content/drive/MyDrive/dataset/TeamDeepwave/dataset/preprocessed/train/fake/YEVRVCAO.png\n",
            "Processing file: /content/drive/MyDrive/dataset/TeamDeepwave/dataset/open/./train/PTXBRVXX.ogg\n"
          ]
        },
        {
          "output_type": "stream",
          "name": "stderr",
          "text": [
            "\r  2%|▏         | 984/50000 [12:42<10:07:18,  1.35it/s]"
          ]
        },
        {
          "output_type": "stream",
          "name": "stdout",
          "text": [
            "Saved file: /content/drive/MyDrive/dataset/TeamDeepwave/dataset/preprocessed/train/fake/PTXBRVXX.png\n",
            "Processing file: /content/drive/MyDrive/dataset/TeamDeepwave/dataset/open/./train/JVOLIBEJ.ogg\n"
          ]
        },
        {
          "output_type": "stream",
          "name": "stderr",
          "text": [
            "\r  2%|▏         | 985/50000 [12:43<9:47:50,  1.39it/s] "
          ]
        },
        {
          "output_type": "stream",
          "name": "stdout",
          "text": [
            "Saved file: /content/drive/MyDrive/dataset/TeamDeepwave/dataset/preprocessed/train/real/JVOLIBEJ.png\n",
            "Processing file: /content/drive/MyDrive/dataset/TeamDeepwave/dataset/open/./train/BRECLFNC.ogg\n"
          ]
        },
        {
          "output_type": "stream",
          "name": "stderr",
          "text": [
            "\r  2%|▏         | 986/50000 [12:43<9:17:39,  1.46it/s]"
          ]
        },
        {
          "output_type": "stream",
          "name": "stdout",
          "text": [
            "Saved file: /content/drive/MyDrive/dataset/TeamDeepwave/dataset/preprocessed/train/real/BRECLFNC.png\n",
            "Processing file: /content/drive/MyDrive/dataset/TeamDeepwave/dataset/open/./train/JHTVEIVJ.ogg\n"
          ]
        },
        {
          "output_type": "stream",
          "name": "stderr",
          "text": [
            "\r  2%|▏         | 987/50000 [12:44<8:54:56,  1.53it/s]"
          ]
        },
        {
          "output_type": "stream",
          "name": "stdout",
          "text": [
            "Saved file: /content/drive/MyDrive/dataset/TeamDeepwave/dataset/preprocessed/train/fake/JHTVEIVJ.png\n",
            "Processing file: /content/drive/MyDrive/dataset/TeamDeepwave/dataset/open/./train/HHAGPBYO.ogg\n"
          ]
        },
        {
          "output_type": "stream",
          "name": "stderr",
          "text": [
            "\r  2%|▏         | 988/50000 [12:45<8:47:54,  1.55it/s]"
          ]
        },
        {
          "output_type": "stream",
          "name": "stdout",
          "text": [
            "Saved file: /content/drive/MyDrive/dataset/TeamDeepwave/dataset/preprocessed/train/real/HHAGPBYO.png\n",
            "Processing file: /content/drive/MyDrive/dataset/TeamDeepwave/dataset/open/./train/QSAWATNB.ogg\n"
          ]
        },
        {
          "output_type": "stream",
          "name": "stderr",
          "text": [
            "\r  2%|▏         | 989/50000 [12:45<9:23:16,  1.45it/s]"
          ]
        },
        {
          "output_type": "stream",
          "name": "stdout",
          "text": [
            "Saved file: /content/drive/MyDrive/dataset/TeamDeepwave/dataset/preprocessed/train/real/QSAWATNB.png\n",
            "Processing file: /content/drive/MyDrive/dataset/TeamDeepwave/dataset/open/./train/DRSBUUPX.ogg\n"
          ]
        },
        {
          "output_type": "stream",
          "name": "stderr",
          "text": [
            "\r  2%|▏         | 990/50000 [12:46<9:18:39,  1.46it/s]"
          ]
        },
        {
          "output_type": "stream",
          "name": "stdout",
          "text": [
            "Saved file: /content/drive/MyDrive/dataset/TeamDeepwave/dataset/preprocessed/train/fake/DRSBUUPX.png\n",
            "Processing file: /content/drive/MyDrive/dataset/TeamDeepwave/dataset/open/./train/MBGLYIDJ.ogg\n"
          ]
        },
        {
          "output_type": "stream",
          "name": "stderr",
          "text": [
            "\r  2%|▏         | 991/50000 [12:47<9:26:23,  1.44it/s]"
          ]
        },
        {
          "output_type": "stream",
          "name": "stdout",
          "text": [
            "Saved file: /content/drive/MyDrive/dataset/TeamDeepwave/dataset/preprocessed/train/fake/MBGLYIDJ.png\n",
            "Processing file: /content/drive/MyDrive/dataset/TeamDeepwave/dataset/open/./train/PQSISVFE.ogg\n"
          ]
        },
        {
          "output_type": "stream",
          "name": "stderr",
          "text": [
            "\r  2%|▏         | 992/50000 [12:48<9:25:01,  1.45it/s]"
          ]
        },
        {
          "output_type": "stream",
          "name": "stdout",
          "text": [
            "Saved file: /content/drive/MyDrive/dataset/TeamDeepwave/dataset/preprocessed/train/real/PQSISVFE.png\n",
            "Processing file: /content/drive/MyDrive/dataset/TeamDeepwave/dataset/open/./train/XDFAQQBY.ogg\n"
          ]
        },
        {
          "output_type": "stream",
          "name": "stderr",
          "text": [
            "\r  2%|▏         | 993/50000 [12:48<9:24:23,  1.45it/s]"
          ]
        },
        {
          "output_type": "stream",
          "name": "stdout",
          "text": [
            "Saved file: /content/drive/MyDrive/dataset/TeamDeepwave/dataset/preprocessed/train/real/XDFAQQBY.png\n",
            "Processing file: /content/drive/MyDrive/dataset/TeamDeepwave/dataset/open/./train/ZKMOROYA.ogg\n"
          ]
        },
        {
          "output_type": "stream",
          "name": "stderr",
          "text": [
            "\r  2%|▏         | 994/50000 [12:49<9:14:35,  1.47it/s]"
          ]
        },
        {
          "output_type": "stream",
          "name": "stdout",
          "text": [
            "Saved file: /content/drive/MyDrive/dataset/TeamDeepwave/dataset/preprocessed/train/real/ZKMOROYA.png\n",
            "Processing file: /content/drive/MyDrive/dataset/TeamDeepwave/dataset/open/./train/YCWTAHGA.ogg\n"
          ]
        },
        {
          "output_type": "stream",
          "name": "stderr",
          "text": [
            "\r  2%|▏         | 995/50000 [12:49<8:48:59,  1.54it/s]"
          ]
        },
        {
          "output_type": "stream",
          "name": "stdout",
          "text": [
            "Saved file: /content/drive/MyDrive/dataset/TeamDeepwave/dataset/preprocessed/train/fake/YCWTAHGA.png\n",
            "Processing file: /content/drive/MyDrive/dataset/TeamDeepwave/dataset/open/./train/GMUBNNFG.ogg\n"
          ]
        },
        {
          "output_type": "stream",
          "name": "stderr",
          "text": [
            "\r  2%|▏         | 996/50000 [12:50<8:43:59,  1.56it/s]"
          ]
        },
        {
          "output_type": "stream",
          "name": "stdout",
          "text": [
            "Saved file: /content/drive/MyDrive/dataset/TeamDeepwave/dataset/preprocessed/train/real/GMUBNNFG.png\n",
            "Processing file: /content/drive/MyDrive/dataset/TeamDeepwave/dataset/open/./train/XPMVLGUP.ogg\n"
          ]
        },
        {
          "output_type": "stream",
          "name": "stderr",
          "text": [
            "\r  2%|▏         | 997/50000 [12:51<9:23:09,  1.45it/s]"
          ]
        },
        {
          "output_type": "stream",
          "name": "stdout",
          "text": [
            "Saved file: /content/drive/MyDrive/dataset/TeamDeepwave/dataset/preprocessed/train/real/XPMVLGUP.png\n",
            "Processing file: /content/drive/MyDrive/dataset/TeamDeepwave/dataset/open/./train/NPECHISZ.ogg\n"
          ]
        },
        {
          "output_type": "stream",
          "name": "stderr",
          "text": [
            "\r  2%|▏         | 998/50000 [12:52<10:49:07,  1.26it/s]"
          ]
        },
        {
          "output_type": "stream",
          "name": "stdout",
          "text": [
            "Saved file: /content/drive/MyDrive/dataset/TeamDeepwave/dataset/preprocessed/train/real/NPECHISZ.png\n",
            "Processing file: /content/drive/MyDrive/dataset/TeamDeepwave/dataset/open/./train/WVMCWFBF.ogg\n"
          ]
        },
        {
          "output_type": "stream",
          "name": "stderr",
          "text": [
            "\r  2%|▏         | 999/50000 [12:53<11:21:16,  1.20it/s]"
          ]
        },
        {
          "output_type": "stream",
          "name": "stdout",
          "text": [
            "Saved file: /content/drive/MyDrive/dataset/TeamDeepwave/dataset/preprocessed/train/fake/WVMCWFBF.png\n",
            "Processing file: /content/drive/MyDrive/dataset/TeamDeepwave/dataset/open/./train/UOGOXITM.ogg\n"
          ]
        },
        {
          "output_type": "stream",
          "name": "stderr",
          "text": [
            "\r  2%|▏         | 1000/50000 [12:54<11:41:35,  1.16it/s]"
          ]
        },
        {
          "output_type": "stream",
          "name": "stdout",
          "text": [
            "Saved file: /content/drive/MyDrive/dataset/TeamDeepwave/dataset/preprocessed/train/real/UOGOXITM.png\n",
            "Processing file: /content/drive/MyDrive/dataset/TeamDeepwave/dataset/open/./train/CQJHDXPN.ogg\n"
          ]
        },
        {
          "output_type": "stream",
          "name": "stderr",
          "text": [
            "\r  2%|▏         | 1001/50000 [12:55<11:29:44,  1.18it/s]"
          ]
        },
        {
          "output_type": "stream",
          "name": "stdout",
          "text": [
            "Saved file: /content/drive/MyDrive/dataset/TeamDeepwave/dataset/preprocessed/train/fake/CQJHDXPN.png\n",
            "Processing file: /content/drive/MyDrive/dataset/TeamDeepwave/dataset/open/./train/CIFMUWWU.ogg\n"
          ]
        },
        {
          "output_type": "stream",
          "name": "stderr",
          "text": [
            "\r  2%|▏         | 1002/50000 [12:55<10:58:41,  1.24it/s]"
          ]
        },
        {
          "output_type": "stream",
          "name": "stdout",
          "text": [
            "Saved file: /content/drive/MyDrive/dataset/TeamDeepwave/dataset/preprocessed/train/fake/CIFMUWWU.png\n",
            "Processing file: /content/drive/MyDrive/dataset/TeamDeepwave/dataset/open/./train/BJZCZCDI.ogg\n"
          ]
        },
        {
          "output_type": "stream",
          "name": "stderr",
          "text": [
            "\r  2%|▏         | 1003/50000 [12:56<10:07:38,  1.34it/s]"
          ]
        },
        {
          "output_type": "stream",
          "name": "stdout",
          "text": [
            "Saved file: /content/drive/MyDrive/dataset/TeamDeepwave/dataset/preprocessed/train/real/BJZCZCDI.png\n",
            "Processing file: /content/drive/MyDrive/dataset/TeamDeepwave/dataset/open/./train/IUQNHKAE.ogg\n"
          ]
        },
        {
          "output_type": "stream",
          "name": "stderr",
          "text": [
            "\r  2%|▏         | 1004/50000 [12:57<9:48:27,  1.39it/s] "
          ]
        },
        {
          "output_type": "stream",
          "name": "stdout",
          "text": [
            "Saved file: /content/drive/MyDrive/dataset/TeamDeepwave/dataset/preprocessed/train/real/IUQNHKAE.png\n",
            "Processing file: /content/drive/MyDrive/dataset/TeamDeepwave/dataset/open/./train/FNHDMNVW.ogg\n"
          ]
        },
        {
          "output_type": "stream",
          "name": "stderr",
          "text": [
            "\r  2%|▏         | 1005/50000 [12:57<9:24:44,  1.45it/s]"
          ]
        },
        {
          "output_type": "stream",
          "name": "stdout",
          "text": [
            "Saved file: /content/drive/MyDrive/dataset/TeamDeepwave/dataset/preprocessed/train/fake/FNHDMNVW.png\n",
            "Processing file: /content/drive/MyDrive/dataset/TeamDeepwave/dataset/open/./train/BEBAAECE.ogg\n"
          ]
        },
        {
          "output_type": "stream",
          "name": "stderr",
          "text": [
            "\r  2%|▏         | 1006/50000 [12:58<8:58:16,  1.52it/s]"
          ]
        },
        {
          "output_type": "stream",
          "name": "stdout",
          "text": [
            "Saved file: /content/drive/MyDrive/dataset/TeamDeepwave/dataset/preprocessed/train/fake/BEBAAECE.png\n",
            "Processing file: /content/drive/MyDrive/dataset/TeamDeepwave/dataset/open/./train/XDYWHDJB.ogg\n"
          ]
        },
        {
          "output_type": "stream",
          "name": "stderr",
          "text": [
            "\r  2%|▏         | 1007/50000 [12:58<8:58:55,  1.52it/s]"
          ]
        },
        {
          "output_type": "stream",
          "name": "stdout",
          "text": [
            "Saved file: /content/drive/MyDrive/dataset/TeamDeepwave/dataset/preprocessed/train/fake/XDYWHDJB.png\n",
            "Processing file: /content/drive/MyDrive/dataset/TeamDeepwave/dataset/open/./train/KGRNINBI.ogg\n"
          ]
        },
        {
          "output_type": "stream",
          "name": "stderr",
          "text": [
            "\r  2%|▏         | 1008/50000 [12:59<8:39:00,  1.57it/s]"
          ]
        },
        {
          "output_type": "stream",
          "name": "stdout",
          "text": [
            "Saved file: /content/drive/MyDrive/dataset/TeamDeepwave/dataset/preprocessed/train/fake/KGRNINBI.png\n",
            "Processing file: /content/drive/MyDrive/dataset/TeamDeepwave/dataset/open/./train/FURYSPPY.ogg\n"
          ]
        },
        {
          "output_type": "stream",
          "name": "stderr",
          "text": [
            "\r  2%|▏         | 1009/50000 [13:00<8:32:04,  1.59it/s]"
          ]
        },
        {
          "output_type": "stream",
          "name": "stdout",
          "text": [
            "Saved file: /content/drive/MyDrive/dataset/TeamDeepwave/dataset/preprocessed/train/real/FURYSPPY.png\n",
            "Processing file: /content/drive/MyDrive/dataset/TeamDeepwave/dataset/open/./train/ZUXTEABY.ogg\n"
          ]
        },
        {
          "output_type": "stream",
          "name": "stderr",
          "text": [
            "\r  2%|▏         | 1010/50000 [13:03<19:26:24,  1.43s/it]"
          ]
        },
        {
          "output_type": "stream",
          "name": "stdout",
          "text": [
            "Saved file: /content/drive/MyDrive/dataset/TeamDeepwave/dataset/preprocessed/train/fake/ZUXTEABY.png\n",
            "Processing file: /content/drive/MyDrive/dataset/TeamDeepwave/dataset/open/./train/BABULCYC.ogg\n"
          ]
        },
        {
          "output_type": "stream",
          "name": "stderr",
          "text": [
            "\r  2%|▏         | 1011/50000 [13:04<16:05:08,  1.18s/it]"
          ]
        },
        {
          "output_type": "stream",
          "name": "stdout",
          "text": [
            "Saved file: /content/drive/MyDrive/dataset/TeamDeepwave/dataset/preprocessed/train/fake/BABULCYC.png\n",
            "Processing file: /content/drive/MyDrive/dataset/TeamDeepwave/dataset/open/./train/TUOZQFHK.ogg\n"
          ]
        },
        {
          "output_type": "stream",
          "name": "stderr",
          "text": [
            "\r  2%|▏         | 1012/50000 [13:04<13:47:00,  1.01s/it]"
          ]
        },
        {
          "output_type": "stream",
          "name": "stdout",
          "text": [
            "Saved file: /content/drive/MyDrive/dataset/TeamDeepwave/dataset/preprocessed/train/real/TUOZQFHK.png\n",
            "Processing file: /content/drive/MyDrive/dataset/TeamDeepwave/dataset/open/./train/NDBSCJLP.ogg\n"
          ]
        },
        {
          "output_type": "stream",
          "name": "stderr",
          "text": [
            "\r  2%|▏         | 1013/50000 [13:05<12:56:55,  1.05it/s]"
          ]
        },
        {
          "output_type": "stream",
          "name": "stdout",
          "text": [
            "Saved file: /content/drive/MyDrive/dataset/TeamDeepwave/dataset/preprocessed/train/real/NDBSCJLP.png\n",
            "Processing file: /content/drive/MyDrive/dataset/TeamDeepwave/dataset/open/./train/IQYYHHRI.ogg\n"
          ]
        },
        {
          "output_type": "stream",
          "name": "stderr",
          "text": [
            "\r  2%|▏         | 1014/50000 [13:06<13:13:11,  1.03it/s]"
          ]
        },
        {
          "output_type": "stream",
          "name": "stdout",
          "text": [
            "Saved file: /content/drive/MyDrive/dataset/TeamDeepwave/dataset/preprocessed/train/real/IQYYHHRI.png\n",
            "Processing file: /content/drive/MyDrive/dataset/TeamDeepwave/dataset/open/./train/AKOAQNHD.ogg\n"
          ]
        },
        {
          "output_type": "stream",
          "name": "stderr",
          "text": [
            "\r  2%|▏         | 1015/50000 [13:07<13:37:20,  1.00s/it]"
          ]
        },
        {
          "output_type": "stream",
          "name": "stdout",
          "text": [
            "Saved file: /content/drive/MyDrive/dataset/TeamDeepwave/dataset/preprocessed/train/real/AKOAQNHD.png\n",
            "Processing file: /content/drive/MyDrive/dataset/TeamDeepwave/dataset/open/./train/LGDOYLJK.ogg\n"
          ]
        },
        {
          "output_type": "stream",
          "name": "stderr",
          "text": [
            "\r  2%|▏         | 1016/50000 [13:08<12:57:18,  1.05it/s]"
          ]
        },
        {
          "output_type": "stream",
          "name": "stdout",
          "text": [
            "Saved file: /content/drive/MyDrive/dataset/TeamDeepwave/dataset/preprocessed/train/real/LGDOYLJK.png\n",
            "Processing file: /content/drive/MyDrive/dataset/TeamDeepwave/dataset/open/./train/JOPVFOXG.ogg\n"
          ]
        },
        {
          "output_type": "stream",
          "name": "stderr",
          "text": [
            "\r  2%|▏         | 1017/50000 [13:09<11:56:50,  1.14it/s]"
          ]
        },
        {
          "output_type": "stream",
          "name": "stdout",
          "text": [
            "Saved file: /content/drive/MyDrive/dataset/TeamDeepwave/dataset/preprocessed/train/fake/JOPVFOXG.png\n",
            "Processing file: /content/drive/MyDrive/dataset/TeamDeepwave/dataset/open/./train/TPRWVISY.ogg\n"
          ]
        },
        {
          "output_type": "stream",
          "name": "stderr",
          "text": [
            "\r  2%|▏         | 1018/50000 [13:09<10:52:32,  1.25it/s]"
          ]
        },
        {
          "output_type": "stream",
          "name": "stdout",
          "text": [
            "Saved file: /content/drive/MyDrive/dataset/TeamDeepwave/dataset/preprocessed/train/fake/TPRWVISY.png\n",
            "Processing file: /content/drive/MyDrive/dataset/TeamDeepwave/dataset/open/./train/CPNDKHPB.ogg\n"
          ]
        },
        {
          "output_type": "stream",
          "name": "stderr",
          "text": [
            "\r  2%|▏         | 1019/50000 [13:10<10:16:18,  1.32it/s]"
          ]
        },
        {
          "output_type": "stream",
          "name": "stdout",
          "text": [
            "Saved file: /content/drive/MyDrive/dataset/TeamDeepwave/dataset/preprocessed/train/fake/CPNDKHPB.png\n",
            "Processing file: /content/drive/MyDrive/dataset/TeamDeepwave/dataset/open/./train/XZPJTGAM.ogg\n"
          ]
        },
        {
          "output_type": "stream",
          "name": "stderr",
          "text": [
            "\r  2%|▏         | 1020/50000 [13:10<9:41:50,  1.40it/s] "
          ]
        },
        {
          "output_type": "stream",
          "name": "stdout",
          "text": [
            "Saved file: /content/drive/MyDrive/dataset/TeamDeepwave/dataset/preprocessed/train/real/XZPJTGAM.png\n",
            "Processing file: /content/drive/MyDrive/dataset/TeamDeepwave/dataset/open/./train/ZTLQENBT.ogg\n"
          ]
        },
        {
          "output_type": "stream",
          "name": "stderr",
          "text": [
            "\r  2%|▏         | 1021/50000 [13:11<9:34:59,  1.42it/s]"
          ]
        },
        {
          "output_type": "stream",
          "name": "stdout",
          "text": [
            "Saved file: /content/drive/MyDrive/dataset/TeamDeepwave/dataset/preprocessed/train/real/ZTLQENBT.png\n",
            "Processing file: /content/drive/MyDrive/dataset/TeamDeepwave/dataset/open/./train/KRVIYNBX.ogg\n"
          ]
        },
        {
          "output_type": "stream",
          "name": "stderr",
          "text": [
            "\r  2%|▏         | 1022/50000 [13:12<10:00:33,  1.36it/s]"
          ]
        },
        {
          "output_type": "stream",
          "name": "stdout",
          "text": [
            "Saved file: /content/drive/MyDrive/dataset/TeamDeepwave/dataset/preprocessed/train/real/KRVIYNBX.png\n",
            "Processing file: /content/drive/MyDrive/dataset/TeamDeepwave/dataset/open/./train/UEFZLZPH.ogg\n"
          ]
        },
        {
          "output_type": "stream",
          "name": "stderr",
          "text": [
            "\r  2%|▏         | 1023/50000 [13:13<9:41:48,  1.40it/s] "
          ]
        },
        {
          "output_type": "stream",
          "name": "stdout",
          "text": [
            "Saved file: /content/drive/MyDrive/dataset/TeamDeepwave/dataset/preprocessed/train/fake/UEFZLZPH.png\n",
            "Processing file: /content/drive/MyDrive/dataset/TeamDeepwave/dataset/open/./train/YNIVVTUV.ogg\n"
          ]
        },
        {
          "output_type": "stream",
          "name": "stderr",
          "text": [
            "\r  2%|▏         | 1024/50000 [13:13<9:52:42,  1.38it/s]"
          ]
        },
        {
          "output_type": "stream",
          "name": "stdout",
          "text": [
            "Saved file: /content/drive/MyDrive/dataset/TeamDeepwave/dataset/preprocessed/train/fake/YNIVVTUV.png\n",
            "Processing file: /content/drive/MyDrive/dataset/TeamDeepwave/dataset/open/./train/LNSRRJVU.ogg\n"
          ]
        },
        {
          "output_type": "stream",
          "name": "stderr",
          "text": [
            "\r  2%|▏         | 1025/50000 [13:14<9:40:07,  1.41it/s]"
          ]
        },
        {
          "output_type": "stream",
          "name": "stdout",
          "text": [
            "Saved file: /content/drive/MyDrive/dataset/TeamDeepwave/dataset/preprocessed/train/fake/LNSRRJVU.png\n",
            "Processing file: /content/drive/MyDrive/dataset/TeamDeepwave/dataset/open/./train/ZEIOGSCZ.ogg\n"
          ]
        },
        {
          "output_type": "stream",
          "name": "stderr",
          "text": [
            "\r  2%|▏         | 1026/50000 [13:15<9:33:02,  1.42it/s]"
          ]
        },
        {
          "output_type": "stream",
          "name": "stdout",
          "text": [
            "Saved file: /content/drive/MyDrive/dataset/TeamDeepwave/dataset/preprocessed/train/fake/ZEIOGSCZ.png\n",
            "Processing file: /content/drive/MyDrive/dataset/TeamDeepwave/dataset/open/./train/QKIIZPBJ.ogg\n"
          ]
        },
        {
          "output_type": "stream",
          "name": "stderr",
          "text": [
            "\r  2%|▏         | 1027/50000 [13:15<9:18:14,  1.46it/s]"
          ]
        },
        {
          "output_type": "stream",
          "name": "stdout",
          "text": [
            "Saved file: /content/drive/MyDrive/dataset/TeamDeepwave/dataset/preprocessed/train/fake/QKIIZPBJ.png\n",
            "Processing file: /content/drive/MyDrive/dataset/TeamDeepwave/dataset/open/./train/WOVZBZNR.ogg\n"
          ]
        },
        {
          "output_type": "stream",
          "name": "stderr",
          "text": [
            "\r  2%|▏         | 1028/50000 [13:16<9:55:32,  1.37it/s]"
          ]
        },
        {
          "output_type": "stream",
          "name": "stdout",
          "text": [
            "Saved file: /content/drive/MyDrive/dataset/TeamDeepwave/dataset/preprocessed/train/real/WOVZBZNR.png\n",
            "Processing file: /content/drive/MyDrive/dataset/TeamDeepwave/dataset/open/./train/VHZAOSRF.ogg\n"
          ]
        },
        {
          "output_type": "stream",
          "name": "stderr",
          "text": [
            "\r  2%|▏         | 1029/50000 [13:17<9:42:43,  1.40it/s]"
          ]
        },
        {
          "output_type": "stream",
          "name": "stdout",
          "text": [
            "Saved file: /content/drive/MyDrive/dataset/TeamDeepwave/dataset/preprocessed/train/real/VHZAOSRF.png\n",
            "Processing file: /content/drive/MyDrive/dataset/TeamDeepwave/dataset/open/./train/SFLWYAOJ.ogg\n"
          ]
        },
        {
          "output_type": "stream",
          "name": "stderr",
          "text": [
            "\r  2%|▏         | 1030/50000 [13:18<9:55:09,  1.37it/s]"
          ]
        },
        {
          "output_type": "stream",
          "name": "stdout",
          "text": [
            "Saved file: /content/drive/MyDrive/dataset/TeamDeepwave/dataset/preprocessed/train/real/SFLWYAOJ.png\n",
            "Processing file: /content/drive/MyDrive/dataset/TeamDeepwave/dataset/open/./train/LHDQMQKW.ogg\n"
          ]
        },
        {
          "output_type": "stream",
          "name": "stderr",
          "text": [
            "\r  2%|▏         | 1031/50000 [13:18<9:45:44,  1.39it/s]"
          ]
        },
        {
          "output_type": "stream",
          "name": "stdout",
          "text": [
            "Saved file: /content/drive/MyDrive/dataset/TeamDeepwave/dataset/preprocessed/train/real/LHDQMQKW.png\n",
            "Processing file: /content/drive/MyDrive/dataset/TeamDeepwave/dataset/open/./train/SRCPUPVE.ogg\n"
          ]
        },
        {
          "output_type": "stream",
          "name": "stderr",
          "text": [
            "\r  2%|▏         | 1032/50000 [13:19<10:18:19,  1.32it/s]"
          ]
        },
        {
          "output_type": "stream",
          "name": "stdout",
          "text": [
            "Saved file: /content/drive/MyDrive/dataset/TeamDeepwave/dataset/preprocessed/train/fake/SRCPUPVE.png\n",
            "Processing file: /content/drive/MyDrive/dataset/TeamDeepwave/dataset/open/./train/GZRHHHIU.ogg\n"
          ]
        },
        {
          "output_type": "stream",
          "name": "stderr",
          "text": [
            "\r  2%|▏         | 1033/50000 [13:20<10:39:33,  1.28it/s]"
          ]
        },
        {
          "output_type": "stream",
          "name": "stdout",
          "text": [
            "Saved file: /content/drive/MyDrive/dataset/TeamDeepwave/dataset/preprocessed/train/fake/GZRHHHIU.png\n",
            "Processing file: /content/drive/MyDrive/dataset/TeamDeepwave/dataset/open/./train/HWSWMGBE.ogg\n"
          ]
        },
        {
          "output_type": "stream",
          "name": "stderr",
          "text": [
            "\r  2%|▏         | 1034/50000 [13:21<11:02:38,  1.23it/s]"
          ]
        },
        {
          "output_type": "stream",
          "name": "stdout",
          "text": [
            "Saved file: /content/drive/MyDrive/dataset/TeamDeepwave/dataset/preprocessed/train/fake/HWSWMGBE.png\n",
            "Processing file: /content/drive/MyDrive/dataset/TeamDeepwave/dataset/open/./train/CMTBUZVQ.ogg\n"
          ]
        },
        {
          "output_type": "stream",
          "name": "stderr",
          "text": [
            "\r  2%|▏         | 1035/50000 [13:22<11:22:22,  1.20it/s]"
          ]
        },
        {
          "output_type": "stream",
          "name": "stdout",
          "text": [
            "Saved file: /content/drive/MyDrive/dataset/TeamDeepwave/dataset/preprocessed/train/real/CMTBUZVQ.png\n",
            "Processing file: /content/drive/MyDrive/dataset/TeamDeepwave/dataset/open/./train/SMFMRWDI.ogg\n"
          ]
        },
        {
          "output_type": "stream",
          "name": "stderr",
          "text": [
            "\r  2%|▏         | 1036/50000 [13:22<10:32:38,  1.29it/s]"
          ]
        },
        {
          "output_type": "stream",
          "name": "stdout",
          "text": [
            "Saved file: /content/drive/MyDrive/dataset/TeamDeepwave/dataset/preprocessed/train/fake/SMFMRWDI.png\n",
            "Processing file: /content/drive/MyDrive/dataset/TeamDeepwave/dataset/open/./train/VCOXBYYG.ogg\n"
          ]
        },
        {
          "output_type": "stream",
          "name": "stderr",
          "text": [
            "\r  2%|▏         | 1037/50000 [13:23<10:25:30,  1.30it/s]"
          ]
        },
        {
          "output_type": "stream",
          "name": "stdout",
          "text": [
            "Saved file: /content/drive/MyDrive/dataset/TeamDeepwave/dataset/preprocessed/train/real/VCOXBYYG.png\n",
            "Processing file: /content/drive/MyDrive/dataset/TeamDeepwave/dataset/open/./train/TYRPZOVP.ogg\n"
          ]
        },
        {
          "output_type": "stream",
          "name": "stderr",
          "text": [
            "\r  2%|▏         | 1038/50000 [13:24<10:02:02,  1.36it/s]"
          ]
        },
        {
          "output_type": "stream",
          "name": "stdout",
          "text": [
            "Saved file: /content/drive/MyDrive/dataset/TeamDeepwave/dataset/preprocessed/train/real/TYRPZOVP.png\n",
            "Processing file: /content/drive/MyDrive/dataset/TeamDeepwave/dataset/open/./train/CBGVNYCD.ogg\n"
          ]
        },
        {
          "output_type": "stream",
          "name": "stderr",
          "text": [
            "\r  2%|▏         | 1039/50000 [13:25<10:00:27,  1.36it/s]"
          ]
        },
        {
          "output_type": "stream",
          "name": "stdout",
          "text": [
            "Saved file: /content/drive/MyDrive/dataset/TeamDeepwave/dataset/preprocessed/train/real/CBGVNYCD.png\n",
            "Processing file: /content/drive/MyDrive/dataset/TeamDeepwave/dataset/open/./train/HVQAADAS.ogg\n"
          ]
        },
        {
          "output_type": "stream",
          "name": "stderr",
          "text": [
            "\r  2%|▏         | 1040/50000 [13:25<9:44:59,  1.39it/s] "
          ]
        },
        {
          "output_type": "stream",
          "name": "stdout",
          "text": [
            "Saved file: /content/drive/MyDrive/dataset/TeamDeepwave/dataset/preprocessed/train/real/HVQAADAS.png\n",
            "Processing file: /content/drive/MyDrive/dataset/TeamDeepwave/dataset/open/./train/KCMQUVTJ.ogg\n"
          ]
        },
        {
          "output_type": "stream",
          "name": "stderr",
          "text": [
            "\r  2%|▏         | 1041/50000 [13:26<9:23:50,  1.45it/s]"
          ]
        },
        {
          "output_type": "stream",
          "name": "stdout",
          "text": [
            "Saved file: /content/drive/MyDrive/dataset/TeamDeepwave/dataset/preprocessed/train/real/KCMQUVTJ.png\n",
            "Processing file: /content/drive/MyDrive/dataset/TeamDeepwave/dataset/open/./train/PBRVOXNF.ogg\n"
          ]
        },
        {
          "output_type": "stream",
          "name": "stderr",
          "text": [
            "\r  2%|▏         | 1042/50000 [13:27<9:43:24,  1.40it/s]"
          ]
        },
        {
          "output_type": "stream",
          "name": "stdout",
          "text": [
            "Saved file: /content/drive/MyDrive/dataset/TeamDeepwave/dataset/preprocessed/train/fake/PBRVOXNF.png\n",
            "Processing file: /content/drive/MyDrive/dataset/TeamDeepwave/dataset/open/./train/PYRKECVB.ogg\n"
          ]
        },
        {
          "output_type": "stream",
          "name": "stderr",
          "text": [
            "\r  2%|▏         | 1043/50000 [13:27<9:32:19,  1.43it/s]"
          ]
        },
        {
          "output_type": "stream",
          "name": "stdout",
          "text": [
            "Saved file: /content/drive/MyDrive/dataset/TeamDeepwave/dataset/preprocessed/train/real/PYRKECVB.png\n",
            "Processing file: /content/drive/MyDrive/dataset/TeamDeepwave/dataset/open/./train/TKYJDDBE.ogg\n"
          ]
        },
        {
          "output_type": "stream",
          "name": "stderr",
          "text": [
            "\r  2%|▏         | 1044/50000 [13:28<9:58:17,  1.36it/s]"
          ]
        },
        {
          "output_type": "stream",
          "name": "stdout",
          "text": [
            "Saved file: /content/drive/MyDrive/dataset/TeamDeepwave/dataset/preprocessed/train/real/TKYJDDBE.png\n",
            "Processing file: /content/drive/MyDrive/dataset/TeamDeepwave/dataset/open/./train/TQMAFESA.ogg\n"
          ]
        },
        {
          "output_type": "stream",
          "name": "stderr",
          "text": [
            "\r  2%|▏         | 1045/50000 [13:29<9:54:48,  1.37it/s]"
          ]
        },
        {
          "output_type": "stream",
          "name": "stdout",
          "text": [
            "Saved file: /content/drive/MyDrive/dataset/TeamDeepwave/dataset/preprocessed/train/real/TQMAFESA.png\n",
            "Processing file: /content/drive/MyDrive/dataset/TeamDeepwave/dataset/open/./train/SFNPYRFM.ogg\n"
          ]
        },
        {
          "output_type": "stream",
          "name": "stderr",
          "text": [
            "\r  2%|▏         | 1046/50000 [13:29<9:27:01,  1.44it/s]"
          ]
        },
        {
          "output_type": "stream",
          "name": "stdout",
          "text": [
            "Saved file: /content/drive/MyDrive/dataset/TeamDeepwave/dataset/preprocessed/train/fake/SFNPYRFM.png\n",
            "Processing file: /content/drive/MyDrive/dataset/TeamDeepwave/dataset/open/./train/PCWYIBWQ.ogg\n"
          ]
        },
        {
          "output_type": "stream",
          "name": "stderr",
          "text": [
            "\r  2%|▏         | 1047/50000 [13:31<10:58:19,  1.24it/s]"
          ]
        },
        {
          "output_type": "stream",
          "name": "stdout",
          "text": [
            "Saved file: /content/drive/MyDrive/dataset/TeamDeepwave/dataset/preprocessed/train/fake/PCWYIBWQ.png\n",
            "Processing file: /content/drive/MyDrive/dataset/TeamDeepwave/dataset/open/./train/ZLJZXGER.ogg\n"
          ]
        },
        {
          "output_type": "stream",
          "name": "stderr",
          "text": [
            "\r  2%|▏         | 1048/50000 [13:31<10:21:53,  1.31it/s]"
          ]
        },
        {
          "output_type": "stream",
          "name": "stdout",
          "text": [
            "Saved file: /content/drive/MyDrive/dataset/TeamDeepwave/dataset/preprocessed/train/fake/ZLJZXGER.png\n",
            "Processing file: /content/drive/MyDrive/dataset/TeamDeepwave/dataset/open/./train/JYJGOGAX.ogg\n"
          ]
        },
        {
          "output_type": "stream",
          "name": "stderr",
          "text": [
            "\r  2%|▏         | 1049/50000 [13:32<9:55:00,  1.37it/s] "
          ]
        },
        {
          "output_type": "stream",
          "name": "stdout",
          "text": [
            "Saved file: /content/drive/MyDrive/dataset/TeamDeepwave/dataset/preprocessed/train/real/JYJGOGAX.png\n",
            "Processing file: /content/drive/MyDrive/dataset/TeamDeepwave/dataset/open/./train/CFLCJKOC.ogg\n"
          ]
        },
        {
          "output_type": "stream",
          "name": "stderr",
          "text": [
            "\r  2%|▏         | 1050/50000 [13:33<9:45:57,  1.39it/s]"
          ]
        },
        {
          "output_type": "stream",
          "name": "stdout",
          "text": [
            "Saved file: /content/drive/MyDrive/dataset/TeamDeepwave/dataset/preprocessed/train/fake/CFLCJKOC.png\n",
            "Processing file: /content/drive/MyDrive/dataset/TeamDeepwave/dataset/open/./train/AZSVEJNP.ogg\n"
          ]
        },
        {
          "output_type": "stream",
          "name": "stderr",
          "text": [
            "\r  2%|▏         | 1051/50000 [13:34<11:09:07,  1.22it/s]"
          ]
        },
        {
          "output_type": "stream",
          "name": "stdout",
          "text": [
            "Saved file: /content/drive/MyDrive/dataset/TeamDeepwave/dataset/preprocessed/train/real/AZSVEJNP.png\n",
            "Processing file: /content/drive/MyDrive/dataset/TeamDeepwave/dataset/open/./train/BRIMCRMG.ogg\n"
          ]
        },
        {
          "output_type": "stream",
          "name": "stderr",
          "text": [
            "\r  2%|▏         | 1052/50000 [13:35<11:28:29,  1.18it/s]"
          ]
        },
        {
          "output_type": "stream",
          "name": "stdout",
          "text": [
            "Saved file: /content/drive/MyDrive/dataset/TeamDeepwave/dataset/preprocessed/train/real/BRIMCRMG.png\n",
            "Processing file: /content/drive/MyDrive/dataset/TeamDeepwave/dataset/open/./train/CUYCGXGO.ogg\n"
          ]
        },
        {
          "output_type": "stream",
          "name": "stderr",
          "text": [
            "\r  2%|▏         | 1053/50000 [13:35<11:41:45,  1.16it/s]"
          ]
        },
        {
          "output_type": "stream",
          "name": "stdout",
          "text": [
            "Saved file: /content/drive/MyDrive/dataset/TeamDeepwave/dataset/preprocessed/train/fake/CUYCGXGO.png\n",
            "Processing file: /content/drive/MyDrive/dataset/TeamDeepwave/dataset/open/./train/OLKZLSQZ.ogg\n"
          ]
        },
        {
          "output_type": "stream",
          "name": "stderr",
          "text": [
            "\r  2%|▏         | 1054/50000 [13:36<11:41:58,  1.16it/s]"
          ]
        },
        {
          "output_type": "stream",
          "name": "stdout",
          "text": [
            "Saved file: /content/drive/MyDrive/dataset/TeamDeepwave/dataset/preprocessed/train/real/OLKZLSQZ.png\n",
            "Processing file: /content/drive/MyDrive/dataset/TeamDeepwave/dataset/open/./train/MZWCIUVQ.ogg\n"
          ]
        },
        {
          "output_type": "stream",
          "name": "stderr",
          "text": [
            "\r  2%|▏         | 1055/50000 [13:37<11:02:23,  1.23it/s]"
          ]
        },
        {
          "output_type": "stream",
          "name": "stdout",
          "text": [
            "Saved file: /content/drive/MyDrive/dataset/TeamDeepwave/dataset/preprocessed/train/real/MZWCIUVQ.png\n",
            "Processing file: /content/drive/MyDrive/dataset/TeamDeepwave/dataset/open/./train/LVSTILKC.ogg\n"
          ]
        },
        {
          "output_type": "stream",
          "name": "stderr",
          "text": [
            "\r  2%|▏         | 1056/50000 [13:38<10:16:34,  1.32it/s]"
          ]
        },
        {
          "output_type": "stream",
          "name": "stdout",
          "text": [
            "Saved file: /content/drive/MyDrive/dataset/TeamDeepwave/dataset/preprocessed/train/real/LVSTILKC.png\n",
            "Processing file: /content/drive/MyDrive/dataset/TeamDeepwave/dataset/open/./train/ZPGFBNVH.ogg\n"
          ]
        },
        {
          "output_type": "stream",
          "name": "stderr",
          "text": [
            "\r  2%|▏         | 1057/50000 [13:38<9:35:07,  1.42it/s] "
          ]
        },
        {
          "output_type": "stream",
          "name": "stdout",
          "text": [
            "Saved file: /content/drive/MyDrive/dataset/TeamDeepwave/dataset/preprocessed/train/fake/ZPGFBNVH.png\n",
            "Processing file: /content/drive/MyDrive/dataset/TeamDeepwave/dataset/open/./train/MCTPERSY.ogg\n"
          ]
        },
        {
          "output_type": "stream",
          "name": "stderr",
          "text": [
            "\r  2%|▏         | 1058/50000 [13:39<9:16:56,  1.46it/s]"
          ]
        },
        {
          "output_type": "stream",
          "name": "stdout",
          "text": [
            "Saved file: /content/drive/MyDrive/dataset/TeamDeepwave/dataset/preprocessed/train/fake/MCTPERSY.png\n",
            "Processing file: /content/drive/MyDrive/dataset/TeamDeepwave/dataset/open/./train/CHZIPEKT.ogg\n"
          ]
        },
        {
          "output_type": "stream",
          "name": "stderr",
          "text": [
            "\r  2%|▏         | 1059/50000 [13:39<9:02:53,  1.50it/s]"
          ]
        },
        {
          "output_type": "stream",
          "name": "stdout",
          "text": [
            "Saved file: /content/drive/MyDrive/dataset/TeamDeepwave/dataset/preprocessed/train/fake/CHZIPEKT.png\n",
            "Processing file: /content/drive/MyDrive/dataset/TeamDeepwave/dataset/open/./train/BCALYDOH.ogg\n"
          ]
        },
        {
          "output_type": "stream",
          "name": "stderr",
          "text": [
            "\r  2%|▏         | 1060/50000 [13:40<9:55:08,  1.37it/s]"
          ]
        },
        {
          "output_type": "stream",
          "name": "stdout",
          "text": [
            "Saved file: /content/drive/MyDrive/dataset/TeamDeepwave/dataset/preprocessed/train/real/BCALYDOH.png\n",
            "Processing file: /content/drive/MyDrive/dataset/TeamDeepwave/dataset/open/./train/RSTKFSHD.ogg\n"
          ]
        },
        {
          "output_type": "stream",
          "name": "stderr",
          "text": [
            "\r  2%|▏         | 1061/50000 [13:41<9:55:33,  1.37it/s]"
          ]
        },
        {
          "output_type": "stream",
          "name": "stdout",
          "text": [
            "Saved file: /content/drive/MyDrive/dataset/TeamDeepwave/dataset/preprocessed/train/real/RSTKFSHD.png\n",
            "Processing file: /content/drive/MyDrive/dataset/TeamDeepwave/dataset/open/./train/ZEQZRPYI.ogg\n"
          ]
        },
        {
          "output_type": "stream",
          "name": "stderr",
          "text": [
            "\r  2%|▏         | 1062/50000 [13:42<9:25:14,  1.44it/s]"
          ]
        },
        {
          "output_type": "stream",
          "name": "stdout",
          "text": [
            "Saved file: /content/drive/MyDrive/dataset/TeamDeepwave/dataset/preprocessed/train/real/ZEQZRPYI.png\n",
            "Processing file: /content/drive/MyDrive/dataset/TeamDeepwave/dataset/open/./train/GPSJVAUV.ogg\n"
          ]
        },
        {
          "output_type": "stream",
          "name": "stderr",
          "text": [
            "\r  2%|▏         | 1063/50000 [13:42<9:00:53,  1.51it/s]"
          ]
        },
        {
          "output_type": "stream",
          "name": "stdout",
          "text": [
            "Saved file: /content/drive/MyDrive/dataset/TeamDeepwave/dataset/preprocessed/train/fake/GPSJVAUV.png\n",
            "Processing file: /content/drive/MyDrive/dataset/TeamDeepwave/dataset/open/./train/LILWAFFK.ogg\n"
          ]
        },
        {
          "output_type": "stream",
          "name": "stderr",
          "text": [
            "\r  2%|▏         | 1064/50000 [13:43<8:54:43,  1.53it/s]"
          ]
        },
        {
          "output_type": "stream",
          "name": "stdout",
          "text": [
            "Saved file: /content/drive/MyDrive/dataset/TeamDeepwave/dataset/preprocessed/train/fake/LILWAFFK.png\n",
            "Processing file: /content/drive/MyDrive/dataset/TeamDeepwave/dataset/open/./train/KWMUMOPF.ogg\n"
          ]
        },
        {
          "output_type": "stream",
          "name": "stderr",
          "text": [
            "\r  2%|▏         | 1065/50000 [13:44<8:57:05,  1.52it/s]"
          ]
        },
        {
          "output_type": "stream",
          "name": "stdout",
          "text": [
            "Saved file: /content/drive/MyDrive/dataset/TeamDeepwave/dataset/preprocessed/train/real/KWMUMOPF.png\n",
            "Processing file: /content/drive/MyDrive/dataset/TeamDeepwave/dataset/open/./train/MLSJDGIV.ogg\n"
          ]
        },
        {
          "output_type": "stream",
          "name": "stderr",
          "text": [
            "\r  2%|▏         | 1066/50000 [13:44<8:40:44,  1.57it/s]"
          ]
        },
        {
          "output_type": "stream",
          "name": "stdout",
          "text": [
            "Saved file: /content/drive/MyDrive/dataset/TeamDeepwave/dataset/preprocessed/train/fake/MLSJDGIV.png\n",
            "Processing file: /content/drive/MyDrive/dataset/TeamDeepwave/dataset/open/./train/BCOGUOVK.ogg\n"
          ]
        },
        {
          "output_type": "stream",
          "name": "stderr",
          "text": [
            "\r  2%|▏         | 1067/50000 [13:45<9:00:59,  1.51it/s]"
          ]
        },
        {
          "output_type": "stream",
          "name": "stdout",
          "text": [
            "Saved file: /content/drive/MyDrive/dataset/TeamDeepwave/dataset/preprocessed/train/fake/BCOGUOVK.png\n",
            "Processing file: /content/drive/MyDrive/dataset/TeamDeepwave/dataset/open/./train/OMQDGHYH.ogg\n"
          ]
        },
        {
          "output_type": "stream",
          "name": "stderr",
          "text": [
            "\r  2%|▏         | 1068/50000 [13:46<9:19:15,  1.46it/s]"
          ]
        },
        {
          "output_type": "stream",
          "name": "stdout",
          "text": [
            "Saved file: /content/drive/MyDrive/dataset/TeamDeepwave/dataset/preprocessed/train/fake/OMQDGHYH.png\n",
            "Processing file: /content/drive/MyDrive/dataset/TeamDeepwave/dataset/open/./train/ZMFRITVU.ogg\n"
          ]
        },
        {
          "output_type": "stream",
          "name": "stderr",
          "text": [
            "\r  2%|▏         | 1069/50000 [13:47<10:08:33,  1.34it/s]"
          ]
        },
        {
          "output_type": "stream",
          "name": "stdout",
          "text": [
            "Saved file: /content/drive/MyDrive/dataset/TeamDeepwave/dataset/preprocessed/train/real/ZMFRITVU.png\n",
            "Processing file: /content/drive/MyDrive/dataset/TeamDeepwave/dataset/open/./train/FNDANDLF.ogg\n"
          ]
        },
        {
          "output_type": "stream",
          "name": "stderr",
          "text": [
            "\r  2%|▏         | 1070/50000 [13:47<10:46:55,  1.26it/s]"
          ]
        },
        {
          "output_type": "stream",
          "name": "stdout",
          "text": [
            "Saved file: /content/drive/MyDrive/dataset/TeamDeepwave/dataset/preprocessed/train/fake/FNDANDLF.png\n",
            "Processing file: /content/drive/MyDrive/dataset/TeamDeepwave/dataset/open/./train/OWVSICIL.ogg\n"
          ]
        },
        {
          "output_type": "stream",
          "name": "stderr",
          "text": [
            "\r  2%|▏         | 1071/50000 [13:48<10:52:04,  1.25it/s]"
          ]
        },
        {
          "output_type": "stream",
          "name": "stdout",
          "text": [
            "Saved file: /content/drive/MyDrive/dataset/TeamDeepwave/dataset/preprocessed/train/fake/OWVSICIL.png\n",
            "Processing file: /content/drive/MyDrive/dataset/TeamDeepwave/dataset/open/./train/OTVXEUQG.ogg\n"
          ]
        },
        {
          "output_type": "stream",
          "name": "stderr",
          "text": [
            "\r  2%|▏         | 1072/50000 [13:49<10:46:37,  1.26it/s]"
          ]
        },
        {
          "output_type": "stream",
          "name": "stdout",
          "text": [
            "Saved file: /content/drive/MyDrive/dataset/TeamDeepwave/dataset/preprocessed/train/real/OTVXEUQG.png\n",
            "Processing file: /content/drive/MyDrive/dataset/TeamDeepwave/dataset/open/./train/VPTZAJUP.ogg\n"
          ]
        },
        {
          "output_type": "stream",
          "name": "stderr",
          "text": [
            "\r  2%|▏         | 1073/50000 [13:50<11:26:47,  1.19it/s]"
          ]
        },
        {
          "output_type": "stream",
          "name": "stdout",
          "text": [
            "Saved file: /content/drive/MyDrive/dataset/TeamDeepwave/dataset/preprocessed/train/fake/VPTZAJUP.png\n",
            "Processing file: /content/drive/MyDrive/dataset/TeamDeepwave/dataset/open/./train/TCBGMFPL.ogg\n"
          ]
        },
        {
          "output_type": "stream",
          "name": "stderr",
          "text": [
            "\r  2%|▏         | 1074/50000 [13:51<10:22:58,  1.31it/s]"
          ]
        },
        {
          "output_type": "stream",
          "name": "stdout",
          "text": [
            "Saved file: /content/drive/MyDrive/dataset/TeamDeepwave/dataset/preprocessed/train/real/TCBGMFPL.png\n",
            "Processing file: /content/drive/MyDrive/dataset/TeamDeepwave/dataset/open/./train/MEBWPUPB.ogg\n"
          ]
        },
        {
          "output_type": "stream",
          "name": "stderr",
          "text": [
            "\r  2%|▏         | 1075/50000 [13:51<9:47:13,  1.39it/s] "
          ]
        },
        {
          "output_type": "stream",
          "name": "stdout",
          "text": [
            "Saved file: /content/drive/MyDrive/dataset/TeamDeepwave/dataset/preprocessed/train/fake/MEBWPUPB.png\n",
            "Processing file: /content/drive/MyDrive/dataset/TeamDeepwave/dataset/open/./train/JCVFEZRC.ogg\n"
          ]
        },
        {
          "output_type": "stream",
          "name": "stderr",
          "text": [
            "\r  2%|▏         | 1076/50000 [13:52<9:35:37,  1.42it/s]"
          ]
        },
        {
          "output_type": "stream",
          "name": "stdout",
          "text": [
            "Saved file: /content/drive/MyDrive/dataset/TeamDeepwave/dataset/preprocessed/train/real/JCVFEZRC.png\n",
            "Processing file: /content/drive/MyDrive/dataset/TeamDeepwave/dataset/open/./train/JPWVOVRY.ogg\n"
          ]
        },
        {
          "output_type": "stream",
          "name": "stderr",
          "text": [
            "\r  2%|▏         | 1077/50000 [13:52<9:25:04,  1.44it/s]"
          ]
        },
        {
          "output_type": "stream",
          "name": "stdout",
          "text": [
            "Saved file: /content/drive/MyDrive/dataset/TeamDeepwave/dataset/preprocessed/train/fake/JPWVOVRY.png\n",
            "Processing file: /content/drive/MyDrive/dataset/TeamDeepwave/dataset/open/./train/PIYYGRKG.ogg\n"
          ]
        },
        {
          "output_type": "stream",
          "name": "stderr",
          "text": [
            "\r  2%|▏         | 1078/50000 [13:53<9:16:59,  1.46it/s]"
          ]
        },
        {
          "output_type": "stream",
          "name": "stdout",
          "text": [
            "Saved file: /content/drive/MyDrive/dataset/TeamDeepwave/dataset/preprocessed/train/real/PIYYGRKG.png\n",
            "Processing file: /content/drive/MyDrive/dataset/TeamDeepwave/dataset/open/./train/HLPBPMLZ.ogg\n"
          ]
        },
        {
          "output_type": "stream",
          "name": "stderr",
          "text": [
            "\r  2%|▏         | 1079/50000 [13:54<9:06:51,  1.49it/s]"
          ]
        },
        {
          "output_type": "stream",
          "name": "stdout",
          "text": [
            "Saved file: /content/drive/MyDrive/dataset/TeamDeepwave/dataset/preprocessed/train/fake/HLPBPMLZ.png\n",
            "Processing file: /content/drive/MyDrive/dataset/TeamDeepwave/dataset/open/./train/VQRQHDOA.ogg\n"
          ]
        },
        {
          "output_type": "stream",
          "name": "stderr",
          "text": [
            "\r  2%|▏         | 1080/50000 [13:54<9:05:30,  1.49it/s]"
          ]
        },
        {
          "output_type": "stream",
          "name": "stdout",
          "text": [
            "Saved file: /content/drive/MyDrive/dataset/TeamDeepwave/dataset/preprocessed/train/real/VQRQHDOA.png\n",
            "Processing file: /content/drive/MyDrive/dataset/TeamDeepwave/dataset/open/./train/MLAMVMKM.ogg\n"
          ]
        },
        {
          "output_type": "stream",
          "name": "stderr",
          "text": [
            "\r  2%|▏         | 1081/50000 [13:55<9:11:12,  1.48it/s]"
          ]
        },
        {
          "output_type": "stream",
          "name": "stdout",
          "text": [
            "Saved file: /content/drive/MyDrive/dataset/TeamDeepwave/dataset/preprocessed/train/real/MLAMVMKM.png\n",
            "Processing file: /content/drive/MyDrive/dataset/TeamDeepwave/dataset/open/./train/UHDBQSVE.ogg\n"
          ]
        },
        {
          "output_type": "stream",
          "name": "stderr",
          "text": [
            "\r  2%|▏         | 1082/50000 [13:56<9:18:42,  1.46it/s]"
          ]
        },
        {
          "output_type": "stream",
          "name": "stdout",
          "text": [
            "Saved file: /content/drive/MyDrive/dataset/TeamDeepwave/dataset/preprocessed/train/fake/UHDBQSVE.png\n",
            "Processing file: /content/drive/MyDrive/dataset/TeamDeepwave/dataset/open/./train/RWNPEYDR.ogg\n"
          ]
        },
        {
          "output_type": "stream",
          "name": "stderr",
          "text": [
            "\r  2%|▏         | 1083/50000 [13:56<8:54:03,  1.53it/s]"
          ]
        },
        {
          "output_type": "stream",
          "name": "stdout",
          "text": [
            "Saved file: /content/drive/MyDrive/dataset/TeamDeepwave/dataset/preprocessed/train/fake/RWNPEYDR.png\n",
            "Processing file: /content/drive/MyDrive/dataset/TeamDeepwave/dataset/open/./train/NIVTSTSL.ogg\n"
          ]
        },
        {
          "output_type": "stream",
          "name": "stderr",
          "text": [
            "\r  2%|▏         | 1084/50000 [13:57<9:00:34,  1.51it/s]"
          ]
        },
        {
          "output_type": "stream",
          "name": "stdout",
          "text": [
            "Saved file: /content/drive/MyDrive/dataset/TeamDeepwave/dataset/preprocessed/train/fake/NIVTSTSL.png\n",
            "Processing file: /content/drive/MyDrive/dataset/TeamDeepwave/dataset/open/./train/ITUZIFGZ.ogg\n"
          ]
        },
        {
          "output_type": "stream",
          "name": "stderr",
          "text": [
            "\r  2%|▏         | 1085/50000 [13:58<8:47:43,  1.54it/s]"
          ]
        },
        {
          "output_type": "stream",
          "name": "stdout",
          "text": [
            "Saved file: /content/drive/MyDrive/dataset/TeamDeepwave/dataset/preprocessed/train/real/ITUZIFGZ.png\n",
            "Processing file: /content/drive/MyDrive/dataset/TeamDeepwave/dataset/open/./train/YTNCUKXC.ogg\n"
          ]
        },
        {
          "output_type": "stream",
          "name": "stderr",
          "text": [
            "\r  2%|▏         | 1086/50000 [13:59<9:24:32,  1.44it/s]"
          ]
        },
        {
          "output_type": "stream",
          "name": "stdout",
          "text": [
            "Saved file: /content/drive/MyDrive/dataset/TeamDeepwave/dataset/preprocessed/train/real/YTNCUKXC.png\n",
            "Processing file: /content/drive/MyDrive/dataset/TeamDeepwave/dataset/open/./train/LFYQJLGU.ogg\n"
          ]
        },
        {
          "output_type": "stream",
          "name": "stderr",
          "text": [
            "\r  2%|▏         | 1087/50000 [13:59<9:17:28,  1.46it/s]"
          ]
        },
        {
          "output_type": "stream",
          "name": "stdout",
          "text": [
            "Saved file: /content/drive/MyDrive/dataset/TeamDeepwave/dataset/preprocessed/train/fake/LFYQJLGU.png\n",
            "Processing file: /content/drive/MyDrive/dataset/TeamDeepwave/dataset/open/./train/QWUMYTDD.ogg\n"
          ]
        },
        {
          "output_type": "stream",
          "name": "stderr",
          "text": [
            "\r  2%|▏         | 1088/50000 [14:00<9:52:37,  1.38it/s]"
          ]
        },
        {
          "output_type": "stream",
          "name": "stdout",
          "text": [
            "Saved file: /content/drive/MyDrive/dataset/TeamDeepwave/dataset/preprocessed/train/real/QWUMYTDD.png\n",
            "Processing file: /content/drive/MyDrive/dataset/TeamDeepwave/dataset/open/./train/KDNMKPLS.ogg\n"
          ]
        },
        {
          "output_type": "stream",
          "name": "stderr",
          "text": [
            "\r  2%|▏         | 1089/50000 [14:01<10:11:00,  1.33it/s]"
          ]
        },
        {
          "output_type": "stream",
          "name": "stdout",
          "text": [
            "Saved file: /content/drive/MyDrive/dataset/TeamDeepwave/dataset/preprocessed/train/fake/KDNMKPLS.png\n",
            "Processing file: /content/drive/MyDrive/dataset/TeamDeepwave/dataset/open/./train/COGJWDLN.ogg\n"
          ]
        },
        {
          "output_type": "stream",
          "name": "stderr",
          "text": [
            "\r  2%|▏         | 1090/50000 [14:02<10:43:32,  1.27it/s]"
          ]
        },
        {
          "output_type": "stream",
          "name": "stdout",
          "text": [
            "Saved file: /content/drive/MyDrive/dataset/TeamDeepwave/dataset/preprocessed/train/real/COGJWDLN.png\n",
            "Processing file: /content/drive/MyDrive/dataset/TeamDeepwave/dataset/open/./train/TCXNOVJY.ogg\n"
          ]
        },
        {
          "output_type": "stream",
          "name": "stderr",
          "text": [
            "\r  2%|▏         | 1091/50000 [14:03<10:52:01,  1.25it/s]"
          ]
        },
        {
          "output_type": "stream",
          "name": "stdout",
          "text": [
            "Saved file: /content/drive/MyDrive/dataset/TeamDeepwave/dataset/preprocessed/train/fake/TCXNOVJY.png\n",
            "Processing file: /content/drive/MyDrive/dataset/TeamDeepwave/dataset/open/./train/SPXDZZLM.ogg\n"
          ]
        },
        {
          "output_type": "stream",
          "name": "stderr",
          "text": [
            "\r  2%|▏         | 1092/50000 [14:04<12:12:42,  1.11it/s]"
          ]
        },
        {
          "output_type": "stream",
          "name": "stdout",
          "text": [
            "Saved file: /content/drive/MyDrive/dataset/TeamDeepwave/dataset/preprocessed/train/real/SPXDZZLM.png\n",
            "Processing file: /content/drive/MyDrive/dataset/TeamDeepwave/dataset/open/./train/OLVKBIWQ.ogg\n"
          ]
        },
        {
          "output_type": "stream",
          "name": "stderr",
          "text": [
            "\r  2%|▏         | 1093/50000 [14:04<11:38:12,  1.17it/s]"
          ]
        },
        {
          "output_type": "stream",
          "name": "stdout",
          "text": [
            "Saved file: /content/drive/MyDrive/dataset/TeamDeepwave/dataset/preprocessed/train/real/OLVKBIWQ.png\n",
            "Processing file: /content/drive/MyDrive/dataset/TeamDeepwave/dataset/open/./train/ZAGYWBZF.ogg\n"
          ]
        },
        {
          "output_type": "stream",
          "name": "stderr",
          "text": [
            "\r  2%|▏         | 1094/50000 [14:05<10:44:16,  1.27it/s]"
          ]
        },
        {
          "output_type": "stream",
          "name": "stdout",
          "text": [
            "Saved file: /content/drive/MyDrive/dataset/TeamDeepwave/dataset/preprocessed/train/real/ZAGYWBZF.png\n",
            "Processing file: /content/drive/MyDrive/dataset/TeamDeepwave/dataset/open/./train/JDBKAJUX.ogg\n"
          ]
        },
        {
          "output_type": "stream",
          "name": "stderr",
          "text": [
            "\r  2%|▏         | 1095/50000 [14:06<10:12:28,  1.33it/s]"
          ]
        },
        {
          "output_type": "stream",
          "name": "stdout",
          "text": [
            "Saved file: /content/drive/MyDrive/dataset/TeamDeepwave/dataset/preprocessed/train/real/JDBKAJUX.png\n",
            "Processing file: /content/drive/MyDrive/dataset/TeamDeepwave/dataset/open/./train/ZYBTKPID.ogg\n"
          ]
        },
        {
          "output_type": "stream",
          "name": "stderr",
          "text": [
            "\r  2%|▏         | 1096/50000 [14:06<9:35:20,  1.42it/s] "
          ]
        },
        {
          "output_type": "stream",
          "name": "stdout",
          "text": [
            "Saved file: /content/drive/MyDrive/dataset/TeamDeepwave/dataset/preprocessed/train/fake/ZYBTKPID.png\n",
            "Processing file: /content/drive/MyDrive/dataset/TeamDeepwave/dataset/open/./train/OMLKGWFO.ogg\n"
          ]
        },
        {
          "output_type": "stream",
          "name": "stderr",
          "text": [
            "\r  2%|▏         | 1097/50000 [14:07<9:25:17,  1.44it/s]"
          ]
        },
        {
          "output_type": "stream",
          "name": "stdout",
          "text": [
            "Saved file: /content/drive/MyDrive/dataset/TeamDeepwave/dataset/preprocessed/train/real/OMLKGWFO.png\n",
            "Processing file: /content/drive/MyDrive/dataset/TeamDeepwave/dataset/open/./train/ZLTAOGBR.ogg\n"
          ]
        },
        {
          "output_type": "stream",
          "name": "stderr",
          "text": [
            "\r  2%|▏         | 1098/50000 [14:08<9:19:09,  1.46it/s]"
          ]
        },
        {
          "output_type": "stream",
          "name": "stdout",
          "text": [
            "Saved file: /content/drive/MyDrive/dataset/TeamDeepwave/dataset/preprocessed/train/fake/ZLTAOGBR.png\n",
            "Processing file: /content/drive/MyDrive/dataset/TeamDeepwave/dataset/open/./train/BUAUKGFZ.ogg\n"
          ]
        },
        {
          "output_type": "stream",
          "name": "stderr",
          "text": [
            "\r  2%|▏         | 1099/50000 [14:08<9:13:41,  1.47it/s]"
          ]
        },
        {
          "output_type": "stream",
          "name": "stdout",
          "text": [
            "Saved file: /content/drive/MyDrive/dataset/TeamDeepwave/dataset/preprocessed/train/real/BUAUKGFZ.png\n",
            "Processing file: /content/drive/MyDrive/dataset/TeamDeepwave/dataset/open/./train/BBMUWZAJ.ogg\n"
          ]
        },
        {
          "output_type": "stream",
          "name": "stderr",
          "text": [
            "\r  2%|▏         | 1100/50000 [14:09<9:04:30,  1.50it/s]"
          ]
        },
        {
          "output_type": "stream",
          "name": "stdout",
          "text": [
            "Saved file: /content/drive/MyDrive/dataset/TeamDeepwave/dataset/preprocessed/train/real/BBMUWZAJ.png\n",
            "Processing file: /content/drive/MyDrive/dataset/TeamDeepwave/dataset/open/./train/IAFZPOKD.ogg\n"
          ]
        },
        {
          "output_type": "stream",
          "name": "stderr",
          "text": [
            "\r  2%|▏         | 1101/50000 [14:10<8:59:17,  1.51it/s]"
          ]
        },
        {
          "output_type": "stream",
          "name": "stdout",
          "text": [
            "Saved file: /content/drive/MyDrive/dataset/TeamDeepwave/dataset/preprocessed/train/fake/IAFZPOKD.png\n",
            "Processing file: /content/drive/MyDrive/dataset/TeamDeepwave/dataset/open/./train/DJYNVCSX.ogg\n"
          ]
        },
        {
          "output_type": "stream",
          "name": "stderr",
          "text": [
            "\r  2%|▏         | 1102/50000 [14:10<9:00:13,  1.51it/s]"
          ]
        },
        {
          "output_type": "stream",
          "name": "stdout",
          "text": [
            "Saved file: /content/drive/MyDrive/dataset/TeamDeepwave/dataset/preprocessed/train/fake/DJYNVCSX.png\n",
            "Processing file: /content/drive/MyDrive/dataset/TeamDeepwave/dataset/open/./train/XKACCRBL.ogg\n"
          ]
        },
        {
          "output_type": "stream",
          "name": "stderr",
          "text": [
            "\r  2%|▏         | 1103/50000 [14:11<9:07:27,  1.49it/s]"
          ]
        },
        {
          "output_type": "stream",
          "name": "stdout",
          "text": [
            "Saved file: /content/drive/MyDrive/dataset/TeamDeepwave/dataset/preprocessed/train/fake/XKACCRBL.png\n",
            "Processing file: /content/drive/MyDrive/dataset/TeamDeepwave/dataset/open/./train/YXBHEMMW.ogg\n"
          ]
        },
        {
          "output_type": "stream",
          "name": "stderr",
          "text": [
            "\r  2%|▏         | 1104/50000 [14:12<8:59:19,  1.51it/s]"
          ]
        },
        {
          "output_type": "stream",
          "name": "stdout",
          "text": [
            "Saved file: /content/drive/MyDrive/dataset/TeamDeepwave/dataset/preprocessed/train/fake/YXBHEMMW.png\n",
            "Processing file: /content/drive/MyDrive/dataset/TeamDeepwave/dataset/open/./train/JNFZIGAS.ogg\n"
          ]
        },
        {
          "output_type": "stream",
          "name": "stderr",
          "text": [
            "\r  2%|▏         | 1105/50000 [14:12<9:20:15,  1.45it/s]"
          ]
        },
        {
          "output_type": "stream",
          "name": "stdout",
          "text": [
            "Saved file: /content/drive/MyDrive/dataset/TeamDeepwave/dataset/preprocessed/train/fake/JNFZIGAS.png\n",
            "Processing file: /content/drive/MyDrive/dataset/TeamDeepwave/dataset/open/./train/TJNKCQDP.ogg\n"
          ]
        },
        {
          "output_type": "stream",
          "name": "stderr",
          "text": [
            "\r  2%|▏         | 1106/50000 [14:13<9:19:35,  1.46it/s]"
          ]
        },
        {
          "output_type": "stream",
          "name": "stdout",
          "text": [
            "Saved file: /content/drive/MyDrive/dataset/TeamDeepwave/dataset/preprocessed/train/fake/TJNKCQDP.png\n",
            "Processing file: /content/drive/MyDrive/dataset/TeamDeepwave/dataset/open/./train/GOGTDDXT.ogg\n"
          ]
        },
        {
          "output_type": "stream",
          "name": "stderr",
          "text": [
            "\r  2%|▏         | 1107/50000 [14:14<9:01:43,  1.50it/s]"
          ]
        },
        {
          "output_type": "stream",
          "name": "stdout",
          "text": [
            "Saved file: /content/drive/MyDrive/dataset/TeamDeepwave/dataset/preprocessed/train/fake/GOGTDDXT.png\n",
            "Processing file: /content/drive/MyDrive/dataset/TeamDeepwave/dataset/open/./train/TTYEGALR.ogg\n"
          ]
        },
        {
          "output_type": "stream",
          "name": "stderr",
          "text": [
            "\r  2%|▏         | 1108/50000 [14:15<10:30:04,  1.29it/s]"
          ]
        },
        {
          "output_type": "stream",
          "name": "stdout",
          "text": [
            "Saved file: /content/drive/MyDrive/dataset/TeamDeepwave/dataset/preprocessed/train/real/TTYEGALR.png\n",
            "Processing file: /content/drive/MyDrive/dataset/TeamDeepwave/dataset/open/./train/TOVGIWTE.ogg\n"
          ]
        },
        {
          "output_type": "stream",
          "name": "stderr",
          "text": [
            "\r  2%|▏         | 1109/50000 [14:16<11:39:03,  1.17it/s]"
          ]
        },
        {
          "output_type": "stream",
          "name": "stdout",
          "text": [
            "Saved file: /content/drive/MyDrive/dataset/TeamDeepwave/dataset/preprocessed/train/real/TOVGIWTE.png\n",
            "Processing file: /content/drive/MyDrive/dataset/TeamDeepwave/dataset/open/./train/QSMRTRRB.ogg\n"
          ]
        },
        {
          "output_type": "stream",
          "name": "stderr",
          "text": [
            "\r  2%|▏         | 1110/50000 [14:17<12:07:56,  1.12it/s]"
          ]
        },
        {
          "output_type": "stream",
          "name": "stdout",
          "text": [
            "Saved file: /content/drive/MyDrive/dataset/TeamDeepwave/dataset/preprocessed/train/fake/QSMRTRRB.png\n",
            "Processing file: /content/drive/MyDrive/dataset/TeamDeepwave/dataset/open/./train/BQIHHXRF.ogg\n"
          ]
        },
        {
          "output_type": "stream",
          "name": "stderr",
          "text": [
            "\r  2%|▏         | 1111/50000 [14:18<12:13:12,  1.11it/s]"
          ]
        },
        {
          "output_type": "stream",
          "name": "stdout",
          "text": [
            "Saved file: /content/drive/MyDrive/dataset/TeamDeepwave/dataset/preprocessed/train/fake/BQIHHXRF.png\n",
            "Processing file: /content/drive/MyDrive/dataset/TeamDeepwave/dataset/open/./train/WZUMNIAF.ogg\n"
          ]
        },
        {
          "output_type": "stream",
          "name": "stderr",
          "text": [
            "\r  2%|▏         | 1112/50000 [14:18<11:31:39,  1.18it/s]"
          ]
        },
        {
          "output_type": "stream",
          "name": "stdout",
          "text": [
            "Saved file: /content/drive/MyDrive/dataset/TeamDeepwave/dataset/preprocessed/train/fake/WZUMNIAF.png\n",
            "Processing file: /content/drive/MyDrive/dataset/TeamDeepwave/dataset/open/./train/CCSSWVYY.ogg\n"
          ]
        },
        {
          "output_type": "stream",
          "name": "stderr",
          "text": [
            "\r  2%|▏         | 1113/50000 [14:19<10:47:44,  1.26it/s]"
          ]
        },
        {
          "output_type": "stream",
          "name": "stdout",
          "text": [
            "Saved file: /content/drive/MyDrive/dataset/TeamDeepwave/dataset/preprocessed/train/real/CCSSWVYY.png\n",
            "Processing file: /content/drive/MyDrive/dataset/TeamDeepwave/dataset/open/./train/TCYHDYAK.ogg\n"
          ]
        },
        {
          "output_type": "stream",
          "name": "stderr",
          "text": [
            "\r  2%|▏         | 1114/50000 [14:20<9:58:52,  1.36it/s] "
          ]
        },
        {
          "output_type": "stream",
          "name": "stdout",
          "text": [
            "Saved file: /content/drive/MyDrive/dataset/TeamDeepwave/dataset/preprocessed/train/fake/TCYHDYAK.png\n",
            "Processing file: /content/drive/MyDrive/dataset/TeamDeepwave/dataset/open/./train/MXUPXOBK.ogg\n"
          ]
        },
        {
          "output_type": "stream",
          "name": "stderr",
          "text": [
            "\r  2%|▏         | 1115/50000 [14:20<9:49:43,  1.38it/s]"
          ]
        },
        {
          "output_type": "stream",
          "name": "stdout",
          "text": [
            "Saved file: /content/drive/MyDrive/dataset/TeamDeepwave/dataset/preprocessed/train/fake/MXUPXOBK.png\n",
            "Processing file: /content/drive/MyDrive/dataset/TeamDeepwave/dataset/open/./train/XFGBLOIB.ogg\n"
          ]
        },
        {
          "output_type": "stream",
          "name": "stderr",
          "text": [
            "\r  2%|▏         | 1116/50000 [14:21<9:29:30,  1.43it/s]"
          ]
        },
        {
          "output_type": "stream",
          "name": "stdout",
          "text": [
            "Saved file: /content/drive/MyDrive/dataset/TeamDeepwave/dataset/preprocessed/train/fake/XFGBLOIB.png\n",
            "Processing file: /content/drive/MyDrive/dataset/TeamDeepwave/dataset/open/./train/KBTAPFGC.ogg\n"
          ]
        },
        {
          "output_type": "stream",
          "name": "stderr",
          "text": [
            "\r  2%|▏         | 1117/50000 [14:22<9:01:58,  1.50it/s]"
          ]
        },
        {
          "output_type": "stream",
          "name": "stdout",
          "text": [
            "Saved file: /content/drive/MyDrive/dataset/TeamDeepwave/dataset/preprocessed/train/fake/KBTAPFGC.png\n",
            "Processing file: /content/drive/MyDrive/dataset/TeamDeepwave/dataset/open/./train/RXQPWXAW.ogg\n"
          ]
        },
        {
          "output_type": "stream",
          "name": "stderr",
          "text": [
            "\r  2%|▏         | 1118/50000 [14:22<8:51:10,  1.53it/s]"
          ]
        },
        {
          "output_type": "stream",
          "name": "stdout",
          "text": [
            "Saved file: /content/drive/MyDrive/dataset/TeamDeepwave/dataset/preprocessed/train/fake/RXQPWXAW.png\n",
            "Processing file: /content/drive/MyDrive/dataset/TeamDeepwave/dataset/open/./train/FMNHASER.ogg\n"
          ]
        },
        {
          "output_type": "stream",
          "name": "stderr",
          "text": [
            "\r  2%|▏         | 1119/50000 [14:23<8:40:18,  1.57it/s]"
          ]
        },
        {
          "output_type": "stream",
          "name": "stdout",
          "text": [
            "Saved file: /content/drive/MyDrive/dataset/TeamDeepwave/dataset/preprocessed/train/fake/FMNHASER.png\n",
            "Processing file: /content/drive/MyDrive/dataset/TeamDeepwave/dataset/open/./train/ZAYIVUER.ogg\n"
          ]
        },
        {
          "output_type": "stream",
          "name": "stderr",
          "text": [
            "\r  2%|▏         | 1120/50000 [14:23<9:01:08,  1.51it/s]"
          ]
        },
        {
          "output_type": "stream",
          "name": "stdout",
          "text": [
            "Saved file: /content/drive/MyDrive/dataset/TeamDeepwave/dataset/preprocessed/train/real/ZAYIVUER.png\n",
            "Processing file: /content/drive/MyDrive/dataset/TeamDeepwave/dataset/open/./train/YTUPREQU.ogg\n"
          ]
        },
        {
          "output_type": "stream",
          "name": "stderr",
          "text": [
            "\r  2%|▏         | 1121/50000 [14:24<8:45:31,  1.55it/s]"
          ]
        },
        {
          "output_type": "stream",
          "name": "stdout",
          "text": [
            "Saved file: /content/drive/MyDrive/dataset/TeamDeepwave/dataset/preprocessed/train/fake/YTUPREQU.png\n",
            "Processing file: /content/drive/MyDrive/dataset/TeamDeepwave/dataset/open/./train/LKLFIDMF.ogg\n"
          ]
        },
        {
          "output_type": "stream",
          "name": "stderr",
          "text": [
            "\r  2%|▏         | 1122/50000 [14:25<8:29:36,  1.60it/s]"
          ]
        },
        {
          "output_type": "stream",
          "name": "stdout",
          "text": [
            "Saved file: /content/drive/MyDrive/dataset/TeamDeepwave/dataset/preprocessed/train/fake/LKLFIDMF.png\n",
            "Processing file: /content/drive/MyDrive/dataset/TeamDeepwave/dataset/open/./train/CZSTTVNA.ogg\n"
          ]
        },
        {
          "output_type": "stream",
          "name": "stderr",
          "text": [
            "\r  2%|▏         | 1123/50000 [14:25<8:43:09,  1.56it/s]"
          ]
        },
        {
          "output_type": "stream",
          "name": "stdout",
          "text": [
            "Saved file: /content/drive/MyDrive/dataset/TeamDeepwave/dataset/preprocessed/train/real/CZSTTVNA.png\n",
            "Processing file: /content/drive/MyDrive/dataset/TeamDeepwave/dataset/open/./train/SCYDYXJR.ogg\n"
          ]
        },
        {
          "output_type": "stream",
          "name": "stderr",
          "text": [
            "\r  2%|▏         | 1124/50000 [14:26<8:25:07,  1.61it/s]"
          ]
        },
        {
          "output_type": "stream",
          "name": "stdout",
          "text": [
            "Saved file: /content/drive/MyDrive/dataset/TeamDeepwave/dataset/preprocessed/train/fake/SCYDYXJR.png\n",
            "Processing file: /content/drive/MyDrive/dataset/TeamDeepwave/dataset/open/./train/HMTPCFSG.ogg\n"
          ]
        },
        {
          "output_type": "stream",
          "name": "stderr",
          "text": [
            "\r  2%|▏         | 1125/50000 [14:27<9:08:27,  1.49it/s]"
          ]
        },
        {
          "output_type": "stream",
          "name": "stdout",
          "text": [
            "Saved file: /content/drive/MyDrive/dataset/TeamDeepwave/dataset/preprocessed/train/fake/HMTPCFSG.png\n",
            "Processing file: /content/drive/MyDrive/dataset/TeamDeepwave/dataset/open/./train/NCGPNJXK.ogg\n"
          ]
        },
        {
          "output_type": "stream",
          "name": "stderr",
          "text": [
            "\r  2%|▏         | 1126/50000 [14:27<8:54:32,  1.52it/s]"
          ]
        },
        {
          "output_type": "stream",
          "name": "stdout",
          "text": [
            "Saved file: /content/drive/MyDrive/dataset/TeamDeepwave/dataset/preprocessed/train/fake/NCGPNJXK.png\n",
            "Processing file: /content/drive/MyDrive/dataset/TeamDeepwave/dataset/open/./train/ZGKLNTDQ.ogg\n"
          ]
        },
        {
          "output_type": "stream",
          "name": "stderr",
          "text": [
            "\r  2%|▏         | 1127/50000 [14:28<8:52:13,  1.53it/s]"
          ]
        },
        {
          "output_type": "stream",
          "name": "stdout",
          "text": [
            "Saved file: /content/drive/MyDrive/dataset/TeamDeepwave/dataset/preprocessed/train/fake/ZGKLNTDQ.png\n",
            "Processing file: /content/drive/MyDrive/dataset/TeamDeepwave/dataset/open/./train/VQNOFTQO.ogg\n"
          ]
        },
        {
          "output_type": "stream",
          "name": "stderr",
          "text": [
            "\r  2%|▏         | 1128/50000 [14:29<9:16:53,  1.46it/s]"
          ]
        },
        {
          "output_type": "stream",
          "name": "stdout",
          "text": [
            "Saved file: /content/drive/MyDrive/dataset/TeamDeepwave/dataset/preprocessed/train/fake/VQNOFTQO.png\n",
            "Processing file: /content/drive/MyDrive/dataset/TeamDeepwave/dataset/open/./train/RIVWKXIH.ogg\n"
          ]
        },
        {
          "output_type": "stream",
          "name": "stderr",
          "text": [
            "\r  2%|▏         | 1129/50000 [14:30<10:01:19,  1.35it/s]"
          ]
        },
        {
          "output_type": "stream",
          "name": "stdout",
          "text": [
            "Saved file: /content/drive/MyDrive/dataset/TeamDeepwave/dataset/preprocessed/train/real/RIVWKXIH.png\n",
            "Processing file: /content/drive/MyDrive/dataset/TeamDeepwave/dataset/open/./train/MEMDQZDB.ogg\n"
          ]
        },
        {
          "output_type": "stream",
          "name": "stderr",
          "text": [
            "\r  2%|▏         | 1130/50000 [14:30<10:27:06,  1.30it/s]"
          ]
        },
        {
          "output_type": "stream",
          "name": "stdout",
          "text": [
            "Saved file: /content/drive/MyDrive/dataset/TeamDeepwave/dataset/preprocessed/train/fake/MEMDQZDB.png\n",
            "Processing file: /content/drive/MyDrive/dataset/TeamDeepwave/dataset/open/./train/QJXLMZQC.ogg\n"
          ]
        },
        {
          "output_type": "stream",
          "name": "stderr",
          "text": [
            "\r  2%|▏         | 1131/50000 [14:31<10:52:21,  1.25it/s]"
          ]
        },
        {
          "output_type": "stream",
          "name": "stdout",
          "text": [
            "Saved file: /content/drive/MyDrive/dataset/TeamDeepwave/dataset/preprocessed/train/real/QJXLMZQC.png\n",
            "Processing file: /content/drive/MyDrive/dataset/TeamDeepwave/dataset/open/./train/DGWKGGTF.ogg\n"
          ]
        },
        {
          "output_type": "stream",
          "name": "stderr",
          "text": [
            "\r  2%|▏         | 1132/50000 [14:32<10:52:54,  1.25it/s]"
          ]
        },
        {
          "output_type": "stream",
          "name": "stdout",
          "text": [
            "Saved file: /content/drive/MyDrive/dataset/TeamDeepwave/dataset/preprocessed/train/real/DGWKGGTF.png\n",
            "Processing file: /content/drive/MyDrive/dataset/TeamDeepwave/dataset/open/./train/GPUFKYUP.ogg\n"
          ]
        },
        {
          "output_type": "stream",
          "name": "stderr",
          "text": [
            "\r  2%|▏         | 1133/50000 [14:33<10:20:49,  1.31it/s]"
          ]
        },
        {
          "output_type": "stream",
          "name": "stdout",
          "text": [
            "Saved file: /content/drive/MyDrive/dataset/TeamDeepwave/dataset/preprocessed/train/fake/GPUFKYUP.png\n",
            "Processing file: /content/drive/MyDrive/dataset/TeamDeepwave/dataset/open/./train/MYOPASVW.ogg\n"
          ]
        },
        {
          "output_type": "stream",
          "name": "stderr",
          "text": [
            "\r  2%|▏         | 1134/50000 [14:33<9:46:05,  1.39it/s] "
          ]
        },
        {
          "output_type": "stream",
          "name": "stdout",
          "text": [
            "Saved file: /content/drive/MyDrive/dataset/TeamDeepwave/dataset/preprocessed/train/fake/MYOPASVW.png\n",
            "Processing file: /content/drive/MyDrive/dataset/TeamDeepwave/dataset/open/./train/VBLJHRSX.ogg\n"
          ]
        },
        {
          "output_type": "stream",
          "name": "stderr",
          "text": [
            "\r  2%|▏         | 1135/50000 [14:34<9:09:44,  1.48it/s]"
          ]
        },
        {
          "output_type": "stream",
          "name": "stdout",
          "text": [
            "Saved file: /content/drive/MyDrive/dataset/TeamDeepwave/dataset/preprocessed/train/fake/VBLJHRSX.png\n",
            "Processing file: /content/drive/MyDrive/dataset/TeamDeepwave/dataset/open/./train/FTISOQIN.ogg\n"
          ]
        },
        {
          "output_type": "stream",
          "name": "stderr",
          "text": [
            "\r  2%|▏         | 1136/50000 [14:35<9:20:14,  1.45it/s]"
          ]
        },
        {
          "output_type": "stream",
          "name": "stdout",
          "text": [
            "Saved file: /content/drive/MyDrive/dataset/TeamDeepwave/dataset/preprocessed/train/real/FTISOQIN.png\n",
            "Processing file: /content/drive/MyDrive/dataset/TeamDeepwave/dataset/open/./train/IQNXMTGX.ogg\n"
          ]
        },
        {
          "output_type": "stream",
          "name": "stderr",
          "text": [
            "\r  2%|▏         | 1137/50000 [14:35<9:07:00,  1.49it/s]"
          ]
        },
        {
          "output_type": "stream",
          "name": "stdout",
          "text": [
            "Saved file: /content/drive/MyDrive/dataset/TeamDeepwave/dataset/preprocessed/train/fake/IQNXMTGX.png\n",
            "Processing file: /content/drive/MyDrive/dataset/TeamDeepwave/dataset/open/./train/EWOQBDOO.ogg\n"
          ]
        },
        {
          "output_type": "stream",
          "name": "stderr",
          "text": [
            "\r  2%|▏         | 1138/50000 [14:36<8:46:11,  1.55it/s]"
          ]
        },
        {
          "output_type": "stream",
          "name": "stdout",
          "text": [
            "Saved file: /content/drive/MyDrive/dataset/TeamDeepwave/dataset/preprocessed/train/fake/EWOQBDOO.png\n",
            "Processing file: /content/drive/MyDrive/dataset/TeamDeepwave/dataset/open/./train/WWHITDGW.ogg\n"
          ]
        },
        {
          "output_type": "stream",
          "name": "stderr",
          "text": [
            "\r  2%|▏         | 1139/50000 [14:37<9:06:49,  1.49it/s]"
          ]
        },
        {
          "output_type": "stream",
          "name": "stdout",
          "text": [
            "Saved file: /content/drive/MyDrive/dataset/TeamDeepwave/dataset/preprocessed/train/real/WWHITDGW.png\n",
            "Processing file: /content/drive/MyDrive/dataset/TeamDeepwave/dataset/open/./train/LIXHFZDV.ogg\n"
          ]
        },
        {
          "output_type": "stream",
          "name": "stderr",
          "text": [
            "\r  2%|▏         | 1140/50000 [14:37<8:57:33,  1.51it/s]"
          ]
        },
        {
          "output_type": "stream",
          "name": "stdout",
          "text": [
            "Saved file: /content/drive/MyDrive/dataset/TeamDeepwave/dataset/preprocessed/train/fake/LIXHFZDV.png\n",
            "Processing file: /content/drive/MyDrive/dataset/TeamDeepwave/dataset/open/./train/XVOJIYEK.ogg\n"
          ]
        },
        {
          "output_type": "stream",
          "name": "stderr",
          "text": [
            "\r  2%|▏         | 1141/50000 [14:38<8:43:25,  1.56it/s]"
          ]
        },
        {
          "output_type": "stream",
          "name": "stdout",
          "text": [
            "Saved file: /content/drive/MyDrive/dataset/TeamDeepwave/dataset/preprocessed/train/real/XVOJIYEK.png\n",
            "Processing file: /content/drive/MyDrive/dataset/TeamDeepwave/dataset/open/./train/RZRJRFSA.ogg\n"
          ]
        },
        {
          "output_type": "stream",
          "name": "stderr",
          "text": [
            "\r  2%|▏         | 1142/50000 [14:39<8:49:38,  1.54it/s]"
          ]
        },
        {
          "output_type": "stream",
          "name": "stdout",
          "text": [
            "Saved file: /content/drive/MyDrive/dataset/TeamDeepwave/dataset/preprocessed/train/real/RZRJRFSA.png\n",
            "Processing file: /content/drive/MyDrive/dataset/TeamDeepwave/dataset/open/./train/QDKMETAB.ogg\n"
          ]
        },
        {
          "output_type": "stream",
          "name": "stderr",
          "text": [
            "\r  2%|▏         | 1143/50000 [14:39<9:20:06,  1.45it/s]"
          ]
        },
        {
          "output_type": "stream",
          "name": "stdout",
          "text": [
            "Saved file: /content/drive/MyDrive/dataset/TeamDeepwave/dataset/preprocessed/train/real/QDKMETAB.png\n",
            "Processing file: /content/drive/MyDrive/dataset/TeamDeepwave/dataset/open/./train/UJWRYIWU.ogg\n"
          ]
        },
        {
          "output_type": "stream",
          "name": "stderr",
          "text": [
            "\r  2%|▏         | 1144/50000 [14:40<9:42:25,  1.40it/s]"
          ]
        },
        {
          "output_type": "stream",
          "name": "stdout",
          "text": [
            "Saved file: /content/drive/MyDrive/dataset/TeamDeepwave/dataset/preprocessed/train/fake/UJWRYIWU.png\n",
            "Processing file: /content/drive/MyDrive/dataset/TeamDeepwave/dataset/open/./train/HBAEQCHS.ogg\n"
          ]
        },
        {
          "output_type": "stream",
          "name": "stderr",
          "text": [
            "\r  2%|▏         | 1145/50000 [14:41<9:33:40,  1.42it/s]"
          ]
        },
        {
          "output_type": "stream",
          "name": "stdout",
          "text": [
            "Saved file: /content/drive/MyDrive/dataset/TeamDeepwave/dataset/preprocessed/train/real/HBAEQCHS.png\n",
            "Processing file: /content/drive/MyDrive/dataset/TeamDeepwave/dataset/open/./train/BIZGXRPC.ogg\n"
          ]
        },
        {
          "output_type": "stream",
          "name": "stderr",
          "text": [
            "\r  2%|▏         | 1146/50000 [14:41<9:33:27,  1.42it/s]"
          ]
        },
        {
          "output_type": "stream",
          "name": "stdout",
          "text": [
            "Saved file: /content/drive/MyDrive/dataset/TeamDeepwave/dataset/preprocessed/train/real/BIZGXRPC.png\n",
            "Processing file: /content/drive/MyDrive/dataset/TeamDeepwave/dataset/open/./train/CPAWUQHA.ogg\n"
          ]
        },
        {
          "output_type": "stream",
          "name": "stderr",
          "text": [
            "\r  2%|▏         | 1147/50000 [14:42<10:28:06,  1.30it/s]"
          ]
        },
        {
          "output_type": "stream",
          "name": "stdout",
          "text": [
            "Saved file: /content/drive/MyDrive/dataset/TeamDeepwave/dataset/preprocessed/train/real/CPAWUQHA.png\n",
            "Processing file: /content/drive/MyDrive/dataset/TeamDeepwave/dataset/open/./train/SLIEKIWH.ogg\n"
          ]
        },
        {
          "output_type": "stream",
          "name": "stderr",
          "text": [
            "\r  2%|▏         | 1148/50000 [14:43<11:11:46,  1.21it/s]"
          ]
        },
        {
          "output_type": "stream",
          "name": "stdout",
          "text": [
            "Saved file: /content/drive/MyDrive/dataset/TeamDeepwave/dataset/preprocessed/train/real/SLIEKIWH.png\n",
            "Processing file: /content/drive/MyDrive/dataset/TeamDeepwave/dataset/open/./train/ECUZWHDP.ogg\n"
          ]
        },
        {
          "output_type": "stream",
          "name": "stderr",
          "text": [
            "\r  2%|▏         | 1149/50000 [14:44<11:22:53,  1.19it/s]"
          ]
        },
        {
          "output_type": "stream",
          "name": "stdout",
          "text": [
            "Saved file: /content/drive/MyDrive/dataset/TeamDeepwave/dataset/preprocessed/train/real/ECUZWHDP.png\n",
            "Processing file: /content/drive/MyDrive/dataset/TeamDeepwave/dataset/open/./train/UDHSWKTY.ogg\n"
          ]
        },
        {
          "output_type": "stream",
          "name": "stderr",
          "text": [
            "\r  2%|▏         | 1150/50000 [14:45<11:22:04,  1.19it/s]"
          ]
        },
        {
          "output_type": "stream",
          "name": "stdout",
          "text": [
            "Saved file: /content/drive/MyDrive/dataset/TeamDeepwave/dataset/preprocessed/train/fake/UDHSWKTY.png\n",
            "Processing file: /content/drive/MyDrive/dataset/TeamDeepwave/dataset/open/./train/EQEVXIUS.ogg\n"
          ]
        },
        {
          "output_type": "stream",
          "name": "stderr",
          "text": [
            "\r  2%|▏         | 1151/50000 [14:46<10:58:54,  1.24it/s]"
          ]
        },
        {
          "output_type": "stream",
          "name": "stdout",
          "text": [
            "Saved file: /content/drive/MyDrive/dataset/TeamDeepwave/dataset/preprocessed/train/fake/EQEVXIUS.png\n",
            "Processing file: /content/drive/MyDrive/dataset/TeamDeepwave/dataset/open/./train/HLDAFVIE.ogg\n"
          ]
        },
        {
          "output_type": "stream",
          "name": "stderr",
          "text": [
            "\r  2%|▏         | 1152/50000 [14:47<10:30:00,  1.29it/s]"
          ]
        },
        {
          "output_type": "stream",
          "name": "stdout",
          "text": [
            "Saved file: /content/drive/MyDrive/dataset/TeamDeepwave/dataset/preprocessed/train/real/HLDAFVIE.png\n",
            "Processing file: /content/drive/MyDrive/dataset/TeamDeepwave/dataset/open/./train/QSEVAEDO.ogg\n"
          ]
        },
        {
          "output_type": "stream",
          "name": "stderr",
          "text": [
            "\r  2%|▏         | 1153/50000 [14:47<10:02:25,  1.35it/s]"
          ]
        },
        {
          "output_type": "stream",
          "name": "stdout",
          "text": [
            "Saved file: /content/drive/MyDrive/dataset/TeamDeepwave/dataset/preprocessed/train/fake/QSEVAEDO.png\n",
            "Processing file: /content/drive/MyDrive/dataset/TeamDeepwave/dataset/open/./train/FXWTILDA.ogg\n"
          ]
        },
        {
          "output_type": "stream",
          "name": "stderr",
          "text": [
            "\r  2%|▏         | 1154/50000 [14:48<9:59:18,  1.36it/s] "
          ]
        },
        {
          "output_type": "stream",
          "name": "stdout",
          "text": [
            "Saved file: /content/drive/MyDrive/dataset/TeamDeepwave/dataset/preprocessed/train/real/FXWTILDA.png\n",
            "Processing file: /content/drive/MyDrive/dataset/TeamDeepwave/dataset/open/./train/ABDOJNBI.ogg\n"
          ]
        },
        {
          "output_type": "stream",
          "name": "stderr",
          "text": [
            "\r  2%|▏         | 1155/50000 [14:49<9:31:52,  1.42it/s]"
          ]
        },
        {
          "output_type": "stream",
          "name": "stdout",
          "text": [
            "Saved file: /content/drive/MyDrive/dataset/TeamDeepwave/dataset/preprocessed/train/fake/ABDOJNBI.png\n",
            "Processing file: /content/drive/MyDrive/dataset/TeamDeepwave/dataset/open/./train/CYSMYRAU.ogg\n"
          ]
        },
        {
          "output_type": "stream",
          "name": "stderr",
          "text": [
            "\r  2%|▏         | 1156/50000 [14:49<9:15:22,  1.47it/s]"
          ]
        },
        {
          "output_type": "stream",
          "name": "stdout",
          "text": [
            "Saved file: /content/drive/MyDrive/dataset/TeamDeepwave/dataset/preprocessed/train/fake/CYSMYRAU.png\n",
            "Processing file: /content/drive/MyDrive/dataset/TeamDeepwave/dataset/open/./train/OHCXFVBU.ogg\n"
          ]
        },
        {
          "output_type": "stream",
          "name": "stderr",
          "text": [
            "\r  2%|▏         | 1157/50000 [14:50<9:00:27,  1.51it/s]"
          ]
        },
        {
          "output_type": "stream",
          "name": "stdout",
          "text": [
            "Saved file: /content/drive/MyDrive/dataset/TeamDeepwave/dataset/preprocessed/train/fake/OHCXFVBU.png\n",
            "Processing file: /content/drive/MyDrive/dataset/TeamDeepwave/dataset/open/./train/BPQBGOCF.ogg\n"
          ]
        },
        {
          "output_type": "stream",
          "name": "stderr",
          "text": [
            "\r  2%|▏         | 1158/50000 [14:51<9:31:33,  1.42it/s]"
          ]
        },
        {
          "output_type": "stream",
          "name": "stdout",
          "text": [
            "Saved file: /content/drive/MyDrive/dataset/TeamDeepwave/dataset/preprocessed/train/real/BPQBGOCF.png\n",
            "Processing file: /content/drive/MyDrive/dataset/TeamDeepwave/dataset/open/./train/ZDOBCTCA.ogg\n"
          ]
        },
        {
          "output_type": "stream",
          "name": "stderr",
          "text": [
            "\r  2%|▏         | 1159/50000 [14:51<9:22:30,  1.45it/s]"
          ]
        },
        {
          "output_type": "stream",
          "name": "stdout",
          "text": [
            "Saved file: /content/drive/MyDrive/dataset/TeamDeepwave/dataset/preprocessed/train/real/ZDOBCTCA.png\n",
            "Processing file: /content/drive/MyDrive/dataset/TeamDeepwave/dataset/open/./train/NILCWWSS.ogg\n"
          ]
        },
        {
          "output_type": "stream",
          "name": "stderr",
          "text": [
            "\r  2%|▏         | 1160/50000 [14:52<9:01:59,  1.50it/s]"
          ]
        },
        {
          "output_type": "stream",
          "name": "stdout",
          "text": [
            "Saved file: /content/drive/MyDrive/dataset/TeamDeepwave/dataset/preprocessed/train/fake/NILCWWSS.png\n",
            "Processing file: /content/drive/MyDrive/dataset/TeamDeepwave/dataset/open/./train/ERCSPVWE.ogg\n"
          ]
        },
        {
          "output_type": "stream",
          "name": "stderr",
          "text": [
            "\r  2%|▏         | 1161/50000 [14:53<9:26:26,  1.44it/s]"
          ]
        },
        {
          "output_type": "stream",
          "name": "stdout",
          "text": [
            "Saved file: /content/drive/MyDrive/dataset/TeamDeepwave/dataset/preprocessed/train/real/ERCSPVWE.png\n",
            "Processing file: /content/drive/MyDrive/dataset/TeamDeepwave/dataset/open/./train/SBVEIFOL.ogg\n"
          ]
        },
        {
          "output_type": "stream",
          "name": "stderr",
          "text": [
            "\r  2%|▏         | 1162/50000 [14:53<9:32:19,  1.42it/s]"
          ]
        },
        {
          "output_type": "stream",
          "name": "stdout",
          "text": [
            "Saved file: /content/drive/MyDrive/dataset/TeamDeepwave/dataset/preprocessed/train/real/SBVEIFOL.png\n",
            "Processing file: /content/drive/MyDrive/dataset/TeamDeepwave/dataset/open/./train/YTSRQRWF.ogg\n"
          ]
        },
        {
          "output_type": "stream",
          "name": "stderr",
          "text": [
            "\r  2%|▏         | 1163/50000 [14:54<9:04:05,  1.50it/s]"
          ]
        },
        {
          "output_type": "stream",
          "name": "stdout",
          "text": [
            "Saved file: /content/drive/MyDrive/dataset/TeamDeepwave/dataset/preprocessed/train/fake/YTSRQRWF.png\n",
            "Processing file: /content/drive/MyDrive/dataset/TeamDeepwave/dataset/open/./train/WQDVGILU.ogg\n"
          ]
        },
        {
          "output_type": "stream",
          "name": "stderr",
          "text": [
            "\r  2%|▏         | 1164/50000 [14:55<8:49:58,  1.54it/s]"
          ]
        },
        {
          "output_type": "stream",
          "name": "stdout",
          "text": [
            "Saved file: /content/drive/MyDrive/dataset/TeamDeepwave/dataset/preprocessed/train/real/WQDVGILU.png\n",
            "Processing file: /content/drive/MyDrive/dataset/TeamDeepwave/dataset/open/./train/JIYSNKVF.ogg\n"
          ]
        },
        {
          "output_type": "stream",
          "name": "stderr",
          "text": [
            "\r  2%|▏         | 1165/50000 [14:55<9:12:49,  1.47it/s]"
          ]
        },
        {
          "output_type": "stream",
          "name": "stdout",
          "text": [
            "Saved file: /content/drive/MyDrive/dataset/TeamDeepwave/dataset/preprocessed/train/fake/JIYSNKVF.png\n",
            "Processing file: /content/drive/MyDrive/dataset/TeamDeepwave/dataset/open/./train/VNRUDENK.ogg\n"
          ]
        },
        {
          "output_type": "stream",
          "name": "stderr",
          "text": [
            "\r  2%|▏         | 1166/50000 [14:56<9:00:37,  1.51it/s]"
          ]
        },
        {
          "output_type": "stream",
          "name": "stdout",
          "text": [
            "Saved file: /content/drive/MyDrive/dataset/TeamDeepwave/dataset/preprocessed/train/fake/VNRUDENK.png\n",
            "Processing file: /content/drive/MyDrive/dataset/TeamDeepwave/dataset/open/./train/YPQMKRUC.ogg\n"
          ]
        },
        {
          "output_type": "stream",
          "name": "stderr",
          "text": [
            "\r  2%|▏         | 1167/50000 [14:57<9:44:42,  1.39it/s]"
          ]
        },
        {
          "output_type": "stream",
          "name": "stdout",
          "text": [
            "Saved file: /content/drive/MyDrive/dataset/TeamDeepwave/dataset/preprocessed/train/fake/YPQMKRUC.png\n",
            "Processing file: /content/drive/MyDrive/dataset/TeamDeepwave/dataset/open/./train/HEZTBCYJ.ogg\n"
          ]
        },
        {
          "output_type": "stream",
          "name": "stderr",
          "text": [
            "\r  2%|▏         | 1168/50000 [14:58<11:00:56,  1.23it/s]"
          ]
        },
        {
          "output_type": "stream",
          "name": "stdout",
          "text": [
            "Saved file: /content/drive/MyDrive/dataset/TeamDeepwave/dataset/preprocessed/train/real/HEZTBCYJ.png\n",
            "Processing file: /content/drive/MyDrive/dataset/TeamDeepwave/dataset/open/./train/SGIILDPU.ogg\n"
          ]
        },
        {
          "output_type": "stream",
          "name": "stderr",
          "text": [
            "\r  2%|▏         | 1169/50000 [14:59<12:21:21,  1.10it/s]"
          ]
        },
        {
          "output_type": "stream",
          "name": "stdout",
          "text": [
            "Saved file: /content/drive/MyDrive/dataset/TeamDeepwave/dataset/preprocessed/train/real/SGIILDPU.png\n",
            "Processing file: /content/drive/MyDrive/dataset/TeamDeepwave/dataset/open/./train/IWKCPOMK.ogg\n"
          ]
        },
        {
          "output_type": "stream",
          "name": "stderr",
          "text": [
            "\r  2%|▏         | 1170/50000 [15:00<11:53:25,  1.14it/s]"
          ]
        },
        {
          "output_type": "stream",
          "name": "stdout",
          "text": [
            "Saved file: /content/drive/MyDrive/dataset/TeamDeepwave/dataset/preprocessed/train/fake/IWKCPOMK.png\n",
            "Processing file: /content/drive/MyDrive/dataset/TeamDeepwave/dataset/open/./train/OHZCENUC.ogg\n"
          ]
        },
        {
          "output_type": "stream",
          "name": "stderr",
          "text": [
            "\r  2%|▏         | 1171/50000 [15:01<12:57:19,  1.05it/s]"
          ]
        },
        {
          "output_type": "stream",
          "name": "stdout",
          "text": [
            "Saved file: /content/drive/MyDrive/dataset/TeamDeepwave/dataset/preprocessed/train/real/OHZCENUC.png\n",
            "Processing file: /content/drive/MyDrive/dataset/TeamDeepwave/dataset/open/./train/QEVMOZQQ.ogg\n"
          ]
        },
        {
          "output_type": "stream",
          "name": "stderr",
          "text": [
            "\r  2%|▏         | 1172/50000 [15:01<11:34:30,  1.17it/s]"
          ]
        },
        {
          "output_type": "stream",
          "name": "stdout",
          "text": [
            "Saved file: /content/drive/MyDrive/dataset/TeamDeepwave/dataset/preprocessed/train/fake/QEVMOZQQ.png\n",
            "Processing file: /content/drive/MyDrive/dataset/TeamDeepwave/dataset/open/./train/KSBCDFUS.ogg\n"
          ]
        },
        {
          "output_type": "stream",
          "name": "stderr",
          "text": [
            "\r  2%|▏         | 1173/50000 [15:02<11:25:01,  1.19it/s]"
          ]
        },
        {
          "output_type": "stream",
          "name": "stdout",
          "text": [
            "Saved file: /content/drive/MyDrive/dataset/TeamDeepwave/dataset/preprocessed/train/fake/KSBCDFUS.png\n",
            "Processing file: /content/drive/MyDrive/dataset/TeamDeepwave/dataset/open/./train/XKAEZRDG.ogg\n"
          ]
        },
        {
          "output_type": "stream",
          "name": "stderr",
          "text": [
            "\r  2%|▏         | 1174/50000 [15:03<11:29:58,  1.18it/s]"
          ]
        },
        {
          "output_type": "stream",
          "name": "stdout",
          "text": [
            "Saved file: /content/drive/MyDrive/dataset/TeamDeepwave/dataset/preprocessed/train/fake/XKAEZRDG.png\n",
            "Processing file: /content/drive/MyDrive/dataset/TeamDeepwave/dataset/open/./train/USJLAWTG.ogg\n"
          ]
        },
        {
          "output_type": "stream",
          "name": "stderr",
          "text": [
            "\r  2%|▏         | 1175/50000 [15:04<11:10:14,  1.21it/s]"
          ]
        },
        {
          "output_type": "stream",
          "name": "stdout",
          "text": [
            "Saved file: /content/drive/MyDrive/dataset/TeamDeepwave/dataset/preprocessed/train/real/USJLAWTG.png\n",
            "Processing file: /content/drive/MyDrive/dataset/TeamDeepwave/dataset/open/./train/PQEAWNEV.ogg\n"
          ]
        },
        {
          "output_type": "stream",
          "name": "stderr",
          "text": [
            "\r  2%|▏         | 1176/50000 [15:05<11:01:42,  1.23it/s]"
          ]
        },
        {
          "output_type": "stream",
          "name": "stdout",
          "text": [
            "Saved file: /content/drive/MyDrive/dataset/TeamDeepwave/dataset/preprocessed/train/real/PQEAWNEV.png\n",
            "Processing file: /content/drive/MyDrive/dataset/TeamDeepwave/dataset/open/./train/BJZQIRYL.ogg\n"
          ]
        },
        {
          "output_type": "stream",
          "name": "stderr",
          "text": [
            "\r  2%|▏         | 1177/50000 [15:05<10:29:37,  1.29it/s]"
          ]
        },
        {
          "output_type": "stream",
          "name": "stdout",
          "text": [
            "Saved file: /content/drive/MyDrive/dataset/TeamDeepwave/dataset/preprocessed/train/real/BJZQIRYL.png\n",
            "Processing file: /content/drive/MyDrive/dataset/TeamDeepwave/dataset/open/./train/XTIXAJBO.ogg\n"
          ]
        },
        {
          "output_type": "stream",
          "name": "stderr",
          "text": [
            "\r  2%|▏         | 1178/50000 [15:06<9:56:18,  1.36it/s] "
          ]
        },
        {
          "output_type": "stream",
          "name": "stdout",
          "text": [
            "Saved file: /content/drive/MyDrive/dataset/TeamDeepwave/dataset/preprocessed/train/fake/XTIXAJBO.png\n",
            "Processing file: /content/drive/MyDrive/dataset/TeamDeepwave/dataset/open/./train/RSNPVRYT.ogg\n"
          ]
        },
        {
          "output_type": "stream",
          "name": "stderr",
          "text": [
            "\r  2%|▏         | 1179/50000 [15:07<9:39:22,  1.40it/s]"
          ]
        },
        {
          "output_type": "stream",
          "name": "stdout",
          "text": [
            "Saved file: /content/drive/MyDrive/dataset/TeamDeepwave/dataset/preprocessed/train/real/RSNPVRYT.png\n",
            "Processing file: /content/drive/MyDrive/dataset/TeamDeepwave/dataset/open/./train/ZHDVCAGJ.ogg\n"
          ]
        },
        {
          "output_type": "stream",
          "name": "stderr",
          "text": [
            "\r  2%|▏         | 1180/50000 [15:07<9:13:37,  1.47it/s]"
          ]
        },
        {
          "output_type": "stream",
          "name": "stdout",
          "text": [
            "Saved file: /content/drive/MyDrive/dataset/TeamDeepwave/dataset/preprocessed/train/real/ZHDVCAGJ.png\n",
            "Processing file: /content/drive/MyDrive/dataset/TeamDeepwave/dataset/open/./train/MIUHVGKE.ogg\n"
          ]
        },
        {
          "output_type": "stream",
          "name": "stderr",
          "text": [
            "\r  2%|▏         | 1181/50000 [15:08<9:56:18,  1.36it/s]"
          ]
        },
        {
          "output_type": "stream",
          "name": "stdout",
          "text": [
            "Saved file: /content/drive/MyDrive/dataset/TeamDeepwave/dataset/preprocessed/train/real/MIUHVGKE.png\n",
            "Processing file: /content/drive/MyDrive/dataset/TeamDeepwave/dataset/open/./train/NIDPZJWO.ogg\n"
          ]
        },
        {
          "output_type": "stream",
          "name": "stderr",
          "text": [
            "\r  2%|▏         | 1182/50000 [15:09<9:48:12,  1.38it/s]"
          ]
        },
        {
          "output_type": "stream",
          "name": "stdout",
          "text": [
            "Saved file: /content/drive/MyDrive/dataset/TeamDeepwave/dataset/preprocessed/train/real/NIDPZJWO.png\n",
            "Processing file: /content/drive/MyDrive/dataset/TeamDeepwave/dataset/open/./train/SRRQSHFO.ogg\n"
          ]
        },
        {
          "output_type": "stream",
          "name": "stderr",
          "text": [
            "\r  2%|▏         | 1183/50000 [15:10<9:41:02,  1.40it/s]"
          ]
        },
        {
          "output_type": "stream",
          "name": "stdout",
          "text": [
            "Saved file: /content/drive/MyDrive/dataset/TeamDeepwave/dataset/preprocessed/train/real/SRRQSHFO.png\n",
            "Processing file: /content/drive/MyDrive/dataset/TeamDeepwave/dataset/open/./train/TWEZIRGC.ogg\n"
          ]
        },
        {
          "output_type": "stream",
          "name": "stderr",
          "text": [
            "\r  2%|▏         | 1184/50000 [15:10<9:15:30,  1.46it/s]"
          ]
        },
        {
          "output_type": "stream",
          "name": "stdout",
          "text": [
            "Saved file: /content/drive/MyDrive/dataset/TeamDeepwave/dataset/preprocessed/train/fake/TWEZIRGC.png\n",
            "Processing file: /content/drive/MyDrive/dataset/TeamDeepwave/dataset/open/./train/VOJZRJVI.ogg\n"
          ]
        },
        {
          "output_type": "stream",
          "name": "stderr",
          "text": [
            "\r  2%|▏         | 1185/50000 [15:11<9:25:17,  1.44it/s]"
          ]
        },
        {
          "output_type": "stream",
          "name": "stdout",
          "text": [
            "Saved file: /content/drive/MyDrive/dataset/TeamDeepwave/dataset/preprocessed/train/real/VOJZRJVI.png\n",
            "Processing file: /content/drive/MyDrive/dataset/TeamDeepwave/dataset/open/./train/SEZANRAP.ogg\n"
          ]
        },
        {
          "output_type": "stream",
          "name": "stderr",
          "text": [
            "\r  2%|▏         | 1186/50000 [15:12<9:20:37,  1.45it/s]"
          ]
        },
        {
          "output_type": "stream",
          "name": "stdout",
          "text": [
            "Saved file: /content/drive/MyDrive/dataset/TeamDeepwave/dataset/preprocessed/train/fake/SEZANRAP.png\n",
            "Processing file: /content/drive/MyDrive/dataset/TeamDeepwave/dataset/open/./train/FWXHVVAM.ogg\n"
          ]
        },
        {
          "output_type": "stream",
          "name": "stderr",
          "text": [
            "\r  2%|▏         | 1187/50000 [15:12<9:45:29,  1.39it/s]"
          ]
        },
        {
          "output_type": "stream",
          "name": "stdout",
          "text": [
            "Saved file: /content/drive/MyDrive/dataset/TeamDeepwave/dataset/preprocessed/train/real/FWXHVVAM.png\n",
            "Processing file: /content/drive/MyDrive/dataset/TeamDeepwave/dataset/open/./train/TLIJYHWM.ogg\n"
          ]
        },
        {
          "output_type": "stream",
          "name": "stderr",
          "text": [
            "\r  2%|▏         | 1188/50000 [15:13<9:58:24,  1.36it/s]"
          ]
        },
        {
          "output_type": "stream",
          "name": "stdout",
          "text": [
            "Saved file: /content/drive/MyDrive/dataset/TeamDeepwave/dataset/preprocessed/train/fake/TLIJYHWM.png\n",
            "Processing file: /content/drive/MyDrive/dataset/TeamDeepwave/dataset/open/./train/PILUJOLK.ogg\n"
          ]
        },
        {
          "output_type": "stream",
          "name": "stderr",
          "text": [
            "\r  2%|▏         | 1189/50000 [15:14<11:39:32,  1.16it/s]"
          ]
        },
        {
          "output_type": "stream",
          "name": "stdout",
          "text": [
            "Saved file: /content/drive/MyDrive/dataset/TeamDeepwave/dataset/preprocessed/train/real/PILUJOLK.png\n",
            "Processing file: /content/drive/MyDrive/dataset/TeamDeepwave/dataset/open/./train/TFNYPFSI.ogg\n"
          ]
        },
        {
          "output_type": "stream",
          "name": "stderr",
          "text": [
            "\r  2%|▏         | 1190/50000 [15:15<10:53:48,  1.24it/s]"
          ]
        },
        {
          "output_type": "stream",
          "name": "stdout",
          "text": [
            "Saved file: /content/drive/MyDrive/dataset/TeamDeepwave/dataset/preprocessed/train/fake/TFNYPFSI.png\n",
            "Processing file: /content/drive/MyDrive/dataset/TeamDeepwave/dataset/open/./train/OORSERZB.ogg\n"
          ]
        },
        {
          "output_type": "stream",
          "name": "stderr",
          "text": [
            "\r  2%|▏         | 1191/50000 [15:16<9:58:25,  1.36it/s] "
          ]
        },
        {
          "output_type": "stream",
          "name": "stdout",
          "text": [
            "Saved file: /content/drive/MyDrive/dataset/TeamDeepwave/dataset/preprocessed/train/fake/OORSERZB.png\n",
            "Processing file: /content/drive/MyDrive/dataset/TeamDeepwave/dataset/open/./train/VQMQQEUD.ogg\n"
          ]
        },
        {
          "output_type": "stream",
          "name": "stderr",
          "text": [
            "\r  2%|▏         | 1192/50000 [15:16<9:41:38,  1.40it/s]"
          ]
        },
        {
          "output_type": "stream",
          "name": "stdout",
          "text": [
            "Saved file: /content/drive/MyDrive/dataset/TeamDeepwave/dataset/preprocessed/train/fake/VQMQQEUD.png\n",
            "Processing file: /content/drive/MyDrive/dataset/TeamDeepwave/dataset/open/./train/IPXTSJPW.ogg\n"
          ]
        },
        {
          "output_type": "stream",
          "name": "stderr",
          "text": [
            "\r  2%|▏         | 1193/50000 [15:17<9:17:53,  1.46it/s]"
          ]
        },
        {
          "output_type": "stream",
          "name": "stdout",
          "text": [
            "Saved file: /content/drive/MyDrive/dataset/TeamDeepwave/dataset/preprocessed/train/fake/IPXTSJPW.png\n",
            "Processing file: /content/drive/MyDrive/dataset/TeamDeepwave/dataset/open/./train/RNMPOSCG.ogg\n"
          ]
        },
        {
          "output_type": "stream",
          "name": "stderr",
          "text": [
            "\r  2%|▏         | 1194/50000 [15:17<9:00:04,  1.51it/s]"
          ]
        },
        {
          "output_type": "stream",
          "name": "stdout",
          "text": [
            "Saved file: /content/drive/MyDrive/dataset/TeamDeepwave/dataset/preprocessed/train/real/RNMPOSCG.png\n",
            "Processing file: /content/drive/MyDrive/dataset/TeamDeepwave/dataset/open/./train/MXMELGXP.ogg\n"
          ]
        },
        {
          "output_type": "stream",
          "name": "stderr",
          "text": [
            "\r  2%|▏         | 1195/50000 [15:18<8:54:32,  1.52it/s]"
          ]
        },
        {
          "output_type": "stream",
          "name": "stdout",
          "text": [
            "Saved file: /content/drive/MyDrive/dataset/TeamDeepwave/dataset/preprocessed/train/real/MXMELGXP.png\n",
            "Processing file: /content/drive/MyDrive/dataset/TeamDeepwave/dataset/open/./train/OZVUGUBA.ogg\n"
          ]
        },
        {
          "output_type": "stream",
          "name": "stderr",
          "text": [
            "\r  2%|▏         | 1196/50000 [15:19<9:08:04,  1.48it/s]"
          ]
        },
        {
          "output_type": "stream",
          "name": "stdout",
          "text": [
            "Saved file: /content/drive/MyDrive/dataset/TeamDeepwave/dataset/preprocessed/train/real/OZVUGUBA.png\n",
            "Processing file: /content/drive/MyDrive/dataset/TeamDeepwave/dataset/open/./train/CRDVMFAK.ogg\n"
          ]
        },
        {
          "output_type": "stream",
          "name": "stderr",
          "text": [
            "\r  2%|▏         | 1197/50000 [15:20<9:28:24,  1.43it/s]"
          ]
        },
        {
          "output_type": "stream",
          "name": "stdout",
          "text": [
            "Saved file: /content/drive/MyDrive/dataset/TeamDeepwave/dataset/preprocessed/train/fake/CRDVMFAK.png\n",
            "Processing file: /content/drive/MyDrive/dataset/TeamDeepwave/dataset/open/./train/LCEKVGVV.ogg\n"
          ]
        },
        {
          "output_type": "stream",
          "name": "stderr",
          "text": [
            "\r  2%|▏         | 1198/50000 [15:20<9:19:43,  1.45it/s]"
          ]
        },
        {
          "output_type": "stream",
          "name": "stdout",
          "text": [
            "Saved file: /content/drive/MyDrive/dataset/TeamDeepwave/dataset/preprocessed/train/real/LCEKVGVV.png\n",
            "Processing file: /content/drive/MyDrive/dataset/TeamDeepwave/dataset/open/./train/JDRTAGVK.ogg\n"
          ]
        },
        {
          "output_type": "stream",
          "name": "stderr",
          "text": [
            "\r  2%|▏         | 1199/50000 [15:21<8:58:45,  1.51it/s]"
          ]
        },
        {
          "output_type": "stream",
          "name": "stdout",
          "text": [
            "Saved file: /content/drive/MyDrive/dataset/TeamDeepwave/dataset/preprocessed/train/fake/JDRTAGVK.png\n",
            "Processing file: /content/drive/MyDrive/dataset/TeamDeepwave/dataset/open/./train/XJGRDUUC.ogg\n"
          ]
        },
        {
          "output_type": "stream",
          "name": "stderr",
          "text": [
            "\r  2%|▏         | 1200/50000 [15:22<9:14:48,  1.47it/s]"
          ]
        },
        {
          "output_type": "stream",
          "name": "stdout",
          "text": [
            "Saved file: /content/drive/MyDrive/dataset/TeamDeepwave/dataset/preprocessed/train/real/XJGRDUUC.png\n",
            "Processing file: /content/drive/MyDrive/dataset/TeamDeepwave/dataset/open/./train/FKZEVABE.ogg\n"
          ]
        },
        {
          "output_type": "stream",
          "name": "stderr",
          "text": [
            "\r  2%|▏         | 1201/50000 [15:22<8:58:10,  1.51it/s]"
          ]
        },
        {
          "output_type": "stream",
          "name": "stdout",
          "text": [
            "Saved file: /content/drive/MyDrive/dataset/TeamDeepwave/dataset/preprocessed/train/real/FKZEVABE.png\n",
            "Processing file: /content/drive/MyDrive/dataset/TeamDeepwave/dataset/open/./train/QOPLMMNY.ogg\n"
          ]
        },
        {
          "output_type": "stream",
          "name": "stderr",
          "text": [
            "\r  2%|▏         | 1202/50000 [15:23<8:53:09,  1.53it/s]"
          ]
        },
        {
          "output_type": "stream",
          "name": "stdout",
          "text": [
            "Saved file: /content/drive/MyDrive/dataset/TeamDeepwave/dataset/preprocessed/train/fake/QOPLMMNY.png\n",
            "Processing file: /content/drive/MyDrive/dataset/TeamDeepwave/dataset/open/./train/UUYHFAGM.ogg\n"
          ]
        },
        {
          "output_type": "stream",
          "name": "stderr",
          "text": [
            "\r  2%|▏         | 1203/50000 [15:23<9:00:03,  1.51it/s]"
          ]
        },
        {
          "output_type": "stream",
          "name": "stdout",
          "text": [
            "Saved file: /content/drive/MyDrive/dataset/TeamDeepwave/dataset/preprocessed/train/fake/UUYHFAGM.png\n",
            "Processing file: /content/drive/MyDrive/dataset/TeamDeepwave/dataset/open/./train/LBZXQAWN.ogg\n"
          ]
        },
        {
          "output_type": "stream",
          "name": "stderr",
          "text": [
            "\r  2%|▏         | 1204/50000 [15:24<9:20:32,  1.45it/s]"
          ]
        },
        {
          "output_type": "stream",
          "name": "stdout",
          "text": [
            "Saved file: /content/drive/MyDrive/dataset/TeamDeepwave/dataset/preprocessed/train/real/LBZXQAWN.png\n",
            "Processing file: /content/drive/MyDrive/dataset/TeamDeepwave/dataset/open/./train/PQAFFFNP.ogg\n"
          ]
        },
        {
          "output_type": "stream",
          "name": "stderr",
          "text": [
            "\r  2%|▏         | 1205/50000 [15:25<10:38:07,  1.27it/s]"
          ]
        },
        {
          "output_type": "stream",
          "name": "stdout",
          "text": [
            "Saved file: /content/drive/MyDrive/dataset/TeamDeepwave/dataset/preprocessed/train/real/PQAFFFNP.png\n",
            "Processing file: /content/drive/MyDrive/dataset/TeamDeepwave/dataset/open/./train/SSGHSIZN.ogg\n"
          ]
        },
        {
          "output_type": "stream",
          "name": "stderr",
          "text": [
            "\r  2%|▏         | 1206/50000 [15:26<11:25:18,  1.19it/s]"
          ]
        },
        {
          "output_type": "stream",
          "name": "stdout",
          "text": [
            "Saved file: /content/drive/MyDrive/dataset/TeamDeepwave/dataset/preprocessed/train/real/SSGHSIZN.png\n",
            "Processing file: /content/drive/MyDrive/dataset/TeamDeepwave/dataset/open/./train/HJAAUJHP.ogg\n"
          ]
        },
        {
          "output_type": "stream",
          "name": "stderr",
          "text": [
            "\r  2%|▏         | 1207/50000 [15:27<11:28:02,  1.18it/s]"
          ]
        },
        {
          "output_type": "stream",
          "name": "stdout",
          "text": [
            "Saved file: /content/drive/MyDrive/dataset/TeamDeepwave/dataset/preprocessed/train/fake/HJAAUJHP.png\n",
            "Processing file: /content/drive/MyDrive/dataset/TeamDeepwave/dataset/open/./train/FBFKOGFP.ogg\n"
          ]
        },
        {
          "output_type": "stream",
          "name": "stderr",
          "text": [
            "\r  2%|▏         | 1208/50000 [15:28<12:13:30,  1.11it/s]"
          ]
        },
        {
          "output_type": "stream",
          "name": "stdout",
          "text": [
            "Saved file: /content/drive/MyDrive/dataset/TeamDeepwave/dataset/preprocessed/train/real/FBFKOGFP.png\n",
            "Processing file: /content/drive/MyDrive/dataset/TeamDeepwave/dataset/open/./train/ZDFXQQOD.ogg\n"
          ]
        },
        {
          "output_type": "stream",
          "name": "stderr",
          "text": [
            "\r  2%|▏         | 1209/50000 [15:29<11:36:48,  1.17it/s]"
          ]
        },
        {
          "output_type": "stream",
          "name": "stdout",
          "text": [
            "Saved file: /content/drive/MyDrive/dataset/TeamDeepwave/dataset/preprocessed/train/real/ZDFXQQOD.png\n",
            "Processing file: /content/drive/MyDrive/dataset/TeamDeepwave/dataset/open/./train/SFDAXGOX.ogg\n"
          ]
        },
        {
          "output_type": "stream",
          "name": "stderr",
          "text": [
            "\r  2%|▏         | 1210/50000 [15:30<10:56:28,  1.24it/s]"
          ]
        },
        {
          "output_type": "stream",
          "name": "stdout",
          "text": [
            "Saved file: /content/drive/MyDrive/dataset/TeamDeepwave/dataset/preprocessed/train/real/SFDAXGOX.png\n",
            "Processing file: /content/drive/MyDrive/dataset/TeamDeepwave/dataset/open/./train/QDANCGLP.ogg\n"
          ]
        },
        {
          "output_type": "stream",
          "name": "stderr",
          "text": [
            "\r  2%|▏         | 1211/50000 [15:30<10:37:39,  1.28it/s]"
          ]
        },
        {
          "output_type": "stream",
          "name": "stdout",
          "text": [
            "Saved file: /content/drive/MyDrive/dataset/TeamDeepwave/dataset/preprocessed/train/real/QDANCGLP.png\n",
            "Processing file: /content/drive/MyDrive/dataset/TeamDeepwave/dataset/open/./train/QNSSVTLA.ogg\n"
          ]
        },
        {
          "output_type": "stream",
          "name": "stderr",
          "text": [
            "\r  2%|▏         | 1212/50000 [15:31<9:53:22,  1.37it/s] "
          ]
        },
        {
          "output_type": "stream",
          "name": "stdout",
          "text": [
            "Saved file: /content/drive/MyDrive/dataset/TeamDeepwave/dataset/preprocessed/train/fake/QNSSVTLA.png\n",
            "Processing file: /content/drive/MyDrive/dataset/TeamDeepwave/dataset/open/./train/APMBKASS.ogg\n"
          ]
        },
        {
          "output_type": "stream",
          "name": "stderr",
          "text": [
            "\r  2%|▏         | 1213/50000 [15:31<9:17:24,  1.46it/s]"
          ]
        },
        {
          "output_type": "stream",
          "name": "stdout",
          "text": [
            "Saved file: /content/drive/MyDrive/dataset/TeamDeepwave/dataset/preprocessed/train/fake/APMBKASS.png\n",
            "Processing file: /content/drive/MyDrive/dataset/TeamDeepwave/dataset/open/./train/WPETRFTO.ogg\n"
          ]
        },
        {
          "output_type": "stream",
          "name": "stderr",
          "text": [
            "\r  2%|▏         | 1214/50000 [15:32<9:19:27,  1.45it/s]"
          ]
        },
        {
          "output_type": "stream",
          "name": "stdout",
          "text": [
            "Saved file: /content/drive/MyDrive/dataset/TeamDeepwave/dataset/preprocessed/train/real/WPETRFTO.png\n",
            "Processing file: /content/drive/MyDrive/dataset/TeamDeepwave/dataset/open/./train/PDOURHPI.ogg\n"
          ]
        },
        {
          "output_type": "stream",
          "name": "stderr",
          "text": [
            "\r  2%|▏         | 1215/50000 [15:33<9:46:56,  1.39it/s]"
          ]
        },
        {
          "output_type": "stream",
          "name": "stdout",
          "text": [
            "Saved file: /content/drive/MyDrive/dataset/TeamDeepwave/dataset/preprocessed/train/real/PDOURHPI.png\n",
            "Processing file: /content/drive/MyDrive/dataset/TeamDeepwave/dataset/open/./train/EUPHWCIU.ogg\n"
          ]
        },
        {
          "output_type": "stream",
          "name": "stderr",
          "text": [
            "\r  2%|▏         | 1216/50000 [15:34<9:16:01,  1.46it/s]"
          ]
        },
        {
          "output_type": "stream",
          "name": "stdout",
          "text": [
            "Saved file: /content/drive/MyDrive/dataset/TeamDeepwave/dataset/preprocessed/train/real/EUPHWCIU.png\n",
            "Processing file: /content/drive/MyDrive/dataset/TeamDeepwave/dataset/open/./train/ILMXZVDA.ogg\n"
          ]
        },
        {
          "output_type": "stream",
          "name": "stderr",
          "text": [
            "\r  2%|▏         | 1217/50000 [15:34<8:56:31,  1.52it/s]"
          ]
        },
        {
          "output_type": "stream",
          "name": "stdout",
          "text": [
            "Saved file: /content/drive/MyDrive/dataset/TeamDeepwave/dataset/preprocessed/train/fake/ILMXZVDA.png\n",
            "Processing file: /content/drive/MyDrive/dataset/TeamDeepwave/dataset/open/./train/BTASUQGW.ogg\n"
          ]
        },
        {
          "output_type": "stream",
          "name": "stderr",
          "text": [
            "\r  2%|▏         | 1218/50000 [15:35<9:40:28,  1.40it/s]"
          ]
        },
        {
          "output_type": "stream",
          "name": "stdout",
          "text": [
            "Saved file: /content/drive/MyDrive/dataset/TeamDeepwave/dataset/preprocessed/train/fake/BTASUQGW.png\n",
            "Processing file: /content/drive/MyDrive/dataset/TeamDeepwave/dataset/open/./train/ZOBYNNMT.ogg\n"
          ]
        },
        {
          "output_type": "stream",
          "name": "stderr",
          "text": [
            "\r  2%|▏         | 1219/50000 [15:36<9:16:44,  1.46it/s]"
          ]
        },
        {
          "output_type": "stream",
          "name": "stdout",
          "text": [
            "Saved file: /content/drive/MyDrive/dataset/TeamDeepwave/dataset/preprocessed/train/fake/ZOBYNNMT.png\n",
            "Processing file: /content/drive/MyDrive/dataset/TeamDeepwave/dataset/open/./train/XXSKMIKG.ogg\n"
          ]
        },
        {
          "output_type": "stream",
          "name": "stderr",
          "text": [
            "\r  2%|▏         | 1220/50000 [15:36<9:36:26,  1.41it/s]"
          ]
        },
        {
          "output_type": "stream",
          "name": "stdout",
          "text": [
            "Saved file: /content/drive/MyDrive/dataset/TeamDeepwave/dataset/preprocessed/train/real/XXSKMIKG.png\n",
            "Processing file: /content/drive/MyDrive/dataset/TeamDeepwave/dataset/open/./train/WZHXLBDS.ogg\n"
          ]
        },
        {
          "output_type": "stream",
          "name": "stderr",
          "text": [
            "\r  2%|▏         | 1221/50000 [15:37<9:49:15,  1.38it/s]"
          ]
        },
        {
          "output_type": "stream",
          "name": "stdout",
          "text": [
            "Saved file: /content/drive/MyDrive/dataset/TeamDeepwave/dataset/preprocessed/train/real/WZHXLBDS.png\n",
            "Processing file: /content/drive/MyDrive/dataset/TeamDeepwave/dataset/open/./train/LUZQRKLU.ogg\n"
          ]
        },
        {
          "output_type": "stream",
          "name": "stderr",
          "text": [
            "\r  2%|▏         | 1222/50000 [15:38<9:36:23,  1.41it/s]"
          ]
        },
        {
          "output_type": "stream",
          "name": "stdout",
          "text": [
            "Saved file: /content/drive/MyDrive/dataset/TeamDeepwave/dataset/preprocessed/train/real/LUZQRKLU.png\n",
            "Processing file: /content/drive/MyDrive/dataset/TeamDeepwave/dataset/open/./train/YZIZMVGO.ogg\n"
          ]
        },
        {
          "output_type": "stream",
          "name": "stderr",
          "text": [
            "\r  2%|▏         | 1223/50000 [15:38<9:27:15,  1.43it/s]"
          ]
        },
        {
          "output_type": "stream",
          "name": "stdout",
          "text": [
            "Saved file: /content/drive/MyDrive/dataset/TeamDeepwave/dataset/preprocessed/train/fake/YZIZMVGO.png\n",
            "Processing file: /content/drive/MyDrive/dataset/TeamDeepwave/dataset/open/./train/IBODHVNV.ogg\n"
          ]
        },
        {
          "output_type": "stream",
          "name": "stderr",
          "text": [
            "\r  2%|▏         | 1224/50000 [15:39<9:58:08,  1.36it/s]"
          ]
        },
        {
          "output_type": "stream",
          "name": "stdout",
          "text": [
            "Saved file: /content/drive/MyDrive/dataset/TeamDeepwave/dataset/preprocessed/train/real/IBODHVNV.png\n",
            "Processing file: /content/drive/MyDrive/dataset/TeamDeepwave/dataset/open/./train/YDOECIIC.ogg\n"
          ]
        },
        {
          "output_type": "stream",
          "name": "stderr",
          "text": [
            "\r  2%|▏         | 1225/50000 [15:40<10:09:19,  1.33it/s]"
          ]
        },
        {
          "output_type": "stream",
          "name": "stdout",
          "text": [
            "Saved file: /content/drive/MyDrive/dataset/TeamDeepwave/dataset/preprocessed/train/fake/YDOECIIC.png\n",
            "Processing file: /content/drive/MyDrive/dataset/TeamDeepwave/dataset/open/./train/SFYOUVKT.ogg\n"
          ]
        },
        {
          "output_type": "stream",
          "name": "stderr",
          "text": [
            "\r  2%|▏         | 1226/50000 [15:41<10:25:07,  1.30it/s]"
          ]
        },
        {
          "output_type": "stream",
          "name": "stdout",
          "text": [
            "Saved file: /content/drive/MyDrive/dataset/TeamDeepwave/dataset/preprocessed/train/fake/SFYOUVKT.png\n",
            "Processing file: /content/drive/MyDrive/dataset/TeamDeepwave/dataset/open/./train/BWVLHNON.ogg\n"
          ]
        },
        {
          "output_type": "stream",
          "name": "stderr",
          "text": [
            "\r  2%|▏         | 1227/50000 [15:42<10:39:41,  1.27it/s]"
          ]
        },
        {
          "output_type": "stream",
          "name": "stdout",
          "text": [
            "Saved file: /content/drive/MyDrive/dataset/TeamDeepwave/dataset/preprocessed/train/fake/BWVLHNON.png\n",
            "Processing file: /content/drive/MyDrive/dataset/TeamDeepwave/dataset/open/./train/BHTOWKKF.ogg\n"
          ]
        },
        {
          "output_type": "stream",
          "name": "stderr",
          "text": [
            "\r  2%|▏         | 1228/50000 [15:42<10:18:41,  1.31it/s]"
          ]
        },
        {
          "output_type": "stream",
          "name": "stdout",
          "text": [
            "Saved file: /content/drive/MyDrive/dataset/TeamDeepwave/dataset/preprocessed/train/fake/BHTOWKKF.png\n",
            "Processing file: /content/drive/MyDrive/dataset/TeamDeepwave/dataset/open/./train/UVTCWHCT.ogg\n"
          ]
        },
        {
          "output_type": "stream",
          "name": "stderr",
          "text": [
            "\r  2%|▏         | 1229/50000 [15:43<9:39:43,  1.40it/s] "
          ]
        },
        {
          "output_type": "stream",
          "name": "stdout",
          "text": [
            "Saved file: /content/drive/MyDrive/dataset/TeamDeepwave/dataset/preprocessed/train/fake/UVTCWHCT.png\n",
            "Processing file: /content/drive/MyDrive/dataset/TeamDeepwave/dataset/open/./train/BCUCYZDO.ogg\n"
          ]
        },
        {
          "output_type": "stream",
          "name": "stderr",
          "text": [
            "\r  2%|▏         | 1230/50000 [15:44<9:59:57,  1.35it/s]"
          ]
        },
        {
          "output_type": "stream",
          "name": "stdout",
          "text": [
            "Saved file: /content/drive/MyDrive/dataset/TeamDeepwave/dataset/preprocessed/train/fake/BCUCYZDO.png\n",
            "Processing file: /content/drive/MyDrive/dataset/TeamDeepwave/dataset/open/./train/ESTBNUJC.ogg\n"
          ]
        },
        {
          "output_type": "stream",
          "name": "stderr",
          "text": [
            "\r  2%|▏         | 1231/50000 [15:45<9:56:44,  1.36it/s]"
          ]
        },
        {
          "output_type": "stream",
          "name": "stdout",
          "text": [
            "Saved file: /content/drive/MyDrive/dataset/TeamDeepwave/dataset/preprocessed/train/fake/ESTBNUJC.png\n",
            "Processing file: /content/drive/MyDrive/dataset/TeamDeepwave/dataset/open/./train/KERIWNOT.ogg\n"
          ]
        },
        {
          "output_type": "stream",
          "name": "stderr",
          "text": [
            "\r  2%|▏         | 1232/50000 [15:45<9:33:40,  1.42it/s]"
          ]
        },
        {
          "output_type": "stream",
          "name": "stdout",
          "text": [
            "Saved file: /content/drive/MyDrive/dataset/TeamDeepwave/dataset/preprocessed/train/fake/KERIWNOT.png\n",
            "Processing file: /content/drive/MyDrive/dataset/TeamDeepwave/dataset/open/./train/WXMBKBNF.ogg\n"
          ]
        },
        {
          "output_type": "stream",
          "name": "stderr",
          "text": [
            "\r  2%|▏         | 1233/50000 [15:46<9:44:06,  1.39it/s]"
          ]
        },
        {
          "output_type": "stream",
          "name": "stdout",
          "text": [
            "Saved file: /content/drive/MyDrive/dataset/TeamDeepwave/dataset/preprocessed/train/real/WXMBKBNF.png\n",
            "Processing file: /content/drive/MyDrive/dataset/TeamDeepwave/dataset/open/./train/NARCMEIP.ogg\n"
          ]
        },
        {
          "output_type": "stream",
          "name": "stderr",
          "text": [
            "\r  2%|▏         | 1234/50000 [15:47<10:10:36,  1.33it/s]"
          ]
        },
        {
          "output_type": "stream",
          "name": "stdout",
          "text": [
            "Saved file: /content/drive/MyDrive/dataset/TeamDeepwave/dataset/preprocessed/train/real/NARCMEIP.png\n",
            "Processing file: /content/drive/MyDrive/dataset/TeamDeepwave/dataset/open/./train/CLFZQVVT.ogg\n"
          ]
        },
        {
          "output_type": "stream",
          "name": "stderr",
          "text": [
            "\r  2%|▏         | 1235/50000 [15:47<9:45:58,  1.39it/s] "
          ]
        },
        {
          "output_type": "stream",
          "name": "stdout",
          "text": [
            "Saved file: /content/drive/MyDrive/dataset/TeamDeepwave/dataset/preprocessed/train/real/CLFZQVVT.png\n",
            "Processing file: /content/drive/MyDrive/dataset/TeamDeepwave/dataset/open/./train/LDXXKTZI.ogg\n"
          ]
        },
        {
          "output_type": "stream",
          "name": "stderr",
          "text": [
            "\r  2%|▏         | 1236/50000 [15:48<9:37:25,  1.41it/s]"
          ]
        },
        {
          "output_type": "stream",
          "name": "stdout",
          "text": [
            "Saved file: /content/drive/MyDrive/dataset/TeamDeepwave/dataset/preprocessed/train/real/LDXXKTZI.png\n",
            "Processing file: /content/drive/MyDrive/dataset/TeamDeepwave/dataset/open/./train/VKATIAGR.ogg\n"
          ]
        },
        {
          "output_type": "stream",
          "name": "stderr",
          "text": [
            "\r  2%|▏         | 1237/50000 [15:49<9:21:09,  1.45it/s]"
          ]
        },
        {
          "output_type": "stream",
          "name": "stdout",
          "text": [
            "Saved file: /content/drive/MyDrive/dataset/TeamDeepwave/dataset/preprocessed/train/fake/VKATIAGR.png\n",
            "Processing file: /content/drive/MyDrive/dataset/TeamDeepwave/dataset/open/./train/KIESBCDP.ogg\n"
          ]
        },
        {
          "output_type": "stream",
          "name": "stderr",
          "text": [
            "\r  2%|▏         | 1238/50000 [15:49<9:37:00,  1.41it/s]"
          ]
        },
        {
          "output_type": "stream",
          "name": "stdout",
          "text": [
            "Saved file: /content/drive/MyDrive/dataset/TeamDeepwave/dataset/preprocessed/train/fake/KIESBCDP.png\n",
            "Processing file: /content/drive/MyDrive/dataset/TeamDeepwave/dataset/open/./train/MOMSABDG.ogg\n"
          ]
        },
        {
          "output_type": "stream",
          "name": "stderr",
          "text": [
            "\r  2%|▏         | 1239/50000 [15:50<9:39:45,  1.40it/s]"
          ]
        },
        {
          "output_type": "stream",
          "name": "stdout",
          "text": [
            "Saved file: /content/drive/MyDrive/dataset/TeamDeepwave/dataset/preprocessed/train/real/MOMSABDG.png\n",
            "Processing file: /content/drive/MyDrive/dataset/TeamDeepwave/dataset/open/./train/XDVJUQZP.ogg\n"
          ]
        },
        {
          "output_type": "stream",
          "name": "stderr",
          "text": [
            "\r  2%|▏         | 1240/50000 [15:51<9:31:36,  1.42it/s]"
          ]
        },
        {
          "output_type": "stream",
          "name": "stdout",
          "text": [
            "Saved file: /content/drive/MyDrive/dataset/TeamDeepwave/dataset/preprocessed/train/real/XDVJUQZP.png\n",
            "Processing file: /content/drive/MyDrive/dataset/TeamDeepwave/dataset/open/./train/OEJUSYUU.ogg\n"
          ]
        },
        {
          "output_type": "stream",
          "name": "stderr",
          "text": [
            "\r  2%|▏         | 1241/50000 [15:52<10:19:08,  1.31it/s]"
          ]
        },
        {
          "output_type": "stream",
          "name": "stdout",
          "text": [
            "Saved file: /content/drive/MyDrive/dataset/TeamDeepwave/dataset/preprocessed/train/real/OEJUSYUU.png\n",
            "Processing file: /content/drive/MyDrive/dataset/TeamDeepwave/dataset/open/./train/MMDPCFJY.ogg\n"
          ]
        },
        {
          "output_type": "stream",
          "name": "stderr",
          "text": [
            "\r  2%|▏         | 1242/50000 [15:53<10:39:30,  1.27it/s]"
          ]
        },
        {
          "output_type": "stream",
          "name": "stdout",
          "text": [
            "Saved file: /content/drive/MyDrive/dataset/TeamDeepwave/dataset/preprocessed/train/real/MMDPCFJY.png\n",
            "Processing file: /content/drive/MyDrive/dataset/TeamDeepwave/dataset/open/./train/VFQWIEBZ.ogg\n"
          ]
        },
        {
          "output_type": "stream",
          "name": "stderr",
          "text": [
            "\r  2%|▏         | 1243/50000 [15:53<10:58:54,  1.23it/s]"
          ]
        },
        {
          "output_type": "stream",
          "name": "stdout",
          "text": [
            "Saved file: /content/drive/MyDrive/dataset/TeamDeepwave/dataset/preprocessed/train/fake/VFQWIEBZ.png\n",
            "Processing file: /content/drive/MyDrive/dataset/TeamDeepwave/dataset/open/./train/KWFTIVOI.ogg\n"
          ]
        },
        {
          "output_type": "stream",
          "name": "stderr",
          "text": [
            "\r  2%|▏         | 1244/50000 [15:54<11:02:32,  1.23it/s]"
          ]
        },
        {
          "output_type": "stream",
          "name": "stdout",
          "text": [
            "Saved file: /content/drive/MyDrive/dataset/TeamDeepwave/dataset/preprocessed/train/real/KWFTIVOI.png\n",
            "Processing file: /content/drive/MyDrive/dataset/TeamDeepwave/dataset/open/./train/IOSYKFST.ogg\n"
          ]
        },
        {
          "output_type": "stream",
          "name": "stderr",
          "text": [
            "\r  2%|▏         | 1245/50000 [15:55<11:31:21,  1.18it/s]"
          ]
        },
        {
          "output_type": "stream",
          "name": "stdout",
          "text": [
            "Saved file: /content/drive/MyDrive/dataset/TeamDeepwave/dataset/preprocessed/train/real/IOSYKFST.png\n",
            "Processing file: /content/drive/MyDrive/dataset/TeamDeepwave/dataset/open/./train/VWYLYOMY.ogg\n"
          ]
        },
        {
          "output_type": "stream",
          "name": "stderr",
          "text": [
            "\r  2%|▏         | 1246/50000 [15:56<11:16:39,  1.20it/s]"
          ]
        },
        {
          "output_type": "stream",
          "name": "stdout",
          "text": [
            "Saved file: /content/drive/MyDrive/dataset/TeamDeepwave/dataset/preprocessed/train/real/VWYLYOMY.png\n",
            "Processing file: /content/drive/MyDrive/dataset/TeamDeepwave/dataset/open/./train/BJEZYZSW.ogg\n"
          ]
        },
        {
          "output_type": "stream",
          "name": "stderr",
          "text": [
            "\r  2%|▏         | 1247/50000 [15:57<10:49:41,  1.25it/s]"
          ]
        },
        {
          "output_type": "stream",
          "name": "stdout",
          "text": [
            "Saved file: /content/drive/MyDrive/dataset/TeamDeepwave/dataset/preprocessed/train/fake/BJEZYZSW.png\n",
            "Processing file: /content/drive/MyDrive/dataset/TeamDeepwave/dataset/open/./train/XEAQMXBU.ogg\n"
          ]
        },
        {
          "output_type": "stream",
          "name": "stderr",
          "text": [
            "\r  2%|▏         | 1248/50000 [15:57<10:27:41,  1.29it/s]"
          ]
        },
        {
          "output_type": "stream",
          "name": "stdout",
          "text": [
            "Saved file: /content/drive/MyDrive/dataset/TeamDeepwave/dataset/preprocessed/train/fake/XEAQMXBU.png\n",
            "Processing file: /content/drive/MyDrive/dataset/TeamDeepwave/dataset/open/./train/LKAEDQYY.ogg\n"
          ]
        },
        {
          "output_type": "stream",
          "name": "stderr",
          "text": [
            "\r  2%|▏         | 1249/50000 [15:58<9:42:40,  1.39it/s] "
          ]
        },
        {
          "output_type": "stream",
          "name": "stdout",
          "text": [
            "Saved file: /content/drive/MyDrive/dataset/TeamDeepwave/dataset/preprocessed/train/fake/LKAEDQYY.png\n",
            "Processing file: /content/drive/MyDrive/dataset/TeamDeepwave/dataset/open/./train/UQINZRGK.ogg\n"
          ]
        },
        {
          "output_type": "stream",
          "name": "stderr",
          "text": [
            "\r  2%|▎         | 1250/50000 [15:59<10:04:41,  1.34it/s]"
          ]
        },
        {
          "output_type": "stream",
          "name": "stdout",
          "text": [
            "Saved file: /content/drive/MyDrive/dataset/TeamDeepwave/dataset/preprocessed/train/real/UQINZRGK.png\n",
            "Processing file: /content/drive/MyDrive/dataset/TeamDeepwave/dataset/open/./train/HZJLRRVF.ogg\n"
          ]
        },
        {
          "output_type": "stream",
          "name": "stderr",
          "text": [
            "\r  3%|▎         | 1251/50000 [16:00<10:08:08,  1.34it/s]"
          ]
        },
        {
          "output_type": "stream",
          "name": "stdout",
          "text": [
            "Saved file: /content/drive/MyDrive/dataset/TeamDeepwave/dataset/preprocessed/train/fake/HZJLRRVF.png\n",
            "Processing file: /content/drive/MyDrive/dataset/TeamDeepwave/dataset/open/./train/FNKFRNVT.ogg\n"
          ]
        },
        {
          "output_type": "stream",
          "name": "stderr",
          "text": [
            "\r  3%|▎         | 1252/50000 [16:00<10:20:04,  1.31it/s]"
          ]
        },
        {
          "output_type": "stream",
          "name": "stdout",
          "text": [
            "Saved file: /content/drive/MyDrive/dataset/TeamDeepwave/dataset/preprocessed/train/fake/FNKFRNVT.png\n",
            "Processing file: /content/drive/MyDrive/dataset/TeamDeepwave/dataset/open/./train/XGSTMZHD.ogg\n"
          ]
        },
        {
          "output_type": "stream",
          "name": "stderr",
          "text": [
            "\r  3%|▎         | 1253/50000 [16:01<9:38:27,  1.40it/s] "
          ]
        },
        {
          "output_type": "stream",
          "name": "stdout",
          "text": [
            "Saved file: /content/drive/MyDrive/dataset/TeamDeepwave/dataset/preprocessed/train/real/XGSTMZHD.png\n",
            "Processing file: /content/drive/MyDrive/dataset/TeamDeepwave/dataset/open/./train/LUKHIAMO.ogg\n"
          ]
        },
        {
          "output_type": "stream",
          "name": "stderr",
          "text": [
            "\r  3%|▎         | 1254/50000 [16:02<9:09:15,  1.48it/s]"
          ]
        },
        {
          "output_type": "stream",
          "name": "stdout",
          "text": [
            "Saved file: /content/drive/MyDrive/dataset/TeamDeepwave/dataset/preprocessed/train/fake/LUKHIAMO.png\n",
            "Processing file: /content/drive/MyDrive/dataset/TeamDeepwave/dataset/open/./train/ROTFJDJE.ogg\n"
          ]
        },
        {
          "output_type": "stream",
          "name": "stderr",
          "text": [
            "\r  3%|▎         | 1255/50000 [16:02<8:56:01,  1.52it/s]"
          ]
        },
        {
          "output_type": "stream",
          "name": "stdout",
          "text": [
            "Saved file: /content/drive/MyDrive/dataset/TeamDeepwave/dataset/preprocessed/train/fake/ROTFJDJE.png\n",
            "Processing file: /content/drive/MyDrive/dataset/TeamDeepwave/dataset/open/./train/LRRNWKRV.ogg\n"
          ]
        },
        {
          "output_type": "stream",
          "name": "stderr",
          "text": [
            "\r  3%|▎         | 1256/50000 [16:03<8:58:52,  1.51it/s]"
          ]
        },
        {
          "output_type": "stream",
          "name": "stdout",
          "text": [
            "Saved file: /content/drive/MyDrive/dataset/TeamDeepwave/dataset/preprocessed/train/fake/LRRNWKRV.png\n",
            "Processing file: /content/drive/MyDrive/dataset/TeamDeepwave/dataset/open/./train/EASJFKHR.ogg\n"
          ]
        },
        {
          "output_type": "stream",
          "name": "stderr",
          "text": [
            "\r  3%|▎         | 1257/50000 [16:03<8:43:03,  1.55it/s]"
          ]
        },
        {
          "output_type": "stream",
          "name": "stdout",
          "text": [
            "Saved file: /content/drive/MyDrive/dataset/TeamDeepwave/dataset/preprocessed/train/fake/EASJFKHR.png\n",
            "Processing file: /content/drive/MyDrive/dataset/TeamDeepwave/dataset/open/./train/SPHRHKEG.ogg\n"
          ]
        },
        {
          "output_type": "stream",
          "name": "stderr",
          "text": [
            "\r  3%|▎         | 1258/50000 [16:04<8:41:28,  1.56it/s]"
          ]
        },
        {
          "output_type": "stream",
          "name": "stdout",
          "text": [
            "Saved file: /content/drive/MyDrive/dataset/TeamDeepwave/dataset/preprocessed/train/real/SPHRHKEG.png\n",
            "Processing file: /content/drive/MyDrive/dataset/TeamDeepwave/dataset/open/./train/OLDPWEYE.ogg\n"
          ]
        },
        {
          "output_type": "stream",
          "name": "stderr",
          "text": [
            "\r  3%|▎         | 1259/50000 [16:05<8:26:38,  1.60it/s]"
          ]
        },
        {
          "output_type": "stream",
          "name": "stdout",
          "text": [
            "Saved file: /content/drive/MyDrive/dataset/TeamDeepwave/dataset/preprocessed/train/fake/OLDPWEYE.png\n",
            "Processing file: /content/drive/MyDrive/dataset/TeamDeepwave/dataset/open/./train/QGRPVONM.ogg\n"
          ]
        },
        {
          "output_type": "stream",
          "name": "stderr",
          "text": [
            "\r  3%|▎         | 1260/50000 [16:05<8:47:52,  1.54it/s]"
          ]
        },
        {
          "output_type": "stream",
          "name": "stdout",
          "text": [
            "Saved file: /content/drive/MyDrive/dataset/TeamDeepwave/dataset/preprocessed/train/fake/QGRPVONM.png\n",
            "Processing file: /content/drive/MyDrive/dataset/TeamDeepwave/dataset/open/./train/BLOGYKLO.ogg\n"
          ]
        },
        {
          "output_type": "stream",
          "name": "stderr",
          "text": [
            "\r  3%|▎         | 1261/50000 [16:07<11:11:32,  1.21it/s]"
          ]
        },
        {
          "output_type": "stream",
          "name": "stdout",
          "text": [
            "Saved file: /content/drive/MyDrive/dataset/TeamDeepwave/dataset/preprocessed/train/real/BLOGYKLO.png\n",
            "Processing file: /content/drive/MyDrive/dataset/TeamDeepwave/dataset/open/./train/CKYOXBZK.ogg\n"
          ]
        },
        {
          "output_type": "stream",
          "name": "stderr",
          "text": [
            "\r  3%|▎         | 1262/50000 [16:08<11:34:00,  1.17it/s]"
          ]
        },
        {
          "output_type": "stream",
          "name": "stdout",
          "text": [
            "Saved file: /content/drive/MyDrive/dataset/TeamDeepwave/dataset/preprocessed/train/real/CKYOXBZK.png\n",
            "Processing file: /content/drive/MyDrive/dataset/TeamDeepwave/dataset/open/./train/OSNOSSXQ.ogg\n"
          ]
        },
        {
          "output_type": "stream",
          "name": "stderr",
          "text": [
            "\r  3%|▎         | 1263/50000 [16:08<11:43:35,  1.15it/s]"
          ]
        },
        {
          "output_type": "stream",
          "name": "stdout",
          "text": [
            "Saved file: /content/drive/MyDrive/dataset/TeamDeepwave/dataset/preprocessed/train/fake/OSNOSSXQ.png\n",
            "Processing file: /content/drive/MyDrive/dataset/TeamDeepwave/dataset/open/./train/XYALAJWV.ogg\n"
          ]
        },
        {
          "output_type": "stream",
          "name": "stderr",
          "text": [
            "\r  3%|▎         | 1264/50000 [16:09<11:51:34,  1.14it/s]"
          ]
        },
        {
          "output_type": "stream",
          "name": "stdout",
          "text": [
            "Saved file: /content/drive/MyDrive/dataset/TeamDeepwave/dataset/preprocessed/train/fake/XYALAJWV.png\n",
            "Processing file: /content/drive/MyDrive/dataset/TeamDeepwave/dataset/open/./train/FMQYQFBN.ogg\n"
          ]
        },
        {
          "output_type": "stream",
          "name": "stderr",
          "text": [
            "\r  3%|▎         | 1265/50000 [16:10<12:17:45,  1.10it/s]"
          ]
        },
        {
          "output_type": "stream",
          "name": "stdout",
          "text": [
            "Saved file: /content/drive/MyDrive/dataset/TeamDeepwave/dataset/preprocessed/train/fake/FMQYQFBN.png\n",
            "Processing file: /content/drive/MyDrive/dataset/TeamDeepwave/dataset/open/./train/HQXXSJIW.ogg\n"
          ]
        },
        {
          "output_type": "stream",
          "name": "stderr",
          "text": [
            "\r  3%|▎         | 1266/50000 [16:11<11:57:19,  1.13it/s]"
          ]
        },
        {
          "output_type": "stream",
          "name": "stdout",
          "text": [
            "Saved file: /content/drive/MyDrive/dataset/TeamDeepwave/dataset/preprocessed/train/fake/HQXXSJIW.png\n",
            "Processing file: /content/drive/MyDrive/dataset/TeamDeepwave/dataset/open/./train/GIKITHNC.ogg\n"
          ]
        },
        {
          "output_type": "stream",
          "name": "stderr",
          "text": [
            "\r  3%|▎         | 1267/50000 [16:12<11:48:18,  1.15it/s]"
          ]
        },
        {
          "output_type": "stream",
          "name": "stdout",
          "text": [
            "Saved file: /content/drive/MyDrive/dataset/TeamDeepwave/dataset/preprocessed/train/real/GIKITHNC.png\n",
            "Processing file: /content/drive/MyDrive/dataset/TeamDeepwave/dataset/open/./train/DZKYEEAQ.ogg\n"
          ]
        },
        {
          "output_type": "stream",
          "name": "stderr",
          "text": [
            "\r  3%|▎         | 1268/50000 [16:13<11:11:46,  1.21it/s]"
          ]
        },
        {
          "output_type": "stream",
          "name": "stdout",
          "text": [
            "Saved file: /content/drive/MyDrive/dataset/TeamDeepwave/dataset/preprocessed/train/real/DZKYEEAQ.png\n",
            "Processing file: /content/drive/MyDrive/dataset/TeamDeepwave/dataset/open/./train/MRDXSGTX.ogg\n"
          ]
        },
        {
          "output_type": "stream",
          "name": "stderr",
          "text": [
            "\r  3%|▎         | 1269/50000 [16:13<10:11:26,  1.33it/s]"
          ]
        },
        {
          "output_type": "stream",
          "name": "stdout",
          "text": [
            "Saved file: /content/drive/MyDrive/dataset/TeamDeepwave/dataset/preprocessed/train/fake/MRDXSGTX.png\n",
            "Processing file: /content/drive/MyDrive/dataset/TeamDeepwave/dataset/open/./train/TBMOEAAQ.ogg\n"
          ]
        },
        {
          "output_type": "stream",
          "name": "stderr",
          "text": [
            "\r  3%|▎         | 1270/50000 [16:14<9:52:39,  1.37it/s] "
          ]
        },
        {
          "output_type": "stream",
          "name": "stdout",
          "text": [
            "Saved file: /content/drive/MyDrive/dataset/TeamDeepwave/dataset/preprocessed/train/real/TBMOEAAQ.png\n",
            "Processing file: /content/drive/MyDrive/dataset/TeamDeepwave/dataset/open/./train/CJDBITKI.ogg\n"
          ]
        },
        {
          "output_type": "stream",
          "name": "stderr",
          "text": [
            "\r  3%|▎         | 1271/50000 [16:15<10:08:20,  1.34it/s]"
          ]
        },
        {
          "output_type": "stream",
          "name": "stdout",
          "text": [
            "Saved file: /content/drive/MyDrive/dataset/TeamDeepwave/dataset/preprocessed/train/real/CJDBITKI.png\n",
            "Processing file: /content/drive/MyDrive/dataset/TeamDeepwave/dataset/open/./train/BWXHRRXT.ogg\n"
          ]
        },
        {
          "output_type": "stream",
          "name": "stderr",
          "text": [
            "\r  3%|▎         | 1272/50000 [16:15<9:52:46,  1.37it/s] "
          ]
        },
        {
          "output_type": "stream",
          "name": "stdout",
          "text": [
            "Saved file: /content/drive/MyDrive/dataset/TeamDeepwave/dataset/preprocessed/train/fake/BWXHRRXT.png\n",
            "Processing file: /content/drive/MyDrive/dataset/TeamDeepwave/dataset/open/./train/HFTSAEDU.ogg\n"
          ]
        },
        {
          "output_type": "stream",
          "name": "stderr",
          "text": [
            "\r  3%|▎         | 1273/50000 [16:16<9:23:09,  1.44it/s]"
          ]
        },
        {
          "output_type": "stream",
          "name": "stdout",
          "text": [
            "Saved file: /content/drive/MyDrive/dataset/TeamDeepwave/dataset/preprocessed/train/fake/HFTSAEDU.png\n",
            "Processing file: /content/drive/MyDrive/dataset/TeamDeepwave/dataset/open/./train/PXEYSVQB.ogg\n"
          ]
        },
        {
          "output_type": "stream",
          "name": "stderr",
          "text": [
            "\r  3%|▎         | 1274/50000 [16:17<9:05:38,  1.49it/s]"
          ]
        },
        {
          "output_type": "stream",
          "name": "stdout",
          "text": [
            "Saved file: /content/drive/MyDrive/dataset/TeamDeepwave/dataset/preprocessed/train/fake/PXEYSVQB.png\n",
            "Processing file: /content/drive/MyDrive/dataset/TeamDeepwave/dataset/open/./train/UDZUZMOP.ogg\n"
          ]
        },
        {
          "output_type": "stream",
          "name": "stderr",
          "text": [
            "\r  3%|▎         | 1275/50000 [16:17<8:51:52,  1.53it/s]"
          ]
        },
        {
          "output_type": "stream",
          "name": "stdout",
          "text": [
            "Saved file: /content/drive/MyDrive/dataset/TeamDeepwave/dataset/preprocessed/train/real/UDZUZMOP.png\n",
            "Processing file: /content/drive/MyDrive/dataset/TeamDeepwave/dataset/open/./train/FTBUFBTM.ogg\n"
          ]
        },
        {
          "output_type": "stream",
          "name": "stderr",
          "text": [
            "\r  3%|▎         | 1276/50000 [16:18<9:26:17,  1.43it/s]"
          ]
        },
        {
          "output_type": "stream",
          "name": "stdout",
          "text": [
            "Saved file: /content/drive/MyDrive/dataset/TeamDeepwave/dataset/preprocessed/train/real/FTBUFBTM.png\n",
            "Processing file: /content/drive/MyDrive/dataset/TeamDeepwave/dataset/open/./train/IJMBUWIG.ogg\n"
          ]
        },
        {
          "output_type": "stream",
          "name": "stderr",
          "text": [
            "\r  3%|▎         | 1277/50000 [16:22<23:37:23,  1.75s/it]"
          ]
        },
        {
          "output_type": "stream",
          "name": "stdout",
          "text": [
            "Saved file: /content/drive/MyDrive/dataset/TeamDeepwave/dataset/preprocessed/train/real/IJMBUWIG.png\n",
            "Processing file: /content/drive/MyDrive/dataset/TeamDeepwave/dataset/open/./train/BHFJHUFG.ogg\n"
          ]
        },
        {
          "output_type": "stream",
          "name": "stderr",
          "text": [
            "\r  3%|▎         | 1278/50000 [16:23<19:32:08,  1.44s/it]"
          ]
        },
        {
          "output_type": "stream",
          "name": "stdout",
          "text": [
            "Saved file: /content/drive/MyDrive/dataset/TeamDeepwave/dataset/preprocessed/train/fake/BHFJHUFG.png\n",
            "Processing file: /content/drive/MyDrive/dataset/TeamDeepwave/dataset/open/./train/KIBAMFMU.ogg\n"
          ]
        },
        {
          "output_type": "stream",
          "name": "stderr",
          "text": [
            "\r  3%|▎         | 1279/50000 [16:24<17:20:01,  1.28s/it]"
          ]
        },
        {
          "output_type": "stream",
          "name": "stdout",
          "text": [
            "Saved file: /content/drive/MyDrive/dataset/TeamDeepwave/dataset/preprocessed/train/fake/KIBAMFMU.png\n",
            "Processing file: /content/drive/MyDrive/dataset/TeamDeepwave/dataset/open/./train/LWMITWCA.ogg\n"
          ]
        },
        {
          "output_type": "stream",
          "name": "stderr",
          "text": [
            "\r  3%|▎         | 1280/50000 [16:25<16:44:50,  1.24s/it]"
          ]
        },
        {
          "output_type": "stream",
          "name": "stdout",
          "text": [
            "Saved file: /content/drive/MyDrive/dataset/TeamDeepwave/dataset/preprocessed/train/fake/LWMITWCA.png\n",
            "Processing file: /content/drive/MyDrive/dataset/TeamDeepwave/dataset/open/./train/RZKUPRXJ.ogg\n"
          ]
        },
        {
          "output_type": "stream",
          "name": "stderr",
          "text": [
            "\r  3%|▎         | 1281/50000 [16:26<15:54:47,  1.18s/it]"
          ]
        },
        {
          "output_type": "stream",
          "name": "stdout",
          "text": [
            "Saved file: /content/drive/MyDrive/dataset/TeamDeepwave/dataset/preprocessed/train/fake/RZKUPRXJ.png\n",
            "Processing file: /content/drive/MyDrive/dataset/TeamDeepwave/dataset/open/./train/FKXMNJEE.ogg\n"
          ]
        },
        {
          "output_type": "stream",
          "name": "stderr",
          "text": [
            "\r  3%|▎         | 1282/50000 [16:27<13:46:32,  1.02s/it]"
          ]
        },
        {
          "output_type": "stream",
          "name": "stdout",
          "text": [
            "Saved file: /content/drive/MyDrive/dataset/TeamDeepwave/dataset/preprocessed/train/real/FKXMNJEE.png\n",
            "Processing file: /content/drive/MyDrive/dataset/TeamDeepwave/dataset/open/./train/AJPKWURJ.ogg\n"
          ]
        },
        {
          "output_type": "stream",
          "name": "stderr",
          "text": [
            "\r  3%|▎         | 1283/50000 [16:27<12:19:56,  1.10it/s]"
          ]
        },
        {
          "output_type": "stream",
          "name": "stdout",
          "text": [
            "Saved file: /content/drive/MyDrive/dataset/TeamDeepwave/dataset/preprocessed/train/real/AJPKWURJ.png\n",
            "Processing file: /content/drive/MyDrive/dataset/TeamDeepwave/dataset/open/./train/OTVANJUO.ogg\n"
          ]
        },
        {
          "output_type": "stream",
          "name": "stderr",
          "text": [
            "\r  3%|▎         | 1284/50000 [16:28<11:42:44,  1.16it/s]"
          ]
        },
        {
          "output_type": "stream",
          "name": "stdout",
          "text": [
            "Saved file: /content/drive/MyDrive/dataset/TeamDeepwave/dataset/preprocessed/train/real/OTVANJUO.png\n",
            "Processing file: /content/drive/MyDrive/dataset/TeamDeepwave/dataset/open/./train/HMPUJVAD.ogg\n"
          ]
        },
        {
          "output_type": "stream",
          "name": "stderr",
          "text": [
            "\r  3%|▎         | 1285/50000 [16:29<11:00:06,  1.23it/s]"
          ]
        },
        {
          "output_type": "stream",
          "name": "stdout",
          "text": [
            "Saved file: /content/drive/MyDrive/dataset/TeamDeepwave/dataset/preprocessed/train/real/HMPUJVAD.png\n",
            "Processing file: /content/drive/MyDrive/dataset/TeamDeepwave/dataset/open/./train/NLZREDBB.ogg\n"
          ]
        },
        {
          "output_type": "stream",
          "name": "stderr",
          "text": [
            "\r  3%|▎         | 1286/50000 [16:29<10:06:47,  1.34it/s]"
          ]
        },
        {
          "output_type": "stream",
          "name": "stdout",
          "text": [
            "Saved file: /content/drive/MyDrive/dataset/TeamDeepwave/dataset/preprocessed/train/real/NLZREDBB.png\n",
            "Processing file: /content/drive/MyDrive/dataset/TeamDeepwave/dataset/open/./train/QFBROBCP.ogg\n"
          ]
        },
        {
          "output_type": "stream",
          "name": "stderr",
          "text": [
            "\r  3%|▎         | 1287/50000 [16:30<9:48:42,  1.38it/s] "
          ]
        },
        {
          "output_type": "stream",
          "name": "stdout",
          "text": [
            "Saved file: /content/drive/MyDrive/dataset/TeamDeepwave/dataset/preprocessed/train/real/QFBROBCP.png\n",
            "Processing file: /content/drive/MyDrive/dataset/TeamDeepwave/dataset/open/./train/HCVLGRMF.ogg\n"
          ]
        },
        {
          "output_type": "stream",
          "name": "stderr",
          "text": [
            "\r  3%|▎         | 1288/50000 [16:31<9:14:28,  1.46it/s]"
          ]
        },
        {
          "output_type": "stream",
          "name": "stdout",
          "text": [
            "Saved file: /content/drive/MyDrive/dataset/TeamDeepwave/dataset/preprocessed/train/fake/HCVLGRMF.png\n",
            "Processing file: /content/drive/MyDrive/dataset/TeamDeepwave/dataset/open/./train/FTXUCCYO.ogg\n"
          ]
        },
        {
          "output_type": "stream",
          "name": "stderr",
          "text": [
            "\r  3%|▎         | 1289/50000 [16:31<9:07:04,  1.48it/s]"
          ]
        },
        {
          "output_type": "stream",
          "name": "stdout",
          "text": [
            "Saved file: /content/drive/MyDrive/dataset/TeamDeepwave/dataset/preprocessed/train/real/FTXUCCYO.png\n",
            "Processing file: /content/drive/MyDrive/dataset/TeamDeepwave/dataset/open/./train/TUZMADSN.ogg\n"
          ]
        },
        {
          "output_type": "stream",
          "name": "stderr",
          "text": [
            "\r  3%|▎         | 1290/50000 [16:32<9:26:49,  1.43it/s]"
          ]
        },
        {
          "output_type": "stream",
          "name": "stdout",
          "text": [
            "Saved file: /content/drive/MyDrive/dataset/TeamDeepwave/dataset/preprocessed/train/fake/TUZMADSN.png\n",
            "Processing file: /content/drive/MyDrive/dataset/TeamDeepwave/dataset/open/./train/GVNDZECC.ogg\n"
          ]
        },
        {
          "output_type": "stream",
          "name": "stderr",
          "text": [
            "\r  3%|▎         | 1291/50000 [16:33<9:16:35,  1.46it/s]"
          ]
        },
        {
          "output_type": "stream",
          "name": "stdout",
          "text": [
            "Saved file: /content/drive/MyDrive/dataset/TeamDeepwave/dataset/preprocessed/train/real/GVNDZECC.png\n",
            "Processing file: /content/drive/MyDrive/dataset/TeamDeepwave/dataset/open/./train/PVBNWWJZ.ogg\n"
          ]
        },
        {
          "output_type": "stream",
          "name": "stderr",
          "text": [
            "\r  3%|▎         | 1292/50000 [16:34<9:37:12,  1.41it/s]"
          ]
        },
        {
          "output_type": "stream",
          "name": "stdout",
          "text": [
            "Saved file: /content/drive/MyDrive/dataset/TeamDeepwave/dataset/preprocessed/train/real/PVBNWWJZ.png\n",
            "Processing file: /content/drive/MyDrive/dataset/TeamDeepwave/dataset/open/./train/UPTAEBPM.ogg\n"
          ]
        },
        {
          "output_type": "stream",
          "name": "stderr",
          "text": [
            "\r  3%|▎         | 1293/50000 [16:34<9:20:55,  1.45it/s]"
          ]
        },
        {
          "output_type": "stream",
          "name": "stdout",
          "text": [
            "Saved file: /content/drive/MyDrive/dataset/TeamDeepwave/dataset/preprocessed/train/real/UPTAEBPM.png\n",
            "Processing file: /content/drive/MyDrive/dataset/TeamDeepwave/dataset/open/./train/ZROGFXSU.ogg\n"
          ]
        },
        {
          "output_type": "stream",
          "name": "stderr",
          "text": [
            "\r  3%|▎         | 1294/50000 [16:35<9:12:18,  1.47it/s]"
          ]
        },
        {
          "output_type": "stream",
          "name": "stdout",
          "text": [
            "Saved file: /content/drive/MyDrive/dataset/TeamDeepwave/dataset/preprocessed/train/real/ZROGFXSU.png\n",
            "Processing file: /content/drive/MyDrive/dataset/TeamDeepwave/dataset/open/./train/XPKEGUJB.ogg\n"
          ]
        },
        {
          "output_type": "stream",
          "name": "stderr",
          "text": [
            "\r  3%|▎         | 1295/50000 [16:36<9:55:57,  1.36it/s]"
          ]
        },
        {
          "output_type": "stream",
          "name": "stdout",
          "text": [
            "Saved file: /content/drive/MyDrive/dataset/TeamDeepwave/dataset/preprocessed/train/real/XPKEGUJB.png\n",
            "Processing file: /content/drive/MyDrive/dataset/TeamDeepwave/dataset/open/./train/RVAACRTE.ogg\n"
          ]
        },
        {
          "output_type": "stream",
          "name": "stderr",
          "text": [
            "\r  3%|▎         | 1296/50000 [16:37<10:23:33,  1.30it/s]"
          ]
        },
        {
          "output_type": "stream",
          "name": "stdout",
          "text": [
            "Saved file: /content/drive/MyDrive/dataset/TeamDeepwave/dataset/preprocessed/train/fake/RVAACRTE.png\n",
            "Processing file: /content/drive/MyDrive/dataset/TeamDeepwave/dataset/open/./train/XCPTMIZV.ogg\n"
          ]
        },
        {
          "output_type": "stream",
          "name": "stderr",
          "text": [
            "\r  3%|▎         | 1297/50000 [16:38<11:11:03,  1.21it/s]"
          ]
        },
        {
          "output_type": "stream",
          "name": "stdout",
          "text": [
            "Saved file: /content/drive/MyDrive/dataset/TeamDeepwave/dataset/preprocessed/train/real/XCPTMIZV.png\n",
            "Processing file: /content/drive/MyDrive/dataset/TeamDeepwave/dataset/open/./train/FXIFORFA.ogg\n"
          ]
        },
        {
          "output_type": "stream",
          "name": "stderr",
          "text": [
            "\r  3%|▎         | 1298/50000 [16:38<10:56:45,  1.24it/s]"
          ]
        },
        {
          "output_type": "stream",
          "name": "stdout",
          "text": [
            "Saved file: /content/drive/MyDrive/dataset/TeamDeepwave/dataset/preprocessed/train/fake/FXIFORFA.png\n",
            "Processing file: /content/drive/MyDrive/dataset/TeamDeepwave/dataset/open/./train/EJNAHPKP.ogg\n"
          ]
        },
        {
          "output_type": "stream",
          "name": "stderr",
          "text": [
            "\r  3%|▎         | 1299/50000 [16:39<11:19:32,  1.19it/s]"
          ]
        },
        {
          "output_type": "stream",
          "name": "stdout",
          "text": [
            "Saved file: /content/drive/MyDrive/dataset/TeamDeepwave/dataset/preprocessed/train/real/EJNAHPKP.png\n",
            "Processing file: /content/drive/MyDrive/dataset/TeamDeepwave/dataset/open/./train/NPREDRQH.ogg\n"
          ]
        },
        {
          "output_type": "stream",
          "name": "stderr",
          "text": [
            "\r  3%|▎         | 1300/50000 [16:40<11:28:56,  1.18it/s]"
          ]
        },
        {
          "output_type": "stream",
          "name": "stdout",
          "text": [
            "Saved file: /content/drive/MyDrive/dataset/TeamDeepwave/dataset/preprocessed/train/fake/NPREDRQH.png\n",
            "Processing file: /content/drive/MyDrive/dataset/TeamDeepwave/dataset/open/./train/BTEWRGOU.ogg\n"
          ]
        },
        {
          "output_type": "stream",
          "name": "stderr",
          "text": [
            "\r  3%|▎         | 1301/50000 [16:41<10:28:40,  1.29it/s]"
          ]
        },
        {
          "output_type": "stream",
          "name": "stdout",
          "text": [
            "Saved file: /content/drive/MyDrive/dataset/TeamDeepwave/dataset/preprocessed/train/fake/BTEWRGOU.png\n",
            "Processing file: /content/drive/MyDrive/dataset/TeamDeepwave/dataset/open/./train/NRVXDENX.ogg\n"
          ]
        },
        {
          "output_type": "stream",
          "name": "stderr",
          "text": [
            "\r  3%|▎         | 1302/50000 [16:41<9:37:41,  1.40it/s] "
          ]
        },
        {
          "output_type": "stream",
          "name": "stdout",
          "text": [
            "Saved file: /content/drive/MyDrive/dataset/TeamDeepwave/dataset/preprocessed/train/fake/NRVXDENX.png\n",
            "Processing file: /content/drive/MyDrive/dataset/TeamDeepwave/dataset/open/./train/XLOPPURY.ogg\n"
          ]
        },
        {
          "output_type": "stream",
          "name": "stderr",
          "text": [
            "\r  3%|▎         | 1303/50000 [16:42<9:06:44,  1.48it/s]"
          ]
        },
        {
          "output_type": "stream",
          "name": "stdout",
          "text": [
            "Saved file: /content/drive/MyDrive/dataset/TeamDeepwave/dataset/preprocessed/train/fake/XLOPPURY.png\n",
            "Processing file: /content/drive/MyDrive/dataset/TeamDeepwave/dataset/open/./train/OXPJTNMQ.ogg\n"
          ]
        },
        {
          "output_type": "stream",
          "name": "stderr",
          "text": [
            "\r  3%|▎         | 1304/50000 [16:43<9:04:59,  1.49it/s]"
          ]
        },
        {
          "output_type": "stream",
          "name": "stdout",
          "text": [
            "Saved file: /content/drive/MyDrive/dataset/TeamDeepwave/dataset/preprocessed/train/fake/OXPJTNMQ.png\n",
            "Processing file: /content/drive/MyDrive/dataset/TeamDeepwave/dataset/open/./train/XHBDFHBA.ogg\n"
          ]
        },
        {
          "output_type": "stream",
          "name": "stderr",
          "text": [
            "\r  3%|▎         | 1305/50000 [16:43<9:00:39,  1.50it/s]"
          ]
        },
        {
          "output_type": "stream",
          "name": "stdout",
          "text": [
            "Saved file: /content/drive/MyDrive/dataset/TeamDeepwave/dataset/preprocessed/train/fake/XHBDFHBA.png\n",
            "Processing file: /content/drive/MyDrive/dataset/TeamDeepwave/dataset/open/./train/CWWOJEOO.ogg\n"
          ]
        },
        {
          "output_type": "stream",
          "name": "stderr",
          "text": [
            "\r  3%|▎         | 1306/50000 [16:44<9:16:09,  1.46it/s]"
          ]
        },
        {
          "output_type": "stream",
          "name": "stdout",
          "text": [
            "Saved file: /content/drive/MyDrive/dataset/TeamDeepwave/dataset/preprocessed/train/real/CWWOJEOO.png\n",
            "Processing file: /content/drive/MyDrive/dataset/TeamDeepwave/dataset/open/./train/SKQFZHQC.ogg\n"
          ]
        },
        {
          "output_type": "stream",
          "name": "stderr",
          "text": [
            "\r  3%|▎         | 1307/50000 [16:45<8:56:50,  1.51it/s]"
          ]
        },
        {
          "output_type": "stream",
          "name": "stdout",
          "text": [
            "Saved file: /content/drive/MyDrive/dataset/TeamDeepwave/dataset/preprocessed/train/fake/SKQFZHQC.png\n",
            "Processing file: /content/drive/MyDrive/dataset/TeamDeepwave/dataset/open/./train/UZOTUKCX.ogg\n"
          ]
        },
        {
          "output_type": "stream",
          "name": "stderr",
          "text": [
            "\r  3%|▎         | 1308/50000 [16:45<9:38:20,  1.40it/s]"
          ]
        },
        {
          "output_type": "stream",
          "name": "stdout",
          "text": [
            "Saved file: /content/drive/MyDrive/dataset/TeamDeepwave/dataset/preprocessed/train/real/UZOTUKCX.png\n",
            "Processing file: /content/drive/MyDrive/dataset/TeamDeepwave/dataset/open/./train/XOIMBRLQ.ogg\n"
          ]
        },
        {
          "output_type": "stream",
          "name": "stderr",
          "text": [
            "\r  3%|▎         | 1309/50000 [16:46<9:21:41,  1.44it/s]"
          ]
        },
        {
          "output_type": "stream",
          "name": "stdout",
          "text": [
            "Saved file: /content/drive/MyDrive/dataset/TeamDeepwave/dataset/preprocessed/train/fake/XOIMBRLQ.png\n",
            "Processing file: /content/drive/MyDrive/dataset/TeamDeepwave/dataset/open/./train/TDRNHMIR.ogg\n"
          ]
        },
        {
          "output_type": "stream",
          "name": "stderr",
          "text": [
            "\r  3%|▎         | 1310/50000 [16:47<9:40:50,  1.40it/s]"
          ]
        },
        {
          "output_type": "stream",
          "name": "stdout",
          "text": [
            "Saved file: /content/drive/MyDrive/dataset/TeamDeepwave/dataset/preprocessed/train/real/TDRNHMIR.png\n",
            "Processing file: /content/drive/MyDrive/dataset/TeamDeepwave/dataset/open/./train/JKTQBVHJ.ogg\n"
          ]
        },
        {
          "output_type": "stream",
          "name": "stderr",
          "text": [
            "\r  3%|▎         | 1311/50000 [16:47<9:09:13,  1.48it/s]"
          ]
        },
        {
          "output_type": "stream",
          "name": "stdout",
          "text": [
            "Saved file: /content/drive/MyDrive/dataset/TeamDeepwave/dataset/preprocessed/train/fake/JKTQBVHJ.png\n",
            "Processing file: /content/drive/MyDrive/dataset/TeamDeepwave/dataset/open/./train/JSVFYLJW.ogg\n"
          ]
        },
        {
          "output_type": "stream",
          "name": "stderr",
          "text": [
            "\r  3%|▎         | 1312/50000 [16:48<9:11:45,  1.47it/s]"
          ]
        },
        {
          "output_type": "stream",
          "name": "stdout",
          "text": [
            "Saved file: /content/drive/MyDrive/dataset/TeamDeepwave/dataset/preprocessed/train/real/JSVFYLJW.png\n",
            "Processing file: /content/drive/MyDrive/dataset/TeamDeepwave/dataset/open/./train/HHFBNHHN.ogg\n"
          ]
        },
        {
          "output_type": "stream",
          "name": "stderr",
          "text": [
            "\r  3%|▎         | 1313/50000 [16:49<9:13:54,  1.46it/s]"
          ]
        },
        {
          "output_type": "stream",
          "name": "stdout",
          "text": [
            "Saved file: /content/drive/MyDrive/dataset/TeamDeepwave/dataset/preprocessed/train/fake/HHFBNHHN.png\n",
            "Processing file: /content/drive/MyDrive/dataset/TeamDeepwave/dataset/open/./train/KKWPMHCS.ogg\n"
          ]
        },
        {
          "output_type": "stream",
          "name": "stderr",
          "text": [
            "\r  3%|▎         | 1314/50000 [16:49<9:02:38,  1.50it/s]"
          ]
        },
        {
          "output_type": "stream",
          "name": "stdout",
          "text": [
            "Saved file: /content/drive/MyDrive/dataset/TeamDeepwave/dataset/preprocessed/train/fake/KKWPMHCS.png\n",
            "Processing file: /content/drive/MyDrive/dataset/TeamDeepwave/dataset/open/./train/MGUOQOQH.ogg\n"
          ]
        },
        {
          "output_type": "stream",
          "name": "stderr",
          "text": [
            "\r  3%|▎         | 1315/50000 [16:50<8:51:37,  1.53it/s]"
          ]
        },
        {
          "output_type": "stream",
          "name": "stdout",
          "text": [
            "Saved file: /content/drive/MyDrive/dataset/TeamDeepwave/dataset/preprocessed/train/fake/MGUOQOQH.png\n",
            "Processing file: /content/drive/MyDrive/dataset/TeamDeepwave/dataset/open/./train/QQBLSTTT.ogg\n"
          ]
        },
        {
          "output_type": "stream",
          "name": "stderr",
          "text": [
            "\r  3%|▎         | 1316/50000 [16:51<9:17:15,  1.46it/s]"
          ]
        },
        {
          "output_type": "stream",
          "name": "stdout",
          "text": [
            "Saved file: /content/drive/MyDrive/dataset/TeamDeepwave/dataset/preprocessed/train/fake/QQBLSTTT.png\n",
            "Processing file: /content/drive/MyDrive/dataset/TeamDeepwave/dataset/open/./train/PFWFGOIA.ogg\n"
          ]
        },
        {
          "output_type": "stream",
          "name": "stderr",
          "text": [
            "\r  3%|▎         | 1317/50000 [16:52<9:41:57,  1.39it/s]"
          ]
        },
        {
          "output_type": "stream",
          "name": "stdout",
          "text": [
            "Saved file: /content/drive/MyDrive/dataset/TeamDeepwave/dataset/preprocessed/train/fake/PFWFGOIA.png\n",
            "Processing file: /content/drive/MyDrive/dataset/TeamDeepwave/dataset/open/./train/AMGHAGIN.ogg\n"
          ]
        },
        {
          "output_type": "stream",
          "name": "stderr",
          "text": [
            "\r  3%|▎         | 1318/50000 [16:52<10:12:28,  1.32it/s]"
          ]
        },
        {
          "output_type": "stream",
          "name": "stdout",
          "text": [
            "Saved file: /content/drive/MyDrive/dataset/TeamDeepwave/dataset/preprocessed/train/real/AMGHAGIN.png\n",
            "Processing file: /content/drive/MyDrive/dataset/TeamDeepwave/dataset/open/./train/MJSGIMOB.ogg\n"
          ]
        },
        {
          "output_type": "stream",
          "name": "stderr",
          "text": [
            "\r  3%|▎         | 1319/50000 [16:53<10:12:39,  1.32it/s]"
          ]
        },
        {
          "output_type": "stream",
          "name": "stdout",
          "text": [
            "Saved file: /content/drive/MyDrive/dataset/TeamDeepwave/dataset/preprocessed/train/fake/MJSGIMOB.png\n",
            "Processing file: /content/drive/MyDrive/dataset/TeamDeepwave/dataset/open/./train/SZKEIYGZ.ogg\n"
          ]
        },
        {
          "output_type": "stream",
          "name": "stderr",
          "text": [
            "\r  3%|▎         | 1320/50000 [16:54<11:14:19,  1.20it/s]"
          ]
        },
        {
          "output_type": "stream",
          "name": "stdout",
          "text": [
            "Saved file: /content/drive/MyDrive/dataset/TeamDeepwave/dataset/preprocessed/train/real/SZKEIYGZ.png\n",
            "Processing file: /content/drive/MyDrive/dataset/TeamDeepwave/dataset/open/./train/YNTLIWHN.ogg\n"
          ]
        },
        {
          "output_type": "stream",
          "name": "stderr",
          "text": [
            "\r  3%|▎         | 1321/50000 [16:55<10:27:50,  1.29it/s]"
          ]
        },
        {
          "output_type": "stream",
          "name": "stdout",
          "text": [
            "Saved file: /content/drive/MyDrive/dataset/TeamDeepwave/dataset/preprocessed/train/real/YNTLIWHN.png\n",
            "Processing file: /content/drive/MyDrive/dataset/TeamDeepwave/dataset/open/./train/KZSAEQZE.ogg\n"
          ]
        },
        {
          "output_type": "stream",
          "name": "stderr",
          "text": [
            "\r  3%|▎         | 1322/50000 [16:56<10:33:09,  1.28it/s]"
          ]
        },
        {
          "output_type": "stream",
          "name": "stdout",
          "text": [
            "Saved file: /content/drive/MyDrive/dataset/TeamDeepwave/dataset/preprocessed/train/real/KZSAEQZE.png\n",
            "Processing file: /content/drive/MyDrive/dataset/TeamDeepwave/dataset/open/./train/LAWLNIUK.ogg\n"
          ]
        },
        {
          "output_type": "stream",
          "name": "stderr",
          "text": [
            "\r  3%|▎         | 1323/50000 [16:56<10:16:06,  1.32it/s]"
          ]
        },
        {
          "output_type": "stream",
          "name": "stdout",
          "text": [
            "Saved file: /content/drive/MyDrive/dataset/TeamDeepwave/dataset/preprocessed/train/real/LAWLNIUK.png\n",
            "Processing file: /content/drive/MyDrive/dataset/TeamDeepwave/dataset/open/./train/RDFYJPDV.ogg\n"
          ]
        },
        {
          "output_type": "stream",
          "name": "stderr",
          "text": [
            "\r  3%|▎         | 1324/50000 [16:57<9:44:24,  1.39it/s] "
          ]
        },
        {
          "output_type": "stream",
          "name": "stdout",
          "text": [
            "Saved file: /content/drive/MyDrive/dataset/TeamDeepwave/dataset/preprocessed/train/fake/RDFYJPDV.png\n",
            "Processing file: /content/drive/MyDrive/dataset/TeamDeepwave/dataset/open/./train/WKVADWBH.ogg\n"
          ]
        },
        {
          "output_type": "stream",
          "name": "stderr",
          "text": [
            "\r  3%|▎         | 1325/50000 [16:58<9:29:36,  1.42it/s]"
          ]
        },
        {
          "output_type": "stream",
          "name": "stdout",
          "text": [
            "Saved file: /content/drive/MyDrive/dataset/TeamDeepwave/dataset/preprocessed/train/real/WKVADWBH.png\n",
            "Processing file: /content/drive/MyDrive/dataset/TeamDeepwave/dataset/open/./train/IQITPPAY.ogg\n"
          ]
        },
        {
          "output_type": "stream",
          "name": "stderr",
          "text": [
            "\r  3%|▎         | 1326/50000 [16:58<9:21:12,  1.45it/s]"
          ]
        },
        {
          "output_type": "stream",
          "name": "stdout",
          "text": [
            "Saved file: /content/drive/MyDrive/dataset/TeamDeepwave/dataset/preprocessed/train/fake/IQITPPAY.png\n",
            "Processing file: /content/drive/MyDrive/dataset/TeamDeepwave/dataset/open/./train/HAIWBGHV.ogg\n"
          ]
        },
        {
          "output_type": "stream",
          "name": "stderr",
          "text": [
            "\r  3%|▎         | 1327/50000 [16:59<9:06:32,  1.48it/s]"
          ]
        },
        {
          "output_type": "stream",
          "name": "stdout",
          "text": [
            "Saved file: /content/drive/MyDrive/dataset/TeamDeepwave/dataset/preprocessed/train/fake/HAIWBGHV.png\n",
            "Processing file: /content/drive/MyDrive/dataset/TeamDeepwave/dataset/open/./train/UUBDBOGX.ogg\n"
          ]
        },
        {
          "output_type": "stream",
          "name": "stderr",
          "text": [
            "\r  3%|▎         | 1328/50000 [17:00<9:18:27,  1.45it/s]"
          ]
        },
        {
          "output_type": "stream",
          "name": "stdout",
          "text": [
            "Saved file: /content/drive/MyDrive/dataset/TeamDeepwave/dataset/preprocessed/train/real/UUBDBOGX.png\n",
            "Processing file: /content/drive/MyDrive/dataset/TeamDeepwave/dataset/open/./train/ODQSOVIF.ogg\n"
          ]
        },
        {
          "output_type": "stream",
          "name": "stderr",
          "text": [
            "\r  3%|▎         | 1329/50000 [17:00<9:02:04,  1.50it/s]"
          ]
        },
        {
          "output_type": "stream",
          "name": "stdout",
          "text": [
            "Saved file: /content/drive/MyDrive/dataset/TeamDeepwave/dataset/preprocessed/train/fake/ODQSOVIF.png\n",
            "Processing file: /content/drive/MyDrive/dataset/TeamDeepwave/dataset/open/./train/BQDJODAS.ogg\n"
          ]
        },
        {
          "output_type": "stream",
          "name": "stderr",
          "text": [
            "\r  3%|▎         | 1330/50000 [17:01<9:29:47,  1.42it/s]"
          ]
        },
        {
          "output_type": "stream",
          "name": "stdout",
          "text": [
            "Saved file: /content/drive/MyDrive/dataset/TeamDeepwave/dataset/preprocessed/train/real/BQDJODAS.png\n",
            "Processing file: /content/drive/MyDrive/dataset/TeamDeepwave/dataset/open/./train/BUAJDQQF.ogg\n"
          ]
        },
        {
          "output_type": "stream",
          "name": "stderr",
          "text": [
            "\r  3%|▎         | 1331/50000 [17:02<9:01:23,  1.50it/s]"
          ]
        },
        {
          "output_type": "stream",
          "name": "stdout",
          "text": [
            "Saved file: /content/drive/MyDrive/dataset/TeamDeepwave/dataset/preprocessed/train/fake/BUAJDQQF.png\n",
            "Processing file: /content/drive/MyDrive/dataset/TeamDeepwave/dataset/open/./train/HSFTLMDZ.ogg\n"
          ]
        },
        {
          "output_type": "stream",
          "name": "stderr",
          "text": [
            "\r  3%|▎         | 1332/50000 [17:02<8:53:40,  1.52it/s]"
          ]
        },
        {
          "output_type": "stream",
          "name": "stdout",
          "text": [
            "Saved file: /content/drive/MyDrive/dataset/TeamDeepwave/dataset/preprocessed/train/fake/HSFTLMDZ.png\n",
            "Processing file: /content/drive/MyDrive/dataset/TeamDeepwave/dataset/open/./train/IVKSNEKX.ogg\n"
          ]
        },
        {
          "output_type": "stream",
          "name": "stderr",
          "text": [
            "\r  3%|▎         | 1333/50000 [17:03<9:24:39,  1.44it/s]"
          ]
        },
        {
          "output_type": "stream",
          "name": "stdout",
          "text": [
            "Saved file: /content/drive/MyDrive/dataset/TeamDeepwave/dataset/preprocessed/train/real/IVKSNEKX.png\n",
            "Processing file: /content/drive/MyDrive/dataset/TeamDeepwave/dataset/open/./train/MNYPJORO.ogg\n"
          ]
        },
        {
          "output_type": "stream",
          "name": "stderr",
          "text": [
            "\r  3%|▎         | 1334/50000 [17:04<9:03:21,  1.49it/s]"
          ]
        },
        {
          "output_type": "stream",
          "name": "stdout",
          "text": [
            "Saved file: /content/drive/MyDrive/dataset/TeamDeepwave/dataset/preprocessed/train/real/MNYPJORO.png\n",
            "Processing file: /content/drive/MyDrive/dataset/TeamDeepwave/dataset/open/./train/KILJVVCI.ogg\n"
          ]
        },
        {
          "output_type": "stream",
          "name": "stderr",
          "text": [
            "\r  3%|▎         | 1335/50000 [17:04<9:48:09,  1.38it/s]"
          ]
        },
        {
          "output_type": "stream",
          "name": "stdout",
          "text": [
            "Saved file: /content/drive/MyDrive/dataset/TeamDeepwave/dataset/preprocessed/train/real/KILJVVCI.png\n",
            "Processing file: /content/drive/MyDrive/dataset/TeamDeepwave/dataset/open/./train/XEZUTJCK.ogg\n"
          ]
        },
        {
          "output_type": "stream",
          "name": "stderr",
          "text": [
            "\r  3%|▎         | 1336/50000 [17:05<10:38:53,  1.27it/s]"
          ]
        },
        {
          "output_type": "stream",
          "name": "stdout",
          "text": [
            "Saved file: /content/drive/MyDrive/dataset/TeamDeepwave/dataset/preprocessed/train/real/XEZUTJCK.png\n",
            "Processing file: /content/drive/MyDrive/dataset/TeamDeepwave/dataset/open/./train/GYODJHNJ.ogg\n"
          ]
        },
        {
          "output_type": "stream",
          "name": "stderr",
          "text": [
            "\r  3%|▎         | 1337/50000 [17:06<10:35:25,  1.28it/s]"
          ]
        },
        {
          "output_type": "stream",
          "name": "stdout",
          "text": [
            "Saved file: /content/drive/MyDrive/dataset/TeamDeepwave/dataset/preprocessed/train/fake/GYODJHNJ.png\n",
            "Processing file: /content/drive/MyDrive/dataset/TeamDeepwave/dataset/open/./train/CZDOGREU.ogg\n"
          ]
        },
        {
          "output_type": "stream",
          "name": "stderr",
          "text": [
            "\r  3%|▎         | 1338/50000 [17:07<10:54:51,  1.24it/s]"
          ]
        },
        {
          "output_type": "stream",
          "name": "stdout",
          "text": [
            "Saved file: /content/drive/MyDrive/dataset/TeamDeepwave/dataset/preprocessed/train/fake/CZDOGREU.png\n",
            "Processing file: /content/drive/MyDrive/dataset/TeamDeepwave/dataset/open/./train/FUNSGKQT.ogg\n"
          ]
        },
        {
          "output_type": "stream",
          "name": "stderr",
          "text": [
            "\r  3%|▎         | 1339/50000 [17:08<10:57:33,  1.23it/s]"
          ]
        },
        {
          "output_type": "stream",
          "name": "stdout",
          "text": [
            "Saved file: /content/drive/MyDrive/dataset/TeamDeepwave/dataset/preprocessed/train/fake/FUNSGKQT.png\n",
            "Processing file: /content/drive/MyDrive/dataset/TeamDeepwave/dataset/open/./train/AFRMTWGE.ogg\n"
          ]
        },
        {
          "output_type": "stream",
          "name": "stderr",
          "text": [
            "\r  3%|▎         | 1340/50000 [17:09<10:31:47,  1.28it/s]"
          ]
        },
        {
          "output_type": "stream",
          "name": "stdout",
          "text": [
            "Saved file: /content/drive/MyDrive/dataset/TeamDeepwave/dataset/preprocessed/train/fake/AFRMTWGE.png\n",
            "Processing file: /content/drive/MyDrive/dataset/TeamDeepwave/dataset/open/./train/WVXLTLVT.ogg\n"
          ]
        },
        {
          "output_type": "stream",
          "name": "stderr",
          "text": [
            "\r  3%|▎         | 1341/50000 [17:09<9:50:32,  1.37it/s] "
          ]
        },
        {
          "output_type": "stream",
          "name": "stdout",
          "text": [
            "Saved file: /content/drive/MyDrive/dataset/TeamDeepwave/dataset/preprocessed/train/fake/WVXLTLVT.png\n",
            "Processing file: /content/drive/MyDrive/dataset/TeamDeepwave/dataset/open/./train/UYIGGNOC.ogg\n"
          ]
        },
        {
          "output_type": "stream",
          "name": "stderr",
          "text": [
            "\r  3%|▎         | 1342/50000 [17:10<10:26:16,  1.29it/s]"
          ]
        },
        {
          "output_type": "stream",
          "name": "stdout",
          "text": [
            "Saved file: /content/drive/MyDrive/dataset/TeamDeepwave/dataset/preprocessed/train/real/UYIGGNOC.png\n",
            "Processing file: /content/drive/MyDrive/dataset/TeamDeepwave/dataset/open/./train/AOVJFVGW.ogg\n"
          ]
        },
        {
          "output_type": "stream",
          "name": "stderr",
          "text": [
            "\r  3%|▎         | 1343/50000 [17:11<10:04:25,  1.34it/s]"
          ]
        },
        {
          "output_type": "stream",
          "name": "stdout",
          "text": [
            "Saved file: /content/drive/MyDrive/dataset/TeamDeepwave/dataset/preprocessed/train/real/AOVJFVGW.png\n",
            "Processing file: /content/drive/MyDrive/dataset/TeamDeepwave/dataset/open/./train/NWYXPGGY.ogg\n"
          ]
        },
        {
          "output_type": "stream",
          "name": "stderr",
          "text": [
            "\r  3%|▎         | 1344/50000 [17:11<9:23:21,  1.44it/s] "
          ]
        },
        {
          "output_type": "stream",
          "name": "stdout",
          "text": [
            "Saved file: /content/drive/MyDrive/dataset/TeamDeepwave/dataset/preprocessed/train/fake/NWYXPGGY.png\n",
            "Processing file: /content/drive/MyDrive/dataset/TeamDeepwave/dataset/open/./train/WFZZLEQI.ogg\n"
          ]
        },
        {
          "output_type": "stream",
          "name": "stderr",
          "text": [
            "\r  3%|▎         | 1345/50000 [17:12<9:18:12,  1.45it/s]"
          ]
        },
        {
          "output_type": "stream",
          "name": "stdout",
          "text": [
            "Saved file: /content/drive/MyDrive/dataset/TeamDeepwave/dataset/preprocessed/train/real/WFZZLEQI.png\n",
            "Processing file: /content/drive/MyDrive/dataset/TeamDeepwave/dataset/open/./train/JPEKVITA.ogg\n"
          ]
        },
        {
          "output_type": "stream",
          "name": "stderr",
          "text": [
            "\r  3%|▎         | 1346/50000 [17:13<9:23:47,  1.44it/s]"
          ]
        },
        {
          "output_type": "stream",
          "name": "stdout",
          "text": [
            "Saved file: /content/drive/MyDrive/dataset/TeamDeepwave/dataset/preprocessed/train/real/JPEKVITA.png\n",
            "Processing file: /content/drive/MyDrive/dataset/TeamDeepwave/dataset/open/./train/LGZZMIFC.ogg\n"
          ]
        },
        {
          "output_type": "stream",
          "name": "stderr",
          "text": [
            "\r  3%|▎         | 1347/50000 [17:13<9:11:32,  1.47it/s]"
          ]
        },
        {
          "output_type": "stream",
          "name": "stdout",
          "text": [
            "Saved file: /content/drive/MyDrive/dataset/TeamDeepwave/dataset/preprocessed/train/fake/LGZZMIFC.png\n",
            "Processing file: /content/drive/MyDrive/dataset/TeamDeepwave/dataset/open/./train/LGFDRQEZ.ogg\n"
          ]
        },
        {
          "output_type": "stream",
          "name": "stderr",
          "text": [
            "\r  3%|▎         | 1348/50000 [17:14<9:12:22,  1.47it/s]"
          ]
        },
        {
          "output_type": "stream",
          "name": "stdout",
          "text": [
            "Saved file: /content/drive/MyDrive/dataset/TeamDeepwave/dataset/preprocessed/train/real/LGFDRQEZ.png\n",
            "Processing file: /content/drive/MyDrive/dataset/TeamDeepwave/dataset/open/./train/DFFWERES.ogg\n"
          ]
        },
        {
          "output_type": "stream",
          "name": "stderr",
          "text": [
            "\r  3%|▎         | 1349/50000 [17:15<9:31:17,  1.42it/s]"
          ]
        },
        {
          "output_type": "stream",
          "name": "stdout",
          "text": [
            "Saved file: /content/drive/MyDrive/dataset/TeamDeepwave/dataset/preprocessed/train/real/DFFWERES.png\n",
            "Processing file: /content/drive/MyDrive/dataset/TeamDeepwave/dataset/open/./train/DYCNHVSN.ogg\n"
          ]
        },
        {
          "output_type": "stream",
          "name": "stderr",
          "text": [
            "\r  3%|▎         | 1350/50000 [17:15<9:05:40,  1.49it/s]"
          ]
        },
        {
          "output_type": "stream",
          "name": "stdout",
          "text": [
            "Saved file: /content/drive/MyDrive/dataset/TeamDeepwave/dataset/preprocessed/train/fake/DYCNHVSN.png\n",
            "Processing file: /content/drive/MyDrive/dataset/TeamDeepwave/dataset/open/./train/KQXDZSLC.ogg\n"
          ]
        },
        {
          "output_type": "stream",
          "name": "stderr",
          "text": [
            "\r  3%|▎         | 1351/50000 [17:16<8:38:01,  1.57it/s]"
          ]
        },
        {
          "output_type": "stream",
          "name": "stdout",
          "text": [
            "Saved file: /content/drive/MyDrive/dataset/TeamDeepwave/dataset/preprocessed/train/fake/KQXDZSLC.png\n",
            "Processing file: /content/drive/MyDrive/dataset/TeamDeepwave/dataset/open/./train/OGJBZOOE.ogg\n"
          ]
        },
        {
          "output_type": "stream",
          "name": "stderr",
          "text": [
            "\r  3%|▎         | 1352/50000 [17:17<9:12:07,  1.47it/s]"
          ]
        },
        {
          "output_type": "stream",
          "name": "stdout",
          "text": [
            "Saved file: /content/drive/MyDrive/dataset/TeamDeepwave/dataset/preprocessed/train/real/OGJBZOOE.png\n",
            "Processing file: /content/drive/MyDrive/dataset/TeamDeepwave/dataset/open/./train/MWQRTUYQ.ogg\n"
          ]
        },
        {
          "output_type": "stream",
          "name": "stderr",
          "text": [
            "\r  3%|▎         | 1353/50000 [17:17<9:14:14,  1.46it/s]"
          ]
        },
        {
          "output_type": "stream",
          "name": "stdout",
          "text": [
            "Saved file: /content/drive/MyDrive/dataset/TeamDeepwave/dataset/preprocessed/train/real/MWQRTUYQ.png\n",
            "Processing file: /content/drive/MyDrive/dataset/TeamDeepwave/dataset/open/./train/HMRWIHHJ.ogg\n"
          ]
        },
        {
          "output_type": "stream",
          "name": "stderr",
          "text": [
            "\r  3%|▎         | 1354/50000 [17:18<8:58:48,  1.50it/s]"
          ]
        },
        {
          "output_type": "stream",
          "name": "stdout",
          "text": [
            "Saved file: /content/drive/MyDrive/dataset/TeamDeepwave/dataset/preprocessed/train/fake/HMRWIHHJ.png\n",
            "Processing file: /content/drive/MyDrive/dataset/TeamDeepwave/dataset/open/./train/BKHDSZSD.ogg\n"
          ]
        },
        {
          "output_type": "stream",
          "name": "stderr",
          "text": [
            "\r  3%|▎         | 1355/50000 [17:19<9:31:13,  1.42it/s]"
          ]
        },
        {
          "output_type": "stream",
          "name": "stdout",
          "text": [
            "Saved file: /content/drive/MyDrive/dataset/TeamDeepwave/dataset/preprocessed/train/fake/BKHDSZSD.png\n",
            "Processing file: /content/drive/MyDrive/dataset/TeamDeepwave/dataset/open/./train/YXCUYWTQ.ogg\n"
          ]
        },
        {
          "output_type": "stream",
          "name": "stderr",
          "text": [
            "\r  3%|▎         | 1356/50000 [17:20<10:16:16,  1.32it/s]"
          ]
        },
        {
          "output_type": "stream",
          "name": "stdout",
          "text": [
            "Saved file: /content/drive/MyDrive/dataset/TeamDeepwave/dataset/preprocessed/train/real/YXCUYWTQ.png\n",
            "Processing file: /content/drive/MyDrive/dataset/TeamDeepwave/dataset/open/./train/MKHSDSFO.ogg\n"
          ]
        },
        {
          "output_type": "stream",
          "name": "stderr",
          "text": [
            "\r  3%|▎         | 1357/50000 [17:21<10:38:06,  1.27it/s]"
          ]
        },
        {
          "output_type": "stream",
          "name": "stdout",
          "text": [
            "Saved file: /content/drive/MyDrive/dataset/TeamDeepwave/dataset/preprocessed/train/fake/MKHSDSFO.png\n",
            "Processing file: /content/drive/MyDrive/dataset/TeamDeepwave/dataset/open/./train/CCWPPSAF.ogg\n"
          ]
        },
        {
          "output_type": "stream",
          "name": "stderr",
          "text": [
            "\r  3%|▎         | 1358/50000 [17:21<10:50:22,  1.25it/s]"
          ]
        },
        {
          "output_type": "stream",
          "name": "stdout",
          "text": [
            "Saved file: /content/drive/MyDrive/dataset/TeamDeepwave/dataset/preprocessed/train/real/CCWPPSAF.png\n",
            "Processing file: /content/drive/MyDrive/dataset/TeamDeepwave/dataset/open/./train/FSPZUXBT.ogg\n"
          ]
        },
        {
          "output_type": "stream",
          "name": "stderr",
          "text": [
            "\r  3%|▎         | 1359/50000 [17:22<10:48:03,  1.25it/s]"
          ]
        },
        {
          "output_type": "stream",
          "name": "stdout",
          "text": [
            "Saved file: /content/drive/MyDrive/dataset/TeamDeepwave/dataset/preprocessed/train/fake/FSPZUXBT.png\n",
            "Processing file: /content/drive/MyDrive/dataset/TeamDeepwave/dataset/open/./train/KPSQXAOF.ogg\n"
          ]
        },
        {
          "output_type": "stream",
          "name": "stderr",
          "text": [
            "\r  3%|▎         | 1360/50000 [17:23<10:32:57,  1.28it/s]"
          ]
        },
        {
          "output_type": "stream",
          "name": "stdout",
          "text": [
            "Saved file: /content/drive/MyDrive/dataset/TeamDeepwave/dataset/preprocessed/train/real/KPSQXAOF.png\n",
            "Processing file: /content/drive/MyDrive/dataset/TeamDeepwave/dataset/open/./train/QLCCZYAF.ogg\n"
          ]
        },
        {
          "output_type": "stream",
          "name": "stderr",
          "text": [
            "\r  3%|▎         | 1361/50000 [17:24<10:15:08,  1.32it/s]"
          ]
        },
        {
          "output_type": "stream",
          "name": "stdout",
          "text": [
            "Saved file: /content/drive/MyDrive/dataset/TeamDeepwave/dataset/preprocessed/train/real/QLCCZYAF.png\n",
            "Processing file: /content/drive/MyDrive/dataset/TeamDeepwave/dataset/open/./train/GTOSTKVL.ogg\n"
          ]
        },
        {
          "output_type": "stream",
          "name": "stderr",
          "text": [
            "\r  3%|▎         | 1362/50000 [17:24<9:36:33,  1.41it/s] "
          ]
        },
        {
          "output_type": "stream",
          "name": "stdout",
          "text": [
            "Saved file: /content/drive/MyDrive/dataset/TeamDeepwave/dataset/preprocessed/train/fake/GTOSTKVL.png\n",
            "Processing file: /content/drive/MyDrive/dataset/TeamDeepwave/dataset/open/./train/QQELICKK.ogg\n"
          ]
        },
        {
          "output_type": "stream",
          "name": "stderr",
          "text": [
            "\r  3%|▎         | 1363/50000 [17:25<9:30:44,  1.42it/s]"
          ]
        },
        {
          "output_type": "stream",
          "name": "stdout",
          "text": [
            "Saved file: /content/drive/MyDrive/dataset/TeamDeepwave/dataset/preprocessed/train/real/QQELICKK.png\n",
            "Processing file: /content/drive/MyDrive/dataset/TeamDeepwave/dataset/open/./train/TBEAGOQI.ogg\n"
          ]
        },
        {
          "output_type": "stream",
          "name": "stderr",
          "text": [
            "\r  3%|▎         | 1364/50000 [17:26<9:19:37,  1.45it/s]"
          ]
        },
        {
          "output_type": "stream",
          "name": "stdout",
          "text": [
            "Saved file: /content/drive/MyDrive/dataset/TeamDeepwave/dataset/preprocessed/train/real/TBEAGOQI.png\n",
            "Processing file: /content/drive/MyDrive/dataset/TeamDeepwave/dataset/open/./train/KBTNRAMJ.ogg\n"
          ]
        },
        {
          "output_type": "stream",
          "name": "stderr",
          "text": [
            "\r  3%|▎         | 1365/50000 [17:26<9:49:29,  1.38it/s]"
          ]
        },
        {
          "output_type": "stream",
          "name": "stdout",
          "text": [
            "Saved file: /content/drive/MyDrive/dataset/TeamDeepwave/dataset/preprocessed/train/real/KBTNRAMJ.png\n",
            "Processing file: /content/drive/MyDrive/dataset/TeamDeepwave/dataset/open/./train/NSJUJCML.ogg\n"
          ]
        },
        {
          "output_type": "stream",
          "name": "stderr",
          "text": [
            "\r  3%|▎         | 1366/50000 [17:27<9:19:02,  1.45it/s]"
          ]
        },
        {
          "output_type": "stream",
          "name": "stdout",
          "text": [
            "Saved file: /content/drive/MyDrive/dataset/TeamDeepwave/dataset/preprocessed/train/fake/NSJUJCML.png\n",
            "Processing file: /content/drive/MyDrive/dataset/TeamDeepwave/dataset/open/./train/MWCPVSOG.ogg\n"
          ]
        },
        {
          "output_type": "stream",
          "name": "stderr",
          "text": [
            "\r  3%|▎         | 1367/50000 [17:28<9:21:08,  1.44it/s]"
          ]
        },
        {
          "output_type": "stream",
          "name": "stdout",
          "text": [
            "Saved file: /content/drive/MyDrive/dataset/TeamDeepwave/dataset/preprocessed/train/fake/MWCPVSOG.png\n",
            "Processing file: /content/drive/MyDrive/dataset/TeamDeepwave/dataset/open/./train/DUFLJONU.ogg\n"
          ]
        },
        {
          "output_type": "stream",
          "name": "stderr",
          "text": [
            "\r  3%|▎         | 1368/50000 [17:28<8:58:24,  1.51it/s]"
          ]
        },
        {
          "output_type": "stream",
          "name": "stdout",
          "text": [
            "Saved file: /content/drive/MyDrive/dataset/TeamDeepwave/dataset/preprocessed/train/fake/DUFLJONU.png\n",
            "Processing file: /content/drive/MyDrive/dataset/TeamDeepwave/dataset/open/./train/YJJICMUL.ogg\n"
          ]
        },
        {
          "output_type": "stream",
          "name": "stderr",
          "text": [
            "\r  3%|▎         | 1369/50000 [17:29<9:16:16,  1.46it/s]"
          ]
        },
        {
          "output_type": "stream",
          "name": "stdout",
          "text": [
            "Saved file: /content/drive/MyDrive/dataset/TeamDeepwave/dataset/preprocessed/train/real/YJJICMUL.png\n",
            "Processing file: /content/drive/MyDrive/dataset/TeamDeepwave/dataset/open/./train/ECFTYZSK.ogg\n"
          ]
        },
        {
          "output_type": "stream",
          "name": "stderr",
          "text": [
            "\r  3%|▎         | 1370/50000 [17:30<8:50:56,  1.53it/s]"
          ]
        },
        {
          "output_type": "stream",
          "name": "stdout",
          "text": [
            "Saved file: /content/drive/MyDrive/dataset/TeamDeepwave/dataset/preprocessed/train/fake/ECFTYZSK.png\n",
            "Processing file: /content/drive/MyDrive/dataset/TeamDeepwave/dataset/open/./train/XSRLTCRY.ogg\n"
          ]
        },
        {
          "output_type": "stream",
          "name": "stderr",
          "text": [
            "\r  3%|▎         | 1371/50000 [17:30<8:41:32,  1.55it/s]"
          ]
        },
        {
          "output_type": "stream",
          "name": "stdout",
          "text": [
            "Saved file: /content/drive/MyDrive/dataset/TeamDeepwave/dataset/preprocessed/train/fake/XSRLTCRY.png\n",
            "Processing file: /content/drive/MyDrive/dataset/TeamDeepwave/dataset/open/./train/ILMBYNGP.ogg\n"
          ]
        },
        {
          "output_type": "stream",
          "name": "stderr",
          "text": [
            "\r  3%|▎         | 1372/50000 [17:31<9:06:17,  1.48it/s]"
          ]
        },
        {
          "output_type": "stream",
          "name": "stdout",
          "text": [
            "Saved file: /content/drive/MyDrive/dataset/TeamDeepwave/dataset/preprocessed/train/real/ILMBYNGP.png\n",
            "Processing file: /content/drive/MyDrive/dataset/TeamDeepwave/dataset/open/./train/REIRMKZE.ogg\n"
          ]
        },
        {
          "output_type": "stream",
          "name": "stderr",
          "text": [
            "\r  3%|▎         | 1373/50000 [17:32<9:11:45,  1.47it/s]"
          ]
        },
        {
          "output_type": "stream",
          "name": "stdout",
          "text": [
            "Saved file: /content/drive/MyDrive/dataset/TeamDeepwave/dataset/preprocessed/train/fake/REIRMKZE.png\n",
            "Processing file: /content/drive/MyDrive/dataset/TeamDeepwave/dataset/open/./train/SWGHQOJW.ogg\n"
          ]
        },
        {
          "output_type": "stream",
          "name": "stderr",
          "text": [
            "\r  3%|▎         | 1374/50000 [17:32<9:34:43,  1.41it/s]"
          ]
        },
        {
          "output_type": "stream",
          "name": "stdout",
          "text": [
            "Saved file: /content/drive/MyDrive/dataset/TeamDeepwave/dataset/preprocessed/train/fake/SWGHQOJW.png\n",
            "Processing file: /content/drive/MyDrive/dataset/TeamDeepwave/dataset/open/./train/ZYVSFBYA.ogg\n"
          ]
        },
        {
          "output_type": "stream",
          "name": "stderr",
          "text": [
            "\r  3%|▎         | 1375/50000 [17:33<9:50:43,  1.37it/s]"
          ]
        },
        {
          "output_type": "stream",
          "name": "stdout",
          "text": [
            "Saved file: /content/drive/MyDrive/dataset/TeamDeepwave/dataset/preprocessed/train/fake/ZYVSFBYA.png\n",
            "Processing file: /content/drive/MyDrive/dataset/TeamDeepwave/dataset/open/./train/RZPENPTW.ogg\n"
          ]
        },
        {
          "output_type": "stream",
          "name": "stderr",
          "text": [
            "\r  3%|▎         | 1376/50000 [17:34<11:04:37,  1.22it/s]"
          ]
        },
        {
          "output_type": "stream",
          "name": "stdout",
          "text": [
            "Saved file: /content/drive/MyDrive/dataset/TeamDeepwave/dataset/preprocessed/train/real/RZPENPTW.png\n",
            "Processing file: /content/drive/MyDrive/dataset/TeamDeepwave/dataset/open/./train/QIXNBROA.ogg\n"
          ]
        },
        {
          "output_type": "stream",
          "name": "stderr",
          "text": [
            "\r  3%|▎         | 1377/50000 [17:35<12:01:11,  1.12it/s]"
          ]
        },
        {
          "output_type": "stream",
          "name": "stdout",
          "text": [
            "Saved file: /content/drive/MyDrive/dataset/TeamDeepwave/dataset/preprocessed/train/real/QIXNBROA.png\n",
            "Processing file: /content/drive/MyDrive/dataset/TeamDeepwave/dataset/open/./train/PPHWCODI.ogg\n"
          ]
        },
        {
          "output_type": "stream",
          "name": "stderr",
          "text": [
            "\r  3%|▎         | 1378/50000 [17:36<11:56:28,  1.13it/s]"
          ]
        },
        {
          "output_type": "stream",
          "name": "stdout",
          "text": [
            "Saved file: /content/drive/MyDrive/dataset/TeamDeepwave/dataset/preprocessed/train/fake/PPHWCODI.png\n",
            "Processing file: /content/drive/MyDrive/dataset/TeamDeepwave/dataset/open/./train/RZFWPYFL.ogg\n"
          ]
        },
        {
          "output_type": "stream",
          "name": "stderr",
          "text": [
            "\r  3%|▎         | 1379/50000 [17:37<10:52:00,  1.24it/s]"
          ]
        },
        {
          "output_type": "stream",
          "name": "stdout",
          "text": [
            "Saved file: /content/drive/MyDrive/dataset/TeamDeepwave/dataset/preprocessed/train/real/RZFWPYFL.png\n",
            "Processing file: /content/drive/MyDrive/dataset/TeamDeepwave/dataset/open/./train/OMPMXDNF.ogg\n"
          ]
        },
        {
          "output_type": "stream",
          "name": "stderr",
          "text": [
            "\r  3%|▎         | 1380/50000 [17:37<10:15:03,  1.32it/s]"
          ]
        },
        {
          "output_type": "stream",
          "name": "stdout",
          "text": [
            "Saved file: /content/drive/MyDrive/dataset/TeamDeepwave/dataset/preprocessed/train/fake/OMPMXDNF.png\n",
            "Processing file: /content/drive/MyDrive/dataset/TeamDeepwave/dataset/open/./train/MVOITUZN.ogg\n"
          ]
        },
        {
          "output_type": "stream",
          "name": "stderr",
          "text": [
            "\r  3%|▎         | 1381/50000 [17:38<9:57:13,  1.36it/s] "
          ]
        },
        {
          "output_type": "stream",
          "name": "stdout",
          "text": [
            "Saved file: /content/drive/MyDrive/dataset/TeamDeepwave/dataset/preprocessed/train/fake/MVOITUZN.png\n",
            "Processing file: /content/drive/MyDrive/dataset/TeamDeepwave/dataset/open/./train/GGRPMGQY.ogg\n"
          ]
        },
        {
          "output_type": "stream",
          "name": "stderr",
          "text": [
            "\r  3%|▎         | 1382/50000 [17:39<10:16:25,  1.31it/s]"
          ]
        },
        {
          "output_type": "stream",
          "name": "stdout",
          "text": [
            "Saved file: /content/drive/MyDrive/dataset/TeamDeepwave/dataset/preprocessed/train/real/GGRPMGQY.png\n",
            "Processing file: /content/drive/MyDrive/dataset/TeamDeepwave/dataset/open/./train/QNIAMZVZ.ogg\n"
          ]
        },
        {
          "output_type": "stream",
          "name": "stderr",
          "text": [
            "\r  3%|▎         | 1383/50000 [17:40<9:57:24,  1.36it/s] "
          ]
        },
        {
          "output_type": "stream",
          "name": "stdout",
          "text": [
            "Saved file: /content/drive/MyDrive/dataset/TeamDeepwave/dataset/preprocessed/train/real/QNIAMZVZ.png\n",
            "Processing file: /content/drive/MyDrive/dataset/TeamDeepwave/dataset/open/./train/DHFMZLYT.ogg\n"
          ]
        },
        {
          "output_type": "stream",
          "name": "stderr",
          "text": [
            "\r  3%|▎         | 1384/50000 [17:41<10:45:35,  1.26it/s]"
          ]
        },
        {
          "output_type": "stream",
          "name": "stdout",
          "text": [
            "Saved file: /content/drive/MyDrive/dataset/TeamDeepwave/dataset/preprocessed/train/real/DHFMZLYT.png\n",
            "Processing file: /content/drive/MyDrive/dataset/TeamDeepwave/dataset/open/./train/TNFPQZNM.ogg\n"
          ]
        },
        {
          "output_type": "stream",
          "name": "stderr",
          "text": [
            "\r  3%|▎         | 1385/50000 [17:41<9:58:29,  1.35it/s] "
          ]
        },
        {
          "output_type": "stream",
          "name": "stdout",
          "text": [
            "Saved file: /content/drive/MyDrive/dataset/TeamDeepwave/dataset/preprocessed/train/real/TNFPQZNM.png\n",
            "Processing file: /content/drive/MyDrive/dataset/TeamDeepwave/dataset/open/./train/HXGXTZZJ.ogg\n"
          ]
        },
        {
          "output_type": "stream",
          "name": "stderr",
          "text": [
            "\r  3%|▎         | 1386/50000 [17:42<9:52:20,  1.37it/s]"
          ]
        },
        {
          "output_type": "stream",
          "name": "stdout",
          "text": [
            "Saved file: /content/drive/MyDrive/dataset/TeamDeepwave/dataset/preprocessed/train/real/HXGXTZZJ.png\n",
            "Processing file: /content/drive/MyDrive/dataset/TeamDeepwave/dataset/open/./train/FPUQYJWO.ogg\n"
          ]
        },
        {
          "output_type": "stream",
          "name": "stderr",
          "text": [
            "\r  3%|▎         | 1387/50000 [17:43<9:49:24,  1.37it/s]"
          ]
        },
        {
          "output_type": "stream",
          "name": "stdout",
          "text": [
            "Saved file: /content/drive/MyDrive/dataset/TeamDeepwave/dataset/preprocessed/train/real/FPUQYJWO.png\n",
            "Processing file: /content/drive/MyDrive/dataset/TeamDeepwave/dataset/open/./train/VURWDUYP.ogg\n"
          ]
        },
        {
          "output_type": "stream",
          "name": "stderr",
          "text": [
            "\r  3%|▎         | 1388/50000 [17:43<9:42:43,  1.39it/s]"
          ]
        },
        {
          "output_type": "stream",
          "name": "stdout",
          "text": [
            "Saved file: /content/drive/MyDrive/dataset/TeamDeepwave/dataset/preprocessed/train/real/VURWDUYP.png\n",
            "Processing file: /content/drive/MyDrive/dataset/TeamDeepwave/dataset/open/./train/OMMVNKYY.ogg\n"
          ]
        },
        {
          "output_type": "stream",
          "name": "stderr",
          "text": [
            "\r  3%|▎         | 1389/50000 [17:44<9:37:42,  1.40it/s]"
          ]
        },
        {
          "output_type": "stream",
          "name": "stdout",
          "text": [
            "Saved file: /content/drive/MyDrive/dataset/TeamDeepwave/dataset/preprocessed/train/fake/OMMVNKYY.png\n",
            "Processing file: /content/drive/MyDrive/dataset/TeamDeepwave/dataset/open/./train/EPFIUDTO.ogg\n"
          ]
        },
        {
          "output_type": "stream",
          "name": "stderr",
          "text": [
            "\r  3%|▎         | 1390/50000 [17:45<9:54:25,  1.36it/s]"
          ]
        },
        {
          "output_type": "stream",
          "name": "stdout",
          "text": [
            "Saved file: /content/drive/MyDrive/dataset/TeamDeepwave/dataset/preprocessed/train/fake/EPFIUDTO.png\n",
            "Processing file: /content/drive/MyDrive/dataset/TeamDeepwave/dataset/open/./train/JHLJGASC.ogg\n"
          ]
        },
        {
          "output_type": "stream",
          "name": "stderr",
          "text": [
            "\r  3%|▎         | 1391/50000 [17:45<9:40:07,  1.40it/s]"
          ]
        },
        {
          "output_type": "stream",
          "name": "stdout",
          "text": [
            "Saved file: /content/drive/MyDrive/dataset/TeamDeepwave/dataset/preprocessed/train/real/JHLJGASC.png\n",
            "Processing file: /content/drive/MyDrive/dataset/TeamDeepwave/dataset/open/./train/GRSYSBDU.ogg\n"
          ]
        },
        {
          "output_type": "stream",
          "name": "stderr",
          "text": [
            "\r  3%|▎         | 1392/50000 [17:46<9:16:29,  1.46it/s]"
          ]
        },
        {
          "output_type": "stream",
          "name": "stdout",
          "text": [
            "Saved file: /content/drive/MyDrive/dataset/TeamDeepwave/dataset/preprocessed/train/fake/GRSYSBDU.png\n",
            "Processing file: /content/drive/MyDrive/dataset/TeamDeepwave/dataset/open/./train/VZLNGEXU.ogg\n"
          ]
        },
        {
          "output_type": "stream",
          "name": "stderr",
          "text": [
            "\r  3%|▎         | 1393/50000 [17:47<10:20:56,  1.30it/s]"
          ]
        },
        {
          "output_type": "stream",
          "name": "stdout",
          "text": [
            "Saved file: /content/drive/MyDrive/dataset/TeamDeepwave/dataset/preprocessed/train/fake/VZLNGEXU.png\n",
            "Processing file: /content/drive/MyDrive/dataset/TeamDeepwave/dataset/open/./train/TZEWLAZD.ogg\n"
          ]
        },
        {
          "output_type": "stream",
          "name": "stderr",
          "text": [
            "\r  3%|▎         | 1394/50000 [17:48<10:39:54,  1.27it/s]"
          ]
        },
        {
          "output_type": "stream",
          "name": "stdout",
          "text": [
            "Saved file: /content/drive/MyDrive/dataset/TeamDeepwave/dataset/preprocessed/train/fake/TZEWLAZD.png\n",
            "Processing file: /content/drive/MyDrive/dataset/TeamDeepwave/dataset/open/./train/LMWEJPFV.ogg\n"
          ]
        },
        {
          "output_type": "stream",
          "name": "stderr",
          "text": [
            "\r  3%|▎         | 1395/50000 [17:49<10:56:16,  1.23it/s]"
          ]
        },
        {
          "output_type": "stream",
          "name": "stdout",
          "text": [
            "Saved file: /content/drive/MyDrive/dataset/TeamDeepwave/dataset/preprocessed/train/fake/LMWEJPFV.png\n",
            "Processing file: /content/drive/MyDrive/dataset/TeamDeepwave/dataset/open/./train/RSIWTMDF.ogg\n"
          ]
        },
        {
          "output_type": "stream",
          "name": "stderr",
          "text": [
            "\r  3%|▎         | 1396/50000 [17:50<12:03:46,  1.12it/s]"
          ]
        },
        {
          "output_type": "stream",
          "name": "stdout",
          "text": [
            "Saved file: /content/drive/MyDrive/dataset/TeamDeepwave/dataset/preprocessed/train/real/RSIWTMDF.png\n",
            "Processing file: /content/drive/MyDrive/dataset/TeamDeepwave/dataset/open/./train/JWMANAFW.ogg\n"
          ]
        },
        {
          "output_type": "stream",
          "name": "stderr",
          "text": [
            "\r  3%|▎         | 1397/50000 [17:51<11:13:19,  1.20it/s]"
          ]
        },
        {
          "output_type": "stream",
          "name": "stdout",
          "text": [
            "Saved file: /content/drive/MyDrive/dataset/TeamDeepwave/dataset/preprocessed/train/real/JWMANAFW.png\n",
            "Processing file: /content/drive/MyDrive/dataset/TeamDeepwave/dataset/open/./train/HCIUCNTU.ogg\n"
          ]
        },
        {
          "output_type": "stream",
          "name": "stderr",
          "text": [
            "\r  3%|▎         | 1398/50000 [17:51<10:30:05,  1.29it/s]"
          ]
        },
        {
          "output_type": "stream",
          "name": "stdout",
          "text": [
            "Saved file: /content/drive/MyDrive/dataset/TeamDeepwave/dataset/preprocessed/train/fake/HCIUCNTU.png\n",
            "Processing file: /content/drive/MyDrive/dataset/TeamDeepwave/dataset/open/./train/UWHORXOC.ogg\n"
          ]
        },
        {
          "output_type": "stream",
          "name": "stderr",
          "text": [
            "\r  3%|▎         | 1399/50000 [17:52<9:50:20,  1.37it/s] "
          ]
        },
        {
          "output_type": "stream",
          "name": "stdout",
          "text": [
            "Saved file: /content/drive/MyDrive/dataset/TeamDeepwave/dataset/preprocessed/train/real/UWHORXOC.png\n",
            "Processing file: /content/drive/MyDrive/dataset/TeamDeepwave/dataset/open/./train/DDQWIEOY.ogg\n"
          ]
        },
        {
          "output_type": "stream",
          "name": "stderr",
          "text": [
            "\r  3%|▎         | 1400/50000 [17:52<9:31:26,  1.42it/s]"
          ]
        },
        {
          "output_type": "stream",
          "name": "stdout",
          "text": [
            "Saved file: /content/drive/MyDrive/dataset/TeamDeepwave/dataset/preprocessed/train/real/DDQWIEOY.png\n",
            "Processing file: /content/drive/MyDrive/dataset/TeamDeepwave/dataset/open/./train/UGDUPFDD.ogg\n"
          ]
        },
        {
          "output_type": "stream",
          "name": "stderr",
          "text": [
            "\r  3%|▎         | 1401/50000 [17:53<9:18:19,  1.45it/s]"
          ]
        },
        {
          "output_type": "stream",
          "name": "stdout",
          "text": [
            "Saved file: /content/drive/MyDrive/dataset/TeamDeepwave/dataset/preprocessed/train/real/UGDUPFDD.png\n",
            "Processing file: /content/drive/MyDrive/dataset/TeamDeepwave/dataset/open/./train/HXCZAKNM.ogg\n"
          ]
        },
        {
          "output_type": "stream",
          "name": "stderr",
          "text": [
            "\r  3%|▎         | 1402/50000 [17:54<9:29:45,  1.42it/s]"
          ]
        },
        {
          "output_type": "stream",
          "name": "stdout",
          "text": [
            "Saved file: /content/drive/MyDrive/dataset/TeamDeepwave/dataset/preprocessed/train/real/HXCZAKNM.png\n",
            "Processing file: /content/drive/MyDrive/dataset/TeamDeepwave/dataset/open/./train/XNYBPYEH.ogg\n"
          ]
        },
        {
          "output_type": "stream",
          "name": "stderr",
          "text": [
            "\r  3%|▎         | 1403/50000 [17:54<9:24:33,  1.43it/s]"
          ]
        },
        {
          "output_type": "stream",
          "name": "stdout",
          "text": [
            "Saved file: /content/drive/MyDrive/dataset/TeamDeepwave/dataset/preprocessed/train/real/XNYBPYEH.png\n",
            "Processing file: /content/drive/MyDrive/dataset/TeamDeepwave/dataset/open/./train/BJDKWTKU.ogg\n"
          ]
        },
        {
          "output_type": "stream",
          "name": "stderr",
          "text": [
            "\r  3%|▎         | 1404/50000 [17:55<9:03:49,  1.49it/s]"
          ]
        },
        {
          "output_type": "stream",
          "name": "stdout",
          "text": [
            "Saved file: /content/drive/MyDrive/dataset/TeamDeepwave/dataset/preprocessed/train/real/BJDKWTKU.png\n",
            "Processing file: /content/drive/MyDrive/dataset/TeamDeepwave/dataset/open/./train/VJNQTPVY.ogg\n"
          ]
        },
        {
          "output_type": "stream",
          "name": "stderr",
          "text": [
            "\r  3%|▎         | 1405/50000 [17:56<9:21:46,  1.44it/s]"
          ]
        },
        {
          "output_type": "stream",
          "name": "stdout",
          "text": [
            "Saved file: /content/drive/MyDrive/dataset/TeamDeepwave/dataset/preprocessed/train/real/VJNQTPVY.png\n",
            "Processing file: /content/drive/MyDrive/dataset/TeamDeepwave/dataset/open/./train/AWRFTJHI.ogg\n"
          ]
        },
        {
          "output_type": "stream",
          "name": "stderr",
          "text": [
            "\r  3%|▎         | 1406/50000 [17:57<9:32:02,  1.42it/s]"
          ]
        },
        {
          "output_type": "stream",
          "name": "stdout",
          "text": [
            "Saved file: /content/drive/MyDrive/dataset/TeamDeepwave/dataset/preprocessed/train/real/AWRFTJHI.png\n",
            "Processing file: /content/drive/MyDrive/dataset/TeamDeepwave/dataset/open/./train/ATNPIJYP.ogg\n"
          ]
        },
        {
          "output_type": "stream",
          "name": "stderr",
          "text": [
            "\r  3%|▎         | 1407/50000 [17:57<9:18:54,  1.45it/s]"
          ]
        },
        {
          "output_type": "stream",
          "name": "stdout",
          "text": [
            "Saved file: /content/drive/MyDrive/dataset/TeamDeepwave/dataset/preprocessed/train/real/ATNPIJYP.png\n",
            "Processing file: /content/drive/MyDrive/dataset/TeamDeepwave/dataset/open/./train/JMXVSBXB.ogg\n"
          ]
        },
        {
          "output_type": "stream",
          "name": "stderr",
          "text": [
            "\r  3%|▎         | 1408/50000 [17:58<9:42:40,  1.39it/s]"
          ]
        },
        {
          "output_type": "stream",
          "name": "stdout",
          "text": [
            "Saved file: /content/drive/MyDrive/dataset/TeamDeepwave/dataset/preprocessed/train/real/JMXVSBXB.png\n",
            "Processing file: /content/drive/MyDrive/dataset/TeamDeepwave/dataset/open/./train/QGGGPHXD.ogg\n"
          ]
        },
        {
          "output_type": "stream",
          "name": "stderr",
          "text": [
            "\r  3%|▎         | 1409/50000 [17:59<9:02:23,  1.49it/s]"
          ]
        },
        {
          "output_type": "stream",
          "name": "stdout",
          "text": [
            "Saved file: /content/drive/MyDrive/dataset/TeamDeepwave/dataset/preprocessed/train/fake/QGGGPHXD.png\n",
            "Processing file: /content/drive/MyDrive/dataset/TeamDeepwave/dataset/open/./train/MYQURITY.ogg\n"
          ]
        },
        {
          "output_type": "stream",
          "name": "stderr",
          "text": [
            "\r  3%|▎         | 1410/50000 [17:59<9:04:07,  1.49it/s]"
          ]
        },
        {
          "output_type": "stream",
          "name": "stdout",
          "text": [
            "Saved file: /content/drive/MyDrive/dataset/TeamDeepwave/dataset/preprocessed/train/real/MYQURITY.png\n",
            "Processing file: /content/drive/MyDrive/dataset/TeamDeepwave/dataset/open/./train/QSVPKVCP.ogg\n"
          ]
        },
        {
          "output_type": "stream",
          "name": "stderr",
          "text": [
            "\r  3%|▎         | 1411/50000 [18:00<9:03:00,  1.49it/s]"
          ]
        },
        {
          "output_type": "stream",
          "name": "stdout",
          "text": [
            "Saved file: /content/drive/MyDrive/dataset/TeamDeepwave/dataset/preprocessed/train/fake/QSVPKVCP.png\n",
            "Processing file: /content/drive/MyDrive/dataset/TeamDeepwave/dataset/open/./train/SKWRZLSL.ogg\n"
          ]
        },
        {
          "output_type": "stream",
          "name": "stderr",
          "text": [
            "\r  3%|▎         | 1412/50000 [18:01<9:52:52,  1.37it/s]"
          ]
        },
        {
          "output_type": "stream",
          "name": "stdout",
          "text": [
            "Saved file: /content/drive/MyDrive/dataset/TeamDeepwave/dataset/preprocessed/train/real/SKWRZLSL.png\n",
            "Processing file: /content/drive/MyDrive/dataset/TeamDeepwave/dataset/open/./train/LOLMAWBW.ogg\n"
          ]
        },
        {
          "output_type": "stream",
          "name": "stderr",
          "text": [
            "\r  3%|▎         | 1413/50000 [18:02<9:59:26,  1.35it/s]"
          ]
        },
        {
          "output_type": "stream",
          "name": "stdout",
          "text": [
            "Saved file: /content/drive/MyDrive/dataset/TeamDeepwave/dataset/preprocessed/train/real/LOLMAWBW.png\n",
            "Processing file: /content/drive/MyDrive/dataset/TeamDeepwave/dataset/open/./train/SRIEQRKJ.ogg\n"
          ]
        },
        {
          "output_type": "stream",
          "name": "stderr",
          "text": [
            "\r  3%|▎         | 1414/50000 [18:03<10:55:54,  1.23it/s]"
          ]
        },
        {
          "output_type": "stream",
          "name": "stdout",
          "text": [
            "Saved file: /content/drive/MyDrive/dataset/TeamDeepwave/dataset/preprocessed/train/real/SRIEQRKJ.png\n",
            "Processing file: /content/drive/MyDrive/dataset/TeamDeepwave/dataset/open/./train/WLBUHJQX.ogg\n"
          ]
        },
        {
          "output_type": "stream",
          "name": "stderr",
          "text": [
            "\r  3%|▎         | 1415/50000 [18:03<11:14:29,  1.20it/s]"
          ]
        },
        {
          "output_type": "stream",
          "name": "stdout",
          "text": [
            "Saved file: /content/drive/MyDrive/dataset/TeamDeepwave/dataset/preprocessed/train/real/WLBUHJQX.png\n",
            "Processing file: /content/drive/MyDrive/dataset/TeamDeepwave/dataset/open/./train/VFUHNGEV.ogg\n"
          ]
        },
        {
          "output_type": "stream",
          "name": "stderr",
          "text": [
            "\r  3%|▎         | 1416/50000 [18:04<10:43:50,  1.26it/s]"
          ]
        },
        {
          "output_type": "stream",
          "name": "stdout",
          "text": [
            "Saved file: /content/drive/MyDrive/dataset/TeamDeepwave/dataset/preprocessed/train/fake/VFUHNGEV.png\n",
            "Processing file: /content/drive/MyDrive/dataset/TeamDeepwave/dataset/open/./train/GHYHKFMA.ogg\n"
          ]
        },
        {
          "output_type": "stream",
          "name": "stderr",
          "text": [
            "\r  3%|▎         | 1417/50000 [18:05<9:53:38,  1.36it/s] "
          ]
        },
        {
          "output_type": "stream",
          "name": "stdout",
          "text": [
            "Saved file: /content/drive/MyDrive/dataset/TeamDeepwave/dataset/preprocessed/train/real/GHYHKFMA.png\n",
            "Processing file: /content/drive/MyDrive/dataset/TeamDeepwave/dataset/open/./train/ADGBKOGD.ogg\n"
          ]
        },
        {
          "output_type": "stream",
          "name": "stderr",
          "text": [
            "\r  3%|▎         | 1418/50000 [18:05<9:24:33,  1.43it/s]"
          ]
        },
        {
          "output_type": "stream",
          "name": "stdout",
          "text": [
            "Saved file: /content/drive/MyDrive/dataset/TeamDeepwave/dataset/preprocessed/train/fake/ADGBKOGD.png\n",
            "Processing file: /content/drive/MyDrive/dataset/TeamDeepwave/dataset/open/./train/IFNPILCE.ogg\n"
          ]
        },
        {
          "output_type": "stream",
          "name": "stderr",
          "text": [
            "\r  3%|▎         | 1419/50000 [18:06<9:02:58,  1.49it/s]"
          ]
        },
        {
          "output_type": "stream",
          "name": "stdout",
          "text": [
            "Saved file: /content/drive/MyDrive/dataset/TeamDeepwave/dataset/preprocessed/train/fake/IFNPILCE.png\n",
            "Processing file: /content/drive/MyDrive/dataset/TeamDeepwave/dataset/open/./train/CNAOXPTA.ogg\n"
          ]
        },
        {
          "output_type": "stream",
          "name": "stderr",
          "text": [
            "\r  3%|▎         | 1420/50000 [18:07<8:39:46,  1.56it/s]"
          ]
        },
        {
          "output_type": "stream",
          "name": "stdout",
          "text": [
            "Saved file: /content/drive/MyDrive/dataset/TeamDeepwave/dataset/preprocessed/train/fake/CNAOXPTA.png\n",
            "Processing file: /content/drive/MyDrive/dataset/TeamDeepwave/dataset/open/./train/LBLFAJDL.ogg\n"
          ]
        },
        {
          "output_type": "stream",
          "name": "stderr",
          "text": [
            "\r  3%|▎         | 1421/50000 [18:07<8:35:05,  1.57it/s]"
          ]
        },
        {
          "output_type": "stream",
          "name": "stdout",
          "text": [
            "Saved file: /content/drive/MyDrive/dataset/TeamDeepwave/dataset/preprocessed/train/fake/LBLFAJDL.png\n",
            "Processing file: /content/drive/MyDrive/dataset/TeamDeepwave/dataset/open/./train/YQNDURXQ.ogg\n"
          ]
        },
        {
          "output_type": "stream",
          "name": "stderr",
          "text": [
            "\r  3%|▎         | 1422/50000 [18:08<8:32:16,  1.58it/s]"
          ]
        },
        {
          "output_type": "stream",
          "name": "stdout",
          "text": [
            "Saved file: /content/drive/MyDrive/dataset/TeamDeepwave/dataset/preprocessed/train/real/YQNDURXQ.png\n",
            "Processing file: /content/drive/MyDrive/dataset/TeamDeepwave/dataset/open/./train/YULVQTJH.ogg\n"
          ]
        },
        {
          "output_type": "stream",
          "name": "stderr",
          "text": [
            "\r  3%|▎         | 1423/50000 [18:08<8:33:17,  1.58it/s]"
          ]
        },
        {
          "output_type": "stream",
          "name": "stdout",
          "text": [
            "Saved file: /content/drive/MyDrive/dataset/TeamDeepwave/dataset/preprocessed/train/fake/YULVQTJH.png\n",
            "Processing file: /content/drive/MyDrive/dataset/TeamDeepwave/dataset/open/./train/FCVGXGQK.ogg\n"
          ]
        },
        {
          "output_type": "stream",
          "name": "stderr",
          "text": [
            "\r  3%|▎         | 1424/50000 [18:09<9:13:56,  1.46it/s]"
          ]
        },
        {
          "output_type": "stream",
          "name": "stdout",
          "text": [
            "Saved file: /content/drive/MyDrive/dataset/TeamDeepwave/dataset/preprocessed/train/real/FCVGXGQK.png\n",
            "Processing file: /content/drive/MyDrive/dataset/TeamDeepwave/dataset/open/./train/PPDGGBQD.ogg\n"
          ]
        },
        {
          "output_type": "stream",
          "name": "stderr",
          "text": [
            "\r  3%|▎         | 1425/50000 [18:10<9:55:03,  1.36it/s]"
          ]
        },
        {
          "output_type": "stream",
          "name": "stdout",
          "text": [
            "Saved file: /content/drive/MyDrive/dataset/TeamDeepwave/dataset/preprocessed/train/real/PPDGGBQD.png\n",
            "Processing file: /content/drive/MyDrive/dataset/TeamDeepwave/dataset/open/./train/RXTLEBRU.ogg\n"
          ]
        },
        {
          "output_type": "stream",
          "name": "stderr",
          "text": [
            "\r  3%|▎         | 1426/50000 [18:11<9:30:15,  1.42it/s]"
          ]
        },
        {
          "output_type": "stream",
          "name": "stdout",
          "text": [
            "Saved file: /content/drive/MyDrive/dataset/TeamDeepwave/dataset/preprocessed/train/real/RXTLEBRU.png\n",
            "Processing file: /content/drive/MyDrive/dataset/TeamDeepwave/dataset/open/./train/FWBXILGR.ogg\n"
          ]
        },
        {
          "output_type": "stream",
          "name": "stderr",
          "text": [
            "\r  3%|▎         | 1427/50000 [18:11<9:04:54,  1.49it/s]"
          ]
        },
        {
          "output_type": "stream",
          "name": "stdout",
          "text": [
            "Saved file: /content/drive/MyDrive/dataset/TeamDeepwave/dataset/preprocessed/train/real/FWBXILGR.png\n",
            "Processing file: /content/drive/MyDrive/dataset/TeamDeepwave/dataset/open/./train/UMNMZWJG.ogg\n"
          ]
        },
        {
          "output_type": "stream",
          "name": "stderr",
          "text": [
            "\r  3%|▎         | 1428/50000 [18:12<9:07:41,  1.48it/s]"
          ]
        },
        {
          "output_type": "stream",
          "name": "stdout",
          "text": [
            "Saved file: /content/drive/MyDrive/dataset/TeamDeepwave/dataset/preprocessed/train/real/UMNMZWJG.png\n",
            "Processing file: /content/drive/MyDrive/dataset/TeamDeepwave/dataset/open/./train/YXDUGMTZ.ogg\n"
          ]
        },
        {
          "output_type": "stream",
          "name": "stderr",
          "text": [
            "\r  3%|▎         | 1429/50000 [18:13<8:43:39,  1.55it/s]"
          ]
        },
        {
          "output_type": "stream",
          "name": "stdout",
          "text": [
            "Saved file: /content/drive/MyDrive/dataset/TeamDeepwave/dataset/preprocessed/train/fake/YXDUGMTZ.png\n",
            "Processing file: /content/drive/MyDrive/dataset/TeamDeepwave/dataset/open/./train/VSIHTKZW.ogg\n"
          ]
        },
        {
          "output_type": "stream",
          "name": "stderr",
          "text": [
            "\r  3%|▎         | 1430/50000 [18:13<8:41:34,  1.55it/s]"
          ]
        },
        {
          "output_type": "stream",
          "name": "stdout",
          "text": [
            "Saved file: /content/drive/MyDrive/dataset/TeamDeepwave/dataset/preprocessed/train/fake/VSIHTKZW.png\n",
            "Processing file: /content/drive/MyDrive/dataset/TeamDeepwave/dataset/open/./train/QYKZLQTI.ogg\n"
          ]
        },
        {
          "output_type": "stream",
          "name": "stderr",
          "text": [
            "\r  3%|▎         | 1431/50000 [18:14<9:18:51,  1.45it/s]"
          ]
        },
        {
          "output_type": "stream",
          "name": "stdout",
          "text": [
            "Saved file: /content/drive/MyDrive/dataset/TeamDeepwave/dataset/preprocessed/train/real/QYKZLQTI.png\n",
            "Processing file: /content/drive/MyDrive/dataset/TeamDeepwave/dataset/open/./train/VSERWACP.ogg\n"
          ]
        },
        {
          "output_type": "stream",
          "name": "stderr",
          "text": [
            "\r  3%|▎         | 1432/50000 [18:15<9:47:12,  1.38it/s]"
          ]
        },
        {
          "output_type": "stream",
          "name": "stdout",
          "text": [
            "Saved file: /content/drive/MyDrive/dataset/TeamDeepwave/dataset/preprocessed/train/fake/VSERWACP.png\n",
            "Processing file: /content/drive/MyDrive/dataset/TeamDeepwave/dataset/open/./train/KXAKFAJD.ogg\n"
          ]
        },
        {
          "output_type": "stream",
          "name": "stderr",
          "text": [
            "\r  3%|▎         | 1433/50000 [18:16<10:50:23,  1.24it/s]"
          ]
        },
        {
          "output_type": "stream",
          "name": "stdout",
          "text": [
            "Saved file: /content/drive/MyDrive/dataset/TeamDeepwave/dataset/preprocessed/train/real/KXAKFAJD.png\n",
            "Processing file: /content/drive/MyDrive/dataset/TeamDeepwave/dataset/open/./train/TSPJHBXH.ogg\n"
          ]
        },
        {
          "output_type": "stream",
          "name": "stderr",
          "text": [
            "\r  3%|▎         | 1434/50000 [18:17<11:25:23,  1.18it/s]"
          ]
        },
        {
          "output_type": "stream",
          "name": "stdout",
          "text": [
            "Saved file: /content/drive/MyDrive/dataset/TeamDeepwave/dataset/preprocessed/train/real/TSPJHBXH.png\n",
            "Processing file: /content/drive/MyDrive/dataset/TeamDeepwave/dataset/open/./train/VHCAZQIK.ogg\n"
          ]
        },
        {
          "output_type": "stream",
          "name": "stderr",
          "text": [
            "\r  3%|▎         | 1435/50000 [18:18<11:42:14,  1.15it/s]"
          ]
        },
        {
          "output_type": "stream",
          "name": "stdout",
          "text": [
            "Saved file: /content/drive/MyDrive/dataset/TeamDeepwave/dataset/preprocessed/train/fake/VHCAZQIK.png\n",
            "Processing file: /content/drive/MyDrive/dataset/TeamDeepwave/dataset/open/./train/DPHJGXPM.ogg\n"
          ]
        },
        {
          "output_type": "stream",
          "name": "stderr",
          "text": [
            "\r  3%|▎         | 1436/50000 [18:18<11:30:13,  1.17it/s]"
          ]
        },
        {
          "output_type": "stream",
          "name": "stdout",
          "text": [
            "Saved file: /content/drive/MyDrive/dataset/TeamDeepwave/dataset/preprocessed/train/real/DPHJGXPM.png\n",
            "Processing file: /content/drive/MyDrive/dataset/TeamDeepwave/dataset/open/./train/WEOSAWTW.ogg\n"
          ]
        },
        {
          "output_type": "stream",
          "name": "stderr",
          "text": [
            "\r  3%|▎         | 1437/50000 [18:19<10:39:20,  1.27it/s]"
          ]
        },
        {
          "output_type": "stream",
          "name": "stdout",
          "text": [
            "Saved file: /content/drive/MyDrive/dataset/TeamDeepwave/dataset/preprocessed/train/fake/WEOSAWTW.png\n",
            "Processing file: /content/drive/MyDrive/dataset/TeamDeepwave/dataset/open/./train/EDZCHHWL.ogg\n"
          ]
        },
        {
          "output_type": "stream",
          "name": "stderr",
          "text": [
            "\r  3%|▎         | 1438/50000 [18:20<10:05:26,  1.34it/s]"
          ]
        },
        {
          "output_type": "stream",
          "name": "stdout",
          "text": [
            "Saved file: /content/drive/MyDrive/dataset/TeamDeepwave/dataset/preprocessed/train/real/EDZCHHWL.png\n",
            "Processing file: /content/drive/MyDrive/dataset/TeamDeepwave/dataset/open/./train/EHTGFCEI.ogg\n"
          ]
        },
        {
          "output_type": "stream",
          "name": "stderr",
          "text": [
            "\r  3%|▎         | 1439/50000 [18:20<9:51:02,  1.37it/s] "
          ]
        },
        {
          "output_type": "stream",
          "name": "stdout",
          "text": [
            "Saved file: /content/drive/MyDrive/dataset/TeamDeepwave/dataset/preprocessed/train/real/EHTGFCEI.png\n",
            "Processing file: /content/drive/MyDrive/dataset/TeamDeepwave/dataset/open/./train/BGLGKCJN.ogg\n"
          ]
        },
        {
          "output_type": "stream",
          "name": "stderr",
          "text": [
            "\r  3%|▎         | 1440/50000 [18:21<10:24:41,  1.30it/s]"
          ]
        },
        {
          "output_type": "stream",
          "name": "stdout",
          "text": [
            "Saved file: /content/drive/MyDrive/dataset/TeamDeepwave/dataset/preprocessed/train/real/BGLGKCJN.png\n",
            "Processing file: /content/drive/MyDrive/dataset/TeamDeepwave/dataset/open/./train/NFJIVSVI.ogg\n"
          ]
        },
        {
          "output_type": "stream",
          "name": "stderr",
          "text": [
            "\r  3%|▎         | 1441/50000 [18:22<10:06:36,  1.33it/s]"
          ]
        },
        {
          "output_type": "stream",
          "name": "stdout",
          "text": [
            "Saved file: /content/drive/MyDrive/dataset/TeamDeepwave/dataset/preprocessed/train/real/NFJIVSVI.png\n",
            "Processing file: /content/drive/MyDrive/dataset/TeamDeepwave/dataset/open/./train/TGYIBUFC.ogg\n"
          ]
        },
        {
          "output_type": "stream",
          "name": "stderr",
          "text": [
            "\r  3%|▎         | 1442/50000 [18:23<9:26:40,  1.43it/s] "
          ]
        },
        {
          "output_type": "stream",
          "name": "stdout",
          "text": [
            "Saved file: /content/drive/MyDrive/dataset/TeamDeepwave/dataset/preprocessed/train/fake/TGYIBUFC.png\n",
            "Processing file: /content/drive/MyDrive/dataset/TeamDeepwave/dataset/open/./train/JZLOOMFK.ogg\n"
          ]
        },
        {
          "output_type": "stream",
          "name": "stderr",
          "text": [
            "\r  3%|▎         | 1443/50000 [18:23<9:26:28,  1.43it/s]"
          ]
        },
        {
          "output_type": "stream",
          "name": "stdout",
          "text": [
            "Saved file: /content/drive/MyDrive/dataset/TeamDeepwave/dataset/preprocessed/train/real/JZLOOMFK.png\n",
            "Processing file: /content/drive/MyDrive/dataset/TeamDeepwave/dataset/open/./train/KVBYQWHO.ogg\n"
          ]
        },
        {
          "output_type": "stream",
          "name": "stderr",
          "text": [
            "\r  3%|▎         | 1444/50000 [18:24<9:38:22,  1.40it/s]"
          ]
        },
        {
          "output_type": "stream",
          "name": "stdout",
          "text": [
            "Saved file: /content/drive/MyDrive/dataset/TeamDeepwave/dataset/preprocessed/train/fake/KVBYQWHO.png\n",
            "Processing file: /content/drive/MyDrive/dataset/TeamDeepwave/dataset/open/./train/ASCNPKKX.ogg\n"
          ]
        },
        {
          "output_type": "stream",
          "name": "stderr",
          "text": [
            "\r  3%|▎         | 1445/50000 [18:25<9:16:13,  1.45it/s]"
          ]
        },
        {
          "output_type": "stream",
          "name": "stdout",
          "text": [
            "Saved file: /content/drive/MyDrive/dataset/TeamDeepwave/dataset/preprocessed/train/fake/ASCNPKKX.png\n",
            "Processing file: /content/drive/MyDrive/dataset/TeamDeepwave/dataset/open/./train/YVXIVCJS.ogg\n"
          ]
        },
        {
          "output_type": "stream",
          "name": "stderr",
          "text": [
            "\r  3%|▎         | 1446/50000 [18:25<9:04:24,  1.49it/s]"
          ]
        },
        {
          "output_type": "stream",
          "name": "stdout",
          "text": [
            "Saved file: /content/drive/MyDrive/dataset/TeamDeepwave/dataset/preprocessed/train/real/YVXIVCJS.png\n",
            "Processing file: /content/drive/MyDrive/dataset/TeamDeepwave/dataset/open/./train/QNSBNTWP.ogg\n"
          ]
        },
        {
          "output_type": "stream",
          "name": "stderr",
          "text": [
            "\r  3%|▎         | 1447/50000 [18:26<8:51:57,  1.52it/s]"
          ]
        },
        {
          "output_type": "stream",
          "name": "stdout",
          "text": [
            "Saved file: /content/drive/MyDrive/dataset/TeamDeepwave/dataset/preprocessed/train/fake/QNSBNTWP.png\n",
            "Processing file: /content/drive/MyDrive/dataset/TeamDeepwave/dataset/open/./train/XFVBKQSE.ogg\n"
          ]
        },
        {
          "output_type": "stream",
          "name": "stderr",
          "text": [
            "\r  3%|▎         | 1448/50000 [18:27<8:42:56,  1.55it/s]"
          ]
        },
        {
          "output_type": "stream",
          "name": "stdout",
          "text": [
            "Saved file: /content/drive/MyDrive/dataset/TeamDeepwave/dataset/preprocessed/train/real/XFVBKQSE.png\n",
            "Processing file: /content/drive/MyDrive/dataset/TeamDeepwave/dataset/open/./train/ULEUGPKW.ogg\n"
          ]
        },
        {
          "output_type": "stream",
          "name": "stderr",
          "text": [
            "\r  3%|▎         | 1449/50000 [18:27<8:31:00,  1.58it/s]"
          ]
        },
        {
          "output_type": "stream",
          "name": "stdout",
          "text": [
            "Saved file: /content/drive/MyDrive/dataset/TeamDeepwave/dataset/preprocessed/train/fake/ULEUGPKW.png\n",
            "Processing file: /content/drive/MyDrive/dataset/TeamDeepwave/dataset/open/./train/LSTXRQTK.ogg\n"
          ]
        },
        {
          "output_type": "stream",
          "name": "stderr",
          "text": [
            "\r  3%|▎         | 1450/50000 [18:28<8:29:08,  1.59it/s]"
          ]
        },
        {
          "output_type": "stream",
          "name": "stdout",
          "text": [
            "Saved file: /content/drive/MyDrive/dataset/TeamDeepwave/dataset/preprocessed/train/fake/LSTXRQTK.png\n",
            "Processing file: /content/drive/MyDrive/dataset/TeamDeepwave/dataset/open/./train/STXTVUCY.ogg\n"
          ]
        },
        {
          "output_type": "stream",
          "name": "stderr",
          "text": [
            "\r  3%|▎         | 1451/50000 [18:29<9:38:28,  1.40it/s]"
          ]
        },
        {
          "output_type": "stream",
          "name": "stdout",
          "text": [
            "Saved file: /content/drive/MyDrive/dataset/TeamDeepwave/dataset/preprocessed/train/real/STXTVUCY.png\n",
            "Processing file: /content/drive/MyDrive/dataset/TeamDeepwave/dataset/open/./train/CEYYBRTH.ogg\n"
          ]
        },
        {
          "output_type": "stream",
          "name": "stderr",
          "text": [
            "\r  3%|▎         | 1452/50000 [18:30<10:09:17,  1.33it/s]"
          ]
        },
        {
          "output_type": "stream",
          "name": "stdout",
          "text": [
            "Saved file: /content/drive/MyDrive/dataset/TeamDeepwave/dataset/preprocessed/train/real/CEYYBRTH.png\n",
            "Processing file: /content/drive/MyDrive/dataset/TeamDeepwave/dataset/open/./train/SONSPVBQ.ogg\n"
          ]
        },
        {
          "output_type": "stream",
          "name": "stderr",
          "text": [
            "\r  3%|▎         | 1453/50000 [18:31<11:15:25,  1.20it/s]"
          ]
        },
        {
          "output_type": "stream",
          "name": "stdout",
          "text": [
            "Saved file: /content/drive/MyDrive/dataset/TeamDeepwave/dataset/preprocessed/train/real/SONSPVBQ.png\n",
            "Processing file: /content/drive/MyDrive/dataset/TeamDeepwave/dataset/open/./train/AZYJKOCN.ogg\n"
          ]
        },
        {
          "output_type": "stream",
          "name": "stderr",
          "text": [
            "\r  3%|▎         | 1454/50000 [18:32<11:53:57,  1.13it/s]"
          ]
        },
        {
          "output_type": "stream",
          "name": "stdout",
          "text": [
            "Saved file: /content/drive/MyDrive/dataset/TeamDeepwave/dataset/preprocessed/train/fake/AZYJKOCN.png\n",
            "Processing file: /content/drive/MyDrive/dataset/TeamDeepwave/dataset/open/./train/EOJVHDVS.ogg\n"
          ]
        },
        {
          "output_type": "stream",
          "name": "stderr",
          "text": [
            "\r  3%|▎         | 1455/50000 [18:32<11:03:36,  1.22it/s]"
          ]
        },
        {
          "output_type": "stream",
          "name": "stdout",
          "text": [
            "Saved file: /content/drive/MyDrive/dataset/TeamDeepwave/dataset/preprocessed/train/fake/EOJVHDVS.png\n",
            "Processing file: /content/drive/MyDrive/dataset/TeamDeepwave/dataset/open/./train/NSWOGYBU.ogg\n"
          ]
        },
        {
          "output_type": "stream",
          "name": "stderr",
          "text": [
            "\r  3%|▎         | 1456/50000 [18:33<11:47:31,  1.14it/s]"
          ]
        },
        {
          "output_type": "stream",
          "name": "stdout",
          "text": [
            "Saved file: /content/drive/MyDrive/dataset/TeamDeepwave/dataset/preprocessed/train/real/NSWOGYBU.png\n",
            "Processing file: /content/drive/MyDrive/dataset/TeamDeepwave/dataset/open/./train/DFSFDAQS.ogg\n"
          ]
        },
        {
          "output_type": "stream",
          "name": "stderr",
          "text": [
            "\r  3%|▎         | 1457/50000 [18:34<12:50:08,  1.05it/s]"
          ]
        },
        {
          "output_type": "stream",
          "name": "stdout",
          "text": [
            "Saved file: /content/drive/MyDrive/dataset/TeamDeepwave/dataset/preprocessed/train/real/DFSFDAQS.png\n",
            "Processing file: /content/drive/MyDrive/dataset/TeamDeepwave/dataset/open/./train/JRIMFWPC.ogg\n"
          ]
        },
        {
          "output_type": "stream",
          "name": "stderr",
          "text": [
            "\r  3%|▎         | 1458/50000 [18:35<12:33:52,  1.07it/s]"
          ]
        },
        {
          "output_type": "stream",
          "name": "stdout",
          "text": [
            "Saved file: /content/drive/MyDrive/dataset/TeamDeepwave/dataset/preprocessed/train/fake/JRIMFWPC.png\n",
            "Processing file: /content/drive/MyDrive/dataset/TeamDeepwave/dataset/open/./train/DJDFNHCU.ogg\n"
          ]
        },
        {
          "output_type": "stream",
          "name": "stderr",
          "text": [
            "\r  3%|▎         | 1459/50000 [18:36<12:13:01,  1.10it/s]"
          ]
        },
        {
          "output_type": "stream",
          "name": "stdout",
          "text": [
            "Saved file: /content/drive/MyDrive/dataset/TeamDeepwave/dataset/preprocessed/train/fake/DJDFNHCU.png\n",
            "Processing file: /content/drive/MyDrive/dataset/TeamDeepwave/dataset/open/./train/OBKRZGZG.ogg\n"
          ]
        },
        {
          "output_type": "stream",
          "name": "stderr",
          "text": [
            "\r  3%|▎         | 1460/50000 [18:37<11:08:39,  1.21it/s]"
          ]
        },
        {
          "output_type": "stream",
          "name": "stdout",
          "text": [
            "Saved file: /content/drive/MyDrive/dataset/TeamDeepwave/dataset/preprocessed/train/fake/OBKRZGZG.png\n",
            "Processing file: /content/drive/MyDrive/dataset/TeamDeepwave/dataset/open/./train/NUMSLXAV.ogg\n"
          ]
        },
        {
          "output_type": "stream",
          "name": "stderr",
          "text": [
            "\r  3%|▎         | 1461/50000 [18:37<10:25:30,  1.29it/s]"
          ]
        },
        {
          "output_type": "stream",
          "name": "stdout",
          "text": [
            "Saved file: /content/drive/MyDrive/dataset/TeamDeepwave/dataset/preprocessed/train/real/NUMSLXAV.png\n",
            "Processing file: /content/drive/MyDrive/dataset/TeamDeepwave/dataset/open/./train/VPVJEIIK.ogg\n"
          ]
        },
        {
          "output_type": "stream",
          "name": "stderr",
          "text": [
            "\r  3%|▎         | 1462/50000 [18:38<9:49:45,  1.37it/s] "
          ]
        },
        {
          "output_type": "stream",
          "name": "stdout",
          "text": [
            "Saved file: /content/drive/MyDrive/dataset/TeamDeepwave/dataset/preprocessed/train/fake/VPVJEIIK.png\n",
            "Processing file: /content/drive/MyDrive/dataset/TeamDeepwave/dataset/open/./train/PKFYBQQB.ogg\n"
          ]
        },
        {
          "output_type": "stream",
          "name": "stderr",
          "text": [
            "\r  3%|▎         | 1463/50000 [18:39<9:33:26,  1.41it/s]"
          ]
        },
        {
          "output_type": "stream",
          "name": "stdout",
          "text": [
            "Saved file: /content/drive/MyDrive/dataset/TeamDeepwave/dataset/preprocessed/train/real/PKFYBQQB.png\n",
            "Processing file: /content/drive/MyDrive/dataset/TeamDeepwave/dataset/open/./train/IJPVFPKS.ogg\n"
          ]
        },
        {
          "output_type": "stream",
          "name": "stderr",
          "text": [
            "\r  3%|▎         | 1464/50000 [18:39<8:59:45,  1.50it/s]"
          ]
        },
        {
          "output_type": "stream",
          "name": "stdout",
          "text": [
            "Saved file: /content/drive/MyDrive/dataset/TeamDeepwave/dataset/preprocessed/train/fake/IJPVFPKS.png\n",
            "Processing file: /content/drive/MyDrive/dataset/TeamDeepwave/dataset/open/./train/CEASTIDN.ogg\n"
          ]
        },
        {
          "output_type": "stream",
          "name": "stderr",
          "text": [
            "\r  3%|▎         | 1465/50000 [18:40<8:58:04,  1.50it/s]"
          ]
        },
        {
          "output_type": "stream",
          "name": "stdout",
          "text": [
            "Saved file: /content/drive/MyDrive/dataset/TeamDeepwave/dataset/preprocessed/train/fake/CEASTIDN.png\n",
            "Processing file: /content/drive/MyDrive/dataset/TeamDeepwave/dataset/open/./train/GVUPUEMK.ogg\n"
          ]
        },
        {
          "output_type": "stream",
          "name": "stderr",
          "text": [
            "\r  3%|▎         | 1466/50000 [18:41<8:59:37,  1.50it/s]"
          ]
        },
        {
          "output_type": "stream",
          "name": "stdout",
          "text": [
            "Saved file: /content/drive/MyDrive/dataset/TeamDeepwave/dataset/preprocessed/train/real/GVUPUEMK.png\n",
            "Processing file: /content/drive/MyDrive/dataset/TeamDeepwave/dataset/open/./train/EPNMRDRU.ogg\n"
          ]
        },
        {
          "output_type": "stream",
          "name": "stderr",
          "text": [
            "\r  3%|▎         | 1467/50000 [18:41<8:38:11,  1.56it/s]"
          ]
        },
        {
          "output_type": "stream",
          "name": "stdout",
          "text": [
            "Saved file: /content/drive/MyDrive/dataset/TeamDeepwave/dataset/preprocessed/train/fake/EPNMRDRU.png\n",
            "Processing file: /content/drive/MyDrive/dataset/TeamDeepwave/dataset/open/./train/WHPUGGRB.ogg\n"
          ]
        },
        {
          "output_type": "stream",
          "name": "stderr",
          "text": [
            "\r  3%|▎         | 1468/50000 [18:42<8:33:13,  1.58it/s]"
          ]
        },
        {
          "output_type": "stream",
          "name": "stdout",
          "text": [
            "Saved file: /content/drive/MyDrive/dataset/TeamDeepwave/dataset/preprocessed/train/fake/WHPUGGRB.png\n",
            "Processing file: /content/drive/MyDrive/dataset/TeamDeepwave/dataset/open/./train/IPPPFYDI.ogg\n"
          ]
        },
        {
          "output_type": "stream",
          "name": "stderr",
          "text": [
            "\r  3%|▎         | 1469/50000 [18:43<9:49:05,  1.37it/s]"
          ]
        },
        {
          "output_type": "stream",
          "name": "stdout",
          "text": [
            "Saved file: /content/drive/MyDrive/dataset/TeamDeepwave/dataset/preprocessed/train/real/IPPPFYDI.png\n",
            "Processing file: /content/drive/MyDrive/dataset/TeamDeepwave/dataset/open/./train/JVKPENVO.ogg\n"
          ]
        },
        {
          "output_type": "stream",
          "name": "stderr",
          "text": [
            "\r  3%|▎         | 1470/50000 [18:44<10:06:18,  1.33it/s]"
          ]
        },
        {
          "output_type": "stream",
          "name": "stdout",
          "text": [
            "Saved file: /content/drive/MyDrive/dataset/TeamDeepwave/dataset/preprocessed/train/real/JVKPENVO.png\n",
            "Processing file: /content/drive/MyDrive/dataset/TeamDeepwave/dataset/open/./train/ONECYJNB.ogg\n"
          ]
        },
        {
          "output_type": "stream",
          "name": "stderr",
          "text": [
            "\r  3%|▎         | 1471/50000 [18:44<10:34:39,  1.27it/s]"
          ]
        },
        {
          "output_type": "stream",
          "name": "stdout",
          "text": [
            "Saved file: /content/drive/MyDrive/dataset/TeamDeepwave/dataset/preprocessed/train/fake/ONECYJNB.png\n",
            "Processing file: /content/drive/MyDrive/dataset/TeamDeepwave/dataset/open/./train/CKUZLJNW.ogg\n"
          ]
        },
        {
          "output_type": "stream",
          "name": "stderr",
          "text": [
            "\r  3%|▎         | 1472/50000 [18:45<11:08:04,  1.21it/s]"
          ]
        },
        {
          "output_type": "stream",
          "name": "stdout",
          "text": [
            "Saved file: /content/drive/MyDrive/dataset/TeamDeepwave/dataset/preprocessed/train/fake/CKUZLJNW.png\n",
            "Processing file: /content/drive/MyDrive/dataset/TeamDeepwave/dataset/open/./train/KQRVNXOC.ogg\n"
          ]
        },
        {
          "output_type": "stream",
          "name": "stderr",
          "text": [
            "\r  3%|▎         | 1473/50000 [18:46<10:52:12,  1.24it/s]"
          ]
        },
        {
          "output_type": "stream",
          "name": "stdout",
          "text": [
            "Saved file: /content/drive/MyDrive/dataset/TeamDeepwave/dataset/preprocessed/train/real/KQRVNXOC.png\n",
            "Processing file: /content/drive/MyDrive/dataset/TeamDeepwave/dataset/open/./train/XRHCAMKB.ogg\n"
          ]
        },
        {
          "output_type": "stream",
          "name": "stderr",
          "text": [
            "\r  3%|▎         | 1474/50000 [18:47<10:09:59,  1.33it/s]"
          ]
        },
        {
          "output_type": "stream",
          "name": "stdout",
          "text": [
            "Saved file: /content/drive/MyDrive/dataset/TeamDeepwave/dataset/preprocessed/train/fake/XRHCAMKB.png\n",
            "Processing file: /content/drive/MyDrive/dataset/TeamDeepwave/dataset/open/./train/XVNBZWCR.ogg\n"
          ]
        },
        {
          "output_type": "stream",
          "name": "stderr",
          "text": [
            "\r  3%|▎         | 1475/50000 [18:47<9:35:05,  1.41it/s] "
          ]
        },
        {
          "output_type": "stream",
          "name": "stdout",
          "text": [
            "Saved file: /content/drive/MyDrive/dataset/TeamDeepwave/dataset/preprocessed/train/fake/XVNBZWCR.png\n",
            "Processing file: /content/drive/MyDrive/dataset/TeamDeepwave/dataset/open/./train/QBICRDVU.ogg\n"
          ]
        },
        {
          "output_type": "stream",
          "name": "stderr",
          "text": [
            "\r  3%|▎         | 1476/50000 [18:48<9:29:18,  1.42it/s]"
          ]
        },
        {
          "output_type": "stream",
          "name": "stdout",
          "text": [
            "Saved file: /content/drive/MyDrive/dataset/TeamDeepwave/dataset/preprocessed/train/real/QBICRDVU.png\n",
            "Processing file: /content/drive/MyDrive/dataset/TeamDeepwave/dataset/open/./train/KDGWSJCM.ogg\n"
          ]
        },
        {
          "output_type": "stream",
          "name": "stderr",
          "text": [
            "\r  3%|▎         | 1477/50000 [18:49<9:08:30,  1.47it/s]"
          ]
        },
        {
          "output_type": "stream",
          "name": "stdout",
          "text": [
            "Saved file: /content/drive/MyDrive/dataset/TeamDeepwave/dataset/preprocessed/train/fake/KDGWSJCM.png\n",
            "Processing file: /content/drive/MyDrive/dataset/TeamDeepwave/dataset/open/./train/DXVRXIMA.ogg\n"
          ]
        },
        {
          "output_type": "stream",
          "name": "stderr",
          "text": [
            "\r  3%|▎         | 1478/50000 [18:49<9:27:34,  1.42it/s]"
          ]
        },
        {
          "output_type": "stream",
          "name": "stdout",
          "text": [
            "Saved file: /content/drive/MyDrive/dataset/TeamDeepwave/dataset/preprocessed/train/fake/DXVRXIMA.png\n",
            "Processing file: /content/drive/MyDrive/dataset/TeamDeepwave/dataset/open/./train/GILTLSZH.ogg\n"
          ]
        },
        {
          "output_type": "stream",
          "name": "stderr",
          "text": [
            "\r  3%|▎         | 1479/50000 [18:50<9:32:56,  1.41it/s]"
          ]
        },
        {
          "output_type": "stream",
          "name": "stdout",
          "text": [
            "Saved file: /content/drive/MyDrive/dataset/TeamDeepwave/dataset/preprocessed/train/real/GILTLSZH.png\n",
            "Processing file: /content/drive/MyDrive/dataset/TeamDeepwave/dataset/open/./train/KWHRADKP.ogg\n"
          ]
        },
        {
          "output_type": "stream",
          "name": "stderr",
          "text": [
            "\r  3%|▎         | 1480/50000 [18:51<9:55:08,  1.36it/s]"
          ]
        },
        {
          "output_type": "stream",
          "name": "stdout",
          "text": [
            "Saved file: /content/drive/MyDrive/dataset/TeamDeepwave/dataset/preprocessed/train/real/KWHRADKP.png\n",
            "Processing file: /content/drive/MyDrive/dataset/TeamDeepwave/dataset/open/./train/PXKZDAUD.ogg\n"
          ]
        },
        {
          "output_type": "stream",
          "name": "stderr",
          "text": [
            "\r  3%|▎         | 1481/50000 [18:52<9:39:46,  1.39it/s]"
          ]
        },
        {
          "output_type": "stream",
          "name": "stdout",
          "text": [
            "Saved file: /content/drive/MyDrive/dataset/TeamDeepwave/dataset/preprocessed/train/fake/PXKZDAUD.png\n",
            "Processing file: /content/drive/MyDrive/dataset/TeamDeepwave/dataset/open/./train/TNZYWNVI.ogg\n"
          ]
        },
        {
          "output_type": "stream",
          "name": "stderr",
          "text": [
            "\r  3%|▎         | 1482/50000 [18:52<9:41:12,  1.39it/s]"
          ]
        },
        {
          "output_type": "stream",
          "name": "stdout",
          "text": [
            "Saved file: /content/drive/MyDrive/dataset/TeamDeepwave/dataset/preprocessed/train/real/TNZYWNVI.png\n",
            "Processing file: /content/drive/MyDrive/dataset/TeamDeepwave/dataset/open/./train/IHTDJZXT.ogg\n"
          ]
        },
        {
          "output_type": "stream",
          "name": "stderr",
          "text": [
            "\r  3%|▎         | 1483/50000 [18:53<9:57:07,  1.35it/s]"
          ]
        },
        {
          "output_type": "stream",
          "name": "stdout",
          "text": [
            "Saved file: /content/drive/MyDrive/dataset/TeamDeepwave/dataset/preprocessed/train/real/IHTDJZXT.png\n",
            "Processing file: /content/drive/MyDrive/dataset/TeamDeepwave/dataset/open/./train/QDWYBEYN.ogg\n"
          ]
        },
        {
          "output_type": "stream",
          "name": "stderr",
          "text": [
            "\r  3%|▎         | 1484/50000 [18:54<9:37:53,  1.40it/s]"
          ]
        },
        {
          "output_type": "stream",
          "name": "stdout",
          "text": [
            "Saved file: /content/drive/MyDrive/dataset/TeamDeepwave/dataset/preprocessed/train/real/QDWYBEYN.png\n",
            "Processing file: /content/drive/MyDrive/dataset/TeamDeepwave/dataset/open/./train/KVUMZBFW.ogg\n"
          ]
        },
        {
          "output_type": "stream",
          "name": "stderr",
          "text": [
            "\r  3%|▎         | 1485/50000 [18:54<9:34:55,  1.41it/s]"
          ]
        },
        {
          "output_type": "stream",
          "name": "stdout",
          "text": [
            "Saved file: /content/drive/MyDrive/dataset/TeamDeepwave/dataset/preprocessed/train/real/KVUMZBFW.png\n",
            "Processing file: /content/drive/MyDrive/dataset/TeamDeepwave/dataset/open/./train/YIRDSVHO.ogg\n"
          ]
        },
        {
          "output_type": "stream",
          "name": "stderr",
          "text": [
            "\r  3%|▎         | 1486/50000 [18:55<9:14:34,  1.46it/s]"
          ]
        },
        {
          "output_type": "stream",
          "name": "stdout",
          "text": [
            "Saved file: /content/drive/MyDrive/dataset/TeamDeepwave/dataset/preprocessed/train/real/YIRDSVHO.png\n",
            "Processing file: /content/drive/MyDrive/dataset/TeamDeepwave/dataset/open/./train/VIPLCAXD.ogg\n"
          ]
        },
        {
          "output_type": "stream",
          "name": "stderr",
          "text": [
            "\r  3%|▎         | 1487/50000 [18:56<9:23:44,  1.43it/s]"
          ]
        },
        {
          "output_type": "stream",
          "name": "stdout",
          "text": [
            "Saved file: /content/drive/MyDrive/dataset/TeamDeepwave/dataset/preprocessed/train/real/VIPLCAXD.png\n",
            "Processing file: /content/drive/MyDrive/dataset/TeamDeepwave/dataset/open/./train/REBINJCH.ogg\n"
          ]
        },
        {
          "output_type": "stream",
          "name": "stderr",
          "text": [
            "\r  3%|▎         | 1488/50000 [18:57<10:02:07,  1.34it/s]"
          ]
        },
        {
          "output_type": "stream",
          "name": "stdout",
          "text": [
            "Saved file: /content/drive/MyDrive/dataset/TeamDeepwave/dataset/preprocessed/train/fake/REBINJCH.png\n",
            "Processing file: /content/drive/MyDrive/dataset/TeamDeepwave/dataset/open/./train/PXMAAIHM.ogg\n"
          ]
        },
        {
          "output_type": "stream",
          "name": "stderr",
          "text": [
            "\r  3%|▎         | 1489/50000 [18:58<10:35:19,  1.27it/s]"
          ]
        },
        {
          "output_type": "stream",
          "name": "stdout",
          "text": [
            "Saved file: /content/drive/MyDrive/dataset/TeamDeepwave/dataset/preprocessed/train/fake/PXMAAIHM.png\n",
            "Processing file: /content/drive/MyDrive/dataset/TeamDeepwave/dataset/open/./train/XBVJWFZQ.ogg\n"
          ]
        },
        {
          "output_type": "stream",
          "name": "stderr",
          "text": [
            "\r  3%|▎         | 1490/50000 [18:58<10:31:57,  1.28it/s]"
          ]
        },
        {
          "output_type": "stream",
          "name": "stdout",
          "text": [
            "Saved file: /content/drive/MyDrive/dataset/TeamDeepwave/dataset/preprocessed/train/fake/XBVJWFZQ.png\n",
            "Processing file: /content/drive/MyDrive/dataset/TeamDeepwave/dataset/open/./train/NJUJUIEA.ogg\n"
          ]
        },
        {
          "output_type": "stream",
          "name": "stderr",
          "text": [
            "\r  3%|▎         | 1491/50000 [18:59<10:34:27,  1.27it/s]"
          ]
        },
        {
          "output_type": "stream",
          "name": "stdout",
          "text": [
            "Saved file: /content/drive/MyDrive/dataset/TeamDeepwave/dataset/preprocessed/train/fake/NJUJUIEA.png\n",
            "Processing file: /content/drive/MyDrive/dataset/TeamDeepwave/dataset/open/./train/UVTRVMCE.ogg\n"
          ]
        },
        {
          "output_type": "stream",
          "name": "stderr",
          "text": [
            "\r  3%|▎         | 1492/50000 [19:00<10:46:53,  1.25it/s]"
          ]
        },
        {
          "output_type": "stream",
          "name": "stdout",
          "text": [
            "Saved file: /content/drive/MyDrive/dataset/TeamDeepwave/dataset/preprocessed/train/real/UVTRVMCE.png\n",
            "Processing file: /content/drive/MyDrive/dataset/TeamDeepwave/dataset/open/./train/VYKMIMWM.ogg\n"
          ]
        },
        {
          "output_type": "stream",
          "name": "stderr",
          "text": [
            "\r  3%|▎         | 1493/50000 [19:01<10:33:42,  1.28it/s]"
          ]
        },
        {
          "output_type": "stream",
          "name": "stdout",
          "text": [
            "Saved file: /content/drive/MyDrive/dataset/TeamDeepwave/dataset/preprocessed/train/real/VYKMIMWM.png\n",
            "Processing file: /content/drive/MyDrive/dataset/TeamDeepwave/dataset/open/./train/JPJDIUZZ.ogg\n"
          ]
        },
        {
          "output_type": "stream",
          "name": "stderr",
          "text": [
            "\r  3%|▎         | 1494/50000 [19:01<10:02:53,  1.34it/s]"
          ]
        },
        {
          "output_type": "stream",
          "name": "stdout",
          "text": [
            "Saved file: /content/drive/MyDrive/dataset/TeamDeepwave/dataset/preprocessed/train/real/JPJDIUZZ.png\n",
            "Processing file: /content/drive/MyDrive/dataset/TeamDeepwave/dataset/open/./train/PVFPRGHX.ogg\n"
          ]
        },
        {
          "output_type": "stream",
          "name": "stderr",
          "text": [
            "\r  3%|▎         | 1495/50000 [19:02<10:02:25,  1.34it/s]"
          ]
        },
        {
          "output_type": "stream",
          "name": "stdout",
          "text": [
            "Saved file: /content/drive/MyDrive/dataset/TeamDeepwave/dataset/preprocessed/train/fake/PVFPRGHX.png\n",
            "Processing file: /content/drive/MyDrive/dataset/TeamDeepwave/dataset/open/./train/DTZKATFS.ogg\n"
          ]
        },
        {
          "output_type": "stream",
          "name": "stderr",
          "text": [
            "\r  3%|▎         | 1496/50000 [19:03<9:57:35,  1.35it/s] "
          ]
        },
        {
          "output_type": "stream",
          "name": "stdout",
          "text": [
            "Saved file: /content/drive/MyDrive/dataset/TeamDeepwave/dataset/preprocessed/train/real/DTZKATFS.png\n",
            "Processing file: /content/drive/MyDrive/dataset/TeamDeepwave/dataset/open/./train/YLEYJVOO.ogg\n"
          ]
        },
        {
          "output_type": "stream",
          "name": "stderr",
          "text": [
            "\r  3%|▎         | 1497/50000 [19:03<9:36:45,  1.40it/s]"
          ]
        },
        {
          "output_type": "stream",
          "name": "stdout",
          "text": [
            "Saved file: /content/drive/MyDrive/dataset/TeamDeepwave/dataset/preprocessed/train/fake/YLEYJVOO.png\n",
            "Processing file: /content/drive/MyDrive/dataset/TeamDeepwave/dataset/open/./train/EOQUFWLV.ogg\n"
          ]
        },
        {
          "output_type": "stream",
          "name": "stderr",
          "text": [
            "\r  3%|▎         | 1498/50000 [19:04<9:44:28,  1.38it/s]"
          ]
        },
        {
          "output_type": "stream",
          "name": "stdout",
          "text": [
            "Saved file: /content/drive/MyDrive/dataset/TeamDeepwave/dataset/preprocessed/train/real/EOQUFWLV.png\n",
            "Processing file: /content/drive/MyDrive/dataset/TeamDeepwave/dataset/open/./train/MXMGVCMF.ogg\n"
          ]
        },
        {
          "output_type": "stream",
          "name": "stderr",
          "text": [
            "\r  3%|▎         | 1499/50000 [19:05<9:32:14,  1.41it/s]"
          ]
        },
        {
          "output_type": "stream",
          "name": "stdout",
          "text": [
            "Saved file: /content/drive/MyDrive/dataset/TeamDeepwave/dataset/preprocessed/train/fake/MXMGVCMF.png\n",
            "Processing file: /content/drive/MyDrive/dataset/TeamDeepwave/dataset/open/./train/GFVOINLG.ogg\n"
          ]
        },
        {
          "output_type": "stream",
          "name": "stderr",
          "text": [
            "\r  3%|▎         | 1500/50000 [19:06<9:27:53,  1.42it/s]"
          ]
        },
        {
          "output_type": "stream",
          "name": "stdout",
          "text": [
            "Saved file: /content/drive/MyDrive/dataset/TeamDeepwave/dataset/preprocessed/train/fake/GFVOINLG.png\n",
            "Processing file: /content/drive/MyDrive/dataset/TeamDeepwave/dataset/open/./train/GJGMWVYF.ogg\n"
          ]
        },
        {
          "output_type": "stream",
          "name": "stderr",
          "text": [
            "\r  3%|▎         | 1501/50000 [19:06<9:18:45,  1.45it/s]"
          ]
        },
        {
          "output_type": "stream",
          "name": "stdout",
          "text": [
            "Saved file: /content/drive/MyDrive/dataset/TeamDeepwave/dataset/preprocessed/train/real/GJGMWVYF.png\n",
            "Processing file: /content/drive/MyDrive/dataset/TeamDeepwave/dataset/open/./train/GFJDGLTX.ogg\n"
          ]
        },
        {
          "output_type": "stream",
          "name": "stderr",
          "text": [
            "\r  3%|▎         | 1502/50000 [19:07<8:58:58,  1.50it/s]"
          ]
        },
        {
          "output_type": "stream",
          "name": "stdout",
          "text": [
            "Saved file: /content/drive/MyDrive/dataset/TeamDeepwave/dataset/preprocessed/train/real/GFJDGLTX.png\n",
            "Processing file: /content/drive/MyDrive/dataset/TeamDeepwave/dataset/open/./train/BOYCWWTG.ogg\n"
          ]
        },
        {
          "output_type": "stream",
          "name": "stderr",
          "text": [
            "\r  3%|▎         | 1503/50000 [19:07<8:54:40,  1.51it/s]"
          ]
        },
        {
          "output_type": "stream",
          "name": "stdout",
          "text": [
            "Saved file: /content/drive/MyDrive/dataset/TeamDeepwave/dataset/preprocessed/train/fake/BOYCWWTG.png\n",
            "Processing file: /content/drive/MyDrive/dataset/TeamDeepwave/dataset/open/./train/UUJXMAQB.ogg\n"
          ]
        },
        {
          "output_type": "stream",
          "name": "stderr",
          "text": [
            "\r  3%|▎         | 1504/50000 [19:08<8:41:24,  1.55it/s]"
          ]
        },
        {
          "output_type": "stream",
          "name": "stdout",
          "text": [
            "Saved file: /content/drive/MyDrive/dataset/TeamDeepwave/dataset/preprocessed/train/fake/UUJXMAQB.png\n",
            "Processing file: /content/drive/MyDrive/dataset/TeamDeepwave/dataset/open/./train/KYQAEPIF.ogg\n"
          ]
        },
        {
          "output_type": "stream",
          "name": "stderr",
          "text": [
            "\r  3%|▎         | 1505/50000 [19:09<9:05:58,  1.48it/s]"
          ]
        },
        {
          "output_type": "stream",
          "name": "stdout",
          "text": [
            "Saved file: /content/drive/MyDrive/dataset/TeamDeepwave/dataset/preprocessed/train/real/KYQAEPIF.png\n",
            "Processing file: /content/drive/MyDrive/dataset/TeamDeepwave/dataset/open/./train/JESBEFCR.ogg\n"
          ]
        },
        {
          "output_type": "stream",
          "name": "stderr",
          "text": [
            "\r  3%|▎         | 1506/50000 [19:09<9:01:24,  1.49it/s]"
          ]
        },
        {
          "output_type": "stream",
          "name": "stdout",
          "text": [
            "Saved file: /content/drive/MyDrive/dataset/TeamDeepwave/dataset/preprocessed/train/real/JESBEFCR.png\n",
            "Processing file: /content/drive/MyDrive/dataset/TeamDeepwave/dataset/open/./train/QKTOIUBX.ogg\n"
          ]
        },
        {
          "output_type": "stream",
          "name": "stderr",
          "text": [
            "\r  3%|▎         | 1507/50000 [19:10<9:18:07,  1.45it/s]"
          ]
        },
        {
          "output_type": "stream",
          "name": "stdout",
          "text": [
            "Saved file: /content/drive/MyDrive/dataset/TeamDeepwave/dataset/preprocessed/train/real/QKTOIUBX.png\n",
            "Processing file: /content/drive/MyDrive/dataset/TeamDeepwave/dataset/open/./train/YOAGMHDN.ogg\n"
          ]
        },
        {
          "output_type": "stream",
          "name": "stderr",
          "text": [
            "\r  3%|▎         | 1508/50000 [19:11<10:36:05,  1.27it/s]"
          ]
        },
        {
          "output_type": "stream",
          "name": "stdout",
          "text": [
            "Saved file: /content/drive/MyDrive/dataset/TeamDeepwave/dataset/preprocessed/train/real/YOAGMHDN.png\n",
            "Processing file: /content/drive/MyDrive/dataset/TeamDeepwave/dataset/open/./train/GBXDTCVB.ogg\n"
          ]
        },
        {
          "output_type": "stream",
          "name": "stderr",
          "text": [
            "\r  3%|▎         | 1509/50000 [19:12<12:10:40,  1.11it/s]"
          ]
        },
        {
          "output_type": "stream",
          "name": "stdout",
          "text": [
            "Saved file: /content/drive/MyDrive/dataset/TeamDeepwave/dataset/preprocessed/train/real/GBXDTCVB.png\n",
            "Processing file: /content/drive/MyDrive/dataset/TeamDeepwave/dataset/open/./train/VGVDPFGX.ogg\n"
          ]
        },
        {
          "output_type": "stream",
          "name": "stderr",
          "text": [
            "\r  3%|▎         | 1510/50000 [19:13<12:00:43,  1.12it/s]"
          ]
        },
        {
          "output_type": "stream",
          "name": "stdout",
          "text": [
            "Saved file: /content/drive/MyDrive/dataset/TeamDeepwave/dataset/preprocessed/train/real/VGVDPFGX.png\n",
            "Processing file: /content/drive/MyDrive/dataset/TeamDeepwave/dataset/open/./train/ROOXHLFB.ogg\n"
          ]
        },
        {
          "output_type": "stream",
          "name": "stderr",
          "text": [
            "\r  3%|▎         | 1511/50000 [19:14<11:02:12,  1.22it/s]"
          ]
        },
        {
          "output_type": "stream",
          "name": "stdout",
          "text": [
            "Saved file: /content/drive/MyDrive/dataset/TeamDeepwave/dataset/preprocessed/train/fake/ROOXHLFB.png\n",
            "Processing file: /content/drive/MyDrive/dataset/TeamDeepwave/dataset/open/./train/XHDGFUUX.ogg\n"
          ]
        },
        {
          "output_type": "stream",
          "name": "stderr",
          "text": [
            "\r  3%|▎         | 1512/50000 [19:14<9:58:52,  1.35it/s] "
          ]
        },
        {
          "output_type": "stream",
          "name": "stdout",
          "text": [
            "Saved file: /content/drive/MyDrive/dataset/TeamDeepwave/dataset/preprocessed/train/fake/XHDGFUUX.png\n",
            "Processing file: /content/drive/MyDrive/dataset/TeamDeepwave/dataset/open/./train/UWVZRFRV.ogg\n"
          ]
        },
        {
          "output_type": "stream",
          "name": "stderr",
          "text": [
            "\r  3%|▎         | 1513/50000 [19:15<9:29:02,  1.42it/s]"
          ]
        },
        {
          "output_type": "stream",
          "name": "stdout",
          "text": [
            "Saved file: /content/drive/MyDrive/dataset/TeamDeepwave/dataset/preprocessed/train/fake/UWVZRFRV.png\n",
            "Processing file: /content/drive/MyDrive/dataset/TeamDeepwave/dataset/open/./train/NTYTAFSN.ogg\n"
          ]
        },
        {
          "output_type": "stream",
          "name": "stderr",
          "text": [
            "\r  3%|▎         | 1514/50000 [19:16<9:24:49,  1.43it/s]"
          ]
        },
        {
          "output_type": "stream",
          "name": "stdout",
          "text": [
            "Saved file: /content/drive/MyDrive/dataset/TeamDeepwave/dataset/preprocessed/train/real/NTYTAFSN.png\n",
            "Processing file: /content/drive/MyDrive/dataset/TeamDeepwave/dataset/open/./train/JLWVWYLL.ogg\n"
          ]
        },
        {
          "output_type": "stream",
          "name": "stderr",
          "text": [
            "\r  3%|▎         | 1515/50000 [19:16<9:17:45,  1.45it/s]"
          ]
        },
        {
          "output_type": "stream",
          "name": "stdout",
          "text": [
            "Saved file: /content/drive/MyDrive/dataset/TeamDeepwave/dataset/preprocessed/train/real/JLWVWYLL.png\n",
            "Processing file: /content/drive/MyDrive/dataset/TeamDeepwave/dataset/open/./train/XTQUHUGM.ogg\n"
          ]
        },
        {
          "output_type": "stream",
          "name": "stderr",
          "text": [
            "\r  3%|▎         | 1516/50000 [19:17<8:58:41,  1.50it/s]"
          ]
        },
        {
          "output_type": "stream",
          "name": "stdout",
          "text": [
            "Saved file: /content/drive/MyDrive/dataset/TeamDeepwave/dataset/preprocessed/train/real/XTQUHUGM.png\n",
            "Processing file: /content/drive/MyDrive/dataset/TeamDeepwave/dataset/open/./train/VVFQTFLR.ogg\n"
          ]
        },
        {
          "output_type": "stream",
          "name": "stderr",
          "text": [
            "\r  3%|▎         | 1517/50000 [19:18<9:19:56,  1.44it/s]"
          ]
        },
        {
          "output_type": "stream",
          "name": "stdout",
          "text": [
            "Saved file: /content/drive/MyDrive/dataset/TeamDeepwave/dataset/preprocessed/train/real/VVFQTFLR.png\n",
            "Processing file: /content/drive/MyDrive/dataset/TeamDeepwave/dataset/open/./train/NHKNMHTK.ogg\n"
          ]
        },
        {
          "output_type": "stream",
          "name": "stderr",
          "text": [
            "\r  3%|▎         | 1518/50000 [19:18<8:53:56,  1.51it/s]"
          ]
        },
        {
          "output_type": "stream",
          "name": "stdout",
          "text": [
            "Saved file: /content/drive/MyDrive/dataset/TeamDeepwave/dataset/preprocessed/train/fake/NHKNMHTK.png\n",
            "Processing file: /content/drive/MyDrive/dataset/TeamDeepwave/dataset/open/./train/BHBSKRLL.ogg\n"
          ]
        },
        {
          "output_type": "stream",
          "name": "stderr",
          "text": [
            "\r  3%|▎         | 1519/50000 [19:19<8:37:56,  1.56it/s]"
          ]
        },
        {
          "output_type": "stream",
          "name": "stdout",
          "text": [
            "Saved file: /content/drive/MyDrive/dataset/TeamDeepwave/dataset/preprocessed/train/fake/BHBSKRLL.png\n",
            "Processing file: /content/drive/MyDrive/dataset/TeamDeepwave/dataset/open/./train/XOVPJOKP.ogg\n"
          ]
        },
        {
          "output_type": "stream",
          "name": "stderr",
          "text": [
            "\r  3%|▎         | 1520/50000 [19:20<9:31:42,  1.41it/s]"
          ]
        },
        {
          "output_type": "stream",
          "name": "stdout",
          "text": [
            "Saved file: /content/drive/MyDrive/dataset/TeamDeepwave/dataset/preprocessed/train/fake/XOVPJOKP.png\n",
            "Processing file: /content/drive/MyDrive/dataset/TeamDeepwave/dataset/open/./train/YCDWNVCW.ogg\n"
          ]
        },
        {
          "output_type": "stream",
          "name": "stderr",
          "text": [
            "\r  3%|▎         | 1521/50000 [19:20<9:06:08,  1.48it/s]"
          ]
        },
        {
          "output_type": "stream",
          "name": "stdout",
          "text": [
            "Saved file: /content/drive/MyDrive/dataset/TeamDeepwave/dataset/preprocessed/train/fake/YCDWNVCW.png\n",
            "Processing file: /content/drive/MyDrive/dataset/TeamDeepwave/dataset/open/./train/QZJGZSNF.ogg\n"
          ]
        },
        {
          "output_type": "stream",
          "name": "stderr",
          "text": [
            "\r  3%|▎         | 1522/50000 [19:21<8:53:20,  1.51it/s]"
          ]
        },
        {
          "output_type": "stream",
          "name": "stdout",
          "text": [
            "Saved file: /content/drive/MyDrive/dataset/TeamDeepwave/dataset/preprocessed/train/fake/QZJGZSNF.png\n",
            "Processing file: /content/drive/MyDrive/dataset/TeamDeepwave/dataset/open/./train/FALKKDIW.ogg\n"
          ]
        },
        {
          "output_type": "stream",
          "name": "stderr",
          "text": [
            "\r  3%|▎         | 1523/50000 [19:22<8:41:24,  1.55it/s]"
          ]
        },
        {
          "output_type": "stream",
          "name": "stdout",
          "text": [
            "Saved file: /content/drive/MyDrive/dataset/TeamDeepwave/dataset/preprocessed/train/real/FALKKDIW.png\n",
            "Processing file: /content/drive/MyDrive/dataset/TeamDeepwave/dataset/open/./train/XWVWCAHG.ogg\n"
          ]
        },
        {
          "output_type": "stream",
          "name": "stderr",
          "text": [
            "\r  3%|▎         | 1524/50000 [19:22<8:46:37,  1.53it/s]"
          ]
        },
        {
          "output_type": "stream",
          "name": "stdout",
          "text": [
            "Saved file: /content/drive/MyDrive/dataset/TeamDeepwave/dataset/preprocessed/train/real/XWVWCAHG.png\n",
            "Processing file: /content/drive/MyDrive/dataset/TeamDeepwave/dataset/open/./train/IRBKIXAG.ogg\n"
          ]
        },
        {
          "output_type": "stream",
          "name": "stderr",
          "text": [
            "\r  3%|▎         | 1525/50000 [19:23<9:13:34,  1.46it/s]"
          ]
        },
        {
          "output_type": "stream",
          "name": "stdout",
          "text": [
            "Saved file: /content/drive/MyDrive/dataset/TeamDeepwave/dataset/preprocessed/train/real/IRBKIXAG.png\n",
            "Processing file: /content/drive/MyDrive/dataset/TeamDeepwave/dataset/open/./train/WSVHDFUF.ogg\n"
          ]
        },
        {
          "output_type": "stream",
          "name": "stderr",
          "text": [
            "\r  3%|▎         | 1526/50000 [19:24<9:29:52,  1.42it/s]"
          ]
        },
        {
          "output_type": "stream",
          "name": "stdout",
          "text": [
            "Saved file: /content/drive/MyDrive/dataset/TeamDeepwave/dataset/preprocessed/train/real/WSVHDFUF.png\n",
            "Processing file: /content/drive/MyDrive/dataset/TeamDeepwave/dataset/open/./train/KGFSHRXM.ogg\n"
          ]
        },
        {
          "output_type": "stream",
          "name": "stderr",
          "text": [
            "\r  3%|▎         | 1527/50000 [19:25<10:22:05,  1.30it/s]"
          ]
        },
        {
          "output_type": "stream",
          "name": "stdout",
          "text": [
            "Saved file: /content/drive/MyDrive/dataset/TeamDeepwave/dataset/preprocessed/train/real/KGFSHRXM.png\n",
            "Processing file: /content/drive/MyDrive/dataset/TeamDeepwave/dataset/open/./train/FCHKBEXB.ogg\n"
          ]
        },
        {
          "output_type": "stream",
          "name": "stderr",
          "text": [
            "\r  3%|▎         | 1528/50000 [19:26<10:33:20,  1.28it/s]"
          ]
        },
        {
          "output_type": "stream",
          "name": "stdout",
          "text": [
            "Saved file: /content/drive/MyDrive/dataset/TeamDeepwave/dataset/preprocessed/train/real/FCHKBEXB.png\n",
            "Processing file: /content/drive/MyDrive/dataset/TeamDeepwave/dataset/open/./train/OIFIAMAN.ogg\n"
          ]
        },
        {
          "output_type": "stream",
          "name": "stderr",
          "text": [
            "\r  3%|▎         | 1529/50000 [19:27<11:01:50,  1.22it/s]"
          ]
        },
        {
          "output_type": "stream",
          "name": "stdout",
          "text": [
            "Saved file: /content/drive/MyDrive/dataset/TeamDeepwave/dataset/preprocessed/train/real/OIFIAMAN.png\n",
            "Processing file: /content/drive/MyDrive/dataset/TeamDeepwave/dataset/open/./train/IPFJGCFM.ogg\n"
          ]
        },
        {
          "output_type": "stream",
          "name": "stderr",
          "text": [
            "\r  3%|▎         | 1530/50000 [19:28<12:56:08,  1.04it/s]"
          ]
        },
        {
          "output_type": "stream",
          "name": "stdout",
          "text": [
            "Saved file: /content/drive/MyDrive/dataset/TeamDeepwave/dataset/preprocessed/train/fake/IPFJGCFM.png\n",
            "Processing file: /content/drive/MyDrive/dataset/TeamDeepwave/dataset/open/./train/WEOSJFAM.ogg\n"
          ]
        },
        {
          "output_type": "stream",
          "name": "stderr",
          "text": [
            "\r  3%|▎         | 1531/50000 [19:28<11:46:23,  1.14it/s]"
          ]
        },
        {
          "output_type": "stream",
          "name": "stdout",
          "text": [
            "Saved file: /content/drive/MyDrive/dataset/TeamDeepwave/dataset/preprocessed/train/real/WEOSJFAM.png\n",
            "Processing file: /content/drive/MyDrive/dataset/TeamDeepwave/dataset/open/./train/AMLLHGOS.ogg\n"
          ]
        },
        {
          "output_type": "stream",
          "name": "stderr",
          "text": [
            "\r  3%|▎         | 1532/50000 [19:29<11:00:04,  1.22it/s]"
          ]
        },
        {
          "output_type": "stream",
          "name": "stdout",
          "text": [
            "Saved file: /content/drive/MyDrive/dataset/TeamDeepwave/dataset/preprocessed/train/fake/AMLLHGOS.png\n",
            "Processing file: /content/drive/MyDrive/dataset/TeamDeepwave/dataset/open/./train/APLJPFIE.ogg\n"
          ]
        },
        {
          "output_type": "stream",
          "name": "stderr",
          "text": [
            "\r  3%|▎         | 1533/50000 [19:30<11:24:25,  1.18it/s]"
          ]
        },
        {
          "output_type": "stream",
          "name": "stdout",
          "text": [
            "Saved file: /content/drive/MyDrive/dataset/TeamDeepwave/dataset/preprocessed/train/real/APLJPFIE.png\n",
            "Processing file: /content/drive/MyDrive/dataset/TeamDeepwave/dataset/open/./train/MRXHUDJO.ogg\n"
          ]
        },
        {
          "output_type": "stream",
          "name": "stderr",
          "text": [
            "\r  3%|▎         | 1534/50000 [19:31<10:42:25,  1.26it/s]"
          ]
        },
        {
          "output_type": "stream",
          "name": "stdout",
          "text": [
            "Saved file: /content/drive/MyDrive/dataset/TeamDeepwave/dataset/preprocessed/train/real/MRXHUDJO.png\n",
            "Processing file: /content/drive/MyDrive/dataset/TeamDeepwave/dataset/open/./train/ELRFPONR.ogg\n"
          ]
        },
        {
          "output_type": "stream",
          "name": "stderr",
          "text": [
            "\r  3%|▎         | 1535/50000 [19:31<10:00:48,  1.34it/s]"
          ]
        },
        {
          "output_type": "stream",
          "name": "stdout",
          "text": [
            "Saved file: /content/drive/MyDrive/dataset/TeamDeepwave/dataset/preprocessed/train/fake/ELRFPONR.png\n",
            "Processing file: /content/drive/MyDrive/dataset/TeamDeepwave/dataset/open/./train/SDBXQOLI.ogg\n"
          ]
        },
        {
          "output_type": "stream",
          "name": "stderr",
          "text": [
            "\r  3%|▎         | 1536/50000 [19:32<9:50:55,  1.37it/s] "
          ]
        },
        {
          "output_type": "stream",
          "name": "stdout",
          "text": [
            "Saved file: /content/drive/MyDrive/dataset/TeamDeepwave/dataset/preprocessed/train/fake/SDBXQOLI.png\n",
            "Processing file: /content/drive/MyDrive/dataset/TeamDeepwave/dataset/open/./train/SRFMKIQJ.ogg\n"
          ]
        },
        {
          "output_type": "stream",
          "name": "stderr",
          "text": [
            "\r  3%|▎         | 1537/50000 [19:33<9:28:48,  1.42it/s]"
          ]
        },
        {
          "output_type": "stream",
          "name": "stdout",
          "text": [
            "Saved file: /content/drive/MyDrive/dataset/TeamDeepwave/dataset/preprocessed/train/real/SRFMKIQJ.png\n",
            "Processing file: /content/drive/MyDrive/dataset/TeamDeepwave/dataset/open/./train/JZKEMMPH.ogg\n"
          ]
        },
        {
          "output_type": "stream",
          "name": "stderr",
          "text": [
            "\r  3%|▎         | 1538/50000 [19:33<9:38:44,  1.40it/s]"
          ]
        },
        {
          "output_type": "stream",
          "name": "stdout",
          "text": [
            "Saved file: /content/drive/MyDrive/dataset/TeamDeepwave/dataset/preprocessed/train/real/JZKEMMPH.png\n",
            "Processing file: /content/drive/MyDrive/dataset/TeamDeepwave/dataset/open/./train/CDLVQGDT.ogg\n"
          ]
        },
        {
          "output_type": "stream",
          "name": "stderr",
          "text": [
            "\r  3%|▎         | 1539/50000 [19:34<9:05:42,  1.48it/s]"
          ]
        },
        {
          "output_type": "stream",
          "name": "stdout",
          "text": [
            "Saved file: /content/drive/MyDrive/dataset/TeamDeepwave/dataset/preprocessed/train/fake/CDLVQGDT.png\n",
            "Processing file: /content/drive/MyDrive/dataset/TeamDeepwave/dataset/open/./train/FIFIJDLJ.ogg\n"
          ]
        },
        {
          "output_type": "stream",
          "name": "stderr",
          "text": [
            "\r  3%|▎         | 1540/50000 [19:35<9:02:59,  1.49it/s]"
          ]
        },
        {
          "output_type": "stream",
          "name": "stdout",
          "text": [
            "Saved file: /content/drive/MyDrive/dataset/TeamDeepwave/dataset/preprocessed/train/fake/FIFIJDLJ.png\n",
            "Processing file: /content/drive/MyDrive/dataset/TeamDeepwave/dataset/open/./train/DSWUTUNU.ogg\n"
          ]
        },
        {
          "output_type": "stream",
          "name": "stderr",
          "text": [
            "\r  3%|▎         | 1541/50000 [19:36<9:53:16,  1.36it/s]"
          ]
        },
        {
          "output_type": "stream",
          "name": "stdout",
          "text": [
            "Saved file: /content/drive/MyDrive/dataset/TeamDeepwave/dataset/preprocessed/train/real/DSWUTUNU.png\n",
            "Processing file: /content/drive/MyDrive/dataset/TeamDeepwave/dataset/open/./train/BOZNFORH.ogg\n"
          ]
        },
        {
          "output_type": "stream",
          "name": "stderr",
          "text": [
            "\r  3%|▎         | 1542/50000 [19:36<10:08:05,  1.33it/s]"
          ]
        },
        {
          "output_type": "stream",
          "name": "stdout",
          "text": [
            "Saved file: /content/drive/MyDrive/dataset/TeamDeepwave/dataset/preprocessed/train/real/BOZNFORH.png\n",
            "Processing file: /content/drive/MyDrive/dataset/TeamDeepwave/dataset/open/./train/AWRKEUDZ.ogg\n"
          ]
        },
        {
          "output_type": "stream",
          "name": "stderr",
          "text": [
            "\r  3%|▎         | 1543/50000 [19:37<9:37:52,  1.40it/s] "
          ]
        },
        {
          "output_type": "stream",
          "name": "stdout",
          "text": [
            "Saved file: /content/drive/MyDrive/dataset/TeamDeepwave/dataset/preprocessed/train/fake/AWRKEUDZ.png\n",
            "Processing file: /content/drive/MyDrive/dataset/TeamDeepwave/dataset/open/./train/OMLKFLRN.ogg\n"
          ]
        },
        {
          "output_type": "stream",
          "name": "stderr",
          "text": [
            "\r  3%|▎         | 1544/50000 [19:38<10:05:12,  1.33it/s]"
          ]
        },
        {
          "output_type": "stream",
          "name": "stdout",
          "text": [
            "Saved file: /content/drive/MyDrive/dataset/TeamDeepwave/dataset/preprocessed/train/real/OMLKFLRN.png\n",
            "Processing file: /content/drive/MyDrive/dataset/TeamDeepwave/dataset/open/./train/FXAJFQDG.ogg\n"
          ]
        },
        {
          "output_type": "stream",
          "name": "stderr",
          "text": [
            "\r  3%|▎         | 1545/50000 [19:39<10:35:57,  1.27it/s]"
          ]
        },
        {
          "output_type": "stream",
          "name": "stdout",
          "text": [
            "Saved file: /content/drive/MyDrive/dataset/TeamDeepwave/dataset/preprocessed/train/fake/FXAJFQDG.png\n",
            "Processing file: /content/drive/MyDrive/dataset/TeamDeepwave/dataset/open/./train/BSGPQDFD.ogg\n"
          ]
        },
        {
          "output_type": "stream",
          "name": "stderr",
          "text": [
            "\r  3%|▎         | 1546/50000 [19:40<10:52:50,  1.24it/s]"
          ]
        },
        {
          "output_type": "stream",
          "name": "stdout",
          "text": [
            "Saved file: /content/drive/MyDrive/dataset/TeamDeepwave/dataset/preprocessed/train/real/BSGPQDFD.png\n",
            "Processing file: /content/drive/MyDrive/dataset/TeamDeepwave/dataset/open/./train/RMPUVXWR.ogg\n"
          ]
        },
        {
          "output_type": "stream",
          "name": "stderr",
          "text": [
            "\r  3%|▎         | 1547/50000 [19:41<12:34:26,  1.07it/s]"
          ]
        },
        {
          "output_type": "stream",
          "name": "stdout",
          "text": [
            "Saved file: /content/drive/MyDrive/dataset/TeamDeepwave/dataset/preprocessed/train/real/RMPUVXWR.png\n",
            "Processing file: /content/drive/MyDrive/dataset/TeamDeepwave/dataset/open/./train/GGUKUCZB.ogg\n"
          ]
        },
        {
          "output_type": "stream",
          "name": "stderr",
          "text": [
            "\r  3%|▎         | 1548/50000 [19:42<12:34:45,  1.07it/s]"
          ]
        },
        {
          "output_type": "stream",
          "name": "stdout",
          "text": [
            "Saved file: /content/drive/MyDrive/dataset/TeamDeepwave/dataset/preprocessed/train/real/GGUKUCZB.png\n",
            "Processing file: /content/drive/MyDrive/dataset/TeamDeepwave/dataset/open/./train/USAVEEPZ.ogg\n"
          ]
        },
        {
          "output_type": "stream",
          "name": "stderr",
          "text": [
            "\r  3%|▎         | 1549/50000 [19:43<11:51:28,  1.13it/s]"
          ]
        },
        {
          "output_type": "stream",
          "name": "stdout",
          "text": [
            "Saved file: /content/drive/MyDrive/dataset/TeamDeepwave/dataset/preprocessed/train/fake/USAVEEPZ.png\n",
            "Processing file: /content/drive/MyDrive/dataset/TeamDeepwave/dataset/open/./train/NLDLRBJJ.ogg\n"
          ]
        },
        {
          "output_type": "stream",
          "name": "stderr",
          "text": [
            "\r  3%|▎         | 1550/50000 [19:43<11:48:29,  1.14it/s]"
          ]
        },
        {
          "output_type": "stream",
          "name": "stdout",
          "text": [
            "Saved file: /content/drive/MyDrive/dataset/TeamDeepwave/dataset/preprocessed/train/real/NLDLRBJJ.png\n",
            "Processing file: /content/drive/MyDrive/dataset/TeamDeepwave/dataset/open/./train/KMJSDQCP.ogg\n"
          ]
        },
        {
          "output_type": "stream",
          "name": "stderr",
          "text": [
            "\r  3%|▎         | 1551/50000 [19:44<11:59:44,  1.12it/s]"
          ]
        },
        {
          "output_type": "stream",
          "name": "stdout",
          "text": [
            "Saved file: /content/drive/MyDrive/dataset/TeamDeepwave/dataset/preprocessed/train/fake/KMJSDQCP.png\n",
            "Processing file: /content/drive/MyDrive/dataset/TeamDeepwave/dataset/open/./train/PMAIEHBM.ogg\n"
          ]
        },
        {
          "output_type": "stream",
          "name": "stderr",
          "text": [
            "\r  3%|▎         | 1552/50000 [19:45<11:18:45,  1.19it/s]"
          ]
        },
        {
          "output_type": "stream",
          "name": "stdout",
          "text": [
            "Saved file: /content/drive/MyDrive/dataset/TeamDeepwave/dataset/preprocessed/train/real/PMAIEHBM.png\n",
            "Processing file: /content/drive/MyDrive/dataset/TeamDeepwave/dataset/open/./train/IGBDEZWR.ogg\n"
          ]
        },
        {
          "output_type": "stream",
          "name": "stderr",
          "text": [
            "\r  3%|▎         | 1553/50000 [19:46<10:21:13,  1.30it/s]"
          ]
        },
        {
          "output_type": "stream",
          "name": "stdout",
          "text": [
            "Saved file: /content/drive/MyDrive/dataset/TeamDeepwave/dataset/preprocessed/train/fake/IGBDEZWR.png\n",
            "Processing file: /content/drive/MyDrive/dataset/TeamDeepwave/dataset/open/./train/XESIVIFT.ogg\n"
          ]
        },
        {
          "output_type": "stream",
          "name": "stderr",
          "text": [
            "\r  3%|▎         | 1554/50000 [19:46<10:40:20,  1.26it/s]"
          ]
        },
        {
          "output_type": "stream",
          "name": "stdout",
          "text": [
            "Saved file: /content/drive/MyDrive/dataset/TeamDeepwave/dataset/preprocessed/train/real/XESIVIFT.png\n",
            "Processing file: /content/drive/MyDrive/dataset/TeamDeepwave/dataset/open/./train/SCRSBWSR.ogg\n"
          ]
        },
        {
          "output_type": "stream",
          "name": "stderr",
          "text": [
            "\r  3%|▎         | 1555/50000 [19:47<9:52:56,  1.36it/s] "
          ]
        },
        {
          "output_type": "stream",
          "name": "stdout",
          "text": [
            "Saved file: /content/drive/MyDrive/dataset/TeamDeepwave/dataset/preprocessed/train/real/SCRSBWSR.png\n",
            "Processing file: /content/drive/MyDrive/dataset/TeamDeepwave/dataset/open/./train/MJFGYBOZ.ogg\n"
          ]
        },
        {
          "output_type": "stream",
          "name": "stderr",
          "text": [
            "\r  3%|▎         | 1556/50000 [19:48<9:23:51,  1.43it/s]"
          ]
        },
        {
          "output_type": "stream",
          "name": "stdout",
          "text": [
            "Saved file: /content/drive/MyDrive/dataset/TeamDeepwave/dataset/preprocessed/train/fake/MJFGYBOZ.png\n",
            "Processing file: /content/drive/MyDrive/dataset/TeamDeepwave/dataset/open/./train/VZHNSMIL.ogg\n"
          ]
        },
        {
          "output_type": "stream",
          "name": "stderr",
          "text": [
            "\r  3%|▎         | 1557/50000 [19:48<9:09:38,  1.47it/s]"
          ]
        },
        {
          "output_type": "stream",
          "name": "stdout",
          "text": [
            "Saved file: /content/drive/MyDrive/dataset/TeamDeepwave/dataset/preprocessed/train/real/VZHNSMIL.png\n",
            "Processing file: /content/drive/MyDrive/dataset/TeamDeepwave/dataset/open/./train/DNNKLXXY.ogg\n"
          ]
        },
        {
          "output_type": "stream",
          "name": "stderr",
          "text": [
            "\r  3%|▎         | 1558/50000 [19:49<9:08:33,  1.47it/s]"
          ]
        },
        {
          "output_type": "stream",
          "name": "stdout",
          "text": [
            "Saved file: /content/drive/MyDrive/dataset/TeamDeepwave/dataset/preprocessed/train/real/DNNKLXXY.png\n",
            "Processing file: /content/drive/MyDrive/dataset/TeamDeepwave/dataset/open/./train/DDBLGDHR.ogg\n"
          ]
        },
        {
          "output_type": "stream",
          "name": "stderr",
          "text": [
            "\r  3%|▎         | 1559/50000 [19:50<9:14:44,  1.46it/s]"
          ]
        },
        {
          "output_type": "stream",
          "name": "stdout",
          "text": [
            "Saved file: /content/drive/MyDrive/dataset/TeamDeepwave/dataset/preprocessed/train/real/DDBLGDHR.png\n",
            "Processing file: /content/drive/MyDrive/dataset/TeamDeepwave/dataset/open/./train/XSWLVONV.ogg\n"
          ]
        },
        {
          "output_type": "stream",
          "name": "stderr",
          "text": [
            "\r  3%|▎         | 1560/50000 [19:51<9:46:29,  1.38it/s]"
          ]
        },
        {
          "output_type": "stream",
          "name": "stdout",
          "text": [
            "Saved file: /content/drive/MyDrive/dataset/TeamDeepwave/dataset/preprocessed/train/real/XSWLVONV.png\n",
            "Processing file: /content/drive/MyDrive/dataset/TeamDeepwave/dataset/open/./train/CXUKPVYU.ogg\n"
          ]
        },
        {
          "output_type": "stream",
          "name": "stderr",
          "text": [
            "\r  3%|▎         | 1561/50000 [19:51<9:20:29,  1.44it/s]"
          ]
        },
        {
          "output_type": "stream",
          "name": "stdout",
          "text": [
            "Saved file: /content/drive/MyDrive/dataset/TeamDeepwave/dataset/preprocessed/train/fake/CXUKPVYU.png\n",
            "Processing file: /content/drive/MyDrive/dataset/TeamDeepwave/dataset/open/./train/BJCAXHQH.ogg\n"
          ]
        },
        {
          "output_type": "stream",
          "name": "stderr",
          "text": [
            "\r  3%|▎         | 1562/50000 [19:52<9:22:40,  1.43it/s]"
          ]
        },
        {
          "output_type": "stream",
          "name": "stdout",
          "text": [
            "Saved file: /content/drive/MyDrive/dataset/TeamDeepwave/dataset/preprocessed/train/fake/BJCAXHQH.png\n",
            "Processing file: /content/drive/MyDrive/dataset/TeamDeepwave/dataset/open/./train/UADWNAUC.ogg\n"
          ]
        },
        {
          "output_type": "stream",
          "name": "stderr",
          "text": [
            "\r  3%|▎         | 1563/50000 [19:53<10:15:10,  1.31it/s]"
          ]
        },
        {
          "output_type": "stream",
          "name": "stdout",
          "text": [
            "Saved file: /content/drive/MyDrive/dataset/TeamDeepwave/dataset/preprocessed/train/real/UADWNAUC.png\n",
            "Processing file: /content/drive/MyDrive/dataset/TeamDeepwave/dataset/open/./train/NWFLHCIN.ogg\n"
          ]
        },
        {
          "output_type": "stream",
          "name": "stderr",
          "text": [
            "\r  3%|▎         | 1564/50000 [19:54<10:53:41,  1.23it/s]"
          ]
        },
        {
          "output_type": "stream",
          "name": "stdout",
          "text": [
            "Saved file: /content/drive/MyDrive/dataset/TeamDeepwave/dataset/preprocessed/train/real/NWFLHCIN.png\n",
            "Processing file: /content/drive/MyDrive/dataset/TeamDeepwave/dataset/open/./train/SQWWYLQT.ogg\n"
          ]
        },
        {
          "output_type": "stream",
          "name": "stderr",
          "text": [
            "\r  3%|▎         | 1565/50000 [19:54<10:24:43,  1.29it/s]"
          ]
        },
        {
          "output_type": "stream",
          "name": "stdout",
          "text": [
            "Saved file: /content/drive/MyDrive/dataset/TeamDeepwave/dataset/preprocessed/train/fake/SQWWYLQT.png\n",
            "Processing file: /content/drive/MyDrive/dataset/TeamDeepwave/dataset/open/./train/LSBCADTR.ogg\n"
          ]
        },
        {
          "output_type": "stream",
          "name": "stderr",
          "text": [
            "\r  3%|▎         | 1566/50000 [19:55<10:36:11,  1.27it/s]"
          ]
        },
        {
          "output_type": "stream",
          "name": "stdout",
          "text": [
            "Saved file: /content/drive/MyDrive/dataset/TeamDeepwave/dataset/preprocessed/train/fake/LSBCADTR.png\n",
            "Processing file: /content/drive/MyDrive/dataset/TeamDeepwave/dataset/open/./train/POTYDNPB.ogg\n"
          ]
        },
        {
          "output_type": "stream",
          "name": "stderr",
          "text": [
            "\r  3%|▎         | 1567/50000 [19:56<10:36:32,  1.27it/s]"
          ]
        },
        {
          "output_type": "stream",
          "name": "stdout",
          "text": [
            "Saved file: /content/drive/MyDrive/dataset/TeamDeepwave/dataset/preprocessed/train/fake/POTYDNPB.png\n",
            "Processing file: /content/drive/MyDrive/dataset/TeamDeepwave/dataset/open/./train/ZKZJKFIR.ogg\n"
          ]
        },
        {
          "output_type": "stream",
          "name": "stderr",
          "text": [
            "\r  3%|▎         | 1568/50000 [19:57<9:53:18,  1.36it/s] "
          ]
        },
        {
          "output_type": "stream",
          "name": "stdout",
          "text": [
            "Saved file: /content/drive/MyDrive/dataset/TeamDeepwave/dataset/preprocessed/train/fake/ZKZJKFIR.png\n",
            "Processing file: /content/drive/MyDrive/dataset/TeamDeepwave/dataset/open/./train/VWCTCEDJ.ogg\n"
          ]
        },
        {
          "output_type": "stream",
          "name": "stderr",
          "text": [
            "\r  3%|▎         | 1569/50000 [19:57<9:44:53,  1.38it/s]"
          ]
        },
        {
          "output_type": "stream",
          "name": "stdout",
          "text": [
            "Saved file: /content/drive/MyDrive/dataset/TeamDeepwave/dataset/preprocessed/train/real/VWCTCEDJ.png\n",
            "Processing file: /content/drive/MyDrive/dataset/TeamDeepwave/dataset/open/./train/TGEOYJBT.ogg\n"
          ]
        },
        {
          "output_type": "stream",
          "name": "stderr",
          "text": [
            "\r  3%|▎         | 1570/50000 [19:58<9:25:10,  1.43it/s]"
          ]
        },
        {
          "output_type": "stream",
          "name": "stdout",
          "text": [
            "Saved file: /content/drive/MyDrive/dataset/TeamDeepwave/dataset/preprocessed/train/real/TGEOYJBT.png\n",
            "Processing file: /content/drive/MyDrive/dataset/TeamDeepwave/dataset/open/./train/PSSNQDSN.ogg\n"
          ]
        },
        {
          "output_type": "stream",
          "name": "stderr",
          "text": [
            "\r  3%|▎         | 1571/50000 [19:59<9:16:00,  1.45it/s]"
          ]
        },
        {
          "output_type": "stream",
          "name": "stdout",
          "text": [
            "Saved file: /content/drive/MyDrive/dataset/TeamDeepwave/dataset/preprocessed/train/fake/PSSNQDSN.png\n",
            "Processing file: /content/drive/MyDrive/dataset/TeamDeepwave/dataset/open/./train/IXOTYCSI.ogg\n"
          ]
        },
        {
          "output_type": "stream",
          "name": "stderr",
          "text": [
            "\r  3%|▎         | 1572/50000 [19:59<8:57:34,  1.50it/s]"
          ]
        },
        {
          "output_type": "stream",
          "name": "stdout",
          "text": [
            "Saved file: /content/drive/MyDrive/dataset/TeamDeepwave/dataset/preprocessed/train/real/IXOTYCSI.png\n",
            "Processing file: /content/drive/MyDrive/dataset/TeamDeepwave/dataset/open/./train/OQANOLJI.ogg\n"
          ]
        },
        {
          "output_type": "stream",
          "name": "stderr",
          "text": [
            "\r  3%|▎         | 1573/50000 [20:00<8:48:47,  1.53it/s]"
          ]
        },
        {
          "output_type": "stream",
          "name": "stdout",
          "text": [
            "Saved file: /content/drive/MyDrive/dataset/TeamDeepwave/dataset/preprocessed/train/fake/OQANOLJI.png\n",
            "Processing file: /content/drive/MyDrive/dataset/TeamDeepwave/dataset/open/./train/ZJERZOVQ.ogg\n"
          ]
        },
        {
          "output_type": "stream",
          "name": "stderr",
          "text": [
            "\r  3%|▎         | 1574/50000 [20:01<8:58:49,  1.50it/s]"
          ]
        },
        {
          "output_type": "stream",
          "name": "stdout",
          "text": [
            "Saved file: /content/drive/MyDrive/dataset/TeamDeepwave/dataset/preprocessed/train/real/ZJERZOVQ.png\n",
            "Processing file: /content/drive/MyDrive/dataset/TeamDeepwave/dataset/open/./train/MQRIRNKT.ogg\n"
          ]
        },
        {
          "output_type": "stream",
          "name": "stderr",
          "text": [
            "\r  3%|▎         | 1575/50000 [20:01<8:52:43,  1.52it/s]"
          ]
        },
        {
          "output_type": "stream",
          "name": "stdout",
          "text": [
            "Saved file: /content/drive/MyDrive/dataset/TeamDeepwave/dataset/preprocessed/train/fake/MQRIRNKT.png\n",
            "Processing file: /content/drive/MyDrive/dataset/TeamDeepwave/dataset/open/./train/QBHWIAQJ.ogg\n"
          ]
        },
        {
          "output_type": "stream",
          "name": "stderr",
          "text": [
            "\r  3%|▎         | 1576/50000 [20:02<9:05:04,  1.48it/s]"
          ]
        },
        {
          "output_type": "stream",
          "name": "stdout",
          "text": [
            "Saved file: /content/drive/MyDrive/dataset/TeamDeepwave/dataset/preprocessed/train/real/QBHWIAQJ.png\n",
            "Processing file: /content/drive/MyDrive/dataset/TeamDeepwave/dataset/open/./train/PATBVROC.ogg\n"
          ]
        },
        {
          "output_type": "stream",
          "name": "stderr",
          "text": [
            "\r  3%|▎         | 1577/50000 [20:03<8:55:22,  1.51it/s]"
          ]
        },
        {
          "output_type": "stream",
          "name": "stdout",
          "text": [
            "Saved file: /content/drive/MyDrive/dataset/TeamDeepwave/dataset/preprocessed/train/real/PATBVROC.png\n",
            "Processing file: /content/drive/MyDrive/dataset/TeamDeepwave/dataset/open/./train/JZGOTAEZ.ogg\n"
          ]
        },
        {
          "output_type": "stream",
          "name": "stderr",
          "text": [
            "\r  3%|▎         | 1578/50000 [20:03<8:38:01,  1.56it/s]"
          ]
        },
        {
          "output_type": "stream",
          "name": "stdout",
          "text": [
            "Saved file: /content/drive/MyDrive/dataset/TeamDeepwave/dataset/preprocessed/train/fake/JZGOTAEZ.png\n",
            "Processing file: /content/drive/MyDrive/dataset/TeamDeepwave/dataset/open/./train/EYIZSFAG.ogg\n"
          ]
        },
        {
          "output_type": "stream",
          "name": "stderr",
          "text": [
            "\r  3%|▎         | 1579/50000 [20:04<8:36:19,  1.56it/s]"
          ]
        },
        {
          "output_type": "stream",
          "name": "stdout",
          "text": [
            "Saved file: /content/drive/MyDrive/dataset/TeamDeepwave/dataset/preprocessed/train/fake/EYIZSFAG.png\n",
            "Processing file: /content/drive/MyDrive/dataset/TeamDeepwave/dataset/open/./train/KAEQKNGI.ogg\n"
          ]
        },
        {
          "output_type": "stream",
          "name": "stderr",
          "text": [
            "\r  3%|▎         | 1580/50000 [20:04<8:20:09,  1.61it/s]"
          ]
        },
        {
          "output_type": "stream",
          "name": "stdout",
          "text": [
            "Saved file: /content/drive/MyDrive/dataset/TeamDeepwave/dataset/preprocessed/train/fake/KAEQKNGI.png\n",
            "Processing file: /content/drive/MyDrive/dataset/TeamDeepwave/dataset/open/./train/CSRRVIDS.ogg\n"
          ]
        },
        {
          "output_type": "stream",
          "name": "stderr",
          "text": [
            "\r  3%|▎         | 1581/50000 [20:05<8:35:53,  1.56it/s]"
          ]
        },
        {
          "output_type": "stream",
          "name": "stdout",
          "text": [
            "Saved file: /content/drive/MyDrive/dataset/TeamDeepwave/dataset/preprocessed/train/real/CSRRVIDS.png\n",
            "Processing file: /content/drive/MyDrive/dataset/TeamDeepwave/dataset/open/./train/YWUCUYYH.ogg\n"
          ]
        },
        {
          "output_type": "stream",
          "name": "stderr",
          "text": [
            "\r  3%|▎         | 1582/50000 [20:06<8:26:21,  1.59it/s]"
          ]
        },
        {
          "output_type": "stream",
          "name": "stdout",
          "text": [
            "Saved file: /content/drive/MyDrive/dataset/TeamDeepwave/dataset/preprocessed/train/fake/YWUCUYYH.png\n",
            "Processing file: /content/drive/MyDrive/dataset/TeamDeepwave/dataset/open/./train/BYSOLVOG.ogg\n"
          ]
        },
        {
          "output_type": "stream",
          "name": "stderr",
          "text": [
            "\r  3%|▎         | 1583/50000 [20:06<8:44:17,  1.54it/s]"
          ]
        },
        {
          "output_type": "stream",
          "name": "stdout",
          "text": [
            "Saved file: /content/drive/MyDrive/dataset/TeamDeepwave/dataset/preprocessed/train/fake/BYSOLVOG.png\n",
            "Processing file: /content/drive/MyDrive/dataset/TeamDeepwave/dataset/open/./train/IKQQORDS.ogg\n"
          ]
        },
        {
          "output_type": "stream",
          "name": "stderr",
          "text": [
            "\r  3%|▎         | 1584/50000 [20:07<9:18:44,  1.44it/s]"
          ]
        },
        {
          "output_type": "stream",
          "name": "stdout",
          "text": [
            "Saved file: /content/drive/MyDrive/dataset/TeamDeepwave/dataset/preprocessed/train/fake/IKQQORDS.png\n",
            "Processing file: /content/drive/MyDrive/dataset/TeamDeepwave/dataset/open/./train/XJWCCKNS.ogg\n"
          ]
        },
        {
          "output_type": "stream",
          "name": "stderr",
          "text": [
            "\r  3%|▎         | 1585/50000 [20:08<10:23:33,  1.29it/s]"
          ]
        },
        {
          "output_type": "stream",
          "name": "stdout",
          "text": [
            "Saved file: /content/drive/MyDrive/dataset/TeamDeepwave/dataset/preprocessed/train/real/XJWCCKNS.png\n",
            "Processing file: /content/drive/MyDrive/dataset/TeamDeepwave/dataset/open/./train/WPOCPCXX.ogg\n"
          ]
        },
        {
          "output_type": "stream",
          "name": "stderr",
          "text": [
            "\r  3%|▎         | 1586/50000 [20:09<11:00:09,  1.22it/s]"
          ]
        },
        {
          "output_type": "stream",
          "name": "stdout",
          "text": [
            "Saved file: /content/drive/MyDrive/dataset/TeamDeepwave/dataset/preprocessed/train/fake/WPOCPCXX.png\n",
            "Processing file: /content/drive/MyDrive/dataset/TeamDeepwave/dataset/open/./train/NEAWMTDJ.ogg\n"
          ]
        },
        {
          "output_type": "stream",
          "name": "stderr",
          "text": [
            "\r  3%|▎         | 1587/50000 [20:10<11:09:38,  1.20it/s]"
          ]
        },
        {
          "output_type": "stream",
          "name": "stdout",
          "text": [
            "Saved file: /content/drive/MyDrive/dataset/TeamDeepwave/dataset/preprocessed/train/real/NEAWMTDJ.png\n",
            "Processing file: /content/drive/MyDrive/dataset/TeamDeepwave/dataset/open/./train/UKPGTMZU.ogg\n"
          ]
        },
        {
          "output_type": "stream",
          "name": "stderr",
          "text": [
            "\r  3%|▎         | 1588/50000 [20:10<10:18:17,  1.31it/s]"
          ]
        },
        {
          "output_type": "stream",
          "name": "stdout",
          "text": [
            "Saved file: /content/drive/MyDrive/dataset/TeamDeepwave/dataset/preprocessed/train/real/UKPGTMZU.png\n",
            "Processing file: /content/drive/MyDrive/dataset/TeamDeepwave/dataset/open/./train/IUIJDYEA.ogg\n"
          ]
        },
        {
          "output_type": "stream",
          "name": "stderr",
          "text": [
            "\r  3%|▎         | 1589/50000 [20:11<10:18:08,  1.31it/s]"
          ]
        },
        {
          "output_type": "stream",
          "name": "stdout",
          "text": [
            "Saved file: /content/drive/MyDrive/dataset/TeamDeepwave/dataset/preprocessed/train/real/IUIJDYEA.png\n",
            "Processing file: /content/drive/MyDrive/dataset/TeamDeepwave/dataset/open/./train/WBYUECFV.ogg\n"
          ]
        },
        {
          "output_type": "stream",
          "name": "stderr",
          "text": [
            "\r  3%|▎         | 1590/50000 [20:12<9:45:53,  1.38it/s] "
          ]
        },
        {
          "output_type": "stream",
          "name": "stdout",
          "text": [
            "Saved file: /content/drive/MyDrive/dataset/TeamDeepwave/dataset/preprocessed/train/real/WBYUECFV.png\n",
            "Processing file: /content/drive/MyDrive/dataset/TeamDeepwave/dataset/open/./train/NLPOQJHE.ogg\n"
          ]
        },
        {
          "output_type": "stream",
          "name": "stderr",
          "text": [
            "\r  3%|▎         | 1591/50000 [20:12<9:24:20,  1.43it/s]"
          ]
        },
        {
          "output_type": "stream",
          "name": "stdout",
          "text": [
            "Saved file: /content/drive/MyDrive/dataset/TeamDeepwave/dataset/preprocessed/train/real/NLPOQJHE.png\n",
            "Processing file: /content/drive/MyDrive/dataset/TeamDeepwave/dataset/open/./train/TXPGBYJT.ogg\n"
          ]
        },
        {
          "output_type": "stream",
          "name": "stderr",
          "text": [
            "\r  3%|▎         | 1592/50000 [20:13<9:23:24,  1.43it/s]"
          ]
        },
        {
          "output_type": "stream",
          "name": "stdout",
          "text": [
            "Saved file: /content/drive/MyDrive/dataset/TeamDeepwave/dataset/preprocessed/train/fake/TXPGBYJT.png\n",
            "Processing file: /content/drive/MyDrive/dataset/TeamDeepwave/dataset/open/./train/ZFWYEWYH.ogg\n"
          ]
        },
        {
          "output_type": "stream",
          "name": "stderr",
          "text": [
            "\r  3%|▎         | 1593/50000 [20:14<9:07:36,  1.47it/s]"
          ]
        },
        {
          "output_type": "stream",
          "name": "stdout",
          "text": [
            "Saved file: /content/drive/MyDrive/dataset/TeamDeepwave/dataset/preprocessed/train/real/ZFWYEWYH.png\n",
            "Processing file: /content/drive/MyDrive/dataset/TeamDeepwave/dataset/open/./train/AYANGJRZ.ogg\n"
          ]
        },
        {
          "output_type": "stream",
          "name": "stderr",
          "text": [
            "\r  3%|▎         | 1594/50000 [20:14<8:55:20,  1.51it/s]"
          ]
        },
        {
          "output_type": "stream",
          "name": "stdout",
          "text": [
            "Saved file: /content/drive/MyDrive/dataset/TeamDeepwave/dataset/preprocessed/train/real/AYANGJRZ.png\n",
            "Processing file: /content/drive/MyDrive/dataset/TeamDeepwave/dataset/open/./train/WKJRRUGI.ogg\n"
          ]
        },
        {
          "output_type": "stream",
          "name": "stderr",
          "text": [
            "\r  3%|▎         | 1595/50000 [20:15<8:42:42,  1.54it/s]"
          ]
        },
        {
          "output_type": "stream",
          "name": "stdout",
          "text": [
            "Saved file: /content/drive/MyDrive/dataset/TeamDeepwave/dataset/preprocessed/train/fake/WKJRRUGI.png\n",
            "Processing file: /content/drive/MyDrive/dataset/TeamDeepwave/dataset/open/./train/XUKBWLLS.ogg\n"
          ]
        },
        {
          "output_type": "stream",
          "name": "stderr",
          "text": [
            "\r  3%|▎         | 1596/50000 [20:16<8:22:56,  1.60it/s]"
          ]
        },
        {
          "output_type": "stream",
          "name": "stdout",
          "text": [
            "Saved file: /content/drive/MyDrive/dataset/TeamDeepwave/dataset/preprocessed/train/fake/XUKBWLLS.png\n",
            "Processing file: /content/drive/MyDrive/dataset/TeamDeepwave/dataset/open/./train/CPYZTFTP.ogg\n"
          ]
        },
        {
          "output_type": "stream",
          "name": "stderr",
          "text": [
            "\r  3%|▎         | 1597/50000 [20:16<8:47:30,  1.53it/s]"
          ]
        },
        {
          "output_type": "stream",
          "name": "stdout",
          "text": [
            "Saved file: /content/drive/MyDrive/dataset/TeamDeepwave/dataset/preprocessed/train/real/CPYZTFTP.png\n",
            "Processing file: /content/drive/MyDrive/dataset/TeamDeepwave/dataset/open/./train/TWBWKLRJ.ogg\n"
          ]
        },
        {
          "output_type": "stream",
          "name": "stderr",
          "text": [
            "\r  3%|▎         | 1598/50000 [20:17<8:31:10,  1.58it/s]"
          ]
        },
        {
          "output_type": "stream",
          "name": "stdout",
          "text": [
            "Saved file: /content/drive/MyDrive/dataset/TeamDeepwave/dataset/preprocessed/train/real/TWBWKLRJ.png\n",
            "Processing file: /content/drive/MyDrive/dataset/TeamDeepwave/dataset/open/./train/IMBOZKLD.ogg\n"
          ]
        },
        {
          "output_type": "stream",
          "name": "stderr",
          "text": [
            "\r  3%|▎         | 1599/50000 [20:18<8:59:01,  1.50it/s]"
          ]
        },
        {
          "output_type": "stream",
          "name": "stdout",
          "text": [
            "Saved file: /content/drive/MyDrive/dataset/TeamDeepwave/dataset/preprocessed/train/real/IMBOZKLD.png\n",
            "Processing file: /content/drive/MyDrive/dataset/TeamDeepwave/dataset/open/./train/KRTPKKPL.ogg\n"
          ]
        },
        {
          "output_type": "stream",
          "name": "stderr",
          "text": [
            "\r  3%|▎         | 1600/50000 [20:18<8:45:10,  1.54it/s]"
          ]
        },
        {
          "output_type": "stream",
          "name": "stdout",
          "text": [
            "Saved file: /content/drive/MyDrive/dataset/TeamDeepwave/dataset/preprocessed/train/real/KRTPKKPL.png\n",
            "Processing file: /content/drive/MyDrive/dataset/TeamDeepwave/dataset/open/./train/JMFZFWZK.ogg\n"
          ]
        },
        {
          "output_type": "stream",
          "name": "stderr",
          "text": [
            "\r  3%|▎         | 1601/50000 [20:19<8:18:42,  1.62it/s]"
          ]
        },
        {
          "output_type": "stream",
          "name": "stdout",
          "text": [
            "Saved file: /content/drive/MyDrive/dataset/TeamDeepwave/dataset/preprocessed/train/fake/JMFZFWZK.png\n",
            "Processing file: /content/drive/MyDrive/dataset/TeamDeepwave/dataset/open/./train/SAFDALNO.ogg\n"
          ]
        },
        {
          "output_type": "stream",
          "name": "stderr",
          "text": [
            "\r  3%|▎         | 1602/50000 [20:20<8:50:04,  1.52it/s]"
          ]
        },
        {
          "output_type": "stream",
          "name": "stdout",
          "text": [
            "Saved file: /content/drive/MyDrive/dataset/TeamDeepwave/dataset/preprocessed/train/real/SAFDALNO.png\n",
            "Processing file: /content/drive/MyDrive/dataset/TeamDeepwave/dataset/open/./train/FULSLAFG.ogg\n"
          ]
        },
        {
          "output_type": "stream",
          "name": "stderr",
          "text": [
            "\r  3%|▎         | 1603/50000 [20:21<9:54:27,  1.36it/s]"
          ]
        },
        {
          "output_type": "stream",
          "name": "stdout",
          "text": [
            "Saved file: /content/drive/MyDrive/dataset/TeamDeepwave/dataset/preprocessed/train/real/FULSLAFG.png\n",
            "Processing file: /content/drive/MyDrive/dataset/TeamDeepwave/dataset/open/./train/TIVSEWDX.ogg\n"
          ]
        },
        {
          "output_type": "stream",
          "name": "stderr",
          "text": [
            "\r  3%|▎         | 1604/50000 [20:21<10:07:43,  1.33it/s]"
          ]
        },
        {
          "output_type": "stream",
          "name": "stdout",
          "text": [
            "Saved file: /content/drive/MyDrive/dataset/TeamDeepwave/dataset/preprocessed/train/real/TIVSEWDX.png\n",
            "Processing file: /content/drive/MyDrive/dataset/TeamDeepwave/dataset/open/./train/MHBBJDDM.ogg\n"
          ]
        },
        {
          "output_type": "stream",
          "name": "stderr",
          "text": [
            "\r  3%|▎         | 1605/50000 [20:22<10:34:21,  1.27it/s]"
          ]
        },
        {
          "output_type": "stream",
          "name": "stdout",
          "text": [
            "Saved file: /content/drive/MyDrive/dataset/TeamDeepwave/dataset/preprocessed/train/fake/MHBBJDDM.png\n",
            "Processing file: /content/drive/MyDrive/dataset/TeamDeepwave/dataset/open/./train/RVNZHDEB.ogg\n"
          ]
        },
        {
          "output_type": "stream",
          "name": "stderr",
          "text": [
            "\r  3%|▎         | 1606/50000 [20:23<11:00:14,  1.22it/s]"
          ]
        },
        {
          "output_type": "stream",
          "name": "stdout",
          "text": [
            "Saved file: /content/drive/MyDrive/dataset/TeamDeepwave/dataset/preprocessed/train/fake/RVNZHDEB.png\n",
            "Processing file: /content/drive/MyDrive/dataset/TeamDeepwave/dataset/open/./train/IZUEIRCE.ogg\n"
          ]
        },
        {
          "output_type": "stream",
          "name": "stderr",
          "text": [
            "\r  3%|▎         | 1607/50000 [20:28<27:02:30,  2.01s/it]"
          ]
        },
        {
          "output_type": "stream",
          "name": "stdout",
          "text": [
            "Saved file: /content/drive/MyDrive/dataset/TeamDeepwave/dataset/preprocessed/train/fake/IZUEIRCE.png\n",
            "Processing file: /content/drive/MyDrive/dataset/TeamDeepwave/dataset/open/./train/KSQXWENF.ogg\n"
          ]
        },
        {
          "output_type": "stream",
          "name": "stderr",
          "text": [
            "\r  3%|▎         | 1608/50000 [20:28<21:21:41,  1.59s/it]"
          ]
        },
        {
          "output_type": "stream",
          "name": "stdout",
          "text": [
            "Saved file: /content/drive/MyDrive/dataset/TeamDeepwave/dataset/preprocessed/train/real/KSQXWENF.png\n",
            "Processing file: /content/drive/MyDrive/dataset/TeamDeepwave/dataset/open/./train/YPVCUDBD.ogg\n"
          ]
        },
        {
          "output_type": "stream",
          "name": "stderr",
          "text": [
            "\r  3%|▎         | 1609/50000 [20:29<17:31:05,  1.30s/it]"
          ]
        },
        {
          "output_type": "stream",
          "name": "stdout",
          "text": [
            "Saved file: /content/drive/MyDrive/dataset/TeamDeepwave/dataset/preprocessed/train/fake/YPVCUDBD.png\n",
            "Processing file: /content/drive/MyDrive/dataset/TeamDeepwave/dataset/open/./train/XZPPQETG.ogg\n"
          ]
        },
        {
          "output_type": "stream",
          "name": "stderr",
          "text": [
            "\r  3%|▎         | 1610/50000 [20:30<14:57:25,  1.11s/it]"
          ]
        },
        {
          "output_type": "stream",
          "name": "stdout",
          "text": [
            "Saved file: /content/drive/MyDrive/dataset/TeamDeepwave/dataset/preprocessed/train/fake/XZPPQETG.png\n",
            "Processing file: /content/drive/MyDrive/dataset/TeamDeepwave/dataset/open/./train/MKHGHIPT.ogg\n"
          ]
        },
        {
          "output_type": "stream",
          "name": "stderr",
          "text": [
            "\r  3%|▎         | 1611/50000 [20:30<13:14:32,  1.02it/s]"
          ]
        },
        {
          "output_type": "stream",
          "name": "stdout",
          "text": [
            "Saved file: /content/drive/MyDrive/dataset/TeamDeepwave/dataset/preprocessed/train/real/MKHGHIPT.png\n",
            "Processing file: /content/drive/MyDrive/dataset/TeamDeepwave/dataset/open/./train/JXCDPSUF.ogg\n"
          ]
        },
        {
          "output_type": "stream",
          "name": "stderr",
          "text": [
            "\r  3%|▎         | 1612/50000 [20:31<12:25:16,  1.08it/s]"
          ]
        },
        {
          "output_type": "stream",
          "name": "stdout",
          "text": [
            "Saved file: /content/drive/MyDrive/dataset/TeamDeepwave/dataset/preprocessed/train/fake/JXCDPSUF.png\n",
            "Processing file: /content/drive/MyDrive/dataset/TeamDeepwave/dataset/open/./train/YPODPXNE.ogg\n"
          ]
        },
        {
          "output_type": "stream",
          "name": "stderr",
          "text": [
            "\r  3%|▎         | 1613/50000 [20:32<11:31:32,  1.17it/s]"
          ]
        },
        {
          "output_type": "stream",
          "name": "stdout",
          "text": [
            "Saved file: /content/drive/MyDrive/dataset/TeamDeepwave/dataset/preprocessed/train/real/YPODPXNE.png\n",
            "Processing file: /content/drive/MyDrive/dataset/TeamDeepwave/dataset/open/./train/VNNXGSMT.ogg\n"
          ]
        },
        {
          "output_type": "stream",
          "name": "stderr",
          "text": [
            "\r  3%|▎         | 1614/50000 [20:33<10:49:45,  1.24it/s]"
          ]
        },
        {
          "output_type": "stream",
          "name": "stdout",
          "text": [
            "Saved file: /content/drive/MyDrive/dataset/TeamDeepwave/dataset/preprocessed/train/fake/VNNXGSMT.png\n",
            "Processing file: /content/drive/MyDrive/dataset/TeamDeepwave/dataset/open/./train/KYQURQKZ.ogg\n"
          ]
        },
        {
          "output_type": "stream",
          "name": "stderr",
          "text": [
            "\r  3%|▎         | 1615/50000 [20:33<10:23:09,  1.29it/s]"
          ]
        },
        {
          "output_type": "stream",
          "name": "stdout",
          "text": [
            "Saved file: /content/drive/MyDrive/dataset/TeamDeepwave/dataset/preprocessed/train/real/KYQURQKZ.png\n",
            "Processing file: /content/drive/MyDrive/dataset/TeamDeepwave/dataset/open/./train/LJXHUEYI.ogg\n"
          ]
        },
        {
          "output_type": "stream",
          "name": "stderr",
          "text": [
            "\r  3%|▎         | 1616/50000 [20:34<11:24:25,  1.18it/s]"
          ]
        },
        {
          "output_type": "stream",
          "name": "stdout",
          "text": [
            "Saved file: /content/drive/MyDrive/dataset/TeamDeepwave/dataset/preprocessed/train/real/LJXHUEYI.png\n",
            "Processing file: /content/drive/MyDrive/dataset/TeamDeepwave/dataset/open/./train/QAOXTWHY.ogg\n"
          ]
        },
        {
          "output_type": "stream",
          "name": "stderr",
          "text": [
            "\r  3%|▎         | 1617/50000 [20:35<11:25:21,  1.18it/s]"
          ]
        },
        {
          "output_type": "stream",
          "name": "stdout",
          "text": [
            "Saved file: /content/drive/MyDrive/dataset/TeamDeepwave/dataset/preprocessed/train/real/QAOXTWHY.png\n",
            "Processing file: /content/drive/MyDrive/dataset/TeamDeepwave/dataset/open/./train/CEHSXHXV.ogg\n"
          ]
        },
        {
          "output_type": "stream",
          "name": "stderr",
          "text": [
            "\r  3%|▎         | 1618/50000 [20:36<11:06:27,  1.21it/s]"
          ]
        },
        {
          "output_type": "stream",
          "name": "stdout",
          "text": [
            "Saved file: /content/drive/MyDrive/dataset/TeamDeepwave/dataset/preprocessed/train/fake/CEHSXHXV.png\n",
            "Processing file: /content/drive/MyDrive/dataset/TeamDeepwave/dataset/open/./train/WAXKPACI.ogg\n"
          ]
        },
        {
          "output_type": "stream",
          "name": "stderr",
          "text": [
            "\r  3%|▎         | 1619/50000 [20:37<11:21:51,  1.18it/s]"
          ]
        },
        {
          "output_type": "stream",
          "name": "stdout",
          "text": [
            "Saved file: /content/drive/MyDrive/dataset/TeamDeepwave/dataset/preprocessed/train/real/WAXKPACI.png\n",
            "Processing file: /content/drive/MyDrive/dataset/TeamDeepwave/dataset/open/./train/XHGYIAUD.ogg\n"
          ]
        },
        {
          "output_type": "stream",
          "name": "stderr",
          "text": [
            "\r  3%|▎         | 1620/50000 [20:38<10:53:33,  1.23it/s]"
          ]
        },
        {
          "output_type": "stream",
          "name": "stdout",
          "text": [
            "Saved file: /content/drive/MyDrive/dataset/TeamDeepwave/dataset/preprocessed/train/real/XHGYIAUD.png\n",
            "Processing file: /content/drive/MyDrive/dataset/TeamDeepwave/dataset/open/./train/HXCLJCSW.ogg\n"
          ]
        },
        {
          "output_type": "stream",
          "name": "stderr",
          "text": [
            "\r  3%|▎         | 1621/50000 [20:38<10:16:37,  1.31it/s]"
          ]
        },
        {
          "output_type": "stream",
          "name": "stdout",
          "text": [
            "Saved file: /content/drive/MyDrive/dataset/TeamDeepwave/dataset/preprocessed/train/real/HXCLJCSW.png\n",
            "Processing file: /content/drive/MyDrive/dataset/TeamDeepwave/dataset/open/./train/PRBDFHRV.ogg\n"
          ]
        },
        {
          "output_type": "stream",
          "name": "stderr",
          "text": [
            "\r  3%|▎         | 1622/50000 [20:39<10:00:59,  1.34it/s]"
          ]
        },
        {
          "output_type": "stream",
          "name": "stdout",
          "text": [
            "Saved file: /content/drive/MyDrive/dataset/TeamDeepwave/dataset/preprocessed/train/fake/PRBDFHRV.png\n",
            "Processing file: /content/drive/MyDrive/dataset/TeamDeepwave/dataset/open/./train/EJXBXOAD.ogg\n"
          ]
        },
        {
          "output_type": "stream",
          "name": "stderr",
          "text": [
            "\r  3%|▎         | 1623/50000 [20:40<9:47:24,  1.37it/s] "
          ]
        },
        {
          "output_type": "stream",
          "name": "stdout",
          "text": [
            "Saved file: /content/drive/MyDrive/dataset/TeamDeepwave/dataset/preprocessed/train/fake/EJXBXOAD.png\n",
            "Processing file: /content/drive/MyDrive/dataset/TeamDeepwave/dataset/open/./train/OIDLLCHC.ogg\n"
          ]
        },
        {
          "output_type": "stream",
          "name": "stderr",
          "text": [
            "\r  3%|▎         | 1624/50000 [20:40<10:16:26,  1.31it/s]"
          ]
        },
        {
          "output_type": "stream",
          "name": "stdout",
          "text": [
            "Saved file: /content/drive/MyDrive/dataset/TeamDeepwave/dataset/preprocessed/train/real/OIDLLCHC.png\n",
            "Processing file: /content/drive/MyDrive/dataset/TeamDeepwave/dataset/open/./train/KRZCIHME.ogg\n"
          ]
        },
        {
          "output_type": "stream",
          "name": "stderr",
          "text": [
            "\r  3%|▎         | 1625/50000 [20:41<9:36:28,  1.40it/s] "
          ]
        },
        {
          "output_type": "stream",
          "name": "stdout",
          "text": [
            "Saved file: /content/drive/MyDrive/dataset/TeamDeepwave/dataset/preprocessed/train/real/KRZCIHME.png\n",
            "Processing file: /content/drive/MyDrive/dataset/TeamDeepwave/dataset/open/./train/ZLUIDBYY.ogg\n"
          ]
        },
        {
          "output_type": "stream",
          "name": "stderr",
          "text": [
            "\r  3%|▎         | 1626/50000 [20:42<9:19:17,  1.44it/s]"
          ]
        },
        {
          "output_type": "stream",
          "name": "stdout",
          "text": [
            "Saved file: /content/drive/MyDrive/dataset/TeamDeepwave/dataset/preprocessed/train/real/ZLUIDBYY.png\n",
            "Processing file: /content/drive/MyDrive/dataset/TeamDeepwave/dataset/open/./train/ZYNYFEYW.ogg\n"
          ]
        },
        {
          "output_type": "stream",
          "name": "stderr",
          "text": [
            "\r  3%|▎         | 1627/50000 [20:42<9:05:43,  1.48it/s]"
          ]
        },
        {
          "output_type": "stream",
          "name": "stdout",
          "text": [
            "Saved file: /content/drive/MyDrive/dataset/TeamDeepwave/dataset/preprocessed/train/fake/ZYNYFEYW.png\n",
            "Processing file: /content/drive/MyDrive/dataset/TeamDeepwave/dataset/open/./train/WATGBGEA.ogg\n"
          ]
        },
        {
          "output_type": "stream",
          "name": "stderr",
          "text": [
            "\r  3%|▎         | 1628/50000 [20:43<8:47:33,  1.53it/s]"
          ]
        },
        {
          "output_type": "stream",
          "name": "stdout",
          "text": [
            "Saved file: /content/drive/MyDrive/dataset/TeamDeepwave/dataset/preprocessed/train/real/WATGBGEA.png\n",
            "Processing file: /content/drive/MyDrive/dataset/TeamDeepwave/dataset/open/./train/YMNLTYHV.ogg\n"
          ]
        },
        {
          "output_type": "stream",
          "name": "stderr",
          "text": [
            "\r  3%|▎         | 1629/50000 [20:44<9:16:24,  1.45it/s]"
          ]
        },
        {
          "output_type": "stream",
          "name": "stdout",
          "text": [
            "Saved file: /content/drive/MyDrive/dataset/TeamDeepwave/dataset/preprocessed/train/real/YMNLTYHV.png\n",
            "Processing file: /content/drive/MyDrive/dataset/TeamDeepwave/dataset/open/./train/IITEROFR.ogg\n"
          ]
        },
        {
          "output_type": "stream",
          "name": "stderr",
          "text": [
            "\r  3%|▎         | 1630/50000 [20:44<9:17:42,  1.45it/s]"
          ]
        },
        {
          "output_type": "stream",
          "name": "stdout",
          "text": [
            "Saved file: /content/drive/MyDrive/dataset/TeamDeepwave/dataset/preprocessed/train/fake/IITEROFR.png\n",
            "Processing file: /content/drive/MyDrive/dataset/TeamDeepwave/dataset/open/./train/WCJSVAOH.ogg\n"
          ]
        },
        {
          "output_type": "stream",
          "name": "stderr",
          "text": [
            "\r  3%|▎         | 1631/50000 [20:45<8:58:50,  1.50it/s]"
          ]
        },
        {
          "output_type": "stream",
          "name": "stdout",
          "text": [
            "Saved file: /content/drive/MyDrive/dataset/TeamDeepwave/dataset/preprocessed/train/real/WCJSVAOH.png\n",
            "Processing file: /content/drive/MyDrive/dataset/TeamDeepwave/dataset/open/./train/FRKJIUTP.ogg\n"
          ]
        },
        {
          "output_type": "stream",
          "name": "stderr",
          "text": [
            "\r  3%|▎         | 1632/50000 [20:46<8:37:17,  1.56it/s]"
          ]
        },
        {
          "output_type": "stream",
          "name": "stdout",
          "text": [
            "Saved file: /content/drive/MyDrive/dataset/TeamDeepwave/dataset/preprocessed/train/fake/FRKJIUTP.png\n",
            "Processing file: /content/drive/MyDrive/dataset/TeamDeepwave/dataset/open/./train/EFWKSTOX.ogg\n"
          ]
        },
        {
          "output_type": "stream",
          "name": "stderr",
          "text": [
            "\r  3%|▎         | 1633/50000 [20:46<8:34:58,  1.57it/s]"
          ]
        },
        {
          "output_type": "stream",
          "name": "stdout",
          "text": [
            "Saved file: /content/drive/MyDrive/dataset/TeamDeepwave/dataset/preprocessed/train/fake/EFWKSTOX.png\n",
            "Processing file: /content/drive/MyDrive/dataset/TeamDeepwave/dataset/open/./train/OFNDEYAV.ogg\n"
          ]
        },
        {
          "output_type": "stream",
          "name": "stderr",
          "text": [
            "\r  3%|▎         | 1634/50000 [20:47<8:48:27,  1.53it/s]"
          ]
        },
        {
          "output_type": "stream",
          "name": "stdout",
          "text": [
            "Saved file: /content/drive/MyDrive/dataset/TeamDeepwave/dataset/preprocessed/train/fake/OFNDEYAV.png\n",
            "Processing file: /content/drive/MyDrive/dataset/TeamDeepwave/dataset/open/./train/CBXXXEZP.ogg\n"
          ]
        },
        {
          "output_type": "stream",
          "name": "stderr",
          "text": [
            "\r  3%|▎         | 1635/50000 [20:48<9:47:02,  1.37it/s]"
          ]
        },
        {
          "output_type": "stream",
          "name": "stdout",
          "text": [
            "Saved file: /content/drive/MyDrive/dataset/TeamDeepwave/dataset/preprocessed/train/real/CBXXXEZP.png\n",
            "Processing file: /content/drive/MyDrive/dataset/TeamDeepwave/dataset/open/./train/WEDHZVEP.ogg\n"
          ]
        },
        {
          "output_type": "stream",
          "name": "stderr",
          "text": [
            "\r  3%|▎         | 1636/50000 [20:49<10:19:20,  1.30it/s]"
          ]
        },
        {
          "output_type": "stream",
          "name": "stdout",
          "text": [
            "Saved file: /content/drive/MyDrive/dataset/TeamDeepwave/dataset/preprocessed/train/real/WEDHZVEP.png\n",
            "Processing file: /content/drive/MyDrive/dataset/TeamDeepwave/dataset/open/./train/BVMNOIFS.ogg\n"
          ]
        },
        {
          "output_type": "stream",
          "name": "stderr",
          "text": [
            "\r  3%|▎         | 1637/50000 [20:50<10:33:05,  1.27it/s]"
          ]
        },
        {
          "output_type": "stream",
          "name": "stdout",
          "text": [
            "Saved file: /content/drive/MyDrive/dataset/TeamDeepwave/dataset/preprocessed/train/real/BVMNOIFS.png\n",
            "Processing file: /content/drive/MyDrive/dataset/TeamDeepwave/dataset/open/./train/PQDYPTUV.ogg\n"
          ]
        },
        {
          "output_type": "stream",
          "name": "stderr",
          "text": [
            "\r  3%|▎         | 1638/50000 [20:50<10:44:55,  1.25it/s]"
          ]
        },
        {
          "output_type": "stream",
          "name": "stdout",
          "text": [
            "Saved file: /content/drive/MyDrive/dataset/TeamDeepwave/dataset/preprocessed/train/real/PQDYPTUV.png\n",
            "Processing file: /content/drive/MyDrive/dataset/TeamDeepwave/dataset/open/./train/UMPMONJK.ogg\n"
          ]
        },
        {
          "output_type": "stream",
          "name": "stderr",
          "text": [
            "\r  3%|▎         | 1639/50000 [20:51<10:43:06,  1.25it/s]"
          ]
        },
        {
          "output_type": "stream",
          "name": "stdout",
          "text": [
            "Saved file: /content/drive/MyDrive/dataset/TeamDeepwave/dataset/preprocessed/train/fake/UMPMONJK.png\n",
            "Processing file: /content/drive/MyDrive/dataset/TeamDeepwave/dataset/open/./train/DVMDYLOI.ogg\n"
          ]
        },
        {
          "output_type": "stream",
          "name": "stderr",
          "text": [
            "\r  3%|▎         | 1640/50000 [20:52<10:23:49,  1.29it/s]"
          ]
        },
        {
          "output_type": "stream",
          "name": "stdout",
          "text": [
            "Saved file: /content/drive/MyDrive/dataset/TeamDeepwave/dataset/preprocessed/train/real/DVMDYLOI.png\n",
            "Processing file: /content/drive/MyDrive/dataset/TeamDeepwave/dataset/open/./train/MDNCUXZL.ogg\n"
          ]
        },
        {
          "output_type": "stream",
          "name": "stderr",
          "text": [
            "\r  3%|▎         | 1641/50000 [20:53<10:22:30,  1.29it/s]"
          ]
        },
        {
          "output_type": "stream",
          "name": "stdout",
          "text": [
            "Saved file: /content/drive/MyDrive/dataset/TeamDeepwave/dataset/preprocessed/train/fake/MDNCUXZL.png\n",
            "Processing file: /content/drive/MyDrive/dataset/TeamDeepwave/dataset/open/./train/XQKDDRXF.ogg\n"
          ]
        },
        {
          "output_type": "stream",
          "name": "stderr",
          "text": [
            "\r  3%|▎         | 1642/50000 [20:53<9:54:58,  1.35it/s] "
          ]
        },
        {
          "output_type": "stream",
          "name": "stdout",
          "text": [
            "Saved file: /content/drive/MyDrive/dataset/TeamDeepwave/dataset/preprocessed/train/fake/XQKDDRXF.png\n",
            "Processing file: /content/drive/MyDrive/dataset/TeamDeepwave/dataset/open/./train/WPBXIMWX.ogg\n"
          ]
        },
        {
          "output_type": "stream",
          "name": "stderr",
          "text": [
            "\r  3%|▎         | 1642/50000 [20:54<10:15:36,  1.31it/s]\n"
          ]
        },
        {
          "output_type": "error",
          "ename": "KeyboardInterrupt",
          "evalue": "",
          "traceback": [
            "\u001b[0;31m---------------------------------------------------------------------------\u001b[0m",
            "\u001b[0;31mKeyboardInterrupt\u001b[0m                         Traceback (most recent call last)",
            "\u001b[0;32m<ipython-input-1-062b96757513>\u001b[0m in \u001b[0;36m<cell line: 146>\u001b[0;34m()\u001b[0m\n\u001b[1;32m    145\u001b[0m \u001b[0;31m# Save Mel-spectrograms as PNG images for training data\u001b[0m\u001b[0;34m\u001b[0m\u001b[0;34m\u001b[0m\u001b[0m\n\u001b[1;32m    146\u001b[0m \u001b[0;32mfor\u001b[0m \u001b[0mfile_path\u001b[0m\u001b[0;34m,\u001b[0m \u001b[0mlabel\u001b[0m \u001b[0;32min\u001b[0m \u001b[0mtqdm\u001b[0m\u001b[0;34m(\u001b[0m\u001b[0mzip\u001b[0m\u001b[0;34m(\u001b[0m\u001b[0mtrain_files\u001b[0m\u001b[0;34m,\u001b[0m \u001b[0mtrain_labels\u001b[0m\u001b[0;34m)\u001b[0m\u001b[0;34m,\u001b[0m \u001b[0mtotal\u001b[0m\u001b[0;34m=\u001b[0m\u001b[0mlen\u001b[0m\u001b[0;34m(\u001b[0m\u001b[0mtrain_files\u001b[0m\u001b[0;34m)\u001b[0m\u001b[0;34m)\u001b[0m\u001b[0;34m:\u001b[0m\u001b[0;34m\u001b[0m\u001b[0;34m\u001b[0m\u001b[0m\n\u001b[0;32m--> 147\u001b[0;31m     \u001b[0msave_mel_spectrogram\u001b[0m\u001b[0;34m(\u001b[0m\u001b[0mfile_path\u001b[0m\u001b[0;34m,\u001b[0m \u001b[0mlabel\u001b[0m\u001b[0;34m,\u001b[0m \u001b[0mos\u001b[0m\u001b[0;34m.\u001b[0m\u001b[0mpath\u001b[0m\u001b[0;34m.\u001b[0m\u001b[0mjoin\u001b[0m\u001b[0;34m(\u001b[0m\u001b[0mCONFIG\u001b[0m\u001b[0;34m.\u001b[0m\u001b[0mOUTPUT_FOLDER\u001b[0m\u001b[0;34m,\u001b[0m \u001b[0;34m'train'\u001b[0m\u001b[0;34m)\u001b[0m\u001b[0;34m)\u001b[0m\u001b[0;34m\u001b[0m\u001b[0;34m\u001b[0m\u001b[0m\n\u001b[0m\u001b[1;32m    148\u001b[0m \u001b[0;34m\u001b[0m\u001b[0m\n\u001b[1;32m    149\u001b[0m \u001b[0;31m# Save Mel-spectrograms as PNG images for testing data\u001b[0m\u001b[0;34m\u001b[0m\u001b[0;34m\u001b[0m\u001b[0m\n",
            "\u001b[0;32m<ipython-input-1-062b96757513>\u001b[0m in \u001b[0;36msave_mel_spectrogram\u001b[0;34m(file_path, label, output_folder, is_test)\u001b[0m\n\u001b[1;32m    116\u001b[0m \u001b[0;34m\u001b[0m\u001b[0m\n\u001b[1;32m    117\u001b[0m         \u001b[0mplt\u001b[0m\u001b[0;34m.\u001b[0m\u001b[0mfigure\u001b[0m\u001b[0;34m(\u001b[0m\u001b[0mfigsize\u001b[0m\u001b[0;34m=\u001b[0m\u001b[0;34m(\u001b[0m\u001b[0;36m10\u001b[0m\u001b[0;34m,\u001b[0m \u001b[0;36m4\u001b[0m\u001b[0;34m)\u001b[0m\u001b[0;34m)\u001b[0m\u001b[0;34m\u001b[0m\u001b[0;34m\u001b[0m\u001b[0m\n\u001b[0;32m--> 118\u001b[0;31m         \u001b[0mlibrosa\u001b[0m\u001b[0;34m.\u001b[0m\u001b[0mdisplay\u001b[0m\u001b[0;34m.\u001b[0m\u001b[0mspecshow\u001b[0m\u001b[0;34m(\u001b[0m\u001b[0mmel_spectrogram_db\u001b[0m\u001b[0;34m,\u001b[0m \u001b[0msr\u001b[0m\u001b[0;34m=\u001b[0m\u001b[0msr\u001b[0m\u001b[0;34m,\u001b[0m \u001b[0mx_axis\u001b[0m\u001b[0;34m=\u001b[0m\u001b[0;34m'time'\u001b[0m\u001b[0;34m,\u001b[0m \u001b[0my_axis\u001b[0m\u001b[0;34m=\u001b[0m\u001b[0;34m'mel'\u001b[0m\u001b[0;34m)\u001b[0m\u001b[0;34m\u001b[0m\u001b[0;34m\u001b[0m\u001b[0m\n\u001b[0m\u001b[1;32m    119\u001b[0m         \u001b[0mplt\u001b[0m\u001b[0;34m.\u001b[0m\u001b[0mcolorbar\u001b[0m\u001b[0;34m(\u001b[0m\u001b[0mformat\u001b[0m\u001b[0;34m=\u001b[0m\u001b[0;34m'%+2.0f dB'\u001b[0m\u001b[0;34m)\u001b[0m\u001b[0;34m\u001b[0m\u001b[0;34m\u001b[0m\u001b[0m\n\u001b[1;32m    120\u001b[0m         \u001b[0mplt\u001b[0m\u001b[0;34m.\u001b[0m\u001b[0mtitle\u001b[0m\u001b[0;34m(\u001b[0m\u001b[0;34m'Mel-spectrogram'\u001b[0m\u001b[0;34m)\u001b[0m\u001b[0;34m\u001b[0m\u001b[0;34m\u001b[0m\u001b[0m\n",
            "\u001b[0;32m/usr/local/lib/python3.10/dist-packages/librosa/display.py\u001b[0m in \u001b[0;36mspecshow\u001b[0;34m(data, x_coords, y_coords, x_axis, y_axis, sr, hop_length, n_fft, win_length, fmin, fmax, tempo_min, tempo_max, tuning, bins_per_octave, key, Sa, mela, thaat, auto_aspect, htk, unicode, intervals, unison, ax, **kwargs)\u001b[0m\n\u001b[1;32m   1212\u001b[0m     \u001b[0mx_coords\u001b[0m \u001b[0;34m=\u001b[0m \u001b[0m__mesh_coords\u001b[0m\u001b[0;34m(\u001b[0m\u001b[0mx_axis\u001b[0m\u001b[0;34m,\u001b[0m \u001b[0mx_coords\u001b[0m\u001b[0;34m,\u001b[0m \u001b[0mdata\u001b[0m\u001b[0;34m.\u001b[0m\u001b[0mshape\u001b[0m\u001b[0;34m[\u001b[0m\u001b[0;36m1\u001b[0m\u001b[0;34m]\u001b[0m\u001b[0;34m,\u001b[0m \u001b[0;34m**\u001b[0m\u001b[0mall_params\u001b[0m\u001b[0;34m)\u001b[0m\u001b[0;34m\u001b[0m\u001b[0;34m\u001b[0m\u001b[0m\n\u001b[1;32m   1213\u001b[0m \u001b[0;34m\u001b[0m\u001b[0m\n\u001b[0;32m-> 1214\u001b[0;31m     \u001b[0maxes\u001b[0m \u001b[0;34m=\u001b[0m \u001b[0m__check_axes\u001b[0m\u001b[0;34m(\u001b[0m\u001b[0max\u001b[0m\u001b[0;34m)\u001b[0m\u001b[0;34m\u001b[0m\u001b[0;34m\u001b[0m\u001b[0m\n\u001b[0m\u001b[1;32m   1215\u001b[0m \u001b[0;34m\u001b[0m\u001b[0m\n\u001b[1;32m   1216\u001b[0m     \u001b[0mout\u001b[0m \u001b[0;34m=\u001b[0m \u001b[0maxes\u001b[0m\u001b[0;34m.\u001b[0m\u001b[0mpcolormesh\u001b[0m\u001b[0;34m(\u001b[0m\u001b[0mx_coords\u001b[0m\u001b[0;34m,\u001b[0m \u001b[0my_coords\u001b[0m\u001b[0;34m,\u001b[0m \u001b[0mdata\u001b[0m\u001b[0;34m,\u001b[0m \u001b[0;34m**\u001b[0m\u001b[0mkwargs\u001b[0m\u001b[0;34m)\u001b[0m\u001b[0;34m\u001b[0m\u001b[0;34m\u001b[0m\u001b[0m\n",
            "\u001b[0;32m/usr/local/lib/python3.10/dist-packages/librosa/display.py\u001b[0m in \u001b[0;36m__check_axes\u001b[0;34m(axes)\u001b[0m\n\u001b[1;32m   1324\u001b[0m     \u001b[0;34m\"\"\"Check if \"axes\" is an instance of an axis object. If not, use `gca`.\"\"\"\u001b[0m\u001b[0;34m\u001b[0m\u001b[0;34m\u001b[0m\u001b[0m\n\u001b[1;32m   1325\u001b[0m     \u001b[0;32mif\u001b[0m \u001b[0maxes\u001b[0m \u001b[0;32mis\u001b[0m \u001b[0;32mNone\u001b[0m\u001b[0;34m:\u001b[0m\u001b[0;34m\u001b[0m\u001b[0;34m\u001b[0m\u001b[0m\n\u001b[0;32m-> 1326\u001b[0;31m         \u001b[0maxes\u001b[0m \u001b[0;34m=\u001b[0m \u001b[0mplt\u001b[0m\u001b[0;34m.\u001b[0m\u001b[0mgca\u001b[0m\u001b[0;34m(\u001b[0m\u001b[0;34m)\u001b[0m\u001b[0;34m\u001b[0m\u001b[0;34m\u001b[0m\u001b[0m\n\u001b[0m\u001b[1;32m   1327\u001b[0m     \u001b[0;32melif\u001b[0m \u001b[0;32mnot\u001b[0m \u001b[0misinstance\u001b[0m\u001b[0;34m(\u001b[0m\u001b[0maxes\u001b[0m\u001b[0;34m,\u001b[0m \u001b[0mmplaxes\u001b[0m\u001b[0;34m.\u001b[0m\u001b[0mAxes\u001b[0m\u001b[0;34m)\u001b[0m\u001b[0;34m:\u001b[0m\u001b[0;34m\u001b[0m\u001b[0;34m\u001b[0m\u001b[0m\n\u001b[1;32m   1328\u001b[0m         raise ParameterError(\n",
            "\u001b[0;32m/usr/local/lib/python3.10/dist-packages/matplotlib/pyplot.py\u001b[0m in \u001b[0;36mgca\u001b[0;34m()\u001b[0m\n\u001b[1;32m   2307\u001b[0m \u001b[0;34m@\u001b[0m\u001b[0m_copy_docstring_and_deprecators\u001b[0m\u001b[0;34m(\u001b[0m\u001b[0mFigure\u001b[0m\u001b[0;34m.\u001b[0m\u001b[0mgca\u001b[0m\u001b[0;34m)\u001b[0m\u001b[0;34m\u001b[0m\u001b[0;34m\u001b[0m\u001b[0m\n\u001b[1;32m   2308\u001b[0m \u001b[0;32mdef\u001b[0m \u001b[0mgca\u001b[0m\u001b[0;34m(\u001b[0m\u001b[0;34m)\u001b[0m\u001b[0;34m:\u001b[0m\u001b[0;34m\u001b[0m\u001b[0;34m\u001b[0m\u001b[0m\n\u001b[0;32m-> 2309\u001b[0;31m     \u001b[0;32mreturn\u001b[0m \u001b[0mgcf\u001b[0m\u001b[0;34m(\u001b[0m\u001b[0;34m)\u001b[0m\u001b[0;34m.\u001b[0m\u001b[0mgca\u001b[0m\u001b[0;34m(\u001b[0m\u001b[0;34m)\u001b[0m\u001b[0;34m\u001b[0m\u001b[0;34m\u001b[0m\u001b[0m\n\u001b[0m\u001b[1;32m   2310\u001b[0m \u001b[0;34m\u001b[0m\u001b[0m\n\u001b[1;32m   2311\u001b[0m \u001b[0;34m\u001b[0m\u001b[0m\n",
            "\u001b[0;32m/usr/local/lib/python3.10/dist-packages/matplotlib/figure.py\u001b[0m in \u001b[0;36mgca\u001b[0;34m(self)\u001b[0m\n\u001b[1;32m   1626\u001b[0m         \"\"\"\n\u001b[1;32m   1627\u001b[0m         \u001b[0max\u001b[0m \u001b[0;34m=\u001b[0m \u001b[0mself\u001b[0m\u001b[0;34m.\u001b[0m\u001b[0m_axstack\u001b[0m\u001b[0;34m.\u001b[0m\u001b[0mcurrent\u001b[0m\u001b[0;34m(\u001b[0m\u001b[0;34m)\u001b[0m\u001b[0;34m\u001b[0m\u001b[0;34m\u001b[0m\u001b[0m\n\u001b[0;32m-> 1628\u001b[0;31m         \u001b[0;32mreturn\u001b[0m \u001b[0max\u001b[0m \u001b[0;32mif\u001b[0m \u001b[0max\u001b[0m \u001b[0;32mis\u001b[0m \u001b[0;32mnot\u001b[0m \u001b[0;32mNone\u001b[0m \u001b[0;32melse\u001b[0m \u001b[0mself\u001b[0m\u001b[0;34m.\u001b[0m\u001b[0madd_subplot\u001b[0m\u001b[0;34m(\u001b[0m\u001b[0;34m)\u001b[0m\u001b[0;34m\u001b[0m\u001b[0;34m\u001b[0m\u001b[0m\n\u001b[0m\u001b[1;32m   1629\u001b[0m \u001b[0;34m\u001b[0m\u001b[0m\n\u001b[1;32m   1630\u001b[0m     \u001b[0;32mdef\u001b[0m \u001b[0m_gci\u001b[0m\u001b[0;34m(\u001b[0m\u001b[0mself\u001b[0m\u001b[0;34m)\u001b[0m\u001b[0;34m:\u001b[0m\u001b[0;34m\u001b[0m\u001b[0;34m\u001b[0m\u001b[0m\n",
            "\u001b[0;32m/usr/local/lib/python3.10/dist-packages/matplotlib/figure.py\u001b[0m in \u001b[0;36madd_subplot\u001b[0;34m(self, *args, **kwargs)\u001b[0m\n\u001b[1;32m    755\u001b[0m             projection_class, pkw = self._process_projection_requirements(\n\u001b[1;32m    756\u001b[0m                 *args, **kwargs)\n\u001b[0;32m--> 757\u001b[0;31m             \u001b[0max\u001b[0m \u001b[0;34m=\u001b[0m \u001b[0mprojection_class\u001b[0m\u001b[0;34m(\u001b[0m\u001b[0mself\u001b[0m\u001b[0;34m,\u001b[0m \u001b[0;34m*\u001b[0m\u001b[0margs\u001b[0m\u001b[0;34m,\u001b[0m \u001b[0;34m**\u001b[0m\u001b[0mpkw\u001b[0m\u001b[0;34m)\u001b[0m\u001b[0;34m\u001b[0m\u001b[0;34m\u001b[0m\u001b[0m\n\u001b[0m\u001b[1;32m    758\u001b[0m             \u001b[0mkey\u001b[0m \u001b[0;34m=\u001b[0m \u001b[0;34m(\u001b[0m\u001b[0mprojection_class\u001b[0m\u001b[0;34m,\u001b[0m \u001b[0mpkw\u001b[0m\u001b[0;34m)\u001b[0m\u001b[0;34m\u001b[0m\u001b[0;34m\u001b[0m\u001b[0m\n\u001b[1;32m    759\u001b[0m         \u001b[0;32mreturn\u001b[0m \u001b[0mself\u001b[0m\u001b[0;34m.\u001b[0m\u001b[0m_add_axes_internal\u001b[0m\u001b[0;34m(\u001b[0m\u001b[0max\u001b[0m\u001b[0;34m,\u001b[0m \u001b[0mkey\u001b[0m\u001b[0;34m)\u001b[0m\u001b[0;34m\u001b[0m\u001b[0;34m\u001b[0m\u001b[0m\n",
            "\u001b[0;32m/usr/local/lib/python3.10/dist-packages/matplotlib/axes/_base.py\u001b[0m in \u001b[0;36m__init__\u001b[0;34m(self, fig, facecolor, frameon, sharex, sharey, label, xscale, yscale, box_aspect, *args, **kwargs)\u001b[0m\n\u001b[1;32m    681\u001b[0m \u001b[0;34m\u001b[0m\u001b[0m\n\u001b[1;32m    682\u001b[0m         \u001b[0mself\u001b[0m\u001b[0;34m.\u001b[0m\u001b[0m_rasterization_zorder\u001b[0m \u001b[0;34m=\u001b[0m \u001b[0;32mNone\u001b[0m\u001b[0;34m\u001b[0m\u001b[0;34m\u001b[0m\u001b[0m\n\u001b[0;32m--> 683\u001b[0;31m         \u001b[0mself\u001b[0m\u001b[0;34m.\u001b[0m\u001b[0mclear\u001b[0m\u001b[0;34m(\u001b[0m\u001b[0;34m)\u001b[0m\u001b[0;34m\u001b[0m\u001b[0;34m\u001b[0m\u001b[0m\n\u001b[0m\u001b[1;32m    684\u001b[0m \u001b[0;34m\u001b[0m\u001b[0m\n\u001b[1;32m    685\u001b[0m         \u001b[0;31m# funcs used to format x and y - fall back on major formatters\u001b[0m\u001b[0;34m\u001b[0m\u001b[0;34m\u001b[0m\u001b[0m\n",
            "\u001b[0;32m/usr/local/lib/python3.10/dist-packages/matplotlib/axes/_base.py\u001b[0m in \u001b[0;36mclear\u001b[0;34m(self)\u001b[0m\n\u001b[1;32m   1393\u001b[0m             \u001b[0mself\u001b[0m\u001b[0;34m.\u001b[0m\u001b[0mcla\u001b[0m\u001b[0;34m(\u001b[0m\u001b[0;34m)\u001b[0m\u001b[0;34m\u001b[0m\u001b[0;34m\u001b[0m\u001b[0m\n\u001b[1;32m   1394\u001b[0m         \u001b[0;32melse\u001b[0m\u001b[0;34m:\u001b[0m\u001b[0;34m\u001b[0m\u001b[0;34m\u001b[0m\u001b[0m\n\u001b[0;32m-> 1395\u001b[0;31m             \u001b[0mself\u001b[0m\u001b[0;34m.\u001b[0m\u001b[0m__clear\u001b[0m\u001b[0;34m(\u001b[0m\u001b[0;34m)\u001b[0m\u001b[0;34m\u001b[0m\u001b[0;34m\u001b[0m\u001b[0m\n\u001b[0m\u001b[1;32m   1396\u001b[0m \u001b[0;34m\u001b[0m\u001b[0m\n\u001b[1;32m   1397\u001b[0m     \u001b[0;32mdef\u001b[0m \u001b[0mcla\u001b[0m\u001b[0;34m(\u001b[0m\u001b[0mself\u001b[0m\u001b[0;34m)\u001b[0m\u001b[0;34m:\u001b[0m\u001b[0;34m\u001b[0m\u001b[0;34m\u001b[0m\u001b[0m\n",
            "\u001b[0;32m/usr/local/lib/python3.10/dist-packages/matplotlib/axes/_base.py\u001b[0m in \u001b[0;36m__clear\u001b[0;34m(self)\u001b[0m\n\u001b[1;32m   1310\u001b[0m         \u001b[0mself\u001b[0m\u001b[0;34m.\u001b[0m\u001b[0mcontainers\u001b[0m \u001b[0;34m=\u001b[0m \u001b[0;34m[\u001b[0m\u001b[0;34m]\u001b[0m\u001b[0;34m\u001b[0m\u001b[0;34m\u001b[0m\u001b[0m\n\u001b[1;32m   1311\u001b[0m \u001b[0;34m\u001b[0m\u001b[0m\n\u001b[0;32m-> 1312\u001b[0;31m         \u001b[0mself\u001b[0m\u001b[0;34m.\u001b[0m\u001b[0mgrid\u001b[0m\u001b[0;34m(\u001b[0m\u001b[0;32mFalse\u001b[0m\u001b[0;34m)\u001b[0m  \u001b[0;31m# Disable grid on init to use rcParameter\u001b[0m\u001b[0;34m\u001b[0m\u001b[0;34m\u001b[0m\u001b[0m\n\u001b[0m\u001b[1;32m   1313\u001b[0m         self.grid(self._gridOn, which=mpl.rcParams['axes.grid.which'],\n\u001b[1;32m   1314\u001b[0m                   axis=mpl.rcParams['axes.grid.axis'])\n",
            "\u001b[0;32m/usr/local/lib/python3.10/dist-packages/matplotlib/axes/_base.py\u001b[0m in \u001b[0;36mgrid\u001b[0;34m(self, visible, which, axis, **kwargs)\u001b[0m\n\u001b[1;32m   3194\u001b[0m             \u001b[0mself\u001b[0m\u001b[0;34m.\u001b[0m\u001b[0mxaxis\u001b[0m\u001b[0;34m.\u001b[0m\u001b[0mgrid\u001b[0m\u001b[0;34m(\u001b[0m\u001b[0mvisible\u001b[0m\u001b[0;34m,\u001b[0m \u001b[0mwhich\u001b[0m\u001b[0;34m=\u001b[0m\u001b[0mwhich\u001b[0m\u001b[0;34m,\u001b[0m \u001b[0;34m**\u001b[0m\u001b[0mkwargs\u001b[0m\u001b[0;34m)\u001b[0m\u001b[0;34m\u001b[0m\u001b[0;34m\u001b[0m\u001b[0m\n\u001b[1;32m   3195\u001b[0m         \u001b[0;32mif\u001b[0m \u001b[0maxis\u001b[0m \u001b[0;32min\u001b[0m \u001b[0;34m[\u001b[0m\u001b[0;34m'y'\u001b[0m\u001b[0;34m,\u001b[0m \u001b[0;34m'both'\u001b[0m\u001b[0;34m]\u001b[0m\u001b[0;34m:\u001b[0m\u001b[0;34m\u001b[0m\u001b[0;34m\u001b[0m\u001b[0m\n\u001b[0;32m-> 3196\u001b[0;31m             \u001b[0mself\u001b[0m\u001b[0;34m.\u001b[0m\u001b[0myaxis\u001b[0m\u001b[0;34m.\u001b[0m\u001b[0mgrid\u001b[0m\u001b[0;34m(\u001b[0m\u001b[0mvisible\u001b[0m\u001b[0;34m,\u001b[0m \u001b[0mwhich\u001b[0m\u001b[0;34m=\u001b[0m\u001b[0mwhich\u001b[0m\u001b[0;34m,\u001b[0m \u001b[0;34m**\u001b[0m\u001b[0mkwargs\u001b[0m\u001b[0;34m)\u001b[0m\u001b[0;34m\u001b[0m\u001b[0;34m\u001b[0m\u001b[0m\n\u001b[0m\u001b[1;32m   3197\u001b[0m \u001b[0;34m\u001b[0m\u001b[0m\n\u001b[1;32m   3198\u001b[0m     def ticklabel_format(self, *, axis='both', style='', scilimits=None,\n",
            "\u001b[0;32m/usr/local/lib/python3.10/dist-packages/matplotlib/axis.py\u001b[0m in \u001b[0;36mgrid\u001b[0;34m(self, visible, which, **kwargs)\u001b[0m\n\u001b[1;32m   1658\u001b[0m             gridkw['gridOn'] = (not self._major_tick_kw['gridOn']\n\u001b[1;32m   1659\u001b[0m                                 if visible is None else visible)\n\u001b[0;32m-> 1660\u001b[0;31m             \u001b[0mself\u001b[0m\u001b[0;34m.\u001b[0m\u001b[0mset_tick_params\u001b[0m\u001b[0;34m(\u001b[0m\u001b[0mwhich\u001b[0m\u001b[0;34m=\u001b[0m\u001b[0;34m'major'\u001b[0m\u001b[0;34m,\u001b[0m \u001b[0;34m**\u001b[0m\u001b[0mgridkw\u001b[0m\u001b[0;34m)\u001b[0m\u001b[0;34m\u001b[0m\u001b[0;34m\u001b[0m\u001b[0m\n\u001b[0m\u001b[1;32m   1661\u001b[0m         \u001b[0mself\u001b[0m\u001b[0;34m.\u001b[0m\u001b[0mstale\u001b[0m \u001b[0;34m=\u001b[0m \u001b[0;32mTrue\u001b[0m\u001b[0;34m\u001b[0m\u001b[0;34m\u001b[0m\u001b[0m\n\u001b[1;32m   1662\u001b[0m \u001b[0;34m\u001b[0m\u001b[0m\n",
            "\u001b[0;32m/usr/local/lib/python3.10/dist-packages/matplotlib/axis.py\u001b[0m in \u001b[0;36mset_tick_params\u001b[0;34m(self, which, reset, **kwargs)\u001b[0m\n\u001b[1;32m    945\u001b[0m             \u001b[0;32mif\u001b[0m \u001b[0mwhich\u001b[0m \u001b[0;32min\u001b[0m \u001b[0;34m[\u001b[0m\u001b[0;34m'major'\u001b[0m\u001b[0;34m,\u001b[0m \u001b[0;34m'both'\u001b[0m\u001b[0;34m]\u001b[0m\u001b[0;34m:\u001b[0m\u001b[0;34m\u001b[0m\u001b[0;34m\u001b[0m\u001b[0m\n\u001b[1;32m    946\u001b[0m                 \u001b[0mself\u001b[0m\u001b[0;34m.\u001b[0m\u001b[0m_major_tick_kw\u001b[0m\u001b[0;34m.\u001b[0m\u001b[0mupdate\u001b[0m\u001b[0;34m(\u001b[0m\u001b[0mkwtrans\u001b[0m\u001b[0;34m)\u001b[0m\u001b[0;34m\u001b[0m\u001b[0;34m\u001b[0m\u001b[0m\n\u001b[0;32m--> 947\u001b[0;31m                 \u001b[0;32mfor\u001b[0m \u001b[0mtick\u001b[0m \u001b[0;32min\u001b[0m \u001b[0mself\u001b[0m\u001b[0;34m.\u001b[0m\u001b[0mmajorTicks\u001b[0m\u001b[0;34m:\u001b[0m\u001b[0;34m\u001b[0m\u001b[0;34m\u001b[0m\u001b[0m\n\u001b[0m\u001b[1;32m    948\u001b[0m                     \u001b[0mtick\u001b[0m\u001b[0;34m.\u001b[0m\u001b[0m_apply_params\u001b[0m\u001b[0;34m(\u001b[0m\u001b[0;34m**\u001b[0m\u001b[0mkwtrans\u001b[0m\u001b[0;34m)\u001b[0m\u001b[0;34m\u001b[0m\u001b[0;34m\u001b[0m\u001b[0m\n\u001b[1;32m    949\u001b[0m             \u001b[0;32mif\u001b[0m \u001b[0mwhich\u001b[0m \u001b[0;32min\u001b[0m \u001b[0;34m[\u001b[0m\u001b[0;34m'minor'\u001b[0m\u001b[0;34m,\u001b[0m \u001b[0;34m'both'\u001b[0m\u001b[0;34m]\u001b[0m\u001b[0;34m:\u001b[0m\u001b[0;34m\u001b[0m\u001b[0;34m\u001b[0m\u001b[0m\n",
            "\u001b[0;32m/usr/local/lib/python3.10/dist-packages/matplotlib/axis.py\u001b[0m in \u001b[0;36m__get__\u001b[0;34m(self, instance, cls)\u001b[0m\n\u001b[1;32m    592\u001b[0m             \u001b[0;32mif\u001b[0m \u001b[0mself\u001b[0m\u001b[0;34m.\u001b[0m\u001b[0m_major\u001b[0m\u001b[0;34m:\u001b[0m\u001b[0;34m\u001b[0m\u001b[0;34m\u001b[0m\u001b[0m\n\u001b[1;32m    593\u001b[0m                 \u001b[0minstance\u001b[0m\u001b[0;34m.\u001b[0m\u001b[0mmajorTicks\u001b[0m \u001b[0;34m=\u001b[0m \u001b[0;34m[\u001b[0m\u001b[0;34m]\u001b[0m\u001b[0;34m\u001b[0m\u001b[0;34m\u001b[0m\u001b[0m\n\u001b[0;32m--> 594\u001b[0;31m                 \u001b[0mtick\u001b[0m \u001b[0;34m=\u001b[0m \u001b[0minstance\u001b[0m\u001b[0;34m.\u001b[0m\u001b[0m_get_tick\u001b[0m\u001b[0;34m(\u001b[0m\u001b[0mmajor\u001b[0m\u001b[0;34m=\u001b[0m\u001b[0;32mTrue\u001b[0m\u001b[0;34m)\u001b[0m\u001b[0;34m\u001b[0m\u001b[0;34m\u001b[0m\u001b[0m\n\u001b[0m\u001b[1;32m    595\u001b[0m                 \u001b[0minstance\u001b[0m\u001b[0;34m.\u001b[0m\u001b[0mmajorTicks\u001b[0m\u001b[0;34m.\u001b[0m\u001b[0mappend\u001b[0m\u001b[0;34m(\u001b[0m\u001b[0mtick\u001b[0m\u001b[0;34m)\u001b[0m\u001b[0;34m\u001b[0m\u001b[0;34m\u001b[0m\u001b[0m\n\u001b[1;32m    596\u001b[0m                 \u001b[0;32mreturn\u001b[0m \u001b[0minstance\u001b[0m\u001b[0;34m.\u001b[0m\u001b[0mmajorTicks\u001b[0m\u001b[0;34m\u001b[0m\u001b[0;34m\u001b[0m\u001b[0m\n",
            "\u001b[0;32m/usr/local/lib/python3.10/dist-packages/matplotlib/axis.py\u001b[0m in \u001b[0;36m_get_tick\u001b[0;34m(self, major)\u001b[0m\n\u001b[1;32m   1549\u001b[0m                 \"_tick_class or reimplement _get_tick()\")\n\u001b[1;32m   1550\u001b[0m         \u001b[0mtick_kw\u001b[0m \u001b[0;34m=\u001b[0m \u001b[0mself\u001b[0m\u001b[0;34m.\u001b[0m\u001b[0m_major_tick_kw\u001b[0m \u001b[0;32mif\u001b[0m \u001b[0mmajor\u001b[0m \u001b[0;32melse\u001b[0m \u001b[0mself\u001b[0m\u001b[0;34m.\u001b[0m\u001b[0m_minor_tick_kw\u001b[0m\u001b[0;34m\u001b[0m\u001b[0;34m\u001b[0m\u001b[0m\n\u001b[0;32m-> 1551\u001b[0;31m         \u001b[0;32mreturn\u001b[0m \u001b[0mself\u001b[0m\u001b[0;34m.\u001b[0m\u001b[0m_tick_class\u001b[0m\u001b[0;34m(\u001b[0m\u001b[0mself\u001b[0m\u001b[0;34m.\u001b[0m\u001b[0maxes\u001b[0m\u001b[0;34m,\u001b[0m \u001b[0;36m0\u001b[0m\u001b[0;34m,\u001b[0m \u001b[0mmajor\u001b[0m\u001b[0;34m=\u001b[0m\u001b[0mmajor\u001b[0m\u001b[0;34m,\u001b[0m \u001b[0;34m**\u001b[0m\u001b[0mtick_kw\u001b[0m\u001b[0;34m)\u001b[0m\u001b[0;34m\u001b[0m\u001b[0;34m\u001b[0m\u001b[0m\n\u001b[0m\u001b[1;32m   1552\u001b[0m \u001b[0;34m\u001b[0m\u001b[0m\n\u001b[1;32m   1553\u001b[0m     \u001b[0;32mdef\u001b[0m \u001b[0m_get_tick_label_size\u001b[0m\u001b[0;34m(\u001b[0m\u001b[0mself\u001b[0m\u001b[0;34m,\u001b[0m \u001b[0maxis_name\u001b[0m\u001b[0;34m)\u001b[0m\u001b[0;34m:\u001b[0m\u001b[0;34m\u001b[0m\u001b[0;34m\u001b[0m\u001b[0m\n",
            "\u001b[0;32m/usr/local/lib/python3.10/dist-packages/matplotlib/axis.py\u001b[0m in \u001b[0;36m__init__\u001b[0;34m(self, *args, **kwargs)\u001b[0m\n\u001b[1;32m    476\u001b[0m \u001b[0;34m\u001b[0m\u001b[0m\n\u001b[1;32m    477\u001b[0m     \u001b[0;32mdef\u001b[0m \u001b[0m__init__\u001b[0m\u001b[0;34m(\u001b[0m\u001b[0mself\u001b[0m\u001b[0;34m,\u001b[0m \u001b[0;34m*\u001b[0m\u001b[0margs\u001b[0m\u001b[0;34m,\u001b[0m \u001b[0;34m**\u001b[0m\u001b[0mkwargs\u001b[0m\u001b[0;34m)\u001b[0m\u001b[0;34m:\u001b[0m\u001b[0;34m\u001b[0m\u001b[0;34m\u001b[0m\u001b[0m\n\u001b[0;32m--> 478\u001b[0;31m         \u001b[0msuper\u001b[0m\u001b[0;34m(\u001b[0m\u001b[0;34m)\u001b[0m\u001b[0;34m.\u001b[0m\u001b[0m__init__\u001b[0m\u001b[0;34m(\u001b[0m\u001b[0;34m*\u001b[0m\u001b[0margs\u001b[0m\u001b[0;34m,\u001b[0m \u001b[0;34m**\u001b[0m\u001b[0mkwargs\u001b[0m\u001b[0;34m)\u001b[0m\u001b[0;34m\u001b[0m\u001b[0;34m\u001b[0m\u001b[0m\n\u001b[0m\u001b[1;32m    479\u001b[0m         \u001b[0;31m# x in axes coords, y in data coords\u001b[0m\u001b[0;34m\u001b[0m\u001b[0;34m\u001b[0m\u001b[0m\n\u001b[1;32m    480\u001b[0m         \u001b[0max\u001b[0m \u001b[0;34m=\u001b[0m \u001b[0mself\u001b[0m\u001b[0;34m.\u001b[0m\u001b[0maxes\u001b[0m\u001b[0;34m\u001b[0m\u001b[0;34m\u001b[0m\u001b[0m\n",
            "\u001b[0;32m/usr/local/lib/python3.10/dist-packages/matplotlib/axis.py\u001b[0m in \u001b[0;36m__init__\u001b[0;34m(self, axes, loc, size, width, color, tickdir, pad, labelsize, labelcolor, zorder, gridOn, tick1On, tick2On, label1On, label2On, major, labelrotation, grid_color, grid_linestyle, grid_linewidth, grid_alpha, **kwargs)\u001b[0m\n\u001b[1;32m     84\u001b[0m         \u001b[0msize\u001b[0m \u001b[0;32mis\u001b[0m \u001b[0mthe\u001b[0m \u001b[0mtick\u001b[0m \u001b[0msize\u001b[0m \u001b[0;32min\u001b[0m \u001b[0mpoints\u001b[0m\u001b[0;34m\u001b[0m\u001b[0;34m\u001b[0m\u001b[0m\n\u001b[1;32m     85\u001b[0m         \"\"\"\n\u001b[0;32m---> 86\u001b[0;31m         \u001b[0msuper\u001b[0m\u001b[0;34m(\u001b[0m\u001b[0;34m)\u001b[0m\u001b[0;34m.\u001b[0m\u001b[0m__init__\u001b[0m\u001b[0;34m(\u001b[0m\u001b[0;34m)\u001b[0m\u001b[0;34m\u001b[0m\u001b[0;34m\u001b[0m\u001b[0m\n\u001b[0m\u001b[1;32m     87\u001b[0m \u001b[0;34m\u001b[0m\u001b[0m\n\u001b[1;32m     88\u001b[0m         \u001b[0;32mif\u001b[0m \u001b[0mgridOn\u001b[0m \u001b[0;32mis\u001b[0m \u001b[0;32mNone\u001b[0m\u001b[0;34m:\u001b[0m\u001b[0;34m\u001b[0m\u001b[0;34m\u001b[0m\u001b[0m\n",
            "\u001b[0;32m/usr/local/lib/python3.10/dist-packages/matplotlib/artist.py\u001b[0m in \u001b[0;36m__init__\u001b[0;34m(self)\u001b[0m\n\u001b[1;32m    209\u001b[0m         \u001b[0mself\u001b[0m\u001b[0;34m.\u001b[0m\u001b[0m_gid\u001b[0m \u001b[0;34m=\u001b[0m \u001b[0;32mNone\u001b[0m\u001b[0;34m\u001b[0m\u001b[0;34m\u001b[0m\u001b[0m\n\u001b[1;32m    210\u001b[0m         \u001b[0mself\u001b[0m\u001b[0;34m.\u001b[0m\u001b[0m_snap\u001b[0m \u001b[0;34m=\u001b[0m \u001b[0;32mNone\u001b[0m\u001b[0;34m\u001b[0m\u001b[0;34m\u001b[0m\u001b[0m\n\u001b[0;32m--> 211\u001b[0;31m         \u001b[0mself\u001b[0m\u001b[0;34m.\u001b[0m\u001b[0m_sketch\u001b[0m \u001b[0;34m=\u001b[0m \u001b[0mmpl\u001b[0m\u001b[0;34m.\u001b[0m\u001b[0mrcParams\u001b[0m\u001b[0;34m[\u001b[0m\u001b[0;34m'path.sketch'\u001b[0m\u001b[0;34m]\u001b[0m\u001b[0;34m\u001b[0m\u001b[0;34m\u001b[0m\u001b[0m\n\u001b[0m\u001b[1;32m    212\u001b[0m         \u001b[0mself\u001b[0m\u001b[0;34m.\u001b[0m\u001b[0m_path_effects\u001b[0m \u001b[0;34m=\u001b[0m \u001b[0mmpl\u001b[0m\u001b[0;34m.\u001b[0m\u001b[0mrcParams\u001b[0m\u001b[0;34m[\u001b[0m\u001b[0;34m'path.effects'\u001b[0m\u001b[0;34m]\u001b[0m\u001b[0;34m\u001b[0m\u001b[0;34m\u001b[0m\u001b[0m\n\u001b[1;32m    213\u001b[0m         \u001b[0mself\u001b[0m\u001b[0;34m.\u001b[0m\u001b[0m_sticky_edges\u001b[0m \u001b[0;34m=\u001b[0m \u001b[0m_XYPair\u001b[0m\u001b[0;34m(\u001b[0m\u001b[0;34m[\u001b[0m\u001b[0;34m]\u001b[0m\u001b[0;34m,\u001b[0m \u001b[0;34m[\u001b[0m\u001b[0;34m]\u001b[0m\u001b[0;34m)\u001b[0m\u001b[0;34m\u001b[0m\u001b[0;34m\u001b[0m\u001b[0m\n",
            "\u001b[0;32m/usr/local/lib/python3.10/dist-packages/matplotlib/__init__.py\u001b[0m in \u001b[0;36m__getitem__\u001b[0;34m(self, key)\u001b[0m\n\u001b[1;32m    723\u001b[0m                 f\"a list of valid parameters)\") from err\n\u001b[1;32m    724\u001b[0m \u001b[0;34m\u001b[0m\u001b[0m\n\u001b[0;32m--> 725\u001b[0;31m     \u001b[0;32mdef\u001b[0m \u001b[0m__getitem__\u001b[0m\u001b[0;34m(\u001b[0m\u001b[0mself\u001b[0m\u001b[0;34m,\u001b[0m \u001b[0mkey\u001b[0m\u001b[0;34m)\u001b[0m\u001b[0;34m:\u001b[0m\u001b[0;34m\u001b[0m\u001b[0;34m\u001b[0m\u001b[0m\n\u001b[0m\u001b[1;32m    726\u001b[0m         \u001b[0;32mif\u001b[0m \u001b[0mkey\u001b[0m \u001b[0;32min\u001b[0m \u001b[0m_deprecated_map\u001b[0m\u001b[0;34m:\u001b[0m\u001b[0;34m\u001b[0m\u001b[0;34m\u001b[0m\u001b[0m\n\u001b[1;32m    727\u001b[0m             \u001b[0mversion\u001b[0m\u001b[0;34m,\u001b[0m \u001b[0malt_key\u001b[0m\u001b[0;34m,\u001b[0m \u001b[0malt_val\u001b[0m\u001b[0;34m,\u001b[0m \u001b[0minverse_alt\u001b[0m \u001b[0;34m=\u001b[0m \u001b[0m_deprecated_map\u001b[0m\u001b[0;34m[\u001b[0m\u001b[0mkey\u001b[0m\u001b[0;34m]\u001b[0m\u001b[0;34m\u001b[0m\u001b[0;34m\u001b[0m\u001b[0m\n",
            "\u001b[0;31mKeyboardInterrupt\u001b[0m: "
          ]
        },
        {
          "output_type": "display_data",
          "data": {
            "text/plain": [
              "<Figure size 1000x400 with 0 Axes>"
            ]
          },
          "metadata": {}
        }
      ],
      "source": [
        "import os\n",
        "import pandas as pd\n",
        "import numpy as np\n",
        "import librosa\n",
        "import librosa.display\n",
        "from tqdm import tqdm\n",
        "import matplotlib.pyplot as plt\n",
        "import torch\n",
        "import torch.nn as nn\n",
        "import torch.nn.functional as F\n",
        "from torch.utils.data import DataLoader, Dataset\n",
        "from torchvision import transforms\n",
        "from PIL import Image\n",
        "from sklearn.calibration import calibration_curve\n",
        "from sklearn.metrics import mean_squared_error, roc_auc_score\n",
        "\n",
        "# Configuration\n",
        "class Config:\n",
        "    SR = 32000  # Sampling rate\n",
        "    N_MELS = 128  # Number of Mel bands\n",
        "    N_MFCC = 13\n",
        "    MAX_SEQ_LEN = 200  # Maximum sequence length for input to the model\n",
        "    ROOT_FOLDER = '/content/drive/MyDrive/dataset/TeamDeepwave/dataset/open/'  # Dataset root folder\n",
        "    SUBSET_SIZE = 50000  # Size of the subset to use\n",
        "    OUTPUT_FOLDER = '/content/drive/MyDrive/dataset/TeamDeepwave/dataset/preprocessed/'  # Folder to save PNG images\n",
        "    BATCH_SIZE = 64\n",
        "    N_EPOCHS = 10\n",
        "    LR = 1e-4\n",
        "\n",
        "CONFIG = Config()\n",
        "device = torch.device('cuda') if torch.cuda.is_available() else torch.device('cpu')\n",
        "\n",
        "# Ensure output directories exist\n",
        "os.makedirs(os.path.join(CONFIG.OUTPUT_FOLDER, 'train', 'real'), exist_ok=True)\n",
        "os.makedirs(os.path.join(CONFIG.OUTPUT_FOLDER, 'train', 'fake'), exist_ok=True)\n",
        "os.makedirs(os.path.join(CONFIG.OUTPUT_FOLDER, 'test'), exist_ok=True)\n",
        "\n",
        "# Model Definitions\n",
        "class BiLSTM(nn.Module):\n",
        "    def __init__(self, input_dim, hidden_dim, output_dim, n_layers, bidirectional, dropout):\n",
        "        super(BiLSTM, self).__init__()\n",
        "        self.lstm = nn.LSTM(input_dim, hidden_dim, n_layers, bidirectional=bidirectional, dropout=dropout, batch_first=True)\n",
        "        self.fc = nn.Linear(hidden_dim * 2, output_dim)  # hidden_dim * 2 because it's bidirectional\n",
        "        self.dropout = nn.Dropout(dropout)\n",
        "\n",
        "    def forward(self, x):\n",
        "        num_directions = 2 if self.lstm.bidirectional else 1\n",
        "        h_0 = torch.zeros(self.lstm.num_layers * num_directions, x.size(0), self.lstm.hidden_size).to(device)\n",
        "        c_0 = torch.zeros(self.lstm.num_layers * num_directions, x.size(0), self.lstm.hidden_size).to(device)\n",
        "\n",
        "        x = self.dropout(x)\n",
        "        lstm_out, _ = self.lstm(x, (h_0, c_0))\n",
        "        x = self.fc(self.dropout(lstm_out[:, -1, :]))\n",
        "        return x\n",
        "\n",
        "class CNN(nn.Module):\n",
        "    def __init__(self, output_dim):\n",
        "        super(CNN, self).__init__()\n",
        "        self.conv1 = nn.Conv2d(1, 32, kernel_size=3, stride=1, padding=1)\n",
        "        self.conv2 = nn.Conv2d(32, 64, kernel_size=3, stride=1, padding=1)\n",
        "        self.pool = nn.MaxPool2d(kernel_size=2, stride=2, padding=0)\n",
        "        self.fc1 = nn.Linear(64 * 32 * 32, 128)\n",
        "        self.fc2 = nn.Linear(128, output_dim)\n",
        "        self.dropout = nn.Dropout(0.5)\n",
        "\n",
        "    def forward(self, x):\n",
        "        x = self.pool(F.gelu(self.conv1(x)))  # Replace F.relu with F.gelu\n",
        "        x = self.pool(F.gelu(self.conv2(x)))  # Replace F.relu with F.gelu\n",
        "        x = x.view(-1, 64 * 32 * 32)\n",
        "        x = F.gelu(self.fc1(x))  # Replace F.relu with F.gelu\n",
        "        x = self.dropout(x)\n",
        "        x = self.fc2(x)\n",
        "        return x\n",
        "\n",
        "class CombinedModel(nn.Module):\n",
        "    def __init__(self, lstm_input_dim, lstm_hidden_dim, lstm_output_dim, lstm_n_layers, lstm_bidirectional, lstm_dropout, cnn_output_dim):\n",
        "        super(CombinedModel, self).__init__()\n",
        "        self.lstm = BiLSTM(lstm_input_dim, lstm_hidden_dim, lstm_output_dim, lstm_n_layers, lstm_bidirectional, lstm_dropout)\n",
        "        self.cnn = CNN(cnn_output_dim)\n",
        "        self.fc = nn.Linear(lstm_output_dim + cnn_output_dim, 2)\n",
        "\n",
        "    def forward(self, mfcc, mel):\n",
        "        lstm_out = torch.zeros(mfcc.size(0), 128).to(device)  # Dummy LSTM output if no MFCC is provided\n",
        "        if mfcc is not None:\n",
        "            mfcc = mfcc.permute(0, 2, 1)  # Change from (batch, channels, seq_len) to (batch, seq_len, input_dim)\n",
        "            lstm_out = self.lstm(mfcc)\n",
        "        cnn_out = self.cnn(mel)\n",
        "        combined = torch.cat((lstm_out, cnn_out), dim=1)\n",
        "        out = self.fc(combined)\n",
        "        return out\n",
        "\n",
        "# Data Loading and Preprocessing\n",
        "def load_train_file_paths_and_labels(csv_path, subset_size=CONFIG.SUBSET_SIZE):\n",
        "    df = pd.read_csv(csv_path)\n",
        "    print(\"CSV Columns:\", df.columns)  # Debug print to check columns\n",
        "    print(df.head())  # Print first few rows to check structure\n",
        "    df_subset = df.sample(n=subset_size)\n",
        "    file_paths = df_subset['path'].apply(lambda x: os.path.join(CONFIG.ROOT_FOLDER, x)).tolist()\n",
        "    labels = df_subset['label'].tolist()\n",
        "    return file_paths, labels\n",
        "\n",
        "def load_test_file_paths(csv_path, subset_size=CONFIG.SUBSET_SIZE):\n",
        "    df = pd.read_csv(csv_path)\n",
        "    print(\"CSV Columns:\", df.columns)  # Debug print to check columns\n",
        "    print(df.head())  # Print first few rows to check structure\n",
        "    df_subset = df.sample(n=subset_size)\n",
        "    file_paths = df_subset['path'].apply(lambda x: os.path.join(CONFIG.ROOT_FOLDER, x)).tolist()\n",
        "    return file_paths\n",
        "\n",
        "def save_mel_spectrogram(file_path, label, output_folder, is_test=False):\n",
        "    try:\n",
        "        print(f\"Processing file: {file_path}\")  # Debug print\n",
        "        y, sr = librosa.load(file_path, sr=CONFIG.SR)\n",
        "        mel_spectrogram = librosa.feature.melspectrogram(y=y, sr=sr, n_mels=CONFIG.N_MELS)\n",
        "        mel_spectrogram_db = librosa.power_to_db(mel_spectrogram, ref=np.max)\n",
        "\n",
        "        plt.figure(figsize=(10, 4))\n",
        "        librosa.display.specshow(mel_spectrogram_db, sr=sr, x_axis='time', y_axis='mel')\n",
        "        plt.colorbar(format='%+2.0f dB')\n",
        "        plt.title('Mel-spectrogram')\n",
        "        plt.tight_layout()\n",
        "\n",
        "        filename = os.path.basename(file_path).replace('.ogg', '.png')\n",
        "        if is_test:\n",
        "            output_path = os.path.join(output_folder, filename)\n",
        "        else:\n",
        "            if label == 'fake':\n",
        "                output_path = os.path.join(output_folder, 'fake', filename)\n",
        "            else:\n",
        "                output_path = os.path.join(output_folder, 'real', filename)\n",
        "\n",
        "        # Ensure the directory exists\n",
        "        os.makedirs(os.path.dirname(output_path), exist_ok=True)\n",
        "\n",
        "        plt.savefig(output_path)\n",
        "        plt.close()\n",
        "        print(f\"Saved file: {output_path}\")  # Debug print\n",
        "\n",
        "    except Exception as e:\n",
        "        print(f\"Error processing file {file_path}: {e}\")\n",
        "\n",
        "train_files, train_labels = load_train_file_paths_and_labels('/content/drive/MyDrive/dataset/TeamDeepwave/dataset/open/train.csv')\n",
        "test_files = load_test_file_paths('/content/drive/MyDrive/dataset/TeamDeepwave/dataset/open/test.csv')\n",
        "\n",
        "# Save Mel-spectrograms as PNG images for training data\n",
        "for file_path, label in tqdm(zip(train_files, train_labels), total=len(train_files)):\n",
        "    save_mel_spectrogram(file_path, label, os.path.join(CONFIG.OUTPUT_FOLDER, 'train'))\n",
        "\n",
        "# Save Mel-spectrograms as PNG images for testing data\n",
        "for file_path in tqdm(test_files, total=len(test_files)):\n",
        "    save_mel_spectrogram(file_path, None, os.path.join(CONFIG.OUTPUT_FOLDER, 'test'), is_test=True)\n",
        "\n",
        "print('Mel-spectrogram images saved successfully.')"
      ]
    },
    {
      "cell_type": "code",
      "source": [
        "# Dataset Class for Model Training\n",
        "class CustomDataset(Dataset):\n",
        "    def __init__(self, mfcc_files, mel_files, labels=None, transform=None):\n",
        "        self.mfcc_files = mfcc_files\n",
        "        self.mel_files = mel_files\n",
        "        self.labels = labels\n",
        "        self.transform = transform\n",
        "\n",
        "    def __len__(self):\n",
        "        return len(self.mel_files)\n",
        "\n",
        "    def __getitem__(self, idx):\n",
        "        mel_image = Image.open(self.mel_files[idx]).convert('L')  # Convert to grayscale\n",
        "        if self.transform:\n",
        "            mel_image = self.transform(mel_image)\n",
        "\n",
        "        if self.labels is not None:\n",
        "            label = torch.tensor(self.labels[idx], dtype=torch.float32)\n",
        "            mfcc = torch.zeros((CONFIG.N_MFCC, CONFIG.MAX_SEQ_LEN))\n",
        "            return mfcc, mel_image, label\n",
        "        return mel_image\n",
        "\n",
        "# Training and validation functions\n",
        "def train(model, loader, criterion, optimizer, device):\n",
        "    model.train()\n",
        "    epoch_loss = 0\n",
        "    correct = 0\n",
        "    total = 0\n",
        "    for mfcc, mel, labels in loader:\n",
        "        mfcc, mel, labels = mfcc.to(device), mel.to(device), labels.to(device)\n",
        "        optimizer.zero_grad()\n",
        "        outputs = model(mfcc, mel)\n",
        "        loss = criterion(outputs, labels)\n",
        "        loss.backward()\n",
        "        optimizer.step()\n",
        "        epoch_loss += loss.item()\n",
        "        _, predicted = torch.max(outputs.data, 1)\n",
        "        _, labels = torch.max(labels.data, 1)\n",
        "        total += labels.size(0)\n",
        "        correct += (predicted == labels).sum().item()\n",
        "    accuracy = correct / total if total > 0 else 0  # Avoid division by zero\n",
        "    return epoch_loss / len(loader) if len(loader) > 0 else 0, accuracy\n",
        "\n",
        "def evaluate(model, loader, criterion, device):\n",
        "    model.eval()\n",
        "    epoch_loss = 0\n",
        "    correct = 0\n",
        "    total = 0\n",
        "    with torch.no_grad():\n",
        "        for mfcc, mel, labels in loader:\n",
        "            mfcc, mel, labels = mfcc.to(device), mel.to(device), labels.to(device)\n",
        "            outputs = model(mfcc, mel)\n",
        "            loss = criterion(outputs, labels)\n",
        "            epoch_loss += loss.item()\n",
        "            _, predicted = torch.max(outputs.data, 1)\n",
        "            _, labels = torch.max(labels.data, 1)\n",
        "            total += labels.size(0)\n",
        "            correct += (predicted == labels).sum().item()\n",
        "    accuracy = correct / total if total > 0 else 0  # Avoid division by zero\n",
        "    return epoch_loss / len(loader) if len(loader) > 0 else 0, accuracy\n",
        "\n",
        "# Main training loop\n",
        "def main():\n",
        "    # Load train data\n",
        "    train_files, train_labels = load_train_file_paths_and_labels('/content/drive/MyDrive/dataset/TeamDeepwave/dataset/open/train.csv')\n",
        "\n",
        "    transform = transforms.Compose([\n",
        "        transforms.Resize((128, 128)),\n",
        "        transforms.ToTensor(),\n",
        "        transforms.Normalize(mean=[0.5], std=[0.5])  # Grayscale normalization\n",
        "    ])\n",
        "\n",
        "    train_dataset = CustomDataset(train_files, train_files, train_labels, transform=transform)\n",
        "    train_loader = DataLoader(train_dataset, batch_size=CONFIG.BATCH_SIZE, shuffle=True)\n",
        "\n",
        "    # Model initialization\n",
        "    model = CombinedModel(\n",
        "        lstm_input_dim=CONFIG.N_MFCC,\n",
        "        lstm_hidden_dim=128,\n",
        "        lstm_output_dim=128,\n",
        "        lstm_n_layers=2,\n",
        "        lstm_bidirectional=True,\n",
        "        lstm_dropout=0.5,\n",
        "        cnn_output_dim=128\n",
        "    ).to(device)\n",
        "\n",
        "    criterion = nn.CrossEntropyLoss()\n",
        "    optimizer = optim.Adam(model.parameters(), lr=CONFIG.LR)\n",
        "\n",
        "    # Training loop\n",
        "    best_valid_loss = float('inf')\n",
        "    for epoch in range(CONFIG.N_EPOCHS):\n",
        "        train_loss, train_acc = train(model, train_loader, criterion, optimizer, device)\n",
        "        # Assuming you have validation data and loader (val_loader)\n",
        "        # valid_loss, valid_acc = evaluate(model, val_loader, criterion, device)\n",
        "\n",
        "        # if valid_loss < best_valid_loss:\n",
        "        #     best_valid_loss = valid_loss\n",
        "        #     torch.save(model.state_dict(), 'best-model.pt')\n",
        "\n",
        "        print(f'Epoch {epoch+1}')\n",
        "        print(f'\\tTrain Loss: {train_loss:.3f} | Train Acc: {train_acc*100:.2f}%')\n",
        "        # print(f'\\t Val. Loss: {valid_loss:.3f} |  Val. Acc: {valid_acc*100:.2f}%')\n",
        "\n",
        "    # Save the model weights in .h5 format\n",
        "    model_path = 'model_weights.h5'\n",
        "    torch.save(model.state_dict(), model_path)\n",
        "    print(f'Model weights saved to {model_path}')\n",
        "\n",
        "if __name__ == \"__main__\":\n",
        "    main()\n",
        "\n",
        "# Submission creation functions\n",
        "class TestDataset(Dataset):\n",
        "    def __init__(self, mel_files, transform=None):\n",
        "        self.mel_files = mel_files\n",
        "        self.transform = transform\n",
        "\n",
        "    def __len__(self):\n",
        "        return len(self.mel_files)\n",
        "\n",
        "    def __getitem__(self, idx):\n",
        "        mel_image = Image.open(self.mel_files[idx]).convert('L')  # Convert to grayscale\n",
        "        if self.transform:\n",
        "            mel_image = self.transform(mel_image)\n",
        "        return mel_image\n",
        "\n",
        "def load_model(model_path):\n",
        "    model = CombinedModel(\n",
        "        lstm_input_dim=CONFIG.N_MFCC,\n",
        "        lstm_hidden_dim=128,\n",
        "        lstm_output_dim=128,\n",
        "        lstm_n_layers=2,\n",
        "        lstm_bidirectional=True,\n",
        "        lstm_dropout=0.5,\n",
        "        cnn_output_dim=128\n",
        "    ).to(device)\n",
        "    model.load_state_dict(torch.load(model_path))\n",
        "    model.eval()\n",
        "    return model\n",
        "\n",
        "def predict_probabilities(model, data_loader, device='cpu'):\n",
        "    all_probs = []\n",
        "    with torch.no_grad():\n",
        "        for mel in data_loader:\n",
        "            mel = mel.to(device)\n",
        "            outputs = model(None, mel)\n",
        "            prob = torch.nn.functional.softmax(outputs, dim=1)\n",
        "            all_probs.append(prob.cpu().numpy())\n",
        "    return np.concatenate(all_probs)\n",
        "\n",
        "def generate_submission_file(test_files, predicted_probabilities, output_file='submission.csv'):\n",
        "    test_ids = [os.path.basename(f).replace('.ogg', '') for f in test_files]\n",
        "    submission_df = pd.DataFrame(predicted_probabilities, columns=['fake', 'real'])\n",
        "    submission_df.insert(0, 'id', test_ids)\n",
        "    submission_df.to_csv(output_file, index=False)\n",
        "    print(f'Submission file created successfully: {output_file}')\n",
        "\n",
        "def create_submission():\n",
        "    model_path = 'model_weights.h5'\n",
        "    test_csv = '/content/drive/MyDrive/dataset/TeamDeepwave/dataset/open/test.csv'\n",
        "    output_file = 'submission.csv'\n",
        "\n",
        "    # Load test file paths\n",
        "    df = pd.read_csv(test_csv)\n",
        "    test_files = df['path'].apply(lambda x: os.path.join(CONFIG.ROOT_FOLDER, x)).tolist()\n",
        "\n",
        "    # Preprocess test data\n",
        "    transform = transforms.Compose([\n",
        "        transforms.Resize((128, 128)),\n",
        "        transforms.ToTensor(),\n",
        "        transforms.Normalize(mean=[0.5], std=[0.5])  # Grayscale normalization\n",
        "    ])\n",
        "\n",
        "    test_dataset = TestDataset(test_files, transform=transform)\n",
        "    test_loader = DataLoader(test_dataset, batch_size=CONFIG.BATCH_SIZE, shuffle=False)\n",
        "\n",
        "    # Load model\n",
        "    model = load_model(model_path)\n",
        "\n",
        "    # Predict probabilities\n",
        "    predicted_probabilities = predict_probabilities(model, test_loader, device=device)\n",
        "\n",
        "    # Generate submission file\n",
        "    generate_submission_file(test_files, predicted_probabilities, output_file)\n",
        "\n",
        "# Generate the submission file\n",
        "create_submission()\n",
        "\n",
        "# Official Evaluation Code\n",
        "def expected_calibration_error(y_true, y_prob, n_bins=10):\n",
        "    prob_true, prob_pred = calibration_curve(y_true, y_prob, n_bins=n_bins, strategy='uniform')\n",
        "    bin_totals = np.histogram(y_prob, bins=np.linspace(0, 1, n_bins + 1), density=False)[0]\n",
        "    non_empty_bins = bin_totals > 0\n",
        "    bin_weights = bin_totals / len(y_prob)\n",
        "    bin_weights = bin_weights[non_empty_bins]\n",
        "    prob_true = prob_true[:len(bin_weights)]\n",
        "    prob_pred = prob_pred[:len(bin_weights)]\n",
        "    ece = np.sum(bin_weights * np.abs(prob_true - prob_pred))\n",
        "    return ece\n",
        "\n",
        "def auc_brier_ece(answer_df, submission_df):\n",
        "    # Check for missing values in submission_df\n",
        "    if submission_df.isnull().values.any():\n",
        "        raise ValueError(\"The submission dataframe contains missing values.\")\n",
        "\n",
        "    # Check if the number and names of columns are the same in both dataframes\n",
        "    if len(answer_df.columns) != len(submission_df.columns) or not all(answer_df.columns == submission_df.columns):\n",
        "        raise ValueError(\"The columns of the answer and submission dataframes do not match.\")\n",
        "\n",
        "    submission_df = submission_df[submission_df.iloc[:, 0].isin(answer_df.iloc[:, 0])]\n",
        "    submission_df.index = range(submission_df.shape[0])\n",
        "\n",
        "    # Calculate AUC for each class\n",
        "    auc_scores = []\n",
        "    for column in answer_df.columns[1:]:\n",
        "        y_true = answer_df[column]\n",
        "        y_scores = submission_df[column]\n",
        "        auc = roc_auc_score(y_true, y_scores)\n",
        "        auc_scores.append(auc)\n",
        "\n",
        "    # Calculate mean AUC\n",
        "    mean_auc = np.mean(auc_scores)\n",
        "\n",
        "    brier_scores = []\n",
        "    ece_scores = []\n",
        "\n",
        "    # Calculate Brier Score and ECE for each class\n",
        "    for column in answer_df.columns[1:]:\n",
        "        y_true = answer_df[column].values\n",
        "        y_prob = submission_df[column].values\n",
        "\n",
        "        # Brier Score\n",
        "        brier = mean_squared_error(y_true, y_prob)\n",
        "        brier_scores.append(brier)\n",
        "\n",
        "        # ECE\n",
        "        ece = expected_calibration_error(y_true, y_prob)\n",
        "        ece_scores.append(ece)\n",
        "\n",
        "    # Calculate mean Brier Score and mean ECE\n",
        "    mean_brier = np.mean(brier_scores)\n",
        "    mean_ece = np.mean(ece_scores)\n",
        "\n",
        "    # Calculate combined score\n",
        "    combined_score = 0.5 * (1 - mean_auc) + 0.25 * mean_brier + 0.25 * mean_ece\n",
        "\n",
        "    return combined_score\n",
        "\n",
        "# Function to evaluate the model using the official evaluation metric\n",
        "def evaluate_submission(answer_csv, submission_csv):\n",
        "    answer_df = pd.read_csv(answer_csv)\n",
        "    submission_df = pd.read_csv(submission_csv)\n",
        "    score = auc_brier_ece(answer_df, submission_df)\n",
        "    print(f'Evaluation Score: {score:.4f}')\n",
        "    return score\n",
        "\n",
        "def main_evaluation():\n",
        "    answer_csv = '/content/drive/MyDrive/dataset/TeamDeepwave/dataset/open/answer.csv'\n",
        "    submission_csv = 'submission.csv'\n",
        "    score = evaluate_submission(answer_csv, submission_csv)\n",
        "    print(f'Final Evaluation Score: {score:.4f}')\n",
        "\n",
        "# Call the main_evaluation function to evaluate the submission\n",
        "main_evaluation()\n"
      ],
      "metadata": {
        "colab": {
          "base_uri": "https://localhost:8080/",
          "height": 341
        },
        "id": "0K-4Kth9cQmn",
        "outputId": "bd0b0ae8-b932-440b-eaae-1b7e46ec39c3"
      },
      "execution_count": null,
      "outputs": [
        {
          "output_type": "error",
          "ename": "NameError",
          "evalue": "name 'load_train_file_paths_and_labels' is not defined",
          "traceback": [
            "\u001b[0;31m---------------------------------------------------------------------------\u001b[0m",
            "\u001b[0;31mNameError\u001b[0m                                 Traceback (most recent call last)",
            "\u001b[0;32m<ipython-input-2-5d1d96e8762c>\u001b[0m in \u001b[0;36m<cell line: 110>\u001b[0;34m()\u001b[0m\n\u001b[1;32m    109\u001b[0m \u001b[0;34m\u001b[0m\u001b[0m\n\u001b[1;32m    110\u001b[0m \u001b[0;32mif\u001b[0m \u001b[0m__name__\u001b[0m \u001b[0;34m==\u001b[0m \u001b[0;34m\"__main__\"\u001b[0m\u001b[0;34m:\u001b[0m\u001b[0;34m\u001b[0m\u001b[0;34m\u001b[0m\u001b[0m\n\u001b[0;32m--> 111\u001b[0;31m     \u001b[0mmain\u001b[0m\u001b[0;34m(\u001b[0m\u001b[0;34m)\u001b[0m\u001b[0;34m\u001b[0m\u001b[0;34m\u001b[0m\u001b[0m\n\u001b[0m\u001b[1;32m    112\u001b[0m \u001b[0;34m\u001b[0m\u001b[0m\n\u001b[1;32m    113\u001b[0m \u001b[0;31m# Submission creation functions\u001b[0m\u001b[0;34m\u001b[0m\u001b[0;34m\u001b[0m\u001b[0m\n",
            "\u001b[0;32m<ipython-input-2-5d1d96e8762c>\u001b[0m in \u001b[0;36mmain\u001b[0;34m()\u001b[0m\n\u001b[1;32m     63\u001b[0m \u001b[0;32mdef\u001b[0m \u001b[0mmain\u001b[0m\u001b[0;34m(\u001b[0m\u001b[0;34m)\u001b[0m\u001b[0;34m:\u001b[0m\u001b[0;34m\u001b[0m\u001b[0;34m\u001b[0m\u001b[0m\n\u001b[1;32m     64\u001b[0m     \u001b[0;31m# Load train data\u001b[0m\u001b[0;34m\u001b[0m\u001b[0;34m\u001b[0m\u001b[0m\n\u001b[0;32m---> 65\u001b[0;31m     \u001b[0mtrain_files\u001b[0m\u001b[0;34m,\u001b[0m \u001b[0mtrain_labels\u001b[0m \u001b[0;34m=\u001b[0m \u001b[0mload_train_file_paths_and_labels\u001b[0m\u001b[0;34m(\u001b[0m\u001b[0;34m'/content/drive/MyDrive/dataset/TeamDeepwave/dataset/open/train.csv'\u001b[0m\u001b[0;34m)\u001b[0m\u001b[0;34m\u001b[0m\u001b[0;34m\u001b[0m\u001b[0m\n\u001b[0m\u001b[1;32m     66\u001b[0m \u001b[0;34m\u001b[0m\u001b[0m\n\u001b[1;32m     67\u001b[0m     transform = transforms.Compose([\n",
            "\u001b[0;31mNameError\u001b[0m: name 'load_train_file_paths_and_labels' is not defined"
          ]
        }
      ]
    },
    {
      "cell_type": "code",
      "source": [],
      "metadata": {
        "id": "FLsrrnfdXcc8"
      },
      "execution_count": null,
      "outputs": []
    }
  ]
}